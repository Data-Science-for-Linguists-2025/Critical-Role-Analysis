{
 "cells": [
  {
   "cell_type": "code",
   "execution_count": 1,
   "id": "8042041e",
   "metadata": {},
   "outputs": [],
   "source": [
    "import pickle\n",
    "import pandas as pd\n",
    "import re"
   ]
  },
  {
   "cell_type": "code",
   "execution_count": 2,
   "id": "76733190",
   "metadata": {},
   "outputs": [
    {
     "data": {
      "text/html": [
       "<div>\n",
       "<style scoped>\n",
       "    .dataframe tbody tr th:only-of-type {\n",
       "        vertical-align: middle;\n",
       "    }\n",
       "\n",
       "    .dataframe tbody tr th {\n",
       "        vertical-align: top;\n",
       "    }\n",
       "\n",
       "    .dataframe thead th {\n",
       "        text-align: right;\n",
       "    }\n",
       "</style>\n",
       "<table border=\"1\" class=\"dataframe\">\n",
       "  <thead>\n",
       "    <tr style=\"text-align: right;\">\n",
       "      <th></th>\n",
       "      <th>name</th>\n",
       "      <th>text</th>\n",
       "      <th>ts.h</th>\n",
       "      <th>ts.m</th>\n",
       "      <th>ts.s</th>\n",
       "      <th>episode</th>\n",
       "    </tr>\n",
       "  </thead>\n",
       "  <tbody>\n",
       "    <tr>\n",
       "      <th>0</th>\n",
       "      <td>MATT</td>\n",
       "      <td>We've got some cool stuff to talk about. First...</td>\n",
       "      <td>0</td>\n",
       "      <td>0</td>\n",
       "      <td>15</td>\n",
       "      <td>1</td>\n",
       "    </tr>\n",
       "    <tr>\n",
       "      <th>1</th>\n",
       "      <td>LAURA</td>\n",
       "      <td>As in nnnn.</td>\n",
       "      <td>0</td>\n",
       "      <td>1</td>\n",
       "      <td>21</td>\n",
       "      <td>1</td>\n",
       "    </tr>\n",
       "    <tr>\n",
       "      <th>2</th>\n",
       "      <td>MATT</td>\n",
       "      <td>Nnnn. But yeah, so they're going to be a long-...</td>\n",
       "      <td>0</td>\n",
       "      <td>1</td>\n",
       "      <td>24</td>\n",
       "      <td>1</td>\n",
       "    </tr>\n",
       "    <tr>\n",
       "      <th>3</th>\n",
       "      <td>TRAVIS</td>\n",
       "      <td>(vomiting noises) Would you like some?</td>\n",
       "      <td>0</td>\n",
       "      <td>2</td>\n",
       "      <td>4</td>\n",
       "      <td>1</td>\n",
       "    </tr>\n",
       "    <tr>\n",
       "      <th>4</th>\n",
       "      <td>MATT</td>\n",
       "      <td>So yeah. I'm super excited to have that, guys....</td>\n",
       "      <td>0</td>\n",
       "      <td>2</td>\n",
       "      <td>7</td>\n",
       "      <td>1</td>\n",
       "    </tr>\n",
       "  </tbody>\n",
       "</table>\n",
       "</div>"
      ],
      "text/plain": [
       "     name                                               text  ts.h ts.m  ts.s  \\\n",
       "0    MATT  We've got some cool stuff to talk about. First...     0    0    15   \n",
       "1   LAURA                                       As in nnnn.      0    1    21   \n",
       "2    MATT  Nnnn. But yeah, so they're going to be a long-...     0    1    24   \n",
       "3  TRAVIS            (vomiting noises) Would you like some?      0    2     4   \n",
       "4    MATT  So yeah. I'm super excited to have that, guys....     0    2     7   \n",
       "\n",
       "  episode  \n",
       "0       1  \n",
       "1       1  \n",
       "2       1  \n",
       "3       1  \n",
       "4       1  "
      ]
     },
     "execution_count": 2,
     "metadata": {},
     "output_type": "execute_result"
    }
   ],
   "source": [
    "cr_df = pd.read_pickle('../pickle_jar/CritRole.pkl')\n",
    "cr_df.head()\n",
    "#I don't like the periods in these column names so I'm changing them"
   ]
  },
  {
   "cell_type": "code",
   "execution_count": 3,
   "id": "2eb08f42",
   "metadata": {},
   "outputs": [],
   "source": [
    "cr_df = cr_df.rename(columns={'ts.h': 'ts_h', 'ts.m': 'ts_m', 'ts.s': 'ts_s'})\n",
    "#cr_df.head()"
   ]
  },
  {
   "cell_type": "code",
   "execution_count": 4,
   "id": "5c2c40cc",
   "metadata": {},
   "outputs": [],
   "source": [
    "cr_df[\"ts_h\"] = cr_df[\"ts_h\"].astype(str)\n",
    "cr_df[\"ts_h\"] = cr_df[\"ts_h\"].str.zfill(2)\n",
    "cr_df[\"ts_m\"] = cr_df[\"ts_m\"].astype(str)\n",
    "cr_df[\"ts_m\"] = cr_df[\"ts_m\"].str.zfill(2)\n",
    "cr_df[\"ts_s\"] = cr_df[\"ts_s\"].astype(str)\n",
    "cr_df[\"ts_s\"] = cr_df[\"ts_s\"].str.zfill(2)"
   ]
  },
  {
   "cell_type": "markdown",
   "id": "dd45c69e",
   "metadata": {},
   "source": [
    "When looking at the timestamps in a typical timestamp format, 0:0:15 and 0:2:7 is unpleasant to look at and inconsistent, so i added in a leading 0 if the number in the column is less than 2 digits so that I can aggregate them and create the much easier to read 00:00:15 00:02:07 format. \n",
    "\n",
    "This will be helpful when I want to look at crosstalk or overlapping speech. Note that crosstalk is the language I've heard used in production spaces for overlapping speech and I know it's something they do their best to avoid *because* they are a production being recorded and aired. Too much speech at once would be difficult for viewers to parse and follow the ongoing story. It happens, though, as I explore later on in this notebook."
   ]
  },
  {
   "cell_type": "code",
   "execution_count": 5,
   "id": "18203bb2",
   "metadata": {},
   "outputs": [],
   "source": [
    "cr_df['timestamp'] = cr_df[['ts_h', 'ts_m', 'ts_s']].agg(':'.join, axis=1)"
   ]
  },
  {
   "cell_type": "code",
   "execution_count": 6,
   "id": "d3c08c59",
   "metadata": {},
   "outputs": [
    {
     "data": {
      "text/html": [
       "<div>\n",
       "<style scoped>\n",
       "    .dataframe tbody tr th:only-of-type {\n",
       "        vertical-align: middle;\n",
       "    }\n",
       "\n",
       "    .dataframe tbody tr th {\n",
       "        vertical-align: top;\n",
       "    }\n",
       "\n",
       "    .dataframe thead th {\n",
       "        text-align: right;\n",
       "    }\n",
       "</style>\n",
       "<table border=\"1\" class=\"dataframe\">\n",
       "  <thead>\n",
       "    <tr style=\"text-align: right;\">\n",
       "      <th></th>\n",
       "      <th>name</th>\n",
       "      <th>text</th>\n",
       "      <th>episode</th>\n",
       "      <th>timestamp</th>\n",
       "    </tr>\n",
       "  </thead>\n",
       "  <tbody>\n",
       "    <tr>\n",
       "      <th>0</th>\n",
       "      <td>MATT</td>\n",
       "      <td>We've got some cool stuff to talk about. First...</td>\n",
       "      <td>1</td>\n",
       "      <td>00:00:15</td>\n",
       "    </tr>\n",
       "    <tr>\n",
       "      <th>1</th>\n",
       "      <td>LAURA</td>\n",
       "      <td>As in nnnn.</td>\n",
       "      <td>1</td>\n",
       "      <td>00:01:21</td>\n",
       "    </tr>\n",
       "    <tr>\n",
       "      <th>2</th>\n",
       "      <td>MATT</td>\n",
       "      <td>Nnnn. But yeah, so they're going to be a long-...</td>\n",
       "      <td>1</td>\n",
       "      <td>00:01:24</td>\n",
       "    </tr>\n",
       "    <tr>\n",
       "      <th>3</th>\n",
       "      <td>TRAVIS</td>\n",
       "      <td>(vomiting noises) Would you like some?</td>\n",
       "      <td>1</td>\n",
       "      <td>00:02:04</td>\n",
       "    </tr>\n",
       "    <tr>\n",
       "      <th>4</th>\n",
       "      <td>MATT</td>\n",
       "      <td>So yeah. I'm super excited to have that, guys....</td>\n",
       "      <td>1</td>\n",
       "      <td>00:02:07</td>\n",
       "    </tr>\n",
       "  </tbody>\n",
       "</table>\n",
       "</div>"
      ],
      "text/plain": [
       "     name                                               text episode timestamp\n",
       "0    MATT  We've got some cool stuff to talk about. First...       1  00:00:15\n",
       "1   LAURA                                       As in nnnn.        1  00:01:21\n",
       "2    MATT  Nnnn. But yeah, so they're going to be a long-...       1  00:01:24\n",
       "3  TRAVIS            (vomiting noises) Would you like some?        1  00:02:04\n",
       "4    MATT  So yeah. I'm super excited to have that, guys....       1  00:02:07"
      ]
     },
     "execution_count": 6,
     "metadata": {},
     "output_type": "execute_result"
    }
   ],
   "source": [
    "cr_df = cr_df.drop(columns=['ts_h', 'ts_m', 'ts_s'])\n",
    "cr_df.head()\n",
    "#much better looking in my opinion"
   ]
  },
  {
   "cell_type": "markdown",
   "id": "88b2d719",
   "metadata": {},
   "source": [
    "So I want to start exploring what the data looks like. I've noticed immediately at the tope of the data that not every instance in the \"text\" column is actual speech. How many instances do we have of this?"
   ]
  },
  {
   "cell_type": "code",
   "execution_count": 7,
   "id": "85da5d16",
   "metadata": {
    "scrolled": true
   },
   "outputs": [
    {
     "data": {
      "text/html": [
       "<div>\n",
       "<style scoped>\n",
       "    .dataframe tbody tr th:only-of-type {\n",
       "        vertical-align: middle;\n",
       "    }\n",
       "\n",
       "    .dataframe tbody tr th {\n",
       "        vertical-align: top;\n",
       "    }\n",
       "\n",
       "    .dataframe thead th {\n",
       "        text-align: right;\n",
       "    }\n",
       "</style>\n",
       "<table border=\"1\" class=\"dataframe\">\n",
       "  <thead>\n",
       "    <tr style=\"text-align: right;\">\n",
       "      <th></th>\n",
       "      <th>name</th>\n",
       "      <th>text</th>\n",
       "      <th>episode</th>\n",
       "      <th>timestamp</th>\n",
       "    </tr>\n",
       "  </thead>\n",
       "  <tbody>\n",
       "    <tr>\n",
       "      <th>3</th>\n",
       "      <td>TRAVIS</td>\n",
       "      <td>(vomiting noises) Would you like some?</td>\n",
       "      <td>1</td>\n",
       "      <td>00:02:04</td>\n",
       "    </tr>\n",
       "    <tr>\n",
       "      <th>5</th>\n",
       "      <td>SAM</td>\n",
       "      <td>(laughter)</td>\n",
       "      <td>1</td>\n",
       "      <td>00:02:42</td>\n",
       "    </tr>\n",
       "    <tr>\n",
       "      <th>7</th>\n",
       "      <td>SAM</td>\n",
       "      <td>(laughter)</td>\n",
       "      <td>1</td>\n",
       "      <td>00:04:35</td>\n",
       "    </tr>\n",
       "    <tr>\n",
       "      <th>14</th>\n",
       "      <td>LAURA</td>\n",
       "      <td>(yells) Okay. Yes, I do. It's a new campaign, ...</td>\n",
       "      <td>1</td>\n",
       "      <td>00:06:13</td>\n",
       "    </tr>\n",
       "    <tr>\n",
       "      <th>16</th>\n",
       "      <td>LAURA</td>\n",
       "      <td>So we released our teaser on socials, and ever...</td>\n",
       "      <td>1</td>\n",
       "      <td>00:06:24</td>\n",
       "    </tr>\n",
       "    <tr>\n",
       "      <th>...</th>\n",
       "      <td>...</td>\n",
       "      <td>...</td>\n",
       "      <td>...</td>\n",
       "      <td>...</td>\n",
       "    </tr>\n",
       "    <tr>\n",
       "      <th>2689</th>\n",
       "      <td>MATT</td>\n",
       "      <td>(chuckling) You say that now, wait till next w...</td>\n",
       "      <td>99</td>\n",
       "      <td>03:46:13</td>\n",
       "    </tr>\n",
       "    <tr>\n",
       "      <th>2702</th>\n",
       "      <td>MATT</td>\n",
       "      <td>(cheering)</td>\n",
       "      <td>99</td>\n",
       "      <td>03:46:36</td>\n",
       "    </tr>\n",
       "    <tr>\n",
       "      <th>2714</th>\n",
       "      <td>TRAVIS</td>\n",
       "      <td>Both sides would be like. (groaning)</td>\n",
       "      <td>99</td>\n",
       "      <td>03:47:11</td>\n",
       "    </tr>\n",
       "    <tr>\n",
       "      <th>2725</th>\n",
       "      <td>MATT</td>\n",
       "      <td>(cheering)</td>\n",
       "      <td>99</td>\n",
       "      <td>03:47:52</td>\n",
       "    </tr>\n",
       "    <tr>\n",
       "      <th>2726</th>\n",
       "      <td>TRAVIS</td>\n",
       "      <td>(dramatic orchestral music)</td>\n",
       "      <td>99</td>\n",
       "      <td>03:47:57</td>\n",
       "    </tr>\n",
       "  </tbody>\n",
       "</table>\n",
       "<p>26022 rows × 4 columns</p>\n",
       "</div>"
      ],
      "text/plain": [
       "        name                                               text episode  \\\n",
       "3     TRAVIS            (vomiting noises) Would you like some?        1   \n",
       "5        SAM                                        (laughter)        1   \n",
       "7        SAM                                        (laughter)        1   \n",
       "14     LAURA  (yells) Okay. Yes, I do. It's a new campaign, ...       1   \n",
       "16     LAURA  So we released our teaser on socials, and ever...       1   \n",
       "...      ...                                                ...     ...   \n",
       "2689    MATT  (chuckling) You say that now, wait till next w...      99   \n",
       "2702    MATT                                        (cheering)       99   \n",
       "2714  TRAVIS              Both sides would be like. (groaning)       99   \n",
       "2725    MATT                                        (cheering)       99   \n",
       "2726  TRAVIS                       (dramatic orchestral music)       99   \n",
       "\n",
       "     timestamp  \n",
       "3     00:02:04  \n",
       "5     00:02:42  \n",
       "7     00:04:35  \n",
       "14    00:06:13  \n",
       "16    00:06:24  \n",
       "...        ...  \n",
       "2689  03:46:13  \n",
       "2702  03:46:36  \n",
       "2714  03:47:11  \n",
       "2725  03:47:52  \n",
       "2726  03:47:57  \n",
       "\n",
       "[26022 rows x 4 columns]"
      ]
     },
     "execution_count": 7,
     "metadata": {},
     "output_type": "execute_result"
    }
   ],
   "source": [
    "test = cr_df[cr_df['text'].str.contains('\\)')]\n",
    "test"
   ]
  },
  {
   "cell_type": "markdown",
   "id": "c6b76f2f",
   "metadata": {},
   "source": [
    "So the thing is that text in parenthesis isn't speech! It shouldn't be tokenized or included in data about speech events. I also spotted some lines marked [no audio] so I'll look into those too.\n",
    "\n",
    "--talked to Na-Rae, new goal to separate into two columns, one for \"sounds\" and one for \"speech\""
   ]
  },
  {
   "cell_type": "code",
   "execution_count": 8,
   "id": "2796cfb9",
   "metadata": {
    "scrolled": true
   },
   "outputs": [
    {
     "name": "stdout",
     "output_type": "stream",
     "text": [
      "394\n"
     ]
    },
    {
     "data": {
      "text/plain": [
       "MATT        111729\n",
       "LAURA        59987\n",
       "SAM          52150\n",
       "TRAVIS       49852\n",
       "MARISHA      49278\n",
       "LIAM         41441\n",
       "TALIESIN     40530\n",
       "ASHLEY       17660\n",
       "MICA          1548\n",
       "ASHLY         1407\n",
       "BRIAN         1324\n",
       "ALLY           733\n",
       "ALL            670\n",
       "DEBORAH        540\n",
       "KHARY          491\n",
       "Name: name, dtype: int64"
      ]
     },
     "execution_count": 8,
     "metadata": {},
     "output_type": "execute_result"
    }
   ],
   "source": [
    "allnames = cr_df['name'].value_counts()\n",
    "print(len(allnames))\n",
    "allnames[0:15]"
   ]
  },
  {
   "cell_type": "markdown",
   "id": "3e305fe2",
   "metadata": {},
   "source": [
    "My next thought was about the number of speakers (and while I'm at it, how many speech events our speakers have). Unsurprisingly, our DM has the most speech events in general, but it's the most by so much! \n",
    "\n",
    "The next few are interesting.... Sam and Laura both tend to be the ones doing opening show announcements (what's new with the company, new merch etc) and ad reads, so I'm not surprised they're higher than the rest of the cast. Laura is an interesting one.... she was gone for a number of episodes this campaign for maternity leave but she also played a character who was a sort of hyperactive blabbermouth, so she must have really made up for lost time. \n",
    "\n",
    "Finally, Ashley having the fewest lines also makes sense to me. She's a regular in the show Blindspot and was filming out of state, and missed a big chunk of episodes. On top of that, her character was a bit stoic and awkward, so she wasn't much of a talker even when she was present."
   ]
  },
  {
   "cell_type": "code",
   "execution_count": 9,
   "id": "4b60ac69",
   "metadata": {},
   "outputs": [
    {
     "data": {
      "text/plain": [
       "MARISHA, SAM, ASHLY               1\n",
       "SAM, TALIESIN, MARISHA            1\n",
       "SAM, MARISHA, ASHLY               1\n",
       "ASHLY, LIAM, SAM                  1\n",
       "II                                1\n",
       "LIAM, MARISHA, SAM                1\n",
       "TALIESIN, MARISHA, LAURA          1\n",
       "MARISHA, SUMALEE                  1\n",
       "SUMALEE, MATT                     1\n",
       "LIAM, ASHLY                       1\n",
       "ASHLY, MARISHA, SUMALEE           1\n",
       "NILA                              1\n",
       "AUDIENCE, BRIAN                   1\n",
       "ASHLY, MATT, AUDIENCE             1\n",
       "MARISHA, MATT, AUDIENCE           1\n",
       "ASHLY, LIAM, AUDIENCE             1\n",
       "ASHLY, AUDIENCE                   1\n",
       "TRAVIS, MARISHA, MATT             1\n",
       "MARISHA, TALIESIN, LAURA          1\n",
       "LAURA, TALIESIN, LIAM, MARISHA    1\n",
       "Name: name, dtype: int64"
      ]
     },
     "execution_count": 9,
     "metadata": {},
     "output_type": "execute_result"
    }
   ],
   "source": [
    "allnames[-20:]"
   ]
  },
  {
   "cell_type": "code",
   "execution_count": 10,
   "id": "e7f75ea4",
   "metadata": {},
   "outputs": [
    {
     "data": {
      "text/html": [
       "<div>\n",
       "<style scoped>\n",
       "    .dataframe tbody tr th:only-of-type {\n",
       "        vertical-align: middle;\n",
       "    }\n",
       "\n",
       "    .dataframe tbody tr th {\n",
       "        vertical-align: top;\n",
       "    }\n",
       "\n",
       "    .dataframe thead th {\n",
       "        text-align: right;\n",
       "    }\n",
       "</style>\n",
       "<table border=\"1\" class=\"dataframe\">\n",
       "  <thead>\n",
       "    <tr style=\"text-align: right;\">\n",
       "      <th></th>\n",
       "      <th>name</th>\n",
       "      <th>text</th>\n",
       "      <th>episode</th>\n",
       "      <th>timestamp</th>\n",
       "    </tr>\n",
       "  </thead>\n",
       "  <tbody>\n",
       "    <tr>\n",
       "      <th>1654</th>\n",
       "      <td>SAM, TALIESIN, MARISHA</td>\n",
       "      <td>Whispers?</td>\n",
       "      <td>26</td>\n",
       "      <td>02:11:37</td>\n",
       "    </tr>\n",
       "  </tbody>\n",
       "</table>\n",
       "</div>"
      ],
      "text/plain": [
       "                        name        text episode timestamp\n",
       "1654  SAM, TALIESIN, MARISHA  Whispers?       26  02:11:37"
      ]
     },
     "execution_count": 10,
     "metadata": {},
     "output_type": "execute_result"
    }
   ],
   "source": [
    "cr_df[cr_df['name']=='SAM, TALIESIN, MARISHA']"
   ]
  },
  {
   "cell_type": "code",
   "execution_count": 11,
   "id": "72f7640a",
   "metadata": {},
   "outputs": [
    {
     "data": {
      "text/html": [
       "<div>\n",
       "<style scoped>\n",
       "    .dataframe tbody tr th:only-of-type {\n",
       "        vertical-align: middle;\n",
       "    }\n",
       "\n",
       "    .dataframe tbody tr th {\n",
       "        vertical-align: top;\n",
       "    }\n",
       "\n",
       "    .dataframe thead th {\n",
       "        text-align: right;\n",
       "    }\n",
       "</style>\n",
       "<table border=\"1\" class=\"dataframe\">\n",
       "  <thead>\n",
       "    <tr style=\"text-align: right;\">\n",
       "      <th></th>\n",
       "      <th>name</th>\n",
       "      <th>text</th>\n",
       "      <th>episode</th>\n",
       "      <th>timestamp</th>\n",
       "    </tr>\n",
       "  </thead>\n",
       "  <tbody>\n",
       "    <tr>\n",
       "      <th>74</th>\n",
       "      <td>TALIESIN, MARISHA, LAURA</td>\n",
       "      <td>Not it.</td>\n",
       "      <td>31</td>\n",
       "      <td>00:11:09</td>\n",
       "    </tr>\n",
       "  </tbody>\n",
       "</table>\n",
       "</div>"
      ],
      "text/plain": [
       "                        name      text episode timestamp\n",
       "74  TALIESIN, MARISHA, LAURA  Not it.       31  00:11:09"
      ]
     },
     "execution_count": 11,
     "metadata": {},
     "output_type": "execute_result"
    }
   ],
   "source": [
    "cr_df[cr_df['name']=='TALIESIN, MARISHA, LAURA']"
   ]
  },
  {
   "cell_type": "markdown",
   "id": "0077b688",
   "metadata": {},
   "source": [
    "I wanted to explore and take a look at an instance of overlapping speech I remembered from when I was watching (highlights, these episodes are too long for me) this campaign. At the end of episode 2, two characters (played by our talkative Laura and Sam) think they're onto the perpetrator of some crime, and are in this moment hurling accusations at that person (Ornna). \n",
    "\n",
    "They overlap *a lot* in this crazy buzz of a moment, and you can more or less see this in the transcripts, but it's not always 100% clear. These transcriptionists did a really thorough job though."
   ]
  },
  {
   "cell_type": "code",
   "execution_count": 12,
   "id": "80ea4924",
   "metadata": {
    "scrolled": false
   },
   "outputs": [
    {
     "data": {
      "text/html": [
       "<div>\n",
       "<style scoped>\n",
       "    .dataframe tbody tr th:only-of-type {\n",
       "        vertical-align: middle;\n",
       "    }\n",
       "\n",
       "    .dataframe tbody tr th {\n",
       "        vertical-align: top;\n",
       "    }\n",
       "\n",
       "    .dataframe thead th {\n",
       "        text-align: right;\n",
       "    }\n",
       "</style>\n",
       "<table border=\"1\" class=\"dataframe\">\n",
       "  <thead>\n",
       "    <tr style=\"text-align: right;\">\n",
       "      <th></th>\n",
       "      <th>name</th>\n",
       "      <th>text</th>\n",
       "      <th>episode</th>\n",
       "      <th>timestamp</th>\n",
       "    </tr>\n",
       "  </thead>\n",
       "  <tbody>\n",
       "    <tr>\n",
       "      <th>2564</th>\n",
       "      <td>MATT</td>\n",
       "      <td>At which point, the flap of the tent opens up ...</td>\n",
       "      <td>2</td>\n",
       "      <td>04:01:13</td>\n",
       "    </tr>\n",
       "    <tr>\n",
       "      <th>2565</th>\n",
       "      <td>LAURA</td>\n",
       "      <td>It's Ornna!</td>\n",
       "      <td>2</td>\n",
       "      <td>04:01:17</td>\n",
       "    </tr>\n",
       "    <tr>\n",
       "      <th>2566</th>\n",
       "      <td>SAM</td>\n",
       "      <td>Ornna, you have a lot of explaining to do!</td>\n",
       "      <td>2</td>\n",
       "      <td>04:01:19</td>\n",
       "    </tr>\n",
       "    <tr>\n",
       "      <th>2567</th>\n",
       "      <td>MARISHA</td>\n",
       "      <td>Shut up!</td>\n",
       "      <td>2</td>\n",
       "      <td>04:01:20</td>\n",
       "    </tr>\n",
       "    <tr>\n",
       "      <th>2568</th>\n",
       "      <td>SAM</td>\n",
       "      <td>You have a lot of explaining to do!</td>\n",
       "      <td>2</td>\n",
       "      <td>04:01:21</td>\n",
       "    </tr>\n",
       "    <tr>\n",
       "      <th>2569</th>\n",
       "      <td>MARISHA</td>\n",
       "      <td>Shut up!</td>\n",
       "      <td>2</td>\n",
       "      <td>04:01:22</td>\n",
       "    </tr>\n",
       "    <tr>\n",
       "      <th>2570</th>\n",
       "      <td>SAM</td>\n",
       "      <td>We've talked to Toya. She knows it's you who d...</td>\n",
       "      <td>2</td>\n",
       "      <td>04:01:24</td>\n",
       "    </tr>\n",
       "    <tr>\n",
       "      <th>2571</th>\n",
       "      <td>LAURA</td>\n",
       "      <td>We know you guys are in a fight all the time.</td>\n",
       "      <td>2</td>\n",
       "      <td>04:01:28</td>\n",
       "    </tr>\n",
       "    <tr>\n",
       "      <th>2572</th>\n",
       "      <td>SAM</td>\n",
       "      <td>You're the one behind the whole plot! You did ...</td>\n",
       "      <td>2</td>\n",
       "      <td>04:01:30</td>\n",
       "    </tr>\n",
       "    <tr>\n",
       "      <th>2573</th>\n",
       "      <td>LAURA</td>\n",
       "      <td>You!</td>\n",
       "      <td>2</td>\n",
       "      <td>04:01:32</td>\n",
       "    </tr>\n",
       "  </tbody>\n",
       "</table>\n",
       "</div>"
      ],
      "text/plain": [
       "         name                                               text episode  \\\n",
       "2564     MATT  At which point, the flap of the tent opens up ...       2   \n",
       "2565    LAURA                                       It's Ornna!        2   \n",
       "2566      SAM        Ornna, you have a lot of explaining to do!        2   \n",
       "2567  MARISHA                                          Shut up!        2   \n",
       "2568      SAM               You have a lot of explaining to do!        2   \n",
       "2569  MARISHA                                          Shut up!        2   \n",
       "2570      SAM  We've talked to Toya. She knows it's you who d...       2   \n",
       "2571    LAURA     We know you guys are in a fight all the time.        2   \n",
       "2572      SAM  You're the one behind the whole plot! You did ...       2   \n",
       "2573    LAURA                                              You!        2   \n",
       "\n",
       "     timestamp  \n",
       "2564  04:01:13  \n",
       "2565  04:01:17  \n",
       "2566  04:01:19  \n",
       "2567  04:01:20  \n",
       "2568  04:01:21  \n",
       "2569  04:01:22  \n",
       "2570  04:01:24  \n",
       "2571  04:01:28  \n",
       "2572  04:01:30  \n",
       "2573  04:01:32  "
      ]
     },
     "execution_count": 12,
     "metadata": {},
     "output_type": "execute_result"
    }
   ],
   "source": [
    "ep2 = cr_df[cr_df['episode']=='2']\n",
    "ep2[-130:-120]"
   ]
  },
  {
   "cell_type": "markdown",
   "id": "05d55215",
   "metadata": {},
   "source": [
    "a link to the moment of chaos, just for comparison\n",
    "\n",
    "https://youtu.be/MPELLuQXVcE?si=13too39HcHj5Cfow&t=14475"
   ]
  },
  {
   "cell_type": "markdown",
   "id": "e162db61",
   "metadata": {},
   "source": [
    "### Splitting test run\n",
    "\n",
    "Now back to this goal of splitting (sounds) and speech into different columns."
   ]
  },
  {
   "cell_type": "code",
   "execution_count": 13,
   "id": "0bda45e9",
   "metadata": {},
   "outputs": [],
   "source": [
    "#cr_df[cr_df['text'].str.contains('^\\(.*\\)')]"
   ]
  },
  {
   "cell_type": "code",
   "execution_count": 14,
   "id": "102c25bb",
   "metadata": {
    "scrolled": true
   },
   "outputs": [],
   "source": [
    "#cr_df[cr_df['text'].str.contains('^\\(.*\\) $')]"
   ]
  },
  {
   "cell_type": "markdown",
   "id": "da7e2f99",
   "metadata": {},
   "source": [
    "This is good for at least the lines that are *just* sound and not combined sound/speech, which is good. I have to do some more reading about moving these specific lines to a new column for sounds but maintain their index space. \n",
    "I think I can do this by adding the new column and mapping the spplication of that new column onto the existing text column, but I'll take the time to experiment with that more this coming week to be sure of it. "
   ]
  },
  {
   "cell_type": "markdown",
   "id": "57fa9c4a",
   "metadata": {},
   "source": [
    "I'm not exactly ready to dig heavy into the stats yet but I want to do a little look for our progress report at least"
   ]
  },
  {
   "cell_type": "code",
   "execution_count": 15,
   "id": "353836d0",
   "metadata": {},
   "outputs": [],
   "source": [
    "ashley = cr_df[cr_df['name']=='ASHLEY']\n",
    "matt = cr_df[cr_df['name']=='MATT']\n",
    "marisha = cr_df[cr_df['name']=='MARISHA']\n",
    "taliesin = cr_df[cr_df['name']=='TALIESIN']\n",
    "sam = cr_df[cr_df['name']=='SAM']\n",
    "liam = cr_df[cr_df['name']=='LIAM']\n",
    "laura = cr_df[cr_df['name']=='LAURA']\n",
    "travis = cr_df[cr_df['name']=='TRAVIS']\n",
    "\n",
    "#ashley"
   ]
  },
  {
   "cell_type": "code",
   "execution_count": 16,
   "id": "ab2dfc73",
   "metadata": {},
   "outputs": [],
   "source": [
    "women = [ashley, marisha, laura]\n",
    "women_df = pd.concat(women)\n",
    "#women_df"
   ]
  },
  {
   "cell_type": "markdown",
   "id": "6ed70e23",
   "metadata": {},
   "source": [
    "Glad I tried this, keep running into spots I'm finding I need to read up on in detail that are important for my later work. What my vision here is to be able to split the cr_df by these groupings, but that may not be so simple as this. \n",
    "\n",
    "Thinking further... maybe from these sub-dfs I can just add a \"gender\" column and remap it onto the main df, that should get the job done at least. Another grouping I would like to do *maybe* is a catchall \"other\" for the guests and the instances of multiple speakers doesn't look like such a mess like in the chart below. "
   ]
  },
  {
   "cell_type": "code",
   "execution_count": 17,
   "id": "9b6f330a",
   "metadata": {},
   "outputs": [],
   "source": [
    "#allnames.plot.pie()"
   ]
  },
  {
   "cell_type": "markdown",
   "id": "a1d573b8",
   "metadata": {},
   "source": [
    "Wow. Looking at the numbers was one thing, but this really puts it into another perspective. Matt really has a lot of talking to do. "
   ]
  },
  {
   "cell_type": "code",
   "execution_count": 18,
   "id": "cd88c79a",
   "metadata": {},
   "outputs": [
    {
     "data": {
      "text/plain": [
       "(434052, 4)"
      ]
     },
     "execution_count": 18,
     "metadata": {},
     "output_type": "execute_result"
    }
   ],
   "source": [
    "cr_df.shape"
   ]
  },
  {
   "cell_type": "code",
   "execution_count": 19,
   "id": "fd9fed9f",
   "metadata": {},
   "outputs": [],
   "source": [
    "#the index was making some of my work strange - I'm going to preserve it because I'm sure there's a reason it loaded in like this\n",
    "#but to make my life easier i'm going to use the pandas provided index for my work\n",
    "cr_df = cr_df.reset_index()"
   ]
  },
  {
   "cell_type": "code",
   "execution_count": 20,
   "id": "321e70bb",
   "metadata": {},
   "outputs": [
    {
     "data": {
      "text/html": [
       "<div>\n",
       "<style scoped>\n",
       "    .dataframe tbody tr th:only-of-type {\n",
       "        vertical-align: middle;\n",
       "    }\n",
       "\n",
       "    .dataframe tbody tr th {\n",
       "        vertical-align: top;\n",
       "    }\n",
       "\n",
       "    .dataframe thead th {\n",
       "        text-align: right;\n",
       "    }\n",
       "</style>\n",
       "<table border=\"1\" class=\"dataframe\">\n",
       "  <thead>\n",
       "    <tr style=\"text-align: right;\">\n",
       "      <th></th>\n",
       "      <th>index</th>\n",
       "      <th>name</th>\n",
       "      <th>text</th>\n",
       "      <th>episode</th>\n",
       "      <th>timestamp</th>\n",
       "    </tr>\n",
       "  </thead>\n",
       "  <tbody>\n",
       "    <tr>\n",
       "      <th>434047</th>\n",
       "      <td>2722</td>\n",
       "      <td>MATT</td>\n",
       "      <td>We're going to get through this together, guys.</td>\n",
       "      <td>99</td>\n",
       "      <td>03:47:47</td>\n",
       "    </tr>\n",
       "    <tr>\n",
       "      <th>434048</th>\n",
       "      <td>2723</td>\n",
       "      <td>SAM</td>\n",
       "      <td>Wash your stubbly face.</td>\n",
       "      <td>99</td>\n",
       "      <td>03:47:49</td>\n",
       "    </tr>\n",
       "    <tr>\n",
       "      <th>434049</th>\n",
       "      <td>2724</td>\n",
       "      <td>TRAVIS</td>\n",
       "      <td>Gross.</td>\n",
       "      <td>99</td>\n",
       "      <td>03:47:51</td>\n",
       "    </tr>\n",
       "    <tr>\n",
       "      <th>434050</th>\n",
       "      <td>2725</td>\n",
       "      <td>MATT</td>\n",
       "      <td>(cheering)</td>\n",
       "      <td>99</td>\n",
       "      <td>03:47:52</td>\n",
       "    </tr>\n",
       "    <tr>\n",
       "      <th>434051</th>\n",
       "      <td>2726</td>\n",
       "      <td>TRAVIS</td>\n",
       "      <td>(dramatic orchestral music)</td>\n",
       "      <td>99</td>\n",
       "      <td>03:47:57</td>\n",
       "    </tr>\n",
       "  </tbody>\n",
       "</table>\n",
       "</div>"
      ],
      "text/plain": [
       "        index    name                                              text  \\\n",
       "434047   2722    MATT  We're going to get through this together, guys.    \n",
       "434048   2723     SAM                          Wash your stubbly face.    \n",
       "434049   2724  TRAVIS                                           Gross.    \n",
       "434050   2725    MATT                                       (cheering)    \n",
       "434051   2726  TRAVIS                      (dramatic orchestral music)    \n",
       "\n",
       "       episode timestamp  \n",
       "434047      99  03:47:47  \n",
       "434048      99  03:47:49  \n",
       "434049      99  03:47:51  \n",
       "434050      99  03:47:52  \n",
       "434051      99  03:47:57  "
      ]
     },
     "execution_count": 20,
     "metadata": {},
     "output_type": "execute_result"
    }
   ],
   "source": [
    "cr_df.tail()"
   ]
  },
  {
   "cell_type": "markdown",
   "id": "d0157325",
   "metadata": {},
   "source": [
    "Let's get rid of those pesky (sound effects) lines\n",
    "\n",
    "#### Test run"
   ]
  },
  {
   "cell_type": "code",
   "execution_count": 21,
   "id": "00110608",
   "metadata": {},
   "outputs": [
    {
     "data": {
      "text/html": [
       "<div>\n",
       "<style scoped>\n",
       "    .dataframe tbody tr th:only-of-type {\n",
       "        vertical-align: middle;\n",
       "    }\n",
       "\n",
       "    .dataframe tbody tr th {\n",
       "        vertical-align: top;\n",
       "    }\n",
       "\n",
       "    .dataframe thead th {\n",
       "        text-align: right;\n",
       "    }\n",
       "</style>\n",
       "<table border=\"1\" class=\"dataframe\">\n",
       "  <thead>\n",
       "    <tr style=\"text-align: right;\">\n",
       "      <th></th>\n",
       "      <th>text</th>\n",
       "    </tr>\n",
       "  </thead>\n",
       "  <tbody>\n",
       "    <tr>\n",
       "      <th>5</th>\n",
       "      <td>(laughter)</td>\n",
       "    </tr>\n",
       "    <tr>\n",
       "      <th>7</th>\n",
       "      <td>(laughter)</td>\n",
       "    </tr>\n",
       "    <tr>\n",
       "      <th>54</th>\n",
       "      <td>(laughter)</td>\n",
       "    </tr>\n",
       "    <tr>\n",
       "      <th>86</th>\n",
       "      <td>(nervous laughter)</td>\n",
       "    </tr>\n",
       "    <tr>\n",
       "      <th>135</th>\n",
       "      <td>(laughter)</td>\n",
       "    </tr>\n",
       "  </tbody>\n",
       "</table>\n",
       "</div>"
      ],
      "text/plain": [
       "                    text\n",
       "5            (laughter) \n",
       "7            (laughter) \n",
       "54           (laughter) \n",
       "86   (nervous laughter) \n",
       "135          (laughter) "
      ]
     },
     "execution_count": 21,
     "metadata": {},
     "output_type": "execute_result"
    }
   ],
   "source": [
    "xnonspeech_df= pd.DataFrame(cr_df[cr_df['text'].str.contains('^\\(.*\\) $')]) #create a df of text lines that contain ONLY (sounds)\n",
    "#xnonspeech_df.rename(columns={'text': 'nonspeech'}, inplace=True) #rename text to nonspeech\n",
    "xnonspeech_df = pd.DataFrame(xnonspeech_df['text']) #narrow that down to only the nonspeech column, that's our focus\n",
    "xnonspeech_df.head()"
   ]
  },
  {
   "cell_type": "markdown",
   "id": "27305e4a",
   "metadata": {},
   "source": [
    "I was running into an error when trying to add this non speech data to a new column because the df sizes were not equal. \n",
    "This tutorial here was a good starting point for learning about this - mapping a series into a new column so it autofills any empty lines with NaN values.<br>\n",
    "https://www.statology.org/length-of-values-does-not-match-length-of-index/"
   ]
  },
  {
   "cell_type": "markdown",
   "id": "909c870a",
   "metadata": {},
   "source": [
    "A continuation of my initial nonspeech experiment commented out to keep it from interfering with my later work, but it was a nice proof of concept that the series and fillna method should work"
   ]
  },
  {
   "cell_type": "code",
   "execution_count": 22,
   "id": "0906bb34",
   "metadata": {},
   "outputs": [],
   "source": [
    "#xnonspeech = pd.Series(xnonspeech_df['text']) #create series from simple nonspeech data\n",
    "#xnonspeech"
   ]
  },
  {
   "cell_type": "code",
   "execution_count": 23,
   "id": "edd64a89",
   "metadata": {},
   "outputs": [],
   "source": [
    "#cr_df['nonspeech']=xnonspeech"
   ]
  },
  {
   "cell_type": "code",
   "execution_count": 24,
   "id": "75ca006a",
   "metadata": {},
   "outputs": [],
   "source": [
    "#let's check with Sam who I spotted earlier laughing a good bit\n",
    "#cr_df[cr_df['name']=='SAM']"
   ]
  },
  {
   "cell_type": "markdown",
   "id": "b3370a1a",
   "metadata": {},
   "source": [
    "Let's replace those same simple (sounds) in our base text column with an empty string and look at Sam again to confirm it's working."
   ]
  },
  {
   "cell_type": "code",
   "execution_count": 25,
   "id": "ad233144",
   "metadata": {},
   "outputs": [],
   "source": [
    "#cr_df['text'] = cr_df['text'].str.replace(r'^\\(.*\\) $', '', regex=True).astype('str')"
   ]
  },
  {
   "cell_type": "code",
   "execution_count": 26,
   "id": "6910217b",
   "metadata": {},
   "outputs": [],
   "source": [
    "#cr_df[cr_df['name']=='SAM']"
   ]
  },
  {
   "cell_type": "code",
   "execution_count": 27,
   "id": "a6f07d41",
   "metadata": {},
   "outputs": [],
   "source": [
    "#cr_df['nonspeech'] = cr_df['nonspeech'].fillna('') #get rid of those ugly NaN values"
   ]
  },
  {
   "cell_type": "code",
   "execution_count": 28,
   "id": "ce3e26aa",
   "metadata": {},
   "outputs": [],
   "source": [
    "#cr_df[cr_df['name']=='SAM']"
   ]
  },
  {
   "cell_type": "markdown",
   "id": "e695d722",
   "metadata": {},
   "source": [
    "This looks really good! Now we just have to replicate this process multiple times with other instances of (sounds). Sometimes it's combined with actual speech information. Sometimes it's leading and sometimes it's trailing. Sometimes it's \\[sounds\\] in the case of sound effects in the room and not information like laughter or singing. \n",
    "\n",
    "Because of this, and because trying to keep the square brackets in the data was complicating things unnecessarily, I'm going to be erasing anything in the square brackets. It's not about an utterance that any specific person is making and is information about the room around them, so I'm okay with not keeping it stored.\n",
    "\n",
    "After, we'll redo this process above for anything in (), combine all of the series that we make which will preserve the index information, add that full series to the new \"nonspeech\" column, fill NaN with empty strings, and get moving along! "
   ]
  },
  {
   "cell_type": "markdown",
   "id": "f105b807",
   "metadata": {},
   "source": [
    "### Splitting and cleaning"
   ]
  },
  {
   "cell_type": "markdown",
   "id": "412d35b6",
   "metadata": {},
   "source": [
    "#### Deleting or treating nonverbal information"
   ]
  },
  {
   "cell_type": "code",
   "execution_count": 29,
   "id": "7f80c607",
   "metadata": {},
   "outputs": [],
   "source": [
    "#cr_df[cr_df['text'].str.contains(r'♪')]"
   ]
  },
  {
   "cell_type": "code",
   "execution_count": 30,
   "id": "42ae11da",
   "metadata": {},
   "outputs": [
    {
     "data": {
      "text/plain": [
       "\" D&D, D&D   You got your staffs   You got your swords   You got your stuffs  (laughter)  And you got your invisible wand   It's D&D, D&D   D&D  \""
      ]
     },
     "execution_count": 30,
     "metadata": {},
     "output_type": "execute_result"
    }
   ],
   "source": [
    "cr_df['text'] = cr_df['text'].str.replace(r'♪', r'', regex=True).astype('str')\n",
    "cr_df.text[433078]\n",
    "#gets rid of instances where music notes indicate song"
   ]
  },
  {
   "cell_type": "code",
   "execution_count": 31,
   "id": "f370fbf2",
   "metadata": {},
   "outputs": [],
   "source": [
    "#cr_df[cr_df['text'].str.contains(r'.* \\[inaudible\\] .*')]"
   ]
  },
  {
   "cell_type": "code",
   "execution_count": 32,
   "id": "f1fb06cf",
   "metadata": {},
   "outputs": [],
   "source": [
    "inaudible_df = pd.DataFrame(cr_df[cr_df['text'].str.contains(r'.* \\[inaudible\\] .*')])"
   ]
  },
  {
   "cell_type": "code",
   "execution_count": 33,
   "id": "2233a831",
   "metadata": {},
   "outputs": [],
   "source": [
    "inaudible_df['text'] = inaudible_df['text'].str.replace(r'.* (\\[inaudible\\]) .*', r'\\1', regex=True).astype('str')\n",
    "#inaudible_df"
   ]
  },
  {
   "cell_type": "code",
   "execution_count": 34,
   "id": "ad872d4a",
   "metadata": {},
   "outputs": [],
   "source": [
    "inaudible = pd.Series(inaudible_df['text'])\n",
    "#inaudible"
   ]
  },
  {
   "cell_type": "code",
   "execution_count": 35,
   "id": "bf9ee41c",
   "metadata": {},
   "outputs": [],
   "source": [
    "cr_df['inaudible_speech'] = inaudible"
   ]
  },
  {
   "cell_type": "code",
   "execution_count": 36,
   "id": "a8170d13",
   "metadata": {},
   "outputs": [],
   "source": [
    "#cr_df[cr_df['text'].str.contains(r'\\[.*\\]')]"
   ]
  },
  {
   "cell_type": "code",
   "execution_count": 37,
   "id": "fad5e8d2",
   "metadata": {},
   "outputs": [],
   "source": [
    "cr_df['text'] = cr_df['text'].str.replace(r'\\[.*\\]', r'', regex=True).astype('str')"
   ]
  },
  {
   "cell_type": "code",
   "execution_count": 38,
   "id": "e832bcd5",
   "metadata": {},
   "outputs": [
    {
     "name": "stdout",
     "output_type": "stream",
     "text": [
      "Like . \n",
      "Fucking-- another . \n"
     ]
    }
   ],
   "source": [
    "print(cr_df.text[5770])\n",
    "print(cr_df.text[430418])"
   ]
  },
  {
   "cell_type": "code",
   "execution_count": 39,
   "id": "0027ccf1",
   "metadata": {},
   "outputs": [
    {
     "data": {
      "text/plain": [
       "'Whoa! (digital lasers firing) Laser sword! (grunts) (horse neighs) (glass shatters) (cat cries) '"
      ]
     },
     "execution_count": 39,
     "metadata": {},
     "output_type": "execute_result"
    }
   ],
   "source": [
    "cr_df.text[10558] #these are sounds on a soundboard so I'm going to individually alter this line which stuck out during my work"
   ]
  },
  {
   "cell_type": "code",
   "execution_count": 40,
   "id": "7008a76e",
   "metadata": {},
   "outputs": [
    {
     "data": {
      "text/html": [
       "<div>\n",
       "<style scoped>\n",
       "    .dataframe tbody tr th:only-of-type {\n",
       "        vertical-align: middle;\n",
       "    }\n",
       "\n",
       "    .dataframe tbody tr th {\n",
       "        vertical-align: top;\n",
       "    }\n",
       "\n",
       "    .dataframe thead th {\n",
       "        text-align: right;\n",
       "    }\n",
       "</style>\n",
       "<table border=\"1\" class=\"dataframe\">\n",
       "  <thead>\n",
       "    <tr style=\"text-align: right;\">\n",
       "      <th></th>\n",
       "      <th>index</th>\n",
       "      <th>name</th>\n",
       "      <th>text</th>\n",
       "      <th>episode</th>\n",
       "      <th>timestamp</th>\n",
       "      <th>inaudible_speech</th>\n",
       "    </tr>\n",
       "  </thead>\n",
       "  <tbody>\n",
       "    <tr>\n",
       "      <th>10558</th>\n",
       "      <td>11</td>\n",
       "      <td>SAM</td>\n",
       "      <td>Whoa! (digital lasers firing) Laser sword! (gr...</td>\n",
       "      <td>102</td>\n",
       "      <td>00:01:46</td>\n",
       "      <td>NaN</td>\n",
       "    </tr>\n",
       "  </tbody>\n",
       "</table>\n",
       "</div>"
      ],
      "text/plain": [
       "       index name                                               text episode  \\\n",
       "10558     11  SAM  Whoa! (digital lasers firing) Laser sword! (gr...     102   \n",
       "\n",
       "      timestamp inaudible_speech  \n",
       "10558  00:01:46              NaN  "
      ]
     },
     "execution_count": 40,
     "metadata": {},
     "output_type": "execute_result"
    }
   ],
   "source": [
    "cr_df[cr_df['text'].str.contains(r'.* \\(digital lasers firing\\) .*')]"
   ]
  },
  {
   "cell_type": "code",
   "execution_count": 41,
   "id": "f91ebba6",
   "metadata": {},
   "outputs": [],
   "source": [
    "cr_df['text'] = cr_df['text'].str.replace(r'(.* )\\(digital lasers firing\\)( .*!* )\\(.*\\)', r'\\1 \\2', regex=True).astype('str')"
   ]
  },
  {
   "cell_type": "code",
   "execution_count": 42,
   "id": "e16a7f21",
   "metadata": {},
   "outputs": [
    {
     "data": {
      "text/plain": [
       "'Whoa!   Laser sword! (grunts) (horse neighs) (glass shatters)  '"
      ]
     },
     "execution_count": 42,
     "metadata": {},
     "output_type": "execute_result"
    }
   ],
   "source": [
    "cr_df.text[10558]"
   ]
  },
  {
   "cell_type": "code",
   "execution_count": 43,
   "id": "3de6ab81",
   "metadata": {},
   "outputs": [
    {
     "data": {
      "text/html": [
       "<div>\n",
       "<style scoped>\n",
       "    .dataframe tbody tr th:only-of-type {\n",
       "        vertical-align: middle;\n",
       "    }\n",
       "\n",
       "    .dataframe tbody tr th {\n",
       "        vertical-align: top;\n",
       "    }\n",
       "\n",
       "    .dataframe thead th {\n",
       "        text-align: right;\n",
       "    }\n",
       "</style>\n",
       "<table border=\"1\" class=\"dataframe\">\n",
       "  <thead>\n",
       "    <tr style=\"text-align: right;\">\n",
       "      <th></th>\n",
       "      <th>index</th>\n",
       "      <th>name</th>\n",
       "      <th>text</th>\n",
       "      <th>episode</th>\n",
       "      <th>timestamp</th>\n",
       "      <th>inaudible_speech</th>\n",
       "    </tr>\n",
       "  </thead>\n",
       "  <tbody>\n",
       "    <tr>\n",
       "      <th>10558</th>\n",
       "      <td>11</td>\n",
       "      <td>SAM</td>\n",
       "      <td>Whoa!   Laser sword! (grunts) (horse neighs) (...</td>\n",
       "      <td>102</td>\n",
       "      <td>00:01:46</td>\n",
       "      <td>NaN</td>\n",
       "    </tr>\n",
       "  </tbody>\n",
       "</table>\n",
       "</div>"
      ],
      "text/plain": [
       "       index name                                               text episode  \\\n",
       "10558     11  SAM  Whoa!   Laser sword! (grunts) (horse neighs) (...     102   \n",
       "\n",
       "      timestamp inaudible_speech  \n",
       "10558  00:01:46              NaN  "
      ]
     },
     "execution_count": 43,
     "metadata": {},
     "output_type": "execute_result"
    }
   ],
   "source": [
    "cr_df[cr_df['text'].str.contains(r'.* \\(horse neighs\\) .*')]"
   ]
  },
  {
   "cell_type": "code",
   "execution_count": 44,
   "id": "7d7eaa74",
   "metadata": {},
   "outputs": [],
   "source": [
    "cr_df['text'] = cr_df['text'].str.replace(r'(.* )\\(.*\\) \\(horse neighs\\) .*', r'\\1', regex=True).astype('str')"
   ]
  },
  {
   "cell_type": "code",
   "execution_count": 45,
   "id": "9a722655",
   "metadata": {},
   "outputs": [
    {
     "data": {
      "text/plain": [
       "'Whoa!   Laser sword! '"
      ]
     },
     "execution_count": 45,
     "metadata": {},
     "output_type": "execute_result"
    }
   ],
   "source": [
    "cr_df.text[10558]"
   ]
  },
  {
   "cell_type": "code",
   "execution_count": 46,
   "id": "ee03d288",
   "metadata": {},
   "outputs": [
    {
     "data": {
      "text/html": [
       "<div>\n",
       "<style scoped>\n",
       "    .dataframe tbody tr th:only-of-type {\n",
       "        vertical-align: middle;\n",
       "    }\n",
       "\n",
       "    .dataframe tbody tr th {\n",
       "        vertical-align: top;\n",
       "    }\n",
       "\n",
       "    .dataframe thead th {\n",
       "        text-align: right;\n",
       "    }\n",
       "</style>\n",
       "<table border=\"1\" class=\"dataframe\">\n",
       "  <thead>\n",
       "    <tr style=\"text-align: right;\">\n",
       "      <th></th>\n",
       "      <th>index</th>\n",
       "      <th>name</th>\n",
       "      <th>text</th>\n",
       "      <th>episode</th>\n",
       "      <th>timestamp</th>\n",
       "      <th>inaudible_speech</th>\n",
       "    </tr>\n",
       "  </thead>\n",
       "  <tbody>\n",
       "    <tr>\n",
       "      <th>323307</th>\n",
       "      <td>197</td>\n",
       "      <td>LAURA</td>\n",
       "      <td>I have Not(t).</td>\n",
       "      <td>69</td>\n",
       "      <td>00:19:27</td>\n",
       "      <td>NaN</td>\n",
       "    </tr>\n",
       "    <tr>\n",
       "      <th>323309</th>\n",
       "      <td>199</td>\n",
       "      <td>LAURA</td>\n",
       "      <td>I have Not(t).</td>\n",
       "      <td>69</td>\n",
       "      <td>00:19:32</td>\n",
       "      <td>NaN</td>\n",
       "    </tr>\n",
       "    <tr>\n",
       "      <th>323333</th>\n",
       "      <td>223</td>\n",
       "      <td>LAURA</td>\n",
       "      <td>I will not(t).</td>\n",
       "      <td>69</td>\n",
       "      <td>00:21:14</td>\n",
       "      <td>NaN</td>\n",
       "    </tr>\n",
       "  </tbody>\n",
       "</table>\n",
       "</div>"
      ],
      "text/plain": [
       "        index   name             text episode timestamp inaudible_speech\n",
       "323307    197  LAURA  I have Not(t).       69  00:19:27              NaN\n",
       "323309    199  LAURA  I have Not(t).       69  00:19:32              NaN\n",
       "323333    223  LAURA  I will not(t).       69  00:21:14              NaN"
      ]
     },
     "execution_count": 46,
     "metadata": {},
     "output_type": "execute_result"
    }
   ],
   "source": [
    "cr_df[cr_df['text'].str.contains(r'\\(t\\)')]\n",
    "#another line i discovered was a problem - this isn't a sound, it's a pun transcibed to show the meaning (not) a play on\n",
    "#a character's name (nott) - since we ditched the sound effects in [brackets] I'll transform this so my (sound) catchers skip it"
   ]
  },
  {
   "cell_type": "code",
   "execution_count": 47,
   "id": "b4ec63c8",
   "metadata": {},
   "outputs": [],
   "source": [
    "cr_df['text'] = cr_df['text'].str.replace(r'\\(t\\)', r'[t]', regex=True).astype('str')"
   ]
  },
  {
   "cell_type": "code",
   "execution_count": 48,
   "id": "15ffd3c0",
   "metadata": {},
   "outputs": [
    {
     "name": "stdout",
     "output_type": "stream",
     "text": [
      "I have Not[t]. \n",
      "I have Not[t]. \n",
      "I will not[t]. \n"
     ]
    }
   ],
   "source": [
    "print(cr_df.text[323307])\n",
    "print(cr_df.text[323309])\n",
    "print(cr_df.text[323333])"
   ]
  },
  {
   "cell_type": "code",
   "execution_count": 49,
   "id": "85e4e73d",
   "metadata": {},
   "outputs": [
    {
     "data": {
      "text/html": [
       "<div>\n",
       "<style scoped>\n",
       "    .dataframe tbody tr th:only-of-type {\n",
       "        vertical-align: middle;\n",
       "    }\n",
       "\n",
       "    .dataframe tbody tr th {\n",
       "        vertical-align: top;\n",
       "    }\n",
       "\n",
       "    .dataframe thead th {\n",
       "        text-align: right;\n",
       "    }\n",
       "</style>\n",
       "<table border=\"1\" class=\"dataframe\">\n",
       "  <thead>\n",
       "    <tr style=\"text-align: right;\">\n",
       "      <th></th>\n",
       "      <th>index</th>\n",
       "      <th>name</th>\n",
       "      <th>text</th>\n",
       "      <th>episode</th>\n",
       "      <th>timestamp</th>\n",
       "      <th>inaudible_speech</th>\n",
       "    </tr>\n",
       "  </thead>\n",
       "  <tbody>\n",
       "    <tr>\n",
       "      <th>356636</th>\n",
       "      <td>3063</td>\n",
       "      <td>TRAVIS</td>\n",
       "      <td>Bring me his head(s).</td>\n",
       "      <td>78</td>\n",
       "      <td>04:05:16</td>\n",
       "      <td>NaN</td>\n",
       "    </tr>\n",
       "  </tbody>\n",
       "</table>\n",
       "</div>"
      ],
      "text/plain": [
       "        index    name                    text episode timestamp  \\\n",
       "356636   3063  TRAVIS  Bring me his head(s).       78  04:05:16   \n",
       "\n",
       "       inaudible_speech  \n",
       "356636              NaN  "
      ]
     },
     "execution_count": 49,
     "metadata": {},
     "output_type": "execute_result"
    }
   ],
   "source": [
    "cr_df[cr_df['text'].str.contains(r'\\(s\\)')]\n",
    "#a similar instance (must have been an enemy with multiple heads) "
   ]
  },
  {
   "cell_type": "code",
   "execution_count": 50,
   "id": "e49c6e70",
   "metadata": {},
   "outputs": [],
   "source": [
    "cr_df['text'] = cr_df['text'].str.replace(r'\\(s\\)', r'[s]', regex=True).astype('str')"
   ]
  },
  {
   "cell_type": "code",
   "execution_count": 51,
   "id": "bec6f532",
   "metadata": {},
   "outputs": [
    {
     "name": "stdout",
     "output_type": "stream",
     "text": [
      "Bring me his head[s]. \n"
     ]
    }
   ],
   "source": [
    "print(cr_df.text[356636])"
   ]
  },
  {
   "cell_type": "code",
   "execution_count": 52,
   "id": "2dd249c7",
   "metadata": {},
   "outputs": [
    {
     "data": {
      "text/html": [
       "<div>\n",
       "<style scoped>\n",
       "    .dataframe tbody tr th:only-of-type {\n",
       "        vertical-align: middle;\n",
       "    }\n",
       "\n",
       "    .dataframe tbody tr th {\n",
       "        vertical-align: top;\n",
       "    }\n",
       "\n",
       "    .dataframe thead th {\n",
       "        text-align: right;\n",
       "    }\n",
       "</style>\n",
       "<table border=\"1\" class=\"dataframe\">\n",
       "  <thead>\n",
       "    <tr style=\"text-align: right;\">\n",
       "      <th></th>\n",
       "      <th>index</th>\n",
       "      <th>name</th>\n",
       "      <th>text</th>\n",
       "      <th>episode</th>\n",
       "      <th>timestamp</th>\n",
       "      <th>inaudible_speech</th>\n",
       "    </tr>\n",
       "  </thead>\n",
       "  <tbody>\n",
       "    <tr>\n",
       "      <th>145738</th>\n",
       "      <td>1183</td>\n",
       "      <td>MATT</td>\n",
       "      <td>The Critical Role Foundation is a nonprofit, 5...</td>\n",
       "      <td>141.01</td>\n",
       "      <td>01:38:10</td>\n",
       "      <td>NaN</td>\n",
       "    </tr>\n",
       "  </tbody>\n",
       "</table>\n",
       "</div>"
      ],
      "text/plain": [
       "        index  name                                               text  \\\n",
       "145738   1183  MATT  The Critical Role Foundation is a nonprofit, 5...   \n",
       "\n",
       "       episode timestamp inaudible_speech  \n",
       "145738  141.01  01:38:10              NaN  "
      ]
     },
     "execution_count": 52,
     "metadata": {},
     "output_type": "execute_result"
    }
   ],
   "source": [
    "cr_df[cr_df['text'].str.contains(r'\\(c\\)\\(3\\)')]\n",
    "#another single specific instance about their 501(c)(3) nonprofit"
   ]
  },
  {
   "cell_type": "code",
   "execution_count": 53,
   "id": "3e0a0de3",
   "metadata": {},
   "outputs": [],
   "source": [
    "cr_df['text'] = cr_df['text'].str.replace(r'\\(c\\)\\(3\\)', r'[c][3]', regex=True).astype('str')"
   ]
  },
  {
   "cell_type": "code",
   "execution_count": 54,
   "id": "9f5e94fc",
   "metadata": {},
   "outputs": [
    {
     "name": "stdout",
     "output_type": "stream",
     "text": [
      "The Critical Role Foundation is a nonprofit, 501[c][3] charitable organization that partners with other charitable organizations and endeavors. \n"
     ]
    }
   ],
   "source": [
    "print(cr_df.text[145738])"
   ]
  },
  {
   "cell_type": "code",
   "execution_count": 55,
   "id": "1bd42cfb",
   "metadata": {},
   "outputs": [
    {
     "data": {
      "text/html": [
       "<div>\n",
       "<style scoped>\n",
       "    .dataframe tbody tr th:only-of-type {\n",
       "        vertical-align: middle;\n",
       "    }\n",
       "\n",
       "    .dataframe tbody tr th {\n",
       "        vertical-align: top;\n",
       "    }\n",
       "\n",
       "    .dataframe thead th {\n",
       "        text-align: right;\n",
       "    }\n",
       "</style>\n",
       "<table border=\"1\" class=\"dataframe\">\n",
       "  <thead>\n",
       "    <tr style=\"text-align: right;\">\n",
       "      <th></th>\n",
       "      <th>index</th>\n",
       "      <th>name</th>\n",
       "      <th>text</th>\n",
       "      <th>episode</th>\n",
       "      <th>timestamp</th>\n",
       "      <th>inaudible_speech</th>\n",
       "    </tr>\n",
       "  </thead>\n",
       "  <tbody>\n",
       "    <tr>\n",
       "      <th>13602</th>\n",
       "      <td>149</td>\n",
       "      <td>MATT</td>\n",
       "      <td>(random cast noises) (water bubbling) (thunder...</td>\n",
       "      <td>103</td>\n",
       "      <td>00:09:37</td>\n",
       "      <td>NaN</td>\n",
       "    </tr>\n",
       "    <tr>\n",
       "      <th>30174</th>\n",
       "      <td>114</td>\n",
       "      <td>LIAM</td>\n",
       "      <td>(screams) (water bubbling) (thunder rumbling) ...</td>\n",
       "      <td>108</td>\n",
       "      <td>00:09:16</td>\n",
       "      <td>NaN</td>\n",
       "    </tr>\n",
       "    <tr>\n",
       "      <th>45446</th>\n",
       "      <td>101</td>\n",
       "      <td>SAM</td>\n",
       "      <td>Boomerang! (water bubbling) (thunder rumbling)...</td>\n",
       "      <td>113</td>\n",
       "      <td>00:07:21</td>\n",
       "      <td>NaN</td>\n",
       "    </tr>\n",
       "    <tr>\n",
       "      <th>62151</th>\n",
       "      <td>68</td>\n",
       "      <td>MATT</td>\n",
       "      <td>(clamoring) (water bubbling) (thunder rumbling...</td>\n",
       "      <td>118</td>\n",
       "      <td>00:07:15</td>\n",
       "      <td>NaN</td>\n",
       "    </tr>\n",
       "    <tr>\n",
       "      <th>95066</th>\n",
       "      <td>109</td>\n",
       "      <td>SAM</td>\n",
       "      <td>(yells) (water bubbling) (thunder rumbling) (e...</td>\n",
       "      <td>127</td>\n",
       "      <td>00:06:38</td>\n",
       "      <td>NaN</td>\n",
       "    </tr>\n",
       "    <tr>\n",
       "      <th>126330</th>\n",
       "      <td>61</td>\n",
       "      <td>ALL</td>\n",
       "      <td>Yeah! (water bubbling) (thunder rumbling) (exp...</td>\n",
       "      <td>136</td>\n",
       "      <td>00:06:05</td>\n",
       "      <td>NaN</td>\n",
       "    </tr>\n",
       "    <tr>\n",
       "      <th>129921</th>\n",
       "      <td>104</td>\n",
       "      <td>TALIESIN</td>\n",
       "      <td>(bleating) (water bubbling) (thunder rumbling)...</td>\n",
       "      <td>137</td>\n",
       "      <td>00:10:29</td>\n",
       "      <td>NaN</td>\n",
       "    </tr>\n",
       "    <tr>\n",
       "      <th>155737</th>\n",
       "      <td>86</td>\n",
       "      <td>SAM</td>\n",
       "      <td>Yeah! (water bubbling) (thunder rumbling) (exp...</td>\n",
       "      <td>141.03</td>\n",
       "      <td>00:06:37</td>\n",
       "      <td>NaN</td>\n",
       "    </tr>\n",
       "    <tr>\n",
       "      <th>165315</th>\n",
       "      <td>59</td>\n",
       "      <td>TRAVIS</td>\n",
       "      <td>(growling) (water bubbling) (thunder rumbling)...</td>\n",
       "      <td>141</td>\n",
       "      <td>00:08:10</td>\n",
       "      <td>NaN</td>\n",
       "    </tr>\n",
       "    <tr>\n",
       "      <th>342425</th>\n",
       "      <td>104</td>\n",
       "      <td>TRAVIS</td>\n",
       "      <td>(growling) (water bubbling) (thunder rumbling)...</td>\n",
       "      <td>75</td>\n",
       "      <td>00:08:32</td>\n",
       "      <td>NaN</td>\n",
       "    </tr>\n",
       "    <tr>\n",
       "      <th>350866</th>\n",
       "      <td>104</td>\n",
       "      <td>LIAM</td>\n",
       "      <td>(goat screaming) (water bubbling) (thunder rum...</td>\n",
       "      <td>77</td>\n",
       "      <td>00:10:02</td>\n",
       "      <td>NaN</td>\n",
       "    </tr>\n",
       "    <tr>\n",
       "      <th>356756</th>\n",
       "      <td>75</td>\n",
       "      <td>MATT</td>\n",
       "      <td>(cheering) (water bubbling) (thunder rumbling)...</td>\n",
       "      <td>79</td>\n",
       "      <td>00:08:33</td>\n",
       "      <td>NaN</td>\n",
       "    </tr>\n",
       "    <tr>\n",
       "      <th>374272</th>\n",
       "      <td>149</td>\n",
       "      <td>LIAM</td>\n",
       "      <td>McCree! (water bubbling) (thunder rumbling) (e...</td>\n",
       "      <td>83</td>\n",
       "      <td>00:10:09</td>\n",
       "      <td>NaN</td>\n",
       "    </tr>\n",
       "  </tbody>\n",
       "</table>\n",
       "</div>"
      ],
      "text/plain": [
       "        index      name                                               text  \\\n",
       "13602     149      MATT  (random cast noises) (water bubbling) (thunder...   \n",
       "30174     114      LIAM  (screams) (water bubbling) (thunder rumbling) ...   \n",
       "45446     101       SAM  Boomerang! (water bubbling) (thunder rumbling)...   \n",
       "62151      68      MATT  (clamoring) (water bubbling) (thunder rumbling...   \n",
       "95066     109       SAM  (yells) (water bubbling) (thunder rumbling) (e...   \n",
       "126330     61       ALL  Yeah! (water bubbling) (thunder rumbling) (exp...   \n",
       "129921    104  TALIESIN  (bleating) (water bubbling) (thunder rumbling)...   \n",
       "155737     86       SAM  Yeah! (water bubbling) (thunder rumbling) (exp...   \n",
       "165315     59    TRAVIS  (growling) (water bubbling) (thunder rumbling)...   \n",
       "342425    104    TRAVIS  (growling) (water bubbling) (thunder rumbling)...   \n",
       "350866    104      LIAM  (goat screaming) (water bubbling) (thunder rum...   \n",
       "356756     75      MATT  (cheering) (water bubbling) (thunder rumbling)...   \n",
       "374272    149      LIAM  McCree! (water bubbling) (thunder rumbling) (e...   \n",
       "\n",
       "       episode timestamp inaudible_speech  \n",
       "13602      103  00:09:37              NaN  \n",
       "30174      108  00:09:16              NaN  \n",
       "45446      113  00:07:21              NaN  \n",
       "62151      118  00:07:15              NaN  \n",
       "95066      127  00:06:38              NaN  \n",
       "126330     136  00:06:05              NaN  \n",
       "129921     137  00:10:29              NaN  \n",
       "155737  141.03  00:06:37              NaN  \n",
       "165315     141  00:08:10              NaN  \n",
       "342425      75  00:08:32              NaN  \n",
       "350866      77  00:10:02              NaN  \n",
       "356756      79  00:08:33              NaN  \n",
       "374272      83  00:10:09              NaN  "
      ]
     },
     "execution_count": 55,
     "metadata": {},
     "output_type": "execute_result"
    }
   ],
   "source": [
    "cr_df[cr_df['text'].str.contains(r'.* \\(water bubbling\\) \\(thunder rumbling\\).*')]\n",
    "#these ones are the transcription of the show's theme song and so I'm excluding that as well"
   ]
  },
  {
   "cell_type": "code",
   "execution_count": 56,
   "id": "88cfc963",
   "metadata": {},
   "outputs": [],
   "source": [
    "cr_df['text'] = cr_df['text'].str.replace(r'(.* )\\(water bubbling\\) \\(thunder rumbling\\).*', r'\\1', regex=True).astype('str')"
   ]
  },
  {
   "cell_type": "code",
   "execution_count": 57,
   "id": "c27cdf2e",
   "metadata": {},
   "outputs": [
    {
     "data": {
      "text/html": [
       "<div>\n",
       "<style scoped>\n",
       "    .dataframe tbody tr th:only-of-type {\n",
       "        vertical-align: middle;\n",
       "    }\n",
       "\n",
       "    .dataframe tbody tr th {\n",
       "        vertical-align: top;\n",
       "    }\n",
       "\n",
       "    .dataframe thead th {\n",
       "        text-align: right;\n",
       "    }\n",
       "</style>\n",
       "<table border=\"1\" class=\"dataframe\">\n",
       "  <thead>\n",
       "    <tr style=\"text-align: right;\">\n",
       "      <th></th>\n",
       "      <th>index</th>\n",
       "      <th>name</th>\n",
       "      <th>text</th>\n",
       "      <th>episode</th>\n",
       "      <th>timestamp</th>\n",
       "      <th>inaudible_speech</th>\n",
       "    </tr>\n",
       "  </thead>\n",
       "  <tbody>\n",
       "    <tr>\n",
       "      <th>80565</th>\n",
       "      <td>51</td>\n",
       "      <td>TRAVIS</td>\n",
       "      <td>(water bubbling) (thunder rumbling) (explosion...</td>\n",
       "      <td>123</td>\n",
       "      <td>00:06:08</td>\n",
       "      <td>NaN</td>\n",
       "    </tr>\n",
       "    <tr>\n",
       "      <th>132482</th>\n",
       "      <td>94</td>\n",
       "      <td>MATT</td>\n",
       "      <td>(water bubbling) (thunder rumbles) (explosion)...</td>\n",
       "      <td>138</td>\n",
       "      <td>00:09:36</td>\n",
       "      <td>NaN</td>\n",
       "    </tr>\n",
       "    <tr>\n",
       "      <th>155740</th>\n",
       "      <td>89</td>\n",
       "      <td>ASHLEY</td>\n",
       "      <td>They got magic and flair   They got falchions...</td>\n",
       "      <td>141.03</td>\n",
       "      <td>00:07:27</td>\n",
       "      <td>NaN</td>\n",
       "    </tr>\n",
       "    <tr>\n",
       "      <th>161765</th>\n",
       "      <td>51</td>\n",
       "      <td>ASHLEY</td>\n",
       "      <td>They got magic and flair   They got falchions...</td>\n",
       "      <td>141.04</td>\n",
       "      <td>00:23:24</td>\n",
       "      <td>NaN</td>\n",
       "    </tr>\n",
       "    <tr>\n",
       "      <th>417747</th>\n",
       "      <td>109</td>\n",
       "      <td>MATT</td>\n",
       "      <td>(roaring) (water bubbling) (booming) (booming)...</td>\n",
       "      <td>95</td>\n",
       "      <td>00:10:13</td>\n",
       "      <td>NaN</td>\n",
       "    </tr>\n",
       "  </tbody>\n",
       "</table>\n",
       "</div>"
      ],
      "text/plain": [
       "        index    name                                               text  \\\n",
       "80565      51  TRAVIS  (water bubbling) (thunder rumbling) (explosion...   \n",
       "132482     94    MATT  (water bubbling) (thunder rumbles) (explosion)...   \n",
       "155740     89  ASHLEY   They got magic and flair   They got falchions...   \n",
       "161765     51  ASHLEY   They got magic and flair   They got falchions...   \n",
       "417747    109    MATT  (roaring) (water bubbling) (booming) (booming)...   \n",
       "\n",
       "       episode timestamp inaudible_speech  \n",
       "80565      123  00:06:08              NaN  \n",
       "132482     138  00:09:36              NaN  \n",
       "155740  141.03  00:07:27              NaN  \n",
       "161765  141.04  00:23:24              NaN  \n",
       "417747      95  00:10:13              NaN  "
      ]
     },
     "execution_count": 57,
     "metadata": {},
     "output_type": "execute_result"
    }
   ],
   "source": [
    "cr_df[cr_df['text'].str.contains(r'.* \\(roll the dice\\) .*')]\n",
    "#more instances of the theme song (without sound effects transcribed)"
   ]
  },
  {
   "cell_type": "code",
   "execution_count": 58,
   "id": "6337dcf3",
   "metadata": {},
   "outputs": [],
   "source": [
    "cr_df['text'] = cr_df['text'].str.replace(r'.* \\(roll the dice\\) .*', r'', regex=True).astype('str')"
   ]
  },
  {
   "cell_type": "code",
   "execution_count": 59,
   "id": "19372477",
   "metadata": {},
   "outputs": [
    {
     "data": {
      "text/html": [
       "<div>\n",
       "<style scoped>\n",
       "    .dataframe tbody tr th:only-of-type {\n",
       "        vertical-align: middle;\n",
       "    }\n",
       "\n",
       "    .dataframe tbody tr th {\n",
       "        vertical-align: top;\n",
       "    }\n",
       "\n",
       "    .dataframe thead th {\n",
       "        text-align: right;\n",
       "    }\n",
       "</style>\n",
       "<table border=\"1\" class=\"dataframe\">\n",
       "  <thead>\n",
       "    <tr style=\"text-align: right;\">\n",
       "      <th></th>\n",
       "      <th>index</th>\n",
       "      <th>name</th>\n",
       "      <th>text</th>\n",
       "      <th>episode</th>\n",
       "      <th>timestamp</th>\n",
       "      <th>inaudible_speech</th>\n",
       "    </tr>\n",
       "  </thead>\n",
       "  <tbody>\n",
       "    <tr>\n",
       "      <th>290147</th>\n",
       "      <td>63</td>\n",
       "      <td>LIAM</td>\n",
       "      <td>Everybody sit back and be safe! (water gurglin...</td>\n",
       "      <td>59</td>\n",
       "      <td>00:07:09</td>\n",
       "      <td>NaN</td>\n",
       "    </tr>\n",
       "  </tbody>\n",
       "</table>\n",
       "</div>"
      ],
      "text/plain": [
       "        index  name                                               text  \\\n",
       "290147     63  LIAM  Everybody sit back and be safe! (water gurglin...   \n",
       "\n",
       "       episode timestamp inaudible_speech  \n",
       "290147      59  00:07:09              NaN  "
      ]
     },
     "execution_count": 59,
     "metadata": {},
     "output_type": "execute_result"
    }
   ],
   "source": [
    "cr_df[cr_df['text'].str.contains(r'.* \\(water gurgling\\) .*')]\n",
    "#and another theme song instance with \"water gurgling\" instead of \"bubbling\""
   ]
  },
  {
   "cell_type": "code",
   "execution_count": 60,
   "id": "3ba2e0a8",
   "metadata": {},
   "outputs": [],
   "source": [
    "cr_df['text'] = cr_df['text'].str.replace(r'(.* )\\(water gurgling\\) .*', r'\\1', regex=True).astype('str')"
   ]
  },
  {
   "cell_type": "code",
   "execution_count": 61,
   "id": "1388a951",
   "metadata": {},
   "outputs": [],
   "source": [
    "#cr_df[cr_df['text'].str.contains(r'.* You got the perfect warlock')]\n",
    "#more instances of theme song, inconsistently transcribed and at times with a brief spoken line before it\n",
    "#drop the song, keep the intro line"
   ]
  },
  {
   "cell_type": "code",
   "execution_count": 62,
   "id": "d338fff8",
   "metadata": {},
   "outputs": [],
   "source": [
    "cr_df['text'] = cr_df['text'].str.replace(r'(.* )You got the perfect warlock.*$', r'\\1', regex=True).astype('str')"
   ]
  },
  {
   "cell_type": "code",
   "execution_count": 63,
   "id": "6d7ae25d",
   "metadata": {},
   "outputs": [
    {
     "data": {
      "text/html": [
       "<div>\n",
       "<style scoped>\n",
       "    .dataframe tbody tr th:only-of-type {\n",
       "        vertical-align: middle;\n",
       "    }\n",
       "\n",
       "    .dataframe tbody tr th {\n",
       "        vertical-align: top;\n",
       "    }\n",
       "\n",
       "    .dataframe thead th {\n",
       "        text-align: right;\n",
       "    }\n",
       "</style>\n",
       "<table border=\"1\" class=\"dataframe\">\n",
       "  <thead>\n",
       "    <tr style=\"text-align: right;\">\n",
       "      <th></th>\n",
       "      <th>index</th>\n",
       "      <th>name</th>\n",
       "      <th>text</th>\n",
       "      <th>episode</th>\n",
       "      <th>timestamp</th>\n",
       "      <th>inaudible_speech</th>\n",
       "    </tr>\n",
       "  </thead>\n",
       "  <tbody>\n",
       "    <tr>\n",
       "      <th>433076</th>\n",
       "      <td>1751</td>\n",
       "      <td>MATT</td>\n",
       "      <td>(bright upbeat music)  You got the perfect war...</td>\n",
       "      <td>99</td>\n",
       "      <td>02:13:50</td>\n",
       "      <td>NaN</td>\n",
       "    </tr>\n",
       "  </tbody>\n",
       "</table>\n",
       "</div>"
      ],
      "text/plain": [
       "        index  name                                               text  \\\n",
       "433076   1751  MATT  (bright upbeat music)  You got the perfect war...   \n",
       "\n",
       "       episode timestamp inaudible_speech  \n",
       "433076      99  02:13:50              NaN  "
      ]
     },
     "execution_count": 63,
     "metadata": {},
     "output_type": "execute_result"
    }
   ],
   "source": [
    "cr_df[cr_df['text'].str.contains(r'.* You got the perfect warlock')]\n",
    "#this one example was not captured for some reason, so treat it again"
   ]
  },
  {
   "cell_type": "code",
   "execution_count": 64,
   "id": "b2b0957b",
   "metadata": {},
   "outputs": [],
   "source": [
    "cr_df['text'] = cr_df['text'].str.replace(r'(.* )You got the perfect warlock.*$', r'\\1', regex=True).astype('str')"
   ]
  },
  {
   "cell_type": "code",
   "execution_count": 65,
   "id": "61439ef3",
   "metadata": {},
   "outputs": [],
   "source": [
    "#cr_df[cr_df['text'].str.contains(r'.*?BRIAN \\(V\\.O\\.\\):.*')]"
   ]
  },
  {
   "cell_type": "code",
   "execution_count": 66,
   "id": "0069f2a4",
   "metadata": {},
   "outputs": [],
   "source": [
    "cr_df['text'] = cr_df['text'].str.replace(r'.*?BRIAN \\(V\\.O\\.\\):.*', r'', regex=True).astype('str')"
   ]
  },
  {
   "cell_type": "code",
   "execution_count": 67,
   "id": "9fc22f89",
   "metadata": {},
   "outputs": [],
   "source": [
    "#cr_df[cr_df['text'].str.contains(r'.*Last time,? on Talks Machina.*')]"
   ]
  },
  {
   "cell_type": "code",
   "execution_count": 68,
   "id": "de8bfb95",
   "metadata": {},
   "outputs": [],
   "source": [
    "cr_df['text'] = cr_df['text'].str.replace(r'.*Last time,? on Talks Machina.*', r'', regex=True).astype('str')"
   ]
  },
  {
   "cell_type": "code",
   "execution_count": 69,
   "id": "d9200e77",
   "metadata": {},
   "outputs": [],
   "source": [
    "#cr_df[cr_df['text'].str.contains(r'.*TRAVIS \\(V\\.O\\.\\)*')]"
   ]
  },
  {
   "cell_type": "code",
   "execution_count": 70,
   "id": "1068c1e2",
   "metadata": {},
   "outputs": [],
   "source": [
    "cr_df['text'] = cr_df['text'].str.replace(r'.*TRAVIS \\(V\\.O\\.\\)*', r'', regex=True).astype('str')"
   ]
  },
  {
   "cell_type": "markdown",
   "id": "2ebae48f",
   "metadata": {},
   "source": [
    "#### Unmatched brackets\n",
    "\n",
    "Once I got my full code working, I found some instances of lines of unmatched brackets. I'm going to fix those one by one so that they will be appropriately ignored or captured by all the treatments below"
   ]
  },
  {
   "cell_type": "code",
   "execution_count": 71,
   "id": "da37044f",
   "metadata": {},
   "outputs": [
    {
     "data": {
      "text/html": [
       "<div>\n",
       "<style scoped>\n",
       "    .dataframe tbody tr th:only-of-type {\n",
       "        vertical-align: middle;\n",
       "    }\n",
       "\n",
       "    .dataframe tbody tr th {\n",
       "        vertical-align: top;\n",
       "    }\n",
       "\n",
       "    .dataframe thead th {\n",
       "        text-align: right;\n",
       "    }\n",
       "</style>\n",
       "<table border=\"1\" class=\"dataframe\">\n",
       "  <thead>\n",
       "    <tr style=\"text-align: right;\">\n",
       "      <th></th>\n",
       "      <th>index</th>\n",
       "      <th>name</th>\n",
       "      <th>text</th>\n",
       "      <th>episode</th>\n",
       "      <th>timestamp</th>\n",
       "      <th>inaudible_speech</th>\n",
       "    </tr>\n",
       "  </thead>\n",
       "  <tbody>\n",
       "    <tr>\n",
       "      <th>397668</th>\n",
       "      <td>1022</td>\n",
       "      <td>MATT</td>\n",
       "      <td>(Metal clanging \"Hello?\"</td>\n",
       "      <td>9</td>\n",
       "      <td>01:37:05</td>\n",
       "      <td>NaN</td>\n",
       "    </tr>\n",
       "  </tbody>\n",
       "</table>\n",
       "</div>"
      ],
      "text/plain": [
       "        index  name                       text episode timestamp  \\\n",
       "397668   1022  MATT  (Metal clanging \"Hello?\"        9  01:37:05   \n",
       "\n",
       "       inaudible_speech  \n",
       "397668              NaN  "
      ]
     },
     "execution_count": 71,
     "metadata": {},
     "output_type": "execute_result"
    }
   ],
   "source": [
    "cr_df[cr_df['text'].str.contains('\\(Metal clanging .*')]"
   ]
  },
  {
   "cell_type": "code",
   "execution_count": 72,
   "id": "adae8e9b",
   "metadata": {},
   "outputs": [],
   "source": [
    "cr_df['text'] = cr_df['text'].str.replace(r'\\(Metal clanging (.*)', r'(Metal clanging) \\1', regex=True).astype('str')"
   ]
  },
  {
   "cell_type": "code",
   "execution_count": 73,
   "id": "04330f39",
   "metadata": {},
   "outputs": [
    {
     "data": {
      "text/html": [
       "<div>\n",
       "<style scoped>\n",
       "    .dataframe tbody tr th:only-of-type {\n",
       "        vertical-align: middle;\n",
       "    }\n",
       "\n",
       "    .dataframe tbody tr th {\n",
       "        vertical-align: top;\n",
       "    }\n",
       "\n",
       "    .dataframe thead th {\n",
       "        text-align: right;\n",
       "    }\n",
       "</style>\n",
       "<table border=\"1\" class=\"dataframe\">\n",
       "  <thead>\n",
       "    <tr style=\"text-align: right;\">\n",
       "      <th></th>\n",
       "      <th>index</th>\n",
       "      <th>name</th>\n",
       "      <th>text</th>\n",
       "      <th>episode</th>\n",
       "      <th>timestamp</th>\n",
       "      <th>inaudible_speech</th>\n",
       "    </tr>\n",
       "  </thead>\n",
       "  <tbody>\n",
       "    <tr>\n",
       "      <th>400946</th>\n",
       "      <td>2067</td>\n",
       "      <td>LAURA</td>\n",
       "      <td>(pigeon cooing</td>\n",
       "      <td>90</td>\n",
       "      <td>02:51:29</td>\n",
       "      <td>NaN</td>\n",
       "    </tr>\n",
       "  </tbody>\n",
       "</table>\n",
       "</div>"
      ],
      "text/plain": [
       "        index   name             text episode timestamp inaudible_speech\n",
       "400946   2067  LAURA  (pigeon cooing       90  02:51:29              NaN"
      ]
     },
     "execution_count": 73,
     "metadata": {},
     "output_type": "execute_result"
    }
   ],
   "source": [
    "cr_df[cr_df['text'].str.contains('\\(pigeon cooing $')]"
   ]
  },
  {
   "cell_type": "code",
   "execution_count": 74,
   "id": "38ca8f12",
   "metadata": {},
   "outputs": [],
   "source": [
    "cr_df['text'] = cr_df['text'].str.replace(r'\\(pigeon cooing $', r'(pigeon cooing)', regex=True).astype('str')"
   ]
  },
  {
   "cell_type": "code",
   "execution_count": 75,
   "id": "1063a839",
   "metadata": {},
   "outputs": [
    {
     "data": {
      "text/html": [
       "<div>\n",
       "<style scoped>\n",
       "    .dataframe tbody tr th:only-of-type {\n",
       "        vertical-align: middle;\n",
       "    }\n",
       "\n",
       "    .dataframe tbody tr th {\n",
       "        vertical-align: top;\n",
       "    }\n",
       "\n",
       "    .dataframe thead th {\n",
       "        text-align: right;\n",
       "    }\n",
       "</style>\n",
       "<table border=\"1\" class=\"dataframe\">\n",
       "  <thead>\n",
       "    <tr style=\"text-align: right;\">\n",
       "      <th></th>\n",
       "      <th>index</th>\n",
       "      <th>name</th>\n",
       "      <th>text</th>\n",
       "      <th>episode</th>\n",
       "      <th>timestamp</th>\n",
       "      <th>inaudible_speech</th>\n",
       "    </tr>\n",
       "  </thead>\n",
       "  <tbody>\n",
       "    <tr>\n",
       "      <th>433803</th>\n",
       "      <td>2478</td>\n",
       "      <td>MATT</td>\n",
       "      <td>(as Essek \"Outwardly, at least.\"</td>\n",
       "      <td>99</td>\n",
       "      <td>03:32:38</td>\n",
       "      <td>NaN</td>\n",
       "    </tr>\n",
       "  </tbody>\n",
       "</table>\n",
       "</div>"
      ],
      "text/plain": [
       "        index  name                               text episode timestamp  \\\n",
       "433803   2478  MATT  (as Essek \"Outwardly, at least.\"       99  03:32:38   \n",
       "\n",
       "       inaudible_speech  \n",
       "433803              NaN  "
      ]
     },
     "execution_count": 75,
     "metadata": {},
     "output_type": "execute_result"
    }
   ],
   "source": [
    "cr_df[cr_df['text'].str.contains('\\(as Essek .*')]"
   ]
  },
  {
   "cell_type": "code",
   "execution_count": 76,
   "id": "d5074e52",
   "metadata": {},
   "outputs": [],
   "source": [
    "cr_df['text'] = cr_df['text'].str.replace(r'\\(as Essek (.*)', r'(as Essek) \\1', regex=True).astype('str')"
   ]
  },
  {
   "cell_type": "code",
   "execution_count": 77,
   "id": "eb403ec9",
   "metadata": {},
   "outputs": [
    {
     "data": {
      "text/html": [
       "<div>\n",
       "<style scoped>\n",
       "    .dataframe tbody tr th:only-of-type {\n",
       "        vertical-align: middle;\n",
       "    }\n",
       "\n",
       "    .dataframe tbody tr th {\n",
       "        vertical-align: top;\n",
       "    }\n",
       "\n",
       "    .dataframe thead th {\n",
       "        text-align: right;\n",
       "    }\n",
       "</style>\n",
       "<table border=\"1\" class=\"dataframe\">\n",
       "  <thead>\n",
       "    <tr style=\"text-align: right;\">\n",
       "      <th></th>\n",
       "      <th>index</th>\n",
       "      <th>name</th>\n",
       "      <th>text</th>\n",
       "      <th>episode</th>\n",
       "      <th>timestamp</th>\n",
       "      <th>inaudible_speech</th>\n",
       "    </tr>\n",
       "  </thead>\n",
       "  <tbody>\n",
       "    <tr>\n",
       "      <th>183223</th>\n",
       "      <td>696</td>\n",
       "      <td>MATT</td>\n",
       "      <td>There's some claps in the back rooms. You see ...</td>\n",
       "      <td>2</td>\n",
       "      <td>01:14:49</td>\n",
       "      <td>NaN</td>\n",
       "    </tr>\n",
       "  </tbody>\n",
       "</table>\n",
       "</div>"
      ],
      "text/plain": [
       "        index  name                                               text  \\\n",
       "183223    696  MATT  There's some claps in the back rooms. You see ...   \n",
       "\n",
       "       episode timestamp inaudible_speech  \n",
       "183223       2  01:14:49              NaN  "
      ]
     },
     "execution_count": 77,
     "metadata": {},
     "output_type": "execute_result"
    }
   ],
   "source": [
    "cr_df[cr_df['text'].str.contains('.* impressive!\" \\(')]"
   ]
  },
  {
   "cell_type": "code",
   "execution_count": 78,
   "id": "44f9d92a",
   "metadata": {},
   "outputs": [],
   "source": [
    "cr_df['text'] = cr_df['text'].str.replace(r'(.* impressive!\") \\(', r'\\1', regex=True).astype('str')"
   ]
  },
  {
   "cell_type": "code",
   "execution_count": 79,
   "id": "8746f21b",
   "metadata": {},
   "outputs": [
    {
     "data": {
      "text/html": [
       "<div>\n",
       "<style scoped>\n",
       "    .dataframe tbody tr th:only-of-type {\n",
       "        vertical-align: middle;\n",
       "    }\n",
       "\n",
       "    .dataframe tbody tr th {\n",
       "        vertical-align: top;\n",
       "    }\n",
       "\n",
       "    .dataframe thead th {\n",
       "        text-align: right;\n",
       "    }\n",
       "</style>\n",
       "<table border=\"1\" class=\"dataframe\">\n",
       "  <thead>\n",
       "    <tr style=\"text-align: right;\">\n",
       "      <th></th>\n",
       "      <th>index</th>\n",
       "      <th>name</th>\n",
       "      <th>text</th>\n",
       "      <th>episode</th>\n",
       "      <th>timestamp</th>\n",
       "      <th>inaudible_speech</th>\n",
       "    </tr>\n",
       "  </thead>\n",
       "  <tbody>\n",
       "    <tr>\n",
       "      <th>81562</th>\n",
       "      <td>1048</td>\n",
       "      <td>TRAVIS</td>\n",
       "      <td>(</td>\n",
       "      <td>123</td>\n",
       "      <td>00:57:20</td>\n",
       "      <td>NaN</td>\n",
       "    </tr>\n",
       "  </tbody>\n",
       "</table>\n",
       "</div>"
      ],
      "text/plain": [
       "       index    name text episode timestamp inaudible_speech\n",
       "81562   1048  TRAVIS    (     123  00:57:20              NaN"
      ]
     },
     "execution_count": 79,
     "metadata": {},
     "output_type": "execute_result"
    }
   ],
   "source": [
    "cr_df[cr_df['text'].str.contains('\\($')]"
   ]
  },
  {
   "cell_type": "code",
   "execution_count": 80,
   "id": "926dbf61",
   "metadata": {},
   "outputs": [],
   "source": [
    "cr_df['text'] = cr_df['text'].str.replace(r'\\($', r'', regex=True).astype('str')"
   ]
  },
  {
   "cell_type": "markdown",
   "id": "e042f0a6",
   "metadata": {},
   "source": [
    "Okay, so that gets rid of a lot of the strange one-off cases i've run into in my hours and hours (and hours) of working on the regex to get these columns split into two parts. After that treatment, I'm going to re-run the sample nonspeech process from above to single out examples from the df that ONLY contain (sounds) and no other text."
   ]
  },
  {
   "cell_type": "markdown",
   "id": "538b39ee",
   "metadata": {},
   "source": [
    "#### Creating nonspeech column"
   ]
  },
  {
   "cell_type": "code",
   "execution_count": 81,
   "id": "413c69f5",
   "metadata": {},
   "outputs": [],
   "source": [
    "#cr_df[cr_df['text'].str.contains('^\\(.*\\) $')]"
   ]
  },
  {
   "cell_type": "code",
   "execution_count": 82,
   "id": "d06f631a",
   "metadata": {},
   "outputs": [],
   "source": [
    "nonspeech_df = pd.DataFrame(cr_df[cr_df['text'].str.contains('^\\(.*\\) $')])"
   ]
  },
  {
   "cell_type": "code",
   "execution_count": 83,
   "id": "82c9fbec",
   "metadata": {},
   "outputs": [
    {
     "data": {
      "text/plain": [
       "5                          (laughter) \n",
       "7                          (laughter) \n",
       "54                         (laughter) \n",
       "86                 (nervous laughter) \n",
       "135                        (laughter) \n",
       "                      ...             \n",
       "433938                     (laughter) \n",
       "433990                    (screaming) \n",
       "434027                     (cheering) \n",
       "434050                     (cheering) \n",
       "434051    (dramatic orchestral music) \n",
       "Name: text, Length: 11421, dtype: object"
      ]
     },
     "execution_count": 83,
     "metadata": {},
     "output_type": "execute_result"
    }
   ],
   "source": [
    "nonspeech = pd.Series(nonspeech_df['text'])\n",
    "nonspeech"
   ]
  },
  {
   "cell_type": "code",
   "execution_count": 84,
   "id": "cc3b341c",
   "metadata": {},
   "outputs": [],
   "source": [
    "cr_df['text'] = cr_df['text'].str.replace(r'^\\(.*\\) $', r'', regex=True).astype('str')"
   ]
  },
  {
   "cell_type": "code",
   "execution_count": 85,
   "id": "79109cf1",
   "metadata": {},
   "outputs": [],
   "source": [
    "#cr_df[cr_df['text'].str.contains('^ \\(.*\\) $')]"
   ]
  },
  {
   "cell_type": "code",
   "execution_count": 86,
   "id": "46e54ca6",
   "metadata": {},
   "outputs": [],
   "source": [
    "morens_df = pd.DataFrame(cr_df[cr_df['text'].str.contains('^ \\(.*\\) $')])"
   ]
  },
  {
   "cell_type": "code",
   "execution_count": 87,
   "id": "a36d33ee",
   "metadata": {},
   "outputs": [
    {
     "data": {
      "text/plain": [
       "10572                                           (laughter) \n",
       "90540                                          (explosion) \n",
       "123092             (Addams Family theme music)  (laughter) \n",
       "149350     (bright music) (bright music) (bright music) ...\n",
       "162236                                          (laughter) \n",
       "162528                                          (laughter) \n",
       "162798                                          (laughter) \n",
       "162804                                          (laughter) \n",
       "162993                                          (laughter) \n",
       "282834                                 (slamming) (crying) \n",
       "322213                     (Beginning of \"Immigrant Song\") \n",
       "323561                       (Girl from Ipanema)  (laughs) \n",
       "333502                                    (dramatic music) \n",
       "347831                                          (laughter) \n",
       "421679                                          (laughter) \n",
       "Name: text, dtype: object"
      ]
     },
     "execution_count": 87,
     "metadata": {},
     "output_type": "execute_result"
    }
   ],
   "source": [
    "more_nonspeech = pd.Series(morens_df['text'])\n",
    "more_nonspeech"
   ]
  },
  {
   "cell_type": "code",
   "execution_count": 88,
   "id": "6c8564a9",
   "metadata": {},
   "outputs": [],
   "source": [
    "cr_df['text'] = cr_df['text'].str.replace(r'^ \\(.*\\) $', r'', regex=True).astype('str')"
   ]
  },
  {
   "cell_type": "code",
   "execution_count": 89,
   "id": "1f1014d6",
   "metadata": {},
   "outputs": [],
   "source": [
    "cr_df['text'] = cr_df['text'].str.replace(r'\\(ominous music\\) \\(unlocking\\) .*$', r'', regex=True).astype('str')\n",
    "#this is another theme/opening to the show, not part of the show"
   ]
  },
  {
   "cell_type": "markdown",
   "id": "e433a215",
   "metadata": {},
   "source": [
    "No Series too small for this DF - a lot of my regex wasn't capturing complex long examples with many brackets, so I'm just going to narrow them down smaller and smaller. Even if it's just a single line series, it'll be a big help."
   ]
  },
  {
   "cell_type": "code",
   "execution_count": 90,
   "id": "1a1f1073",
   "metadata": {},
   "outputs": [
    {
     "data": {
      "text/html": [
       "<div>\n",
       "<style scoped>\n",
       "    .dataframe tbody tr th:only-of-type {\n",
       "        vertical-align: middle;\n",
       "    }\n",
       "\n",
       "    .dataframe tbody tr th {\n",
       "        vertical-align: top;\n",
       "    }\n",
       "\n",
       "    .dataframe thead th {\n",
       "        text-align: right;\n",
       "    }\n",
       "</style>\n",
       "<table border=\"1\" class=\"dataframe\">\n",
       "  <thead>\n",
       "    <tr style=\"text-align: right;\">\n",
       "      <th></th>\n",
       "      <th>index</th>\n",
       "      <th>name</th>\n",
       "      <th>text</th>\n",
       "      <th>episode</th>\n",
       "      <th>timestamp</th>\n",
       "      <th>inaudible_speech</th>\n",
       "    </tr>\n",
       "  </thead>\n",
       "  <tbody>\n",
       "    <tr>\n",
       "      <th>401526</th>\n",
       "      <td>2647</td>\n",
       "      <td>LAURA</td>\n",
       "      <td>Spiritual Weapon! (crappy beatboxing) (laughte...</td>\n",
       "      <td>90</td>\n",
       "      <td>03:48:39</td>\n",
       "      <td>NaN</td>\n",
       "    </tr>\n",
       "  </tbody>\n",
       "</table>\n",
       "</div>"
      ],
      "text/plain": [
       "        index   name                                               text  \\\n",
       "401526   2647  LAURA  Spiritual Weapon! (crappy beatboxing) (laughte...   \n",
       "\n",
       "       episode timestamp inaudible_speech  \n",
       "401526      90  03:48:39              NaN  "
      ]
     },
     "execution_count": 90,
     "metadata": {},
     "output_type": "execute_result"
    }
   ],
   "source": [
    "cr_df[cr_df['text'].str.contains('^.* \\(.*\\).* \\(.*\\).* \\(.*\\).* \\(.*\\).* \\(.*\\).* \\(.*\\).* \\(.*\\).* \\(.*\\),*?.*$')]"
   ]
  },
  {
   "cell_type": "code",
   "execution_count": 91,
   "id": "1959abbc",
   "metadata": {},
   "outputs": [],
   "source": [
    "eight_bracks = pd.DataFrame(cr_df[cr_df['text'].str.contains('^.* \\(.*\\).* \\(.*\\).* \\(.*\\).* \\(.*\\).* \\(.*\\).* \\(.*\\).* \\(.*\\).* \\(.*\\),*?.*$')])"
   ]
  },
  {
   "cell_type": "code",
   "execution_count": 92,
   "id": "36984669",
   "metadata": {},
   "outputs": [
    {
     "data": {
      "text/html": [
       "<div>\n",
       "<style scoped>\n",
       "    .dataframe tbody tr th:only-of-type {\n",
       "        vertical-align: middle;\n",
       "    }\n",
       "\n",
       "    .dataframe tbody tr th {\n",
       "        vertical-align: top;\n",
       "    }\n",
       "\n",
       "    .dataframe thead th {\n",
       "        text-align: right;\n",
       "    }\n",
       "</style>\n",
       "<table border=\"1\" class=\"dataframe\">\n",
       "  <thead>\n",
       "    <tr style=\"text-align: right;\">\n",
       "      <th></th>\n",
       "      <th>index</th>\n",
       "      <th>name</th>\n",
       "      <th>text</th>\n",
       "      <th>episode</th>\n",
       "      <th>timestamp</th>\n",
       "      <th>inaudible_speech</th>\n",
       "    </tr>\n",
       "  </thead>\n",
       "  <tbody>\n",
       "    <tr>\n",
       "      <th>401526</th>\n",
       "      <td>2647</td>\n",
       "      <td>LAURA</td>\n",
       "      <td>(crappy beatboxing) (laughter) (Sam vocalizing...</td>\n",
       "      <td>90</td>\n",
       "      <td>03:48:39</td>\n",
       "      <td>NaN</td>\n",
       "    </tr>\n",
       "  </tbody>\n",
       "</table>\n",
       "</div>"
      ],
      "text/plain": [
       "        index   name                                               text  \\\n",
       "401526   2647  LAURA  (crappy beatboxing) (laughter) (Sam vocalizing...   \n",
       "\n",
       "       episode timestamp inaudible_speech  \n",
       "401526      90  03:48:39              NaN  "
      ]
     },
     "execution_count": 92,
     "metadata": {},
     "output_type": "execute_result"
    }
   ],
   "source": [
    "eight_bracks['text'] = eight_bracks['text'].str.replace(r'^.* (\\(.*\\).* \\(.*\\).* \\(.*\\).* \\(.*\\).* \\(.*\\).* \\(.*\\).* \\(.*\\).* \\(.*\\),*?.*$)', r'\\1', regex=True).astype('str')\n",
    "eight_bracks"
   ]
  },
  {
   "cell_type": "code",
   "execution_count": 93,
   "id": "a005a1f0",
   "metadata": {},
   "outputs": [
    {
     "data": {
      "text/plain": [
       "401526    (crappy beatboxing) (laughter) (Sam vocalizing...\n",
       "Name: text, dtype: object"
      ]
     },
     "execution_count": 93,
     "metadata": {},
     "output_type": "execute_result"
    }
   ],
   "source": [
    "eight = pd.Series(eight_bracks['text'])\n",
    "eight"
   ]
  },
  {
   "cell_type": "code",
   "execution_count": 94,
   "id": "2727f0dc",
   "metadata": {},
   "outputs": [],
   "source": [
    "cr_df['text'] = cr_df['text'].str.replace(r'(^.* )\\(.*\\).* \\(.*\\).* \\(.*\\).* \\(.*\\).* \\(.*\\).* \\(.*\\).* \\(.*\\).* \\(.*\\),*?.*$', r'\\1', regex=True).astype('str')"
   ]
  },
  {
   "cell_type": "code",
   "execution_count": 95,
   "id": "cdfbf1b3",
   "metadata": {},
   "outputs": [
    {
     "data": {
      "text/html": [
       "<div>\n",
       "<style scoped>\n",
       "    .dataframe tbody tr th:only-of-type {\n",
       "        vertical-align: middle;\n",
       "    }\n",
       "\n",
       "    .dataframe tbody tr th {\n",
       "        vertical-align: top;\n",
       "    }\n",
       "\n",
       "    .dataframe thead th {\n",
       "        text-align: right;\n",
       "    }\n",
       "</style>\n",
       "<table border=\"1\" class=\"dataframe\">\n",
       "  <thead>\n",
       "    <tr style=\"text-align: right;\">\n",
       "      <th></th>\n",
       "      <th>index</th>\n",
       "      <th>name</th>\n",
       "      <th>text</th>\n",
       "      <th>episode</th>\n",
       "      <th>timestamp</th>\n",
       "      <th>inaudible_speech</th>\n",
       "    </tr>\n",
       "  </thead>\n",
       "  <tbody>\n",
       "    <tr>\n",
       "      <th>125849</th>\n",
       "      <td>2714</td>\n",
       "      <td>MATT</td>\n",
       "      <td>I'll say it hits, and you watch as two of the ...</td>\n",
       "      <td>135</td>\n",
       "      <td>03:23:54</td>\n",
       "      <td>NaN</td>\n",
       "    </tr>\n",
       "  </tbody>\n",
       "</table>\n",
       "</div>"
      ],
      "text/plain": [
       "        index  name                                               text  \\\n",
       "125849   2714  MATT  I'll say it hits, and you watch as two of the ...   \n",
       "\n",
       "       episode timestamp inaudible_speech  \n",
       "125849     135  03:23:54              NaN  "
      ]
     },
     "execution_count": 95,
     "metadata": {},
     "output_type": "execute_result"
    }
   ],
   "source": [
    "cr_df[cr_df['text'].str.contains('^.* \\(.*\\).* \\(.*\\).* \\(.*\\).* \\(.*\\).* \\(.*\\).* \\(.*\\),*?.*$')]"
   ]
  },
  {
   "cell_type": "code",
   "execution_count": 96,
   "id": "c0cba579",
   "metadata": {},
   "outputs": [],
   "source": [
    "six_bracks = pd.DataFrame(cr_df[cr_df['text'].str.contains('^.* \\(.*\\).* \\(.*\\).* \\(.*\\).* \\(.*\\).* \\(.*\\).* \\(.*\\),*?.*$')])"
   ]
  },
  {
   "cell_type": "code",
   "execution_count": 97,
   "id": "a4fe3f8c",
   "metadata": {},
   "outputs": [
    {
     "data": {
      "text/html": [
       "<div>\n",
       "<style scoped>\n",
       "    .dataframe tbody tr th:only-of-type {\n",
       "        vertical-align: middle;\n",
       "    }\n",
       "\n",
       "    .dataframe tbody tr th {\n",
       "        vertical-align: top;\n",
       "    }\n",
       "\n",
       "    .dataframe thead th {\n",
       "        text-align: right;\n",
       "    }\n",
       "</style>\n",
       "<table border=\"1\" class=\"dataframe\">\n",
       "  <thead>\n",
       "    <tr style=\"text-align: right;\">\n",
       "      <th></th>\n",
       "      <th>index</th>\n",
       "      <th>name</th>\n",
       "      <th>text</th>\n",
       "      <th>episode</th>\n",
       "      <th>timestamp</th>\n",
       "      <th>inaudible_speech</th>\n",
       "    </tr>\n",
       "  </thead>\n",
       "  <tbody>\n",
       "    <tr>\n",
       "      <th>125849</th>\n",
       "      <td>2714</td>\n",
       "      <td>MATT</td>\n",
       "      <td>(snarling) (giggling) (laughter) (snarling) (s...</td>\n",
       "      <td>135</td>\n",
       "      <td>03:23:54</td>\n",
       "      <td>NaN</td>\n",
       "    </tr>\n",
       "  </tbody>\n",
       "</table>\n",
       "</div>"
      ],
      "text/plain": [
       "        index  name                                               text  \\\n",
       "125849   2714  MATT  (snarling) (giggling) (laughter) (snarling) (s...   \n",
       "\n",
       "       episode timestamp inaudible_speech  \n",
       "125849     135  03:23:54              NaN  "
      ]
     },
     "execution_count": 97,
     "metadata": {},
     "output_type": "execute_result"
    }
   ],
   "source": [
    "six_bracks['text'] = six_bracks['text'].str.replace(r'^.* (\\(.*\\)).* (\\(.*\\)).* (\\(.*\\)).* (\\(.*\\)).* (\\(.*\\)).* (\\(.*\\)),*?.*$', r'\\1 \\2 \\3 \\4 \\5 \\6', regex=True).astype('str')\n",
    "six_bracks"
   ]
  },
  {
   "cell_type": "code",
   "execution_count": 98,
   "id": "f2b1af0e",
   "metadata": {},
   "outputs": [
    {
     "data": {
      "text/plain": [
       "125849    (snarling) (giggling) (laughter) (snarling) (s...\n",
       "Name: text, dtype: object"
      ]
     },
     "execution_count": 98,
     "metadata": {},
     "output_type": "execute_result"
    }
   ],
   "source": [
    "six = pd.Series(six_bracks['text'])\n",
    "six"
   ]
  },
  {
   "cell_type": "code",
   "execution_count": 99,
   "id": "1dc6cdba",
   "metadata": {},
   "outputs": [],
   "source": [
    "cr_df['text'] = cr_df['text'].str.replace(r'(^.* )\\(.*\\)(.* )\\(.*\\)(.* )\\(.*\\)(.* )\\(.*\\)(.* )\\(.*\\)(.* )\\(.*\\),*?.*$', r'\\1 \\2 \\3 \\4 \\5 \\6', regex=True).astype('str')"
   ]
  },
  {
   "cell_type": "code",
   "execution_count": 100,
   "id": "5a56605f",
   "metadata": {},
   "outputs": [
    {
     "data": {
      "text/html": [
       "<div>\n",
       "<style scoped>\n",
       "    .dataframe tbody tr th:only-of-type {\n",
       "        vertical-align: middle;\n",
       "    }\n",
       "\n",
       "    .dataframe tbody tr th {\n",
       "        vertical-align: top;\n",
       "    }\n",
       "\n",
       "    .dataframe thead th {\n",
       "        text-align: right;\n",
       "    }\n",
       "</style>\n",
       "<table border=\"1\" class=\"dataframe\">\n",
       "  <thead>\n",
       "    <tr style=\"text-align: right;\">\n",
       "      <th></th>\n",
       "      <th>index</th>\n",
       "      <th>name</th>\n",
       "      <th>text</th>\n",
       "      <th>episode</th>\n",
       "      <th>timestamp</th>\n",
       "      <th>inaudible_speech</th>\n",
       "    </tr>\n",
       "  </thead>\n",
       "  <tbody>\n",
       "    <tr>\n",
       "      <th>70836</th>\n",
       "      <td>1833</td>\n",
       "      <td>MATT</td>\n",
       "      <td>You watch as Frumpkin runs past (cat yowling) ...</td>\n",
       "      <td>12</td>\n",
       "      <td>02:29:05</td>\n",
       "      <td>NaN</td>\n",
       "    </tr>\n",
       "    <tr>\n",
       "      <th>206106</th>\n",
       "      <td>1253</td>\n",
       "      <td>MATT</td>\n",
       "      <td>As you hold the goodberry out, which, with you...</td>\n",
       "      <td>27</td>\n",
       "      <td>02:21:19</td>\n",
       "      <td>NaN</td>\n",
       "    </tr>\n",
       "  </tbody>\n",
       "</table>\n",
       "</div>"
      ],
      "text/plain": [
       "        index  name                                               text  \\\n",
       "70836    1833  MATT  You watch as Frumpkin runs past (cat yowling) ...   \n",
       "206106   1253  MATT  As you hold the goodberry out, which, with you...   \n",
       "\n",
       "       episode timestamp inaudible_speech  \n",
       "70836       12  02:29:05              NaN  \n",
       "206106      27  02:21:19              NaN  "
      ]
     },
     "execution_count": 100,
     "metadata": {},
     "output_type": "execute_result"
    }
   ],
   "source": [
    "cr_df[cr_df['text'].str.contains('^.* \\(.*\\).* \\(.*\\).* \\(.*\\).* \\(.*\\).* \\(.*\\),*?.*$')]"
   ]
  },
  {
   "cell_type": "code",
   "execution_count": 101,
   "id": "d78187ec",
   "metadata": {},
   "outputs": [],
   "source": [
    "five_bracks = pd.DataFrame(cr_df[cr_df['text'].str.contains('^.* \\(.*\\).* \\(.*\\).* \\(.*\\).* \\(.*\\).* \\(.*\\),*?.*$')])"
   ]
  },
  {
   "cell_type": "code",
   "execution_count": 102,
   "id": "a7806ba1",
   "metadata": {},
   "outputs": [
    {
     "data": {
      "text/html": [
       "<div>\n",
       "<style scoped>\n",
       "    .dataframe tbody tr th:only-of-type {\n",
       "        vertical-align: middle;\n",
       "    }\n",
       "\n",
       "    .dataframe tbody tr th {\n",
       "        vertical-align: top;\n",
       "    }\n",
       "\n",
       "    .dataframe thead th {\n",
       "        text-align: right;\n",
       "    }\n",
       "</style>\n",
       "<table border=\"1\" class=\"dataframe\">\n",
       "  <thead>\n",
       "    <tr style=\"text-align: right;\">\n",
       "      <th></th>\n",
       "      <th>index</th>\n",
       "      <th>name</th>\n",
       "      <th>text</th>\n",
       "      <th>episode</th>\n",
       "      <th>timestamp</th>\n",
       "      <th>inaudible_speech</th>\n",
       "    </tr>\n",
       "  </thead>\n",
       "  <tbody>\n",
       "    <tr>\n",
       "      <th>70836</th>\n",
       "      <td>1833</td>\n",
       "      <td>MATT</td>\n",
       "      <td>(cat yowling) (dog barking) (guard stuttering)...</td>\n",
       "      <td>12</td>\n",
       "      <td>02:29:05</td>\n",
       "      <td>NaN</td>\n",
       "    </tr>\n",
       "    <tr>\n",
       "      <th>206106</th>\n",
       "      <td>1253</td>\n",
       "      <td>MATT</td>\n",
       "      <td>(bird song) (bird whistle) (bird whistle) (bir...</td>\n",
       "      <td>27</td>\n",
       "      <td>02:21:19</td>\n",
       "      <td>NaN</td>\n",
       "    </tr>\n",
       "  </tbody>\n",
       "</table>\n",
       "</div>"
      ],
      "text/plain": [
       "        index  name                                               text  \\\n",
       "70836    1833  MATT  (cat yowling) (dog barking) (guard stuttering)...   \n",
       "206106   1253  MATT  (bird song) (bird whistle) (bird whistle) (bir...   \n",
       "\n",
       "       episode timestamp inaudible_speech  \n",
       "70836       12  02:29:05              NaN  \n",
       "206106      27  02:21:19              NaN  "
      ]
     },
     "execution_count": 102,
     "metadata": {},
     "output_type": "execute_result"
    }
   ],
   "source": [
    "five_bracks['text'] = five_bracks['text'].str.replace(r'^.* (\\(.*\\)).* (\\(.*\\)).* (\\(.*\\)).* (\\(.*\\)).* (\\(.*\\)),*?.*$', r'\\1 \\2 \\3 \\4 \\5', regex=True).astype('str')\n",
    "five_bracks"
   ]
  },
  {
   "cell_type": "code",
   "execution_count": 103,
   "id": "5da66944",
   "metadata": {},
   "outputs": [
    {
     "data": {
      "text/plain": [
       "70836     (cat yowling) (dog barking) (guard stuttering)...\n",
       "206106    (bird song) (bird whistle) (bird whistle) (bir...\n",
       "Name: text, dtype: object"
      ]
     },
     "execution_count": 103,
     "metadata": {},
     "output_type": "execute_result"
    }
   ],
   "source": [
    "five = pd.Series(five_bracks['text'])\n",
    "five"
   ]
  },
  {
   "cell_type": "code",
   "execution_count": 104,
   "id": "f5569d17",
   "metadata": {},
   "outputs": [],
   "source": [
    "cr_df['text'] = cr_df['text'].str.replace(r'(^.* )\\(.*\\)(.* )\\(.*\\)(.* )\\(.*\\)(.* )\\(.*\\)(.* )\\(.*\\)(,*?.*$)', r'\\1 \\2 \\3 \\4 \\5 \\6', regex=True).astype('str')"
   ]
  },
  {
   "cell_type": "code",
   "execution_count": 105,
   "id": "b39d9c2c",
   "metadata": {},
   "outputs": [
    {
     "data": {
      "text/plain": [
       "'But you\\'re now feel the (pounding on door) \"(nervous laugh) I\\'m just enjoyed some air, don\\'t worry.\" (laughter) (pounding on door) \"Son of a...\" '"
      ]
     },
     "execution_count": 105,
     "metadata": {},
     "output_type": "execute_result"
    }
   ],
   "source": [
    "cr_df.text[426372]"
   ]
  },
  {
   "cell_type": "code",
   "execution_count": 106,
   "id": "eb04a882",
   "metadata": {},
   "outputs": [],
   "source": [
    "#cr_df[cr_df['text'].str.contains('^.*\\(.*\\).*\\(.*\\).* \\(.*\\).* \\(.*\\),*?.*$')]"
   ]
  },
  {
   "cell_type": "code",
   "execution_count": 107,
   "id": "26261b54",
   "metadata": {},
   "outputs": [],
   "source": [
    "four_bracks = pd.DataFrame(cr_df[cr_df['text'].str.contains('^.*\\(.*\\).*\\(.*\\).* \\(.*\\).* \\(.*\\),*?.*$')])"
   ]
  },
  {
   "cell_type": "code",
   "execution_count": 108,
   "id": "cdc268c0",
   "metadata": {},
   "outputs": [
    {
     "data": {
      "text/html": [
       "<div>\n",
       "<style scoped>\n",
       "    .dataframe tbody tr th:only-of-type {\n",
       "        vertical-align: middle;\n",
       "    }\n",
       "\n",
       "    .dataframe tbody tr th {\n",
       "        vertical-align: top;\n",
       "    }\n",
       "\n",
       "    .dataframe thead th {\n",
       "        text-align: right;\n",
       "    }\n",
       "</style>\n",
       "<table border=\"1\" class=\"dataframe\">\n",
       "  <thead>\n",
       "    <tr style=\"text-align: right;\">\n",
       "      <th></th>\n",
       "      <th>index</th>\n",
       "      <th>name</th>\n",
       "      <th>text</th>\n",
       "      <th>episode</th>\n",
       "      <th>timestamp</th>\n",
       "      <th>inaudible_speech</th>\n",
       "    </tr>\n",
       "  </thead>\n",
       "  <tbody>\n",
       "    <tr>\n",
       "      <th>103082</th>\n",
       "      <td>2500</td>\n",
       "      <td>TRAVIS</td>\n",
       "      <td>(crunch) (explosion) (scared yelling, explosio...</td>\n",
       "      <td>129</td>\n",
       "      <td>03:37:13</td>\n",
       "      <td>NaN</td>\n",
       "    </tr>\n",
       "    <tr>\n",
       "      <th>117239</th>\n",
       "      <td>2144</td>\n",
       "      <td>NARRATOR</td>\n",
       "      <td>(light ethereal music) (whimsical adventure mu...</td>\n",
       "      <td>133</td>\n",
       "      <td>02:18:04</td>\n",
       "      <td>NaN</td>\n",
       "    </tr>\n",
       "    <tr>\n",
       "      <th>122325</th>\n",
       "      <td>3071</td>\n",
       "      <td>MATT</td>\n",
       "      <td>(arrow impact) (laughter) (arrow vibrating) (l...</td>\n",
       "      <td>134</td>\n",
       "      <td>03:28:15</td>\n",
       "      <td>NaN</td>\n",
       "    </tr>\n",
       "    <tr>\n",
       "      <th>140486</th>\n",
       "      <td>1773</td>\n",
       "      <td>MATT</td>\n",
       "      <td>(ugh) (guttural animal snorting) (whip crack) ...</td>\n",
       "      <td>14</td>\n",
       "      <td>02:53:34</td>\n",
       "      <td>NaN</td>\n",
       "    </tr>\n",
       "    <tr>\n",
       "      <th>184949</th>\n",
       "      <td>2422</td>\n",
       "      <td>MATT</td>\n",
       "      <td>(yawn) (grunt) (thumping) (yawn)</td>\n",
       "      <td>2</td>\n",
       "      <td>03:49:28</td>\n",
       "      <td>NaN</td>\n",
       "    </tr>\n",
       "    <tr>\n",
       "      <th>198310</th>\n",
       "      <td>1801</td>\n",
       "      <td>MATT</td>\n",
       "      <td>(sighs) (sighs) (crash) (distressed noises)</td>\n",
       "      <td>24</td>\n",
       "      <td>02:34:51</td>\n",
       "      <td>NaN</td>\n",
       "    </tr>\n",
       "    <tr>\n",
       "      <th>198330</th>\n",
       "      <td>1821</td>\n",
       "      <td>MATT</td>\n",
       "      <td>(cranking) (metallic song) (metallic song) (ch...</td>\n",
       "      <td>24</td>\n",
       "      <td>02:38:33</td>\n",
       "      <td>NaN</td>\n",
       "    </tr>\n",
       "    <tr>\n",
       "      <th>238453</th>\n",
       "      <td>2692</td>\n",
       "      <td>MATT</td>\n",
       "      <td>(laughing) (whooshing) (arrow firing) (landing)</td>\n",
       "      <td>39</td>\n",
       "      <td>03:30:10</td>\n",
       "      <td>NaN</td>\n",
       "    </tr>\n",
       "    <tr>\n",
       "      <th>275459</th>\n",
       "      <td>1760</td>\n",
       "      <td>MATT</td>\n",
       "      <td>(snarl) (escalating snarling) (fssh) (pop)</td>\n",
       "      <td>52</td>\n",
       "      <td>03:06:45</td>\n",
       "      <td>NaN</td>\n",
       "    </tr>\n",
       "    <tr>\n",
       "      <th>302724</th>\n",
       "      <td>1756</td>\n",
       "      <td>SAM</td>\n",
       "      <td>(\"Spring\" by Vivaldi) (\"Spring\" by Vivaldi) (\"...</td>\n",
       "      <td>62</td>\n",
       "      <td>02:15:07</td>\n",
       "      <td>NaN</td>\n",
       "    </tr>\n",
       "    <tr>\n",
       "      <th>347682</th>\n",
       "      <td>1291</td>\n",
       "      <td>MATT</td>\n",
       "      <td>(as Bat 1) (as Bat 2) (as Bat 1) (as Steve Bat)</td>\n",
       "      <td>76</td>\n",
       "      <td>01:26:27</td>\n",
       "      <td>NaN</td>\n",
       "    </tr>\n",
       "    <tr>\n",
       "      <th>365149</th>\n",
       "      <td>2121</td>\n",
       "      <td>MATT</td>\n",
       "      <td>(whooshes) (pings) (thuds) (growling)</td>\n",
       "      <td>80</td>\n",
       "      <td>02:44:12</td>\n",
       "      <td>NaN</td>\n",
       "    </tr>\n",
       "    <tr>\n",
       "      <th>377568</th>\n",
       "      <td>59</td>\n",
       "      <td>TRAVIS</td>\n",
       "      <td>(shouting) (normal voice) (shouting) (laughter)</td>\n",
       "      <td>84</td>\n",
       "      <td>00:04:17</td>\n",
       "      <td>NaN</td>\n",
       "    </tr>\n",
       "    <tr>\n",
       "      <th>382572</th>\n",
       "      <td>2265</td>\n",
       "      <td>TRAVIS</td>\n",
       "      <td>(gags) (laughs) (Western music) (upbeat music)</td>\n",
       "      <td>85</td>\n",
       "      <td>02:58:12</td>\n",
       "      <td>NaN</td>\n",
       "    </tr>\n",
       "    <tr>\n",
       "      <th>426372</th>\n",
       "      <td>1659</td>\n",
       "      <td>MATT</td>\n",
       "      <td>(pounding on door) (nervous laugh) (laughter) ...</td>\n",
       "      <td>97</td>\n",
       "      <td>03:00:13</td>\n",
       "      <td>NaN</td>\n",
       "    </tr>\n",
       "    <tr>\n",
       "      <th>433090</th>\n",
       "      <td>1765</td>\n",
       "      <td>MARISHA</td>\n",
       "      <td>(kiss) (upbeat jazz music) (intense electronic...</td>\n",
       "      <td>99</td>\n",
       "      <td>02:23:28</td>\n",
       "      <td>NaN</td>\n",
       "    </tr>\n",
       "  </tbody>\n",
       "</table>\n",
       "</div>"
      ],
      "text/plain": [
       "        index      name                                               text  \\\n",
       "103082   2500    TRAVIS  (crunch) (explosion) (scared yelling, explosio...   \n",
       "117239   2144  NARRATOR  (light ethereal music) (whimsical adventure mu...   \n",
       "122325   3071      MATT  (arrow impact) (laughter) (arrow vibrating) (l...   \n",
       "140486   1773      MATT  (ugh) (guttural animal snorting) (whip crack) ...   \n",
       "184949   2422      MATT                   (yawn) (grunt) (thumping) (yawn)   \n",
       "198310   1801      MATT        (sighs) (sighs) (crash) (distressed noises)   \n",
       "198330   1821      MATT  (cranking) (metallic song) (metallic song) (ch...   \n",
       "238453   2692      MATT    (laughing) (whooshing) (arrow firing) (landing)   \n",
       "275459   1760      MATT         (snarl) (escalating snarling) (fssh) (pop)   \n",
       "302724   1756       SAM  (\"Spring\" by Vivaldi) (\"Spring\" by Vivaldi) (\"...   \n",
       "347682   1291      MATT    (as Bat 1) (as Bat 2) (as Bat 1) (as Steve Bat)   \n",
       "365149   2121      MATT              (whooshes) (pings) (thuds) (growling)   \n",
       "377568     59    TRAVIS    (shouting) (normal voice) (shouting) (laughter)   \n",
       "382572   2265    TRAVIS     (gags) (laughs) (Western music) (upbeat music)   \n",
       "426372   1659      MATT  (pounding on door) (nervous laugh) (laughter) ...   \n",
       "433090   1765   MARISHA  (kiss) (upbeat jazz music) (intense electronic...   \n",
       "\n",
       "       episode timestamp inaudible_speech  \n",
       "103082     129  03:37:13              NaN  \n",
       "117239     133  02:18:04              NaN  \n",
       "122325     134  03:28:15              NaN  \n",
       "140486      14  02:53:34              NaN  \n",
       "184949       2  03:49:28              NaN  \n",
       "198310      24  02:34:51              NaN  \n",
       "198330      24  02:38:33              NaN  \n",
       "238453      39  03:30:10              NaN  \n",
       "275459      52  03:06:45              NaN  \n",
       "302724      62  02:15:07              NaN  \n",
       "347682      76  01:26:27              NaN  \n",
       "365149      80  02:44:12              NaN  \n",
       "377568      84  00:04:17              NaN  \n",
       "382572      85  02:58:12              NaN  \n",
       "426372      97  03:00:13              NaN  \n",
       "433090      99  02:23:28              NaN  "
      ]
     },
     "execution_count": 108,
     "metadata": {},
     "output_type": "execute_result"
    }
   ],
   "source": [
    "four_bracks['text'] = four_bracks['text'].str.replace(r'^.*(\\(.*\\)).*(\\(.*\\)).* (\\(.*\\)).* (\\(.*\\)),*?.*$', r'\\1 \\2 \\3 \\4', regex=True).astype('str')\n",
    "four_bracks"
   ]
  },
  {
   "cell_type": "code",
   "execution_count": 109,
   "id": "47cb542e",
   "metadata": {},
   "outputs": [
    {
     "data": {
      "text/plain": [
       "103082    (crunch) (explosion) (scared yelling, explosio...\n",
       "117239    (light ethereal music) (whimsical adventure mu...\n",
       "122325    (arrow impact) (laughter) (arrow vibrating) (l...\n",
       "140486    (ugh) (guttural animal snorting) (whip crack) ...\n",
       "184949                     (yawn) (grunt) (thumping) (yawn)\n",
       "198310          (sighs) (sighs) (crash) (distressed noises)\n",
       "198330    (cranking) (metallic song) (metallic song) (ch...\n",
       "238453      (laughing) (whooshing) (arrow firing) (landing)\n",
       "275459           (snarl) (escalating snarling) (fssh) (pop)\n",
       "302724    (\"Spring\" by Vivaldi) (\"Spring\" by Vivaldi) (\"...\n",
       "347682      (as Bat 1) (as Bat 2) (as Bat 1) (as Steve Bat)\n",
       "365149                (whooshes) (pings) (thuds) (growling)\n",
       "377568      (shouting) (normal voice) (shouting) (laughter)\n",
       "382572       (gags) (laughs) (Western music) (upbeat music)\n",
       "426372    (pounding on door) (nervous laugh) (laughter) ...\n",
       "433090    (kiss) (upbeat jazz music) (intense electronic...\n",
       "Name: text, dtype: object"
      ]
     },
     "execution_count": 109,
     "metadata": {},
     "output_type": "execute_result"
    }
   ],
   "source": [
    "four = pd.Series(four_bracks['text'])\n",
    "four"
   ]
  },
  {
   "cell_type": "code",
   "execution_count": 110,
   "id": "c9316261",
   "metadata": {},
   "outputs": [],
   "source": [
    "cr_df['text'] = cr_df['text'].str.replace(r'(^.*)\\(.*\\)(.*)\\(.*\\)(.* )\\(.*\\)(.* )\\(.*\\)(,*?.*$)', r'\\1 \\2 \\3 \\4 \\5', regex=True).astype('str')"
   ]
  },
  {
   "cell_type": "code",
   "execution_count": 111,
   "id": "a614d66d",
   "metadata": {},
   "outputs": [
    {
     "data": {
      "text/plain": [
       "'(laughter) It does last for one minute, so the wings suddenly (poof). '"
      ]
     },
     "execution_count": 111,
     "metadata": {},
     "output_type": "execute_result"
    }
   ],
   "source": [
    "cr_df.text[25410]"
   ]
  },
  {
   "cell_type": "code",
   "execution_count": 112,
   "id": "b6f399c3",
   "metadata": {},
   "outputs": [],
   "source": [
    "#cr_df[cr_df['text'].str.contains('^.*\\(.*\\).* \\(.*\\).* \"*\\(.*\\)\"*,*?.*$')]"
   ]
  },
  {
   "cell_type": "code",
   "execution_count": 113,
   "id": "32e87ae0",
   "metadata": {},
   "outputs": [],
   "source": [
    "three_bracks = pd.DataFrame(cr_df[cr_df['text'].str.contains('^.*\\(.*\\).* \\(.*\\).* \"*\\(.*\\)\"*,*?.*$')])"
   ]
  },
  {
   "cell_type": "code",
   "execution_count": 114,
   "id": "a5f05a10",
   "metadata": {},
   "outputs": [],
   "source": [
    "three_bracks['text'] = three_bracks['text'].str.replace(r'^.*(\\(.*\\)).* (\\(.*\\)).* \"*(\\(.*\\))\"*,*?.*$', r'\\1 \\2 \\3', regex=True).astype('str')\n",
    "#three_bracks"
   ]
  },
  {
   "cell_type": "code",
   "execution_count": 115,
   "id": "62a2aead",
   "metadata": {},
   "outputs": [
    {
     "data": {
      "text/plain": [
       "8783                     (whizzing) (explosion) (screaming)\n",
       "15411     (breathing heavily) (whooshes) (surprised laug...\n",
       "17487                    (whooshing) (whooshing) (flapping)\n",
       "25846                     (as Marius) (as Orly) (as Marius)\n",
       "41274               (Luc struggle grunts) (as Pumat) (poof)\n",
       "                                ...                        \n",
       "417661                      (grunting) (gasping) (laughter)\n",
       "417680         (yelling) (digital bleeping) (dial up tones)\n",
       "426365                      (gasping) (laughter) (laughter)\n",
       "427855                 (exhale) (heavy wind gust) (rolling)\n",
       "432836                      (laughs) (explosion) (laughter)\n",
       "Name: text, Length: 85, dtype: object"
      ]
     },
     "execution_count": 115,
     "metadata": {},
     "output_type": "execute_result"
    }
   ],
   "source": [
    "three = pd.Series(three_bracks['text'])\n",
    "three"
   ]
  },
  {
   "cell_type": "code",
   "execution_count": 116,
   "id": "145d4c76",
   "metadata": {},
   "outputs": [],
   "source": [
    "cr_df['text'] = cr_df['text'].str.replace(r'(^.*)\\(.*\\)(.* )\\(.*\\)(.* \"*)\\(.*\\)(\"*,*?.*$)', r'\\1 \\2 \\3 \\4', regex=True).astype('str')"
   ]
  },
  {
   "cell_type": "code",
   "execution_count": 117,
   "id": "41ed866b",
   "metadata": {},
   "outputs": [
    {
     "data": {
      "text/plain": [
       "'(laughter) It does last for one minute, so the wings suddenly (poof). '"
      ]
     },
     "execution_count": 117,
     "metadata": {},
     "output_type": "execute_result"
    }
   ],
   "source": [
    "cr_df.text[25410]"
   ]
  },
  {
   "cell_type": "code",
   "execution_count": 118,
   "id": "aa30904e",
   "metadata": {},
   "outputs": [],
   "source": [
    "#cr_df[cr_df['text'].str.contains('^.*\\(.*\\).*\\(.*\\),?.*$')]\n",
    "\n",
    "#captures cases of multiple brackets in as many different formations as possible"
   ]
  },
  {
   "cell_type": "code",
   "execution_count": 119,
   "id": "c70bd8db",
   "metadata": {},
   "outputs": [],
   "source": [
    "mult_bracks = pd.DataFrame(cr_df[cr_df['text'].str.contains('^.*\\(.*\\).*\\(.*\\),?.*$')])"
   ]
  },
  {
   "cell_type": "code",
   "execution_count": 120,
   "id": "e691f288",
   "metadata": {
    "scrolled": true
   },
   "outputs": [
    {
     "data": {
      "text/html": [
       "<div>\n",
       "<style scoped>\n",
       "    .dataframe tbody tr th:only-of-type {\n",
       "        vertical-align: middle;\n",
       "    }\n",
       "\n",
       "    .dataframe tbody tr th {\n",
       "        vertical-align: top;\n",
       "    }\n",
       "\n",
       "    .dataframe thead th {\n",
       "        text-align: right;\n",
       "    }\n",
       "</style>\n",
       "<table border=\"1\" class=\"dataframe\">\n",
       "  <thead>\n",
       "    <tr style=\"text-align: right;\">\n",
       "      <th></th>\n",
       "      <th>index</th>\n",
       "      <th>name</th>\n",
       "      <th>text</th>\n",
       "      <th>episode</th>\n",
       "      <th>timestamp</th>\n",
       "      <th>inaudible_speech</th>\n",
       "    </tr>\n",
       "  </thead>\n",
       "  <tbody>\n",
       "    <tr>\n",
       "      <th>2031</th>\n",
       "      <td>434</td>\n",
       "      <td>MATT</td>\n",
       "      <td>(metal scraping) (click)</td>\n",
       "      <td>10</td>\n",
       "      <td>00:41:41</td>\n",
       "      <td>NaN</td>\n",
       "    </tr>\n",
       "    <tr>\n",
       "      <th>3416</th>\n",
       "      <td>1819</td>\n",
       "      <td>MATT</td>\n",
       "      <td>(bursting) (skittering)</td>\n",
       "      <td>10</td>\n",
       "      <td>02:49:35</td>\n",
       "      <td>NaN</td>\n",
       "    </tr>\n",
       "    <tr>\n",
       "      <th>3592</th>\n",
       "      <td>1995</td>\n",
       "      <td>SAM</td>\n",
       "      <td>(whispers) (louder)</td>\n",
       "      <td>10</td>\n",
       "      <td>03:03:33</td>\n",
       "      <td>NaN</td>\n",
       "    </tr>\n",
       "    <tr>\n",
       "      <th>4610</th>\n",
       "      <td>360</td>\n",
       "      <td>TRAVIS</td>\n",
       "      <td>(whirring) (laughter)</td>\n",
       "      <td>100</td>\n",
       "      <td>00:26:43</td>\n",
       "      <td>NaN</td>\n",
       "    </tr>\n",
       "    <tr>\n",
       "      <th>4874</th>\n",
       "      <td>624</td>\n",
       "      <td>TRAVIS</td>\n",
       "      <td>(claps) (laughter)</td>\n",
       "      <td>100</td>\n",
       "      <td>00:38:47</td>\n",
       "      <td>NaN</td>\n",
       "    </tr>\n",
       "    <tr>\n",
       "      <th>...</th>\n",
       "      <td>...</td>\n",
       "      <td>...</td>\n",
       "      <td>...</td>\n",
       "      <td>...</td>\n",
       "      <td>...</td>\n",
       "      <td>...</td>\n",
       "    </tr>\n",
       "    <tr>\n",
       "      <th>430888</th>\n",
       "      <td>3794</td>\n",
       "      <td>MATT</td>\n",
       "      <td>(heavy breathing) (frilling)</td>\n",
       "      <td>98</td>\n",
       "      <td>04:47:29</td>\n",
       "      <td>NaN</td>\n",
       "    </tr>\n",
       "    <tr>\n",
       "      <th>431266</th>\n",
       "      <td>4172</td>\n",
       "      <td>MATT</td>\n",
       "      <td>(splashing) (sloughing)</td>\n",
       "      <td>98</td>\n",
       "      <td>05:04:48</td>\n",
       "      <td>NaN</td>\n",
       "    </tr>\n",
       "    <tr>\n",
       "      <th>432074</th>\n",
       "      <td>749</td>\n",
       "      <td>MATT</td>\n",
       "      <td>(groaning) (thudding)</td>\n",
       "      <td>99</td>\n",
       "      <td>00:58:31</td>\n",
       "      <td>NaN</td>\n",
       "    </tr>\n",
       "    <tr>\n",
       "      <th>432199</th>\n",
       "      <td>874</td>\n",
       "      <td>TRAVIS</td>\n",
       "      <td>(pained) (laughter)</td>\n",
       "      <td>99</td>\n",
       "      <td>01:06:13</td>\n",
       "      <td>NaN</td>\n",
       "    </tr>\n",
       "    <tr>\n",
       "      <th>432566</th>\n",
       "      <td>1241</td>\n",
       "      <td>MATT</td>\n",
       "      <td>(groaning) (laughter)</td>\n",
       "      <td>99</td>\n",
       "      <td>01:28:36</td>\n",
       "      <td>NaN</td>\n",
       "    </tr>\n",
       "  </tbody>\n",
       "</table>\n",
       "<p>780 rows × 6 columns</p>\n",
       "</div>"
      ],
      "text/plain": [
       "        index    name                          text episode timestamp  \\\n",
       "2031      434    MATT      (metal scraping) (click)      10  00:41:41   \n",
       "3416     1819    MATT       (bursting) (skittering)      10  02:49:35   \n",
       "3592     1995     SAM           (whispers) (louder)      10  03:03:33   \n",
       "4610      360  TRAVIS         (whirring) (laughter)     100  00:26:43   \n",
       "4874      624  TRAVIS            (claps) (laughter)     100  00:38:47   \n",
       "...       ...     ...                           ...     ...       ...   \n",
       "430888   3794    MATT  (heavy breathing) (frilling)      98  04:47:29   \n",
       "431266   4172    MATT       (splashing) (sloughing)      98  05:04:48   \n",
       "432074    749    MATT         (groaning) (thudding)      99  00:58:31   \n",
       "432199    874  TRAVIS           (pained) (laughter)      99  01:06:13   \n",
       "432566   1241    MATT         (groaning) (laughter)      99  01:28:36   \n",
       "\n",
       "       inaudible_speech  \n",
       "2031                NaN  \n",
       "3416                NaN  \n",
       "3592                NaN  \n",
       "4610                NaN  \n",
       "4874                NaN  \n",
       "...                 ...  \n",
       "430888              NaN  \n",
       "431266              NaN  \n",
       "432074              NaN  \n",
       "432199              NaN  \n",
       "432566              NaN  \n",
       "\n",
       "[780 rows x 6 columns]"
      ]
     },
     "execution_count": 120,
     "metadata": {},
     "output_type": "execute_result"
    }
   ],
   "source": [
    "mult_bracks['text'] = mult_bracks['text'].str.replace(r'^.*(\\(.*\\)).*(\\(.*\\)),?.*$', r'\\1 \\2', regex=True).astype('str')\n",
    "mult_bracks"
   ]
  },
  {
   "cell_type": "code",
   "execution_count": 121,
   "id": "ac3de93c",
   "metadata": {},
   "outputs": [
    {
     "data": {
      "text/plain": [
       "2031          (metal scraping) (click)\n",
       "3416           (bursting) (skittering)\n",
       "3592               (whispers) (louder)\n",
       "4610             (whirring) (laughter)\n",
       "4874                (claps) (laughter)\n",
       "                      ...             \n",
       "430888    (heavy breathing) (frilling)\n",
       "431266         (splashing) (sloughing)\n",
       "432074           (groaning) (thudding)\n",
       "432199             (pained) (laughter)\n",
       "432566           (groaning) (laughter)\n",
       "Name: text, Length: 780, dtype: object"
      ]
     },
     "execution_count": 121,
     "metadata": {},
     "output_type": "execute_result"
    }
   ],
   "source": [
    "mult = pd.Series(mult_bracks['text'])\n",
    "mult"
   ]
  },
  {
   "cell_type": "code",
   "execution_count": 122,
   "id": "99b70a60",
   "metadata": {},
   "outputs": [],
   "source": [
    "cr_df['text'] = cr_df['text'].str.replace(r'(^.*)\\(.*\\)(.*)\\(.*\\)(,?.*$)', r'\\1 \\2 \\3', regex=True).astype('str')"
   ]
  },
  {
   "cell_type": "markdown",
   "id": "667a7fa3",
   "metadata": {},
   "source": [
    "Okay, so now that our lines with multiple split up (sound) instances are taken care of and cleared out, lets see what other instances of (sounds) show up in cr_df"
   ]
  },
  {
   "cell_type": "code",
   "execution_count": 123,
   "id": "e5c404f8",
   "metadata": {},
   "outputs": [],
   "source": [
    "#cr_df[cr_df['text'].str.contains('^\\(.*\\) ')]\n",
    "\n",
    "#captures all examples of (sounds) followed by speech"
   ]
  },
  {
   "cell_type": "code",
   "execution_count": 124,
   "id": "6b0277d2",
   "metadata": {},
   "outputs": [],
   "source": [
    "lead_bracks = pd.DataFrame(cr_df[cr_df['text'].str.contains('^\\(.*\\) ')])"
   ]
  },
  {
   "cell_type": "code",
   "execution_count": 125,
   "id": "9e26d847",
   "metadata": {},
   "outputs": [],
   "source": [
    "#lead_bracks.head()"
   ]
  },
  {
   "cell_type": "code",
   "execution_count": 126,
   "id": "c2abec21",
   "metadata": {},
   "outputs": [],
   "source": [
    "#find all instances of a string initial brackets with str inside followed by more string\n",
    "#replace that full string with just the brackets string\n",
    "lead_bracks = lead_bracks['text'].str.replace(r'(^\\(.*\\)) .*$', r'\\1', regex=True).astype('str')"
   ]
  },
  {
   "cell_type": "code",
   "execution_count": 127,
   "id": "bdf660c4",
   "metadata": {},
   "outputs": [
    {
     "data": {
      "text/plain": [
       "3                     (vomiting noises)\n",
       "14                              (yells)\n",
       "100       (high-pitched Cockney accent)\n",
       "101               (light German accent)\n",
       "328                             (gasps)\n",
       "                      ...              \n",
       "433822                       (groaning)\n",
       "433907                        (howling)\n",
       "433929                        (yelling)\n",
       "433989                        (yelling)\n",
       "434014                      (chuckling)\n",
       "Name: text, Length: 5881, dtype: object"
      ]
     },
     "execution_count": 127,
     "metadata": {},
     "output_type": "execute_result"
    }
   ],
   "source": [
    "lead = pd.Series(lead_bracks)\n",
    "lead"
   ]
  },
  {
   "cell_type": "code",
   "execution_count": 128,
   "id": "dce8f3eb",
   "metadata": {},
   "outputs": [],
   "source": [
    "cr_df['text'] = cr_df['text'].str.replace(r'^\\(.*\\) ', '', regex=True).astype('str')\n",
    "#cr_df.head()"
   ]
  },
  {
   "cell_type": "code",
   "execution_count": 129,
   "id": "08c47cd9",
   "metadata": {},
   "outputs": [],
   "source": [
    "trail_bracks = pd.DataFrame(cr_df[cr_df['text'].str.contains('.* \\(.*\\)+ $')])\n",
    "\n",
    "#finds all instances of normal speech followed by (sounds)"
   ]
  },
  {
   "cell_type": "code",
   "execution_count": 130,
   "id": "e5d75fd3",
   "metadata": {},
   "outputs": [
    {
     "data": {
      "text/plain": [
       "16        (cheering) \n",
       "137       (laughter) \n",
       "235       (laughter) \n",
       "357         (laughs) \n",
       "364       (laughter) \n",
       "             ...     \n",
       "433630    (laughter) \n",
       "433870    (chuckles) \n",
       "433879    (chuckles) \n",
       "433880     (poofing) \n",
       "434039    (groaning) \n",
       "Name: text, Length: 3657, dtype: object"
      ]
     },
     "execution_count": 130,
     "metadata": {},
     "output_type": "execute_result"
    }
   ],
   "source": [
    "trail_bracks = trail_bracks['text'].str.replace(r'.* (\\(.*\\)+ $)', r'\\1', regex=True).astype('str')\n",
    "trail = pd.Series(trail_bracks)\n",
    "trail"
   ]
  },
  {
   "cell_type": "code",
   "execution_count": 131,
   "id": "7aa9feee",
   "metadata": {},
   "outputs": [
    {
     "data": {
      "text/plain": [
       "'So we released our teaser on socials, and everybody was like, \"I want that as a poster!\" So we listened to you, and we made it a poster! '"
      ]
     },
     "execution_count": 131,
     "metadata": {},
     "output_type": "execute_result"
    }
   ],
   "source": [
    "cr_df['text'] = cr_df['text'].str.replace(r'\\(.*\\) $', '', regex=True).astype('str')\n",
    "cr_df.text[16]"
   ]
  },
  {
   "cell_type": "code",
   "execution_count": 132,
   "id": "cba2a417",
   "metadata": {
    "scrolled": true
   },
   "outputs": [
    {
     "data": {
      "text/html": [
       "<div>\n",
       "<style scoped>\n",
       "    .dataframe tbody tr th:only-of-type {\n",
       "        vertical-align: middle;\n",
       "    }\n",
       "\n",
       "    .dataframe tbody tr th {\n",
       "        vertical-align: top;\n",
       "    }\n",
       "\n",
       "    .dataframe thead th {\n",
       "        text-align: right;\n",
       "    }\n",
       "</style>\n",
       "<table border=\"1\" class=\"dataframe\">\n",
       "  <thead>\n",
       "    <tr style=\"text-align: right;\">\n",
       "      <th></th>\n",
       "      <th>index</th>\n",
       "      <th>name</th>\n",
       "      <th>text</th>\n",
       "      <th>episode</th>\n",
       "      <th>timestamp</th>\n",
       "      <th>inaudible_speech</th>\n",
       "    </tr>\n",
       "  </thead>\n",
       "  <tbody>\n",
       "    <tr>\n",
       "      <th>113</th>\n",
       "      <td>113</td>\n",
       "      <td>LIAM</td>\n",
       "      <td>Well, we-- (sighs)-- discussed coming to a big...</td>\n",
       "      <td>1</td>\n",
       "      <td>00:24:04</td>\n",
       "      <td>NaN</td>\n",
       "    </tr>\n",
       "    <tr>\n",
       "      <th>358</th>\n",
       "      <td>358</td>\n",
       "      <td>TALIESIN</td>\n",
       "      <td>I am taking this in. All right. (sighs) I'm go...</td>\n",
       "      <td>1</td>\n",
       "      <td>00:50:05</td>\n",
       "      <td>NaN</td>\n",
       "    </tr>\n",
       "    <tr>\n",
       "      <th>438</th>\n",
       "      <td>438</td>\n",
       "      <td>TALIESIN</td>\n",
       "      <td>You are all the most charming people I've met ...</td>\n",
       "      <td>1</td>\n",
       "      <td>00:55:58</td>\n",
       "      <td>NaN</td>\n",
       "    </tr>\n",
       "    <tr>\n",
       "      <th>532</th>\n",
       "      <td>532</td>\n",
       "      <td>LAURA</td>\n",
       "      <td>Yeah, you should have seen him. He disguised h...</td>\n",
       "      <td>1</td>\n",
       "      <td>01:02:15</td>\n",
       "      <td>NaN</td>\n",
       "    </tr>\n",
       "    <tr>\n",
       "      <th>1104</th>\n",
       "      <td>1104</td>\n",
       "      <td>MATT</td>\n",
       "      <td>You see his legs shaking as he stands, his che...</td>\n",
       "      <td>1</td>\n",
       "      <td>02:20:09</td>\n",
       "      <td>NaN</td>\n",
       "    </tr>\n",
       "    <tr>\n",
       "      <th>...</th>\n",
       "      <td>...</td>\n",
       "      <td>...</td>\n",
       "      <td>...</td>\n",
       "      <td>...</td>\n",
       "      <td>...</td>\n",
       "      <td>...</td>\n",
       "    </tr>\n",
       "    <tr>\n",
       "      <th>433078</th>\n",
       "      <td>1753</td>\n",
       "      <td>ASHLEY</td>\n",
       "      <td>D&amp;D, D&amp;D   You got your staffs   You got your...</td>\n",
       "      <td>99</td>\n",
       "      <td>02:14:34</td>\n",
       "      <td>NaN</td>\n",
       "    </tr>\n",
       "    <tr>\n",
       "      <th>433083</th>\n",
       "      <td>1758</td>\n",
       "      <td>ASHLEY</td>\n",
       "      <td>And thank you for being there for us and to an...</td>\n",
       "      <td>99</td>\n",
       "      <td>02:15:53</td>\n",
       "      <td>NaN</td>\n",
       "    </tr>\n",
       "    <tr>\n",
       "      <th>433101</th>\n",
       "      <td>1776</td>\n",
       "      <td>BRIAN</td>\n",
       "      <td>The next morning I was like, \"Hey man...\" (as ...</td>\n",
       "      <td>99</td>\n",
       "      <td>02:27:19</td>\n",
       "      <td>NaN</td>\n",
       "    </tr>\n",
       "    <tr>\n",
       "      <th>433641</th>\n",
       "      <td>2316</td>\n",
       "      <td>MATT</td>\n",
       "      <td>\"Anyway.\" (imitating whooshing) And he's gone.</td>\n",
       "      <td>99</td>\n",
       "      <td>03:19:29</td>\n",
       "      <td>NaN</td>\n",
       "    </tr>\n",
       "    <tr>\n",
       "      <th>433954</th>\n",
       "      <td>2629</td>\n",
       "      <td>MATT</td>\n",
       "      <td>It's a, (laughter) the fourth day or so--</td>\n",
       "      <td>99</td>\n",
       "      <td>03:42:40</td>\n",
       "      <td>NaN</td>\n",
       "    </tr>\n",
       "  </tbody>\n",
       "</table>\n",
       "<p>3848 rows × 6 columns</p>\n",
       "</div>"
      ],
      "text/plain": [
       "        index      name                                               text  \\\n",
       "113       113      LIAM  Well, we-- (sighs)-- discussed coming to a big...   \n",
       "358       358  TALIESIN  I am taking this in. All right. (sighs) I'm go...   \n",
       "438       438  TALIESIN  You are all the most charming people I've met ...   \n",
       "532       532     LAURA  Yeah, you should have seen him. He disguised h...   \n",
       "1104     1104      MATT  You see his legs shaking as he stands, his che...   \n",
       "...       ...       ...                                                ...   \n",
       "433078   1753    ASHLEY   D&D, D&D   You got your staffs   You got your...   \n",
       "433083   1758    ASHLEY  And thank you for being there for us and to an...   \n",
       "433101   1776     BRIAN  The next morning I was like, \"Hey man...\" (as ...   \n",
       "433641   2316      MATT    \"Anyway.\" (imitating whooshing) And he's gone.    \n",
       "433954   2629      MATT         It's a, (laughter) the fourth day or so--    \n",
       "\n",
       "       episode timestamp inaudible_speech  \n",
       "113          1  00:24:04              NaN  \n",
       "358          1  00:50:05              NaN  \n",
       "438          1  00:55:58              NaN  \n",
       "532          1  01:02:15              NaN  \n",
       "1104         1  02:20:09              NaN  \n",
       "...        ...       ...              ...  \n",
       "433078      99  02:14:34              NaN  \n",
       "433083      99  02:15:53              NaN  \n",
       "433101      99  02:27:19              NaN  \n",
       "433641      99  03:19:29              NaN  \n",
       "433954      99  03:42:40              NaN  \n",
       "\n",
       "[3848 rows x 6 columns]"
      ]
     },
     "execution_count": 132,
     "metadata": {},
     "output_type": "execute_result"
    }
   ],
   "source": [
    "#middle brackets (text then (sound) then more text)\n",
    "cr_df[cr_df['text'].str.contains(r'^.* \\(.*\\).*$')]"
   ]
  },
  {
   "cell_type": "code",
   "execution_count": 133,
   "id": "c3e4dc91",
   "metadata": {},
   "outputs": [],
   "source": [
    "mid_bracks = pd.DataFrame(cr_df[cr_df['text'].str.contains(r'^.* \\(.*\\).*$')])\n",
    "#mid_bracks"
   ]
  },
  {
   "cell_type": "code",
   "execution_count": 134,
   "id": "6502df1b",
   "metadata": {},
   "outputs": [],
   "source": [
    "mid_bracks = mid_bracks['text'].str.replace(r'^.* (\\(.*\\)).*$', r'\\1', regex=True).astype('str')\n",
    "#mid_bracks"
   ]
  },
  {
   "cell_type": "code",
   "execution_count": 135,
   "id": "9dd6d229",
   "metadata": {},
   "outputs": [
    {
     "data": {
      "text/plain": [
       "113                     (sighs)\n",
       "358                     (sighs)\n",
       "438                     (sighs)\n",
       "532             (clicks tongue)\n",
       "1104                 (exclaims)\n",
       "                  ...          \n",
       "433078               (laughter)\n",
       "433083                   (kiss)\n",
       "433101              (as Travis)\n",
       "433641    (imitating whooshing)\n",
       "433954               (laughter)\n",
       "Name: text, Length: 3848, dtype: object"
      ]
     },
     "execution_count": 135,
     "metadata": {},
     "output_type": "execute_result"
    }
   ],
   "source": [
    "mid = pd.Series(mid_bracks)\n",
    "mid"
   ]
  },
  {
   "cell_type": "code",
   "execution_count": 136,
   "id": "1d8e37ba",
   "metadata": {},
   "outputs": [
    {
     "data": {
      "text/plain": [
       "\"Well, we-- -- discussed coming to a bigger town. It's going to be a little more difficult now. You can't go-- it was easier on outskirts, it was easier in farms, but we can't do that here. \""
      ]
     },
     "execution_count": 136,
     "metadata": {},
     "output_type": "execute_result"
    }
   ],
   "source": [
    "cr_df['text'] = cr_df['text'].str.replace(r'(^.*) \\(.*\\)(.*$)', r'\\1 \\2', regex=True).astype('str')\n",
    "cr_df.text[113]"
   ]
  },
  {
   "cell_type": "code",
   "execution_count": 137,
   "id": "45198640",
   "metadata": {},
   "outputs": [
    {
     "data": {
      "text/html": [
       "<div>\n",
       "<style scoped>\n",
       "    .dataframe tbody tr th:only-of-type {\n",
       "        vertical-align: middle;\n",
       "    }\n",
       "\n",
       "    .dataframe tbody tr th {\n",
       "        vertical-align: top;\n",
       "    }\n",
       "\n",
       "    .dataframe thead th {\n",
       "        text-align: right;\n",
       "    }\n",
       "</style>\n",
       "<table border=\"1\" class=\"dataframe\">\n",
       "  <thead>\n",
       "    <tr style=\"text-align: right;\">\n",
       "      <th></th>\n",
       "      <th>index</th>\n",
       "      <th>name</th>\n",
       "      <th>text</th>\n",
       "      <th>episode</th>\n",
       "      <th>timestamp</th>\n",
       "      <th>inaudible_speech</th>\n",
       "    </tr>\n",
       "  </thead>\n",
       "  <tbody>\n",
       "    <tr>\n",
       "      <th>3374</th>\n",
       "      <td>1777</td>\n",
       "      <td>MATT</td>\n",
       "      <td>\"I'm sorry, I'm just-- oh god,\" and he looks o...</td>\n",
       "      <td>10</td>\n",
       "      <td>02:46:04</td>\n",
       "      <td>NaN</td>\n",
       "    </tr>\n",
       "    <tr>\n",
       "      <th>3484</th>\n",
       "      <td>1887</td>\n",
       "      <td>MATT</td>\n",
       "      <td>Okay, as he's doing this, he smiles. You can s...</td>\n",
       "      <td>10</td>\n",
       "      <td>02:54:22</td>\n",
       "      <td>NaN</td>\n",
       "    </tr>\n",
       "    <tr>\n",
       "      <th>8744</th>\n",
       "      <td>1197</td>\n",
       "      <td>MATT</td>\n",
       "      <td>\"That's cool!\" He attempts it and immediately,...</td>\n",
       "      <td>101</td>\n",
       "      <td>01:28:03</td>\n",
       "      <td>NaN</td>\n",
       "    </tr>\n",
       "    <tr>\n",
       "      <th>18033</th>\n",
       "      <td>1594</td>\n",
       "      <td>MATT</td>\n",
       "      <td>You see a blade dangling from one hand and a s...</td>\n",
       "      <td>104</td>\n",
       "      <td>02:06:31</td>\n",
       "      <td>NaN</td>\n",
       "    </tr>\n",
       "    <tr>\n",
       "      <th>21230</th>\n",
       "      <td>1379</td>\n",
       "      <td>LIAM</td>\n",
       "      <td>Every day, it's got to be like, \"(sighs) Anoth...</td>\n",
       "      <td>105</td>\n",
       "      <td>01:48:46</td>\n",
       "      <td>NaN</td>\n",
       "    </tr>\n",
       "    <tr>\n",
       "      <th>...</th>\n",
       "      <td>...</td>\n",
       "      <td>...</td>\n",
       "      <td>...</td>\n",
       "      <td>...</td>\n",
       "      <td>...</td>\n",
       "      <td>...</td>\n",
       "    </tr>\n",
       "    <tr>\n",
       "      <th>424011</th>\n",
       "      <td>3147</td>\n",
       "      <td>MATT</td>\n",
       "      <td>Now the arms go lax for a second she goes, \"(g...</td>\n",
       "      <td>96</td>\n",
       "      <td>03:42:12</td>\n",
       "      <td>NaN</td>\n",
       "    </tr>\n",
       "    <tr>\n",
       "      <th>424027</th>\n",
       "      <td>3163</td>\n",
       "      <td>MATT</td>\n",
       "      <td>She stands up, Corrin is like, \"(groans) Breat...</td>\n",
       "      <td>96</td>\n",
       "      <td>03:43:55</td>\n",
       "      <td>NaN</td>\n",
       "    </tr>\n",
       "    <tr>\n",
       "      <th>424526</th>\n",
       "      <td>3662</td>\n",
       "      <td>MATT</td>\n",
       "      <td>She's like, \"(giggles)\"</td>\n",
       "      <td>96</td>\n",
       "      <td>04:20:19</td>\n",
       "      <td>NaN</td>\n",
       "    </tr>\n",
       "    <tr>\n",
       "      <th>424603</th>\n",
       "      <td>3739</td>\n",
       "      <td>MATT</td>\n",
       "      <td>It's wearing a very faint bit of tattered clot...</td>\n",
       "      <td>96</td>\n",
       "      <td>04:25:49</td>\n",
       "      <td>NaN</td>\n",
       "    </tr>\n",
       "    <tr>\n",
       "      <th>425633</th>\n",
       "      <td>920</td>\n",
       "      <td>SAM</td>\n",
       "      <td>running down and kind of like, \"(exertions) O...</td>\n",
       "      <td>97</td>\n",
       "      <td>01:29:28</td>\n",
       "      <td>NaN</td>\n",
       "    </tr>\n",
       "  </tbody>\n",
       "</table>\n",
       "<p>72 rows × 6 columns</p>\n",
       "</div>"
      ],
      "text/plain": [
       "        index  name                                               text  \\\n",
       "3374     1777  MATT  \"I'm sorry, I'm just-- oh god,\" and he looks o...   \n",
       "3484     1887  MATT  Okay, as he's doing this, he smiles. You can s...   \n",
       "8744     1197  MATT  \"That's cool!\" He attempts it and immediately,...   \n",
       "18033    1594  MATT  You see a blade dangling from one hand and a s...   \n",
       "21230    1379  LIAM  Every day, it's got to be like, \"(sighs) Anoth...   \n",
       "...       ...   ...                                                ...   \n",
       "424011   3147  MATT  Now the arms go lax for a second she goes, \"(g...   \n",
       "424027   3163  MATT  She stands up, Corrin is like, \"(groans) Breat...   \n",
       "424526   3662  MATT                           She's like, \"(giggles)\"    \n",
       "424603   3739  MATT  It's wearing a very faint bit of tattered clot...   \n",
       "425633    920   SAM   running down and kind of like, \"(exertions) O...   \n",
       "\n",
       "       episode timestamp inaudible_speech  \n",
       "3374        10  02:46:04              NaN  \n",
       "3484        10  02:54:22              NaN  \n",
       "8744       101  01:28:03              NaN  \n",
       "18033      104  02:06:31              NaN  \n",
       "21230      105  01:48:46              NaN  \n",
       "...        ...       ...              ...  \n",
       "424011      96  03:42:12              NaN  \n",
       "424027      96  03:43:55              NaN  \n",
       "424526      96  04:20:19              NaN  \n",
       "424603      96  04:25:49              NaN  \n",
       "425633      97  01:29:28              NaN  \n",
       "\n",
       "[72 rows x 6 columns]"
      ]
     },
     "execution_count": 137,
     "metadata": {},
     "output_type": "execute_result"
    }
   ],
   "source": [
    "cr_df[cr_df['text'].str.contains(r'.* \"*\\(.*\\)\"*.*$')]\n",
    "\n",
    "#getting more and more niche with the series again\n",
    "#previous samples didn't capture (sounds) that had a quotation flush on one or both sides"
   ]
  },
  {
   "cell_type": "code",
   "execution_count": 138,
   "id": "4b5f6c24",
   "metadata": {},
   "outputs": [],
   "source": [
    "quote_bracks = pd.DataFrame(cr_df[cr_df['text'].str.contains(r'.* \"*\\(.*\\)\"*.*$')])"
   ]
  },
  {
   "cell_type": "code",
   "execution_count": 139,
   "id": "54d6b2d4",
   "metadata": {},
   "outputs": [
    {
     "data": {
      "text/html": [
       "<div>\n",
       "<style scoped>\n",
       "    .dataframe tbody tr th:only-of-type {\n",
       "        vertical-align: middle;\n",
       "    }\n",
       "\n",
       "    .dataframe tbody tr th {\n",
       "        vertical-align: top;\n",
       "    }\n",
       "\n",
       "    .dataframe thead th {\n",
       "        text-align: right;\n",
       "    }\n",
       "</style>\n",
       "<table border=\"1\" class=\"dataframe\">\n",
       "  <thead>\n",
       "    <tr style=\"text-align: right;\">\n",
       "      <th></th>\n",
       "      <th>index</th>\n",
       "      <th>name</th>\n",
       "      <th>text</th>\n",
       "      <th>episode</th>\n",
       "      <th>timestamp</th>\n",
       "      <th>inaudible_speech</th>\n",
       "    </tr>\n",
       "  </thead>\n",
       "  <tbody>\n",
       "    <tr>\n",
       "      <th>3374</th>\n",
       "      <td>1777</td>\n",
       "      <td>MATT</td>\n",
       "      <td>(panicked screams)</td>\n",
       "      <td>10</td>\n",
       "      <td>02:46:04</td>\n",
       "      <td>NaN</td>\n",
       "    </tr>\n",
       "    <tr>\n",
       "      <th>3484</th>\n",
       "      <td>1887</td>\n",
       "      <td>MATT</td>\n",
       "      <td>(sniff)</td>\n",
       "      <td>10</td>\n",
       "      <td>02:54:22</td>\n",
       "      <td>NaN</td>\n",
       "    </tr>\n",
       "    <tr>\n",
       "      <th>8744</th>\n",
       "      <td>1197</td>\n",
       "      <td>MATT</td>\n",
       "      <td>(inhales)</td>\n",
       "      <td>101</td>\n",
       "      <td>01:28:03</td>\n",
       "      <td>NaN</td>\n",
       "    </tr>\n",
       "    <tr>\n",
       "      <th>18033</th>\n",
       "      <td>1594</td>\n",
       "      <td>MATT</td>\n",
       "      <td>(gasping)</td>\n",
       "      <td>104</td>\n",
       "      <td>02:06:31</td>\n",
       "      <td>NaN</td>\n",
       "    </tr>\n",
       "    <tr>\n",
       "      <th>21230</th>\n",
       "      <td>1379</td>\n",
       "      <td>LIAM</td>\n",
       "      <td>(sighs)</td>\n",
       "      <td>105</td>\n",
       "      <td>01:48:46</td>\n",
       "      <td>NaN</td>\n",
       "    </tr>\n",
       "    <tr>\n",
       "      <th>...</th>\n",
       "      <td>...</td>\n",
       "      <td>...</td>\n",
       "      <td>...</td>\n",
       "      <td>...</td>\n",
       "      <td>...</td>\n",
       "      <td>...</td>\n",
       "    </tr>\n",
       "    <tr>\n",
       "      <th>424011</th>\n",
       "      <td>3147</td>\n",
       "      <td>MATT</td>\n",
       "      <td>(gasping)</td>\n",
       "      <td>96</td>\n",
       "      <td>03:42:12</td>\n",
       "      <td>NaN</td>\n",
       "    </tr>\n",
       "    <tr>\n",
       "      <th>424027</th>\n",
       "      <td>3163</td>\n",
       "      <td>MATT</td>\n",
       "      <td>(groans)</td>\n",
       "      <td>96</td>\n",
       "      <td>03:43:55</td>\n",
       "      <td>NaN</td>\n",
       "    </tr>\n",
       "    <tr>\n",
       "      <th>424526</th>\n",
       "      <td>3662</td>\n",
       "      <td>MATT</td>\n",
       "      <td>(giggles)</td>\n",
       "      <td>96</td>\n",
       "      <td>04:20:19</td>\n",
       "      <td>NaN</td>\n",
       "    </tr>\n",
       "    <tr>\n",
       "      <th>424603</th>\n",
       "      <td>3739</td>\n",
       "      <td>MATT</td>\n",
       "      <td>(panting)</td>\n",
       "      <td>96</td>\n",
       "      <td>04:25:49</td>\n",
       "      <td>NaN</td>\n",
       "    </tr>\n",
       "    <tr>\n",
       "      <th>425633</th>\n",
       "      <td>920</td>\n",
       "      <td>SAM</td>\n",
       "      <td>(exertions)</td>\n",
       "      <td>97</td>\n",
       "      <td>01:29:28</td>\n",
       "      <td>NaN</td>\n",
       "    </tr>\n",
       "  </tbody>\n",
       "</table>\n",
       "<p>72 rows × 6 columns</p>\n",
       "</div>"
      ],
      "text/plain": [
       "        index  name                text episode timestamp inaudible_speech\n",
       "3374     1777  MATT  (panicked screams)      10  02:46:04              NaN\n",
       "3484     1887  MATT             (sniff)      10  02:54:22              NaN\n",
       "8744     1197  MATT           (inhales)     101  01:28:03              NaN\n",
       "18033    1594  MATT           (gasping)     104  02:06:31              NaN\n",
       "21230    1379  LIAM             (sighs)     105  01:48:46              NaN\n",
       "...       ...   ...                 ...     ...       ...              ...\n",
       "424011   3147  MATT           (gasping)      96  03:42:12              NaN\n",
       "424027   3163  MATT            (groans)      96  03:43:55              NaN\n",
       "424526   3662  MATT           (giggles)      96  04:20:19              NaN\n",
       "424603   3739  MATT           (panting)      96  04:25:49              NaN\n",
       "425633    920   SAM         (exertions)      97  01:29:28              NaN\n",
       "\n",
       "[72 rows x 6 columns]"
      ]
     },
     "execution_count": 139,
     "metadata": {},
     "output_type": "execute_result"
    }
   ],
   "source": [
    "quote_bracks['text'] = quote_bracks['text'].str.replace(r'.* \"*(\\(.*\\))\"*.*$', r'\\1', regex=True).astype('str')\n",
    "quote_bracks"
   ]
  },
  {
   "cell_type": "code",
   "execution_count": 140,
   "id": "2236bac3",
   "metadata": {},
   "outputs": [
    {
     "data": {
      "text/plain": [
       "3374      (panicked screams)\n",
       "3484                 (sniff)\n",
       "8744               (inhales)\n",
       "18033              (gasping)\n",
       "21230                (sighs)\n",
       "                 ...        \n",
       "424011             (gasping)\n",
       "424027              (groans)\n",
       "424526             (giggles)\n",
       "424603             (panting)\n",
       "425633           (exertions)\n",
       "Name: text, Length: 72, dtype: object"
      ]
     },
     "execution_count": 140,
     "metadata": {},
     "output_type": "execute_result"
    }
   ],
   "source": [
    "quotes = pd.Series(quote_bracks['text'])\n",
    "quotes"
   ]
  },
  {
   "cell_type": "code",
   "execution_count": 141,
   "id": "1007a074",
   "metadata": {},
   "outputs": [],
   "source": [
    "cr_df['text'] = cr_df['text'].str.replace(r'(.* \"*)\\(.*\\)(\"*.*$)', r'\\1 \\2', regex=True).astype('str')"
   ]
  },
  {
   "cell_type": "code",
   "execution_count": 142,
   "id": "5714c6f3",
   "metadata": {},
   "outputs": [
    {
     "data": {
      "text/html": [
       "<div>\n",
       "<style scoped>\n",
       "    .dataframe tbody tr th:only-of-type {\n",
       "        vertical-align: middle;\n",
       "    }\n",
       "\n",
       "    .dataframe tbody tr th {\n",
       "        vertical-align: top;\n",
       "    }\n",
       "\n",
       "    .dataframe thead th {\n",
       "        text-align: right;\n",
       "    }\n",
       "</style>\n",
       "<table border=\"1\" class=\"dataframe\">\n",
       "  <thead>\n",
       "    <tr style=\"text-align: right;\">\n",
       "      <th></th>\n",
       "      <th>index</th>\n",
       "      <th>name</th>\n",
       "      <th>text</th>\n",
       "      <th>episode</th>\n",
       "      <th>timestamp</th>\n",
       "      <th>inaudible_speech</th>\n",
       "    </tr>\n",
       "  </thead>\n",
       "  <tbody>\n",
       "    <tr>\n",
       "      <th>35022</th>\n",
       "      <td>2523</td>\n",
       "      <td>MATT</td>\n",
       "      <td>\"(sighs),\" and then just heads off.</td>\n",
       "      <td>109</td>\n",
       "      <td>03:51:29</td>\n",
       "      <td>NaN</td>\n",
       "    </tr>\n",
       "    <tr>\n",
       "      <th>335134</th>\n",
       "      <td>942</td>\n",
       "      <td>MATT</td>\n",
       "      <td>(whooshing), picking them up into the air, you...</td>\n",
       "      <td>72</td>\n",
       "      <td>01:11:21</td>\n",
       "      <td>NaN</td>\n",
       "    </tr>\n",
       "  </tbody>\n",
       "</table>\n",
       "</div>"
      ],
      "text/plain": [
       "        index  name                                               text  \\\n",
       "35022    2523  MATT               \"(sighs),\" and then just heads off.    \n",
       "335134    942  MATT  (whooshing), picking them up into the air, you...   \n",
       "\n",
       "       episode timestamp inaudible_speech  \n",
       "35022      109  03:51:29              NaN  \n",
       "335134      72  01:11:21              NaN  "
      ]
     },
     "execution_count": 142,
     "metadata": {},
     "output_type": "execute_result"
    }
   ],
   "source": [
    "cr_df[cr_df['text'].str.contains(r'^.*?\\(.*\\),.*$')]\n",
    "\n",
    "#same as the quotes but with a comma following the brackets"
   ]
  },
  {
   "cell_type": "code",
   "execution_count": 143,
   "id": "0172f34d",
   "metadata": {},
   "outputs": [],
   "source": [
    "comma_bracks = pd.DataFrame(cr_df[cr_df['text'].str.contains(r'^.*?\\(.*\\),.*$')])\n",
    "#comma_bracks.head()"
   ]
  },
  {
   "cell_type": "code",
   "execution_count": 144,
   "id": "12852155",
   "metadata": {},
   "outputs": [
    {
     "data": {
      "text/plain": [
       "35022         (sighs)\n",
       "335134    (whooshing)\n",
       "Name: text, dtype: object"
      ]
     },
     "execution_count": 144,
     "metadata": {},
     "output_type": "execute_result"
    }
   ],
   "source": [
    "comma_bracks = comma_bracks['text'].str.replace(r'^.*?(\\(.*\\)),.*$', r'\\1', regex=True).astype('str')\n",
    "comma_bracks"
   ]
  },
  {
   "cell_type": "code",
   "execution_count": 145,
   "id": "d0e198fe",
   "metadata": {},
   "outputs": [
    {
     "data": {
      "text/plain": [
       "35022         (sighs)\n",
       "335134    (whooshing)\n",
       "Name: text, dtype: object"
      ]
     },
     "execution_count": 145,
     "metadata": {},
     "output_type": "execute_result"
    }
   ],
   "source": [
    "comma = pd.Series(comma_bracks)\n",
    "comma"
   ]
  },
  {
   "cell_type": "code",
   "execution_count": 146,
   "id": "fb9b5066",
   "metadata": {},
   "outputs": [],
   "source": [
    "cr_df['text'] = cr_df['text'].str.replace(r'(^.*?)\\(.*\\)(,.*$)', r'\\1 \\2', regex=True).astype('str')"
   ]
  },
  {
   "cell_type": "code",
   "execution_count": 147,
   "id": "fabecafe",
   "metadata": {},
   "outputs": [
    {
     "data": {
      "text/html": [
       "<div>\n",
       "<style scoped>\n",
       "    .dataframe tbody tr th:only-of-type {\n",
       "        vertical-align: middle;\n",
       "    }\n",
       "\n",
       "    .dataframe tbody tr th {\n",
       "        vertical-align: top;\n",
       "    }\n",
       "\n",
       "    .dataframe thead th {\n",
       "        text-align: right;\n",
       "    }\n",
       "</style>\n",
       "<table border=\"1\" class=\"dataframe\">\n",
       "  <thead>\n",
       "    <tr style=\"text-align: right;\">\n",
       "      <th></th>\n",
       "      <th>index</th>\n",
       "      <th>name</th>\n",
       "      <th>text</th>\n",
       "      <th>episode</th>\n",
       "      <th>timestamp</th>\n",
       "      <th>inaudible_speech</th>\n",
       "    </tr>\n",
       "  </thead>\n",
       "  <tbody>\n",
       "    <tr>\n",
       "      <th>6762</th>\n",
       "      <td>2512</td>\n",
       "      <td>MATT</td>\n",
       "      <td>\"(grunts)\"</td>\n",
       "      <td>100</td>\n",
       "      <td>02:42:49</td>\n",
       "      <td>NaN</td>\n",
       "    </tr>\n",
       "    <tr>\n",
       "      <th>7231</th>\n",
       "      <td>2981</td>\n",
       "      <td>MATT</td>\n",
       "      <td>\"(laughs)\" She punches you in the shoulder and...</td>\n",
       "      <td>100</td>\n",
       "      <td>03:13:21</td>\n",
       "      <td>NaN</td>\n",
       "    </tr>\n",
       "    <tr>\n",
       "      <th>7240</th>\n",
       "      <td>2990</td>\n",
       "      <td>MATT</td>\n",
       "      <td>\"(grunts)\"</td>\n",
       "      <td>100</td>\n",
       "      <td>03:13:51</td>\n",
       "      <td>NaN</td>\n",
       "    </tr>\n",
       "    <tr>\n",
       "      <th>16022</th>\n",
       "      <td>2569</td>\n",
       "      <td>MATT</td>\n",
       "      <td>\"(gasping)\"</td>\n",
       "      <td>103</td>\n",
       "      <td>03:08:44</td>\n",
       "      <td>NaN</td>\n",
       "    </tr>\n",
       "    <tr>\n",
       "      <th>31849</th>\n",
       "      <td>1789</td>\n",
       "      <td>MATT</td>\n",
       "      <td>\"(sighs)\"</td>\n",
       "      <td>108</td>\n",
       "      <td>03:13:46</td>\n",
       "      <td>NaN</td>\n",
       "    </tr>\n",
       "    <tr>\n",
       "      <th>...</th>\n",
       "      <td>...</td>\n",
       "      <td>...</td>\n",
       "      <td>...</td>\n",
       "      <td>...</td>\n",
       "      <td>...</td>\n",
       "      <td>...</td>\n",
       "    </tr>\n",
       "    <tr>\n",
       "      <th>426312</th>\n",
       "      <td>1599</td>\n",
       "      <td>MATT</td>\n",
       "      <td>\"(laughs)\"</td>\n",
       "      <td>97</td>\n",
       "      <td>02:55:02</td>\n",
       "      <td>NaN</td>\n",
       "    </tr>\n",
       "    <tr>\n",
       "      <th>426691</th>\n",
       "      <td>1978</td>\n",
       "      <td>MATT</td>\n",
       "      <td>\"(grunting)\"</td>\n",
       "      <td>97</td>\n",
       "      <td>03:30:41</td>\n",
       "      <td>NaN</td>\n",
       "    </tr>\n",
       "    <tr>\n",
       "      <th>426979</th>\n",
       "      <td>2266</td>\n",
       "      <td>MATT</td>\n",
       "      <td>\"(scoffs)\"</td>\n",
       "      <td>97</td>\n",
       "      <td>03:52:59</td>\n",
       "      <td>NaN</td>\n",
       "    </tr>\n",
       "    <tr>\n",
       "      <th>427881</th>\n",
       "      <td>787</td>\n",
       "      <td>MATT</td>\n",
       "      <td>\"(skeptical noise)\"</td>\n",
       "      <td>98</td>\n",
       "      <td>01:15:21</td>\n",
       "      <td>NaN</td>\n",
       "    </tr>\n",
       "    <tr>\n",
       "      <th>429435</th>\n",
       "      <td>2341</td>\n",
       "      <td>MATT</td>\n",
       "      <td>\"(screeching)\"</td>\n",
       "      <td>98</td>\n",
       "      <td>03:34:50</td>\n",
       "      <td>NaN</td>\n",
       "    </tr>\n",
       "  </tbody>\n",
       "</table>\n",
       "<p>73 rows × 6 columns</p>\n",
       "</div>"
      ],
      "text/plain": [
       "        index  name                                               text  \\\n",
       "6762     2512  MATT                                        \"(grunts)\"    \n",
       "7231     2981  MATT  \"(laughs)\" She punches you in the shoulder and...   \n",
       "7240     2990  MATT                                        \"(grunts)\"    \n",
       "16022    2569  MATT                                       \"(gasping)\"    \n",
       "31849    1789  MATT                                         \"(sighs)\"    \n",
       "...       ...   ...                                                ...   \n",
       "426312   1599  MATT                                        \"(laughs)\"    \n",
       "426691   1978  MATT                                      \"(grunting)\"    \n",
       "426979   2266  MATT                                        \"(scoffs)\"    \n",
       "427881    787  MATT                               \"(skeptical noise)\"    \n",
       "429435   2341  MATT                                    \"(screeching)\"    \n",
       "\n",
       "       episode timestamp inaudible_speech  \n",
       "6762       100  02:42:49              NaN  \n",
       "7231       100  03:13:21              NaN  \n",
       "7240       100  03:13:51              NaN  \n",
       "16022      103  03:08:44              NaN  \n",
       "31849      108  03:13:46              NaN  \n",
       "...        ...       ...              ...  \n",
       "426312      97  02:55:02              NaN  \n",
       "426691      97  03:30:41              NaN  \n",
       "426979      97  03:52:59              NaN  \n",
       "427881      98  01:15:21              NaN  \n",
       "429435      98  03:34:50              NaN  \n",
       "\n",
       "[73 rows x 6 columns]"
      ]
     },
     "execution_count": 147,
     "metadata": {},
     "output_type": "execute_result"
    }
   ],
   "source": [
    "cr_df[cr_df['text'].str.contains(r'\"\\(.*\\)\"')]\n",
    "\n",
    "#a bunch of quote brackets were still not captured, rather than fix the previous regex I just made another series"
   ]
  },
  {
   "cell_type": "code",
   "execution_count": 148,
   "id": "1286ceb6",
   "metadata": {},
   "outputs": [],
   "source": [
    "more_quotes = pd.DataFrame(cr_df[cr_df['text'].str.contains(r'\"\\(.*\\)\"')])"
   ]
  },
  {
   "cell_type": "code",
   "execution_count": 149,
   "id": "22f37a76",
   "metadata": {},
   "outputs": [
    {
     "data": {
      "text/html": [
       "<div>\n",
       "<style scoped>\n",
       "    .dataframe tbody tr th:only-of-type {\n",
       "        vertical-align: middle;\n",
       "    }\n",
       "\n",
       "    .dataframe tbody tr th {\n",
       "        vertical-align: top;\n",
       "    }\n",
       "\n",
       "    .dataframe thead th {\n",
       "        text-align: right;\n",
       "    }\n",
       "</style>\n",
       "<table border=\"1\" class=\"dataframe\">\n",
       "  <thead>\n",
       "    <tr style=\"text-align: right;\">\n",
       "      <th></th>\n",
       "      <th>index</th>\n",
       "      <th>name</th>\n",
       "      <th>text</th>\n",
       "      <th>episode</th>\n",
       "      <th>timestamp</th>\n",
       "      <th>inaudible_speech</th>\n",
       "    </tr>\n",
       "  </thead>\n",
       "  <tbody>\n",
       "    <tr>\n",
       "      <th>6762</th>\n",
       "      <td>2512</td>\n",
       "      <td>MATT</td>\n",
       "      <td>(grunts)</td>\n",
       "      <td>100</td>\n",
       "      <td>02:42:49</td>\n",
       "      <td>NaN</td>\n",
       "    </tr>\n",
       "    <tr>\n",
       "      <th>7231</th>\n",
       "      <td>2981</td>\n",
       "      <td>MATT</td>\n",
       "      <td>(laughs)</td>\n",
       "      <td>100</td>\n",
       "      <td>03:13:21</td>\n",
       "      <td>NaN</td>\n",
       "    </tr>\n",
       "    <tr>\n",
       "      <th>7240</th>\n",
       "      <td>2990</td>\n",
       "      <td>MATT</td>\n",
       "      <td>(grunts)</td>\n",
       "      <td>100</td>\n",
       "      <td>03:13:51</td>\n",
       "      <td>NaN</td>\n",
       "    </tr>\n",
       "    <tr>\n",
       "      <th>16022</th>\n",
       "      <td>2569</td>\n",
       "      <td>MATT</td>\n",
       "      <td>(gasping)</td>\n",
       "      <td>103</td>\n",
       "      <td>03:08:44</td>\n",
       "      <td>NaN</td>\n",
       "    </tr>\n",
       "    <tr>\n",
       "      <th>31849</th>\n",
       "      <td>1789</td>\n",
       "      <td>MATT</td>\n",
       "      <td>(sighs)</td>\n",
       "      <td>108</td>\n",
       "      <td>03:13:46</td>\n",
       "      <td>NaN</td>\n",
       "    </tr>\n",
       "    <tr>\n",
       "      <th>...</th>\n",
       "      <td>...</td>\n",
       "      <td>...</td>\n",
       "      <td>...</td>\n",
       "      <td>...</td>\n",
       "      <td>...</td>\n",
       "      <td>...</td>\n",
       "    </tr>\n",
       "    <tr>\n",
       "      <th>426312</th>\n",
       "      <td>1599</td>\n",
       "      <td>MATT</td>\n",
       "      <td>(laughs)</td>\n",
       "      <td>97</td>\n",
       "      <td>02:55:02</td>\n",
       "      <td>NaN</td>\n",
       "    </tr>\n",
       "    <tr>\n",
       "      <th>426691</th>\n",
       "      <td>1978</td>\n",
       "      <td>MATT</td>\n",
       "      <td>(grunting)</td>\n",
       "      <td>97</td>\n",
       "      <td>03:30:41</td>\n",
       "      <td>NaN</td>\n",
       "    </tr>\n",
       "    <tr>\n",
       "      <th>426979</th>\n",
       "      <td>2266</td>\n",
       "      <td>MATT</td>\n",
       "      <td>(scoffs)</td>\n",
       "      <td>97</td>\n",
       "      <td>03:52:59</td>\n",
       "      <td>NaN</td>\n",
       "    </tr>\n",
       "    <tr>\n",
       "      <th>427881</th>\n",
       "      <td>787</td>\n",
       "      <td>MATT</td>\n",
       "      <td>(skeptical noise)</td>\n",
       "      <td>98</td>\n",
       "      <td>01:15:21</td>\n",
       "      <td>NaN</td>\n",
       "    </tr>\n",
       "    <tr>\n",
       "      <th>429435</th>\n",
       "      <td>2341</td>\n",
       "      <td>MATT</td>\n",
       "      <td>(screeching)</td>\n",
       "      <td>98</td>\n",
       "      <td>03:34:50</td>\n",
       "      <td>NaN</td>\n",
       "    </tr>\n",
       "  </tbody>\n",
       "</table>\n",
       "<p>73 rows × 6 columns</p>\n",
       "</div>"
      ],
      "text/plain": [
       "        index  name               text episode timestamp inaudible_speech\n",
       "6762     2512  MATT           (grunts)     100  02:42:49              NaN\n",
       "7231     2981  MATT           (laughs)     100  03:13:21              NaN\n",
       "7240     2990  MATT           (grunts)     100  03:13:51              NaN\n",
       "16022    2569  MATT          (gasping)     103  03:08:44              NaN\n",
       "31849    1789  MATT            (sighs)     108  03:13:46              NaN\n",
       "...       ...   ...                ...     ...       ...              ...\n",
       "426312   1599  MATT           (laughs)      97  02:55:02              NaN\n",
       "426691   1978  MATT         (grunting)      97  03:30:41              NaN\n",
       "426979   2266  MATT           (scoffs)      97  03:52:59              NaN\n",
       "427881    787  MATT  (skeptical noise)      98  01:15:21              NaN\n",
       "429435   2341  MATT       (screeching)      98  03:34:50              NaN\n",
       "\n",
       "[73 rows x 6 columns]"
      ]
     },
     "execution_count": 149,
     "metadata": {},
     "output_type": "execute_result"
    }
   ],
   "source": [
    "more_quotes['text'] = more_quotes['text'].str.replace(r'^.*\"(\\(.*\\))\"? .*$', r'\\1', regex=True).astype('str')\n",
    "more_quotes"
   ]
  },
  {
   "cell_type": "code",
   "execution_count": 150,
   "id": "565233fd",
   "metadata": {},
   "outputs": [
    {
     "data": {
      "text/plain": [
       "6762               (grunts)\n",
       "7231               (laughs)\n",
       "7240               (grunts)\n",
       "16022             (gasping)\n",
       "31849               (sighs)\n",
       "                ...        \n",
       "426312             (laughs)\n",
       "426691           (grunting)\n",
       "426979             (scoffs)\n",
       "427881    (skeptical noise)\n",
       "429435         (screeching)\n",
       "Name: text, Length: 73, dtype: object"
      ]
     },
     "execution_count": 150,
     "metadata": {},
     "output_type": "execute_result"
    }
   ],
   "source": [
    "more = pd.Series(more_quotes['text'])\n",
    "more"
   ]
  },
  {
   "cell_type": "code",
   "execution_count": 151,
   "id": "863e0961",
   "metadata": {},
   "outputs": [],
   "source": [
    "cr_df['text'] = cr_df['text'].str.replace(r'(^.*\")\\(.*\\)(\"? .*$)', r'\\1 \\2', regex=True).astype('str')"
   ]
  },
  {
   "cell_type": "code",
   "execution_count": 152,
   "id": "62265644",
   "metadata": {},
   "outputs": [],
   "source": [
    "#cr_df[cr_df['text'].str.contains(r'\\(.*\\)\\.?\"')]\n",
    "\n",
    "#some odd straggler cases here"
   ]
  },
  {
   "cell_type": "code",
   "execution_count": 153,
   "id": "2743c10e",
   "metadata": {},
   "outputs": [],
   "source": [
    "odd_ones = pd.DataFrame(cr_df[cr_df['text'].str.contains(r'\\(.*\\)\\.?\"')])"
   ]
  },
  {
   "cell_type": "code",
   "execution_count": 154,
   "id": "3e52fa2b",
   "metadata": {},
   "outputs": [
    {
     "data": {
      "text/html": [
       "<div>\n",
       "<style scoped>\n",
       "    .dataframe tbody tr th:only-of-type {\n",
       "        vertical-align: middle;\n",
       "    }\n",
       "\n",
       "    .dataframe tbody tr th {\n",
       "        vertical-align: top;\n",
       "    }\n",
       "\n",
       "    .dataframe thead th {\n",
       "        text-align: right;\n",
       "    }\n",
       "</style>\n",
       "<table border=\"1\" class=\"dataframe\">\n",
       "  <thead>\n",
       "    <tr style=\"text-align: right;\">\n",
       "      <th></th>\n",
       "      <th>index</th>\n",
       "      <th>name</th>\n",
       "      <th>text</th>\n",
       "      <th>episode</th>\n",
       "      <th>timestamp</th>\n",
       "      <th>inaudible_speech</th>\n",
       "    </tr>\n",
       "  </thead>\n",
       "  <tbody>\n",
       "    <tr>\n",
       "      <th>33522</th>\n",
       "      <td>1023</td>\n",
       "      <td>MATT</td>\n",
       "      <td>(laughs)</td>\n",
       "      <td>109</td>\n",
       "      <td>01:17:17</td>\n",
       "      <td>NaN</td>\n",
       "    </tr>\n",
       "    <tr>\n",
       "      <th>50085</th>\n",
       "      <td>1012</td>\n",
       "      <td>MATT</td>\n",
       "      <td>(hiccups)</td>\n",
       "      <td>114</td>\n",
       "      <td>01:26:26</td>\n",
       "      <td>NaN</td>\n",
       "    </tr>\n",
       "    <tr>\n",
       "      <th>50092</th>\n",
       "      <td>1019</td>\n",
       "      <td>MATT</td>\n",
       "      <td>(sniffs)</td>\n",
       "      <td>114</td>\n",
       "      <td>01:27:23</td>\n",
       "      <td>NaN</td>\n",
       "    </tr>\n",
       "    <tr>\n",
       "      <th>106551</th>\n",
       "      <td>358</td>\n",
       "      <td>MATT</td>\n",
       "      <td>(nervous laugh)</td>\n",
       "      <td>130</td>\n",
       "      <td>00:42:46</td>\n",
       "      <td>NaN</td>\n",
       "    </tr>\n",
       "    <tr>\n",
       "      <th>115837</th>\n",
       "      <td>742</td>\n",
       "      <td>MATT</td>\n",
       "      <td>(sighs)</td>\n",
       "      <td>133</td>\n",
       "      <td>00:44:04</td>\n",
       "      <td>NaN</td>\n",
       "    </tr>\n",
       "    <tr>\n",
       "      <th>116060</th>\n",
       "      <td>965</td>\n",
       "      <td>MATT</td>\n",
       "      <td>(shouting)</td>\n",
       "      <td>133</td>\n",
       "      <td>00:59:24</td>\n",
       "      <td>NaN</td>\n",
       "    </tr>\n",
       "    <tr>\n",
       "      <th>116065</th>\n",
       "      <td>970</td>\n",
       "      <td>MATT</td>\n",
       "      <td>(grunts)</td>\n",
       "      <td>133</td>\n",
       "      <td>00:59:39</td>\n",
       "      <td>NaN</td>\n",
       "    </tr>\n",
       "    <tr>\n",
       "      <th>126756</th>\n",
       "      <td>487</td>\n",
       "      <td>MATT</td>\n",
       "      <td>(sighs)</td>\n",
       "      <td>136</td>\n",
       "      <td>00:35:00</td>\n",
       "      <td>NaN</td>\n",
       "    </tr>\n",
       "    <tr>\n",
       "      <th>140460</th>\n",
       "      <td>1747</td>\n",
       "      <td>MATT</td>\n",
       "      <td>(heh heh)</td>\n",
       "      <td>14</td>\n",
       "      <td>02:50:55</td>\n",
       "      <td>NaN</td>\n",
       "    </tr>\n",
       "    <tr>\n",
       "      <th>157662</th>\n",
       "      <td>2011</td>\n",
       "      <td>MATT</td>\n",
       "      <td>(laughs)</td>\n",
       "      <td>141.03</td>\n",
       "      <td>01:36:13</td>\n",
       "      <td>NaN</td>\n",
       "    </tr>\n",
       "    <tr>\n",
       "      <th>166354</th>\n",
       "      <td>1098</td>\n",
       "      <td>MATT</td>\n",
       "      <td>(yawns)</td>\n",
       "      <td>141</td>\n",
       "      <td>01:32:33</td>\n",
       "      <td>NaN</td>\n",
       "    </tr>\n",
       "    <tr>\n",
       "      <th>284688</th>\n",
       "      <td>541</td>\n",
       "      <td>MATT</td>\n",
       "      <td>(snorts)</td>\n",
       "      <td>56</td>\n",
       "      <td>00:51:06</td>\n",
       "      <td>NaN</td>\n",
       "    </tr>\n",
       "    <tr>\n",
       "      <th>335488</th>\n",
       "      <td>1296</td>\n",
       "      <td>MATT</td>\n",
       "      <td>(sighs)</td>\n",
       "      <td>72</td>\n",
       "      <td>01:40:40</td>\n",
       "      <td>NaN</td>\n",
       "    </tr>\n",
       "    <tr>\n",
       "      <th>341857</th>\n",
       "      <td>2730</td>\n",
       "      <td>MATT</td>\n",
       "      <td>(grunts)</td>\n",
       "      <td>74</td>\n",
       "      <td>03:30:29</td>\n",
       "      <td>NaN</td>\n",
       "    </tr>\n",
       "    <tr>\n",
       "      <th>354082</th>\n",
       "      <td>509</td>\n",
       "      <td>MATT</td>\n",
       "      <td>(chuckles)</td>\n",
       "      <td>78</td>\n",
       "      <td>00:36:27</td>\n",
       "      <td>NaN</td>\n",
       "    </tr>\n",
       "    <tr>\n",
       "      <th>356316</th>\n",
       "      <td>2743</td>\n",
       "      <td>MATT</td>\n",
       "      <td>(sighs)</td>\n",
       "      <td>78</td>\n",
       "      <td>03:38:58</td>\n",
       "      <td>NaN</td>\n",
       "    </tr>\n",
       "    <tr>\n",
       "      <th>382414</th>\n",
       "      <td>2107</td>\n",
       "      <td>MATT</td>\n",
       "      <td>(sighs)</td>\n",
       "      <td>85</td>\n",
       "      <td>02:32:14</td>\n",
       "      <td>NaN</td>\n",
       "    </tr>\n",
       "    <tr>\n",
       "      <th>394550</th>\n",
       "      <td>804</td>\n",
       "      <td>MATT</td>\n",
       "      <td>(chuckles)</td>\n",
       "      <td>89</td>\n",
       "      <td>01:19:35</td>\n",
       "      <td>NaN</td>\n",
       "    </tr>\n",
       "    <tr>\n",
       "      <th>416864</th>\n",
       "      <td>2455</td>\n",
       "      <td>MATT</td>\n",
       "      <td>(groans)</td>\n",
       "      <td>95.01</td>\n",
       "      <td>03:29:48</td>\n",
       "      <td>NaN</td>\n",
       "    </tr>\n",
       "    <tr>\n",
       "      <th>427897</th>\n",
       "      <td>803</td>\n",
       "      <td>MATT</td>\n",
       "      <td>(spits)</td>\n",
       "      <td>98</td>\n",
       "      <td>01:16:45</td>\n",
       "      <td>NaN</td>\n",
       "    </tr>\n",
       "  </tbody>\n",
       "</table>\n",
       "</div>"
      ],
      "text/plain": [
       "        index  name             text episode timestamp inaudible_speech\n",
       "33522    1023  MATT         (laughs)     109  01:17:17              NaN\n",
       "50085    1012  MATT        (hiccups)     114  01:26:26              NaN\n",
       "50092    1019  MATT         (sniffs)     114  01:27:23              NaN\n",
       "106551    358  MATT  (nervous laugh)     130  00:42:46              NaN\n",
       "115837    742  MATT          (sighs)     133  00:44:04              NaN\n",
       "116060    965  MATT       (shouting)     133  00:59:24              NaN\n",
       "116065    970  MATT         (grunts)     133  00:59:39              NaN\n",
       "126756    487  MATT          (sighs)     136  00:35:00              NaN\n",
       "140460   1747  MATT        (heh heh)      14  02:50:55              NaN\n",
       "157662   2011  MATT         (laughs)  141.03  01:36:13              NaN\n",
       "166354   1098  MATT          (yawns)     141  01:32:33              NaN\n",
       "284688    541  MATT         (snorts)      56  00:51:06              NaN\n",
       "335488   1296  MATT          (sighs)      72  01:40:40              NaN\n",
       "341857   2730  MATT         (grunts)      74  03:30:29              NaN\n",
       "354082    509  MATT       (chuckles)      78  00:36:27              NaN\n",
       "356316   2743  MATT          (sighs)      78  03:38:58              NaN\n",
       "382414   2107  MATT          (sighs)      85  02:32:14              NaN\n",
       "394550    804  MATT       (chuckles)      89  01:19:35              NaN\n",
       "416864   2455  MATT         (groans)   95.01  03:29:48              NaN\n",
       "427897    803  MATT          (spits)      98  01:16:45              NaN"
      ]
     },
     "execution_count": 154,
     "metadata": {},
     "output_type": "execute_result"
    }
   ],
   "source": [
    "odd_ones['text'] = odd_ones['text'].str.replace(r'(\\(.*\\))\\.?\".*', r'\\1', regex=True).astype('str')\n",
    "odd_ones"
   ]
  },
  {
   "cell_type": "code",
   "execution_count": 155,
   "id": "05db3203",
   "metadata": {},
   "outputs": [
    {
     "data": {
      "text/plain": [
       "33522            (laughs)\n",
       "50085           (hiccups)\n",
       "50092            (sniffs)\n",
       "106551    (nervous laugh)\n",
       "115837            (sighs)\n",
       "116060         (shouting)\n",
       "116065           (grunts)\n",
       "126756            (sighs)\n",
       "140460          (heh heh)\n",
       "157662           (laughs)\n",
       "166354            (yawns)\n",
       "284688           (snorts)\n",
       "335488            (sighs)\n",
       "341857           (grunts)\n",
       "354082         (chuckles)\n",
       "356316            (sighs)\n",
       "382414            (sighs)\n",
       "394550         (chuckles)\n",
       "416864           (groans)\n",
       "427897            (spits)\n",
       "Name: text, dtype: object"
      ]
     },
     "execution_count": 155,
     "metadata": {},
     "output_type": "execute_result"
    }
   ],
   "source": [
    "odds = pd.Series(odd_ones['text'])\n",
    "odds"
   ]
  },
  {
   "cell_type": "code",
   "execution_count": 156,
   "id": "2a13bef6",
   "metadata": {},
   "outputs": [],
   "source": [
    "cr_df['text'] = cr_df['text'].str.replace(r'\\(.*\\)(\\.?\".*)', r'\\1', regex=True).astype('str')"
   ]
  },
  {
   "cell_type": "code",
   "execution_count": 157,
   "id": "48e31136",
   "metadata": {},
   "outputs": [
    {
     "data": {
      "text/html": [
       "<div>\n",
       "<style scoped>\n",
       "    .dataframe tbody tr th:only-of-type {\n",
       "        vertical-align: middle;\n",
       "    }\n",
       "\n",
       "    .dataframe tbody tr th {\n",
       "        vertical-align: top;\n",
       "    }\n",
       "\n",
       "    .dataframe thead th {\n",
       "        text-align: right;\n",
       "    }\n",
       "</style>\n",
       "<table border=\"1\" class=\"dataframe\">\n",
       "  <thead>\n",
       "    <tr style=\"text-align: right;\">\n",
       "      <th></th>\n",
       "      <th>index</th>\n",
       "      <th>name</th>\n",
       "      <th>text</th>\n",
       "      <th>episode</th>\n",
       "      <th>timestamp</th>\n",
       "      <th>inaudible_speech</th>\n",
       "    </tr>\n",
       "  </thead>\n",
       "  <tbody>\n",
       "    <tr>\n",
       "      <th>171722</th>\n",
       "      <td>2076</td>\n",
       "      <td>MATT</td>\n",
       "      <td>--(sploosh) swings out at you-- yes, it does.</td>\n",
       "      <td>15</td>\n",
       "      <td>02:48:12</td>\n",
       "      <td>NaN</td>\n",
       "    </tr>\n",
       "    <tr>\n",
       "      <th>228675</th>\n",
       "      <td>1853</td>\n",
       "      <td>MATT</td>\n",
       "      <td>(door slamming sound). It does so.</td>\n",
       "      <td>35</td>\n",
       "      <td>02:38:50</td>\n",
       "      <td>NaN</td>\n",
       "    </tr>\n",
       "    <tr>\n",
       "      <th>383461</th>\n",
       "      <td>3154</td>\n",
       "      <td>SAM</td>\n",
       "      <td>Castle Ooh--(gurgling noises)?</td>\n",
       "      <td>85</td>\n",
       "      <td>04:19:47</td>\n",
       "      <td>NaN</td>\n",
       "    </tr>\n",
       "    <tr>\n",
       "      <th>400946</th>\n",
       "      <td>2067</td>\n",
       "      <td>LAURA</td>\n",
       "      <td>(pigeon cooing)</td>\n",
       "      <td>90</td>\n",
       "      <td>02:51:29</td>\n",
       "      <td>NaN</td>\n",
       "    </tr>\n",
       "  </tbody>\n",
       "</table>\n",
       "</div>"
      ],
      "text/plain": [
       "        index   name                                            text episode  \\\n",
       "171722   2076   MATT  --(sploosh) swings out at you-- yes, it does.       15   \n",
       "228675   1853   MATT             (door slamming sound). It does so.       35   \n",
       "383461   3154    SAM                 Castle Ooh--(gurgling noises)?       85   \n",
       "400946   2067  LAURA                                 (pigeon cooing)      90   \n",
       "\n",
       "       timestamp inaudible_speech  \n",
       "171722  02:48:12              NaN  \n",
       "228675  02:38:50              NaN  \n",
       "383461  04:19:47              NaN  \n",
       "400946  02:51:29              NaN  "
      ]
     },
     "execution_count": 157,
     "metadata": {},
     "output_type": "execute_result"
    }
   ],
   "source": [
    "cr_df[cr_df['text'].str.contains(r'\\(.*\\)')]\n",
    "\n",
    "#one last one, just to scrape up what all our other passes failed to capture"
   ]
  },
  {
   "cell_type": "code",
   "execution_count": 158,
   "id": "5ef307e9",
   "metadata": {},
   "outputs": [],
   "source": [
    "final_bracks = pd.DataFrame(cr_df[cr_df['text'].str.contains(r'\\(.*\\)')])"
   ]
  },
  {
   "cell_type": "code",
   "execution_count": 159,
   "id": "26203b72",
   "metadata": {},
   "outputs": [
    {
     "data": {
      "text/html": [
       "<div>\n",
       "<style scoped>\n",
       "    .dataframe tbody tr th:only-of-type {\n",
       "        vertical-align: middle;\n",
       "    }\n",
       "\n",
       "    .dataframe tbody tr th {\n",
       "        vertical-align: top;\n",
       "    }\n",
       "\n",
       "    .dataframe thead th {\n",
       "        text-align: right;\n",
       "    }\n",
       "</style>\n",
       "<table border=\"1\" class=\"dataframe\">\n",
       "  <thead>\n",
       "    <tr style=\"text-align: right;\">\n",
       "      <th></th>\n",
       "      <th>index</th>\n",
       "      <th>name</th>\n",
       "      <th>text</th>\n",
       "      <th>episode</th>\n",
       "      <th>timestamp</th>\n",
       "      <th>inaudible_speech</th>\n",
       "    </tr>\n",
       "  </thead>\n",
       "  <tbody>\n",
       "    <tr>\n",
       "      <th>171722</th>\n",
       "      <td>2076</td>\n",
       "      <td>MATT</td>\n",
       "      <td>(sploosh)</td>\n",
       "      <td>15</td>\n",
       "      <td>02:48:12</td>\n",
       "      <td>NaN</td>\n",
       "    </tr>\n",
       "    <tr>\n",
       "      <th>228675</th>\n",
       "      <td>1853</td>\n",
       "      <td>MATT</td>\n",
       "      <td>(door slamming sound)</td>\n",
       "      <td>35</td>\n",
       "      <td>02:38:50</td>\n",
       "      <td>NaN</td>\n",
       "    </tr>\n",
       "    <tr>\n",
       "      <th>383461</th>\n",
       "      <td>3154</td>\n",
       "      <td>SAM</td>\n",
       "      <td>(gurgling noises)</td>\n",
       "      <td>85</td>\n",
       "      <td>04:19:47</td>\n",
       "      <td>NaN</td>\n",
       "    </tr>\n",
       "    <tr>\n",
       "      <th>400946</th>\n",
       "      <td>2067</td>\n",
       "      <td>LAURA</td>\n",
       "      <td>(pigeon cooing)</td>\n",
       "      <td>90</td>\n",
       "      <td>02:51:29</td>\n",
       "      <td>NaN</td>\n",
       "    </tr>\n",
       "  </tbody>\n",
       "</table>\n",
       "</div>"
      ],
      "text/plain": [
       "        index   name                   text episode timestamp inaudible_speech\n",
       "171722   2076   MATT              (sploosh)      15  02:48:12              NaN\n",
       "228675   1853   MATT  (door slamming sound)      35  02:38:50              NaN\n",
       "383461   3154    SAM      (gurgling noises)      85  04:19:47              NaN\n",
       "400946   2067  LAURA        (pigeon cooing)      90  02:51:29              NaN"
      ]
     },
     "execution_count": 159,
     "metadata": {},
     "output_type": "execute_result"
    }
   ],
   "source": [
    "final_bracks['text'] = final_bracks['text'].str.replace(r'.*(\\(.*\\)).*', r'\\1', regex=True).astype('str')\n",
    "final_bracks"
   ]
  },
  {
   "cell_type": "code",
   "execution_count": 160,
   "id": "585e679e",
   "metadata": {},
   "outputs": [
    {
     "data": {
      "text/plain": [
       "171722                (sploosh)\n",
       "228675    (door slamming sound)\n",
       "383461        (gurgling noises)\n",
       "400946          (pigeon cooing)\n",
       "Name: text, dtype: object"
      ]
     },
     "execution_count": 160,
     "metadata": {},
     "output_type": "execute_result"
    }
   ],
   "source": [
    "final = pd.Series(final_bracks['text'])\n",
    "final"
   ]
  },
  {
   "cell_type": "code",
   "execution_count": 161,
   "id": "f94f555b",
   "metadata": {},
   "outputs": [],
   "source": [
    "cr_df['text'] = cr_df['text'].str.replace(r'(.*)\\(.*\\)(.*)', r'\\1 \\2', regex=True).astype('str')"
   ]
  },
  {
   "cell_type": "code",
   "execution_count": null,
   "id": "90e22303",
   "metadata": {},
   "outputs": [],
   "source": []
  },
  {
   "cell_type": "markdown",
   "id": "0f228350",
   "metadata": {},
   "source": [
    "#### FINALLY\n",
    "\n",
    "That was a whole weekend of work :) So satisfying now that it works though - confirmed no lingering instances of parenthesis in the text column of the df\n",
    "\n",
    "So the next steps are to concat all of the series together, check for duplicate indexes to verify all of our lines were captured and treated only once, add our newly created series into a new column, fill all our NaN lines with an empty string, and re-pickle this DF into a new version called \"split\""
   ]
  },
  {
   "cell_type": "code",
   "execution_count": null,
   "id": "b83915de",
   "metadata": {},
   "outputs": [],
   "source": []
  },
  {
   "cell_type": "code",
   "execution_count": 162,
   "id": "11c09037",
   "metadata": {},
   "outputs": [],
   "source": [
    "sounds = [nonspeech, more_nonspeech, eight, six, five, four, three, mult, lead, trail, mid, comma, quotes, more, odds, final]"
   ]
  },
  {
   "cell_type": "code",
   "execution_count": 163,
   "id": "e1edb23d",
   "metadata": {},
   "outputs": [
    {
     "data": {
      "text/plain": [
       "5                   (laughter) \n",
       "7                   (laughter) \n",
       "54                  (laughter) \n",
       "86          (nervous laughter) \n",
       "135                 (laughter) \n",
       "                  ...          \n",
       "427897                  (spits)\n",
       "171722                (sploosh)\n",
       "228675    (door slamming sound)\n",
       "383461        (gurgling noises)\n",
       "400946          (pigeon cooing)\n",
       "Name: text, Length: 25878, dtype: object"
      ]
     },
     "execution_count": 163,
     "metadata": {},
     "output_type": "execute_result"
    }
   ],
   "source": [
    "noises = pd.concat(sounds)\n",
    "noises"
   ]
  },
  {
   "cell_type": "code",
   "execution_count": 164,
   "id": "62ea52a2",
   "metadata": {},
   "outputs": [],
   "source": [
    "duplicates = noises.index[noises.index.duplicated(keep=False)]"
   ]
  },
  {
   "cell_type": "code",
   "execution_count": 165,
   "id": "44ef8464",
   "metadata": {},
   "outputs": [
    {
     "name": "stdout",
     "output_type": "stream",
     "text": [
      "Int64Index([], dtype='int64')\n"
     ]
    }
   ],
   "source": [
    "print(duplicates)"
   ]
  },
  {
   "cell_type": "code",
   "execution_count": null,
   "id": "28c20a05",
   "metadata": {},
   "outputs": [],
   "source": []
  },
  {
   "cell_type": "code",
   "execution_count": 166,
   "id": "3607d0ba",
   "metadata": {},
   "outputs": [
    {
     "data": {
      "text/html": [
       "<div>\n",
       "<style scoped>\n",
       "    .dataframe tbody tr th:only-of-type {\n",
       "        vertical-align: middle;\n",
       "    }\n",
       "\n",
       "    .dataframe tbody tr th {\n",
       "        vertical-align: top;\n",
       "    }\n",
       "\n",
       "    .dataframe thead th {\n",
       "        text-align: right;\n",
       "    }\n",
       "</style>\n",
       "<table border=\"1\" class=\"dataframe\">\n",
       "  <thead>\n",
       "    <tr style=\"text-align: right;\">\n",
       "      <th></th>\n",
       "      <th>index</th>\n",
       "      <th>name</th>\n",
       "      <th>text</th>\n",
       "      <th>episode</th>\n",
       "      <th>timestamp</th>\n",
       "      <th>inaudible_speech</th>\n",
       "      <th>nonspeech</th>\n",
       "    </tr>\n",
       "  </thead>\n",
       "  <tbody>\n",
       "    <tr>\n",
       "      <th>0</th>\n",
       "      <td>0</td>\n",
       "      <td>MATT</td>\n",
       "      <td>We've got some cool stuff to talk about. First...</td>\n",
       "      <td>1</td>\n",
       "      <td>00:00:15</td>\n",
       "      <td>NaN</td>\n",
       "      <td>NaN</td>\n",
       "    </tr>\n",
       "    <tr>\n",
       "      <th>1</th>\n",
       "      <td>1</td>\n",
       "      <td>LAURA</td>\n",
       "      <td>As in nnnn.</td>\n",
       "      <td>1</td>\n",
       "      <td>00:01:21</td>\n",
       "      <td>NaN</td>\n",
       "      <td>NaN</td>\n",
       "    </tr>\n",
       "    <tr>\n",
       "      <th>2</th>\n",
       "      <td>2</td>\n",
       "      <td>MATT</td>\n",
       "      <td>Nnnn. But yeah, so they're going to be a long-...</td>\n",
       "      <td>1</td>\n",
       "      <td>00:01:24</td>\n",
       "      <td>NaN</td>\n",
       "      <td>NaN</td>\n",
       "    </tr>\n",
       "    <tr>\n",
       "      <th>3</th>\n",
       "      <td>3</td>\n",
       "      <td>TRAVIS</td>\n",
       "      <td>Would you like some?</td>\n",
       "      <td>1</td>\n",
       "      <td>00:02:04</td>\n",
       "      <td>NaN</td>\n",
       "      <td>(vomiting noises)</td>\n",
       "    </tr>\n",
       "    <tr>\n",
       "      <th>4</th>\n",
       "      <td>4</td>\n",
       "      <td>MATT</td>\n",
       "      <td>So yeah. I'm super excited to have that, guys....</td>\n",
       "      <td>1</td>\n",
       "      <td>00:02:07</td>\n",
       "      <td>NaN</td>\n",
       "      <td>NaN</td>\n",
       "    </tr>\n",
       "  </tbody>\n",
       "</table>\n",
       "</div>"
      ],
      "text/plain": [
       "   index    name                                               text episode  \\\n",
       "0      0    MATT  We've got some cool stuff to talk about. First...       1   \n",
       "1      1   LAURA                                       As in nnnn.        1   \n",
       "2      2    MATT  Nnnn. But yeah, so they're going to be a long-...       1   \n",
       "3      3  TRAVIS                              Would you like some?        1   \n",
       "4      4    MATT  So yeah. I'm super excited to have that, guys....       1   \n",
       "\n",
       "  timestamp inaudible_speech          nonspeech  \n",
       "0  00:00:15              NaN                NaN  \n",
       "1  00:01:21              NaN                NaN  \n",
       "2  00:01:24              NaN                NaN  \n",
       "3  00:02:04              NaN  (vomiting noises)  \n",
       "4  00:02:07              NaN                NaN  "
      ]
     },
     "execution_count": 166,
     "metadata": {},
     "output_type": "execute_result"
    }
   ],
   "source": [
    "cr_df['nonspeech'] = noises\n",
    "cr_df.head()"
   ]
  },
  {
   "cell_type": "code",
   "execution_count": 167,
   "id": "6d992aee",
   "metadata": {},
   "outputs": [],
   "source": [
    "cr_df['nonspeech'] = cr_df['nonspeech'].fillna('')\n",
    "cr_df['inaudible_speech'] = cr_df['inaudible_speech'].fillna('')"
   ]
  },
  {
   "cell_type": "code",
   "execution_count": null,
   "id": "47472f87",
   "metadata": {},
   "outputs": [],
   "source": []
  },
  {
   "cell_type": "code",
   "execution_count": 168,
   "id": "88246744",
   "metadata": {},
   "outputs": [
    {
     "data": {
      "text/html": [
       "<div>\n",
       "<style scoped>\n",
       "    .dataframe tbody tr th:only-of-type {\n",
       "        vertical-align: middle;\n",
       "    }\n",
       "\n",
       "    .dataframe tbody tr th {\n",
       "        vertical-align: top;\n",
       "    }\n",
       "\n",
       "    .dataframe thead th {\n",
       "        text-align: right;\n",
       "    }\n",
       "</style>\n",
       "<table border=\"1\" class=\"dataframe\">\n",
       "  <thead>\n",
       "    <tr style=\"text-align: right;\">\n",
       "      <th></th>\n",
       "      <th>index</th>\n",
       "      <th>name</th>\n",
       "      <th>text</th>\n",
       "      <th>episode</th>\n",
       "      <th>timestamp</th>\n",
       "      <th>inaudible_speech</th>\n",
       "      <th>nonspeech</th>\n",
       "    </tr>\n",
       "  </thead>\n",
       "  <tbody>\n",
       "    <tr>\n",
       "      <th>0</th>\n",
       "      <td>0</td>\n",
       "      <td>MATT</td>\n",
       "      <td>We've got some cool stuff to talk about. First...</td>\n",
       "      <td>1</td>\n",
       "      <td>00:00:15</td>\n",
       "      <td></td>\n",
       "      <td></td>\n",
       "    </tr>\n",
       "    <tr>\n",
       "      <th>1</th>\n",
       "      <td>1</td>\n",
       "      <td>LAURA</td>\n",
       "      <td>As in nnnn.</td>\n",
       "      <td>1</td>\n",
       "      <td>00:01:21</td>\n",
       "      <td></td>\n",
       "      <td></td>\n",
       "    </tr>\n",
       "    <tr>\n",
       "      <th>2</th>\n",
       "      <td>2</td>\n",
       "      <td>MATT</td>\n",
       "      <td>Nnnn. But yeah, so they're going to be a long-...</td>\n",
       "      <td>1</td>\n",
       "      <td>00:01:24</td>\n",
       "      <td></td>\n",
       "      <td></td>\n",
       "    </tr>\n",
       "    <tr>\n",
       "      <th>3</th>\n",
       "      <td>3</td>\n",
       "      <td>TRAVIS</td>\n",
       "      <td>Would you like some?</td>\n",
       "      <td>1</td>\n",
       "      <td>00:02:04</td>\n",
       "      <td></td>\n",
       "      <td>(vomiting noises)</td>\n",
       "    </tr>\n",
       "    <tr>\n",
       "      <th>4</th>\n",
       "      <td>4</td>\n",
       "      <td>MATT</td>\n",
       "      <td>So yeah. I'm super excited to have that, guys....</td>\n",
       "      <td>1</td>\n",
       "      <td>00:02:07</td>\n",
       "      <td></td>\n",
       "      <td></td>\n",
       "    </tr>\n",
       "  </tbody>\n",
       "</table>\n",
       "</div>"
      ],
      "text/plain": [
       "   index    name                                               text episode  \\\n",
       "0      0    MATT  We've got some cool stuff to talk about. First...       1   \n",
       "1      1   LAURA                                       As in nnnn.        1   \n",
       "2      2    MATT  Nnnn. But yeah, so they're going to be a long-...       1   \n",
       "3      3  TRAVIS                              Would you like some?        1   \n",
       "4      4    MATT  So yeah. I'm super excited to have that, guys....       1   \n",
       "\n",
       "  timestamp inaudible_speech          nonspeech  \n",
       "0  00:00:15                                      \n",
       "1  00:01:21                                      \n",
       "2  00:01:24                                      \n",
       "3  00:02:04                   (vomiting noises)  \n",
       "4  00:02:07                                      "
      ]
     },
     "execution_count": 168,
     "metadata": {},
     "output_type": "execute_result"
    }
   ],
   "source": [
    "cr_df.head()"
   ]
  },
  {
   "cell_type": "code",
   "execution_count": null,
   "id": "a469b511",
   "metadata": {},
   "outputs": [],
   "source": []
  }
 ],
 "metadata": {
  "kernelspec": {
   "display_name": "DataSci",
   "language": "python",
   "name": "datasci"
  },
  "language_info": {
   "codemirror_mode": {
    "name": "ipython",
    "version": 3
   },
   "file_extension": ".py",
   "mimetype": "text/x-python",
   "name": "python",
   "nbconvert_exporter": "python",
   "pygments_lexer": "ipython3",
   "version": "3.11.4"
  }
 },
 "nbformat": 4,
 "nbformat_minor": 5
}
