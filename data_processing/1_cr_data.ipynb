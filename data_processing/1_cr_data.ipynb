{
 "cells": [
  {
   "cell_type": "code",
   "execution_count": 1,
   "id": "e5233a12",
   "metadata": {},
   "outputs": [],
   "source": [
    "import json\n",
    "import pandas as pd\n",
    "import glob\n",
    "from pandas import json_normalize"
   ]
  },
  {
   "cell_type": "code",
   "execution_count": null,
   "id": "a66cc04c",
   "metadata": {},
   "outputs": [],
   "source": [
    "NEW CONTINUING (part 1 of CR data)"
   ]
  },
  {
   "cell_type": "markdown",
   "id": "9f010459",
   "metadata": {},
   "source": [
    "note about the format of this json file <br>\n",
    "FULL file one dict<br>\n",
    "metadata dict<br>\n",
    "lines list of dict with nested dicts<br>\n",
    "outer dict in lines - name + text<br>\n",
    "inner nested dict - ts timestamp information"
   ]
  },
  {
   "cell_type": "code",
   "execution_count": 2,
   "id": "a51a8d32",
   "metadata": {},
   "outputs": [],
   "source": [
    "#read in all json files for cr campaign 2\n",
    "files = glob.glob('json_transcripts/c2/*.json' ,recursive=True)"
   ]
  },
  {
   "cell_type": "code",
   "execution_count": 3,
   "id": "6bad8095",
   "metadata": {},
   "outputs": [
    {
     "data": {
      "text/plain": [
       "['json_transcripts/c2\\\\cr2-1.json',\n",
       " 'json_transcripts/c2\\\\cr2-10.json',\n",
       " 'json_transcripts/c2\\\\cr2-100.json',\n",
       " 'json_transcripts/c2\\\\cr2-101.json',\n",
       " 'json_transcripts/c2\\\\cr2-102.json',\n",
       " 'json_transcripts/c2\\\\cr2-103.json',\n",
       " 'json_transcripts/c2\\\\cr2-104.json',\n",
       " 'json_transcripts/c2\\\\cr2-105.json',\n",
       " 'json_transcripts/c2\\\\cr2-106.json',\n",
       " 'json_transcripts/c2\\\\cr2-107.json']"
      ]
     },
     "execution_count": 3,
     "metadata": {},
     "output_type": "execute_result"
    }
   ],
   "source": [
    "#note that the order is a little odd or different from what i would have expected. last file = 99\n",
    "files[:10]"
   ]
  },
  {
   "cell_type": "code",
   "execution_count": 4,
   "id": "eab5bf26",
   "metadata": {},
   "outputs": [],
   "source": [
    "#build dict where episode number is the key and the value is the text of the json file\n",
    "crdict = {}\n",
    "def GetFile(filename):\n",
    "    for file in files:\n",
    "        results = file.split('-')  #split file path at '-'\n",
    "        epnum = results[1]         #index to 1 to get episodenum.json\n",
    "        epnum = epnum[:-5]         #index to get rid of '.json'\n",
    "        f = open(file, 'r')        #read in files\n",
    "        text = f.read()\n",
    "        f.close\n",
    "        crdict[epnum]=text"
   ]
  },
  {
   "cell_type": "code",
   "execution_count": 5,
   "id": "1a6b50e5",
   "metadata": {},
   "outputs": [],
   "source": [
    "GetFile(files)\n",
    "#crlist[1]"
   ]
  },
  {
   "cell_type": "code",
   "execution_count": 6,
   "id": "84137d96",
   "metadata": {},
   "outputs": [
    {
     "data": {
      "text/plain": [
       "147"
      ]
     },
     "execution_count": 6,
     "metadata": {},
     "output_type": "execute_result"
    }
   ],
   "source": [
    "len(crdict)  #confirm 147 entries in dict"
   ]
  },
  {
   "cell_type": "code",
   "execution_count": 7,
   "id": "9dec9aa8",
   "metadata": {},
   "outputs": [
    {
     "data": {
      "text/plain": [
       "147"
      ]
     },
     "execution_count": 7,
     "metadata": {},
     "output_type": "execute_result"
    }
   ],
   "source": [
    "len(files)   #and 147 paths in imported files. 147 files for 141 episodes"
   ]
  },
  {
   "cell_type": "code",
   "execution_count": 8,
   "id": "bd355b1d",
   "metadata": {
    "scrolled": true
   },
   "outputs": [],
   "source": [
    "ep_1 = crdict['1']    #note dict key '1' not index 1\n",
    "#ep_1\n",
    "#isolate one single episode to work out the formula to get the df I want"
   ]
  },
  {
   "cell_type": "code",
   "execution_count": 9,
   "id": "34ee8c70",
   "metadata": {},
   "outputs": [
    {
     "data": {
      "text/html": [
       "<div>\n",
       "<style scoped>\n",
       "    .dataframe tbody tr th:only-of-type {\n",
       "        vertical-align: middle;\n",
       "    }\n",
       "\n",
       "    .dataframe tbody tr th {\n",
       "        vertical-align: top;\n",
       "    }\n",
       "\n",
       "    .dataframe thead th {\n",
       "        text-align: right;\n",
       "    }\n",
       "</style>\n",
       "<table border=\"1\" class=\"dataframe\">\n",
       "  <thead>\n",
       "    <tr style=\"text-align: right;\">\n",
       "      <th></th>\n",
       "      <th>lines</th>\n",
       "      <th>metadata.campaign</th>\n",
       "      <th>metadata.episode</th>\n",
       "      <th>metadata.title</th>\n",
       "      <th>metadata.html_file</th>\n",
       "    </tr>\n",
       "  </thead>\n",
       "  <tbody>\n",
       "    <tr>\n",
       "      <th>0</th>\n",
       "      <td>[{'name': 'MATT', 'ts': {'h': 0, 'm': '0', 's'...</td>\n",
       "      <td>2</td>\n",
       "      <td>1</td>\n",
       "      <td>Curious Beginnings</td>\n",
       "      <td>html\\cr2-1.html</td>\n",
       "    </tr>\n",
       "  </tbody>\n",
       "</table>\n",
       "</div>"
      ],
      "text/plain": [
       "                                               lines metadata.campaign  \\\n",
       "0  [{'name': 'MATT', 'ts': {'h': 0, 'm': '0', 's'...                 2   \n",
       "\n",
       "  metadata.episode       metadata.title metadata.html_file  \n",
       "0                1  Curious Beginnings     html\\cr2-1.html  "
      ]
     },
     "execution_count": 9,
     "metadata": {},
     "output_type": "execute_result"
    }
   ],
   "source": [
    "data = json.loads(ep_1)      #read in isolated ep1\n",
    "df = json_normalize(data)\n",
    "df.head()"
   ]
  },
  {
   "cell_type": "code",
   "execution_count": 10,
   "id": "d0462495",
   "metadata": {},
   "outputs": [],
   "source": [
    "df_test = df\n",
    "#for testing and messing around with without affecting the base/first level df"
   ]
  },
  {
   "cell_type": "code",
   "execution_count": 11,
   "id": "0520135b",
   "metadata": {},
   "outputs": [
    {
     "data": {
      "text/html": [
       "<div>\n",
       "<style scoped>\n",
       "    .dataframe tbody tr th:only-of-type {\n",
       "        vertical-align: middle;\n",
       "    }\n",
       "\n",
       "    .dataframe tbody tr th {\n",
       "        vertical-align: top;\n",
       "    }\n",
       "\n",
       "    .dataframe thead th {\n",
       "        text-align: right;\n",
       "    }\n",
       "</style>\n",
       "<table border=\"1\" class=\"dataframe\">\n",
       "  <thead>\n",
       "    <tr style=\"text-align: right;\">\n",
       "      <th></th>\n",
       "      <th>0</th>\n",
       "      <th>1</th>\n",
       "      <th>2</th>\n",
       "      <th>3</th>\n",
       "      <th>4</th>\n",
       "      <th>5</th>\n",
       "      <th>6</th>\n",
       "      <th>7</th>\n",
       "      <th>8</th>\n",
       "      <th>9</th>\n",
       "      <th>...</th>\n",
       "      <th>1587</th>\n",
       "      <th>1588</th>\n",
       "      <th>1589</th>\n",
       "      <th>1590</th>\n",
       "      <th>1591</th>\n",
       "      <th>1592</th>\n",
       "      <th>1593</th>\n",
       "      <th>1594</th>\n",
       "      <th>1595</th>\n",
       "      <th>1596</th>\n",
       "    </tr>\n",
       "  </thead>\n",
       "  <tbody>\n",
       "    <tr>\n",
       "      <th>0</th>\n",
       "      <td>{'name': 'MATT', 'text': 'We've got some cool ...</td>\n",
       "      <td>{'name': 'LAURA', 'text': 'As in nnnn. ', 'ts....</td>\n",
       "      <td>{'name': 'MATT', 'text': 'Nnnn. But yeah, so t...</td>\n",
       "      <td>{'name': 'TRAVIS', 'text': '(vomiting noises) ...</td>\n",
       "      <td>{'name': 'MATT', 'text': 'So yeah. I'm super e...</td>\n",
       "      <td>{'name': 'SAM', 'text': '(laughter) ', 'ts.h':...</td>\n",
       "      <td>{'name': 'LAURA', 'text': 'Thanks, Sam! ', 'ts...</td>\n",
       "      <td>{'name': 'SAM', 'text': '(laughter) ', 'ts.h':...</td>\n",
       "      <td>{'name': 'MATT', 'text': 'It's made out of Eng...</td>\n",
       "      <td>{'name': 'SAM', 'text': 'It smells really nice...</td>\n",
       "      <td>...</td>\n",
       "      <td>{'name': 'TRAVIS', 'text': 'I'm a ballerina. '...</td>\n",
       "      <td>{'name': 'MARISHA', 'text': 'He's a prima. ', ...</td>\n",
       "      <td>{'name': 'MATT', 'text': 'Well, guys. Happy Ne...</td>\n",
       "      <td>{'name': 'MARISHA', 'text': 'Thank you to our ...</td>\n",
       "      <td>{'name': 'SAM', 'text': 'Thank you, Matt Merce...</td>\n",
       "      <td>{'name': 'MATT', 'text': 'I'm excited. ', 'ts....</td>\n",
       "      <td>{'name': 'SAM', 'text': 'Thanks, Yev. ', 'ts.h...</td>\n",
       "      <td>{'name': 'MATT', 'text': 'Guys, have a wonderf...</td>\n",
       "      <td>{'name': 'ASHLEY', 'text': 'Yeah, me too. ', '...</td>\n",
       "      <td>{'name': 'MATT', 'text': 'Until then, have a w...</td>\n",
       "    </tr>\n",
       "  </tbody>\n",
       "</table>\n",
       "<p>1 rows × 1597 columns</p>\n",
       "</div>"
      ],
      "text/plain": [
       "                                                0     \\\n",
       "0  {'name': 'MATT', 'text': 'We've got some cool ...   \n",
       "\n",
       "                                                1     \\\n",
       "0  {'name': 'LAURA', 'text': 'As in nnnn. ', 'ts....   \n",
       "\n",
       "                                                2     \\\n",
       "0  {'name': 'MATT', 'text': 'Nnnn. But yeah, so t...   \n",
       "\n",
       "                                                3     \\\n",
       "0  {'name': 'TRAVIS', 'text': '(vomiting noises) ...   \n",
       "\n",
       "                                                4     \\\n",
       "0  {'name': 'MATT', 'text': 'So yeah. I'm super e...   \n",
       "\n",
       "                                                5     \\\n",
       "0  {'name': 'SAM', 'text': '(laughter) ', 'ts.h':...   \n",
       "\n",
       "                                                6     \\\n",
       "0  {'name': 'LAURA', 'text': 'Thanks, Sam! ', 'ts...   \n",
       "\n",
       "                                                7     \\\n",
       "0  {'name': 'SAM', 'text': '(laughter) ', 'ts.h':...   \n",
       "\n",
       "                                                8     \\\n",
       "0  {'name': 'MATT', 'text': 'It's made out of Eng...   \n",
       "\n",
       "                                                9     ...  \\\n",
       "0  {'name': 'SAM', 'text': 'It smells really nice...  ...   \n",
       "\n",
       "                                                1587  \\\n",
       "0  {'name': 'TRAVIS', 'text': 'I'm a ballerina. '...   \n",
       "\n",
       "                                                1588  \\\n",
       "0  {'name': 'MARISHA', 'text': 'He's a prima. ', ...   \n",
       "\n",
       "                                                1589  \\\n",
       "0  {'name': 'MATT', 'text': 'Well, guys. Happy Ne...   \n",
       "\n",
       "                                                1590  \\\n",
       "0  {'name': 'MARISHA', 'text': 'Thank you to our ...   \n",
       "\n",
       "                                                1591  \\\n",
       "0  {'name': 'SAM', 'text': 'Thank you, Matt Merce...   \n",
       "\n",
       "                                                1592  \\\n",
       "0  {'name': 'MATT', 'text': 'I'm excited. ', 'ts....   \n",
       "\n",
       "                                                1593  \\\n",
       "0  {'name': 'SAM', 'text': 'Thanks, Yev. ', 'ts.h...   \n",
       "\n",
       "                                                1594  \\\n",
       "0  {'name': 'MATT', 'text': 'Guys, have a wonderf...   \n",
       "\n",
       "                                                1595  \\\n",
       "0  {'name': 'ASHLEY', 'text': 'Yeah, me too. ', '...   \n",
       "\n",
       "                                                1596  \n",
       "0  {'name': 'MATT', 'text': 'Until then, have a w...  \n",
       "\n",
       "[1 rows x 1597 columns]"
      ]
     },
     "execution_count": 11,
     "metadata": {},
     "output_type": "execute_result"
    }
   ],
   "source": [
    "df_test = json_normalize(df_test['lines'])  #normalize \"lines\" column to expand\n",
    "df_test.head()     #one line from full episode per column"
   ]
  },
  {
   "cell_type": "code",
   "execution_count": 12,
   "id": "dbfe4364",
   "metadata": {},
   "outputs": [
    {
     "data": {
      "text/plain": [
       "0    {'name': 'MATT', 'text': 'We've got some cool ...\n",
       "Name: 0, dtype: object"
      ]
     },
     "execution_count": 12,
     "metadata": {},
     "output_type": "execute_result"
    }
   ],
   "source": [
    "df_test[0]"
   ]
  },
  {
   "cell_type": "code",
   "execution_count": 13,
   "id": "ff0efbdc",
   "metadata": {},
   "outputs": [
    {
     "data": {
      "text/html": [
       "<div>\n",
       "<style scoped>\n",
       "    .dataframe tbody tr th:only-of-type {\n",
       "        vertical-align: middle;\n",
       "    }\n",
       "\n",
       "    .dataframe tbody tr th {\n",
       "        vertical-align: top;\n",
       "    }\n",
       "\n",
       "    .dataframe thead th {\n",
       "        text-align: right;\n",
       "    }\n",
       "</style>\n",
       "<table border=\"1\" class=\"dataframe\">\n",
       "  <thead>\n",
       "    <tr style=\"text-align: right;\">\n",
       "      <th></th>\n",
       "      <th>name</th>\n",
       "      <th>text</th>\n",
       "      <th>ts.h</th>\n",
       "      <th>ts.m</th>\n",
       "      <th>ts.s</th>\n",
       "    </tr>\n",
       "  </thead>\n",
       "  <tbody>\n",
       "    <tr>\n",
       "      <th>0</th>\n",
       "      <td>MATT</td>\n",
       "      <td>We've got some cool stuff to talk about. First...</td>\n",
       "      <td>0</td>\n",
       "      <td>0</td>\n",
       "      <td>15</td>\n",
       "    </tr>\n",
       "  </tbody>\n",
       "</table>\n",
       "</div>"
      ],
      "text/plain": [
       "   name                                               text  ts.h ts.m  ts.s\n",
       "0  MATT  We've got some cool stuff to talk about. First...     0    0    15"
      ]
     },
     "execution_count": 13,
     "metadata": {},
     "output_type": "execute_result"
    }
   ],
   "source": [
    "ts_test_df = json_normalize(df_test[0]) \n",
    "ts_test_df    #confirmation that one final normalization gets the format I want"
   ]
  },
  {
   "cell_type": "code",
   "execution_count": 14,
   "id": "16aad2d8",
   "metadata": {},
   "outputs": [],
   "source": [
    "test_long = pd.melt(df_test)    #move lines columns into rows"
   ]
  },
  {
   "cell_type": "code",
   "execution_count": 15,
   "id": "71fb34d9",
   "metadata": {},
   "outputs": [
    {
     "data": {
      "text/html": [
       "<div>\n",
       "<style scoped>\n",
       "    .dataframe tbody tr th:only-of-type {\n",
       "        vertical-align: middle;\n",
       "    }\n",
       "\n",
       "    .dataframe tbody tr th {\n",
       "        vertical-align: top;\n",
       "    }\n",
       "\n",
       "    .dataframe thead th {\n",
       "        text-align: right;\n",
       "    }\n",
       "</style>\n",
       "<table border=\"1\" class=\"dataframe\">\n",
       "  <thead>\n",
       "    <tr style=\"text-align: right;\">\n",
       "      <th></th>\n",
       "      <th>variable</th>\n",
       "      <th>value</th>\n",
       "    </tr>\n",
       "  </thead>\n",
       "  <tbody>\n",
       "    <tr>\n",
       "      <th>1592</th>\n",
       "      <td>1592</td>\n",
       "      <td>{'name': 'MATT', 'text': 'I'm excited. ', 'ts....</td>\n",
       "    </tr>\n",
       "    <tr>\n",
       "      <th>1593</th>\n",
       "      <td>1593</td>\n",
       "      <td>{'name': 'SAM', 'text': 'Thanks, Yev. ', 'ts.h...</td>\n",
       "    </tr>\n",
       "    <tr>\n",
       "      <th>1594</th>\n",
       "      <td>1594</td>\n",
       "      <td>{'name': 'MATT', 'text': 'Guys, have a wonderf...</td>\n",
       "    </tr>\n",
       "    <tr>\n",
       "      <th>1595</th>\n",
       "      <td>1595</td>\n",
       "      <td>{'name': 'ASHLEY', 'text': 'Yeah, me too. ', '...</td>\n",
       "    </tr>\n",
       "    <tr>\n",
       "      <th>1596</th>\n",
       "      <td>1596</td>\n",
       "      <td>{'name': 'MATT', 'text': 'Until then, have a w...</td>\n",
       "    </tr>\n",
       "  </tbody>\n",
       "</table>\n",
       "</div>"
      ],
      "text/plain": [
       "      variable                                              value\n",
       "1592      1592  {'name': 'MATT', 'text': 'I'm excited. ', 'ts....\n",
       "1593      1593  {'name': 'SAM', 'text': 'Thanks, Yev. ', 'ts.h...\n",
       "1594      1594  {'name': 'MATT', 'text': 'Guys, have a wonderf...\n",
       "1595      1595  {'name': 'ASHLEY', 'text': 'Yeah, me too. ', '...\n",
       "1596      1596  {'name': 'MATT', 'text': 'Until then, have a w..."
      ]
     },
     "execution_count": 15,
     "metadata": {},
     "output_type": "execute_result"
    }
   ],
   "source": [
    "test_long.tail()"
   ]
  },
  {
   "cell_type": "code",
   "execution_count": 16,
   "id": "98e970f9",
   "metadata": {},
   "outputs": [],
   "source": [
    "ts2_df = json_normalize(test_long['value'])    #normalize value column to open final nested dict"
   ]
  },
  {
   "cell_type": "code",
   "execution_count": 17,
   "id": "4bc8ba59",
   "metadata": {},
   "outputs": [
    {
     "data": {
      "text/html": [
       "<div>\n",
       "<style scoped>\n",
       "    .dataframe tbody tr th:only-of-type {\n",
       "        vertical-align: middle;\n",
       "    }\n",
       "\n",
       "    .dataframe tbody tr th {\n",
       "        vertical-align: top;\n",
       "    }\n",
       "\n",
       "    .dataframe thead th {\n",
       "        text-align: right;\n",
       "    }\n",
       "</style>\n",
       "<table border=\"1\" class=\"dataframe\">\n",
       "  <thead>\n",
       "    <tr style=\"text-align: right;\">\n",
       "      <th></th>\n",
       "      <th>name</th>\n",
       "      <th>text</th>\n",
       "      <th>ts.h</th>\n",
       "      <th>ts.m</th>\n",
       "      <th>ts.s</th>\n",
       "    </tr>\n",
       "  </thead>\n",
       "  <tbody>\n",
       "    <tr>\n",
       "      <th>0</th>\n",
       "      <td>MATT</td>\n",
       "      <td>We've got some cool stuff to talk about. First...</td>\n",
       "      <td>0</td>\n",
       "      <td>0</td>\n",
       "      <td>15</td>\n",
       "    </tr>\n",
       "    <tr>\n",
       "      <th>1</th>\n",
       "      <td>LAURA</td>\n",
       "      <td>As in nnnn.</td>\n",
       "      <td>0</td>\n",
       "      <td>1</td>\n",
       "      <td>21</td>\n",
       "    </tr>\n",
       "    <tr>\n",
       "      <th>2</th>\n",
       "      <td>MATT</td>\n",
       "      <td>Nnnn. But yeah, so they're going to be a long-...</td>\n",
       "      <td>0</td>\n",
       "      <td>1</td>\n",
       "      <td>24</td>\n",
       "    </tr>\n",
       "    <tr>\n",
       "      <th>3</th>\n",
       "      <td>TRAVIS</td>\n",
       "      <td>(vomiting noises) Would you like some?</td>\n",
       "      <td>0</td>\n",
       "      <td>2</td>\n",
       "      <td>4</td>\n",
       "    </tr>\n",
       "    <tr>\n",
       "      <th>4</th>\n",
       "      <td>MATT</td>\n",
       "      <td>So yeah. I'm super excited to have that, guys....</td>\n",
       "      <td>0</td>\n",
       "      <td>2</td>\n",
       "      <td>7</td>\n",
       "    </tr>\n",
       "  </tbody>\n",
       "</table>\n",
       "</div>"
      ],
      "text/plain": [
       "     name                                               text  ts.h ts.m  ts.s\n",
       "0    MATT  We've got some cool stuff to talk about. First...     0    0    15\n",
       "1   LAURA                                       As in nnnn.      0    1    21\n",
       "2    MATT  Nnnn. But yeah, so they're going to be a long-...     0    1    24\n",
       "3  TRAVIS            (vomiting noises) Would you like some?      0    2     4\n",
       "4    MATT  So yeah. I'm super excited to have that, guys....     0    2     7"
      ]
     },
     "execution_count": 17,
     "metadata": {},
     "output_type": "execute_result"
    }
   ],
   "source": [
    "ts2_df.head()   #speaker name, spoken line, timestamp info"
   ]
  },
  {
   "cell_type": "code",
   "execution_count": 18,
   "id": "da6a4dfd",
   "metadata": {},
   "outputs": [
    {
     "data": {
      "text/plain": [
       "(1597, 5)"
      ]
     },
     "execution_count": 18,
     "metadata": {},
     "output_type": "execute_result"
    }
   ],
   "source": [
    "ts2_df.shape      #confirm all lines were reached in normalization"
   ]
  },
  {
   "cell_type": "code",
   "execution_count": 19,
   "id": "4512c19d",
   "metadata": {},
   "outputs": [],
   "source": [
    "#build list of normalized dataframes line by line episode by episode\n",
    "emplist = []\n",
    "def buildDF(feddict):         #feed dict created by GetFile function\n",
    "    for file in feddict:        #for each file in dict\n",
    "        info = json.loads(feddict[str(file)])     #load str of value from fed dict\n",
    "        base_df = json_normalize(info)            #first level normalize\n",
    "        lines_df = json_normalize(base_df['lines'])   #second level normalize\n",
    "        lines_long = pd.melt(lines_df)                #melt columns into rows\n",
    "        ts_df = json_normalize(lines_long['value'])   #third level normalize\n",
    "        ts_df['episode']=file                         # add column to final df populated w dict key\n",
    "        emplist.append(ts_df)"
   ]
  },
  {
   "cell_type": "code",
   "execution_count": 20,
   "id": "1f2626d6",
   "metadata": {},
   "outputs": [],
   "source": [
    "buildDF(crdict)     #feed dict into function"
   ]
  },
  {
   "cell_type": "code",
   "execution_count": 21,
   "id": "48b08c88",
   "metadata": {},
   "outputs": [
    {
     "data": {
      "text/plain": [
       "147"
      ]
     },
     "execution_count": 21,
     "metadata": {},
     "output_type": "execute_result"
    }
   ],
   "source": [
    "len(emplist)       #verify once more the correct number of items added to list"
   ]
  },
  {
   "cell_type": "code",
   "execution_count": 22,
   "id": "1514107c",
   "metadata": {},
   "outputs": [
    {
     "data": {
      "text/html": [
       "<div>\n",
       "<style scoped>\n",
       "    .dataframe tbody tr th:only-of-type {\n",
       "        vertical-align: middle;\n",
       "    }\n",
       "\n",
       "    .dataframe tbody tr th {\n",
       "        vertical-align: top;\n",
       "    }\n",
       "\n",
       "    .dataframe thead th {\n",
       "        text-align: right;\n",
       "    }\n",
       "</style>\n",
       "<table border=\"1\" class=\"dataframe\">\n",
       "  <thead>\n",
       "    <tr style=\"text-align: right;\">\n",
       "      <th></th>\n",
       "      <th>name</th>\n",
       "      <th>text</th>\n",
       "      <th>ts.h</th>\n",
       "      <th>ts.m</th>\n",
       "      <th>ts.s</th>\n",
       "      <th>episode</th>\n",
       "    </tr>\n",
       "  </thead>\n",
       "  <tbody>\n",
       "    <tr>\n",
       "      <th>0</th>\n",
       "      <td>MATT</td>\n",
       "      <td>We've got some cool stuff to talk about. First...</td>\n",
       "      <td>0</td>\n",
       "      <td>0</td>\n",
       "      <td>15</td>\n",
       "      <td>1</td>\n",
       "    </tr>\n",
       "    <tr>\n",
       "      <th>1</th>\n",
       "      <td>LAURA</td>\n",
       "      <td>As in nnnn.</td>\n",
       "      <td>0</td>\n",
       "      <td>1</td>\n",
       "      <td>21</td>\n",
       "      <td>1</td>\n",
       "    </tr>\n",
       "    <tr>\n",
       "      <th>2</th>\n",
       "      <td>MATT</td>\n",
       "      <td>Nnnn. But yeah, so they're going to be a long-...</td>\n",
       "      <td>0</td>\n",
       "      <td>1</td>\n",
       "      <td>24</td>\n",
       "      <td>1</td>\n",
       "    </tr>\n",
       "    <tr>\n",
       "      <th>3</th>\n",
       "      <td>TRAVIS</td>\n",
       "      <td>(vomiting noises) Would you like some?</td>\n",
       "      <td>0</td>\n",
       "      <td>2</td>\n",
       "      <td>4</td>\n",
       "      <td>1</td>\n",
       "    </tr>\n",
       "    <tr>\n",
       "      <th>4</th>\n",
       "      <td>MATT</td>\n",
       "      <td>So yeah. I'm super excited to have that, guys....</td>\n",
       "      <td>0</td>\n",
       "      <td>2</td>\n",
       "      <td>7</td>\n",
       "      <td>1</td>\n",
       "    </tr>\n",
       "    <tr>\n",
       "      <th>...</th>\n",
       "      <td>...</td>\n",
       "      <td>...</td>\n",
       "      <td>...</td>\n",
       "      <td>...</td>\n",
       "      <td>...</td>\n",
       "      <td>...</td>\n",
       "    </tr>\n",
       "    <tr>\n",
       "      <th>1592</th>\n",
       "      <td>MATT</td>\n",
       "      <td>I'm excited.</td>\n",
       "      <td>3</td>\n",
       "      <td>16</td>\n",
       "      <td>53</td>\n",
       "      <td>1</td>\n",
       "    </tr>\n",
       "    <tr>\n",
       "      <th>1593</th>\n",
       "      <td>SAM</td>\n",
       "      <td>Thanks, Yev.</td>\n",
       "      <td>3</td>\n",
       "      <td>16</td>\n",
       "      <td>54</td>\n",
       "      <td>1</td>\n",
       "    </tr>\n",
       "    <tr>\n",
       "      <th>1594</th>\n",
       "      <td>MATT</td>\n",
       "      <td>Guys, have a wonderful evening. We'll see you ...</td>\n",
       "      <td>3</td>\n",
       "      <td>16</td>\n",
       "      <td>57</td>\n",
       "      <td>1</td>\n",
       "    </tr>\n",
       "    <tr>\n",
       "      <th>1595</th>\n",
       "      <td>ASHLEY</td>\n",
       "      <td>Yeah, me too.</td>\n",
       "      <td>3</td>\n",
       "      <td>17</td>\n",
       "      <td>10</td>\n",
       "      <td>1</td>\n",
       "    </tr>\n",
       "    <tr>\n",
       "      <th>1596</th>\n",
       "      <td>MATT</td>\n",
       "      <td>Until then, have a wonderful night, sleep well...</td>\n",
       "      <td>3</td>\n",
       "      <td>17</td>\n",
       "      <td>12</td>\n",
       "      <td>1</td>\n",
       "    </tr>\n",
       "  </tbody>\n",
       "</table>\n",
       "<p>1597 rows × 6 columns</p>\n",
       "</div>"
      ],
      "text/plain": [
       "        name                                               text  ts.h ts.m  \\\n",
       "0       MATT  We've got some cool stuff to talk about. First...     0    0   \n",
       "1      LAURA                                       As in nnnn.      0    1   \n",
       "2       MATT  Nnnn. But yeah, so they're going to be a long-...     0    1   \n",
       "3     TRAVIS            (vomiting noises) Would you like some?      0    2   \n",
       "4       MATT  So yeah. I'm super excited to have that, guys....     0    2   \n",
       "...      ...                                                ...   ...  ...   \n",
       "1592    MATT                                      I'm excited.      3   16   \n",
       "1593     SAM                                      Thanks, Yev.      3   16   \n",
       "1594    MATT  Guys, have a wonderful evening. We'll see you ...     3   16   \n",
       "1595  ASHLEY                                     Yeah, me too.      3   17   \n",
       "1596    MATT  Until then, have a wonderful night, sleep well...     3   17   \n",
       "\n",
       "      ts.s episode  \n",
       "0       15       1  \n",
       "1       21       1  \n",
       "2       24       1  \n",
       "3        4       1  \n",
       "4        7       1  \n",
       "...    ...     ...  \n",
       "1592    53       1  \n",
       "1593    54       1  \n",
       "1594    57       1  \n",
       "1595    10       1  \n",
       "1596    12       1  \n",
       "\n",
       "[1597 rows x 6 columns]"
      ]
     },
     "execution_count": 22,
     "metadata": {},
     "output_type": "execute_result"
    }
   ],
   "source": [
    "emplist[0]        #verify index 0 (episode 1) matches up with what we've already seen before"
   ]
  },
  {
   "cell_type": "code",
   "execution_count": 23,
   "id": "aea7586e",
   "metadata": {},
   "outputs": [],
   "source": [
    "cr_df = pd.concat(emplist)   #concat our list of dataframes into one big one"
   ]
  },
  {
   "cell_type": "code",
   "execution_count": 24,
   "id": "26a81807",
   "metadata": {},
   "outputs": [
    {
     "data": {
      "text/html": [
       "<div>\n",
       "<style scoped>\n",
       "    .dataframe tbody tr th:only-of-type {\n",
       "        vertical-align: middle;\n",
       "    }\n",
       "\n",
       "    .dataframe tbody tr th {\n",
       "        vertical-align: top;\n",
       "    }\n",
       "\n",
       "    .dataframe thead th {\n",
       "        text-align: right;\n",
       "    }\n",
       "</style>\n",
       "<table border=\"1\" class=\"dataframe\">\n",
       "  <thead>\n",
       "    <tr style=\"text-align: right;\">\n",
       "      <th></th>\n",
       "      <th>name</th>\n",
       "      <th>text</th>\n",
       "      <th>ts.h</th>\n",
       "      <th>ts.m</th>\n",
       "      <th>ts.s</th>\n",
       "      <th>episode</th>\n",
       "    </tr>\n",
       "  </thead>\n",
       "  <tbody>\n",
       "    <tr>\n",
       "      <th>0</th>\n",
       "      <td>MATT</td>\n",
       "      <td>We've got some cool stuff to talk about. First...</td>\n",
       "      <td>0</td>\n",
       "      <td>0</td>\n",
       "      <td>15</td>\n",
       "      <td>1</td>\n",
       "    </tr>\n",
       "    <tr>\n",
       "      <th>1</th>\n",
       "      <td>LAURA</td>\n",
       "      <td>As in nnnn.</td>\n",
       "      <td>0</td>\n",
       "      <td>1</td>\n",
       "      <td>21</td>\n",
       "      <td>1</td>\n",
       "    </tr>\n",
       "    <tr>\n",
       "      <th>2</th>\n",
       "      <td>MATT</td>\n",
       "      <td>Nnnn. But yeah, so they're going to be a long-...</td>\n",
       "      <td>0</td>\n",
       "      <td>1</td>\n",
       "      <td>24</td>\n",
       "      <td>1</td>\n",
       "    </tr>\n",
       "    <tr>\n",
       "      <th>3</th>\n",
       "      <td>TRAVIS</td>\n",
       "      <td>(vomiting noises) Would you like some?</td>\n",
       "      <td>0</td>\n",
       "      <td>2</td>\n",
       "      <td>4</td>\n",
       "      <td>1</td>\n",
       "    </tr>\n",
       "    <tr>\n",
       "      <th>4</th>\n",
       "      <td>MATT</td>\n",
       "      <td>So yeah. I'm super excited to have that, guys....</td>\n",
       "      <td>0</td>\n",
       "      <td>2</td>\n",
       "      <td>7</td>\n",
       "      <td>1</td>\n",
       "    </tr>\n",
       "  </tbody>\n",
       "</table>\n",
       "</div>"
      ],
      "text/plain": [
       "     name                                               text  ts.h ts.m  ts.s  \\\n",
       "0    MATT  We've got some cool stuff to talk about. First...     0    0    15   \n",
       "1   LAURA                                       As in nnnn.      0    1    21   \n",
       "2    MATT  Nnnn. But yeah, so they're going to be a long-...     0    1    24   \n",
       "3  TRAVIS            (vomiting noises) Would you like some?      0    2     4   \n",
       "4    MATT  So yeah. I'm super excited to have that, guys....     0    2     7   \n",
       "\n",
       "  episode  \n",
       "0       1  \n",
       "1       1  \n",
       "2       1  \n",
       "3       1  \n",
       "4       1  "
      ]
     },
     "execution_count": 24,
     "metadata": {},
     "output_type": "execute_result"
    }
   ],
   "source": [
    "cr_df.head()     #starts with episode 1 like we expect"
   ]
  },
  {
   "cell_type": "code",
   "execution_count": 25,
   "id": "a25c19e1",
   "metadata": {},
   "outputs": [
    {
     "data": {
      "text/html": [
       "<div>\n",
       "<style scoped>\n",
       "    .dataframe tbody tr th:only-of-type {\n",
       "        vertical-align: middle;\n",
       "    }\n",
       "\n",
       "    .dataframe tbody tr th {\n",
       "        vertical-align: top;\n",
       "    }\n",
       "\n",
       "    .dataframe thead th {\n",
       "        text-align: right;\n",
       "    }\n",
       "</style>\n",
       "<table border=\"1\" class=\"dataframe\">\n",
       "  <thead>\n",
       "    <tr style=\"text-align: right;\">\n",
       "      <th></th>\n",
       "      <th>name</th>\n",
       "      <th>text</th>\n",
       "      <th>ts.h</th>\n",
       "      <th>ts.m</th>\n",
       "      <th>ts.s</th>\n",
       "      <th>episode</th>\n",
       "    </tr>\n",
       "  </thead>\n",
       "  <tbody>\n",
       "    <tr>\n",
       "      <th>2722</th>\n",
       "      <td>MATT</td>\n",
       "      <td>We're going to get through this together, guys.</td>\n",
       "      <td>3</td>\n",
       "      <td>47</td>\n",
       "      <td>47</td>\n",
       "      <td>99</td>\n",
       "    </tr>\n",
       "    <tr>\n",
       "      <th>2723</th>\n",
       "      <td>SAM</td>\n",
       "      <td>Wash your stubbly face.</td>\n",
       "      <td>3</td>\n",
       "      <td>47</td>\n",
       "      <td>49</td>\n",
       "      <td>99</td>\n",
       "    </tr>\n",
       "    <tr>\n",
       "      <th>2724</th>\n",
       "      <td>TRAVIS</td>\n",
       "      <td>Gross.</td>\n",
       "      <td>3</td>\n",
       "      <td>47</td>\n",
       "      <td>51</td>\n",
       "      <td>99</td>\n",
       "    </tr>\n",
       "    <tr>\n",
       "      <th>2725</th>\n",
       "      <td>MATT</td>\n",
       "      <td>(cheering)</td>\n",
       "      <td>3</td>\n",
       "      <td>47</td>\n",
       "      <td>52</td>\n",
       "      <td>99</td>\n",
       "    </tr>\n",
       "    <tr>\n",
       "      <th>2726</th>\n",
       "      <td>TRAVIS</td>\n",
       "      <td>(dramatic orchestral music)</td>\n",
       "      <td>3</td>\n",
       "      <td>47</td>\n",
       "      <td>57</td>\n",
       "      <td>99</td>\n",
       "    </tr>\n",
       "  </tbody>\n",
       "</table>\n",
       "</div>"
      ],
      "text/plain": [
       "        name                                              text  ts.h ts.m  \\\n",
       "2722    MATT  We're going to get through this together, guys.      3   47   \n",
       "2723     SAM                          Wash your stubbly face.      3   47   \n",
       "2724  TRAVIS                                           Gross.      3   47   \n",
       "2725    MATT                                       (cheering)      3   47   \n",
       "2726  TRAVIS                      (dramatic orchestral music)      3   47   \n",
       "\n",
       "      ts.s episode  \n",
       "2722    47      99  \n",
       "2723    49      99  \n",
       "2724    51      99  \n",
       "2725    52      99  \n",
       "2726    57      99  "
      ]
     },
     "execution_count": 25,
     "metadata": {},
     "output_type": "execute_result"
    }
   ],
   "source": [
    "cr_df.tail()      #and ends with episode 99 which is also correct!"
   ]
  },
  {
   "cell_type": "code",
   "execution_count": 26,
   "id": "13e058c0",
   "metadata": {},
   "outputs": [
    {
     "data": {
      "text/plain": [
       "(434052, 6)"
      ]
     },
     "execution_count": 26,
     "metadata": {},
     "output_type": "execute_result"
    }
   ],
   "source": [
    "cr_df.shape     #that's a lot of lines"
   ]
  },
  {
   "cell_type": "code",
   "execution_count": 27,
   "id": "f86c7e74",
   "metadata": {},
   "outputs": [],
   "source": [
    "#there was some metadata in the initial unpacking I wanted. one of those was ep number, I also want title\n",
    "metalist = []\n",
    "for x in crdict:           \n",
    "    fullcols = json.loads(crdict[str(x)])      \n",
    "    newdf = json_normalize(fullcols)\n",
    "    metalist.append(newdf)"
   ]
  },
  {
   "cell_type": "code",
   "execution_count": 28,
   "id": "78e44aed",
   "metadata": {},
   "outputs": [],
   "source": [
    "meta_df = pd.concat(metalist)"
   ]
  },
  {
   "cell_type": "code",
   "execution_count": 29,
   "id": "3dcc1172",
   "metadata": {},
   "outputs": [
    {
     "data": {
      "text/html": [
       "<div>\n",
       "<style scoped>\n",
       "    .dataframe tbody tr th:only-of-type {\n",
       "        vertical-align: middle;\n",
       "    }\n",
       "\n",
       "    .dataframe tbody tr th {\n",
       "        vertical-align: top;\n",
       "    }\n",
       "\n",
       "    .dataframe thead th {\n",
       "        text-align: right;\n",
       "    }\n",
       "</style>\n",
       "<table border=\"1\" class=\"dataframe\">\n",
       "  <thead>\n",
       "    <tr style=\"text-align: right;\">\n",
       "      <th></th>\n",
       "      <th>lines</th>\n",
       "      <th>metadata.campaign</th>\n",
       "      <th>episode</th>\n",
       "      <th>title</th>\n",
       "      <th>metadata.html_file</th>\n",
       "    </tr>\n",
       "  </thead>\n",
       "  <tbody>\n",
       "    <tr>\n",
       "      <th>0</th>\n",
       "      <td>[{'name': 'MATT', 'ts': {'h': 0, 'm': '0', 's'...</td>\n",
       "      <td>2</td>\n",
       "      <td>1</td>\n",
       "      <td>Curious Beginnings</td>\n",
       "      <td>html\\cr2-1.html</td>\n",
       "    </tr>\n",
       "    <tr>\n",
       "      <th>0</th>\n",
       "      <td>[{'name': 'MATT', 'ts': {'h': 0, 'm': '0', 's'...</td>\n",
       "      <td>2</td>\n",
       "      <td>10</td>\n",
       "      <td>Waste and Webs</td>\n",
       "      <td>html\\cr2-10.html</td>\n",
       "    </tr>\n",
       "    <tr>\n",
       "      <th>0</th>\n",
       "      <td>[{'name': 'MATT', 'ts': {'h': 0, 'm': '0', 's'...</td>\n",
       "      <td>2</td>\n",
       "      <td>100</td>\n",
       "      <td>Hunted at Sea</td>\n",
       "      <td>html\\cr2-100.html</td>\n",
       "    </tr>\n",
       "    <tr>\n",
       "      <th>0</th>\n",
       "      <td>[{'name': 'MATT', 'ts': {'h': 0, 'm': '0', 's'...</td>\n",
       "      <td>2</td>\n",
       "      <td>101</td>\n",
       "      <td>Mysteries, Memories, and Music</td>\n",
       "      <td>html\\cr2-101.html</td>\n",
       "    </tr>\n",
       "    <tr>\n",
       "      <th>0</th>\n",
       "      <td>[{'name': 'MATT', 'ts': {'h': 0, 'm': '0', 's'...</td>\n",
       "      <td>2</td>\n",
       "      <td>102</td>\n",
       "      <td>Ghosts, Dinosaurs, and Stuff</td>\n",
       "      <td>html\\cr2-102.html</td>\n",
       "    </tr>\n",
       "  </tbody>\n",
       "</table>\n",
       "</div>"
      ],
      "text/plain": [
       "                                               lines metadata.campaign  \\\n",
       "0  [{'name': 'MATT', 'ts': {'h': 0, 'm': '0', 's'...                 2   \n",
       "0  [{'name': 'MATT', 'ts': {'h': 0, 'm': '0', 's'...                 2   \n",
       "0  [{'name': 'MATT', 'ts': {'h': 0, 'm': '0', 's'...                 2   \n",
       "0  [{'name': 'MATT', 'ts': {'h': 0, 'm': '0', 's'...                 2   \n",
       "0  [{'name': 'MATT', 'ts': {'h': 0, 'm': '0', 's'...                 2   \n",
       "\n",
       "  episode                           title metadata.html_file  \n",
       "0       1             Curious Beginnings     html\\cr2-1.html  \n",
       "0      10                  Waste and Webs   html\\cr2-10.html  \n",
       "0     100                   Hunted at Sea  html\\cr2-100.html  \n",
       "0     101  Mysteries, Memories, and Music  html\\cr2-101.html  \n",
       "0     102    Ghosts, Dinosaurs, and Stuff  html\\cr2-102.html  "
      ]
     },
     "execution_count": 29,
     "metadata": {},
     "output_type": "execute_result"
    }
   ],
   "source": [
    "meta_df.rename(columns={'metadata.episode':'episode', 'metadata.title':'title'}, inplace=True)\n",
    "meta_df.head()"
   ]
  },
  {
   "cell_type": "markdown",
   "id": "bf48fdd4",
   "metadata": {},
   "source": [
    "I'm okay to lose the campaign column since i'm only looking at campaign 2 for this project, it would be kind of pointless to include. I'm also not worried about keeping the html file name since it is the same as the episode column, it won't come into play for my analysis. "
   ]
  },
  {
   "cell_type": "code",
   "execution_count": 30,
   "id": "69a36f3b",
   "metadata": {},
   "outputs": [
    {
     "data": {
      "text/html": [
       "<div>\n",
       "<style scoped>\n",
       "    .dataframe tbody tr th:only-of-type {\n",
       "        vertical-align: middle;\n",
       "    }\n",
       "\n",
       "    .dataframe tbody tr th {\n",
       "        vertical-align: top;\n",
       "    }\n",
       "\n",
       "    .dataframe thead th {\n",
       "        text-align: right;\n",
       "    }\n",
       "</style>\n",
       "<table border=\"1\" class=\"dataframe\">\n",
       "  <thead>\n",
       "    <tr style=\"text-align: right;\">\n",
       "      <th></th>\n",
       "      <th>episode</th>\n",
       "      <th>title</th>\n",
       "    </tr>\n",
       "  </thead>\n",
       "  <tbody>\n",
       "    <tr>\n",
       "      <th>0</th>\n",
       "      <td>1</td>\n",
       "      <td>Curious Beginnings</td>\n",
       "    </tr>\n",
       "    <tr>\n",
       "      <th>0</th>\n",
       "      <td>10</td>\n",
       "      <td>Waste and Webs</td>\n",
       "    </tr>\n",
       "    <tr>\n",
       "      <th>0</th>\n",
       "      <td>100</td>\n",
       "      <td>Hunted at Sea</td>\n",
       "    </tr>\n",
       "    <tr>\n",
       "      <th>0</th>\n",
       "      <td>101</td>\n",
       "      <td>Mysteries, Memories, and Music</td>\n",
       "    </tr>\n",
       "    <tr>\n",
       "      <th>0</th>\n",
       "      <td>102</td>\n",
       "      <td>Ghosts, Dinosaurs, and Stuff</td>\n",
       "    </tr>\n",
       "  </tbody>\n",
       "</table>\n",
       "</div>"
      ],
      "text/plain": [
       "  episode                           title\n",
       "0       1             Curious Beginnings \n",
       "0      10                  Waste and Webs\n",
       "0     100                   Hunted at Sea\n",
       "0     101  Mysteries, Memories, and Music\n",
       "0     102    Ghosts, Dinosaurs, and Stuff"
      ]
     },
     "execution_count": 30,
     "metadata": {},
     "output_type": "execute_result"
    }
   ],
   "source": [
    "meta_df = meta_df.iloc[:, 2:4]\n",
    "meta_df.head()"
   ]
  },
  {
   "cell_type": "markdown",
   "id": "6d4c504d",
   "metadata": {},
   "source": [
    "This was a decent start, but I ended up going back and amending my buildDF function to add the episode number column into the df as it was built instead, and this worked a lot better in general. I'm keeping this here though, to preserve that this was my thinking process at first. \n",
    "\n",
    "I ultimately decided the episode titles themselves were not entirely necessary (similar to the campaign number column). The episode number is more than enough to utilize when considering per episode stats."
   ]
  },
  {
   "cell_type": "code",
   "execution_count": 31,
   "id": "53704896",
   "metadata": {},
   "outputs": [],
   "source": [
    "import pickle"
   ]
  },
  {
   "cell_type": "code",
   "execution_count": 32,
   "id": "4ddb6048",
   "metadata": {},
   "outputs": [
    {
     "data": {
      "text/html": [
       "<div>\n",
       "<style scoped>\n",
       "    .dataframe tbody tr th:only-of-type {\n",
       "        vertical-align: middle;\n",
       "    }\n",
       "\n",
       "    .dataframe tbody tr th {\n",
       "        vertical-align: top;\n",
       "    }\n",
       "\n",
       "    .dataframe thead th {\n",
       "        text-align: right;\n",
       "    }\n",
       "</style>\n",
       "<table border=\"1\" class=\"dataframe\">\n",
       "  <thead>\n",
       "    <tr style=\"text-align: right;\">\n",
       "      <th></th>\n",
       "      <th>name</th>\n",
       "      <th>text</th>\n",
       "      <th>ts.h</th>\n",
       "      <th>ts.m</th>\n",
       "      <th>ts.s</th>\n",
       "      <th>episode</th>\n",
       "    </tr>\n",
       "  </thead>\n",
       "  <tbody>\n",
       "    <tr>\n",
       "      <th>0</th>\n",
       "      <td>MATT</td>\n",
       "      <td>We've got some cool stuff to talk about. First...</td>\n",
       "      <td>0</td>\n",
       "      <td>0</td>\n",
       "      <td>15</td>\n",
       "      <td>1</td>\n",
       "    </tr>\n",
       "    <tr>\n",
       "      <th>1</th>\n",
       "      <td>LAURA</td>\n",
       "      <td>As in nnnn.</td>\n",
       "      <td>0</td>\n",
       "      <td>1</td>\n",
       "      <td>21</td>\n",
       "      <td>1</td>\n",
       "    </tr>\n",
       "    <tr>\n",
       "      <th>2</th>\n",
       "      <td>MATT</td>\n",
       "      <td>Nnnn. But yeah, so they're going to be a long-...</td>\n",
       "      <td>0</td>\n",
       "      <td>1</td>\n",
       "      <td>24</td>\n",
       "      <td>1</td>\n",
       "    </tr>\n",
       "    <tr>\n",
       "      <th>3</th>\n",
       "      <td>TRAVIS</td>\n",
       "      <td>(vomiting noises) Would you like some?</td>\n",
       "      <td>0</td>\n",
       "      <td>2</td>\n",
       "      <td>4</td>\n",
       "      <td>1</td>\n",
       "    </tr>\n",
       "    <tr>\n",
       "      <th>4</th>\n",
       "      <td>MATT</td>\n",
       "      <td>So yeah. I'm super excited to have that, guys....</td>\n",
       "      <td>0</td>\n",
       "      <td>2</td>\n",
       "      <td>7</td>\n",
       "      <td>1</td>\n",
       "    </tr>\n",
       "  </tbody>\n",
       "</table>\n",
       "</div>"
      ],
      "text/plain": [
       "     name                                               text  ts.h ts.m  ts.s  \\\n",
       "0    MATT  We've got some cool stuff to talk about. First...     0    0    15   \n",
       "1   LAURA                                       As in nnnn.      0    1    21   \n",
       "2    MATT  Nnnn. But yeah, so they're going to be a long-...     0    1    24   \n",
       "3  TRAVIS            (vomiting noises) Would you like some?      0    2     4   \n",
       "4    MATT  So yeah. I'm super excited to have that, guys....     0    2     7   \n",
       "\n",
       "  episode  \n",
       "0       1  \n",
       "1       1  \n",
       "2       1  \n",
       "3       1  \n",
       "4       1  "
      ]
     },
     "execution_count": 32,
     "metadata": {},
     "output_type": "execute_result"
    }
   ],
   "source": [
    "cr_df.head()"
   ]
  },
  {
   "cell_type": "code",
   "execution_count": 33,
   "id": "82c478ec",
   "metadata": {},
   "outputs": [
    {
     "data": {
      "text/html": [
       "<div>\n",
       "<style scoped>\n",
       "    .dataframe tbody tr th:only-of-type {\n",
       "        vertical-align: middle;\n",
       "    }\n",
       "\n",
       "    .dataframe tbody tr th {\n",
       "        vertical-align: top;\n",
       "    }\n",
       "\n",
       "    .dataframe thead th {\n",
       "        text-align: right;\n",
       "    }\n",
       "</style>\n",
       "<table border=\"1\" class=\"dataframe\">\n",
       "  <thead>\n",
       "    <tr style=\"text-align: right;\">\n",
       "      <th></th>\n",
       "      <th>name</th>\n",
       "      <th>text</th>\n",
       "      <th>ts.h</th>\n",
       "      <th>ts.m</th>\n",
       "      <th>ts.s</th>\n",
       "      <th>episode</th>\n",
       "    </tr>\n",
       "  </thead>\n",
       "  <tbody>\n",
       "    <tr>\n",
       "      <th>2722</th>\n",
       "      <td>MATT</td>\n",
       "      <td>We're going to get through this together, guys.</td>\n",
       "      <td>3</td>\n",
       "      <td>47</td>\n",
       "      <td>47</td>\n",
       "      <td>99</td>\n",
       "    </tr>\n",
       "    <tr>\n",
       "      <th>2723</th>\n",
       "      <td>SAM</td>\n",
       "      <td>Wash your stubbly face.</td>\n",
       "      <td>3</td>\n",
       "      <td>47</td>\n",
       "      <td>49</td>\n",
       "      <td>99</td>\n",
       "    </tr>\n",
       "    <tr>\n",
       "      <th>2724</th>\n",
       "      <td>TRAVIS</td>\n",
       "      <td>Gross.</td>\n",
       "      <td>3</td>\n",
       "      <td>47</td>\n",
       "      <td>51</td>\n",
       "      <td>99</td>\n",
       "    </tr>\n",
       "    <tr>\n",
       "      <th>2725</th>\n",
       "      <td>MATT</td>\n",
       "      <td>(cheering)</td>\n",
       "      <td>3</td>\n",
       "      <td>47</td>\n",
       "      <td>52</td>\n",
       "      <td>99</td>\n",
       "    </tr>\n",
       "    <tr>\n",
       "      <th>2726</th>\n",
       "      <td>TRAVIS</td>\n",
       "      <td>(dramatic orchestral music)</td>\n",
       "      <td>3</td>\n",
       "      <td>47</td>\n",
       "      <td>57</td>\n",
       "      <td>99</td>\n",
       "    </tr>\n",
       "  </tbody>\n",
       "</table>\n",
       "</div>"
      ],
      "text/plain": [
       "        name                                              text  ts.h ts.m  \\\n",
       "2722    MATT  We're going to get through this together, guys.      3   47   \n",
       "2723     SAM                          Wash your stubbly face.      3   47   \n",
       "2724  TRAVIS                                           Gross.      3   47   \n",
       "2725    MATT                                       (cheering)      3   47   \n",
       "2726  TRAVIS                      (dramatic orchestral music)      3   47   \n",
       "\n",
       "      ts.s episode  \n",
       "2722    47      99  \n",
       "2723    49      99  \n",
       "2724    51      99  \n",
       "2725    52      99  \n",
       "2726    57      99  "
      ]
     },
     "execution_count": 33,
     "metadata": {},
     "output_type": "execute_result"
    }
   ],
   "source": [
    "cr_df.tail()"
   ]
  },
  {
   "cell_type": "markdown",
   "id": "fe702fc9",
   "metadata": {},
   "source": [
    "and we have episode numbers! This is the data for Critical Role as I intend to work with it.\n",
    "\n",
    "Now to pickle it, keep it stored in this state, and have it ready to get to work."
   ]
  },
  {
   "cell_type": "code",
   "execution_count": 34,
   "id": "f296e1cc",
   "metadata": {},
   "outputs": [],
   "source": [
    "import pickle"
   ]
  },
  {
   "cell_type": "code",
   "execution_count": 35,
   "id": "e48ca5fe",
   "metadata": {},
   "outputs": [],
   "source": [
    "#cr_df.to_pickle('pickle_jar/CritRole.pkl')"
   ]
  },
  {
   "cell_type": "code",
   "execution_count": null,
   "id": "d4d7cace",
   "metadata": {},
   "outputs": [],
   "source": []
  }
 ],
 "metadata": {
  "kernelspec": {
   "display_name": "DataSci",
   "language": "python",
   "name": "datasci"
  },
  "language_info": {
   "codemirror_mode": {
    "name": "ipython",
    "version": 3
   },
   "file_extension": ".py",
   "mimetype": "text/x-python",
   "name": "python",
   "nbconvert_exporter": "python",
   "pygments_lexer": "ipython3",
   "version": "3.11.4"
  }
 },
 "nbformat": 4,
 "nbformat_minor": 5
}
