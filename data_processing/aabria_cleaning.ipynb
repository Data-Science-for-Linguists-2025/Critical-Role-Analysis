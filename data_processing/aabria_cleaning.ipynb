{
 "cells": [
  {
   "cell_type": "code",
   "execution_count": 1,
   "id": "997d1fb3",
   "metadata": {},
   "outputs": [],
   "source": [
    "import pickle\n",
    "import pandas as pd\n",
    "import re"
   ]
  },
  {
   "cell_type": "markdown",
   "id": "fa133da6",
   "metadata": {},
   "source": [
    "### Cleaning the EXU data\n",
    "\n",
    "A Critical Role mini-series hosted by Aabria"
   ]
  },
  {
   "cell_type": "code",
   "execution_count": 2,
   "id": "7c82de1e",
   "metadata": {},
   "outputs": [
    {
     "data": {
      "text/html": [
       "<div>\n",
       "<style scoped>\n",
       "    .dataframe tbody tr th:only-of-type {\n",
       "        vertical-align: middle;\n",
       "    }\n",
       "\n",
       "    .dataframe tbody tr th {\n",
       "        vertical-align: top;\n",
       "    }\n",
       "\n",
       "    .dataframe thead th {\n",
       "        text-align: right;\n",
       "    }\n",
       "</style>\n",
       "<table border=\"1\" class=\"dataframe\">\n",
       "  <thead>\n",
       "    <tr style=\"text-align: right;\">\n",
       "      <th></th>\n",
       "      <th>name</th>\n",
       "      <th>text</th>\n",
       "      <th>ts.h</th>\n",
       "      <th>ts.m</th>\n",
       "      <th>ts.s</th>\n",
       "      <th>episode</th>\n",
       "      <th>title</th>\n",
       "    </tr>\n",
       "  </thead>\n",
       "  <tbody>\n",
       "    <tr>\n",
       "      <th>0</th>\n",
       "      <td>AABRIA</td>\n",
       "      <td>Let's start with Robbie.</td>\n",
       "      <td>0</td>\n",
       "      <td>0</td>\n",
       "      <td>0</td>\n",
       "      <td>1</td>\n",
       "      <td>The Nameless Ones</td>\n",
       "    </tr>\n",
       "    <tr>\n",
       "      <th>1</th>\n",
       "      <td>ROBBIE</td>\n",
       "      <td>I'm so excited!</td>\n",
       "      <td>0</td>\n",
       "      <td>0</td>\n",
       "      <td>18</td>\n",
       "      <td>1</td>\n",
       "      <td>The Nameless Ones</td>\n",
       "    </tr>\n",
       "    <tr>\n",
       "      <th>2</th>\n",
       "      <td>AABRIA</td>\n",
       "      <td>Yeah!</td>\n",
       "      <td>0</td>\n",
       "      <td>0</td>\n",
       "      <td>24</td>\n",
       "      <td>1</td>\n",
       "      <td>The Nameless Ones</td>\n",
       "    </tr>\n",
       "    <tr>\n",
       "      <th>3</th>\n",
       "      <td>ROBBIE</td>\n",
       "      <td>Whew!</td>\n",
       "      <td>0</td>\n",
       "      <td>0</td>\n",
       "      <td>26</td>\n",
       "      <td>1</td>\n",
       "      <td>The Nameless Ones</td>\n",
       "    </tr>\n",
       "    <tr>\n",
       "      <th>4</th>\n",
       "      <td>AABRIA</td>\n",
       "      <td>Liam!</td>\n",
       "      <td>0</td>\n",
       "      <td>0</td>\n",
       "      <td>26</td>\n",
       "      <td>1</td>\n",
       "      <td>The Nameless Ones</td>\n",
       "    </tr>\n",
       "  </tbody>\n",
       "</table>\n",
       "</div>"
      ],
      "text/plain": [
       "     name                       text  ts.h ts.m  ts.s episode  \\\n",
       "0  AABRIA  Let's start with Robbie.      0    0     0       1   \n",
       "1  ROBBIE           I'm so excited!      0    0    18       1   \n",
       "2  AABRIA                     Yeah!      0    0    24       1   \n",
       "3  ROBBIE                     Whew!      0    0    26       1   \n",
       "4  AABRIA                     Liam!      0    0    26       1   \n",
       "\n",
       "               title  \n",
       "0  The Nameless Ones  \n",
       "1  The Nameless Ones  \n",
       "2  The Nameless Ones  \n",
       "3  The Nameless Ones  \n",
       "4  The Nameless Ones  "
      ]
     },
     "execution_count": 2,
     "metadata": {},
     "output_type": "execute_result"
    }
   ],
   "source": [
    "exu_df = pd.read_pickle('../pickle_jar/exu.pkl')\n",
    "exu_df.head()"
   ]
  },
  {
   "cell_type": "code",
   "execution_count": 3,
   "id": "6f461f7f",
   "metadata": {},
   "outputs": [],
   "source": [
    "exu_df = exu_df.rename(columns={'ts.h': 'ts_h', 'ts.m': 'ts_m', 'ts.s': 'ts_s'})"
   ]
  },
  {
   "cell_type": "code",
   "execution_count": 4,
   "id": "3e9a6efe",
   "metadata": {},
   "outputs": [],
   "source": [
    "exu_df[\"ts_h\"] = exu_df[\"ts_h\"].astype(str)\n",
    "exu_df[\"ts_h\"] = exu_df[\"ts_h\"].str.zfill(2)\n",
    "exu_df[\"ts_m\"] = exu_df[\"ts_m\"].astype(str)\n",
    "exu_df[\"ts_m\"] = exu_df[\"ts_m\"].str.zfill(2)\n",
    "exu_df[\"ts_s\"] = exu_df[\"ts_s\"].astype(str)\n",
    "exu_df[\"ts_s\"] = exu_df[\"ts_s\"].str.zfill(2)"
   ]
  },
  {
   "cell_type": "code",
   "execution_count": 5,
   "id": "096c8694",
   "metadata": {},
   "outputs": [],
   "source": [
    "exu_df['timestamp'] = exu_df[['ts_h', 'ts_m', 'ts_s']].agg(':'.join, axis=1)"
   ]
  },
  {
   "cell_type": "code",
   "execution_count": 6,
   "id": "aad38240",
   "metadata": {},
   "outputs": [
    {
     "data": {
      "text/html": [
       "<div>\n",
       "<style scoped>\n",
       "    .dataframe tbody tr th:only-of-type {\n",
       "        vertical-align: middle;\n",
       "    }\n",
       "\n",
       "    .dataframe tbody tr th {\n",
       "        vertical-align: top;\n",
       "    }\n",
       "\n",
       "    .dataframe thead th {\n",
       "        text-align: right;\n",
       "    }\n",
       "</style>\n",
       "<table border=\"1\" class=\"dataframe\">\n",
       "  <thead>\n",
       "    <tr style=\"text-align: right;\">\n",
       "      <th></th>\n",
       "      <th>name</th>\n",
       "      <th>text</th>\n",
       "      <th>episode</th>\n",
       "      <th>timestamp</th>\n",
       "    </tr>\n",
       "  </thead>\n",
       "  <tbody>\n",
       "    <tr>\n",
       "      <th>0</th>\n",
       "      <td>AABRIA</td>\n",
       "      <td>Let's start with Robbie.</td>\n",
       "      <td>1</td>\n",
       "      <td>00:00:00</td>\n",
       "    </tr>\n",
       "    <tr>\n",
       "      <th>1</th>\n",
       "      <td>ROBBIE</td>\n",
       "      <td>I'm so excited!</td>\n",
       "      <td>1</td>\n",
       "      <td>00:00:18</td>\n",
       "    </tr>\n",
       "    <tr>\n",
       "      <th>2</th>\n",
       "      <td>AABRIA</td>\n",
       "      <td>Yeah!</td>\n",
       "      <td>1</td>\n",
       "      <td>00:00:24</td>\n",
       "    </tr>\n",
       "    <tr>\n",
       "      <th>3</th>\n",
       "      <td>ROBBIE</td>\n",
       "      <td>Whew!</td>\n",
       "      <td>1</td>\n",
       "      <td>00:00:26</td>\n",
       "    </tr>\n",
       "    <tr>\n",
       "      <th>4</th>\n",
       "      <td>AABRIA</td>\n",
       "      <td>Liam!</td>\n",
       "      <td>1</td>\n",
       "      <td>00:00:26</td>\n",
       "    </tr>\n",
       "  </tbody>\n",
       "</table>\n",
       "</div>"
      ],
      "text/plain": [
       "     name                       text episode timestamp\n",
       "0  AABRIA  Let's start with Robbie.        1  00:00:00\n",
       "1  ROBBIE           I'm so excited!        1  00:00:18\n",
       "2  AABRIA                     Yeah!        1  00:00:24\n",
       "3  ROBBIE                     Whew!        1  00:00:26\n",
       "4  AABRIA                     Liam!        1  00:00:26"
      ]
     },
     "execution_count": 6,
     "metadata": {},
     "output_type": "execute_result"
    }
   ],
   "source": [
    "exu_df = exu_df.drop(columns=['ts_h', 'ts_m', 'ts_s', 'title'])\n",
    "exu_df.head()"
   ]
  },
  {
   "cell_type": "markdown",
   "id": "84c6c1eb",
   "metadata": {},
   "source": [
    "Let's check if the EXU data has some of the same/familiar features that we saw while making cr_df. I'm going to be reusing as much of the regex from the cr_df processing as I possibly can."
   ]
  },
  {
   "cell_type": "code",
   "execution_count": 7,
   "id": "a69aee68",
   "metadata": {},
   "outputs": [
    {
     "data": {
      "text/html": [
       "<div>\n",
       "<style scoped>\n",
       "    .dataframe tbody tr th:only-of-type {\n",
       "        vertical-align: middle;\n",
       "    }\n",
       "\n",
       "    .dataframe tbody tr th {\n",
       "        vertical-align: top;\n",
       "    }\n",
       "\n",
       "    .dataframe thead th {\n",
       "        text-align: right;\n",
       "    }\n",
       "</style>\n",
       "<table border=\"1\" class=\"dataframe\">\n",
       "  <thead>\n",
       "    <tr style=\"text-align: right;\">\n",
       "      <th></th>\n",
       "      <th>name</th>\n",
       "      <th>text</th>\n",
       "      <th>episode</th>\n",
       "      <th>timestamp</th>\n",
       "    </tr>\n",
       "  </thead>\n",
       "  <tbody>\n",
       "    <tr>\n",
       "      <th>1353</th>\n",
       "      <td>AIMEE</td>\n",
       "      <td>Yeah. She's just like-- ♪ Let the sun shine ♪ ...</td>\n",
       "      <td>1</td>\n",
       "      <td>02:15:58</td>\n",
       "    </tr>\n",
       "    <tr>\n",
       "      <th>2304</th>\n",
       "      <td>AIMEE</td>\n",
       "      <td>♪ We got our minis, we got our minis ♪</td>\n",
       "      <td>1</td>\n",
       "      <td>03:11:18</td>\n",
       "    </tr>\n",
       "    <tr>\n",
       "      <th>2825</th>\n",
       "      <td>AABRIA</td>\n",
       "      <td>♪ Everybody! ♪</td>\n",
       "      <td>1</td>\n",
       "      <td>03:41:10</td>\n",
       "    </tr>\n",
       "    <tr>\n",
       "      <th>3112</th>\n",
       "      <td>LIAM</td>\n",
       "      <td>It's (exhales) I thought the words, \"It's been...</td>\n",
       "      <td>1</td>\n",
       "      <td>03:57:38</td>\n",
       "    </tr>\n",
       "    <tr>\n",
       "      <th>3113</th>\n",
       "      <td>ALL</td>\n",
       "      <td>♪ It's been a while! ♪ (laughter)</td>\n",
       "      <td>1</td>\n",
       "      <td>03:57:46</td>\n",
       "    </tr>\n",
       "    <tr>\n",
       "      <th>...</th>\n",
       "      <td>...</td>\n",
       "      <td>...</td>\n",
       "      <td>...</td>\n",
       "      <td>...</td>\n",
       "    </tr>\n",
       "    <tr>\n",
       "      <th>22079</th>\n",
       "      <td>ROBBIE</td>\n",
       "      <td>♪ Ooh, come on ♪ ♪ Come on, Bless ♪ ♪ Please d...</td>\n",
       "      <td>8</td>\n",
       "      <td>01:18:24</td>\n",
       "    </tr>\n",
       "    <tr>\n",
       "      <th>22356</th>\n",
       "      <td>MATT</td>\n",
       "      <td>♪ I feel your pain ♪</td>\n",
       "      <td>8</td>\n",
       "      <td>01:37:06</td>\n",
       "    </tr>\n",
       "    <tr>\n",
       "      <th>22818</th>\n",
       "      <td>MATT</td>\n",
       "      <td>♪ I'm a liability ♪</td>\n",
       "      <td>8</td>\n",
       "      <td>02:27:40</td>\n",
       "    </tr>\n",
       "    <tr>\n",
       "      <th>22856</th>\n",
       "      <td>ASHLEY</td>\n",
       "      <td>♪ Private Eyes ♪</td>\n",
       "      <td>8</td>\n",
       "      <td>02:30:49</td>\n",
       "    </tr>\n",
       "    <tr>\n",
       "      <th>23184</th>\n",
       "      <td>LIAM</td>\n",
       "      <td>♪ It's been a while ♪ I think I have some.</td>\n",
       "      <td>8</td>\n",
       "      <td>02:58:28</td>\n",
       "    </tr>\n",
       "  </tbody>\n",
       "</table>\n",
       "<p>70 rows × 4 columns</p>\n",
       "</div>"
      ],
      "text/plain": [
       "         name                                               text episode  \\\n",
       "1353    AIMEE  Yeah. She's just like-- ♪ Let the sun shine ♪ ...       1   \n",
       "2304    AIMEE            ♪ We got our minis, we got our minis ♪        1   \n",
       "2825   AABRIA                                    ♪ Everybody! ♪        1   \n",
       "3112     LIAM  It's (exhales) I thought the words, \"It's been...       1   \n",
       "3113      ALL                 ♪ It's been a while! ♪ (laughter)        1   \n",
       "...       ...                                                ...     ...   \n",
       "22079  ROBBIE  ♪ Ooh, come on ♪ ♪ Come on, Bless ♪ ♪ Please d...       8   \n",
       "22356    MATT                              ♪ I feel your pain ♪        8   \n",
       "22818    MATT                               ♪ I'm a liability ♪        8   \n",
       "22856  ASHLEY                                  ♪ Private Eyes ♪        8   \n",
       "23184    LIAM        ♪ It's been a while ♪ I think I have some.        8   \n",
       "\n",
       "      timestamp  \n",
       "1353   02:15:58  \n",
       "2304   03:11:18  \n",
       "2825   03:41:10  \n",
       "3112   03:57:38  \n",
       "3113   03:57:46  \n",
       "...         ...  \n",
       "22079  01:18:24  \n",
       "22356  01:37:06  \n",
       "22818  02:27:40  \n",
       "22856  02:30:49  \n",
       "23184  02:58:28  \n",
       "\n",
       "[70 rows x 4 columns]"
      ]
     },
     "execution_count": 7,
     "metadata": {},
     "output_type": "execute_result"
    }
   ],
   "source": [
    "exu_df[exu_df['text'].str.contains(r'♪')]"
   ]
  },
  {
   "cell_type": "code",
   "execution_count": 8,
   "id": "a4c3a667",
   "metadata": {},
   "outputs": [
    {
     "data": {
      "text/plain": [
       "\" It's been a while  I think I have some. \""
      ]
     },
     "execution_count": 8,
     "metadata": {},
     "output_type": "execute_result"
    }
   ],
   "source": [
    "exu_df['text'] = exu_df['text'].str.replace(r'♪', r'', regex=True).astype('str')\n",
    "exu_df.text[23184]"
   ]
  },
  {
   "cell_type": "code",
   "execution_count": 9,
   "id": "1706a689",
   "metadata": {},
   "outputs": [
    {
     "data": {
      "text/html": [
       "<div>\n",
       "<style scoped>\n",
       "    .dataframe tbody tr th:only-of-type {\n",
       "        vertical-align: middle;\n",
       "    }\n",
       "\n",
       "    .dataframe tbody tr th {\n",
       "        vertical-align: top;\n",
       "    }\n",
       "\n",
       "    .dataframe thead th {\n",
       "        text-align: right;\n",
       "    }\n",
       "</style>\n",
       "<table border=\"1\" class=\"dataframe\">\n",
       "  <thead>\n",
       "    <tr style=\"text-align: right;\">\n",
       "      <th></th>\n",
       "      <th>name</th>\n",
       "      <th>text</th>\n",
       "      <th>episode</th>\n",
       "      <th>timestamp</th>\n",
       "    </tr>\n",
       "  </thead>\n",
       "  <tbody>\n",
       "    <tr>\n",
       "      <th>2876</th>\n",
       "      <td>AABRIA</td>\n",
       "      <td>I'm [inaudible] going to let you stick the lan...</td>\n",
       "      <td>1</td>\n",
       "      <td>03:43:43</td>\n",
       "    </tr>\n",
       "    <tr>\n",
       "      <th>4131</th>\n",
       "      <td>MATT</td>\n",
       "      <td>It's [inaudible] great, but it feels different...</td>\n",
       "      <td>2</td>\n",
       "      <td>00:59:29</td>\n",
       "    </tr>\n",
       "    <tr>\n",
       "      <th>16419</th>\n",
       "      <td>MATT</td>\n",
       "      <td>The [inaudible] is strong.</td>\n",
       "      <td>6</td>\n",
       "      <td>02:50:56</td>\n",
       "    </tr>\n",
       "    <tr>\n",
       "      <th>17060</th>\n",
       "      <td>LIAM</td>\n",
       "      <td>They would've come after me on my [inaudible].</td>\n",
       "      <td>6</td>\n",
       "      <td>03:35:24</td>\n",
       "    </tr>\n",
       "    <tr>\n",
       "      <th>18561</th>\n",
       "      <td>MATT</td>\n",
       "      <td>They go hard here in [inaudible], man!</td>\n",
       "      <td>7</td>\n",
       "      <td>01:07:56</td>\n",
       "    </tr>\n",
       "    <tr>\n",
       "      <th>19781</th>\n",
       "      <td>ASHLEY</td>\n",
       "      <td>[inaudible] d6 for this one.</td>\n",
       "      <td>7</td>\n",
       "      <td>02:54:43</td>\n",
       "    </tr>\n",
       "    <tr>\n",
       "      <th>20023</th>\n",
       "      <td>AABRIA</td>\n",
       "      <td>No, [inaudible] you were getting at YMCA.</td>\n",
       "      <td>7</td>\n",
       "      <td>03:08:29</td>\n",
       "    </tr>\n",
       "  </tbody>\n",
       "</table>\n",
       "</div>"
      ],
      "text/plain": [
       "         name                                               text episode  \\\n",
       "2876   AABRIA  I'm [inaudible] going to let you stick the lan...       1   \n",
       "4131     MATT  It's [inaudible] great, but it feels different...       2   \n",
       "16419    MATT                        The [inaudible] is strong.        6   \n",
       "17060    LIAM    They would've come after me on my [inaudible].        6   \n",
       "18561    MATT            They go hard here in [inaudible], man!        7   \n",
       "19781  ASHLEY                      [inaudible] d6 for this one.        7   \n",
       "20023  AABRIA         No, [inaudible] you were getting at YMCA.        7   \n",
       "\n",
       "      timestamp  \n",
       "2876   03:43:43  \n",
       "4131   00:59:29  \n",
       "16419  02:50:56  \n",
       "17060  03:35:24  \n",
       "18561  01:07:56  \n",
       "19781  02:54:43  \n",
       "20023  03:08:29  "
      ]
     },
     "execution_count": 9,
     "metadata": {},
     "output_type": "execute_result"
    }
   ],
   "source": [
    "exu_df[exu_df['text'].str.contains(r'.*\\[inaudible\\].*')]"
   ]
  },
  {
   "cell_type": "code",
   "execution_count": 10,
   "id": "d0b68e9f",
   "metadata": {},
   "outputs": [],
   "source": [
    "inaudible_df = pd.DataFrame(exu_df[exu_df['text'].str.contains(r'.*\\[inaudible\\].*')])"
   ]
  },
  {
   "cell_type": "code",
   "execution_count": 11,
   "id": "f41bbd4c",
   "metadata": {},
   "outputs": [
    {
     "data": {
      "text/html": [
       "<div>\n",
       "<style scoped>\n",
       "    .dataframe tbody tr th:only-of-type {\n",
       "        vertical-align: middle;\n",
       "    }\n",
       "\n",
       "    .dataframe tbody tr th {\n",
       "        vertical-align: top;\n",
       "    }\n",
       "\n",
       "    .dataframe thead th {\n",
       "        text-align: right;\n",
       "    }\n",
       "</style>\n",
       "<table border=\"1\" class=\"dataframe\">\n",
       "  <thead>\n",
       "    <tr style=\"text-align: right;\">\n",
       "      <th></th>\n",
       "      <th>name</th>\n",
       "      <th>text</th>\n",
       "      <th>episode</th>\n",
       "      <th>timestamp</th>\n",
       "    </tr>\n",
       "  </thead>\n",
       "  <tbody>\n",
       "    <tr>\n",
       "      <th>2876</th>\n",
       "      <td>AABRIA</td>\n",
       "      <td>[inaudible]</td>\n",
       "      <td>1</td>\n",
       "      <td>03:43:43</td>\n",
       "    </tr>\n",
       "    <tr>\n",
       "      <th>4131</th>\n",
       "      <td>MATT</td>\n",
       "      <td>[inaudible]</td>\n",
       "      <td>2</td>\n",
       "      <td>00:59:29</td>\n",
       "    </tr>\n",
       "    <tr>\n",
       "      <th>16419</th>\n",
       "      <td>MATT</td>\n",
       "      <td>[inaudible]</td>\n",
       "      <td>6</td>\n",
       "      <td>02:50:56</td>\n",
       "    </tr>\n",
       "    <tr>\n",
       "      <th>17060</th>\n",
       "      <td>LIAM</td>\n",
       "      <td>[inaudible]</td>\n",
       "      <td>6</td>\n",
       "      <td>03:35:24</td>\n",
       "    </tr>\n",
       "    <tr>\n",
       "      <th>18561</th>\n",
       "      <td>MATT</td>\n",
       "      <td>[inaudible]</td>\n",
       "      <td>7</td>\n",
       "      <td>01:07:56</td>\n",
       "    </tr>\n",
       "    <tr>\n",
       "      <th>19781</th>\n",
       "      <td>ASHLEY</td>\n",
       "      <td>[inaudible]</td>\n",
       "      <td>7</td>\n",
       "      <td>02:54:43</td>\n",
       "    </tr>\n",
       "    <tr>\n",
       "      <th>20023</th>\n",
       "      <td>AABRIA</td>\n",
       "      <td>[inaudible]</td>\n",
       "      <td>7</td>\n",
       "      <td>03:08:29</td>\n",
       "    </tr>\n",
       "  </tbody>\n",
       "</table>\n",
       "</div>"
      ],
      "text/plain": [
       "         name         text episode timestamp\n",
       "2876   AABRIA  [inaudible]       1  03:43:43\n",
       "4131     MATT  [inaudible]       2  00:59:29\n",
       "16419    MATT  [inaudible]       6  02:50:56\n",
       "17060    LIAM  [inaudible]       6  03:35:24\n",
       "18561    MATT  [inaudible]       7  01:07:56\n",
       "19781  ASHLEY  [inaudible]       7  02:54:43\n",
       "20023  AABRIA  [inaudible]       7  03:08:29"
      ]
     },
     "execution_count": 11,
     "metadata": {},
     "output_type": "execute_result"
    }
   ],
   "source": [
    "inaudible_df['text'] = inaudible_df['text'].str.replace(r'.*(\\[inaudible\\]).*', r'\\1', regex=True).astype('str')\n",
    "inaudible_df"
   ]
  },
  {
   "cell_type": "code",
   "execution_count": 12,
   "id": "8973b343",
   "metadata": {},
   "outputs": [],
   "source": [
    "inaudible = pd.Series(inaudible_df['text'])"
   ]
  },
  {
   "cell_type": "code",
   "execution_count": 13,
   "id": "98a43b4b",
   "metadata": {},
   "outputs": [],
   "source": [
    "exu_df['inaudible_speech'] = inaudible"
   ]
  },
  {
   "cell_type": "code",
   "execution_count": 14,
   "id": "54688e01",
   "metadata": {},
   "outputs": [
    {
     "data": {
      "text/html": [
       "<div>\n",
       "<style scoped>\n",
       "    .dataframe tbody tr th:only-of-type {\n",
       "        vertical-align: middle;\n",
       "    }\n",
       "\n",
       "    .dataframe tbody tr th {\n",
       "        vertical-align: top;\n",
       "    }\n",
       "\n",
       "    .dataframe thead th {\n",
       "        text-align: right;\n",
       "    }\n",
       "</style>\n",
       "<table border=\"1\" class=\"dataframe\">\n",
       "  <thead>\n",
       "    <tr style=\"text-align: right;\">\n",
       "      <th></th>\n",
       "      <th>name</th>\n",
       "      <th>text</th>\n",
       "      <th>episode</th>\n",
       "      <th>timestamp</th>\n",
       "      <th>inaudible_speech</th>\n",
       "    </tr>\n",
       "  </thead>\n",
       "  <tbody>\n",
       "    <tr>\n",
       "      <th>2876</th>\n",
       "      <td>AABRIA</td>\n",
       "      <td>I'm [inaudible] going to let you stick the lan...</td>\n",
       "      <td>1</td>\n",
       "      <td>03:43:43</td>\n",
       "      <td>[inaudible]</td>\n",
       "    </tr>\n",
       "    <tr>\n",
       "      <th>4131</th>\n",
       "      <td>MATT</td>\n",
       "      <td>It's [inaudible] great, but it feels different...</td>\n",
       "      <td>2</td>\n",
       "      <td>00:59:29</td>\n",
       "      <td>[inaudible]</td>\n",
       "    </tr>\n",
       "    <tr>\n",
       "      <th>10697</th>\n",
       "      <td>SAM</td>\n",
       "      <td>Crew, what do you think? [cheerful jazzy music]</td>\n",
       "      <td>4</td>\n",
       "      <td>02:00:22</td>\n",
       "      <td>NaN</td>\n",
       "    </tr>\n",
       "    <tr>\n",
       "      <th>10735</th>\n",
       "      <td>SAM</td>\n",
       "      <td>Until then, be sure to hit that subscribe butt...</td>\n",
       "      <td>4</td>\n",
       "      <td>02:04:03</td>\n",
       "      <td>NaN</td>\n",
       "    </tr>\n",
       "    <tr>\n",
       "      <th>16419</th>\n",
       "      <td>MATT</td>\n",
       "      <td>The [inaudible] is strong.</td>\n",
       "      <td>6</td>\n",
       "      <td>02:50:56</td>\n",
       "      <td>[inaudible]</td>\n",
       "    </tr>\n",
       "    <tr>\n",
       "      <th>17060</th>\n",
       "      <td>LIAM</td>\n",
       "      <td>They would've come after me on my [inaudible].</td>\n",
       "      <td>6</td>\n",
       "      <td>03:35:24</td>\n",
       "      <td>[inaudible]</td>\n",
       "    </tr>\n",
       "    <tr>\n",
       "      <th>18561</th>\n",
       "      <td>MATT</td>\n",
       "      <td>They go hard here in [inaudible], man!</td>\n",
       "      <td>7</td>\n",
       "      <td>01:07:56</td>\n",
       "      <td>[inaudible]</td>\n",
       "    </tr>\n",
       "    <tr>\n",
       "      <th>19781</th>\n",
       "      <td>ASHLEY</td>\n",
       "      <td>[inaudible] d6 for this one.</td>\n",
       "      <td>7</td>\n",
       "      <td>02:54:43</td>\n",
       "      <td>[inaudible]</td>\n",
       "    </tr>\n",
       "    <tr>\n",
       "      <th>19915</th>\n",
       "      <td>MATT</td>\n",
       "      <td>(Thurston impression) [Inaudible] impact.</td>\n",
       "      <td>7</td>\n",
       "      <td>03:02:23</td>\n",
       "      <td>NaN</td>\n",
       "    </tr>\n",
       "    <tr>\n",
       "      <th>20023</th>\n",
       "      <td>AABRIA</td>\n",
       "      <td>No, [inaudible] you were getting at YMCA.</td>\n",
       "      <td>7</td>\n",
       "      <td>03:08:29</td>\n",
       "      <td>[inaudible]</td>\n",
       "    </tr>\n",
       "    <tr>\n",
       "      <th>22785</th>\n",
       "      <td>AABRIA</td>\n",
       "      <td>[Inaudible] natural one.</td>\n",
       "      <td>8</td>\n",
       "      <td>02:24:38</td>\n",
       "      <td>NaN</td>\n",
       "    </tr>\n",
       "  </tbody>\n",
       "</table>\n",
       "</div>"
      ],
      "text/plain": [
       "         name                                               text episode  \\\n",
       "2876   AABRIA  I'm [inaudible] going to let you stick the lan...       1   \n",
       "4131     MATT  It's [inaudible] great, but it feels different...       2   \n",
       "10697     SAM   Crew, what do you think? [cheerful jazzy music]        4   \n",
       "10735     SAM  Until then, be sure to hit that subscribe butt...       4   \n",
       "16419    MATT                        The [inaudible] is strong.        6   \n",
       "17060    LIAM    They would've come after me on my [inaudible].        6   \n",
       "18561    MATT            They go hard here in [inaudible], man!        7   \n",
       "19781  ASHLEY                      [inaudible] d6 for this one.        7   \n",
       "19915    MATT         (Thurston impression) [Inaudible] impact.        7   \n",
       "20023  AABRIA         No, [inaudible] you were getting at YMCA.        7   \n",
       "22785  AABRIA                          [Inaudible] natural one.        8   \n",
       "\n",
       "      timestamp inaudible_speech  \n",
       "2876   03:43:43      [inaudible]  \n",
       "4131   00:59:29      [inaudible]  \n",
       "10697  02:00:22              NaN  \n",
       "10735  02:04:03              NaN  \n",
       "16419  02:50:56      [inaudible]  \n",
       "17060  03:35:24      [inaudible]  \n",
       "18561  01:07:56      [inaudible]  \n",
       "19781  02:54:43      [inaudible]  \n",
       "19915  03:02:23              NaN  \n",
       "20023  03:08:29      [inaudible]  \n",
       "22785  02:24:38              NaN  "
      ]
     },
     "execution_count": 14,
     "metadata": {},
     "output_type": "execute_result"
    }
   ],
   "source": [
    "exu_df[exu_df['text'].str.contains(r'\\[.*\\]')]"
   ]
  },
  {
   "cell_type": "code",
   "execution_count": 15,
   "id": "f9b2d80f",
   "metadata": {},
   "outputs": [],
   "source": [
    "exu_df['text'] = exu_df['text'].str.replace(r'\\[.*\\]', r'', regex=True).astype('str')"
   ]
  },
  {
   "cell_type": "code",
   "execution_count": 16,
   "id": "174b5a9a",
   "metadata": {},
   "outputs": [
    {
     "data": {
      "text/plain": [
       "'(whispered) Oh god. '"
      ]
     },
     "execution_count": 16,
     "metadata": {},
     "output_type": "execute_result"
    }
   ],
   "source": [
    "exu_df['text'] = exu_df['text'].str.replace(r'\\(whispered( .*)', r'(whispered)\\1', regex=True).astype('str')\n",
    "exu_df.text[13830]"
   ]
  },
  {
   "cell_type": "code",
   "execution_count": 17,
   "id": "a6cf0acc",
   "metadata": {},
   "outputs": [
    {
     "data": {
      "text/html": [
       "<div>\n",
       "<style scoped>\n",
       "    .dataframe tbody tr th:only-of-type {\n",
       "        vertical-align: middle;\n",
       "    }\n",
       "\n",
       "    .dataframe tbody tr th {\n",
       "        vertical-align: top;\n",
       "    }\n",
       "\n",
       "    .dataframe thead th {\n",
       "        text-align: right;\n",
       "    }\n",
       "</style>\n",
       "<table border=\"1\" class=\"dataframe\">\n",
       "  <thead>\n",
       "    <tr style=\"text-align: right;\">\n",
       "      <th></th>\n",
       "      <th>name</th>\n",
       "      <th>text</th>\n",
       "      <th>episode</th>\n",
       "      <th>timestamp</th>\n",
       "      <th>inaudible_speech</th>\n",
       "    </tr>\n",
       "  </thead>\n",
       "  <tbody>\n",
       "    <tr>\n",
       "      <th>6</th>\n",
       "      <td>ASHLEY</td>\n",
       "      <td>(laughter)</td>\n",
       "      <td>1</td>\n",
       "      <td>00:00:37</td>\n",
       "      <td>NaN</td>\n",
       "    </tr>\n",
       "    <tr>\n",
       "      <th>14</th>\n",
       "      <td>AABRIA</td>\n",
       "      <td>(laughter)</td>\n",
       "      <td>1</td>\n",
       "      <td>00:01:06</td>\n",
       "      <td>NaN</td>\n",
       "    </tr>\n",
       "    <tr>\n",
       "      <th>17</th>\n",
       "      <td>AIMEE</td>\n",
       "      <td>(cheering)</td>\n",
       "      <td>1</td>\n",
       "      <td>00:01:14</td>\n",
       "      <td>NaN</td>\n",
       "    </tr>\n",
       "    <tr>\n",
       "      <th>35</th>\n",
       "      <td>ASHLEY</td>\n",
       "      <td>(laughter) You know, hemlock and oleander and ...</td>\n",
       "      <td>1</td>\n",
       "      <td>00:13:31</td>\n",
       "      <td>NaN</td>\n",
       "    </tr>\n",
       "    <tr>\n",
       "      <th>41</th>\n",
       "      <td>ASHLEY</td>\n",
       "      <td>(gasps) Oh.</td>\n",
       "      <td>1</td>\n",
       "      <td>00:15:19</td>\n",
       "      <td>NaN</td>\n",
       "    </tr>\n",
       "    <tr>\n",
       "      <th>...</th>\n",
       "      <td>...</td>\n",
       "      <td>...</td>\n",
       "      <td>...</td>\n",
       "      <td>...</td>\n",
       "      <td>...</td>\n",
       "    </tr>\n",
       "    <tr>\n",
       "      <th>23342</th>\n",
       "      <td>LIAM</td>\n",
       "      <td>(sighs)</td>\n",
       "      <td>8</td>\n",
       "      <td>03:24:00</td>\n",
       "      <td>NaN</td>\n",
       "    </tr>\n",
       "    <tr>\n",
       "      <th>23391</th>\n",
       "      <td>ROBBIE</td>\n",
       "      <td>(laughter)</td>\n",
       "      <td>8</td>\n",
       "      <td>03:29:17</td>\n",
       "      <td>NaN</td>\n",
       "    </tr>\n",
       "    <tr>\n",
       "      <th>23392</th>\n",
       "      <td>LIAM</td>\n",
       "      <td>and the whole time, he's also just (sighs), wa...</td>\n",
       "      <td>8</td>\n",
       "      <td>03:29:19</td>\n",
       "      <td>NaN</td>\n",
       "    </tr>\n",
       "    <tr>\n",
       "      <th>23395</th>\n",
       "      <td>AABRIA</td>\n",
       "      <td>Okay. (sighs) I didn't kill any of you and I w...</td>\n",
       "      <td>8</td>\n",
       "      <td>03:29:43</td>\n",
       "      <td>NaN</td>\n",
       "    </tr>\n",
       "    <tr>\n",
       "      <th>23404</th>\n",
       "      <td>AIMEE</td>\n",
       "      <td>I can watch you count Froot Loops! (laughter)</td>\n",
       "      <td>8</td>\n",
       "      <td>03:30:20</td>\n",
       "      <td>NaN</td>\n",
       "    </tr>\n",
       "  </tbody>\n",
       "</table>\n",
       "<p>1583 rows × 5 columns</p>\n",
       "</div>"
      ],
      "text/plain": [
       "         name                                               text episode  \\\n",
       "6      ASHLEY                                        (laughter)        1   \n",
       "14     AABRIA                                        (laughter)        1   \n",
       "17      AIMEE                                        (cheering)        1   \n",
       "35     ASHLEY  (laughter) You know, hemlock and oleander and ...       1   \n",
       "41     ASHLEY                                       (gasps) Oh.        1   \n",
       "...       ...                                                ...     ...   \n",
       "23342    LIAM                                           (sighs)        8   \n",
       "23391  ROBBIE                                        (laughter)        8   \n",
       "23392    LIAM  and the whole time, he's also just (sighs), wa...       8   \n",
       "23395  AABRIA  Okay. (sighs) I didn't kill any of you and I w...       8   \n",
       "23404   AIMEE     I can watch you count Froot Loops! (laughter)        8   \n",
       "\n",
       "      timestamp inaudible_speech  \n",
       "6      00:00:37              NaN  \n",
       "14     00:01:06              NaN  \n",
       "17     00:01:14              NaN  \n",
       "35     00:13:31              NaN  \n",
       "41     00:15:19              NaN  \n",
       "...         ...              ...  \n",
       "23342  03:24:00              NaN  \n",
       "23391  03:29:17              NaN  \n",
       "23392  03:29:19              NaN  \n",
       "23395  03:29:43              NaN  \n",
       "23404  03:30:20              NaN  \n",
       "\n",
       "[1583 rows x 5 columns]"
      ]
     },
     "execution_count": 17,
     "metadata": {},
     "output_type": "execute_result"
    }
   ],
   "source": [
    "exu_df[exu_df['text'].str.contains(r'\\(')]"
   ]
  },
  {
   "cell_type": "code",
   "execution_count": 18,
   "id": "c43ccc4b",
   "metadata": {},
   "outputs": [],
   "source": [
    "nonspeech_df = pd.DataFrame(exu_df[exu_df['text'].str.contains('^\\(.*\\) $')])"
   ]
  },
  {
   "cell_type": "code",
   "execution_count": 19,
   "id": "896de703",
   "metadata": {},
   "outputs": [
    {
     "data": {
      "text/plain": [
       "6                         (laughter) \n",
       "14                        (laughter) \n",
       "17                        (cheering) \n",
       "44       (monkey screech) (laughter) \n",
       "70                        (laughter) \n",
       "                     ...             \n",
       "23293                     (laughter) \n",
       "23297                     (laughter) \n",
       "23300               (happy exhaling) \n",
       "23342                        (sighs) \n",
       "23391                     (laughter) \n",
       "Name: text, Length: 772, dtype: object"
      ]
     },
     "execution_count": 19,
     "metadata": {},
     "output_type": "execute_result"
    }
   ],
   "source": [
    "nonspeech = pd.Series(nonspeech_df['text'])\n",
    "nonspeech"
   ]
  },
  {
   "cell_type": "code",
   "execution_count": 20,
   "id": "ae51dec6",
   "metadata": {},
   "outputs": [],
   "source": [
    "exu_df['text'] = exu_df['text'].str.replace(r'^\\(.*\\) $', r'', regex=True).astype('str')"
   ]
  },
  {
   "cell_type": "code",
   "execution_count": 21,
   "id": "e9014f50",
   "metadata": {},
   "outputs": [],
   "source": [
    "four_bracks = pd.DataFrame(exu_df[exu_df['text'].str.contains('^.*\\(.*\\).*\\(.*\\).* \\(.*\\).* \\(.*\\),*?.*$')])"
   ]
  },
  {
   "cell_type": "code",
   "execution_count": 22,
   "id": "69b7314e",
   "metadata": {},
   "outputs": [
    {
     "data": {
      "text/html": [
       "<div>\n",
       "<style scoped>\n",
       "    .dataframe tbody tr th:only-of-type {\n",
       "        vertical-align: middle;\n",
       "    }\n",
       "\n",
       "    .dataframe tbody tr th {\n",
       "        vertical-align: top;\n",
       "    }\n",
       "\n",
       "    .dataframe thead th {\n",
       "        text-align: right;\n",
       "    }\n",
       "</style>\n",
       "<table border=\"1\" class=\"dataframe\">\n",
       "  <thead>\n",
       "    <tr style=\"text-align: right;\">\n",
       "      <th></th>\n",
       "      <th>name</th>\n",
       "      <th>text</th>\n",
       "      <th>episode</th>\n",
       "      <th>timestamp</th>\n",
       "      <th>inaudible_speech</th>\n",
       "    </tr>\n",
       "  </thead>\n",
       "  <tbody>\n",
       "    <tr>\n",
       "      <th>8043</th>\n",
       "      <td>BEAU</td>\n",
       "      <td>(Shakäste shushes) (demonic laughing) (gruntin...</td>\n",
       "      <td>3</td>\n",
       "      <td>02:07:47</td>\n",
       "      <td>NaN</td>\n",
       "    </tr>\n",
       "    <tr>\n",
       "      <th>18108</th>\n",
       "      <td>ESO</td>\n",
       "      <td>(playing \"Hot Cross Buns\" off-key) (playing \"H...</td>\n",
       "      <td>7</td>\n",
       "      <td>00:02:13</td>\n",
       "      <td>NaN</td>\n",
       "    </tr>\n",
       "  </tbody>\n",
       "</table>\n",
       "</div>"
      ],
      "text/plain": [
       "       name                                               text episode  \\\n",
       "8043   BEAU  (Shakäste shushes) (demonic laughing) (gruntin...       3   \n",
       "18108   ESO  (playing \"Hot Cross Buns\" off-key) (playing \"H...       7   \n",
       "\n",
       "      timestamp inaudible_speech  \n",
       "8043   02:07:47              NaN  \n",
       "18108  00:02:13              NaN  "
      ]
     },
     "execution_count": 22,
     "metadata": {},
     "output_type": "execute_result"
    }
   ],
   "source": [
    "four_bracks['text'] = four_bracks['text'].str.replace(r'^.*(\\(.*\\)).*(\\(.*\\)).* (\\(.*\\)).* (\\(.*\\)),*?.*$', r'\\1 \\2 \\3 \\4', regex=True).astype('str')\n",
    "four_bracks"
   ]
  },
  {
   "cell_type": "code",
   "execution_count": 23,
   "id": "089b7bbb",
   "metadata": {},
   "outputs": [
    {
     "data": {
      "text/plain": [
       "8043     (Shakäste shushes) (demonic laughing) (gruntin...\n",
       "18108    (playing \"Hot Cross Buns\" off-key) (playing \"H...\n",
       "Name: text, dtype: object"
      ]
     },
     "execution_count": 23,
     "metadata": {},
     "output_type": "execute_result"
    }
   ],
   "source": [
    "four = pd.Series(four_bracks['text'])\n",
    "four"
   ]
  },
  {
   "cell_type": "code",
   "execution_count": 24,
   "id": "aef3b45e",
   "metadata": {},
   "outputs": [],
   "source": [
    "exu_df['text'] = exu_df['text'].str.replace(r'(^.*)\\(.*\\)(.*)\\(.*\\)(.* )\\(.*\\)(.* )\\(.*\\)(,*?.*$)', r'\\1 \\2 \\3 \\4 \\5', regex=True).astype('str')"
   ]
  },
  {
   "cell_type": "code",
   "execution_count": 25,
   "id": "546ee1bf",
   "metadata": {},
   "outputs": [],
   "source": [
    "three_bracks = pd.DataFrame(exu_df[exu_df['text'].str.contains('^.*\\(.*\\).* \\(.*\\).* \"*\\(.*\\)\"*,*?.*$')])"
   ]
  },
  {
   "cell_type": "code",
   "execution_count": 26,
   "id": "4bb80c4b",
   "metadata": {},
   "outputs": [],
   "source": [
    "three_bracks['text'] = three_bracks['text'].str.replace(r'^.*(\\(.*\\)).* (\\(.*\\)).* \"*(\\(.*\\))\"*,*?.*$', r'\\1 \\2 \\3', regex=True).astype('str')"
   ]
  },
  {
   "cell_type": "code",
   "execution_count": 27,
   "id": "59f4ae26",
   "metadata": {},
   "outputs": [
    {
     "data": {
      "text/plain": [
       "97       (high-pitched) (clears throat) (normal voice)\n",
       "16916                      (laughs) (barks) (laughter)\n",
       "21692                   (yelling) (laughter) (yelling)\n",
       "22286              (growls) (eating noises) (laughter)\n",
       "23312              (hands thump) (laughter) (laughter)\n",
       "Name: text, dtype: object"
      ]
     },
     "execution_count": 27,
     "metadata": {},
     "output_type": "execute_result"
    }
   ],
   "source": [
    "three = pd.Series(three_bracks['text'])\n",
    "three"
   ]
  },
  {
   "cell_type": "code",
   "execution_count": 28,
   "id": "fb37a43c",
   "metadata": {},
   "outputs": [],
   "source": [
    "exu_df['text'] = exu_df['text'].str.replace(r'(^.*)\\(.*\\)(.* )\\(.*\\)(.* \"*)\\(.*\\)(\"*,*?.*$)', r'\\1 \\2 \\3 \\4', regex=True).astype('str')"
   ]
  },
  {
   "cell_type": "code",
   "execution_count": 29,
   "id": "925385e4",
   "metadata": {},
   "outputs": [],
   "source": [
    "mult_bracks = pd.DataFrame(exu_df[exu_df['text'].str.contains('^.*\\(.*\\).*\\(.*\\),?.*$')])"
   ]
  },
  {
   "cell_type": "code",
   "execution_count": 30,
   "id": "0431b835",
   "metadata": {},
   "outputs": [
    {
     "data": {
      "text/html": [
       "<div>\n",
       "<style scoped>\n",
       "    .dataframe tbody tr th:only-of-type {\n",
       "        vertical-align: middle;\n",
       "    }\n",
       "\n",
       "    .dataframe tbody tr th {\n",
       "        vertical-align: top;\n",
       "    }\n",
       "\n",
       "    .dataframe thead th {\n",
       "        text-align: right;\n",
       "    }\n",
       "</style>\n",
       "<table border=\"1\" class=\"dataframe\">\n",
       "  <thead>\n",
       "    <tr style=\"text-align: right;\">\n",
       "      <th></th>\n",
       "      <th>name</th>\n",
       "      <th>text</th>\n",
       "      <th>episode</th>\n",
       "      <th>timestamp</th>\n",
       "      <th>inaudible_speech</th>\n",
       "    </tr>\n",
       "  </thead>\n",
       "  <tbody>\n",
       "    <tr>\n",
       "      <th>131</th>\n",
       "      <td>AIMEE</td>\n",
       "      <td>(gasps) (loud whisper)</td>\n",
       "      <td>1</td>\n",
       "      <td>00:28:25</td>\n",
       "      <td>NaN</td>\n",
       "    </tr>\n",
       "    <tr>\n",
       "      <th>535</th>\n",
       "      <td>AIMEE</td>\n",
       "      <td>(yelling) (laughter)</td>\n",
       "      <td>1</td>\n",
       "      <td>00:56:08</td>\n",
       "      <td>NaN</td>\n",
       "    </tr>\n",
       "    <tr>\n",
       "      <th>1113</th>\n",
       "      <td>AABRIA</td>\n",
       "      <td>(monkey scream) (laughter)</td>\n",
       "      <td>1</td>\n",
       "      <td>01:56:56</td>\n",
       "      <td>NaN</td>\n",
       "    </tr>\n",
       "    <tr>\n",
       "      <th>1327</th>\n",
       "      <td>ASHLEY</td>\n",
       "      <td>(Cockney accent) (laughter)</td>\n",
       "      <td>1</td>\n",
       "      <td>02:13:43</td>\n",
       "      <td>NaN</td>\n",
       "    </tr>\n",
       "    <tr>\n",
       "      <th>1411</th>\n",
       "      <td>ASHLEY</td>\n",
       "      <td>(Cockney accent) (laughter)</td>\n",
       "      <td>1</td>\n",
       "      <td>02:19:18</td>\n",
       "      <td>NaN</td>\n",
       "    </tr>\n",
       "    <tr>\n",
       "      <th>1572</th>\n",
       "      <td>ROBBIE</td>\n",
       "      <td>(groans) (unhappily)</td>\n",
       "      <td>1</td>\n",
       "      <td>02:28:19</td>\n",
       "      <td>NaN</td>\n",
       "    </tr>\n",
       "    <tr>\n",
       "      <th>2869</th>\n",
       "      <td>AABRIA</td>\n",
       "      <td>(cheering) (cheering)</td>\n",
       "      <td>1</td>\n",
       "      <td>03:43:24</td>\n",
       "      <td>NaN</td>\n",
       "    </tr>\n",
       "    <tr>\n",
       "      <th>3077</th>\n",
       "      <td>ROBBIE</td>\n",
       "      <td>(clears throat) (queasy sound)</td>\n",
       "      <td>1</td>\n",
       "      <td>03:55:02</td>\n",
       "      <td>NaN</td>\n",
       "    </tr>\n",
       "    <tr>\n",
       "      <th>4246</th>\n",
       "      <td>AIMEE</td>\n",
       "      <td>(blows raspberry) (loud thump)</td>\n",
       "      <td>2</td>\n",
       "      <td>01:06:26</td>\n",
       "      <td>NaN</td>\n",
       "    </tr>\n",
       "    <tr>\n",
       "      <th>5027</th>\n",
       "      <td>MATT</td>\n",
       "      <td>(low-pitched scream) (laughter)</td>\n",
       "      <td>2</td>\n",
       "      <td>02:29:39</td>\n",
       "      <td>NaN</td>\n",
       "    </tr>\n",
       "    <tr>\n",
       "      <th>6757</th>\n",
       "      <td>MATT</td>\n",
       "      <td>(laughs) (laughter)</td>\n",
       "      <td>3</td>\n",
       "      <td>00:28:36</td>\n",
       "      <td>NaN</td>\n",
       "    </tr>\n",
       "    <tr>\n",
       "      <th>10317</th>\n",
       "      <td>ASHLEY</td>\n",
       "      <td>(cheering) (cheering)</td>\n",
       "      <td>4</td>\n",
       "      <td>01:35:07</td>\n",
       "      <td>NaN</td>\n",
       "    </tr>\n",
       "    <tr>\n",
       "      <th>10834</th>\n",
       "      <td>AIMEE</td>\n",
       "      <td>(laughter) (sighs)</td>\n",
       "      <td>4</td>\n",
       "      <td>02:25:18</td>\n",
       "      <td>NaN</td>\n",
       "    </tr>\n",
       "    <tr>\n",
       "      <th>11874</th>\n",
       "      <td>MATT</td>\n",
       "      <td>(squelching fart) (laughter)</td>\n",
       "      <td>4</td>\n",
       "      <td>03:55:24</td>\n",
       "      <td>NaN</td>\n",
       "    </tr>\n",
       "    <tr>\n",
       "      <th>13100</th>\n",
       "      <td>AABRIA</td>\n",
       "      <td>(laughs) (creepy chuckle)</td>\n",
       "      <td>5</td>\n",
       "      <td>01:21:28</td>\n",
       "      <td>NaN</td>\n",
       "    </tr>\n",
       "    <tr>\n",
       "      <th>13430</th>\n",
       "      <td>ROBBIE</td>\n",
       "      <td>(laughter) (laughter)</td>\n",
       "      <td>5</td>\n",
       "      <td>02:05:17</td>\n",
       "      <td>NaN</td>\n",
       "    </tr>\n",
       "    <tr>\n",
       "      <th>14102</th>\n",
       "      <td>MATT</td>\n",
       "      <td>(fire whooshing) (screams)</td>\n",
       "      <td>5</td>\n",
       "      <td>02:51:23</td>\n",
       "      <td>NaN</td>\n",
       "    </tr>\n",
       "    <tr>\n",
       "      <th>14786</th>\n",
       "      <td>MATT</td>\n",
       "      <td>(cheering) (soft music)</td>\n",
       "      <td>5</td>\n",
       "      <td>03:54:05</td>\n",
       "      <td>NaN</td>\n",
       "    </tr>\n",
       "    <tr>\n",
       "      <th>15268</th>\n",
       "      <td>ASHLEY</td>\n",
       "      <td>(knocking) (whispering)</td>\n",
       "      <td>6</td>\n",
       "      <td>00:43:25</td>\n",
       "      <td>NaN</td>\n",
       "    </tr>\n",
       "    <tr>\n",
       "      <th>17259</th>\n",
       "      <td>ASHLEY</td>\n",
       "      <td>(sighs) (groans)</td>\n",
       "      <td>6</td>\n",
       "      <td>03:45:57</td>\n",
       "      <td>NaN</td>\n",
       "    </tr>\n",
       "    <tr>\n",
       "      <th>18230</th>\n",
       "      <td>AABRIA</td>\n",
       "      <td>(snorts) (sighs)</td>\n",
       "      <td>7</td>\n",
       "      <td>00:20:35</td>\n",
       "      <td>NaN</td>\n",
       "    </tr>\n",
       "    <tr>\n",
       "      <th>18470</th>\n",
       "      <td>AABRIA</td>\n",
       "      <td>(coughs) (laughter)</td>\n",
       "      <td>7</td>\n",
       "      <td>00:58:33</td>\n",
       "      <td>NaN</td>\n",
       "    </tr>\n",
       "    <tr>\n",
       "      <th>18781</th>\n",
       "      <td>MATT</td>\n",
       "      <td>(laughter) (laughter)</td>\n",
       "      <td>7</td>\n",
       "      <td>01:23:07</td>\n",
       "      <td>NaN</td>\n",
       "    </tr>\n",
       "    <tr>\n",
       "      <th>19240</th>\n",
       "      <td>ROBBIE</td>\n",
       "      <td>(sharp inhale) (uncertain noise)</td>\n",
       "      <td>7</td>\n",
       "      <td>01:56:47</td>\n",
       "      <td>NaN</td>\n",
       "    </tr>\n",
       "    <tr>\n",
       "      <th>20264</th>\n",
       "      <td>MATT</td>\n",
       "      <td>(groans) (cheering)</td>\n",
       "      <td>7</td>\n",
       "      <td>03:24:06</td>\n",
       "      <td>NaN</td>\n",
       "    </tr>\n",
       "    <tr>\n",
       "      <th>20274</th>\n",
       "      <td>MATT</td>\n",
       "      <td>(whoosh) (whoosh)</td>\n",
       "      <td>7</td>\n",
       "      <td>03:24:57</td>\n",
       "      <td>NaN</td>\n",
       "    </tr>\n",
       "    <tr>\n",
       "      <th>20981</th>\n",
       "      <td>MATT</td>\n",
       "      <td>(screams) (laughter)</td>\n",
       "      <td>8</td>\n",
       "      <td>00:15:50</td>\n",
       "      <td>NaN</td>\n",
       "    </tr>\n",
       "    <tr>\n",
       "      <th>21970</th>\n",
       "      <td>MATT</td>\n",
       "      <td>(impacts) (poof)</td>\n",
       "      <td>8</td>\n",
       "      <td>01:11:43</td>\n",
       "      <td>NaN</td>\n",
       "    </tr>\n",
       "    <tr>\n",
       "      <th>22398</th>\n",
       "      <td>MATT</td>\n",
       "      <td>(shouts) (laughter and clapping)</td>\n",
       "      <td>8</td>\n",
       "      <td>01:55:09</td>\n",
       "      <td>NaN</td>\n",
       "    </tr>\n",
       "    <tr>\n",
       "      <th>23086</th>\n",
       "      <td>AIMEE</td>\n",
       "      <td>(laughs) (sighs)</td>\n",
       "      <td>8</td>\n",
       "      <td>02:45:13</td>\n",
       "      <td>NaN</td>\n",
       "    </tr>\n",
       "    <tr>\n",
       "      <th>23395</th>\n",
       "      <td>AABRIA</td>\n",
       "      <td>(sighs) (groans)</td>\n",
       "      <td>8</td>\n",
       "      <td>03:29:43</td>\n",
       "      <td>NaN</td>\n",
       "    </tr>\n",
       "  </tbody>\n",
       "</table>\n",
       "</div>"
      ],
      "text/plain": [
       "         name                              text episode timestamp  \\\n",
       "131     AIMEE            (gasps) (loud whisper)       1  00:28:25   \n",
       "535     AIMEE              (yelling) (laughter)       1  00:56:08   \n",
       "1113   AABRIA        (monkey scream) (laughter)       1  01:56:56   \n",
       "1327   ASHLEY       (Cockney accent) (laughter)       1  02:13:43   \n",
       "1411   ASHLEY       (Cockney accent) (laughter)       1  02:19:18   \n",
       "1572   ROBBIE              (groans) (unhappily)       1  02:28:19   \n",
       "2869   AABRIA             (cheering) (cheering)       1  03:43:24   \n",
       "3077   ROBBIE    (clears throat) (queasy sound)       1  03:55:02   \n",
       "4246    AIMEE    (blows raspberry) (loud thump)       2  01:06:26   \n",
       "5027     MATT   (low-pitched scream) (laughter)       2  02:29:39   \n",
       "6757     MATT               (laughs) (laughter)       3  00:28:36   \n",
       "10317  ASHLEY             (cheering) (cheering)       4  01:35:07   \n",
       "10834   AIMEE                (laughter) (sighs)       4  02:25:18   \n",
       "11874    MATT      (squelching fart) (laughter)       4  03:55:24   \n",
       "13100  AABRIA         (laughs) (creepy chuckle)       5  01:21:28   \n",
       "13430  ROBBIE             (laughter) (laughter)       5  02:05:17   \n",
       "14102    MATT        (fire whooshing) (screams)       5  02:51:23   \n",
       "14786    MATT           (cheering) (soft music)       5  03:54:05   \n",
       "15268  ASHLEY           (knocking) (whispering)       6  00:43:25   \n",
       "17259  ASHLEY                  (sighs) (groans)       6  03:45:57   \n",
       "18230  AABRIA                  (snorts) (sighs)       7  00:20:35   \n",
       "18470  AABRIA               (coughs) (laughter)       7  00:58:33   \n",
       "18781    MATT             (laughter) (laughter)       7  01:23:07   \n",
       "19240  ROBBIE  (sharp inhale) (uncertain noise)       7  01:56:47   \n",
       "20264    MATT               (groans) (cheering)       7  03:24:06   \n",
       "20274    MATT                 (whoosh) (whoosh)       7  03:24:57   \n",
       "20981    MATT              (screams) (laughter)       8  00:15:50   \n",
       "21970    MATT                  (impacts) (poof)       8  01:11:43   \n",
       "22398    MATT  (shouts) (laughter and clapping)       8  01:55:09   \n",
       "23086   AIMEE                  (laughs) (sighs)       8  02:45:13   \n",
       "23395  AABRIA                  (sighs) (groans)       8  03:29:43   \n",
       "\n",
       "      inaudible_speech  \n",
       "131                NaN  \n",
       "535                NaN  \n",
       "1113               NaN  \n",
       "1327               NaN  \n",
       "1411               NaN  \n",
       "1572               NaN  \n",
       "2869               NaN  \n",
       "3077               NaN  \n",
       "4246               NaN  \n",
       "5027               NaN  \n",
       "6757               NaN  \n",
       "10317              NaN  \n",
       "10834              NaN  \n",
       "11874              NaN  \n",
       "13100              NaN  \n",
       "13430              NaN  \n",
       "14102              NaN  \n",
       "14786              NaN  \n",
       "15268              NaN  \n",
       "17259              NaN  \n",
       "18230              NaN  \n",
       "18470              NaN  \n",
       "18781              NaN  \n",
       "19240              NaN  \n",
       "20264              NaN  \n",
       "20274              NaN  \n",
       "20981              NaN  \n",
       "21970              NaN  \n",
       "22398              NaN  \n",
       "23086              NaN  \n",
       "23395              NaN  "
      ]
     },
     "execution_count": 30,
     "metadata": {},
     "output_type": "execute_result"
    }
   ],
   "source": [
    "mult_bracks['text'] = mult_bracks['text'].str.replace(r'^.*(\\(.*\\)).*(\\(.*\\)),?.*$', r'\\1 \\2', regex=True).astype('str')\n",
    "mult_bracks"
   ]
  },
  {
   "cell_type": "code",
   "execution_count": 31,
   "id": "a3ff8760",
   "metadata": {},
   "outputs": [
    {
     "data": {
      "text/plain": [
       "131                (gasps) (loud whisper)\n",
       "535                  (yelling) (laughter)\n",
       "1113           (monkey scream) (laughter)\n",
       "1327          (Cockney accent) (laughter)\n",
       "1411          (Cockney accent) (laughter)\n",
       "1572                 (groans) (unhappily)\n",
       "2869                (cheering) (cheering)\n",
       "3077       (clears throat) (queasy sound)\n",
       "4246       (blows raspberry) (loud thump)\n",
       "5027      (low-pitched scream) (laughter)\n",
       "6757                  (laughs) (laughter)\n",
       "10317               (cheering) (cheering)\n",
       "10834                  (laughter) (sighs)\n",
       "11874        (squelching fart) (laughter)\n",
       "13100           (laughs) (creepy chuckle)\n",
       "13430               (laughter) (laughter)\n",
       "14102          (fire whooshing) (screams)\n",
       "14786             (cheering) (soft music)\n",
       "15268             (knocking) (whispering)\n",
       "17259                    (sighs) (groans)\n",
       "18230                    (snorts) (sighs)\n",
       "18470                 (coughs) (laughter)\n",
       "18781               (laughter) (laughter)\n",
       "19240    (sharp inhale) (uncertain noise)\n",
       "20264                 (groans) (cheering)\n",
       "20274                   (whoosh) (whoosh)\n",
       "20981                (screams) (laughter)\n",
       "21970                    (impacts) (poof)\n",
       "22398    (shouts) (laughter and clapping)\n",
       "23086                    (laughs) (sighs)\n",
       "23395                    (sighs) (groans)\n",
       "Name: text, dtype: object"
      ]
     },
     "execution_count": 31,
     "metadata": {},
     "output_type": "execute_result"
    }
   ],
   "source": [
    "mult = pd.Series(mult_bracks['text'])\n",
    "mult"
   ]
  },
  {
   "cell_type": "code",
   "execution_count": 32,
   "id": "5cb4c832",
   "metadata": {},
   "outputs": [],
   "source": [
    "exu_df['text'] = exu_df['text'].str.replace(r'(^.*)\\(.*\\)(.*)\\(.*\\)(,?.*$)', r'\\1 \\2 \\3', regex=True).astype('str')"
   ]
  },
  {
   "cell_type": "code",
   "execution_count": 33,
   "id": "993a716a",
   "metadata": {},
   "outputs": [],
   "source": [
    "lead_bracks = pd.DataFrame(exu_df[exu_df['text'].str.contains('^\\(.*\\) ')])"
   ]
  },
  {
   "cell_type": "code",
   "execution_count": 34,
   "id": "ec4c0bf3",
   "metadata": {},
   "outputs": [],
   "source": [
    "lead_bracks = lead_bracks['text'].str.replace(r'(^\\(.*\\)) .*$', r'\\1', regex=True).astype('str')"
   ]
  },
  {
   "cell_type": "code",
   "execution_count": 35,
   "id": "ddc1531a",
   "metadata": {},
   "outputs": [
    {
     "data": {
      "text/plain": [
       "35                (laughter)\n",
       "41                   (gasps)\n",
       "58                  (unsure)\n",
       "63                (laughter)\n",
       "66             (pigeon coos)\n",
       "                ...         \n",
       "23137                (gasps)\n",
       "23176    (uncertain whimper)\n",
       "23270               (groans)\n",
       "23272                (sighs)\n",
       "23302       (happy exhaling)\n",
       "Name: text, Length: 283, dtype: object"
      ]
     },
     "execution_count": 35,
     "metadata": {},
     "output_type": "execute_result"
    }
   ],
   "source": [
    "lead = pd.Series(lead_bracks)\n",
    "lead"
   ]
  },
  {
   "cell_type": "code",
   "execution_count": 36,
   "id": "5f6e39fe",
   "metadata": {},
   "outputs": [],
   "source": [
    "exu_df['text'] = exu_df['text'].str.replace(r'^\\(.*\\) ', '', regex=True).astype('str')"
   ]
  },
  {
   "cell_type": "code",
   "execution_count": 37,
   "id": "f4b52706",
   "metadata": {},
   "outputs": [],
   "source": [
    "trail_bracks = pd.DataFrame(exu_df[exu_df['text'].str.contains('.* \\(.*\\)+ $')])"
   ]
  },
  {
   "cell_type": "code",
   "execution_count": 38,
   "id": "1ce4509e",
   "metadata": {},
   "outputs": [
    {
     "data": {
      "text/plain": [
       "61       (laughter) \n",
       "232      (laughter) \n",
       "265        (laughs) \n",
       "339      (laughter) \n",
       "418      (laughter) \n",
       "            ...     \n",
       "23014      (laughs) \n",
       "23071      (laughs) \n",
       "23074    (laughter) \n",
       "23245      (laughs) \n",
       "23404    (laughter) \n",
       "Name: text, Length: 313, dtype: object"
      ]
     },
     "execution_count": 38,
     "metadata": {},
     "output_type": "execute_result"
    }
   ],
   "source": [
    "trail_bracks = trail_bracks['text'].str.replace(r'.* (\\(.*\\)+ $)', r'\\1', regex=True).astype('str')\n",
    "trail = pd.Series(trail_bracks)\n",
    "trail"
   ]
  },
  {
   "cell_type": "code",
   "execution_count": 39,
   "id": "861e7020",
   "metadata": {},
   "outputs": [],
   "source": [
    "exu_df['text'] = exu_df['text'].str.replace(r'\\(.*\\) $', '', regex=True).astype('str')"
   ]
  },
  {
   "cell_type": "code",
   "execution_count": 40,
   "id": "98cd58e6",
   "metadata": {},
   "outputs": [],
   "source": [
    "mid_bracks = pd.DataFrame(exu_df[exu_df['text'].str.contains(r'^.* \\(.*\\).*$')])"
   ]
  },
  {
   "cell_type": "code",
   "execution_count": 41,
   "id": "cf0b2c91",
   "metadata": {},
   "outputs": [
    {
     "data": {
      "text/plain": [
       "67           (laughs)\n",
       "197         (screams)\n",
       "750      (whispering)\n",
       "1154       (shushing)\n",
       "1180     (whispering)\n",
       "             ...     \n",
       "22463       (bellows)\n",
       "22621      (laughter)\n",
       "22737      (counting)\n",
       "23000        (laughs)\n",
       "23392         (sighs)\n",
       "Name: text, Length: 154, dtype: object"
      ]
     },
     "execution_count": 41,
     "metadata": {},
     "output_type": "execute_result"
    }
   ],
   "source": [
    "mid_bracks = mid_bracks['text'].str.replace(r'^.* (\\(.*\\)).*$', r'\\1', regex=True).astype('str')\n",
    "mid = pd.Series(mid_bracks)\n",
    "mid"
   ]
  },
  {
   "cell_type": "code",
   "execution_count": 42,
   "id": "2e689096",
   "metadata": {},
   "outputs": [],
   "source": [
    "exu_df['text'] = exu_df['text'].str.replace(r'(^.*) \\(.*\\)(.*$)', r'\\1 \\2', regex=True).astype('str')"
   ]
  },
  {
   "cell_type": "code",
   "execution_count": 43,
   "id": "6953896a",
   "metadata": {},
   "outputs": [],
   "source": [
    "quote_bracks = pd.DataFrame(exu_df[exu_df['text'].str.contains(r'.* \"*\\(.*\\)\"*.*$')])"
   ]
  },
  {
   "cell_type": "code",
   "execution_count": 44,
   "id": "c9e3cff9",
   "metadata": {},
   "outputs": [
    {
     "data": {
      "text/plain": [
       "5634         (snickering)\n",
       "5856       (throat clear)\n",
       "13094          (chuckles)\n",
       "15930            (laughs)\n",
       "16707             (yelps)\n",
       "17378    (confused noise)\n",
       "19555        (cold laugh)\n",
       "Name: text, dtype: object"
      ]
     },
     "execution_count": 44,
     "metadata": {},
     "output_type": "execute_result"
    }
   ],
   "source": [
    "quote_bracks['text'] = quote_bracks['text'].str.replace(r'.* \"*(\\(.*\\))\"*.*$', r'\\1', regex=True).astype('str')\n",
    "quotes = pd.Series(quote_bracks['text'])\n",
    "quotes"
   ]
  },
  {
   "cell_type": "code",
   "execution_count": 45,
   "id": "7a3e1d8f",
   "metadata": {},
   "outputs": [],
   "source": [
    "exu_df['text'] = exu_df['text'].str.replace(r'(.* \"*)\\(.*\\)(\"*.*$)', r'\\1 \\2', regex=True).astype('str')"
   ]
  },
  {
   "cell_type": "code",
   "execution_count": 46,
   "id": "f294ff04",
   "metadata": {},
   "outputs": [],
   "source": [
    "more_quotes = pd.DataFrame(exu_df[exu_df['text'].str.contains(r'\"\\(.*\\)\"')])"
   ]
  },
  {
   "cell_type": "code",
   "execution_count": 47,
   "id": "fb45982e",
   "metadata": {},
   "outputs": [
    {
     "data": {
      "text/plain": [
       "4460      (frustrated screech)\n",
       "4548                   (sighs)\n",
       "4596    (laughs sarcastically)\n",
       "7728                  (laughs)\n",
       "7827         (sarcastic laugh)\n",
       "Name: text, dtype: object"
      ]
     },
     "execution_count": 47,
     "metadata": {},
     "output_type": "execute_result"
    }
   ],
   "source": [
    "more_quotes['text'] = more_quotes['text'].str.replace(r'^.*\"(\\(.*\\))\"? .*$', r'\\1', regex=True).astype('str')\n",
    "more = pd.Series(more_quotes['text'])\n",
    "more"
   ]
  },
  {
   "cell_type": "code",
   "execution_count": 48,
   "id": "b5125a54",
   "metadata": {},
   "outputs": [],
   "source": [
    "exu_df['text'] = exu_df['text'].str.replace(r'(^.*\")\\(.*\\)(\"? .*$)', r'\\1 \\2', regex=True).astype('str')"
   ]
  },
  {
   "cell_type": "code",
   "execution_count": 49,
   "id": "5bbfa4a9",
   "metadata": {},
   "outputs": [
    {
     "data": {
      "text/html": [
       "<div>\n",
       "<style scoped>\n",
       "    .dataframe tbody tr th:only-of-type {\n",
       "        vertical-align: middle;\n",
       "    }\n",
       "\n",
       "    .dataframe tbody tr th {\n",
       "        vertical-align: top;\n",
       "    }\n",
       "\n",
       "    .dataframe thead th {\n",
       "        text-align: right;\n",
       "    }\n",
       "</style>\n",
       "<table border=\"1\" class=\"dataframe\">\n",
       "  <thead>\n",
       "    <tr style=\"text-align: right;\">\n",
       "      <th></th>\n",
       "      <th>name</th>\n",
       "      <th>text</th>\n",
       "      <th>episode</th>\n",
       "      <th>timestamp</th>\n",
       "      <th>inaudible_speech</th>\n",
       "    </tr>\n",
       "  </thead>\n",
       "  <tbody>\n",
       "    <tr>\n",
       "      <th>4706</th>\n",
       "      <td>AABRIA</td>\n",
       "      <td>(coughing)</td>\n",
       "      <td>2</td>\n",
       "      <td>02:03:33</td>\n",
       "      <td>NaN</td>\n",
       "    </tr>\n",
       "  </tbody>\n",
       "</table>\n",
       "</div>"
      ],
      "text/plain": [
       "        name        text episode timestamp inaudible_speech\n",
       "4706  AABRIA  (coughing)       2  02:03:33              NaN"
      ]
     },
     "execution_count": 49,
     "metadata": {},
     "output_type": "execute_result"
    }
   ],
   "source": [
    "odd_ones = pd.DataFrame(exu_df[exu_df['text'].str.contains(r'\\(.*\\)\\.?\"')])\n",
    "odd_ones['text'] = odd_ones['text'].str.replace(r'(\\(.*\\))\\.?\".*', r'\\1', regex=True).astype('str')\n",
    "odd_ones"
   ]
  },
  {
   "cell_type": "code",
   "execution_count": 50,
   "id": "6f0fde29",
   "metadata": {},
   "outputs": [
    {
     "data": {
      "text/plain": [
       "4706    (coughing)\n",
       "Name: text, dtype: object"
      ]
     },
     "execution_count": 50,
     "metadata": {},
     "output_type": "execute_result"
    }
   ],
   "source": [
    "odds = pd.Series(odd_ones['text'])\n",
    "odds"
   ]
  },
  {
   "cell_type": "code",
   "execution_count": 51,
   "id": "98cb4b77",
   "metadata": {},
   "outputs": [],
   "source": [
    "exu_df['text'] =exu_df['text'].str.replace(r'\\(.*\\)(\\.?\".*)', r'\\1', regex=True).astype('str')"
   ]
  },
  {
   "cell_type": "code",
   "execution_count": null,
   "id": "48eaab09",
   "metadata": {},
   "outputs": [],
   "source": []
  },
  {
   "cell_type": "code",
   "execution_count": 52,
   "id": "6df3acd2",
   "metadata": {},
   "outputs": [],
   "source": [
    "sounds = [nonspeech, four, three, mult, lead, trail, mid, quotes, more, odds]"
   ]
  },
  {
   "cell_type": "code",
   "execution_count": 53,
   "id": "59a8f161",
   "metadata": {},
   "outputs": [
    {
     "data": {
      "text/plain": [
       "6                        (laughter) \n",
       "14                       (laughter) \n",
       "17                       (cheering) \n",
       "44      (monkey screech) (laughter) \n",
       "70                       (laughter) \n",
       "                    ...             \n",
       "4548                         (sighs)\n",
       "4596          (laughs sarcastically)\n",
       "7728                        (laughs)\n",
       "7827               (sarcastic laugh)\n",
       "4706                      (coughing)\n",
       "Name: text, Length: 1573, dtype: object"
      ]
     },
     "execution_count": 53,
     "metadata": {},
     "output_type": "execute_result"
    }
   ],
   "source": [
    "noises = pd.concat(sounds)\n",
    "noises"
   ]
  },
  {
   "cell_type": "code",
   "execution_count": 54,
   "id": "145e93dc",
   "metadata": {},
   "outputs": [],
   "source": [
    "duplicates = noises.index[noises.index.duplicated(keep=False)]"
   ]
  },
  {
   "cell_type": "code",
   "execution_count": 55,
   "id": "9319a72a",
   "metadata": {},
   "outputs": [
    {
     "name": "stdout",
     "output_type": "stream",
     "text": [
      "Int64Index([], dtype='int64')\n"
     ]
    }
   ],
   "source": [
    "print(duplicates) #no duplicates!"
   ]
  },
  {
   "cell_type": "code",
   "execution_count": 56,
   "id": "409e4efe",
   "metadata": {},
   "outputs": [
    {
     "data": {
      "text/html": [
       "<div>\n",
       "<style scoped>\n",
       "    .dataframe tbody tr th:only-of-type {\n",
       "        vertical-align: middle;\n",
       "    }\n",
       "\n",
       "    .dataframe tbody tr th {\n",
       "        vertical-align: top;\n",
       "    }\n",
       "\n",
       "    .dataframe thead th {\n",
       "        text-align: right;\n",
       "    }\n",
       "</style>\n",
       "<table border=\"1\" class=\"dataframe\">\n",
       "  <thead>\n",
       "    <tr style=\"text-align: right;\">\n",
       "      <th></th>\n",
       "      <th>name</th>\n",
       "      <th>text</th>\n",
       "      <th>episode</th>\n",
       "      <th>timestamp</th>\n",
       "      <th>inaudible_speech</th>\n",
       "      <th>nonspeech</th>\n",
       "    </tr>\n",
       "  </thead>\n",
       "  <tbody>\n",
       "    <tr>\n",
       "      <th>0</th>\n",
       "      <td>AABRIA</td>\n",
       "      <td>Let's start with Robbie.</td>\n",
       "      <td>1</td>\n",
       "      <td>00:00:00</td>\n",
       "      <td>NaN</td>\n",
       "      <td>NaN</td>\n",
       "    </tr>\n",
       "    <tr>\n",
       "      <th>1</th>\n",
       "      <td>ROBBIE</td>\n",
       "      <td>I'm so excited!</td>\n",
       "      <td>1</td>\n",
       "      <td>00:00:18</td>\n",
       "      <td>NaN</td>\n",
       "      <td>NaN</td>\n",
       "    </tr>\n",
       "    <tr>\n",
       "      <th>2</th>\n",
       "      <td>AABRIA</td>\n",
       "      <td>Yeah!</td>\n",
       "      <td>1</td>\n",
       "      <td>00:00:24</td>\n",
       "      <td>NaN</td>\n",
       "      <td>NaN</td>\n",
       "    </tr>\n",
       "    <tr>\n",
       "      <th>3</th>\n",
       "      <td>ROBBIE</td>\n",
       "      <td>Whew!</td>\n",
       "      <td>1</td>\n",
       "      <td>00:00:26</td>\n",
       "      <td>NaN</td>\n",
       "      <td>NaN</td>\n",
       "    </tr>\n",
       "    <tr>\n",
       "      <th>4</th>\n",
       "      <td>AABRIA</td>\n",
       "      <td>Liam!</td>\n",
       "      <td>1</td>\n",
       "      <td>00:00:26</td>\n",
       "      <td>NaN</td>\n",
       "      <td>NaN</td>\n",
       "    </tr>\n",
       "  </tbody>\n",
       "</table>\n",
       "</div>"
      ],
      "text/plain": [
       "     name                       text episode timestamp inaudible_speech  \\\n",
       "0  AABRIA  Let's start with Robbie.        1  00:00:00              NaN   \n",
       "1  ROBBIE           I'm so excited!        1  00:00:18              NaN   \n",
       "2  AABRIA                     Yeah!        1  00:00:24              NaN   \n",
       "3  ROBBIE                     Whew!        1  00:00:26              NaN   \n",
       "4  AABRIA                     Liam!        1  00:00:26              NaN   \n",
       "\n",
       "  nonspeech  \n",
       "0       NaN  \n",
       "1       NaN  \n",
       "2       NaN  \n",
       "3       NaN  \n",
       "4       NaN  "
      ]
     },
     "execution_count": 56,
     "metadata": {},
     "output_type": "execute_result"
    }
   ],
   "source": [
    "exu_df['nonspeech'] = noises\n",
    "exu_df.head()"
   ]
  },
  {
   "cell_type": "code",
   "execution_count": 57,
   "id": "3c36d5a0",
   "metadata": {},
   "outputs": [],
   "source": [
    "exu_df['nonspeech'] = exu_df['nonspeech'].fillna('') #get rid of the ugly NaN values\n",
    "exu_df['inaudible_speech'] = exu_df['inaudible_speech'].fillna('')"
   ]
  },
  {
   "cell_type": "code",
   "execution_count": 58,
   "id": "42965aa1",
   "metadata": {},
   "outputs": [
    {
     "data": {
      "text/plain": [
       "AABRIA                    7630\n",
       "AIMEE                     4175\n",
       "MATT                      2810\n",
       "ASHLEY                    2659\n",
       "ROBBIE                    2488\n",
       "                          ... \n",
       "CADUCEUS                     1\n",
       "JESTER                       1\n",
       "MARIUS                       1\n",
       "ROBBIE, AABRIA, ASHLEY       1\n",
       "ASHLEHY                      1\n",
       "Name: name, Length: 77, dtype: int64"
      ]
     },
     "execution_count": 58,
     "metadata": {},
     "output_type": "execute_result"
    }
   ],
   "source": [
    "exu_df['name'].value_counts() #found a typo in one of the names and fixed it"
   ]
  },
  {
   "cell_type": "code",
   "execution_count": 59,
   "id": "724657e8",
   "metadata": {},
   "outputs": [],
   "source": [
    "exu_df['name'] = exu_df['name'].str.replace(r'ASHLEHY', r'ASHLEY', regex=True).astype('str')"
   ]
  },
  {
   "cell_type": "code",
   "execution_count": 60,
   "id": "576cdf4e",
   "metadata": {},
   "outputs": [],
   "source": [
    "exu_df['season'] = 'EXU'"
   ]
  },
  {
   "cell_type": "code",
   "execution_count": 61,
   "id": "24d672e1",
   "metadata": {},
   "outputs": [
    {
     "data": {
      "text/html": [
       "<div>\n",
       "<style scoped>\n",
       "    .dataframe tbody tr th:only-of-type {\n",
       "        vertical-align: middle;\n",
       "    }\n",
       "\n",
       "    .dataframe tbody tr th {\n",
       "        vertical-align: top;\n",
       "    }\n",
       "\n",
       "    .dataframe thead th {\n",
       "        text-align: right;\n",
       "    }\n",
       "</style>\n",
       "<table border=\"1\" class=\"dataframe\">\n",
       "  <thead>\n",
       "    <tr style=\"text-align: right;\">\n",
       "      <th></th>\n",
       "      <th>name</th>\n",
       "      <th>text</th>\n",
       "      <th>episode</th>\n",
       "      <th>timestamp</th>\n",
       "      <th>inaudible_speech</th>\n",
       "      <th>nonspeech</th>\n",
       "      <th>season</th>\n",
       "    </tr>\n",
       "  </thead>\n",
       "  <tbody>\n",
       "    <tr>\n",
       "      <th>0</th>\n",
       "      <td>AABRIA</td>\n",
       "      <td>Let's start with Robbie.</td>\n",
       "      <td>1</td>\n",
       "      <td>00:00:00</td>\n",
       "      <td></td>\n",
       "      <td></td>\n",
       "      <td>EXU</td>\n",
       "    </tr>\n",
       "    <tr>\n",
       "      <th>1</th>\n",
       "      <td>ROBBIE</td>\n",
       "      <td>I'm so excited!</td>\n",
       "      <td>1</td>\n",
       "      <td>00:00:18</td>\n",
       "      <td></td>\n",
       "      <td></td>\n",
       "      <td>EXU</td>\n",
       "    </tr>\n",
       "    <tr>\n",
       "      <th>2</th>\n",
       "      <td>AABRIA</td>\n",
       "      <td>Yeah!</td>\n",
       "      <td>1</td>\n",
       "      <td>00:00:24</td>\n",
       "      <td></td>\n",
       "      <td></td>\n",
       "      <td>EXU</td>\n",
       "    </tr>\n",
       "    <tr>\n",
       "      <th>3</th>\n",
       "      <td>ROBBIE</td>\n",
       "      <td>Whew!</td>\n",
       "      <td>1</td>\n",
       "      <td>00:00:26</td>\n",
       "      <td></td>\n",
       "      <td></td>\n",
       "      <td>EXU</td>\n",
       "    </tr>\n",
       "    <tr>\n",
       "      <th>4</th>\n",
       "      <td>AABRIA</td>\n",
       "      <td>Liam!</td>\n",
       "      <td>1</td>\n",
       "      <td>00:00:26</td>\n",
       "      <td></td>\n",
       "      <td></td>\n",
       "      <td>EXU</td>\n",
       "    </tr>\n",
       "  </tbody>\n",
       "</table>\n",
       "</div>"
      ],
      "text/plain": [
       "     name                       text episode timestamp inaudible_speech  \\\n",
       "0  AABRIA  Let's start with Robbie.        1  00:00:00                    \n",
       "1  ROBBIE           I'm so excited!        1  00:00:18                    \n",
       "2  AABRIA                     Yeah!        1  00:00:24                    \n",
       "3  ROBBIE                     Whew!        1  00:00:26                    \n",
       "4  AABRIA                     Liam!        1  00:00:26                    \n",
       "\n",
       "  nonspeech season  \n",
       "0              EXU  \n",
       "1              EXU  \n",
       "2              EXU  \n",
       "3              EXU  \n",
       "4              EXU  "
      ]
     },
     "execution_count": 61,
     "metadata": {},
     "output_type": "execute_result"
    }
   ],
   "source": [
    "exu_df.head()"
   ]
  },
  {
   "cell_type": "markdown",
   "id": "a6bb31a5",
   "metadata": {},
   "source": [
    "This is considered fully treated. It's going to have to undergo some changes in order to be combined with the D20 data, but it's good as it is for now. I'm going to save it as-is and cross the bridge when I get to it"
   ]
  },
  {
   "cell_type": "code",
   "execution_count": 62,
   "id": "a95d5ae5",
   "metadata": {},
   "outputs": [],
   "source": [
    "#exu_df.to_pickle('../pickle_jar/EXU_split.pkl') "
   ]
  },
  {
   "cell_type": "markdown",
   "id": "6670eb4a",
   "metadata": {},
   "source": [
    "### Cleaning the D20 data\n",
    "\n",
    "Now, all of the other data I have for Aabria is from D20 and is in the same format, as we know from the last notebook where I built the dataframes for each season. Every df has variable, value (empty), episode, and season. I'm going to get them all in here, do some basic pre-treatment, concatenate them into one large D20 DF, and treat the full thing at once to get it all and split and ready to work on."
   ]
  },
  {
   "cell_type": "code",
   "execution_count": 63,
   "id": "b73ce83d",
   "metadata": {},
   "outputs": [
    {
     "data": {
      "text/html": [
       "<div>\n",
       "<style scoped>\n",
       "    .dataframe tbody tr th:only-of-type {\n",
       "        vertical-align: middle;\n",
       "    }\n",
       "\n",
       "    .dataframe tbody tr th {\n",
       "        vertical-align: top;\n",
       "    }\n",
       "\n",
       "    .dataframe thead th {\n",
       "        text-align: right;\n",
       "    }\n",
       "</style>\n",
       "<table border=\"1\" class=\"dataframe\">\n",
       "  <thead>\n",
       "    <tr style=\"text-align: right;\">\n",
       "      <th></th>\n",
       "      <th>index</th>\n",
       "      <th>variable</th>\n",
       "      <th>value</th>\n",
       "      <th>episode</th>\n",
       "      <th>season</th>\n",
       "    </tr>\n",
       "  </thead>\n",
       "  <tbody>\n",
       "    <tr>\n",
       "      <th>0</th>\n",
       "      <td>0</td>\n",
       "      <td>Dimension 20 Season 14</td>\n",
       "      <td>None</td>\n",
       "      <td>10</td>\n",
       "      <td>ACOFF</td>\n",
       "    </tr>\n",
       "    <tr>\n",
       "      <th>1</th>\n",
       "      <td>1</td>\n",
       "      <td>A Court of Fey &amp; Flowers</td>\n",
       "      <td>None</td>\n",
       "      <td>10</td>\n",
       "      <td>ACOFF</td>\n",
       "    </tr>\n",
       "    <tr>\n",
       "      <th>2</th>\n",
       "      <td>2</td>\n",
       "      <td>Starring: Aabria Iyengar as Game Master</td>\n",
       "      <td>None</td>\n",
       "      <td>10</td>\n",
       "      <td>ACOFF</td>\n",
       "    </tr>\n",
       "    <tr>\n",
       "      <th>3</th>\n",
       "      <td>3</td>\n",
       "      <td>Surena Marie as BINX Choppley; Oscar Montoya a...</td>\n",
       "      <td>None</td>\n",
       "      <td>10</td>\n",
       "      <td>ACOFF</td>\n",
       "    </tr>\n",
       "    <tr>\n",
       "      <th>4</th>\n",
       "      <td>4</td>\n",
       "      <td>Lou Wilson as Lord Squak Airavis; Emily Axford...</td>\n",
       "      <td>None</td>\n",
       "      <td>10</td>\n",
       "      <td>ACOFF</td>\n",
       "    </tr>\n",
       "    <tr>\n",
       "      <th>...</th>\n",
       "      <td>...</td>\n",
       "      <td>...</td>\n",
       "      <td>...</td>\n",
       "      <td>...</td>\n",
       "      <td>...</td>\n",
       "    </tr>\n",
       "    <tr>\n",
       "      <th>23021</th>\n",
       "      <td>1986</td>\n",
       "      <td>Lou: Of course.</td>\n",
       "      <td>None</td>\n",
       "      <td>9T</td>\n",
       "      <td>ACOFF</td>\n",
       "    </tr>\n",
       "    <tr>\n",
       "      <th>23022</th>\n",
       "      <td>1987</td>\n",
       "      <td>[Lou's lips smacking passionately]</td>\n",
       "      <td>None</td>\n",
       "      <td>9T</td>\n",
       "      <td>ACOFF</td>\n",
       "    </tr>\n",
       "    <tr>\n",
       "      <th>23023</th>\n",
       "      <td>1988</td>\n",
       "      <td>----------------------------------------------...</td>\n",
       "      <td>None</td>\n",
       "      <td>9T</td>\n",
       "      <td>ACOFF</td>\n",
       "    </tr>\n",
       "    <tr>\n",
       "      <th>23024</th>\n",
       "      <td>1989</td>\n",
       "      <td>Captions extracted by: Kyber Bonsai</td>\n",
       "      <td>None</td>\n",
       "      <td>9T</td>\n",
       "      <td>ACOFF</td>\n",
       "    </tr>\n",
       "    <tr>\n",
       "      <th>23025</th>\n",
       "      <td>1990</td>\n",
       "      <td>Edited by: OliverC, Iris (@sacredwhim)</td>\n",
       "      <td>None</td>\n",
       "      <td>9T</td>\n",
       "      <td>ACOFF</td>\n",
       "    </tr>\n",
       "  </tbody>\n",
       "</table>\n",
       "<p>23026 rows × 5 columns</p>\n",
       "</div>"
      ],
      "text/plain": [
       "       index                                           variable value episode  \\\n",
       "0          0                             Dimension 20 Season 14  None      10   \n",
       "1          1                           A Court of Fey & Flowers  None      10   \n",
       "2          2            Starring: Aabria Iyengar as Game Master  None      10   \n",
       "3          3  Surena Marie as BINX Choppley; Oscar Montoya a...  None      10   \n",
       "4          4  Lou Wilson as Lord Squak Airavis; Emily Axford...  None      10   \n",
       "...      ...                                                ...   ...     ...   \n",
       "23021   1986                                    Lou: Of course.  None      9T   \n",
       "23022   1987                 [Lou's lips smacking passionately]  None      9T   \n",
       "23023   1988  ----------------------------------------------...  None      9T   \n",
       "23024   1989                Captions extracted by: Kyber Bonsai  None      9T   \n",
       "23025   1990             Edited by: OliverC, Iris (@sacredwhim)  None      9T   \n",
       "\n",
       "      season  \n",
       "0      ACOFF  \n",
       "1      ACOFF  \n",
       "2      ACOFF  \n",
       "3      ACOFF  \n",
       "4      ACOFF  \n",
       "...      ...  \n",
       "23021  ACOFF  \n",
       "23022  ACOFF  \n",
       "23023  ACOFF  \n",
       "23024  ACOFF  \n",
       "23025  ACOFF  \n",
       "\n",
       "[23026 rows x 5 columns]"
      ]
     },
     "execution_count": 63,
     "metadata": {},
     "output_type": "execute_result"
    }
   ],
   "source": [
    "ACOFF = pd.read_pickle('../pickle_jar/ACOFF.pkl')\n",
    "ACOFF = ACOFF.reset_index()\n",
    "ACOFF"
   ]
  },
  {
   "cell_type": "code",
   "execution_count": 64,
   "id": "64435d01",
   "metadata": {},
   "outputs": [
    {
     "data": {
      "text/plain": [
       "0                                Dimension 20 Season 14\n",
       "1                              A Court of Fey & Flowers\n",
       "2               Starring: Aabria Iyengar as Game Master\n",
       "3     Surena Marie as BINX Choppley; Oscar Montoya a...\n",
       "4     Lou Wilson as Lord Squak Airavis; Emily Axford...\n",
       "5                                          Featherfowl;\n",
       "6     Brennan Lee Mulligan as Captain K.P. Hob; and ...\n",
       "7     Episode 10: You Will Never Know a Lonely Day A...\n",
       "8                                  < [Previous Episode]\n",
       "9                             [elegant classical music]\n",
       "10    Aabria: To the churlish Captain K.P. Hob, vene...\n",
       "Name: variable, dtype: object"
      ]
     },
     "execution_count": 64,
     "metadata": {},
     "output_type": "execute_result"
    }
   ],
   "source": [
    "ACOFF.variable[0:11]"
   ]
  },
  {
   "cell_type": "code",
   "execution_count": 65,
   "id": "3ba4236f",
   "metadata": {},
   "outputs": [],
   "source": [
    "meta = [0,1,2,3,4,5,6,7,8,9]"
   ]
  },
  {
   "cell_type": "code",
   "execution_count": 66,
   "id": "1b00110a",
   "metadata": {},
   "outputs": [
    {
     "data": {
      "text/html": [
       "<div>\n",
       "<style scoped>\n",
       "    .dataframe tbody tr th:only-of-type {\n",
       "        vertical-align: middle;\n",
       "    }\n",
       "\n",
       "    .dataframe tbody tr th {\n",
       "        vertical-align: top;\n",
       "    }\n",
       "\n",
       "    .dataframe thead th {\n",
       "        text-align: right;\n",
       "    }\n",
       "</style>\n",
       "<table border=\"1\" class=\"dataframe\">\n",
       "  <thead>\n",
       "    <tr style=\"text-align: right;\">\n",
       "      <th></th>\n",
       "      <th>index</th>\n",
       "      <th>variable</th>\n",
       "      <th>value</th>\n",
       "      <th>episode</th>\n",
       "      <th>season</th>\n",
       "    </tr>\n",
       "  </thead>\n",
       "  <tbody>\n",
       "    <tr>\n",
       "      <th>10</th>\n",
       "      <td>10</td>\n",
       "      <td>Aabria: To the churlish Captain K.P. Hob, vene...</td>\n",
       "      <td>None</td>\n",
       "      <td>10</td>\n",
       "      <td>ACOFF</td>\n",
       "    </tr>\n",
       "    <tr>\n",
       "      <th>11</th>\n",
       "      <td>11</td>\n",
       "      <td>Goblin Court. To the master of ceremonies, Del...</td>\n",
       "      <td>None</td>\n",
       "      <td>10</td>\n",
       "      <td>ACOFF</td>\n",
       "    </tr>\n",
       "    <tr>\n",
       "      <th>12</th>\n",
       "      <td>12</td>\n",
       "      <td>the Court of Wonder. To BINX Choppley, sole su...</td>\n",
       "      <td>None</td>\n",
       "      <td>10</td>\n",
       "      <td>ACOFF</td>\n",
       "    </tr>\n",
       "    <tr>\n",
       "      <th>13</th>\n",
       "      <td>13</td>\n",
       "      <td>Craft. To the tenebrous Prince Andhera, scion ...</td>\n",
       "      <td>None</td>\n",
       "      <td>10</td>\n",
       "      <td>ACOFF</td>\n",
       "    </tr>\n",
       "    <tr>\n",
       "      <th>14</th>\n",
       "      <td>14</td>\n",
       "      <td>to the notorious Lords of the Wing, Lady Chirp...</td>\n",
       "      <td>None</td>\n",
       "      <td>10</td>\n",
       "      <td>ACOFF</td>\n",
       "    </tr>\n",
       "  </tbody>\n",
       "</table>\n",
       "</div>"
      ],
      "text/plain": [
       "    index                                           variable value episode  \\\n",
       "10     10  Aabria: To the churlish Captain K.P. Hob, vene...  None      10   \n",
       "11     11  Goblin Court. To the master of ceremonies, Del...  None      10   \n",
       "12     12  the Court of Wonder. To BINX Choppley, sole su...  None      10   \n",
       "13     13  Craft. To the tenebrous Prince Andhera, scion ...  None      10   \n",
       "14     14  to the notorious Lords of the Wing, Lady Chirp...  None      10   \n",
       "\n",
       "   season  \n",
       "10  ACOFF  \n",
       "11  ACOFF  \n",
       "12  ACOFF  \n",
       "13  ACOFF  \n",
       "14  ACOFF  "
      ]
     },
     "execution_count": 66,
     "metadata": {},
     "output_type": "execute_result"
    }
   ],
   "source": [
    "ACOFF=ACOFF.drop(meta)   #get rid of those starting credits - those are from the site header data\n",
    "ACOFF.head()"
   ]
  },
  {
   "cell_type": "code",
   "execution_count": 67,
   "id": "d0aae7ed",
   "metadata": {
    "scrolled": true
   },
   "outputs": [
    {
     "data": {
      "text/html": [
       "<div>\n",
       "<style scoped>\n",
       "    .dataframe tbody tr th:only-of-type {\n",
       "        vertical-align: middle;\n",
       "    }\n",
       "\n",
       "    .dataframe tbody tr th {\n",
       "        vertical-align: top;\n",
       "    }\n",
       "\n",
       "    .dataframe thead th {\n",
       "        text-align: right;\n",
       "    }\n",
       "</style>\n",
       "<table border=\"1\" class=\"dataframe\">\n",
       "  <thead>\n",
       "    <tr style=\"text-align: right;\">\n",
       "      <th></th>\n",
       "      <th>index</th>\n",
       "      <th>variable</th>\n",
       "      <th>value</th>\n",
       "      <th>episode</th>\n",
       "      <th>season</th>\n",
       "    </tr>\n",
       "  </thead>\n",
       "  <tbody>\n",
       "    <tr>\n",
       "      <th>1313</th>\n",
       "      <td>1313</td>\n",
       "      <td>All: Hi-ya!</td>\n",
       "      <td>None</td>\n",
       "      <td>10</td>\n",
       "      <td>ACOFF</td>\n",
       "    </tr>\n",
       "    <tr>\n",
       "      <th>1314</th>\n",
       "      <td>1314</td>\n",
       "      <td>Aabria: Bye.</td>\n",
       "      <td>None</td>\n",
       "      <td>10</td>\n",
       "      <td>ACOFF</td>\n",
       "    </tr>\n",
       "    <tr>\n",
       "      <th>1315</th>\n",
       "      <td>1315</td>\n",
       "      <td>----------------------------------------------...</td>\n",
       "      <td>None</td>\n",
       "      <td>10</td>\n",
       "      <td>ACOFF</td>\n",
       "    </tr>\n",
       "    <tr>\n",
       "      <th>1316</th>\n",
       "      <td>1316</td>\n",
       "      <td>Captions extracted by: Kyber Bonsai</td>\n",
       "      <td>None</td>\n",
       "      <td>10</td>\n",
       "      <td>ACOFF</td>\n",
       "    </tr>\n",
       "    <tr>\n",
       "      <th>1317</th>\n",
       "      <td>1317</td>\n",
       "      <td>Edited by: jooloo, OliverC, Iris (@sacredwhim)</td>\n",
       "      <td>None</td>\n",
       "      <td>10</td>\n",
       "      <td>ACOFF</td>\n",
       "    </tr>\n",
       "  </tbody>\n",
       "</table>\n",
       "</div>"
      ],
      "text/plain": [
       "      index                                           variable value episode  \\\n",
       "1313   1313                                        All: Hi-ya!  None      10   \n",
       "1314   1314                                       Aabria: Bye.  None      10   \n",
       "1315   1315  ----------------------------------------------...  None      10   \n",
       "1316   1316                Captions extracted by: Kyber Bonsai  None      10   \n",
       "1317   1317     Edited by: jooloo, OliverC, Iris (@sacredwhim)  None      10   \n",
       "\n",
       "     season  \n",
       "1313  ACOFF  \n",
       "1314  ACOFF  \n",
       "1315  ACOFF  \n",
       "1316  ACOFF  \n",
       "1317  ACOFF  "
      ]
     },
     "execution_count": 67,
     "metadata": {},
     "output_type": "execute_result"
    }
   ],
   "source": [
    "ACOFF[ACOFF['episode']=='10'][-5:]"
   ]
  },
  {
   "cell_type": "markdown",
   "id": "18849127",
   "metadata": {},
   "source": [
    "Now per the D20 data license agreement I have to list credit to the editors, so I\"m saving this information for my licensing .md file but erasing it from the df since (again) it's not speech.\n",
    "\n",
    "Captions extracted by: Kyber Bonsai<br>\n",
    "Edited by: jooloo, OliverC, Iris (@sacredwhim)\n",
    "\n",
    "rinse and repeat for the other 9 episodes. I'd find a better way to do this if there were more episodes, but since there are really so few I'll just scan one by one and mark down all of the indexes to get rid of in one go"
   ]
  },
  {
   "cell_type": "code",
   "execution_count": 68,
   "id": "fc7ec167",
   "metadata": {},
   "outputs": [],
   "source": [
    "credit = [1315,1316,1317]\n",
    "ACOFF=ACOFF.drop(credit) "
   ]
  },
  {
   "cell_type": "markdown",
   "id": "b4f4cf3d",
   "metadata": {},
   "source": [
    "first we have to fix those episode numbers"
   ]
  },
  {
   "cell_type": "code",
   "execution_count": 69,
   "id": "4bd3da35",
   "metadata": {},
   "outputs": [
    {
     "data": {
      "text/html": [
       "<div>\n",
       "<style scoped>\n",
       "    .dataframe tbody tr th:only-of-type {\n",
       "        vertical-align: middle;\n",
       "    }\n",
       "\n",
       "    .dataframe tbody tr th {\n",
       "        vertical-align: top;\n",
       "    }\n",
       "\n",
       "    .dataframe thead th {\n",
       "        text-align: right;\n",
       "    }\n",
       "</style>\n",
       "<table border=\"1\" class=\"dataframe\">\n",
       "  <thead>\n",
       "    <tr style=\"text-align: right;\">\n",
       "      <th></th>\n",
       "      <th>index</th>\n",
       "      <th>variable</th>\n",
       "      <th>value</th>\n",
       "      <th>episode</th>\n",
       "      <th>season</th>\n",
       "    </tr>\n",
       "  </thead>\n",
       "  <tbody>\n",
       "    <tr>\n",
       "      <th>10</th>\n",
       "      <td>10</td>\n",
       "      <td>Aabria: To the churlish Captain K.P. Hob, vene...</td>\n",
       "      <td>None</td>\n",
       "      <td>10</td>\n",
       "      <td>ACOFF</td>\n",
       "    </tr>\n",
       "    <tr>\n",
       "      <th>11</th>\n",
       "      <td>11</td>\n",
       "      <td>Goblin Court. To the master of ceremonies, Del...</td>\n",
       "      <td>None</td>\n",
       "      <td>10</td>\n",
       "      <td>ACOFF</td>\n",
       "    </tr>\n",
       "    <tr>\n",
       "      <th>12</th>\n",
       "      <td>12</td>\n",
       "      <td>the Court of Wonder. To BINX Choppley, sole su...</td>\n",
       "      <td>None</td>\n",
       "      <td>10</td>\n",
       "      <td>ACOFF</td>\n",
       "    </tr>\n",
       "    <tr>\n",
       "      <th>13</th>\n",
       "      <td>13</td>\n",
       "      <td>Craft. To the tenebrous Prince Andhera, scion ...</td>\n",
       "      <td>None</td>\n",
       "      <td>10</td>\n",
       "      <td>ACOFF</td>\n",
       "    </tr>\n",
       "    <tr>\n",
       "      <th>14</th>\n",
       "      <td>14</td>\n",
       "      <td>to the notorious Lords of the Wing, Lady Chirp...</td>\n",
       "      <td>None</td>\n",
       "      <td>10</td>\n",
       "      <td>ACOFF</td>\n",
       "    </tr>\n",
       "    <tr>\n",
       "      <th>...</th>\n",
       "      <td>...</td>\n",
       "      <td>...</td>\n",
       "      <td>...</td>\n",
       "      <td>...</td>\n",
       "      <td>...</td>\n",
       "    </tr>\n",
       "    <tr>\n",
       "      <th>23021</th>\n",
       "      <td>1986</td>\n",
       "      <td>Lou: Of course.</td>\n",
       "      <td>None</td>\n",
       "      <td>9T</td>\n",
       "      <td>ACOFF</td>\n",
       "    </tr>\n",
       "    <tr>\n",
       "      <th>23022</th>\n",
       "      <td>1987</td>\n",
       "      <td>[Lou's lips smacking passionately]</td>\n",
       "      <td>None</td>\n",
       "      <td>9T</td>\n",
       "      <td>ACOFF</td>\n",
       "    </tr>\n",
       "    <tr>\n",
       "      <th>23023</th>\n",
       "      <td>1988</td>\n",
       "      <td>----------------------------------------------...</td>\n",
       "      <td>None</td>\n",
       "      <td>9T</td>\n",
       "      <td>ACOFF</td>\n",
       "    </tr>\n",
       "    <tr>\n",
       "      <th>23024</th>\n",
       "      <td>1989</td>\n",
       "      <td>Captions extracted by: Kyber Bonsai</td>\n",
       "      <td>None</td>\n",
       "      <td>9T</td>\n",
       "      <td>ACOFF</td>\n",
       "    </tr>\n",
       "    <tr>\n",
       "      <th>23025</th>\n",
       "      <td>1990</td>\n",
       "      <td>Edited by: OliverC, Iris (@sacredwhim)</td>\n",
       "      <td>None</td>\n",
       "      <td>9T</td>\n",
       "      <td>ACOFF</td>\n",
       "    </tr>\n",
       "  </tbody>\n",
       "</table>\n",
       "<p>23013 rows × 5 columns</p>\n",
       "</div>"
      ],
      "text/plain": [
       "       index                                           variable value episode  \\\n",
       "10        10  Aabria: To the churlish Captain K.P. Hob, vene...  None      10   \n",
       "11        11  Goblin Court. To the master of ceremonies, Del...  None      10   \n",
       "12        12  the Court of Wonder. To BINX Choppley, sole su...  None      10   \n",
       "13        13  Craft. To the tenebrous Prince Andhera, scion ...  None      10   \n",
       "14        14  to the notorious Lords of the Wing, Lady Chirp...  None      10   \n",
       "...      ...                                                ...   ...     ...   \n",
       "23021   1986                                    Lou: Of course.  None      9T   \n",
       "23022   1987                 [Lou's lips smacking passionately]  None      9T   \n",
       "23023   1988  ----------------------------------------------...  None      9T   \n",
       "23024   1989                Captions extracted by: Kyber Bonsai  None      9T   \n",
       "23025   1990             Edited by: OliverC, Iris (@sacredwhim)  None      9T   \n",
       "\n",
       "      season  \n",
       "10     ACOFF  \n",
       "11     ACOFF  \n",
       "12     ACOFF  \n",
       "13     ACOFF  \n",
       "14     ACOFF  \n",
       "...      ...  \n",
       "23021  ACOFF  \n",
       "23022  ACOFF  \n",
       "23023  ACOFF  \n",
       "23024  ACOFF  \n",
       "23025  ACOFF  \n",
       "\n",
       "[23013 rows x 5 columns]"
      ]
     },
     "execution_count": 69,
     "metadata": {},
     "output_type": "execute_result"
    }
   ],
   "source": [
    "ACOFF[ACOFF['episode'].str.contains(r'\\d\\w')]"
   ]
  },
  {
   "cell_type": "code",
   "execution_count": 70,
   "id": "44fa88a8",
   "metadata": {},
   "outputs": [
    {
     "data": {
      "text/plain": [
       "3     2913\n",
       "7     2855\n",
       "2     2842\n",
       "8     2542\n",
       "5     2430\n",
       "6     2368\n",
       "9     1991\n",
       "1     1896\n",
       "4     1871\n",
       "10    1305\n",
       "Name: episode, dtype: int64"
      ]
     },
     "execution_count": 70,
     "metadata": {},
     "output_type": "execute_result"
    }
   ],
   "source": [
    "ACOFF['episode'] = ACOFF['episode'].str.replace(r'^(\\d+)\\w*$', r'\\1', regex=True).astype('str')\n",
    "ACOFF['episode'].value_counts()"
   ]
  },
  {
   "cell_type": "markdown",
   "id": "4d8410ab",
   "metadata": {},
   "source": [
    "For the sake of efficiency I'm indexing to the start and end of each episde in the cell below rather than make 200 cells going 1 by 1. Compile all the start meta index values, all the end credit ones, and save all of the "
   ]
  },
  {
   "cell_type": "code",
   "execution_count": 71,
   "id": "7cf1594d",
   "metadata": {
    "scrolled": true
   },
   "outputs": [
    {
     "data": {
      "text/html": [
       "<div>\n",
       "<style scoped>\n",
       "    .dataframe tbody tr th:only-of-type {\n",
       "        vertical-align: middle;\n",
       "    }\n",
       "\n",
       "    .dataframe tbody tr th {\n",
       "        vertical-align: top;\n",
       "    }\n",
       "\n",
       "    .dataframe thead th {\n",
       "        text-align: right;\n",
       "    }\n",
       "</style>\n",
       "<table border=\"1\" class=\"dataframe\">\n",
       "  <thead>\n",
       "    <tr style=\"text-align: right;\">\n",
       "      <th></th>\n",
       "      <th>index</th>\n",
       "      <th>variable</th>\n",
       "      <th>value</th>\n",
       "      <th>episode</th>\n",
       "      <th>season</th>\n",
       "    </tr>\n",
       "  </thead>\n",
       "  <tbody>\n",
       "    <tr>\n",
       "      <th>23021</th>\n",
       "      <td>1986</td>\n",
       "      <td>Lou: Of course.</td>\n",
       "      <td>None</td>\n",
       "      <td>9</td>\n",
       "      <td>ACOFF</td>\n",
       "    </tr>\n",
       "    <tr>\n",
       "      <th>23022</th>\n",
       "      <td>1987</td>\n",
       "      <td>[Lou's lips smacking passionately]</td>\n",
       "      <td>None</td>\n",
       "      <td>9</td>\n",
       "      <td>ACOFF</td>\n",
       "    </tr>\n",
       "    <tr>\n",
       "      <th>23023</th>\n",
       "      <td>1988</td>\n",
       "      <td>----------------------------------------------...</td>\n",
       "      <td>None</td>\n",
       "      <td>9</td>\n",
       "      <td>ACOFF</td>\n",
       "    </tr>\n",
       "    <tr>\n",
       "      <th>23024</th>\n",
       "      <td>1989</td>\n",
       "      <td>Captions extracted by: Kyber Bonsai</td>\n",
       "      <td>None</td>\n",
       "      <td>9</td>\n",
       "      <td>ACOFF</td>\n",
       "    </tr>\n",
       "    <tr>\n",
       "      <th>23025</th>\n",
       "      <td>1990</td>\n",
       "      <td>Edited by: OliverC, Iris (@sacredwhim)</td>\n",
       "      <td>None</td>\n",
       "      <td>9</td>\n",
       "      <td>ACOFF</td>\n",
       "    </tr>\n",
       "  </tbody>\n",
       "</table>\n",
       "</div>"
      ],
      "text/plain": [
       "       index                                           variable value episode  \\\n",
       "23021   1986                                    Lou: Of course.  None       9   \n",
       "23022   1987                 [Lou's lips smacking passionately]  None       9   \n",
       "23023   1988  ----------------------------------------------...  None       9   \n",
       "23024   1989                Captions extracted by: Kyber Bonsai  None       9   \n",
       "23025   1990             Edited by: OliverC, Iris (@sacredwhim)  None       9   \n",
       "\n",
       "      season  \n",
       "23021  ACOFF  \n",
       "23022  ACOFF  \n",
       "23023  ACOFF  \n",
       "23024  ACOFF  \n",
       "23025  ACOFF  "
      ]
     },
     "execution_count": 71,
     "metadata": {},
     "output_type": "execute_result"
    }
   ],
   "source": [
    "ACOFF[ACOFF['episode']=='9'][-5:]"
   ]
  },
  {
   "cell_type": "code",
   "execution_count": 72,
   "id": "18dd8e1c",
   "metadata": {},
   "outputs": [],
   "source": [
    "meta = [1318,1319,1320,1321,1322,1323,1324,1325,1326,1327,1328,3214,3215,3216,3217,3218,3219,3220,3221,3222,3223,3224,6056,6057,6058,6059,6060,6061,6062,6063,6064,6065,6066,8969,8970,8971,8972,8973,8974,8975,8976,8977,8978,8979,10840,10841,10842,10843,10844,10845,10846,10847,10848,10849,10850,13270,13271,13272,13273,13274,13275,13276,13277,13278,13279,15638,15639,15640,15641,15642,15643,15644,15645,15646,15647,18493,18494,18495,18496,18497,18498,18499,18500,18501,18502,21035,21036,21037,21038,21039,21040,21041,21041,21042,21043,21044]"
   ]
  },
  {
   "cell_type": "code",
   "execution_count": 73,
   "id": "00549227",
   "metadata": {},
   "outputs": [],
   "source": [
    "credit = [1988,1989,1990,3211,3212,3213,6053,6054,6055,8966,8967,8968,10837,10838,10839,13267,13268,13269,15635,15636,15637,18490,18491,18492,21032,21033,21034,23023,23024,23025]"
   ]
  },
  {
   "cell_type": "code",
   "execution_count": 74,
   "id": "7d9ebfdc",
   "metadata": {},
   "outputs": [],
   "source": [
    "ACOFF=ACOFF.drop(meta) "
   ]
  },
  {
   "cell_type": "code",
   "execution_count": 75,
   "id": "91b593c0",
   "metadata": {},
   "outputs": [],
   "source": [
    "ACOFF=ACOFF.drop(credit) "
   ]
  },
  {
   "cell_type": "markdown",
   "id": "ced1fb08",
   "metadata": {},
   "source": [
    "Captions extracted by: gluegunshots\n",
    "Tish (Tish#3276), Iris (@sacredwhim)\n",
    "\n",
    "Captions extracted by: Kyber Bonsai\n",
    "Edited by: OliverC\n",
    "\n",
    "krsp"
   ]
  },
  {
   "cell_type": "code",
   "execution_count": 76,
   "id": "a573a43d",
   "metadata": {},
   "outputs": [
    {
     "data": {
      "text/html": [
       "<div>\n",
       "<style scoped>\n",
       "    .dataframe tbody tr th:only-of-type {\n",
       "        vertical-align: middle;\n",
       "    }\n",
       "\n",
       "    .dataframe tbody tr th {\n",
       "        vertical-align: top;\n",
       "    }\n",
       "\n",
       "    .dataframe thead th {\n",
       "        text-align: right;\n",
       "    }\n",
       "</style>\n",
       "<table border=\"1\" class=\"dataframe\">\n",
       "  <thead>\n",
       "    <tr style=\"text-align: right;\">\n",
       "      <th></th>\n",
       "      <th>index</th>\n",
       "      <th>variable</th>\n",
       "      <th>value</th>\n",
       "      <th>episode</th>\n",
       "      <th>season</th>\n",
       "    </tr>\n",
       "  </thead>\n",
       "  <tbody>\n",
       "    <tr>\n",
       "      <th>10</th>\n",
       "      <td>10</td>\n",
       "      <td>Aabria: To the churlish Captain K.P. Hob, vene...</td>\n",
       "      <td>None</td>\n",
       "      <td>10</td>\n",
       "      <td>ACOFF</td>\n",
       "    </tr>\n",
       "    <tr>\n",
       "      <th>11</th>\n",
       "      <td>11</td>\n",
       "      <td>Goblin Court. To the master of ceremonies, Del...</td>\n",
       "      <td>None</td>\n",
       "      <td>10</td>\n",
       "      <td>ACOFF</td>\n",
       "    </tr>\n",
       "    <tr>\n",
       "      <th>12</th>\n",
       "      <td>12</td>\n",
       "      <td>the Court of Wonder. To BINX Choppley, sole su...</td>\n",
       "      <td>None</td>\n",
       "      <td>10</td>\n",
       "      <td>ACOFF</td>\n",
       "    </tr>\n",
       "    <tr>\n",
       "      <th>13</th>\n",
       "      <td>13</td>\n",
       "      <td>Craft. To the tenebrous Prince Andhera, scion ...</td>\n",
       "      <td>None</td>\n",
       "      <td>10</td>\n",
       "      <td>ACOFF</td>\n",
       "    </tr>\n",
       "    <tr>\n",
       "      <th>14</th>\n",
       "      <td>14</td>\n",
       "      <td>to the notorious Lords of the Wing, Lady Chirp...</td>\n",
       "      <td>None</td>\n",
       "      <td>10</td>\n",
       "      <td>ACOFF</td>\n",
       "    </tr>\n",
       "    <tr>\n",
       "      <th>...</th>\n",
       "      <td>...</td>\n",
       "      <td>...</td>\n",
       "      <td>...</td>\n",
       "      <td>...</td>\n",
       "      <td>...</td>\n",
       "    </tr>\n",
       "    <tr>\n",
       "      <th>23018</th>\n",
       "      <td>1983</td>\n",
       "      <td>us. Are you ready?</td>\n",
       "      <td>None</td>\n",
       "      <td>9</td>\n",
       "      <td>ACOFF</td>\n",
       "    </tr>\n",
       "    <tr>\n",
       "      <th>23019</th>\n",
       "      <td>1984</td>\n",
       "      <td>Squak: Yeah, yeah.</td>\n",
       "      <td>None</td>\n",
       "      <td>9</td>\n",
       "      <td>ACOFF</td>\n",
       "    </tr>\n",
       "    <tr>\n",
       "      <th>23020</th>\n",
       "      <td>1985</td>\n",
       "      <td>Emily: Can I hear the sound effects that we hear?</td>\n",
       "      <td>None</td>\n",
       "      <td>9</td>\n",
       "      <td>ACOFF</td>\n",
       "    </tr>\n",
       "    <tr>\n",
       "      <th>23021</th>\n",
       "      <td>1986</td>\n",
       "      <td>Lou: Of course.</td>\n",
       "      <td>None</td>\n",
       "      <td>9</td>\n",
       "      <td>ACOFF</td>\n",
       "    </tr>\n",
       "    <tr>\n",
       "      <th>23022</th>\n",
       "      <td>1987</td>\n",
       "      <td>[Lou's lips smacking passionately]</td>\n",
       "      <td>None</td>\n",
       "      <td>9</td>\n",
       "      <td>ACOFF</td>\n",
       "    </tr>\n",
       "  </tbody>\n",
       "</table>\n",
       "<p>22888 rows × 5 columns</p>\n",
       "</div>"
      ],
      "text/plain": [
       "       index                                           variable value episode  \\\n",
       "10        10  Aabria: To the churlish Captain K.P. Hob, vene...  None      10   \n",
       "11        11  Goblin Court. To the master of ceremonies, Del...  None      10   \n",
       "12        12  the Court of Wonder. To BINX Choppley, sole su...  None      10   \n",
       "13        13  Craft. To the tenebrous Prince Andhera, scion ...  None      10   \n",
       "14        14  to the notorious Lords of the Wing, Lady Chirp...  None      10   \n",
       "...      ...                                                ...   ...     ...   \n",
       "23018   1983                                 us. Are you ready?  None       9   \n",
       "23019   1984                                 Squak: Yeah, yeah.  None       9   \n",
       "23020   1985  Emily: Can I hear the sound effects that we hear?  None       9   \n",
       "23021   1986                                    Lou: Of course.  None       9   \n",
       "23022   1987                 [Lou's lips smacking passionately]  None       9   \n",
       "\n",
       "      season  \n",
       "10     ACOFF  \n",
       "11     ACOFF  \n",
       "12     ACOFF  \n",
       "13     ACOFF  \n",
       "14     ACOFF  \n",
       "...      ...  \n",
       "23018  ACOFF  \n",
       "23019  ACOFF  \n",
       "23020  ACOFF  \n",
       "23021  ACOFF  \n",
       "23022  ACOFF  \n",
       "\n",
       "[22888 rows x 5 columns]"
      ]
     },
     "execution_count": 76,
     "metadata": {},
     "output_type": "execute_result"
    }
   ],
   "source": [
    "ACOFF"
   ]
  },
  {
   "cell_type": "markdown",
   "id": "50190250",
   "metadata": {},
   "source": [
    "We're in a good place! Now just do exactly that again with all of the other seasons of the show"
   ]
  },
  {
   "cell_type": "code",
   "execution_count": 77,
   "id": "a9edf38e",
   "metadata": {},
   "outputs": [
    {
     "data": {
      "text/html": [
       "<div>\n",
       "<style scoped>\n",
       "    .dataframe tbody tr th:only-of-type {\n",
       "        vertical-align: middle;\n",
       "    }\n",
       "\n",
       "    .dataframe tbody tr th {\n",
       "        vertical-align: top;\n",
       "    }\n",
       "\n",
       "    .dataframe thead th {\n",
       "        text-align: right;\n",
       "    }\n",
       "</style>\n",
       "<table border=\"1\" class=\"dataframe\">\n",
       "  <thead>\n",
       "    <tr style=\"text-align: right;\">\n",
       "      <th></th>\n",
       "      <th>index</th>\n",
       "      <th>variable</th>\n",
       "      <th>value</th>\n",
       "      <th>episode</th>\n",
       "      <th>season</th>\n",
       "    </tr>\n",
       "  </thead>\n",
       "  <tbody>\n",
       "    <tr>\n",
       "      <th>0</th>\n",
       "      <td>0</td>\n",
       "      <td>Dimension 20</td>\n",
       "      <td>None</td>\n",
       "      <td>10</td>\n",
       "      <td>ACOFF AP</td>\n",
       "    </tr>\n",
       "    <tr>\n",
       "      <th>1</th>\n",
       "      <td>1</td>\n",
       "      <td>Adventuring Party</td>\n",
       "      <td>None</td>\n",
       "      <td>10</td>\n",
       "      <td>ACOFF AP</td>\n",
       "    </tr>\n",
       "    <tr>\n",
       "      <th>2</th>\n",
       "      <td>2</td>\n",
       "      <td></td>\n",
       "      <td>None</td>\n",
       "      <td>10</td>\n",
       "      <td>ACOFF AP</td>\n",
       "    </tr>\n",
       "    <tr>\n",
       "      <th>3</th>\n",
       "      <td>3</td>\n",
       "      <td>Schrödinger’s Canon</td>\n",
       "      <td>None</td>\n",
       "      <td>10</td>\n",
       "      <td>ACOFF AP</td>\n",
       "    </tr>\n",
       "    <tr>\n",
       "      <th>4</th>\n",
       "      <td>4</td>\n",
       "      <td>Season 10 Episode 10</td>\n",
       "      <td>None</td>\n",
       "      <td>10</td>\n",
       "      <td>ACOFF AP</td>\n",
       "    </tr>\n",
       "    <tr>\n",
       "      <th>...</th>\n",
       "      <td>...</td>\n",
       "      <td>...</td>\n",
       "      <td>...</td>\n",
       "      <td>...</td>\n",
       "      <td>...</td>\n",
       "    </tr>\n",
       "    <tr>\n",
       "      <th>6941</th>\n",
       "      <td>519</td>\n",
       "      <td>Surena: Bye!</td>\n",
       "      <td>None</td>\n",
       "      <td>9D</td>\n",
       "      <td>ACOFF AP</td>\n",
       "    </tr>\n",
       "    <tr>\n",
       "      <th>6942</th>\n",
       "      <td>520</td>\n",
       "      <td>Brennan: Bye!</td>\n",
       "      <td>None</td>\n",
       "      <td>9D</td>\n",
       "      <td>ACOFF AP</td>\n",
       "    </tr>\n",
       "    <tr>\n",
       "      <th>6943</th>\n",
       "      <td>521</td>\n",
       "      <td>----------------------------------------------...</td>\n",
       "      <td>None</td>\n",
       "      <td>9D</td>\n",
       "      <td>ACOFF AP</td>\n",
       "    </tr>\n",
       "    <tr>\n",
       "      <th>6944</th>\n",
       "      <td>522</td>\n",
       "      <td>Captions extracted by: OliverC</td>\n",
       "      <td>None</td>\n",
       "      <td>9D</td>\n",
       "      <td>ACOFF AP</td>\n",
       "    </tr>\n",
       "    <tr>\n",
       "      <th>6945</th>\n",
       "      <td>523</td>\n",
       "      <td>Edited by: OliverC</td>\n",
       "      <td>None</td>\n",
       "      <td>9D</td>\n",
       "      <td>ACOFF AP</td>\n",
       "    </tr>\n",
       "  </tbody>\n",
       "</table>\n",
       "<p>6946 rows × 5 columns</p>\n",
       "</div>"
      ],
      "text/plain": [
       "      index                                           variable value episode  \\\n",
       "0         0                                       Dimension 20  None      10   \n",
       "1         1                                  Adventuring Party  None      10   \n",
       "2         2                                                     None      10   \n",
       "3         3                                Schrödinger’s Canon  None      10   \n",
       "4         4                               Season 10 Episode 10  None      10   \n",
       "...     ...                                                ...   ...     ...   \n",
       "6941    519                                       Surena: Bye!  None      9D   \n",
       "6942    520                                      Brennan: Bye!  None      9D   \n",
       "6943    521  ----------------------------------------------...  None      9D   \n",
       "6944    522                     Captions extracted by: OliverC  None      9D   \n",
       "6945    523                                 Edited by: OliverC  None      9D   \n",
       "\n",
       "        season  \n",
       "0     ACOFF AP  \n",
       "1     ACOFF AP  \n",
       "2     ACOFF AP  \n",
       "3     ACOFF AP  \n",
       "4     ACOFF AP  \n",
       "...        ...  \n",
       "6941  ACOFF AP  \n",
       "6942  ACOFF AP  \n",
       "6943  ACOFF AP  \n",
       "6944  ACOFF AP  \n",
       "6945  ACOFF AP  \n",
       "\n",
       "[6946 rows x 5 columns]"
      ]
     },
     "execution_count": 77,
     "metadata": {},
     "output_type": "execute_result"
    }
   ],
   "source": [
    "ACOFF_AP = pd.read_pickle('../pickle_jar/ACOFF_AP.pkl')\n",
    "ACOFF_AP = ACOFF_AP.reset_index()\n",
    "ACOFF_AP"
   ]
  },
  {
   "cell_type": "code",
   "execution_count": 78,
   "id": "dbfe55cc",
   "metadata": {},
   "outputs": [
    {
     "data": {
      "text/plain": [
       "11    836\n",
       "10    814\n",
       "1     807\n",
       "3     678\n",
       "7     627\n",
       "8     605\n",
       "2     591\n",
       "6     531\n",
       "9     524\n",
       "4     482\n",
       "5     451\n",
       "Name: episode, dtype: int64"
      ]
     },
     "execution_count": 78,
     "metadata": {},
     "output_type": "execute_result"
    }
   ],
   "source": [
    "ACOFF_AP['episode'] = ACOFF_AP['episode'].str.replace(r'^(\\d+)\\w*$', r'\\1', regex=True).astype('str')\n",
    "ACOFF_AP['episode'].value_counts()"
   ]
  },
  {
   "cell_type": "code",
   "execution_count": 79,
   "id": "44606faa",
   "metadata": {},
   "outputs": [
    {
     "data": {
      "text/html": [
       "<div>\n",
       "<style scoped>\n",
       "    .dataframe tbody tr th:only-of-type {\n",
       "        vertical-align: middle;\n",
       "    }\n",
       "\n",
       "    .dataframe tbody tr th {\n",
       "        vertical-align: top;\n",
       "    }\n",
       "\n",
       "    .dataframe thead th {\n",
       "        text-align: right;\n",
       "    }\n",
       "</style>\n",
       "<table border=\"1\" class=\"dataframe\">\n",
       "  <thead>\n",
       "    <tr style=\"text-align: right;\">\n",
       "      <th></th>\n",
       "      <th>index</th>\n",
       "      <th>variable</th>\n",
       "      <th>value</th>\n",
       "      <th>episode</th>\n",
       "      <th>season</th>\n",
       "    </tr>\n",
       "  </thead>\n",
       "  <tbody>\n",
       "    <tr>\n",
       "      <th>6941</th>\n",
       "      <td>519</td>\n",
       "      <td>Surena: Bye!</td>\n",
       "      <td>None</td>\n",
       "      <td>9</td>\n",
       "      <td>ACOFF AP</td>\n",
       "    </tr>\n",
       "    <tr>\n",
       "      <th>6942</th>\n",
       "      <td>520</td>\n",
       "      <td>Brennan: Bye!</td>\n",
       "      <td>None</td>\n",
       "      <td>9</td>\n",
       "      <td>ACOFF AP</td>\n",
       "    </tr>\n",
       "    <tr>\n",
       "      <th>6943</th>\n",
       "      <td>521</td>\n",
       "      <td>----------------------------------------------...</td>\n",
       "      <td>None</td>\n",
       "      <td>9</td>\n",
       "      <td>ACOFF AP</td>\n",
       "    </tr>\n",
       "    <tr>\n",
       "      <th>6944</th>\n",
       "      <td>522</td>\n",
       "      <td>Captions extracted by: OliverC</td>\n",
       "      <td>None</td>\n",
       "      <td>9</td>\n",
       "      <td>ACOFF AP</td>\n",
       "    </tr>\n",
       "    <tr>\n",
       "      <th>6945</th>\n",
       "      <td>523</td>\n",
       "      <td>Edited by: OliverC</td>\n",
       "      <td>None</td>\n",
       "      <td>9</td>\n",
       "      <td>ACOFF AP</td>\n",
       "    </tr>\n",
       "  </tbody>\n",
       "</table>\n",
       "</div>"
      ],
      "text/plain": [
       "      index                                           variable value episode  \\\n",
       "6941    519                                       Surena: Bye!  None       9   \n",
       "6942    520                                      Brennan: Bye!  None       9   \n",
       "6943    521  ----------------------------------------------...  None       9   \n",
       "6944    522                     Captions extracted by: OliverC  None       9   \n",
       "6945    523                                 Edited by: OliverC  None       9   \n",
       "\n",
       "        season  \n",
       "6941  ACOFF AP  \n",
       "6942  ACOFF AP  \n",
       "6943  ACOFF AP  \n",
       "6944  ACOFF AP  \n",
       "6945  ACOFF AP  "
      ]
     },
     "execution_count": 79,
     "metadata": {},
     "output_type": "execute_result"
    }
   ],
   "source": [
    "ACOFF_AP[ACOFF_AP['episode']=='9'][-5:]"
   ]
  },
  {
   "cell_type": "code",
   "execution_count": 80,
   "id": "5fda0a50",
   "metadata": {},
   "outputs": [],
   "source": [
    "meta2 = [0,1,2,3,4,5,814,815,816,817,818,819,1650,1651,1652,1653,1654,1655,2457,2458,2459,2460,2461,2462,3048,3049,3050,3051,3052,3052,3053,3726,3727,3728,3729,3730,3731,3726,3727,3728,3729,3730,3731,4208,4209,4210,4211,4212,4213,4659,4660,4661,4662,4663,4664,5190,5191,5192,5193,5194,5195,5817,5818,5819,5820,5821,5822,6422,6423,6424,6425,6426,6427]"
   ]
  },
  {
   "cell_type": "code",
   "execution_count": 81,
   "id": "e616dbb2",
   "metadata": {},
   "outputs": [],
   "source": [
    "credit2=[811,812,813,2454,2455,2456,3045,3046,3047,3723,3724,3725,4205,4206,4207,4656,4657,4658,5188,5189,5814,5815,5816,6419,6420,6421,6943,6944,6945]"
   ]
  },
  {
   "cell_type": "code",
   "execution_count": 82,
   "id": "a1c4d22c",
   "metadata": {},
   "outputs": [],
   "source": [
    "ACOFF_AP=ACOFF_AP.drop(meta2) "
   ]
  },
  {
   "cell_type": "code",
   "execution_count": 83,
   "id": "6bec5b20",
   "metadata": {},
   "outputs": [],
   "source": [
    "ACOFF_AP=ACOFF_AP.drop(credit2) "
   ]
  },
  {
   "cell_type": "code",
   "execution_count": 84,
   "id": "56f329ba",
   "metadata": {},
   "outputs": [
    {
     "data": {
      "text/html": [
       "<div>\n",
       "<style scoped>\n",
       "    .dataframe tbody tr th:only-of-type {\n",
       "        vertical-align: middle;\n",
       "    }\n",
       "\n",
       "    .dataframe tbody tr th {\n",
       "        vertical-align: top;\n",
       "    }\n",
       "\n",
       "    .dataframe thead th {\n",
       "        text-align: right;\n",
       "    }\n",
       "</style>\n",
       "<table border=\"1\" class=\"dataframe\">\n",
       "  <thead>\n",
       "    <tr style=\"text-align: right;\">\n",
       "      <th></th>\n",
       "      <th>index</th>\n",
       "      <th>variable</th>\n",
       "      <th>value</th>\n",
       "      <th>episode</th>\n",
       "      <th>season</th>\n",
       "    </tr>\n",
       "  </thead>\n",
       "  <tbody>\n",
       "    <tr>\n",
       "      <th>6</th>\n",
       "      <td>6</td>\n",
       "      <td>Aabria: Hello, my pack of pixies, and welcome ...</td>\n",
       "      <td>None</td>\n",
       "      <td>10</td>\n",
       "      <td>ACOFF AP</td>\n",
       "    </tr>\n",
       "    <tr>\n",
       "      <th>7</th>\n",
       "      <td>7</td>\n",
       "      <td>Party for A Court of Fey &amp; Flowers. We did it....</td>\n",
       "      <td>None</td>\n",
       "      <td>10</td>\n",
       "      <td>ACOFF AP</td>\n",
       "    </tr>\n",
       "    <tr>\n",
       "      <th>8</th>\n",
       "      <td>8</td>\n",
       "      <td>Surena: We're ghosts. All of us are ghosts.</td>\n",
       "      <td>None</td>\n",
       "      <td>10</td>\n",
       "      <td>ACOFF AP</td>\n",
       "    </tr>\n",
       "    <tr>\n",
       "      <th>9</th>\n",
       "      <td>9</td>\n",
       "      <td>Oscar: We're all ghosts.</td>\n",
       "      <td>None</td>\n",
       "      <td>10</td>\n",
       "      <td>ACOFF AP</td>\n",
       "    </tr>\n",
       "    <tr>\n",
       "      <th>10</th>\n",
       "      <td>10</td>\n",
       "      <td>Aabria: Everyone's dead, and everyone's a ghos...</td>\n",
       "      <td>None</td>\n",
       "      <td>10</td>\n",
       "      <td>ACOFF AP</td>\n",
       "    </tr>\n",
       "    <tr>\n",
       "      <th>...</th>\n",
       "      <td>...</td>\n",
       "      <td>...</td>\n",
       "      <td>...</td>\n",
       "      <td>...</td>\n",
       "      <td>...</td>\n",
       "    </tr>\n",
       "    <tr>\n",
       "      <th>6938</th>\n",
       "      <td>516</td>\n",
       "      <td>for the finale.</td>\n",
       "      <td>None</td>\n",
       "      <td>9</td>\n",
       "      <td>ACOFF AP</td>\n",
       "    </tr>\n",
       "    <tr>\n",
       "      <th>6939</th>\n",
       "      <td>517</td>\n",
       "      <td>(group shouts)</td>\n",
       "      <td>None</td>\n",
       "      <td>9</td>\n",
       "      <td>ACOFF AP</td>\n",
       "    </tr>\n",
       "    <tr>\n",
       "      <th>6940</th>\n",
       "      <td>518</td>\n",
       "      <td>Aabria: Bye!</td>\n",
       "      <td>None</td>\n",
       "      <td>9</td>\n",
       "      <td>ACOFF AP</td>\n",
       "    </tr>\n",
       "    <tr>\n",
       "      <th>6941</th>\n",
       "      <td>519</td>\n",
       "      <td>Surena: Bye!</td>\n",
       "      <td>None</td>\n",
       "      <td>9</td>\n",
       "      <td>ACOFF AP</td>\n",
       "    </tr>\n",
       "    <tr>\n",
       "      <th>6942</th>\n",
       "      <td>520</td>\n",
       "      <td>Brennan: Bye!</td>\n",
       "      <td>None</td>\n",
       "      <td>9</td>\n",
       "      <td>ACOFF AP</td>\n",
       "    </tr>\n",
       "  </tbody>\n",
       "</table>\n",
       "<p>6851 rows × 5 columns</p>\n",
       "</div>"
      ],
      "text/plain": [
       "      index                                           variable value episode  \\\n",
       "6         6  Aabria: Hello, my pack of pixies, and welcome ...  None      10   \n",
       "7         7  Party for A Court of Fey & Flowers. We did it....  None      10   \n",
       "8         8        Surena: We're ghosts. All of us are ghosts.  None      10   \n",
       "9         9                           Oscar: We're all ghosts.  None      10   \n",
       "10       10  Aabria: Everyone's dead, and everyone's a ghos...  None      10   \n",
       "...     ...                                                ...   ...     ...   \n",
       "6938    516                                    for the finale.  None       9   \n",
       "6939    517                                     (group shouts)  None       9   \n",
       "6940    518                                       Aabria: Bye!  None       9   \n",
       "6941    519                                       Surena: Bye!  None       9   \n",
       "6942    520                                      Brennan: Bye!  None       9   \n",
       "\n",
       "        season  \n",
       "6     ACOFF AP  \n",
       "7     ACOFF AP  \n",
       "8     ACOFF AP  \n",
       "9     ACOFF AP  \n",
       "10    ACOFF AP  \n",
       "...        ...  \n",
       "6938  ACOFF AP  \n",
       "6939  ACOFF AP  \n",
       "6940  ACOFF AP  \n",
       "6941  ACOFF AP  \n",
       "6942  ACOFF AP  \n",
       "\n",
       "[6851 rows x 5 columns]"
      ]
     },
     "execution_count": 84,
     "metadata": {},
     "output_type": "execute_result"
    }
   ],
   "source": [
    "ACOFF_AP"
   ]
  },
  {
   "cell_type": "markdown",
   "id": "7f3120b4",
   "metadata": {},
   "source": [
    "Captions extracted by: OliverC<br>\n",
    "Edited by: OliverC"
   ]
  },
  {
   "cell_type": "code",
   "execution_count": 85,
   "id": "7f12c445",
   "metadata": {},
   "outputs": [
    {
     "data": {
      "text/html": [
       "<div>\n",
       "<style scoped>\n",
       "    .dataframe tbody tr th:only-of-type {\n",
       "        vertical-align: middle;\n",
       "    }\n",
       "\n",
       "    .dataframe tbody tr th {\n",
       "        vertical-align: top;\n",
       "    }\n",
       "\n",
       "    .dataframe thead th {\n",
       "        text-align: right;\n",
       "    }\n",
       "</style>\n",
       "<table border=\"1\" class=\"dataframe\">\n",
       "  <thead>\n",
       "    <tr style=\"text-align: right;\">\n",
       "      <th></th>\n",
       "      <th>index</th>\n",
       "      <th>variable</th>\n",
       "      <th>value</th>\n",
       "      <th>episode</th>\n",
       "      <th>season</th>\n",
       "    </tr>\n",
       "  </thead>\n",
       "  <tbody>\n",
       "    <tr>\n",
       "      <th>0</th>\n",
       "      <td>0</td>\n",
       "      <td>Dimension 20 Season 20</td>\n",
       "      <td>None</td>\n",
       "      <td>10</td>\n",
       "      <td>Burrow's End</td>\n",
       "    </tr>\n",
       "    <tr>\n",
       "      <th>1</th>\n",
       "      <td>1</td>\n",
       "      <td>Burrow’s End</td>\n",
       "      <td>None</td>\n",
       "      <td>10</td>\n",
       "      <td>Burrow's End</td>\n",
       "    </tr>\n",
       "    <tr>\n",
       "      <th>2</th>\n",
       "      <td>2</td>\n",
       "      <td>StarrinAva: Aabria Iyengar as Game Master</td>\n",
       "      <td>None</td>\n",
       "      <td>10</td>\n",
       "      <td>Burrow's End</td>\n",
       "    </tr>\n",
       "    <tr>\n",
       "      <th>3</th>\n",
       "      <td>3</td>\n",
       "      <td>Brennan Lee Mulligan as Tula; Erika Ishii as Ava;</td>\n",
       "      <td>None</td>\n",
       "      <td>10</td>\n",
       "      <td>Burrow's End</td>\n",
       "    </tr>\n",
       "    <tr>\n",
       "      <th>4</th>\n",
       "      <td>4</td>\n",
       "      <td>Siobhan Thompson as Jaysohn; Rashawn Nadine Sc...</td>\n",
       "      <td>None</td>\n",
       "      <td>10</td>\n",
       "      <td>Burrow's End</td>\n",
       "    </tr>\n",
       "    <tr>\n",
       "      <th>...</th>\n",
       "      <td>...</td>\n",
       "      <td>...</td>\n",
       "      <td>...</td>\n",
       "      <td>...</td>\n",
       "      <td>...</td>\n",
       "    </tr>\n",
       "    <tr>\n",
       "      <th>24356</th>\n",
       "      <td>2406</td>\n",
       "      <td>Ava: Well, help us understand, then.</td>\n",
       "      <td>None</td>\n",
       "      <td>9H</td>\n",
       "      <td>Burrow's End</td>\n",
       "    </tr>\n",
       "    <tr>\n",
       "      <th>24357</th>\n",
       "      <td>2407</td>\n",
       "      <td>Stoat: Understand this!</td>\n",
       "      <td>None</td>\n",
       "      <td>9H</td>\n",
       "      <td>Burrow's End</td>\n",
       "    </tr>\n",
       "    <tr>\n",
       "      <th>24358</th>\n",
       "      <td>2408</td>\n",
       "      <td>Viola: Babe!</td>\n",
       "      <td>None</td>\n",
       "      <td>9H</td>\n",
       "      <td>Burrow's End</td>\n",
       "    </tr>\n",
       "    <tr>\n",
       "      <th>24359</th>\n",
       "      <td>2409</td>\n",
       "      <td>Thorn: It's been a pleasure, everyone. Been a ...</td>\n",
       "      <td>None</td>\n",
       "      <td>9H</td>\n",
       "      <td>Burrow's End</td>\n",
       "    </tr>\n",
       "    <tr>\n",
       "      <th>24360</th>\n",
       "      <td>2410</td>\n",
       "      <td>(somber music continues)</td>\n",
       "      <td>None</td>\n",
       "      <td>9H</td>\n",
       "      <td>Burrow's End</td>\n",
       "    </tr>\n",
       "  </tbody>\n",
       "</table>\n",
       "<p>24361 rows × 5 columns</p>\n",
       "</div>"
      ],
      "text/plain": [
       "       index                                           variable value episode  \\\n",
       "0          0                             Dimension 20 Season 20  None      10   \n",
       "1          1                                       Burrow’s End  None      10   \n",
       "2          2          StarrinAva: Aabria Iyengar as Game Master  None      10   \n",
       "3          3  Brennan Lee Mulligan as Tula; Erika Ishii as Ava;  None      10   \n",
       "4          4  Siobhan Thompson as Jaysohn; Rashawn Nadine Sc...  None      10   \n",
       "...      ...                                                ...   ...     ...   \n",
       "24356   2406               Ava: Well, help us understand, then.  None      9H   \n",
       "24357   2407                            Stoat: Understand this!  None      9H   \n",
       "24358   2408                                       Viola: Babe!  None      9H   \n",
       "24359   2409  Thorn: It's been a pleasure, everyone. Been a ...  None      9H   \n",
       "24360   2410                           (somber music continues)  None      9H   \n",
       "\n",
       "             season  \n",
       "0      Burrow's End  \n",
       "1      Burrow's End  \n",
       "2      Burrow's End  \n",
       "3      Burrow's End  \n",
       "4      Burrow's End  \n",
       "...             ...  \n",
       "24356  Burrow's End  \n",
       "24357  Burrow's End  \n",
       "24358  Burrow's End  \n",
       "24359  Burrow's End  \n",
       "24360  Burrow's End  \n",
       "\n",
       "[24361 rows x 5 columns]"
      ]
     },
     "execution_count": 85,
     "metadata": {},
     "output_type": "execute_result"
    }
   ],
   "source": [
    "burrow = pd.read_pickle('../pickle_jar/burrow.pkl')\n",
    "burrow=burrow.reset_index()\n",
    "burrow"
   ]
  },
  {
   "cell_type": "code",
   "execution_count": 86,
   "id": "b81bbb62",
   "metadata": {},
   "outputs": [
    {
     "data": {
      "text/plain": [
       "6     3401\n",
       "5     3028\n",
       "2     2614\n",
       "10    2425\n",
       "9     2411\n",
       "3     2326\n",
       "4     2266\n",
       "1     2117\n",
       "8     1902\n",
       "7     1871\n",
       "Name: episode, dtype: int64"
      ]
     },
     "execution_count": 86,
     "metadata": {},
     "output_type": "execute_result"
    }
   ],
   "source": [
    "burrow['episode'] = burrow['episode'].str.replace(r'^(\\d+)\\w*$', r'\\1', regex=True).astype('str')\n",
    "burrow['episode'].value_counts()"
   ]
  },
  {
   "cell_type": "code",
   "execution_count": 87,
   "id": "4b81b02f",
   "metadata": {},
   "outputs": [
    {
     "data": {
      "text/html": [
       "<div>\n",
       "<style scoped>\n",
       "    .dataframe tbody tr th:only-of-type {\n",
       "        vertical-align: middle;\n",
       "    }\n",
       "\n",
       "    .dataframe tbody tr th {\n",
       "        vertical-align: top;\n",
       "    }\n",
       "\n",
       "    .dataframe thead th {\n",
       "        text-align: right;\n",
       "    }\n",
       "</style>\n",
       "<table border=\"1\" class=\"dataframe\">\n",
       "  <thead>\n",
       "    <tr style=\"text-align: right;\">\n",
       "      <th></th>\n",
       "      <th>index</th>\n",
       "      <th>variable</th>\n",
       "      <th>value</th>\n",
       "      <th>episode</th>\n",
       "      <th>season</th>\n",
       "    </tr>\n",
       "  </thead>\n",
       "  <tbody>\n",
       "    <tr>\n",
       "      <th>24356</th>\n",
       "      <td>2406</td>\n",
       "      <td>Ava: Well, help us understand, then.</td>\n",
       "      <td>None</td>\n",
       "      <td>9</td>\n",
       "      <td>Burrow's End</td>\n",
       "    </tr>\n",
       "    <tr>\n",
       "      <th>24357</th>\n",
       "      <td>2407</td>\n",
       "      <td>Stoat: Understand this!</td>\n",
       "      <td>None</td>\n",
       "      <td>9</td>\n",
       "      <td>Burrow's End</td>\n",
       "    </tr>\n",
       "    <tr>\n",
       "      <th>24358</th>\n",
       "      <td>2408</td>\n",
       "      <td>Viola: Babe!</td>\n",
       "      <td>None</td>\n",
       "      <td>9</td>\n",
       "      <td>Burrow's End</td>\n",
       "    </tr>\n",
       "    <tr>\n",
       "      <th>24359</th>\n",
       "      <td>2409</td>\n",
       "      <td>Thorn: It's been a pleasure, everyone. Been a ...</td>\n",
       "      <td>None</td>\n",
       "      <td>9</td>\n",
       "      <td>Burrow's End</td>\n",
       "    </tr>\n",
       "    <tr>\n",
       "      <th>24360</th>\n",
       "      <td>2410</td>\n",
       "      <td>(somber music continues)</td>\n",
       "      <td>None</td>\n",
       "      <td>9</td>\n",
       "      <td>Burrow's End</td>\n",
       "    </tr>\n",
       "  </tbody>\n",
       "</table>\n",
       "</div>"
      ],
      "text/plain": [
       "       index                                           variable value episode  \\\n",
       "24356   2406               Ava: Well, help us understand, then.  None       9   \n",
       "24357   2407                            Stoat: Understand this!  None       9   \n",
       "24358   2408                                       Viola: Babe!  None       9   \n",
       "24359   2409  Thorn: It's been a pleasure, everyone. Been a ...  None       9   \n",
       "24360   2410                           (somber music continues)  None       9   \n",
       "\n",
       "             season  \n",
       "24356  Burrow's End  \n",
       "24357  Burrow's End  \n",
       "24358  Burrow's End  \n",
       "24359  Burrow's End  \n",
       "24360  Burrow's End  "
      ]
     },
     "execution_count": 87,
     "metadata": {},
     "output_type": "execute_result"
    }
   ],
   "source": [
    "burrow[burrow['episode']=='9'][-5:]"
   ]
  },
  {
   "cell_type": "code",
   "execution_count": 88,
   "id": "141ebb76",
   "metadata": {},
   "outputs": [],
   "source": [
    "meta3 = [0,1,2,3,4,5,6,7,8,9,10,11,12,13,14,15,16,17,18,19,20,21,22,23,24,25,26,27,28,29,30,31,2425,2426,2427,2428,2429,2430,2431,2432,2433,2434,2435,2436,2437,2438,2439,2440,2441,2442,4542,4543,4544,4545,4546,4547,4548,4549,4550,4551,7156,7157,7158,7159,7160,7161,7162,7163,7164,7165,7166,7167,7168,7169,9482,9483,9484,9485,9486,9487,9488,9489,9490,11748,11749,11750,11751,11752,11753,11754,11755,11756,11757,11758,11759,11760,11761,11762,14776,14777,14778,14779,14780,14781,14782,14783,14784,14785,14786,14787,14788,14789,14790,18177,18178,18179,18180,18181,18182,18183,18184,18185,18186,18187,18188,18189,18190,18191,20048,20049,20050,20051,20052,20053,20054,20055,20056,20057,20058,20059,20060,20061,20062,21950,21951,21952,21953,21954,21955,21956,21957,21958,21959,21960,21961,21962,21963]"
   ]
  },
  {
   "cell_type": "code",
   "execution_count": 89,
   "id": "cc7a17d9",
   "metadata": {},
   "outputs": [],
   "source": [
    "credit3 = [4539,4540,4541,7153,7154,7155,9479,9480,9481,11745,11746,11747,14773,14774,14775,18174,18175,18176,20047,21949,24360]"
   ]
  },
  {
   "cell_type": "code",
   "execution_count": 90,
   "id": "26a42cd7",
   "metadata": {},
   "outputs": [],
   "source": [
    "burrow = burrow.drop(meta3)"
   ]
  },
  {
   "cell_type": "code",
   "execution_count": 91,
   "id": "c0587500",
   "metadata": {},
   "outputs": [],
   "source": [
    "burrow=burrow.drop(credit3)"
   ]
  },
  {
   "cell_type": "code",
   "execution_count": 92,
   "id": "ea4dc7a5",
   "metadata": {},
   "outputs": [
    {
     "data": {
      "text/html": [
       "<div>\n",
       "<style scoped>\n",
       "    .dataframe tbody tr th:only-of-type {\n",
       "        vertical-align: middle;\n",
       "    }\n",
       "\n",
       "    .dataframe tbody tr th {\n",
       "        vertical-align: top;\n",
       "    }\n",
       "\n",
       "    .dataframe thead th {\n",
       "        text-align: right;\n",
       "    }\n",
       "</style>\n",
       "<table border=\"1\" class=\"dataframe\">\n",
       "  <thead>\n",
       "    <tr style=\"text-align: right;\">\n",
       "      <th></th>\n",
       "      <th>index</th>\n",
       "      <th>variable</th>\n",
       "      <th>value</th>\n",
       "      <th>episode</th>\n",
       "      <th>season</th>\n",
       "    </tr>\n",
       "  </thead>\n",
       "  <tbody>\n",
       "    <tr>\n",
       "      <th>32</th>\n",
       "      <td>32</td>\n",
       "      <td>Aabria: Y'all ready to play some fucking D&amp;D? ...</td>\n",
       "      <td>None</td>\n",
       "      <td>10</td>\n",
       "      <td>Burrow's End</td>\n",
       "    </tr>\n",
       "    <tr>\n",
       "      <th>33</th>\n",
       "      <td>33</td>\n",
       "      <td>Hello friends and welcome to the finale of Bur...</td>\n",
       "      <td>None</td>\n",
       "      <td>10</td>\n",
       "      <td>Burrow's End</td>\n",
       "    </tr>\n",
       "    <tr>\n",
       "      <th>34</th>\n",
       "      <td>34</td>\n",
       "      <td>joint, it got a little weird already.</td>\n",
       "      <td>None</td>\n",
       "      <td>10</td>\n",
       "      <td>Burrow's End</td>\n",
       "    </tr>\n",
       "    <tr>\n",
       "      <th>35</th>\n",
       "      <td>35</td>\n",
       "      <td>Rashawn: Yes.</td>\n",
       "      <td>None</td>\n",
       "      <td>10</td>\n",
       "      <td>Burrow's End</td>\n",
       "    </tr>\n",
       "    <tr>\n",
       "      <th>36</th>\n",
       "      <td>36</td>\n",
       "      <td>Aabria: I am your warren warden and Dungeon Ma...</td>\n",
       "      <td>None</td>\n",
       "      <td>10</td>\n",
       "      <td>Burrow's End</td>\n",
       "    </tr>\n",
       "    <tr>\n",
       "      <th>...</th>\n",
       "      <td>...</td>\n",
       "      <td>...</td>\n",
       "      <td>...</td>\n",
       "      <td>...</td>\n",
       "      <td>...</td>\n",
       "    </tr>\n",
       "    <tr>\n",
       "      <th>24355</th>\n",
       "      <td>2405</td>\n",
       "      <td>Stoat: I don't mind being misunderstood.</td>\n",
       "      <td>None</td>\n",
       "      <td>9</td>\n",
       "      <td>Burrow's End</td>\n",
       "    </tr>\n",
       "    <tr>\n",
       "      <th>24356</th>\n",
       "      <td>2406</td>\n",
       "      <td>Ava: Well, help us understand, then.</td>\n",
       "      <td>None</td>\n",
       "      <td>9</td>\n",
       "      <td>Burrow's End</td>\n",
       "    </tr>\n",
       "    <tr>\n",
       "      <th>24357</th>\n",
       "      <td>2407</td>\n",
       "      <td>Stoat: Understand this!</td>\n",
       "      <td>None</td>\n",
       "      <td>9</td>\n",
       "      <td>Burrow's End</td>\n",
       "    </tr>\n",
       "    <tr>\n",
       "      <th>24358</th>\n",
       "      <td>2408</td>\n",
       "      <td>Viola: Babe!</td>\n",
       "      <td>None</td>\n",
       "      <td>9</td>\n",
       "      <td>Burrow's End</td>\n",
       "    </tr>\n",
       "    <tr>\n",
       "      <th>24359</th>\n",
       "      <td>2409</td>\n",
       "      <td>Thorn: It's been a pleasure, everyone. Been a ...</td>\n",
       "      <td>None</td>\n",
       "      <td>9</td>\n",
       "      <td>Burrow's End</td>\n",
       "    </tr>\n",
       "  </tbody>\n",
       "</table>\n",
       "<p>24183 rows × 5 columns</p>\n",
       "</div>"
      ],
      "text/plain": [
       "       index                                           variable value episode  \\\n",
       "32        32  Aabria: Y'all ready to play some fucking D&D? ...  None      10   \n",
       "33        33  Hello friends and welcome to the finale of Bur...  None      10   \n",
       "34        34              joint, it got a little weird already.  None      10   \n",
       "35        35                                      Rashawn: Yes.  None      10   \n",
       "36        36  Aabria: I am your warren warden and Dungeon Ma...  None      10   \n",
       "...      ...                                                ...   ...     ...   \n",
       "24355   2405           Stoat: I don't mind being misunderstood.  None       9   \n",
       "24356   2406               Ava: Well, help us understand, then.  None       9   \n",
       "24357   2407                            Stoat: Understand this!  None       9   \n",
       "24358   2408                                       Viola: Babe!  None       9   \n",
       "24359   2409  Thorn: It's been a pleasure, everyone. Been a ...  None       9   \n",
       "\n",
       "             season  \n",
       "32     Burrow's End  \n",
       "33     Burrow's End  \n",
       "34     Burrow's End  \n",
       "35     Burrow's End  \n",
       "36     Burrow's End  \n",
       "...             ...  \n",
       "24355  Burrow's End  \n",
       "24356  Burrow's End  \n",
       "24357  Burrow's End  \n",
       "24358  Burrow's End  \n",
       "24359  Burrow's End  \n",
       "\n",
       "[24183 rows x 5 columns]"
      ]
     },
     "execution_count": 92,
     "metadata": {},
     "output_type": "execute_result"
    }
   ],
   "source": [
    "burrow"
   ]
  },
  {
   "cell_type": "markdown",
   "id": "f80c2300",
   "metadata": {},
   "source": [
    "Captions extracted by: Rachel S.\n",
    "Edited by: Claire B., OliverC, gluegunshots \t\n",
    "\n",
    "Mer"
   ]
  },
  {
   "cell_type": "code",
   "execution_count": 93,
   "id": "8b4acad8",
   "metadata": {},
   "outputs": [
    {
     "data": {
      "text/html": [
       "<div>\n",
       "<style scoped>\n",
       "    .dataframe tbody tr th:only-of-type {\n",
       "        vertical-align: middle;\n",
       "    }\n",
       "\n",
       "    .dataframe tbody tr th {\n",
       "        vertical-align: top;\n",
       "    }\n",
       "\n",
       "    .dataframe thead th {\n",
       "        text-align: right;\n",
       "    }\n",
       "</style>\n",
       "<table border=\"1\" class=\"dataframe\">\n",
       "  <thead>\n",
       "    <tr style=\"text-align: right;\">\n",
       "      <th></th>\n",
       "      <th>index</th>\n",
       "      <th>variable</th>\n",
       "      <th>value</th>\n",
       "      <th>episode</th>\n",
       "      <th>season</th>\n",
       "    </tr>\n",
       "  </thead>\n",
       "  <tbody>\n",
       "    <tr>\n",
       "      <th>0</th>\n",
       "      <td>0</td>\n",
       "      <td>Dimension 20</td>\n",
       "      <td>None</td>\n",
       "      <td>1S</td>\n",
       "      <td>Burrow's End AP</td>\n",
       "    </tr>\n",
       "    <tr>\n",
       "      <th>1</th>\n",
       "      <td>1</td>\n",
       "      <td>Adventuring Party</td>\n",
       "      <td>None</td>\n",
       "      <td>1S</td>\n",
       "      <td>Burrow's End AP</td>\n",
       "    </tr>\n",
       "    <tr>\n",
       "      <th>2</th>\n",
       "      <td>2</td>\n",
       "      <td></td>\n",
       "      <td>None</td>\n",
       "      <td>1S</td>\n",
       "      <td>Burrow's End AP</td>\n",
       "    </tr>\n",
       "    <tr>\n",
       "      <th>3</th>\n",
       "      <td>3</td>\n",
       "      <td>Stoatal Recall</td>\n",
       "      <td>None</td>\n",
       "      <td>1S</td>\n",
       "      <td>Burrow's End AP</td>\n",
       "    </tr>\n",
       "    <tr>\n",
       "      <th>4</th>\n",
       "      <td>4</td>\n",
       "      <td>Season 15 Episode 1</td>\n",
       "      <td>None</td>\n",
       "      <td>1S</td>\n",
       "      <td>Burrow's End AP</td>\n",
       "    </tr>\n",
       "    <tr>\n",
       "      <th>...</th>\n",
       "      <td>...</td>\n",
       "      <td>...</td>\n",
       "      <td>...</td>\n",
       "      <td>...</td>\n",
       "      <td>...</td>\n",
       "    </tr>\n",
       "    <tr>\n",
       "      <th>3155</th>\n",
       "      <td>743</td>\n",
       "      <td>Siobhan: Bye.</td>\n",
       "      <td>None</td>\n",
       "      <td>5B</td>\n",
       "      <td>Burrow's End AP</td>\n",
       "    </tr>\n",
       "    <tr>\n",
       "      <th>3156</th>\n",
       "      <td>744</td>\n",
       "      <td>Erika: Yum, yum, yum.</td>\n",
       "      <td>None</td>\n",
       "      <td>5B</td>\n",
       "      <td>Burrow's End AP</td>\n",
       "    </tr>\n",
       "    <tr>\n",
       "      <th>3157</th>\n",
       "      <td>745</td>\n",
       "      <td>----------------------------------------------...</td>\n",
       "      <td>None</td>\n",
       "      <td>5B</td>\n",
       "      <td>Burrow's End AP</td>\n",
       "    </tr>\n",
       "    <tr>\n",
       "      <th>3158</th>\n",
       "      <td>746</td>\n",
       "      <td>Captions extracted by: OliverC</td>\n",
       "      <td>None</td>\n",
       "      <td>5B</td>\n",
       "      <td>Burrow's End AP</td>\n",
       "    </tr>\n",
       "    <tr>\n",
       "      <th>3159</th>\n",
       "      <td>747</td>\n",
       "      <td>Edited by: OliverC, Mer</td>\n",
       "      <td>None</td>\n",
       "      <td>5B</td>\n",
       "      <td>Burrow's End AP</td>\n",
       "    </tr>\n",
       "  </tbody>\n",
       "</table>\n",
       "<p>3160 rows × 5 columns</p>\n",
       "</div>"
      ],
      "text/plain": [
       "      index                                           variable value episode  \\\n",
       "0         0                                       Dimension 20  None      1S   \n",
       "1         1                                  Adventuring Party  None      1S   \n",
       "2         2                                                     None      1S   \n",
       "3         3                                     Stoatal Recall  None      1S   \n",
       "4         4                                Season 15 Episode 1  None      1S   \n",
       "...     ...                                                ...   ...     ...   \n",
       "3155    743                                      Siobhan: Bye.  None      5B   \n",
       "3156    744                              Erika: Yum, yum, yum.  None      5B   \n",
       "3157    745  ----------------------------------------------...  None      5B   \n",
       "3158    746                     Captions extracted by: OliverC  None      5B   \n",
       "3159    747                            Edited by: OliverC, Mer  None      5B   \n",
       "\n",
       "               season  \n",
       "0     Burrow's End AP  \n",
       "1     Burrow's End AP  \n",
       "2     Burrow's End AP  \n",
       "3     Burrow's End AP  \n",
       "4     Burrow's End AP  \n",
       "...               ...  \n",
       "3155  Burrow's End AP  \n",
       "3156  Burrow's End AP  \n",
       "3157  Burrow's End AP  \n",
       "3158  Burrow's End AP  \n",
       "3159  Burrow's End AP  \n",
       "\n",
       "[3160 rows x 5 columns]"
      ]
     },
     "execution_count": 93,
     "metadata": {},
     "output_type": "execute_result"
    }
   ],
   "source": [
    "burrowAP = pd.read_pickle('../pickle_jar/burrowAP.pkl')\n",
    "burrowAP=burrowAP.reset_index()\n",
    "burrowAP"
   ]
  },
  {
   "cell_type": "code",
   "execution_count": 94,
   "id": "eea8ee36",
   "metadata": {},
   "outputs": [
    {
     "data": {
      "text/plain": [
       "5    748\n",
       "3    711\n",
       "4    602\n",
       "1    570\n",
       "2    529\n",
       "Name: episode, dtype: int64"
      ]
     },
     "execution_count": 94,
     "metadata": {},
     "output_type": "execute_result"
    }
   ],
   "source": [
    "burrowAP['episode'] = burrowAP['episode'].str.replace(r'^(\\d+)\\w*$', r'\\1', regex=True).astype('str')\n",
    "burrowAP['episode'].value_counts()"
   ]
  },
  {
   "cell_type": "code",
   "execution_count": 95,
   "id": "684a598e",
   "metadata": {},
   "outputs": [
    {
     "data": {
      "text/html": [
       "<div>\n",
       "<style scoped>\n",
       "    .dataframe tbody tr th:only-of-type {\n",
       "        vertical-align: middle;\n",
       "    }\n",
       "\n",
       "    .dataframe tbody tr th {\n",
       "        vertical-align: top;\n",
       "    }\n",
       "\n",
       "    .dataframe thead th {\n",
       "        text-align: right;\n",
       "    }\n",
       "</style>\n",
       "<table border=\"1\" class=\"dataframe\">\n",
       "  <thead>\n",
       "    <tr style=\"text-align: right;\">\n",
       "      <th></th>\n",
       "      <th>index</th>\n",
       "      <th>variable</th>\n",
       "      <th>value</th>\n",
       "      <th>episode</th>\n",
       "      <th>season</th>\n",
       "    </tr>\n",
       "  </thead>\n",
       "  <tbody>\n",
       "    <tr>\n",
       "      <th>3155</th>\n",
       "      <td>743</td>\n",
       "      <td>Siobhan: Bye.</td>\n",
       "      <td>None</td>\n",
       "      <td>5</td>\n",
       "      <td>Burrow's End AP</td>\n",
       "    </tr>\n",
       "    <tr>\n",
       "      <th>3156</th>\n",
       "      <td>744</td>\n",
       "      <td>Erika: Yum, yum, yum.</td>\n",
       "      <td>None</td>\n",
       "      <td>5</td>\n",
       "      <td>Burrow's End AP</td>\n",
       "    </tr>\n",
       "    <tr>\n",
       "      <th>3157</th>\n",
       "      <td>745</td>\n",
       "      <td>----------------------------------------------...</td>\n",
       "      <td>None</td>\n",
       "      <td>5</td>\n",
       "      <td>Burrow's End AP</td>\n",
       "    </tr>\n",
       "    <tr>\n",
       "      <th>3158</th>\n",
       "      <td>746</td>\n",
       "      <td>Captions extracted by: OliverC</td>\n",
       "      <td>None</td>\n",
       "      <td>5</td>\n",
       "      <td>Burrow's End AP</td>\n",
       "    </tr>\n",
       "    <tr>\n",
       "      <th>3159</th>\n",
       "      <td>747</td>\n",
       "      <td>Edited by: OliverC, Mer</td>\n",
       "      <td>None</td>\n",
       "      <td>5</td>\n",
       "      <td>Burrow's End AP</td>\n",
       "    </tr>\n",
       "  </tbody>\n",
       "</table>\n",
       "</div>"
      ],
      "text/plain": [
       "      index                                           variable value episode  \\\n",
       "3155    743                                      Siobhan: Bye.  None       5   \n",
       "3156    744                              Erika: Yum, yum, yum.  None       5   \n",
       "3157    745  ----------------------------------------------...  None       5   \n",
       "3158    746                     Captions extracted by: OliverC  None       5   \n",
       "3159    747                            Edited by: OliverC, Mer  None       5   \n",
       "\n",
       "               season  \n",
       "3155  Burrow's End AP  \n",
       "3156  Burrow's End AP  \n",
       "3157  Burrow's End AP  \n",
       "3158  Burrow's End AP  \n",
       "3159  Burrow's End AP  "
      ]
     },
     "execution_count": 95,
     "metadata": {},
     "output_type": "execute_result"
    }
   ],
   "source": [
    "burrowAP[burrowAP['episode']=='5'][-5:]"
   ]
  },
  {
   "cell_type": "code",
   "execution_count": 96,
   "id": "85249dbf",
   "metadata": {},
   "outputs": [],
   "source": [
    "meta4 = [0,1,2,3,4,5,570,571,572,573,574,575,1099,1100,1101,1102,1103,1104,1810,1811,1812,1813,1814,1815,2412,2413,2414,2415,2416,2417]"
   ]
  },
  {
   "cell_type": "code",
   "execution_count": 97,
   "id": "1435dd85",
   "metadata": {},
   "outputs": [],
   "source": [
    "credit4 = [567,568,569,1096,1097,1098,1807,1808,1809,2409,2410,2411,3157,3158,3159]"
   ]
  },
  {
   "cell_type": "code",
   "execution_count": 98,
   "id": "1f19fcbd",
   "metadata": {},
   "outputs": [],
   "source": [
    "burrowAP = burrowAP.drop(meta4)"
   ]
  },
  {
   "cell_type": "code",
   "execution_count": 99,
   "id": "a974630d",
   "metadata": {},
   "outputs": [],
   "source": [
    "burrowAP = burrowAP.drop(credit4)"
   ]
  },
  {
   "cell_type": "code",
   "execution_count": 100,
   "id": "d4ef13f4",
   "metadata": {},
   "outputs": [
    {
     "data": {
      "text/html": [
       "<div>\n",
       "<style scoped>\n",
       "    .dataframe tbody tr th:only-of-type {\n",
       "        vertical-align: middle;\n",
       "    }\n",
       "\n",
       "    .dataframe tbody tr th {\n",
       "        vertical-align: top;\n",
       "    }\n",
       "\n",
       "    .dataframe thead th {\n",
       "        text-align: right;\n",
       "    }\n",
       "</style>\n",
       "<table border=\"1\" class=\"dataframe\">\n",
       "  <thead>\n",
       "    <tr style=\"text-align: right;\">\n",
       "      <th></th>\n",
       "      <th>index</th>\n",
       "      <th>variable</th>\n",
       "      <th>value</th>\n",
       "      <th>episode</th>\n",
       "      <th>season</th>\n",
       "    </tr>\n",
       "  </thead>\n",
       "  <tbody>\n",
       "    <tr>\n",
       "      <th>6</th>\n",
       "      <td>6</td>\n",
       "      <td>Aabria: Hello and welcome to the first episode...</td>\n",
       "      <td>None</td>\n",
       "      <td>1</td>\n",
       "      <td>Burrow's End AP</td>\n",
       "    </tr>\n",
       "    <tr>\n",
       "      <th>7</th>\n",
       "      <td>7</td>\n",
       "      <td>reaching for?</td>\n",
       "      <td>None</td>\n",
       "      <td>1</td>\n",
       "      <td>Burrow's End AP</td>\n",
       "    </tr>\n",
       "    <tr>\n",
       "      <th>8</th>\n",
       "      <td>8</td>\n",
       "      <td>Izzy: There are little things.</td>\n",
       "      <td>None</td>\n",
       "      <td>1</td>\n",
       "      <td>Burrow's End AP</td>\n",
       "    </tr>\n",
       "    <tr>\n",
       "      <th>9</th>\n",
       "      <td>9</td>\n",
       "      <td>Aabria: Don't worry about that yet. Don't worr...</td>\n",
       "      <td>None</td>\n",
       "      <td>1</td>\n",
       "      <td>Burrow's End AP</td>\n",
       "    </tr>\n",
       "    <tr>\n",
       "      <th>10</th>\n",
       "      <td>10</td>\n",
       "      <td>Siobhan: What, there's clues, there's clues! T...</td>\n",
       "      <td>None</td>\n",
       "      <td>1</td>\n",
       "      <td>Burrow's End AP</td>\n",
       "    </tr>\n",
       "    <tr>\n",
       "      <th>...</th>\n",
       "      <td>...</td>\n",
       "      <td>...</td>\n",
       "      <td>...</td>\n",
       "      <td>...</td>\n",
       "      <td>...</td>\n",
       "    </tr>\n",
       "    <tr>\n",
       "      <th>3152</th>\n",
       "      <td>740</td>\n",
       "      <td>thumping]</td>\n",
       "      <td>None</td>\n",
       "      <td>5</td>\n",
       "      <td>Burrow's End AP</td>\n",
       "    </tr>\n",
       "    <tr>\n",
       "      <th>3153</th>\n",
       "      <td>741</td>\n",
       "      <td>Brennan: Ah!</td>\n",
       "      <td>None</td>\n",
       "      <td>5</td>\n",
       "      <td>Burrow's End AP</td>\n",
       "    </tr>\n",
       "    <tr>\n",
       "      <th>3154</th>\n",
       "      <td>742</td>\n",
       "      <td>Jasper: That was so good.</td>\n",
       "      <td>None</td>\n",
       "      <td>5</td>\n",
       "      <td>Burrow's End AP</td>\n",
       "    </tr>\n",
       "    <tr>\n",
       "      <th>3155</th>\n",
       "      <td>743</td>\n",
       "      <td>Siobhan: Bye.</td>\n",
       "      <td>None</td>\n",
       "      <td>5</td>\n",
       "      <td>Burrow's End AP</td>\n",
       "    </tr>\n",
       "    <tr>\n",
       "      <th>3156</th>\n",
       "      <td>744</td>\n",
       "      <td>Erika: Yum, yum, yum.</td>\n",
       "      <td>None</td>\n",
       "      <td>5</td>\n",
       "      <td>Burrow's End AP</td>\n",
       "    </tr>\n",
       "  </tbody>\n",
       "</table>\n",
       "<p>3115 rows × 5 columns</p>\n",
       "</div>"
      ],
      "text/plain": [
       "      index                                           variable value episode  \\\n",
       "6         6  Aabria: Hello and welcome to the first episode...  None       1   \n",
       "7         7                                      reaching for?  None       1   \n",
       "8         8                     Izzy: There are little things.  None       1   \n",
       "9         9  Aabria: Don't worry about that yet. Don't worr...  None       1   \n",
       "10       10  Siobhan: What, there's clues, there's clues! T...  None       1   \n",
       "...     ...                                                ...   ...     ...   \n",
       "3152    740                                          thumping]  None       5   \n",
       "3153    741                                       Brennan: Ah!  None       5   \n",
       "3154    742                          Jasper: That was so good.  None       5   \n",
       "3155    743                                      Siobhan: Bye.  None       5   \n",
       "3156    744                              Erika: Yum, yum, yum.  None       5   \n",
       "\n",
       "               season  \n",
       "6     Burrow's End AP  \n",
       "7     Burrow's End AP  \n",
       "8     Burrow's End AP  \n",
       "9     Burrow's End AP  \n",
       "10    Burrow's End AP  \n",
       "...               ...  \n",
       "3152  Burrow's End AP  \n",
       "3153  Burrow's End AP  \n",
       "3154  Burrow's End AP  \n",
       "3155  Burrow's End AP  \n",
       "3156  Burrow's End AP  \n",
       "\n",
       "[3115 rows x 5 columns]"
      ]
     },
     "execution_count": 100,
     "metadata": {},
     "output_type": "execute_result"
    }
   ],
   "source": [
    "burrowAP"
   ]
  },
  {
   "cell_type": "code",
   "execution_count": 101,
   "id": "b871aa6a",
   "metadata": {},
   "outputs": [
    {
     "data": {
      "text/html": [
       "<div>\n",
       "<style scoped>\n",
       "    .dataframe tbody tr th:only-of-type {\n",
       "        vertical-align: middle;\n",
       "    }\n",
       "\n",
       "    .dataframe tbody tr th {\n",
       "        vertical-align: top;\n",
       "    }\n",
       "\n",
       "    .dataframe thead th {\n",
       "        text-align: right;\n",
       "    }\n",
       "</style>\n",
       "<table border=\"1\" class=\"dataframe\">\n",
       "  <thead>\n",
       "    <tr style=\"text-align: right;\">\n",
       "      <th></th>\n",
       "      <th>index</th>\n",
       "      <th>variable</th>\n",
       "      <th>value</th>\n",
       "      <th>episode</th>\n",
       "      <th>season</th>\n",
       "    </tr>\n",
       "  </thead>\n",
       "  <tbody>\n",
       "    <tr>\n",
       "      <th>0</th>\n",
       "      <td>0</td>\n",
       "      <td>Dimension 20</td>\n",
       "      <td>None</td>\n",
       "      <td>1T</td>\n",
       "      <td>Misfits and Magic</td>\n",
       "    </tr>\n",
       "    <tr>\n",
       "      <th>1</th>\n",
       "      <td>1</td>\n",
       "      <td>Misfits and Magic</td>\n",
       "      <td>None</td>\n",
       "      <td>1T</td>\n",
       "      <td>Misfits and Magic</td>\n",
       "    </tr>\n",
       "    <tr>\n",
       "      <th>2</th>\n",
       "      <td>2</td>\n",
       "      <td>Starring: Aabria Iyengar as Game Master</td>\n",
       "      <td>None</td>\n",
       "      <td>1T</td>\n",
       "      <td>Misfits and Magic</td>\n",
       "    </tr>\n",
       "    <tr>\n",
       "      <th>3</th>\n",
       "      <td>3</td>\n",
       "      <td>Erika Ishii as Dream;</td>\n",
       "      <td>None</td>\n",
       "      <td>1T</td>\n",
       "      <td>Misfits and Magic</td>\n",
       "    </tr>\n",
       "    <tr>\n",
       "      <th>4</th>\n",
       "      <td>4</td>\n",
       "      <td>Danielle Radford as Sam Black;</td>\n",
       "      <td>None</td>\n",
       "      <td>1T</td>\n",
       "      <td>Misfits and Magic</td>\n",
       "    </tr>\n",
       "    <tr>\n",
       "      <th>...</th>\n",
       "      <td>...</td>\n",
       "      <td>...</td>\n",
       "      <td>...</td>\n",
       "      <td>...</td>\n",
       "      <td>...</td>\n",
       "    </tr>\n",
       "    <tr>\n",
       "      <th>14737</th>\n",
       "      <td>3345</td>\n",
       "      <td>our wonderful holiday special. Thank you very ...</td>\n",
       "      <td>None</td>\n",
       "      <td>Ma</td>\n",
       "      <td>Misfits and Magic</td>\n",
       "    </tr>\n",
       "    <tr>\n",
       "      <th>14738</th>\n",
       "      <td>3346</td>\n",
       "      <td>Lulling everybody.</td>\n",
       "      <td>None</td>\n",
       "      <td>Ma</td>\n",
       "      <td>Misfits and Magic</td>\n",
       "    </tr>\n",
       "    <tr>\n",
       "      <th>14739</th>\n",
       "      <td>3347</td>\n",
       "      <td>All: Happy Lulling.</td>\n",
       "      <td>None</td>\n",
       "      <td>Ma</td>\n",
       "      <td>Misfits and Magic</td>\n",
       "    </tr>\n",
       "    <tr>\n",
       "      <th>14740</th>\n",
       "      <td>3348</td>\n",
       "      <td>[a]no idea what's being said here around 1:10:20</td>\n",
       "      <td>None</td>\n",
       "      <td>Ma</td>\n",
       "      <td>Misfits and Magic</td>\n",
       "    </tr>\n",
       "    <tr>\n",
       "      <th>14741</th>\n",
       "      <td>3349</td>\n",
       "      <td>[b]wasn't sure what is being said here, around...</td>\n",
       "      <td>None</td>\n",
       "      <td>Ma</td>\n",
       "      <td>Misfits and Magic</td>\n",
       "    </tr>\n",
       "  </tbody>\n",
       "</table>\n",
       "<p>14742 rows × 5 columns</p>\n",
       "</div>"
      ],
      "text/plain": [
       "       index                                           variable value episode  \\\n",
       "0          0                                       Dimension 20  None      1T   \n",
       "1          1                                  Misfits and Magic  None      1T   \n",
       "2          2            Starring: Aabria Iyengar as Game Master  None      1T   \n",
       "3          3                              Erika Ishii as Dream;  None      1T   \n",
       "4          4                     Danielle Radford as Sam Black;  None      1T   \n",
       "...      ...                                                ...   ...     ...   \n",
       "14737   3345  our wonderful holiday special. Thank you very ...  None      Ma   \n",
       "14738   3346                                 Lulling everybody.  None      Ma   \n",
       "14739   3347                                All: Happy Lulling.  None      Ma   \n",
       "14740   3348   [a]no idea what's being said here around 1:10:20  None      Ma   \n",
       "14741   3349  [b]wasn't sure what is being said here, around...  None      Ma   \n",
       "\n",
       "                  season  \n",
       "0      Misfits and Magic  \n",
       "1      Misfits and Magic  \n",
       "2      Misfits and Magic  \n",
       "3      Misfits and Magic  \n",
       "4      Misfits and Magic  \n",
       "...                  ...  \n",
       "14737  Misfits and Magic  \n",
       "14738  Misfits and Magic  \n",
       "14739  Misfits and Magic  \n",
       "14740  Misfits and Magic  \n",
       "14741  Misfits and Magic  \n",
       "\n",
       "[14742 rows x 5 columns]"
      ]
     },
     "execution_count": 101,
     "metadata": {},
     "output_type": "execute_result"
    }
   ],
   "source": [
    "mismag = pd.read_pickle('../pickle_jar/mismag.pkl')\n",
    "mismag=mismag.reset_index()\n",
    "mismag"
   ]
  },
  {
   "cell_type": "markdown",
   "id": "8720aaa4",
   "metadata": {},
   "source": [
    "This series has 4 episodes and one holiday special episode, in here encoded as \"Ma\". I'm going to recode that as episode 5 for the sake of processing"
   ]
  },
  {
   "cell_type": "code",
   "execution_count": 102,
   "id": "5b5d6f03",
   "metadata": {},
   "outputs": [],
   "source": [
    "mismag['episode'] = mismag['episode'].str.replace(r'Ma', r'5', regex=True).astype('str')"
   ]
  },
  {
   "cell_type": "code",
   "execution_count": 103,
   "id": "9c1d00ff",
   "metadata": {},
   "outputs": [
    {
     "data": {
      "text/plain": [
       "5    3350\n",
       "4    3261\n",
       "1    2899\n",
       "2    2667\n",
       "3    2565\n",
       "Name: episode, dtype: int64"
      ]
     },
     "execution_count": 103,
     "metadata": {},
     "output_type": "execute_result"
    }
   ],
   "source": [
    "mismag['episode'] = mismag['episode'].str.replace(r'^(\\d+)\\w*$', r'\\1', regex=True).astype('str')\n",
    "mismag['episode'].value_counts() #this is a full season, it's just very short'"
   ]
  },
  {
   "cell_type": "code",
   "execution_count": 104,
   "id": "9ecdb6bc",
   "metadata": {},
   "outputs": [
    {
     "data": {
      "text/html": [
       "<div>\n",
       "<style scoped>\n",
       "    .dataframe tbody tr th:only-of-type {\n",
       "        vertical-align: middle;\n",
       "    }\n",
       "\n",
       "    .dataframe tbody tr th {\n",
       "        vertical-align: top;\n",
       "    }\n",
       "\n",
       "    .dataframe thead th {\n",
       "        text-align: right;\n",
       "    }\n",
       "</style>\n",
       "<table border=\"1\" class=\"dataframe\">\n",
       "  <thead>\n",
       "    <tr style=\"text-align: right;\">\n",
       "      <th></th>\n",
       "      <th>index</th>\n",
       "      <th>variable</th>\n",
       "      <th>value</th>\n",
       "      <th>episode</th>\n",
       "      <th>season</th>\n",
       "    </tr>\n",
       "  </thead>\n",
       "  <tbody>\n",
       "    <tr>\n",
       "      <th>14737</th>\n",
       "      <td>3345</td>\n",
       "      <td>our wonderful holiday special. Thank you very ...</td>\n",
       "      <td>None</td>\n",
       "      <td>5</td>\n",
       "      <td>Misfits and Magic</td>\n",
       "    </tr>\n",
       "    <tr>\n",
       "      <th>14738</th>\n",
       "      <td>3346</td>\n",
       "      <td>Lulling everybody.</td>\n",
       "      <td>None</td>\n",
       "      <td>5</td>\n",
       "      <td>Misfits and Magic</td>\n",
       "    </tr>\n",
       "    <tr>\n",
       "      <th>14739</th>\n",
       "      <td>3347</td>\n",
       "      <td>All: Happy Lulling.</td>\n",
       "      <td>None</td>\n",
       "      <td>5</td>\n",
       "      <td>Misfits and Magic</td>\n",
       "    </tr>\n",
       "    <tr>\n",
       "      <th>14740</th>\n",
       "      <td>3348</td>\n",
       "      <td>[a]no idea what's being said here around 1:10:20</td>\n",
       "      <td>None</td>\n",
       "      <td>5</td>\n",
       "      <td>Misfits and Magic</td>\n",
       "    </tr>\n",
       "    <tr>\n",
       "      <th>14741</th>\n",
       "      <td>3349</td>\n",
       "      <td>[b]wasn't sure what is being said here, around...</td>\n",
       "      <td>None</td>\n",
       "      <td>5</td>\n",
       "      <td>Misfits and Magic</td>\n",
       "    </tr>\n",
       "  </tbody>\n",
       "</table>\n",
       "</div>"
      ],
      "text/plain": [
       "       index                                           variable value episode  \\\n",
       "14737   3345  our wonderful holiday special. Thank you very ...  None       5   \n",
       "14738   3346                                 Lulling everybody.  None       5   \n",
       "14739   3347                                All: Happy Lulling.  None       5   \n",
       "14740   3348   [a]no idea what's being said here around 1:10:20  None       5   \n",
       "14741   3349  [b]wasn't sure what is being said here, around...  None       5   \n",
       "\n",
       "                  season  \n",
       "14737  Misfits and Magic  \n",
       "14738  Misfits and Magic  \n",
       "14739  Misfits and Magic  \n",
       "14740  Misfits and Magic  \n",
       "14741  Misfits and Magic  "
      ]
     },
     "execution_count": 104,
     "metadata": {},
     "output_type": "execute_result"
    }
   ],
   "source": [
    "mismag[mismag['episode']=='5'][-5:]"
   ]
  },
  {
   "cell_type": "code",
   "execution_count": 105,
   "id": "abc282f3",
   "metadata": {},
   "outputs": [],
   "source": [
    "meta5 = [0,1,2,3,4,5,6,7,8,2899,2900,2901,2902,2903,2904,2905,2906,2907,2908,2909,2910,2911,2912,5566,5567,5568,5569,5570,5571,5572,5573,5574,5575,5576,5577,5578,5579,5580,8131,8132,8133,8134,8135,8136,8137,8138,8139,8140,8141,8142,11392,11393,11394,11395,11396,11397,11398,11399,11400]"
   ]
  },
  {
   "cell_type": "code",
   "execution_count": 106,
   "id": "754ca4fd",
   "metadata": {},
   "outputs": [],
   "source": [
    "credit5 = [2896,2897,2898,5563,5564,5565,8129,8130,11390,11391,14740,14741]"
   ]
  },
  {
   "cell_type": "code",
   "execution_count": 107,
   "id": "d716e980",
   "metadata": {},
   "outputs": [],
   "source": [
    "mismag = mismag.drop(meta5)"
   ]
  },
  {
   "cell_type": "code",
   "execution_count": 108,
   "id": "8cbbbc10",
   "metadata": {},
   "outputs": [],
   "source": [
    "mismag=mismag.drop(credit5)"
   ]
  },
  {
   "cell_type": "code",
   "execution_count": 109,
   "id": "a7fc71a6",
   "metadata": {},
   "outputs": [
    {
     "data": {
      "text/html": [
       "<div>\n",
       "<style scoped>\n",
       "    .dataframe tbody tr th:only-of-type {\n",
       "        vertical-align: middle;\n",
       "    }\n",
       "\n",
       "    .dataframe tbody tr th {\n",
       "        vertical-align: top;\n",
       "    }\n",
       "\n",
       "    .dataframe thead th {\n",
       "        text-align: right;\n",
       "    }\n",
       "</style>\n",
       "<table border=\"1\" class=\"dataframe\">\n",
       "  <thead>\n",
       "    <tr style=\"text-align: right;\">\n",
       "      <th></th>\n",
       "      <th>index</th>\n",
       "      <th>variable</th>\n",
       "      <th>value</th>\n",
       "      <th>episode</th>\n",
       "      <th>season</th>\n",
       "    </tr>\n",
       "  </thead>\n",
       "  <tbody>\n",
       "    <tr>\n",
       "      <th>9</th>\n",
       "      <td>9</td>\n",
       "      <td>Aabria: Hello, friends, and welcome. We're her...</td>\n",
       "      <td>None</td>\n",
       "      <td>1</td>\n",
       "      <td>Misfits and Magic</td>\n",
       "    </tr>\n",
       "    <tr>\n",
       "      <th>10</th>\n",
       "      <td>10</td>\n",
       "      <td>a new game called \"Misfits and Magic\"! [cheeri...</td>\n",
       "      <td>None</td>\n",
       "      <td>1</td>\n",
       "      <td>Misfits and Magic</td>\n",
       "    </tr>\n",
       "    <tr>\n",
       "      <th>11</th>\n",
       "      <td>11</td>\n",
       "      <td>Cast cheers and laughs.</td>\n",
       "      <td>None</td>\n",
       "      <td>1</td>\n",
       "      <td>Misfits and Magic</td>\n",
       "    </tr>\n",
       "    <tr>\n",
       "      <th>12</th>\n",
       "      <td>12</td>\n",
       "      <td>Aabria: I am your game master, Aabria Iyengar,...</td>\n",
       "      <td>None</td>\n",
       "      <td>1</td>\n",
       "      <td>Misfits and Magic</td>\n",
       "    </tr>\n",
       "    <tr>\n",
       "      <th>13</th>\n",
       "      <td>13</td>\n",
       "      <td>Magical Misfits. Say hi, Magical Misfits!</td>\n",
       "      <td>None</td>\n",
       "      <td>1</td>\n",
       "      <td>Misfits and Magic</td>\n",
       "    </tr>\n",
       "    <tr>\n",
       "      <th>...</th>\n",
       "      <td>...</td>\n",
       "      <td>...</td>\n",
       "      <td>...</td>\n",
       "      <td>...</td>\n",
       "      <td>...</td>\n",
       "    </tr>\n",
       "    <tr>\n",
       "      <th>14735</th>\n",
       "      <td>3343</td>\n",
       "      <td>you threw for yourselves, that you threw for y...</td>\n",
       "      <td>None</td>\n",
       "      <td>5</td>\n",
       "      <td>Misfits and Magic</td>\n",
       "    </tr>\n",
       "    <tr>\n",
       "      <th>14736</th>\n",
       "      <td>3344</td>\n",
       "      <td>full swing.That is where are we going to leave...</td>\n",
       "      <td>None</td>\n",
       "      <td>5</td>\n",
       "      <td>Misfits and Magic</td>\n",
       "    </tr>\n",
       "    <tr>\n",
       "      <th>14737</th>\n",
       "      <td>3345</td>\n",
       "      <td>our wonderful holiday special. Thank you very ...</td>\n",
       "      <td>None</td>\n",
       "      <td>5</td>\n",
       "      <td>Misfits and Magic</td>\n",
       "    </tr>\n",
       "    <tr>\n",
       "      <th>14738</th>\n",
       "      <td>3346</td>\n",
       "      <td>Lulling everybody.</td>\n",
       "      <td>None</td>\n",
       "      <td>5</td>\n",
       "      <td>Misfits and Magic</td>\n",
       "    </tr>\n",
       "    <tr>\n",
       "      <th>14739</th>\n",
       "      <td>3347</td>\n",
       "      <td>All: Happy Lulling.</td>\n",
       "      <td>None</td>\n",
       "      <td>5</td>\n",
       "      <td>Misfits and Magic</td>\n",
       "    </tr>\n",
       "  </tbody>\n",
       "</table>\n",
       "<p>14671 rows × 5 columns</p>\n",
       "</div>"
      ],
      "text/plain": [
       "       index                                           variable value episode  \\\n",
       "9          9  Aabria: Hello, friends, and welcome. We're her...  None       1   \n",
       "10        10  a new game called \"Misfits and Magic\"! [cheeri...  None       1   \n",
       "11        11                            Cast cheers and laughs.  None       1   \n",
       "12        12  Aabria: I am your game master, Aabria Iyengar,...  None       1   \n",
       "13        13          Magical Misfits. Say hi, Magical Misfits!  None       1   \n",
       "...      ...                                                ...   ...     ...   \n",
       "14735   3343  you threw for yourselves, that you threw for y...  None       5   \n",
       "14736   3344  full swing.That is where are we going to leave...  None       5   \n",
       "14737   3345  our wonderful holiday special. Thank you very ...  None       5   \n",
       "14738   3346                                 Lulling everybody.  None       5   \n",
       "14739   3347                                All: Happy Lulling.  None       5   \n",
       "\n",
       "                  season  \n",
       "9      Misfits and Magic  \n",
       "10     Misfits and Magic  \n",
       "11     Misfits and Magic  \n",
       "12     Misfits and Magic  \n",
       "13     Misfits and Magic  \n",
       "...                  ...  \n",
       "14735  Misfits and Magic  \n",
       "14736  Misfits and Magic  \n",
       "14737  Misfits and Magic  \n",
       "14738  Misfits and Magic  \n",
       "14739  Misfits and Magic  \n",
       "\n",
       "[14671 rows x 5 columns]"
      ]
     },
     "execution_count": 109,
     "metadata": {},
     "output_type": "execute_result"
    }
   ],
   "source": [
    "mismag"
   ]
  },
  {
   "cell_type": "markdown",
   "id": "9daf4c4f",
   "metadata": {},
   "source": [
    "Edited by: Kyber Bonsai, tevildo, gluegunshots, solsys\n",
    "solsys, Tillie the Paladin, gluegunshots, kindlestuck\n",
    "kindlestuck, solsys, Ethan Belanger"
   ]
  },
  {
   "cell_type": "code",
   "execution_count": 110,
   "id": "74448469",
   "metadata": {},
   "outputs": [
    {
     "data": {
      "text/html": [
       "<div>\n",
       "<style scoped>\n",
       "    .dataframe tbody tr th:only-of-type {\n",
       "        vertical-align: middle;\n",
       "    }\n",
       "\n",
       "    .dataframe tbody tr th {\n",
       "        vertical-align: top;\n",
       "    }\n",
       "\n",
       "    .dataframe thead th {\n",
       "        text-align: right;\n",
       "    }\n",
       "</style>\n",
       "<table border=\"1\" class=\"dataframe\">\n",
       "  <thead>\n",
       "    <tr style=\"text-align: right;\">\n",
       "      <th></th>\n",
       "      <th>index</th>\n",
       "      <th>variable</th>\n",
       "      <th>value</th>\n",
       "      <th>episode</th>\n",
       "      <th>season</th>\n",
       "    </tr>\n",
       "  </thead>\n",
       "  <tbody>\n",
       "    <tr>\n",
       "      <th>0</th>\n",
       "      <td>0</td>\n",
       "      <td>Dimension 20</td>\n",
       "      <td>None</td>\n",
       "      <td>1C</td>\n",
       "      <td>Misfits and Magic AP</td>\n",
       "    </tr>\n",
       "    <tr>\n",
       "      <th>1</th>\n",
       "      <td>1</td>\n",
       "      <td>Adventuring Party</td>\n",
       "      <td>None</td>\n",
       "      <td>1C</td>\n",
       "      <td>Misfits and Magic AP</td>\n",
       "    </tr>\n",
       "    <tr>\n",
       "      <th>2</th>\n",
       "      <td>2</td>\n",
       "      <td>Cluck if You Buck</td>\n",
       "      <td>None</td>\n",
       "      <td>1C</td>\n",
       "      <td>Misfits and Magic AP</td>\n",
       "    </tr>\n",
       "    <tr>\n",
       "      <th>3</th>\n",
       "      <td>3</td>\n",
       "      <td>Season 5 Episode 1</td>\n",
       "      <td>None</td>\n",
       "      <td>1C</td>\n",
       "      <td>Misfits and Magic AP</td>\n",
       "    </tr>\n",
       "    <tr>\n",
       "      <th>4</th>\n",
       "      <td>4</td>\n",
       "      <td>[Next Episode] &gt;</td>\n",
       "      <td>None</td>\n",
       "      <td>1C</td>\n",
       "      <td>Misfits and Magic AP</td>\n",
       "    </tr>\n",
       "    <tr>\n",
       "      <th>...</th>\n",
       "      <td>...</td>\n",
       "      <td>...</td>\n",
       "      <td>...</td>\n",
       "      <td>...</td>\n",
       "      <td>...</td>\n",
       "    </tr>\n",
       "    <tr>\n",
       "      <th>4347</th>\n",
       "      <td>1247</td>\n",
       "      <td>it right one time, thank God.</td>\n",
       "      <td>None</td>\n",
       "      <td>5E</td>\n",
       "      <td>Misfits and Magic AP</td>\n",
       "    </tr>\n",
       "    <tr>\n",
       "      <th>4348</th>\n",
       "      <td>1248</td>\n",
       "      <td>With all of you. So that's it, cut the feed!</td>\n",
       "      <td>None</td>\n",
       "      <td>5E</td>\n",
       "      <td>Misfits and Magic AP</td>\n",
       "    </tr>\n",
       "    <tr>\n",
       "      <th>4349</th>\n",
       "      <td>1249</td>\n",
       "      <td>----------------------------------------------...</td>\n",
       "      <td>None</td>\n",
       "      <td>5E</td>\n",
       "      <td>Misfits and Magic AP</td>\n",
       "    </tr>\n",
       "    <tr>\n",
       "      <th>4350</th>\n",
       "      <td>1250</td>\n",
       "      <td>Captions extracted by: OliverC</td>\n",
       "      <td>None</td>\n",
       "      <td>5E</td>\n",
       "      <td>Misfits and Magic AP</td>\n",
       "    </tr>\n",
       "    <tr>\n",
       "      <th>4351</th>\n",
       "      <td>1251</td>\n",
       "      <td>Edited by: OliverC</td>\n",
       "      <td>None</td>\n",
       "      <td>5E</td>\n",
       "      <td>Misfits and Magic AP</td>\n",
       "    </tr>\n",
       "  </tbody>\n",
       "</table>\n",
       "<p>4352 rows × 5 columns</p>\n",
       "</div>"
      ],
      "text/plain": [
       "      index                                           variable value episode  \\\n",
       "0         0                                       Dimension 20  None      1C   \n",
       "1         1                                  Adventuring Party  None      1C   \n",
       "2         2                                  Cluck if You Buck  None      1C   \n",
       "3         3                                 Season 5 Episode 1  None      1C   \n",
       "4         4                                   [Next Episode] >  None      1C   \n",
       "...     ...                                                ...   ...     ...   \n",
       "4347   1247                      it right one time, thank God.  None      5E   \n",
       "4348   1248       With all of you. So that's it, cut the feed!  None      5E   \n",
       "4349   1249  ----------------------------------------------...  None      5E   \n",
       "4350   1250                     Captions extracted by: OliverC  None      5E   \n",
       "4351   1251                                 Edited by: OliverC  None      5E   \n",
       "\n",
       "                    season  \n",
       "0     Misfits and Magic AP  \n",
       "1     Misfits and Magic AP  \n",
       "2     Misfits and Magic AP  \n",
       "3     Misfits and Magic AP  \n",
       "4     Misfits and Magic AP  \n",
       "...                    ...  \n",
       "4347  Misfits and Magic AP  \n",
       "4348  Misfits and Magic AP  \n",
       "4349  Misfits and Magic AP  \n",
       "4350  Misfits and Magic AP  \n",
       "4351  Misfits and Magic AP  \n",
       "\n",
       "[4352 rows x 5 columns]"
      ]
     },
     "execution_count": 110,
     "metadata": {},
     "output_type": "execute_result"
    }
   ],
   "source": [
    "mismagAP = pd.read_pickle('../pickle_jar/mismagAP.pkl')\n",
    "mismagAP=mismagAP.reset_index()\n",
    "mismagAP"
   ]
  },
  {
   "cell_type": "code",
   "execution_count": 111,
   "id": "6b977c44",
   "metadata": {},
   "outputs": [
    {
     "data": {
      "text/plain": [
       "5    1252\n",
       "3     994\n",
       "2     759\n",
       "1     713\n",
       "4     634\n",
       "Name: episode, dtype: int64"
      ]
     },
     "execution_count": 111,
     "metadata": {},
     "output_type": "execute_result"
    }
   ],
   "source": [
    "mismagAP['episode'] = mismagAP['episode'].str.replace(r'^(\\d+)\\w*$', r'\\1', regex=True).astype('str')\n",
    "mismagAP['episode'].value_counts()"
   ]
  },
  {
   "cell_type": "code",
   "execution_count": 112,
   "id": "2f58570b",
   "metadata": {},
   "outputs": [
    {
     "data": {
      "text/html": [
       "<div>\n",
       "<style scoped>\n",
       "    .dataframe tbody tr th:only-of-type {\n",
       "        vertical-align: middle;\n",
       "    }\n",
       "\n",
       "    .dataframe tbody tr th {\n",
       "        vertical-align: top;\n",
       "    }\n",
       "\n",
       "    .dataframe thead th {\n",
       "        text-align: right;\n",
       "    }\n",
       "</style>\n",
       "<table border=\"1\" class=\"dataframe\">\n",
       "  <thead>\n",
       "    <tr style=\"text-align: right;\">\n",
       "      <th></th>\n",
       "      <th>index</th>\n",
       "      <th>variable</th>\n",
       "      <th>value</th>\n",
       "      <th>episode</th>\n",
       "      <th>season</th>\n",
       "    </tr>\n",
       "  </thead>\n",
       "  <tbody>\n",
       "    <tr>\n",
       "      <th>4347</th>\n",
       "      <td>1247</td>\n",
       "      <td>it right one time, thank God.</td>\n",
       "      <td>None</td>\n",
       "      <td>5</td>\n",
       "      <td>Misfits and Magic AP</td>\n",
       "    </tr>\n",
       "    <tr>\n",
       "      <th>4348</th>\n",
       "      <td>1248</td>\n",
       "      <td>With all of you. So that's it, cut the feed!</td>\n",
       "      <td>None</td>\n",
       "      <td>5</td>\n",
       "      <td>Misfits and Magic AP</td>\n",
       "    </tr>\n",
       "    <tr>\n",
       "      <th>4349</th>\n",
       "      <td>1249</td>\n",
       "      <td>----------------------------------------------...</td>\n",
       "      <td>None</td>\n",
       "      <td>5</td>\n",
       "      <td>Misfits and Magic AP</td>\n",
       "    </tr>\n",
       "    <tr>\n",
       "      <th>4350</th>\n",
       "      <td>1250</td>\n",
       "      <td>Captions extracted by: OliverC</td>\n",
       "      <td>None</td>\n",
       "      <td>5</td>\n",
       "      <td>Misfits and Magic AP</td>\n",
       "    </tr>\n",
       "    <tr>\n",
       "      <th>4351</th>\n",
       "      <td>1251</td>\n",
       "      <td>Edited by: OliverC</td>\n",
       "      <td>None</td>\n",
       "      <td>5</td>\n",
       "      <td>Misfits and Magic AP</td>\n",
       "    </tr>\n",
       "  </tbody>\n",
       "</table>\n",
       "</div>"
      ],
      "text/plain": [
       "      index                                           variable value episode  \\\n",
       "4347   1247                      it right one time, thank God.  None       5   \n",
       "4348   1248       With all of you. So that's it, cut the feed!  None       5   \n",
       "4349   1249  ----------------------------------------------...  None       5   \n",
       "4350   1250                     Captions extracted by: OliverC  None       5   \n",
       "4351   1251                                 Edited by: OliverC  None       5   \n",
       "\n",
       "                    season  \n",
       "4347  Misfits and Magic AP  \n",
       "4348  Misfits and Magic AP  \n",
       "4349  Misfits and Magic AP  \n",
       "4350  Misfits and Magic AP  \n",
       "4351  Misfits and Magic AP  "
      ]
     },
     "execution_count": 112,
     "metadata": {},
     "output_type": "execute_result"
    }
   ],
   "source": [
    "mismagAP[mismagAP['episode']=='5'][-5:]"
   ]
  },
  {
   "cell_type": "code",
   "execution_count": 113,
   "id": "0d36bfb3",
   "metadata": {},
   "outputs": [],
   "source": [
    "meta6 = [0,1,2,3,4,713,714,715,716,717,1472,1473,1474,1475,1476,2466,2467,2468,2469,2470,3100,3101,3102,3103,3104]"
   ]
  },
  {
   "cell_type": "code",
   "execution_count": 114,
   "id": "32d8a343",
   "metadata": {},
   "outputs": [],
   "source": [
    "credit6 = [710,711,712,1469,1470,1471,2463,2464,2465,3097,3098,3099,4349,4350,4351]"
   ]
  },
  {
   "cell_type": "code",
   "execution_count": 115,
   "id": "60394e70",
   "metadata": {},
   "outputs": [],
   "source": [
    "mismagAP=mismagAP.drop(meta6)"
   ]
  },
  {
   "cell_type": "code",
   "execution_count": 116,
   "id": "f5b13922",
   "metadata": {},
   "outputs": [],
   "source": [
    "mismagAP=mismagAP.drop(credit6)"
   ]
  },
  {
   "cell_type": "code",
   "execution_count": 117,
   "id": "32bd72ae",
   "metadata": {},
   "outputs": [
    {
     "data": {
      "text/html": [
       "<div>\n",
       "<style scoped>\n",
       "    .dataframe tbody tr th:only-of-type {\n",
       "        vertical-align: middle;\n",
       "    }\n",
       "\n",
       "    .dataframe tbody tr th {\n",
       "        vertical-align: top;\n",
       "    }\n",
       "\n",
       "    .dataframe thead th {\n",
       "        text-align: right;\n",
       "    }\n",
       "</style>\n",
       "<table border=\"1\" class=\"dataframe\">\n",
       "  <thead>\n",
       "    <tr style=\"text-align: right;\">\n",
       "      <th></th>\n",
       "      <th>index</th>\n",
       "      <th>variable</th>\n",
       "      <th>value</th>\n",
       "      <th>episode</th>\n",
       "      <th>season</th>\n",
       "    </tr>\n",
       "  </thead>\n",
       "  <tbody>\n",
       "    <tr>\n",
       "      <th>5</th>\n",
       "      <td>5</td>\n",
       "      <td>Aabria: Hello, and welcome to the first episod...</td>\n",
       "      <td>None</td>\n",
       "      <td>1</td>\n",
       "      <td>Misfits and Magic AP</td>\n",
       "    </tr>\n",
       "    <tr>\n",
       "      <th>6</th>\n",
       "      <td>6</td>\n",
       "      <td>for \"Misfits and Magic\". We're gonna chat a li...</td>\n",
       "      <td>None</td>\n",
       "      <td>1</td>\n",
       "      <td>Misfits and Magic AP</td>\n",
       "    </tr>\n",
       "    <tr>\n",
       "      <th>7</th>\n",
       "      <td>7</td>\n",
       "      <td>one. Just, hey y'all, how's everyone doing? Le...</td>\n",
       "      <td>None</td>\n",
       "      <td>1</td>\n",
       "      <td>Misfits and Magic AP</td>\n",
       "    </tr>\n",
       "    <tr>\n",
       "      <th>8</th>\n",
       "      <td>8</td>\n",
       "      <td>doing? We okay?</td>\n",
       "      <td>None</td>\n",
       "      <td>1</td>\n",
       "      <td>Misfits and Magic AP</td>\n",
       "    </tr>\n",
       "    <tr>\n",
       "      <th>9</th>\n",
       "      <td>9</td>\n",
       "      <td>Brennan: Whoo!</td>\n",
       "      <td>None</td>\n",
       "      <td>1</td>\n",
       "      <td>Misfits and Magic AP</td>\n",
       "    </tr>\n",
       "    <tr>\n",
       "      <th>...</th>\n",
       "      <td>...</td>\n",
       "      <td>...</td>\n",
       "      <td>...</td>\n",
       "      <td>...</td>\n",
       "      <td>...</td>\n",
       "    </tr>\n",
       "    <tr>\n",
       "      <th>4344</th>\n",
       "      <td>1244</td>\n",
       "      <td>your hard work. This is literally what we mean...</td>\n",
       "      <td>None</td>\n",
       "      <td>5</td>\n",
       "      <td>Misfits and Magic AP</td>\n",
       "    </tr>\n",
       "    <tr>\n",
       "      <th>4345</th>\n",
       "      <td>1245</td>\n",
       "      <td>collaborative storytelling, We all built this ...</td>\n",
       "      <td>None</td>\n",
       "      <td>5</td>\n",
       "      <td>Misfits and Magic AP</td>\n",
       "    </tr>\n",
       "    <tr>\n",
       "      <th>4346</th>\n",
       "      <td>1246</td>\n",
       "      <td>an honor and a privilege to get to build \"Misf...</td>\n",
       "      <td>None</td>\n",
       "      <td>5</td>\n",
       "      <td>Misfits and Magic AP</td>\n",
       "    </tr>\n",
       "    <tr>\n",
       "      <th>4347</th>\n",
       "      <td>1247</td>\n",
       "      <td>it right one time, thank God.</td>\n",
       "      <td>None</td>\n",
       "      <td>5</td>\n",
       "      <td>Misfits and Magic AP</td>\n",
       "    </tr>\n",
       "    <tr>\n",
       "      <th>4348</th>\n",
       "      <td>1248</td>\n",
       "      <td>With all of you. So that's it, cut the feed!</td>\n",
       "      <td>None</td>\n",
       "      <td>5</td>\n",
       "      <td>Misfits and Magic AP</td>\n",
       "    </tr>\n",
       "  </tbody>\n",
       "</table>\n",
       "<p>4312 rows × 5 columns</p>\n",
       "</div>"
      ],
      "text/plain": [
       "      index                                           variable value episode  \\\n",
       "5         5  Aabria: Hello, and welcome to the first episod...  None       1   \n",
       "6         6  for \"Misfits and Magic\". We're gonna chat a li...  None       1   \n",
       "7         7  one. Just, hey y'all, how's everyone doing? Le...  None       1   \n",
       "8         8                                    doing? We okay?  None       1   \n",
       "9         9                                     Brennan: Whoo!  None       1   \n",
       "...     ...                                                ...   ...     ...   \n",
       "4344   1244  your hard work. This is literally what we mean...  None       5   \n",
       "4345   1245  collaborative storytelling, We all built this ...  None       5   \n",
       "4346   1246  an honor and a privilege to get to build \"Misf...  None       5   \n",
       "4347   1247                      it right one time, thank God.  None       5   \n",
       "4348   1248       With all of you. So that's it, cut the feed!  None       5   \n",
       "\n",
       "                    season  \n",
       "5     Misfits and Magic AP  \n",
       "6     Misfits and Magic AP  \n",
       "7     Misfits and Magic AP  \n",
       "8     Misfits and Magic AP  \n",
       "9     Misfits and Magic AP  \n",
       "...                    ...  \n",
       "4344  Misfits and Magic AP  \n",
       "4345  Misfits and Magic AP  \n",
       "4346  Misfits and Magic AP  \n",
       "4347  Misfits and Magic AP  \n",
       "4348  Misfits and Magic AP  \n",
       "\n",
       "[4312 rows x 5 columns]"
      ]
     },
     "execution_count": 117,
     "metadata": {},
     "output_type": "execute_result"
    }
   ],
   "source": [
    "mismagAP"
   ]
  },
  {
   "cell_type": "markdown",
   "id": "e05eb418",
   "metadata": {},
   "source": [
    "#### Misfits & Magic S2 \n",
    "\n",
    "is not completed but I will use it later if I can"
   ]
  },
  {
   "cell_type": "code",
   "execution_count": 118,
   "id": "10607da6",
   "metadata": {},
   "outputs": [
    {
     "data": {
      "text/html": [
       "<div>\n",
       "<style scoped>\n",
       "    .dataframe tbody tr th:only-of-type {\n",
       "        vertical-align: middle;\n",
       "    }\n",
       "\n",
       "    .dataframe tbody tr th {\n",
       "        vertical-align: top;\n",
       "    }\n",
       "\n",
       "    .dataframe thead th {\n",
       "        text-align: right;\n",
       "    }\n",
       "</style>\n",
       "<table border=\"1\" class=\"dataframe\">\n",
       "  <thead>\n",
       "    <tr style=\"text-align: right;\">\n",
       "      <th></th>\n",
       "      <th>index</th>\n",
       "      <th>variable</th>\n",
       "      <th>value</th>\n",
       "      <th>episode</th>\n",
       "      <th>season</th>\n",
       "    </tr>\n",
       "  </thead>\n",
       "  <tbody>\n",
       "    <tr>\n",
       "      <th>9</th>\n",
       "      <td>9</td>\n",
       "      <td>Aabria: Hello, friends, and welcome. We're her...</td>\n",
       "      <td>None</td>\n",
       "      <td>1</td>\n",
       "      <td>Misfits and Magic</td>\n",
       "    </tr>\n",
       "    <tr>\n",
       "      <th>10</th>\n",
       "      <td>10</td>\n",
       "      <td>a new game called \"Misfits and Magic\"! [cheeri...</td>\n",
       "      <td>None</td>\n",
       "      <td>1</td>\n",
       "      <td>Misfits and Magic</td>\n",
       "    </tr>\n",
       "    <tr>\n",
       "      <th>11</th>\n",
       "      <td>11</td>\n",
       "      <td>Cast cheers and laughs.</td>\n",
       "      <td>None</td>\n",
       "      <td>1</td>\n",
       "      <td>Misfits and Magic</td>\n",
       "    </tr>\n",
       "    <tr>\n",
       "      <th>12</th>\n",
       "      <td>12</td>\n",
       "      <td>Aabria: I am your game master, Aabria Iyengar,...</td>\n",
       "      <td>None</td>\n",
       "      <td>1</td>\n",
       "      <td>Misfits and Magic</td>\n",
       "    </tr>\n",
       "    <tr>\n",
       "      <th>13</th>\n",
       "      <td>13</td>\n",
       "      <td>Magical Misfits. Say hi, Magical Misfits!</td>\n",
       "      <td>None</td>\n",
       "      <td>1</td>\n",
       "      <td>Misfits and Magic</td>\n",
       "    </tr>\n",
       "    <tr>\n",
       "      <th>...</th>\n",
       "      <td>...</td>\n",
       "      <td>...</td>\n",
       "      <td>...</td>\n",
       "      <td>...</td>\n",
       "      <td>...</td>\n",
       "    </tr>\n",
       "    <tr>\n",
       "      <th>14735</th>\n",
       "      <td>3343</td>\n",
       "      <td>you threw for yourselves, that you threw for y...</td>\n",
       "      <td>None</td>\n",
       "      <td>5</td>\n",
       "      <td>Misfits and Magic</td>\n",
       "    </tr>\n",
       "    <tr>\n",
       "      <th>14736</th>\n",
       "      <td>3344</td>\n",
       "      <td>full swing.That is where are we going to leave...</td>\n",
       "      <td>None</td>\n",
       "      <td>5</td>\n",
       "      <td>Misfits and Magic</td>\n",
       "    </tr>\n",
       "    <tr>\n",
       "      <th>14737</th>\n",
       "      <td>3345</td>\n",
       "      <td>our wonderful holiday special. Thank you very ...</td>\n",
       "      <td>None</td>\n",
       "      <td>5</td>\n",
       "      <td>Misfits and Magic</td>\n",
       "    </tr>\n",
       "    <tr>\n",
       "      <th>14738</th>\n",
       "      <td>3346</td>\n",
       "      <td>Lulling everybody.</td>\n",
       "      <td>None</td>\n",
       "      <td>5</td>\n",
       "      <td>Misfits and Magic</td>\n",
       "    </tr>\n",
       "    <tr>\n",
       "      <th>14739</th>\n",
       "      <td>3347</td>\n",
       "      <td>All: Happy Lulling.</td>\n",
       "      <td>None</td>\n",
       "      <td>5</td>\n",
       "      <td>Misfits and Magic</td>\n",
       "    </tr>\n",
       "  </tbody>\n",
       "</table>\n",
       "<p>14671 rows × 5 columns</p>\n",
       "</div>"
      ],
      "text/plain": [
       "       index                                           variable value episode  \\\n",
       "9          9  Aabria: Hello, friends, and welcome. We're her...  None       1   \n",
       "10        10  a new game called \"Misfits and Magic\"! [cheeri...  None       1   \n",
       "11        11                            Cast cheers and laughs.  None       1   \n",
       "12        12  Aabria: I am your game master, Aabria Iyengar,...  None       1   \n",
       "13        13          Magical Misfits. Say hi, Magical Misfits!  None       1   \n",
       "...      ...                                                ...   ...     ...   \n",
       "14735   3343  you threw for yourselves, that you threw for y...  None       5   \n",
       "14736   3344  full swing.That is where are we going to leave...  None       5   \n",
       "14737   3345  our wonderful holiday special. Thank you very ...  None       5   \n",
       "14738   3346                                 Lulling everybody.  None       5   \n",
       "14739   3347                                All: Happy Lulling.  None       5   \n",
       "\n",
       "                  season  \n",
       "9      Misfits and Magic  \n",
       "10     Misfits and Magic  \n",
       "11     Misfits and Magic  \n",
       "12     Misfits and Magic  \n",
       "13     Misfits and Magic  \n",
       "...                  ...  \n",
       "14735  Misfits and Magic  \n",
       "14736  Misfits and Magic  \n",
       "14737  Misfits and Magic  \n",
       "14738  Misfits and Magic  \n",
       "14739  Misfits and Magic  \n",
       "\n",
       "[14671 rows x 5 columns]"
      ]
     },
     "execution_count": 118,
     "metadata": {},
     "output_type": "execute_result"
    }
   ],
   "source": [
    "mismag2 = pd.read_pickle('../pickle_jar/mismag2.pkl')\n",
    "mismag2=mismag2.reset_index()\n",
    "mismag"
   ]
  },
  {
   "cell_type": "markdown",
   "id": "a911596d",
   "metadata": {},
   "source": [
    "### Concatenating and Splitting\n",
    "\n",
    "back into the regex mines I go!"
   ]
  },
  {
   "cell_type": "code",
   "execution_count": 119,
   "id": "46dc9343",
   "metadata": {},
   "outputs": [],
   "source": [
    "d20 = [ACOFF, ACOFF_AP, burrow, burrowAP, mismag, mismagAP]"
   ]
  },
  {
   "cell_type": "code",
   "execution_count": 120,
   "id": "bafcf8d9",
   "metadata": {},
   "outputs": [],
   "source": [
    "d20_df = pd.concat(d20)"
   ]
  },
  {
   "cell_type": "code",
   "execution_count": 121,
   "id": "ade1b76a",
   "metadata": {},
   "outputs": [],
   "source": [
    "d20_df = d20_df.reset_index()"
   ]
  },
  {
   "cell_type": "code",
   "execution_count": 122,
   "id": "61fa646c",
   "metadata": {},
   "outputs": [
    {
     "data": {
      "text/html": [
       "<div>\n",
       "<style scoped>\n",
       "    .dataframe tbody tr th:only-of-type {\n",
       "        vertical-align: middle;\n",
       "    }\n",
       "\n",
       "    .dataframe tbody tr th {\n",
       "        vertical-align: top;\n",
       "    }\n",
       "\n",
       "    .dataframe thead th {\n",
       "        text-align: right;\n",
       "    }\n",
       "</style>\n",
       "<table border=\"1\" class=\"dataframe\">\n",
       "  <thead>\n",
       "    <tr style=\"text-align: right;\">\n",
       "      <th></th>\n",
       "      <th>index</th>\n",
       "      <th>variable</th>\n",
       "      <th>episode</th>\n",
       "      <th>season</th>\n",
       "    </tr>\n",
       "  </thead>\n",
       "  <tbody>\n",
       "    <tr>\n",
       "      <th>0</th>\n",
       "      <td>10</td>\n",
       "      <td>Aabria: To the churlish Captain K.P. Hob, vene...</td>\n",
       "      <td>10</td>\n",
       "      <td>ACOFF</td>\n",
       "    </tr>\n",
       "    <tr>\n",
       "      <th>1</th>\n",
       "      <td>11</td>\n",
       "      <td>Goblin Court. To the master of ceremonies, Del...</td>\n",
       "      <td>10</td>\n",
       "      <td>ACOFF</td>\n",
       "    </tr>\n",
       "    <tr>\n",
       "      <th>2</th>\n",
       "      <td>12</td>\n",
       "      <td>the Court of Wonder. To BINX Choppley, sole su...</td>\n",
       "      <td>10</td>\n",
       "      <td>ACOFF</td>\n",
       "    </tr>\n",
       "    <tr>\n",
       "      <th>3</th>\n",
       "      <td>13</td>\n",
       "      <td>Craft. To the tenebrous Prince Andhera, scion ...</td>\n",
       "      <td>10</td>\n",
       "      <td>ACOFF</td>\n",
       "    </tr>\n",
       "    <tr>\n",
       "      <th>4</th>\n",
       "      <td>14</td>\n",
       "      <td>to the notorious Lords of the Wing, Lady Chirp...</td>\n",
       "      <td>10</td>\n",
       "      <td>ACOFF</td>\n",
       "    </tr>\n",
       "    <tr>\n",
       "      <th>...</th>\n",
       "      <td>...</td>\n",
       "      <td>...</td>\n",
       "      <td>...</td>\n",
       "      <td>...</td>\n",
       "    </tr>\n",
       "    <tr>\n",
       "      <th>76015</th>\n",
       "      <td>1244</td>\n",
       "      <td>your hard work. This is literally what we mean...</td>\n",
       "      <td>5</td>\n",
       "      <td>Misfits and Magic AP</td>\n",
       "    </tr>\n",
       "    <tr>\n",
       "      <th>76016</th>\n",
       "      <td>1245</td>\n",
       "      <td>collaborative storytelling, We all built this ...</td>\n",
       "      <td>5</td>\n",
       "      <td>Misfits and Magic AP</td>\n",
       "    </tr>\n",
       "    <tr>\n",
       "      <th>76017</th>\n",
       "      <td>1246</td>\n",
       "      <td>an honor and a privilege to get to build \"Misf...</td>\n",
       "      <td>5</td>\n",
       "      <td>Misfits and Magic AP</td>\n",
       "    </tr>\n",
       "    <tr>\n",
       "      <th>76018</th>\n",
       "      <td>1247</td>\n",
       "      <td>it right one time, thank God.</td>\n",
       "      <td>5</td>\n",
       "      <td>Misfits and Magic AP</td>\n",
       "    </tr>\n",
       "    <tr>\n",
       "      <th>76019</th>\n",
       "      <td>1248</td>\n",
       "      <td>With all of you. So that's it, cut the feed!</td>\n",
       "      <td>5</td>\n",
       "      <td>Misfits and Magic AP</td>\n",
       "    </tr>\n",
       "  </tbody>\n",
       "</table>\n",
       "<p>76020 rows × 4 columns</p>\n",
       "</div>"
      ],
      "text/plain": [
       "       index                                           variable episode  \\\n",
       "0         10  Aabria: To the churlish Captain K.P. Hob, vene...      10   \n",
       "1         11  Goblin Court. To the master of ceremonies, Del...      10   \n",
       "2         12  the Court of Wonder. To BINX Choppley, sole su...      10   \n",
       "3         13  Craft. To the tenebrous Prince Andhera, scion ...      10   \n",
       "4         14  to the notorious Lords of the Wing, Lady Chirp...      10   \n",
       "...      ...                                                ...     ...   \n",
       "76015   1244  your hard work. This is literally what we mean...       5   \n",
       "76016   1245  collaborative storytelling, We all built this ...       5   \n",
       "76017   1246  an honor and a privilege to get to build \"Misf...       5   \n",
       "76018   1247                      it right one time, thank God.       5   \n",
       "76019   1248       With all of you. So that's it, cut the feed!       5   \n",
       "\n",
       "                     season  \n",
       "0                     ACOFF  \n",
       "1                     ACOFF  \n",
       "2                     ACOFF  \n",
       "3                     ACOFF  \n",
       "4                     ACOFF  \n",
       "...                     ...  \n",
       "76015  Misfits and Magic AP  \n",
       "76016  Misfits and Magic AP  \n",
       "76017  Misfits and Magic AP  \n",
       "76018  Misfits and Magic AP  \n",
       "76019  Misfits and Magic AP  \n",
       "\n",
       "[76020 rows x 4 columns]"
      ]
     },
     "execution_count": 122,
     "metadata": {},
     "output_type": "execute_result"
    }
   ],
   "source": [
    "d20_df = d20_df.drop(['level_0', 'value'], axis=1)\n",
    "d20_df"
   ]
  },
  {
   "cell_type": "code",
   "execution_count": 123,
   "id": "3a23446f",
   "metadata": {},
   "outputs": [
    {
     "name": "stdout",
     "output_type": "stream",
     "text": [
      "Aabria: To the churlish Captain K.P. Hob, venerated soldier of the\n",
      "Goblin Court. To the master of ceremonies, Delloso de la Rue, pride of\n",
      "the Court of Wonder. To BINX Choppley, sole survivor of the Court of\n",
      "Craft. To the tenebrous Prince Andhera, scion of the Unseelie Court. And\n",
      "to the notorious Lords of the Wing, Lady Chirp Featherfowl, Countess of\n",
      "Cluckingham, and Lord Squak Airavis, Earl of Peckersburg. Honored\n",
      "archfey, we are delighted to welcome you to A Court of Fey & Flowers.\n",
      "Hello, and welcome to Dimension 20's A Court of Fey & Flowers, the\n",
      "thrilling finale. I am your Dungeon Master, Aabria Iyengar, and with me,\n",
      "one last time, are my pack of pixies. Say hi, pack of pixies!\n",
      "All: Hi, pack of pixies!\n"
     ]
    }
   ],
   "source": [
    "print(d20_df.variable[0])\n",
    "print(d20_df.variable[1])\n",
    "print(d20_df.variable[2])\n",
    "print(d20_df.variable[3])\n",
    "print(d20_df.variable[4])\n",
    "print(d20_df.variable[5])\n",
    "print(d20_df.variable[6])\n",
    "print(d20_df.variable[7])\n",
    "print(d20_df.variable[8])\n",
    "print(d20_df.variable[9])\n",
    "print(d20_df.variable[10])"
   ]
  },
  {
   "cell_type": "markdown",
   "id": "77528281",
   "metadata": {},
   "source": [
    "A quirk of the website format is that when someone has a long speech/several lines of dialogue it's tagged with their name at the very first line but none of the trailing ones. So you know when the next line starts when the next tagged name begins. It looks like I may be able to fix this though with the .ffill feature from pandas... let's separate out the names we do have, make them a series, and add them to a new column and see where that gets us.\n",
    "\n",
    "This won't be perfect... because there are lines of text that are not speech and will be moved to the nonspeech columns, but some of THOSE unlike in cr_df are descriptive lines about the room itself. (see line 5225 below). "
   ]
  },
  {
   "cell_type": "code",
   "execution_count": 124,
   "id": "9e100c44",
   "metadata": {},
   "outputs": [
    {
     "data": {
      "text/plain": [
       "'Dome changes from green to blue.'"
      ]
     },
     "execution_count": 124,
     "metadata": {},
     "output_type": "execute_result"
    }
   ],
   "source": [
    "d20_df.variable[5225]"
   ]
  },
  {
   "cell_type": "markdown",
   "id": "7561daf3",
   "metadata": {},
   "source": [
    "I found player names in brackets like this: Izzy: \\[Izzy\\], a holdover from the more recently completed transcriptions (You can tell because they're all only found in Burrow's End and Burrows End AP) that must have been marked as temporary before being confirmed. I'm going to get rid of those as I find them."
   ]
  },
  {
   "cell_type": "code",
   "execution_count": 125,
   "id": "0587d151",
   "metadata": {},
   "outputs": [
    {
     "data": {
      "text/html": [
       "<div>\n",
       "<style scoped>\n",
       "    .dataframe tbody tr th:only-of-type {\n",
       "        vertical-align: middle;\n",
       "    }\n",
       "\n",
       "    .dataframe tbody tr th {\n",
       "        vertical-align: top;\n",
       "    }\n",
       "\n",
       "    .dataframe thead th {\n",
       "        text-align: right;\n",
       "    }\n",
       "</style>\n",
       "<table border=\"1\" class=\"dataframe\">\n",
       "  <thead>\n",
       "    <tr style=\"text-align: right;\">\n",
       "      <th></th>\n",
       "      <th>index</th>\n",
       "      <th>variable</th>\n",
       "      <th>episode</th>\n",
       "      <th>season</th>\n",
       "    </tr>\n",
       "  </thead>\n",
       "  <tbody>\n",
       "    <tr>\n",
       "      <th>29754</th>\n",
       "      <td>47</td>\n",
       "      <td>Izzy: [Izzy] Bookends are not circles. (Siobha...</td>\n",
       "      <td>10</td>\n",
       "      <td>Burrow's End</td>\n",
       "    </tr>\n",
       "    <tr>\n",
       "      <th>29784</th>\n",
       "      <td>77</td>\n",
       "      <td>Izzy: [Izzy] Did Teedles-?</td>\n",
       "      <td>10</td>\n",
       "      <td>Burrow's End</td>\n",
       "    </tr>\n",
       "    <tr>\n",
       "      <th>29790</th>\n",
       "      <td>83</td>\n",
       "      <td>Izzy: [Izzy] Call.</td>\n",
       "      <td>10</td>\n",
       "      <td>Burrow's End</td>\n",
       "    </tr>\n",
       "    <tr>\n",
       "      <th>29969</th>\n",
       "      <td>262</td>\n",
       "      <td>Lila: [Izzy] \"Meloquence\"? (Players intentiona...</td>\n",
       "      <td>10</td>\n",
       "      <td>Burrow's End</td>\n",
       "    </tr>\n",
       "    <tr>\n",
       "      <th>30064</th>\n",
       "      <td>357</td>\n",
       "      <td>Izzy: [Izzy] Okay.</td>\n",
       "      <td>10</td>\n",
       "      <td>Burrow's End</td>\n",
       "    </tr>\n",
       "    <tr>\n",
       "      <th>...</th>\n",
       "      <td>...</td>\n",
       "      <td>...</td>\n",
       "      <td>...</td>\n",
       "      <td>...</td>\n",
       "    </tr>\n",
       "    <tr>\n",
       "      <th>54570</th>\n",
       "      <td>93</td>\n",
       "      <td>Izzy: [Izzy] Not for nothing.</td>\n",
       "      <td>2</td>\n",
       "      <td>Burrow's End AP</td>\n",
       "    </tr>\n",
       "    <tr>\n",
       "      <th>54666</th>\n",
       "      <td>189</td>\n",
       "      <td>Izzy: [Izzy] Dowels?</td>\n",
       "      <td>2</td>\n",
       "      <td>Burrow's End AP</td>\n",
       "    </tr>\n",
       "    <tr>\n",
       "      <th>54807</th>\n",
       "      <td>330</td>\n",
       "      <td>[Siobhan] reveled in violence. You [Izzy] lear...</td>\n",
       "      <td>2</td>\n",
       "      <td>Burrow's End AP</td>\n",
       "    </tr>\n",
       "    <tr>\n",
       "      <th>54881</th>\n",
       "      <td>404</td>\n",
       "      <td>Izzy: [Izzy] She's long dead.</td>\n",
       "      <td>2</td>\n",
       "      <td>Burrow's End AP</td>\n",
       "    </tr>\n",
       "    <tr>\n",
       "      <th>54933</th>\n",
       "      <td>456</td>\n",
       "      <td>Izzy: [Izzy] Keep it.</td>\n",
       "      <td>2</td>\n",
       "      <td>Burrow's End AP</td>\n",
       "    </tr>\n",
       "  </tbody>\n",
       "</table>\n",
       "<p>64 rows × 4 columns</p>\n",
       "</div>"
      ],
      "text/plain": [
       "       index                                           variable episode  \\\n",
       "29754     47  Izzy: [Izzy] Bookends are not circles. (Siobha...      10   \n",
       "29784     77                         Izzy: [Izzy] Did Teedles-?      10   \n",
       "29790     83                                 Izzy: [Izzy] Call.      10   \n",
       "29969    262  Lila: [Izzy] \"Meloquence\"? (Players intentiona...      10   \n",
       "30064    357                                 Izzy: [Izzy] Okay.      10   \n",
       "...      ...                                                ...     ...   \n",
       "54570     93                      Izzy: [Izzy] Not for nothing.       2   \n",
       "54666    189                               Izzy: [Izzy] Dowels?       2   \n",
       "54807    330  [Siobhan] reveled in violence. You [Izzy] lear...       2   \n",
       "54881    404                      Izzy: [Izzy] She's long dead.       2   \n",
       "54933    456                              Izzy: [Izzy] Keep it.       2   \n",
       "\n",
       "                season  \n",
       "29754     Burrow's End  \n",
       "29784     Burrow's End  \n",
       "29790     Burrow's End  \n",
       "29969     Burrow's End  \n",
       "30064     Burrow's End  \n",
       "...                ...  \n",
       "54570  Burrow's End AP  \n",
       "54666  Burrow's End AP  \n",
       "54807  Burrow's End AP  \n",
       "54881  Burrow's End AP  \n",
       "54933  Burrow's End AP  \n",
       "\n",
       "[64 rows x 4 columns]"
      ]
     },
     "execution_count": 125,
     "metadata": {},
     "output_type": "execute_result"
    }
   ],
   "source": [
    "d20_df[d20_df['variable'].str.contains('\\[Izzy\\]')]"
   ]
  },
  {
   "cell_type": "code",
   "execution_count": 126,
   "id": "f692ad7a",
   "metadata": {},
   "outputs": [],
   "source": [
    "d20_df['variable'] = d20_df['variable'].str.replace(r'\\[Izzy\\]', r'', regex=True).astype('str')"
   ]
  },
  {
   "cell_type": "code",
   "execution_count": 127,
   "id": "fefa5d57",
   "metadata": {},
   "outputs": [
    {
     "data": {
      "text/plain": [
       "'Izzy:  Bookends are not circles. (Siobhan laughs)'"
      ]
     },
     "execution_count": 127,
     "metadata": {},
     "output_type": "execute_result"
    }
   ],
   "source": [
    "d20_df.variable[29754]"
   ]
  },
  {
   "cell_type": "code",
   "execution_count": 128,
   "id": "f644d7aa",
   "metadata": {},
   "outputs": [],
   "source": [
    "#d20_df[d20_df['variable'].str.contains('\\[Aabria\\]')]"
   ]
  },
  {
   "cell_type": "code",
   "execution_count": 129,
   "id": "3d2de401",
   "metadata": {},
   "outputs": [],
   "source": [
    "d20_df['variable'] = d20_df['variable'].str.replace(r'\\[Aabria\\]', r'', regex=True).astype('str')"
   ]
  },
  {
   "cell_type": "code",
   "execution_count": 130,
   "id": "48874ef3",
   "metadata": {},
   "outputs": [],
   "source": [
    "#d20_df[d20_df['variable'].str.contains('\\[Rashawn\\]')]"
   ]
  },
  {
   "cell_type": "code",
   "execution_count": 131,
   "id": "4a9f2390",
   "metadata": {},
   "outputs": [],
   "source": [
    "d20_df['variable'] = d20_df['variable'].str.replace(r'\\[Rashawn\\]', r'', regex=True).astype('str')"
   ]
  },
  {
   "cell_type": "code",
   "execution_count": 132,
   "id": "4dff1bc0",
   "metadata": {},
   "outputs": [],
   "source": [
    "#d20_df[d20_df['variable'].str.contains('\\[Erika\\]')]"
   ]
  },
  {
   "cell_type": "code",
   "execution_count": 133,
   "id": "a26441ca",
   "metadata": {},
   "outputs": [],
   "source": [
    "d20_df['variable'] = d20_df['variable'].str.replace(r'\\[Erika\\]', r'', regex=True).astype('str')"
   ]
  },
  {
   "cell_type": "code",
   "execution_count": 134,
   "id": "88441b6e",
   "metadata": {},
   "outputs": [],
   "source": [
    "#d20_df[d20_df['variable'].str.contains('\\[Jasper\\]')]"
   ]
  },
  {
   "cell_type": "code",
   "execution_count": 135,
   "id": "cc941368",
   "metadata": {},
   "outputs": [],
   "source": [
    "d20_df['variable'] = d20_df['variable'].str.replace(r'\\[Jasper\\]', r'', regex=True).astype('str')"
   ]
  },
  {
   "cell_type": "code",
   "execution_count": 136,
   "id": "7fc46b34",
   "metadata": {},
   "outputs": [],
   "source": [
    "#d20_df[d20_df['variable'].str.contains('\\[Siobhan\\]')]"
   ]
  },
  {
   "cell_type": "code",
   "execution_count": 137,
   "id": "cfdab334",
   "metadata": {},
   "outputs": [],
   "source": [
    "d20_df['variable'] = d20_df['variable'].str.replace(r'\\[Siobhan\\]', r'', regex=True).astype('str')"
   ]
  },
  {
   "cell_type": "code",
   "execution_count": 138,
   "id": "6ba9c274",
   "metadata": {},
   "outputs": [],
   "source": [
    "#d20_df[d20_df['variable'].str.contains('\\[Brennan\\]')]"
   ]
  },
  {
   "cell_type": "code",
   "execution_count": 139,
   "id": "23a75d3c",
   "metadata": {},
   "outputs": [],
   "source": [
    "d20_df['variable'] = d20_df['variable'].str.replace(r'\\[Brennan\\]', r'', regex=True).astype('str')"
   ]
  },
  {
   "cell_type": "code",
   "execution_count": 140,
   "id": "483fdaad",
   "metadata": {},
   "outputs": [],
   "source": [
    "d20_df['variable'] = d20_df['variable'].str.replace(r'\\[Cast\\]', r'', regex=True).astype('str')"
   ]
  },
  {
   "cell_type": "code",
   "execution_count": 141,
   "id": "5f338de8",
   "metadata": {},
   "outputs": [],
   "source": [
    "#d20_df['variable'] = d20_df['variable'].str.replace(r'AlLila', r'All', regex=True).astype('str')"
   ]
  },
  {
   "cell_type": "code",
   "execution_count": 142,
   "id": "d048efb8",
   "metadata": {},
   "outputs": [],
   "source": [
    "d20_df['variable'] = d20_df['variable'].str.replace(r'\\[All\\]', r'', regex=True).astype('str')"
   ]
  },
  {
   "cell_type": "code",
   "execution_count": 143,
   "id": "15787728",
   "metadata": {},
   "outputs": [],
   "source": [
    "d20_df['variable'] = d20_df['variable'].str.replace(r'Airry]', r'Airry', regex=True).astype('str')"
   ]
  },
  {
   "cell_type": "code",
   "execution_count": 144,
   "id": "1cc435f7",
   "metadata": {},
   "outputs": [],
   "source": [
    "d20_df['variable'] = d20_df['variable'].str.replace(r'(.*)\\^\\(\\[a\\]\\)', r'\\1', regex=True).astype('str')"
   ]
  },
  {
   "cell_type": "code",
   "execution_count": 145,
   "id": "81887cc1",
   "metadata": {},
   "outputs": [],
   "source": [
    "d20_df['variable'] = d20_df['variable'].str.replace(r'(.*)\\^\\(\\[b\\]\\)', r'\\1', regex=True).astype('str')"
   ]
  },
  {
   "cell_type": "code",
   "execution_count": 146,
   "id": "96cb78e4",
   "metadata": {},
   "outputs": [],
   "source": [
    "d20_df['variable'] = d20_df['variable'].str.replace(r'Tula, internally: When I was walking back, \\(somber music\\) it was the day', r'Tula: (internally) When I was walking back, (somber music) it was the day', regex=True).astype('str')"
   ]
  },
  {
   "cell_type": "code",
   "execution_count": 147,
   "id": "0985f78b",
   "metadata": {},
   "outputs": [],
   "source": [
    "odd_r = pd.DataFrame(d20_df[d20_df['variable'].str.contains('.*\\(.*\\).*\\(.*\\).*\\(.*\\).*\\(.*$')])"
   ]
  },
  {
   "cell_type": "code",
   "execution_count": 148,
   "id": "678cb39c",
   "metadata": {},
   "outputs": [
    {
     "data": {
      "text/plain": [
       "34932    (Erika laughs)(slow electronic music)(bear roa...\n",
       "74154    (all cheering)(Lou singing)(token clanking)(al...\n",
       "Name: variable, dtype: object"
      ]
     },
     "execution_count": 148,
     "metadata": {},
     "output_type": "execute_result"
    }
   ],
   "source": [
    "odd_r['variable'] = odd_r['variable'].str.replace(r'.*(\\(.*\\)).*(\\(.*\\)).*(\\(.*\\)).*(\\(.*)$', r'\\1\\2\\3\\4', regex=True).astype('str')\n",
    "odd_r = pd.Series(odd_r['variable'])\n",
    "odd_r"
   ]
  },
  {
   "cell_type": "code",
   "execution_count": 149,
   "id": "dc0d0905",
   "metadata": {},
   "outputs": [],
   "source": [
    "d20_df['variable'] = d20_df['variable'].str.replace(r'(.*)\\(.*\\)(.*)\\(.*\\)(.*)\\(.*\\)(.*)\\(.*$', r'\\1\\2\\3\\4', regex=True).astype('str')"
   ]
  },
  {
   "cell_type": "code",
   "execution_count": 150,
   "id": "7b253c99",
   "metadata": {},
   "outputs": [
    {
     "data": {
      "text/html": [
       "<div>\n",
       "<style scoped>\n",
       "    .dataframe tbody tr th:only-of-type {\n",
       "        vertical-align: middle;\n",
       "    }\n",
       "\n",
       "    .dataframe tbody tr th {\n",
       "        vertical-align: top;\n",
       "    }\n",
       "\n",
       "    .dataframe thead th {\n",
       "        text-align: right;\n",
       "    }\n",
       "</style>\n",
       "<table border=\"1\" class=\"dataframe\">\n",
       "  <thead>\n",
       "    <tr style=\"text-align: right;\">\n",
       "      <th></th>\n",
       "      <th>index</th>\n",
       "      <th>variable</th>\n",
       "      <th>episode</th>\n",
       "      <th>season</th>\n",
       "    </tr>\n",
       "  </thead>\n",
       "  <tbody>\n",
       "    <tr>\n",
       "      <th>30038</th>\n",
       "      <td>331</td>\n",
       "      <td>Rashawn: (Spanish accent) Radio Soul (group la...</td>\n",
       "      <td>10</td>\n",
       "      <td>Burrow's End</td>\n",
       "    </tr>\n",
       "    <tr>\n",
       "      <th>30233</th>\n",
       "      <td>526</td>\n",
       "      <td>Dr. Tara: (impressed) Fuck. (Brennan chortles)...</td>\n",
       "      <td>10</td>\n",
       "      <td>Burrow's End</td>\n",
       "    </tr>\n",
       "    <tr>\n",
       "      <th>34540</th>\n",
       "      <td>322</td>\n",
       "      <td>(group laughs) (Jasper sighs) (group laughs)</td>\n",
       "      <td>2</td>\n",
       "      <td>Burrow's End</td>\n",
       "    </tr>\n",
       "    <tr>\n",
       "      <th>34812</th>\n",
       "      <td>594</td>\n",
       "      <td>(slow music) (Izzy claps) (Chimes for a natura...</td>\n",
       "      <td>2</td>\n",
       "      <td>Burrow's End</td>\n",
       "    </tr>\n",
       "    <tr>\n",
       "      <th>34902</th>\n",
       "      <td>684</td>\n",
       "      <td>Brennan: (breathy) Viola. (Brennan groans brea...</td>\n",
       "      <td>2</td>\n",
       "      <td>Burrow's End</td>\n",
       "    </tr>\n",
       "    <tr>\n",
       "      <th>34906</th>\n",
       "      <td>688</td>\n",
       "      <td>dart. You're like- (slap) (groans) (group laughs)</td>\n",
       "      <td>2</td>\n",
       "      <td>Burrow's End</td>\n",
       "    </tr>\n",
       "    <tr>\n",
       "      <th>35343</th>\n",
       "      <td>1125</td>\n",
       "      <td>(slow music) (heart beats) (group laughs as Iz...</td>\n",
       "      <td>2</td>\n",
       "      <td>Burrow's End</td>\n",
       "    </tr>\n",
       "    <tr>\n",
       "      <th>53478</th>\n",
       "      <td>1966</td>\n",
       "      <td>Viola: No, that's MeatWolf! (Erika screams) (A...</td>\n",
       "      <td>9</td>\n",
       "      <td>Burrow's End</td>\n",
       "    </tr>\n",
       "  </tbody>\n",
       "</table>\n",
       "</div>"
      ],
      "text/plain": [
       "       index                                           variable episode  \\\n",
       "30038    331  Rashawn: (Spanish accent) Radio Soul (group la...      10   \n",
       "30233    526  Dr. Tara: (impressed) Fuck. (Brennan chortles)...      10   \n",
       "34540    322       (group laughs) (Jasper sighs) (group laughs)       2   \n",
       "34812    594  (slow music) (Izzy claps) (Chimes for a natura...       2   \n",
       "34902    684  Brennan: (breathy) Viola. (Brennan groans brea...       2   \n",
       "34906    688  dart. You're like- (slap) (groans) (group laughs)       2   \n",
       "35343   1125  (slow music) (heart beats) (group laughs as Iz...       2   \n",
       "53478   1966  Viola: No, that's MeatWolf! (Erika screams) (A...       9   \n",
       "\n",
       "             season  \n",
       "30038  Burrow's End  \n",
       "30233  Burrow's End  \n",
       "34540  Burrow's End  \n",
       "34812  Burrow's End  \n",
       "34902  Burrow's End  \n",
       "34906  Burrow's End  \n",
       "35343  Burrow's End  \n",
       "53478  Burrow's End  "
      ]
     },
     "execution_count": 150,
     "metadata": {},
     "output_type": "execute_result"
    }
   ],
   "source": [
    "d20_df[d20_df['variable'].str.contains('.*\\(.*\\).*\\(.*\\).*\\(.*$')]"
   ]
  },
  {
   "cell_type": "code",
   "execution_count": 151,
   "id": "25e31e9c",
   "metadata": {},
   "outputs": [
    {
     "data": {
      "text/html": [
       "<div>\n",
       "<style scoped>\n",
       "    .dataframe tbody tr th:only-of-type {\n",
       "        vertical-align: middle;\n",
       "    }\n",
       "\n",
       "    .dataframe tbody tr th {\n",
       "        vertical-align: top;\n",
       "    }\n",
       "\n",
       "    .dataframe thead th {\n",
       "        text-align: right;\n",
       "    }\n",
       "</style>\n",
       "<table border=\"1\" class=\"dataframe\">\n",
       "  <thead>\n",
       "    <tr style=\"text-align: right;\">\n",
       "      <th></th>\n",
       "      <th>index</th>\n",
       "      <th>variable</th>\n",
       "      <th>episode</th>\n",
       "      <th>season</th>\n",
       "    </tr>\n",
       "  </thead>\n",
       "  <tbody>\n",
       "    <tr>\n",
       "      <th>62836</th>\n",
       "      <td>277</td>\n",
       "      <td>Evan: [demonic voice] One (growls) two! (screams)</td>\n",
       "      <td>3</td>\n",
       "      <td>Misfits and Magic</td>\n",
       "    </tr>\n",
       "  </tbody>\n",
       "</table>\n",
       "</div>"
      ],
      "text/plain": [
       "       index                                           variable episode  \\\n",
       "62836    277  Evan: [demonic voice] One (growls) two! (screams)       3   \n",
       "\n",
       "                  season  \n",
       "62836  Misfits and Magic  "
      ]
     },
     "execution_count": 151,
     "metadata": {},
     "output_type": "execute_result"
    }
   ],
   "source": [
    "d20_df[d20_df['variable'].str.contains('.*\\[.*\\].*\\(.*\\).*\\(.*\\).*')]"
   ]
  },
  {
   "cell_type": "code",
   "execution_count": 152,
   "id": "a287b820",
   "metadata": {},
   "outputs": [],
   "source": [
    "small_mix = pd.DataFrame(d20_df[d20_df['variable'].str.contains('.*\\[.*\\].*\\(.*\\).*\\(.*\\).*')])"
   ]
  },
  {
   "cell_type": "code",
   "execution_count": 153,
   "id": "ea8e803b",
   "metadata": {},
   "outputs": [],
   "source": [
    "small_mix['variable'] = small_mix['variable'].str.replace(r'.*(\\[.*\\]).*(\\(.*\\)).*(\\(.*\\)).*', r'\\1\\2\\3', regex=True).astype('str')"
   ]
  },
  {
   "cell_type": "code",
   "execution_count": 154,
   "id": "b76b6dca",
   "metadata": {},
   "outputs": [
    {
     "data": {
      "text/plain": [
       "62836    [demonic voice](growls)(screams)\n",
       "Name: variable, dtype: object"
      ]
     },
     "execution_count": 154,
     "metadata": {},
     "output_type": "execute_result"
    }
   ],
   "source": [
    "small = pd.Series(small_mix['variable'])\n",
    "small"
   ]
  },
  {
   "cell_type": "code",
   "execution_count": 155,
   "id": "ad0b9599",
   "metadata": {},
   "outputs": [],
   "source": [
    "d20_df['variable'] = d20_df['variable'].str.replace(r'(.*)\\[.*\\](.*)\\(.*\\)(.*)\\(.*\\)(.*)', r'\\1\\2\\3\\4', regex=True).astype('str')"
   ]
  },
  {
   "cell_type": "code",
   "execution_count": 156,
   "id": "502125b4",
   "metadata": {},
   "outputs": [],
   "source": [
    "#d20_df[d20_df['variable'].str.contains('.*\\[.*\\].*\\(.*\\).*')]"
   ]
  },
  {
   "cell_type": "code",
   "execution_count": 157,
   "id": "084185cd",
   "metadata": {},
   "outputs": [],
   "source": [
    "mix_bracks = pd.DataFrame(d20_df[d20_df['variable'].str.contains('.*\\[.*\\].*\\(.*\\).*')])"
   ]
  },
  {
   "cell_type": "code",
   "execution_count": 158,
   "id": "a679c705",
   "metadata": {},
   "outputs": [
    {
     "data": {
      "text/plain": [
       "55192    [mimics holding a sniper](cast laughing)\n",
       "55390                    [singing](cast laughing)\n",
       "59984             [nervously, stuttering](laughs)\n",
       "64511                         [high voice](sighs)\n",
       "66800           [claps](Cinderella-esque singing)\n",
       "66945                         [whispered](laughs)\n",
       "Name: variable, dtype: object"
      ]
     },
     "execution_count": 158,
     "metadata": {},
     "output_type": "execute_result"
    }
   ],
   "source": [
    "mix_bracks['variable'] = mix_bracks['variable'].str.replace(r'.*(\\[.*\\]).*(\\(.*\\)).*', r'\\1\\2', regex=True).astype('str')\n",
    "mix_b = pd.Series(mix_bracks['variable'])\n",
    "mix_b"
   ]
  },
  {
   "cell_type": "code",
   "execution_count": 159,
   "id": "b1cf7d17",
   "metadata": {},
   "outputs": [],
   "source": [
    "d20_df['variable'] = d20_df['variable'].str.replace(r'(.*)\\[.*\\](.*)\\(.*\\)(.*)', r'\\1\\2\\3', regex=True).astype('str')"
   ]
  },
  {
   "cell_type": "code",
   "execution_count": 160,
   "id": "a7c88b68",
   "metadata": {},
   "outputs": [
    {
     "data": {
      "text/html": [
       "<div>\n",
       "<style scoped>\n",
       "    .dataframe tbody tr th:only-of-type {\n",
       "        vertical-align: middle;\n",
       "    }\n",
       "\n",
       "    .dataframe tbody tr th {\n",
       "        vertical-align: top;\n",
       "    }\n",
       "\n",
       "    .dataframe thead th {\n",
       "        text-align: right;\n",
       "    }\n",
       "</style>\n",
       "<table border=\"1\" class=\"dataframe\">\n",
       "  <thead>\n",
       "    <tr style=\"text-align: right;\">\n",
       "      <th></th>\n",
       "      <th>index</th>\n",
       "      <th>variable</th>\n",
       "      <th>episode</th>\n",
       "      <th>season</th>\n",
       "    </tr>\n",
       "  </thead>\n",
       "  <tbody>\n",
       "    <tr>\n",
       "      <th>67899</th>\n",
       "      <td>2789</td>\n",
       "      <td>Lou: (laughs) God. [shivers and hugs himself]</td>\n",
       "      <td>4</td>\n",
       "      <td>Misfits and Magic</td>\n",
       "    </tr>\n",
       "  </tbody>\n",
       "</table>\n",
       "</div>"
      ],
      "text/plain": [
       "       index                                       variable episode  \\\n",
       "67899   2789  Lou: (laughs) God. [shivers and hugs himself]       4   \n",
       "\n",
       "                  season  \n",
       "67899  Misfits and Magic  "
      ]
     },
     "execution_count": 160,
     "metadata": {},
     "output_type": "execute_result"
    }
   ],
   "source": [
    "d20_df[d20_df['variable'].str.contains('.*\\(.*\\).*\\[.*\\].*')]"
   ]
  },
  {
   "cell_type": "code",
   "execution_count": 161,
   "id": "e29aaa17",
   "metadata": {},
   "outputs": [],
   "source": [
    "rsq_bracks = pd.DataFrame(d20_df[d20_df['variable'].str.contains('.*\\(.*\\).*\\[.*\\].*')])"
   ]
  },
  {
   "cell_type": "code",
   "execution_count": 162,
   "id": "e52392f7",
   "metadata": {},
   "outputs": [
    {
     "data": {
      "text/plain": [
       "67899    (laughs)[shivers and hugs himself]\n",
       "Name: variable, dtype: object"
      ]
     },
     "execution_count": 162,
     "metadata": {},
     "output_type": "execute_result"
    }
   ],
   "source": [
    "rsq_bracks['variable'] = rsq_bracks['variable'].str.replace(r'.*(\\(.*\\)).*(\\[.*\\]).*', r'\\1\\2', regex=True).astype('str')\n",
    "rsq = pd.Series(rsq_bracks['variable'])\n",
    "rsq"
   ]
  },
  {
   "cell_type": "code",
   "execution_count": 163,
   "id": "bdf73e56",
   "metadata": {},
   "outputs": [],
   "source": [
    "d20_df['variable'] = d20_df['variable'].str.replace(r'(.*)\\(.*\\)(.*)\\[.*\\].*', r'\\1\\2', regex=True).astype('str')"
   ]
  },
  {
   "cell_type": "code",
   "execution_count": 164,
   "id": "21c02046",
   "metadata": {},
   "outputs": [],
   "source": [
    "#d20_df[d20_df['variable'].str.contains('^\\[.*\\]$')]"
   ]
  },
  {
   "cell_type": "code",
   "execution_count": 165,
   "id": "7db0cc81",
   "metadata": {},
   "outputs": [],
   "source": [
    "sq_bracks = pd.DataFrame(d20_df[d20_df['variable'].str.contains('^\\[.*\\]$')])"
   ]
  },
  {
   "cell_type": "code",
   "execution_count": 166,
   "id": "e80e40af",
   "metadata": {},
   "outputs": [
    {
     "data": {
      "text/plain": [
       "15             [flashback from episode 9]\n",
       "31                    [return to present]\n",
       "36                          [Omar laughs]\n",
       "58                        [players laugh]\n",
       "70                      [Aabria laughing]\n",
       "                       ...               \n",
       "68960         [Sam makes shushing noises]\n",
       "69036                             [pause]\n",
       "69168                         [all laugh]\n",
       "69242              [glass smashing sound]\n",
       "70606    [echoing, knocking sound effect]\n",
       "Name: variable, Length: 839, dtype: object"
      ]
     },
     "execution_count": 166,
     "metadata": {},
     "output_type": "execute_result"
    }
   ],
   "source": [
    "sq_bracks['variable'] = sq_bracks['variable'].str.replace(r'^(\\[.*\\])$', r'\\1', regex=True).astype('str')\n",
    "sq = pd.Series(sq_bracks['variable'])\n",
    "sq"
   ]
  },
  {
   "cell_type": "code",
   "execution_count": 167,
   "id": "1871db3f",
   "metadata": {},
   "outputs": [],
   "source": [
    "d20_df['variable'] = d20_df['variable'].str.replace(r'^(\\[.*\\])$', r'', regex=True).astype('str')"
   ]
  },
  {
   "cell_type": "code",
   "execution_count": 168,
   "id": "1b57bbfb",
   "metadata": {},
   "outputs": [
    {
     "data": {
      "text/html": [
       "<div>\n",
       "<style scoped>\n",
       "    .dataframe tbody tr th:only-of-type {\n",
       "        vertical-align: middle;\n",
       "    }\n",
       "\n",
       "    .dataframe tbody tr th {\n",
       "        vertical-align: top;\n",
       "    }\n",
       "\n",
       "    .dataframe thead th {\n",
       "        text-align: right;\n",
       "    }\n",
       "</style>\n",
       "<table border=\"1\" class=\"dataframe\">\n",
       "  <thead>\n",
       "    <tr style=\"text-align: right;\">\n",
       "      <th></th>\n",
       "      <th>index</th>\n",
       "      <th>variable</th>\n",
       "      <th>episode</th>\n",
       "      <th>season</th>\n",
       "    </tr>\n",
       "  </thead>\n",
       "  <tbody>\n",
       "    <tr>\n",
       "      <th>1845</th>\n",
       "      <td>551</td>\n",
       "      <td>Brennan: I go... [sound of wings flapping] [Br...</td>\n",
       "      <td>1</td>\n",
       "      <td>ACOFF</td>\n",
       "    </tr>\n",
       "  </tbody>\n",
       "</table>\n",
       "</div>"
      ],
      "text/plain": [
       "      index                                           variable episode season\n",
       "1845    551  Brennan: I go... [sound of wings flapping] [Br...       1  ACOFF"
      ]
     },
     "execution_count": 168,
     "metadata": {},
     "output_type": "execute_result"
    }
   ],
   "source": [
    "d20_df[d20_df['variable'].str.contains('.*\\[.*\\].*\\[.*\\].*\\[.*\\].*')]"
   ]
  },
  {
   "cell_type": "code",
   "execution_count": 169,
   "id": "5a8f0c52",
   "metadata": {},
   "outputs": [],
   "source": [
    "three_bracks = pd.DataFrame(d20_df[d20_df['variable'].str.contains('.*\\[.*\\].*\\[.*\\].*\\[.*\\].*')])"
   ]
  },
  {
   "cell_type": "code",
   "execution_count": 170,
   "id": "8cfd5583",
   "metadata": {},
   "outputs": [
    {
     "data": {
      "text/plain": [
       "1845    [sound of wings flapping][Brennan gulps][coughs]\n",
       "Name: variable, dtype: object"
      ]
     },
     "execution_count": 170,
     "metadata": {},
     "output_type": "execute_result"
    }
   ],
   "source": [
    "three_bracks['variable'] = three_bracks['variable'].str.replace(r'.*(\\[.*\\]).*(\\[.*\\]).*(\\[.*\\]).*', r'\\1\\2\\3', regex=True).astype('str')\n",
    "three = pd.Series(three_bracks['variable'])\n",
    "three"
   ]
  },
  {
   "cell_type": "code",
   "execution_count": 171,
   "id": "0c879c49",
   "metadata": {},
   "outputs": [],
   "source": [
    "d20_df['variable'] = d20_df['variable'].str.replace(r'(.*)\\[.*\\].*\\[.*\\].*\\[.*\\](.*)', r'\\1\\2', regex=True).astype('str')"
   ]
  },
  {
   "cell_type": "code",
   "execution_count": 172,
   "id": "289dfc50",
   "metadata": {},
   "outputs": [
    {
     "data": {
      "text/html": [
       "<div>\n",
       "<style scoped>\n",
       "    .dataframe tbody tr th:only-of-type {\n",
       "        vertical-align: middle;\n",
       "    }\n",
       "\n",
       "    .dataframe tbody tr th {\n",
       "        vertical-align: top;\n",
       "    }\n",
       "\n",
       "    .dataframe thead th {\n",
       "        text-align: right;\n",
       "    }\n",
       "</style>\n",
       "<table border=\"1\" class=\"dataframe\">\n",
       "  <thead>\n",
       "    <tr style=\"text-align: right;\">\n",
       "      <th></th>\n",
       "      <th>index</th>\n",
       "      <th>variable</th>\n",
       "      <th>episode</th>\n",
       "      <th>season</th>\n",
       "    </tr>\n",
       "  </thead>\n",
       "  <tbody>\n",
       "    <tr>\n",
       "      <th>19195</th>\n",
       "      <td>824</td>\n",
       "      <td>Major Hob: [sighs softly] [inhales and exhales...</td>\n",
       "      <td>8</td>\n",
       "      <td>ACOFF</td>\n",
       "    </tr>\n",
       "    <tr>\n",
       "      <th>44881</th>\n",
       "      <td>494</td>\n",
       "      <td>Aabria: Insight check. [Jasper breathes deeply...</td>\n",
       "      <td>6</td>\n",
       "      <td>Burrow's End</td>\n",
       "    </tr>\n",
       "    <tr>\n",
       "      <th>47679</th>\n",
       "      <td>3292</td>\n",
       "      <td>cover this big hole. [shout] I'm a mother! [st...</td>\n",
       "      <td>6</td>\n",
       "      <td>Burrow's End</td>\n",
       "    </tr>\n",
       "  </tbody>\n",
       "</table>\n",
       "</div>"
      ],
      "text/plain": [
       "       index                                           variable episode  \\\n",
       "19195    824  Major Hob: [sighs softly] [inhales and exhales...       8   \n",
       "44881    494  Aabria: Insight check. [Jasper breathes deeply...       6   \n",
       "47679   3292  cover this big hole. [shout] I'm a mother! [st...       6   \n",
       "\n",
       "             season  \n",
       "19195         ACOFF  \n",
       "44881  Burrow's End  \n",
       "47679  Burrow's End  "
      ]
     },
     "execution_count": 172,
     "metadata": {},
     "output_type": "execute_result"
    }
   ],
   "source": [
    "d20_df[d20_df['variable'].str.contains('.*\\[.*\\].*\\[.*\\].*\\[.*')]"
   ]
  },
  {
   "cell_type": "code",
   "execution_count": 173,
   "id": "7fde8fdf",
   "metadata": {},
   "outputs": [],
   "source": [
    "three_cut = pd.DataFrame(d20_df[d20_df['variable'].str.contains('.*\\[.*\\].*\\[.*\\].*\\[.*')])"
   ]
  },
  {
   "cell_type": "code",
   "execution_count": 174,
   "id": "3ac83bf8",
   "metadata": {},
   "outputs": [
    {
     "data": {
      "text/plain": [
       "19195    [sighs softly][inhales and exhales roughly][sighs\n",
       "44881       [Jasper breathes deeply][tense music][die taps\n",
       "47679                         [shout][stone scraping][cast\n",
       "Name: variable, dtype: object"
      ]
     },
     "execution_count": 174,
     "metadata": {},
     "output_type": "execute_result"
    }
   ],
   "source": [
    "three_cut['variable'] = three_cut['variable'].str.replace(r'.*(\\[.*\\]).*(\\[.*\\]).*(\\[.*)', r'\\1\\2\\3', regex=True).astype('str')\n",
    "three_cut = pd.Series(three_cut['variable'])\n",
    "three_cut"
   ]
  },
  {
   "cell_type": "code",
   "execution_count": 175,
   "id": "6c09f027",
   "metadata": {},
   "outputs": [],
   "source": [
    "d20_df['variable'] = d20_df['variable'].str.replace(r'(.*)\\[.*\\](.*)\\[.*\\](.*)\\[.*', r'\\1\\2\\3', regex=True).astype('str')"
   ]
  },
  {
   "cell_type": "code",
   "execution_count": 176,
   "id": "e709e227",
   "metadata": {},
   "outputs": [],
   "source": [
    "#d20_df[d20_df['variable'].str.contains('.*\\[.*\\].*\\[.*\\].*')]"
   ]
  },
  {
   "cell_type": "code",
   "execution_count": 177,
   "id": "7f2394ca",
   "metadata": {},
   "outputs": [],
   "source": [
    "two_bracks = pd.DataFrame(d20_df[d20_df['variable'].str.contains('.*\\[.*\\].*\\[.*\\].*')])"
   ]
  },
  {
   "cell_type": "code",
   "execution_count": 178,
   "id": "8a2dfacd",
   "metadata": {},
   "outputs": [
    {
     "data": {
      "text/plain": [
       "2584                                    [laughs][laughs]\n",
       "2780                         [stammering][clears throat]\n",
       "3578     [eats the letter without looking at it][pauses]\n",
       "3917                            [clears throat][frantic]\n",
       "4042                               [laughs][slams table]\n",
       "                              ...                       \n",
       "58485                             [snorts][normal voice]\n",
       "59654                                  [to Evan][louder]\n",
       "59692                                  [rolls][laughing]\n",
       "62857                                [whispered][normal]\n",
       "64768                               [stuttering][to Sam]\n",
       "Name: variable, Length: 109, dtype: object"
      ]
     },
     "execution_count": 178,
     "metadata": {},
     "output_type": "execute_result"
    }
   ],
   "source": [
    "two_bracks['variable'] = two_bracks['variable'].str.replace(r'.*(\\[.*\\]).*(\\[.*\\]).*', r'\\1\\2', regex=True).astype('str')\n",
    "two = pd.Series(two_bracks['variable'])\n",
    "two"
   ]
  },
  {
   "cell_type": "code",
   "execution_count": 179,
   "id": "02b5151e",
   "metadata": {},
   "outputs": [],
   "source": [
    "d20_df['variable'] = d20_df['variable'].str.replace(r'(.*)\\[.*\\](.*)\\[.*\\](.*)', r'\\1\\2\\3', regex=True).astype('str')"
   ]
  },
  {
   "cell_type": "code",
   "execution_count": 180,
   "id": "14a7bd48",
   "metadata": {},
   "outputs": [],
   "source": [
    "#d20_df[d20_df['variable'].str.contains('.*\\[.*\\].*\\[.*')]"
   ]
  },
  {
   "cell_type": "code",
   "execution_count": 181,
   "id": "09df3368",
   "metadata": {},
   "outputs": [],
   "source": [
    "two_cut = pd.DataFrame(d20_df[d20_df['variable'].str.contains('.*\\[.*\\].*\\[.*')])"
   ]
  },
  {
   "cell_type": "code",
   "execution_count": 182,
   "id": "15390f49",
   "metadata": {},
   "outputs": [
    {
     "data": {
      "text/plain": [
       "1927                                  [muttering][clears\n",
       "2425     [clears throat, then pauses][clears throat more\n",
       "37647                             [heart beating][static\n",
       "37921                            [group exhale][crickets\n",
       "38010       [yelling][somber music swells, stutters, and\n",
       "42618                 [Bryan Cranston impression][Jasper\n",
       "45254                   [blows sharply][players groaning\n",
       "45547                   [haunting sinister music][Jasper\n",
       "46589                  [screaming, holding the map][cast\n",
       "46728                                   [to Siobhan][die\n",
       "47036                     [tearfully][Brennan and Aabria\n",
       "47148                        [even louder][Siobhan sinks\n",
       "48024                                  [to Erika][to the\n",
       "48386                               [to Siobhan][Siobhan\n",
       "51284              [Brennan holds up five fingers][glass\n",
       "51338                               [hoarsely][he clears\n",
       "54106                    [stammers][cast laughing at the\n",
       "56591                        [group laughing][cast claps\n",
       "65353                                [yelling][pulls out\n",
       "66195                              [to Lou][to Erika and\n",
       "Name: variable, dtype: object"
      ]
     },
     "execution_count": 182,
     "metadata": {},
     "output_type": "execute_result"
    }
   ],
   "source": [
    "two_cut['variable'] = two_cut['variable'].str.replace(r'.*(\\[.*\\]).*(\\[.*)', r'\\1\\2', regex=True).astype('str')\n",
    "two_cut = pd.Series(two_cut['variable'])\n",
    "two_cut"
   ]
  },
  {
   "cell_type": "code",
   "execution_count": 183,
   "id": "082aaea6",
   "metadata": {},
   "outputs": [],
   "source": [
    "d20_df['variable'] = d20_df['variable'].str.replace(r'(.*)\\[.*\\](.*)\\[.*', r'\\1\\2', regex=True).astype('str')"
   ]
  },
  {
   "cell_type": "code",
   "execution_count": 184,
   "id": "f13060a4",
   "metadata": {},
   "outputs": [],
   "source": [
    "#d20_df[d20_df['variable'].str.contains('.*\\].*\\[.*')]"
   ]
  },
  {
   "cell_type": "code",
   "execution_count": 185,
   "id": "89f3116a",
   "metadata": {},
   "outputs": [],
   "source": [
    "odd_cut = pd.DataFrame(d20_df[d20_df['variable'].str.contains('.*\\].*\\[.*')])"
   ]
  },
  {
   "cell_type": "code",
   "execution_count": 186,
   "id": "11d12089",
   "metadata": {},
   "outputs": [
    {
     "data": {
      "text/plain": [
       "6659                             splashes][Emily laughing]\n",
       "37350                             makes a face][orchestral\n",
       "39096                                 music continues][all\n",
       "42185    looks away][to Jaysohn] You good? There's a lo...\n",
       "42789    comforts][Aabria cackles] She's asleep! She's ...\n",
       "46539                             his arms][Aabria laughs]\n",
       "46751            chuckling][Brennan sighs in exasperation]\n",
       "47168                               music][die taps table]\n",
       "51278                             chittering][tape clicks,\n",
       "56714                                      laughing][group\n",
       "Name: variable, dtype: object"
      ]
     },
     "execution_count": 186,
     "metadata": {},
     "output_type": "execute_result"
    }
   ],
   "source": [
    "odd_cut['variable'] = odd_cut['variable'].str.replace(r'(.*\\]).*(\\[.*)', r'\\1\\2', regex=True).astype('str')\n",
    "odd = pd.Series(odd_cut['variable'])\n",
    "odd"
   ]
  },
  {
   "cell_type": "code",
   "execution_count": 187,
   "id": "d3efa6e3",
   "metadata": {},
   "outputs": [],
   "source": [
    "d20_df['variable'] = d20_df['variable'].str.replace(r'.*\\](.*)\\[.*', r'\\1', regex=True).astype('str')"
   ]
  },
  {
   "cell_type": "code",
   "execution_count": 188,
   "id": "6a967b6b",
   "metadata": {},
   "outputs": [],
   "source": [
    "#d20_df[d20_df['variable'].str.contains('^\\[.*\\].*')]"
   ]
  },
  {
   "cell_type": "code",
   "execution_count": 189,
   "id": "a6382fe7",
   "metadata": {},
   "outputs": [],
   "source": [
    "lead_sq = pd.DataFrame(d20_df[d20_df['variable'].str.contains('^\\[.*\\].*')])"
   ]
  },
  {
   "cell_type": "code",
   "execution_count": 190,
   "id": "3e6abaa3",
   "metadata": {},
   "outputs": [
    {
     "data": {
      "text/plain": [
       "1251                        [to Andhera]\n",
       "1389                   [in normal voice]\n",
       "3031                            [laughs]\n",
       "4516                    [Emily laughing]\n",
       "5086                            [laughs]\n",
       "                      ...               \n",
       "60567                      [chef’s kiss]\n",
       "65071    [holds his arms out behind him]\n",
       "65529               [holds up the phone]\n",
       "66634                          [yelling]\n",
       "68548                         [stutters]\n",
       "Name: variable, Length: 71, dtype: object"
      ]
     },
     "execution_count": 190,
     "metadata": {},
     "output_type": "execute_result"
    }
   ],
   "source": [
    "lead_sq['variable'] = lead_sq['variable'].str.replace(r'^(\\[.*\\]).*', r'\\1', regex=True).astype('str')\n",
    "lead_sq = pd.Series(lead_sq['variable'])\n",
    "lead_sq"
   ]
  },
  {
   "cell_type": "code",
   "execution_count": 191,
   "id": "bb40a8f7",
   "metadata": {},
   "outputs": [],
   "source": [
    "d20_df['variable'] = d20_df['variable'].str.replace(r'^\\[.*\\](.*)', r'\\1', regex=True).astype('str')"
   ]
  },
  {
   "cell_type": "code",
   "execution_count": 192,
   "id": "88e48c09",
   "metadata": {},
   "outputs": [],
   "source": [
    "#d20_df[d20_df['variable'].str.contains('.*\\[.*\\]$')]"
   ]
  },
  {
   "cell_type": "code",
   "execution_count": 193,
   "id": "61f8bf25",
   "metadata": {},
   "outputs": [],
   "source": [
    "trail_sq = pd.DataFrame(d20_df[d20_df['variable'].str.contains('.*\\[.*\\]$')])"
   ]
  },
  {
   "cell_type": "code",
   "execution_count": 194,
   "id": "75e11f21",
   "metadata": {},
   "outputs": [
    {
     "data": {
      "text/plain": [
       "418                      [stammering]\n",
       "540          [he winks, a bell dings]\n",
       "629           [gasping effort sounds]\n",
       "689       [Squak gasping frantically]\n",
       "709                           [sighs]\n",
       "                     ...             \n",
       "67019            [nods encouragingly]\n",
       "67313    [Evan and Jammer chest bump]\n",
       "67807             [holding his token]\n",
       "68562                  [silent pause]\n",
       "69363    [looks at Lou questioningly]\n",
       "Name: variable, Length: 811, dtype: object"
      ]
     },
     "execution_count": 194,
     "metadata": {},
     "output_type": "execute_result"
    }
   ],
   "source": [
    "trail_sq['variable'] = trail_sq['variable'].str.replace(r'.*(\\[.*\\])$', r'\\1', regex=True).astype('str')\n",
    "trail_sq = pd.Series(trail_sq['variable'])\n",
    "trail_sq"
   ]
  },
  {
   "cell_type": "code",
   "execution_count": 195,
   "id": "a0f8eeea",
   "metadata": {},
   "outputs": [],
   "source": [
    "d20_df['variable'] = d20_df['variable'].str.replace(r'(.*)\\[.*\\]$', r'\\1', regex=True).astype('str')"
   ]
  },
  {
   "cell_type": "code",
   "execution_count": 196,
   "id": "e1ffbbdf",
   "metadata": {},
   "outputs": [],
   "source": [
    "#d20_df[d20_df['variable'].str.contains('.*\\[.*\\].*')]"
   ]
  },
  {
   "cell_type": "code",
   "execution_count": 197,
   "id": "107718e1",
   "metadata": {},
   "outputs": [],
   "source": [
    "mid_sq = pd.DataFrame(d20_df[d20_df['variable'].str.contains('.*\\[.*\\].*')])"
   ]
  },
  {
   "cell_type": "code",
   "execution_count": 198,
   "id": "20b18b34",
   "metadata": {},
   "outputs": [
    {
     "data": {
      "text/plain": [
       "199                  [laughing]\n",
       "371                   [singing]\n",
       "472                    [grunts]\n",
       "565      [in Major Hob’s voice]\n",
       "570           [looks at camera]\n",
       "                  ...          \n",
       "70446               [intensely]\n",
       "70483          [in realization]\n",
       "70529      [in a growing chant]\n",
       "70832               [deep sigh]\n",
       "70871        [mock whiny voice]\n",
       "Name: variable, Length: 1749, dtype: object"
      ]
     },
     "execution_count": 198,
     "metadata": {},
     "output_type": "execute_result"
    }
   ],
   "source": [
    "mid_sq['variable'] = mid_sq['variable'].str.replace(r'.*(\\[.*\\]).*', r'\\1', regex=True).astype('str')\n",
    "mid_sq = pd.Series(mid_sq['variable'])\n",
    "mid_sq"
   ]
  },
  {
   "cell_type": "code",
   "execution_count": 199,
   "id": "f3d1c466",
   "metadata": {},
   "outputs": [],
   "source": [
    "d20_df['variable'] = d20_df['variable'].str.replace(r'(.*)\\[.*\\](.*)', r'\\1\\2', regex=True).astype('str')"
   ]
  },
  {
   "cell_type": "code",
   "execution_count": 200,
   "id": "a7443948",
   "metadata": {},
   "outputs": [],
   "source": [
    "#d20_df[d20_df['variable'].str.contains('.*\\[.*')]"
   ]
  },
  {
   "cell_type": "code",
   "execution_count": 201,
   "id": "f8f69db1",
   "metadata": {},
   "outputs": [
    {
     "name": "stdout",
     "output_type": "stream",
     "text": [
      "It is, as ever, the Gloaming here in the Unseelie Court. [thunderstorm\n",
      "Aabria: And then just hops in a circle, and then kind of... [caws\n",
      "in. I'll be playing Evan Kelmp. Thanks for being here. [really savouring\n",
      "Sam: Oh, that's perfect. Yeah, just put it right on the page. [makes\n"
     ]
    }
   ],
   "source": [
    "print(d20_df.variable[1414])\n",
    "print(d20_df.variable[4361])\n",
    "print(d20_df.variable[68391])\n",
    "print(d20_df.variable[67141])"
   ]
  },
  {
   "cell_type": "markdown",
   "id": "b5b0a10f",
   "metadata": {},
   "source": [
    "Well isn't this another interesting quirk. Sometimes our bracket phrases are split between lines. \n",
    "Okay! No problem, we'll split it as-is per line."
   ]
  },
  {
   "cell_type": "code",
   "execution_count": 202,
   "id": "205505bd",
   "metadata": {},
   "outputs": [],
   "source": [
    "fhalf_sq = pd.DataFrame(d20_df[d20_df['variable'].str.contains('.*\\[.*')])"
   ]
  },
  {
   "cell_type": "code",
   "execution_count": 203,
   "id": "389efe9a",
   "metadata": {},
   "outputs": [
    {
     "data": {
      "text/plain": [
       "1414                                         [thunderstorm\n",
       "2375     [bird squawking and feather rustling as an ima...\n",
       "4361                                                 [caws\n",
       "5265                                               [clears\n",
       "5676                                                   [to\n",
       "                               ...                        \n",
       "66995                              [holds his wand at Sam,\n",
       "67141                                               [makes\n",
       "68391                                    [really savouring\n",
       "68810                                               [glass\n",
       "69593                                              [gasps,\n",
       "Name: variable, Length: 180, dtype: object"
      ]
     },
     "execution_count": 203,
     "metadata": {},
     "output_type": "execute_result"
    }
   ],
   "source": [
    "fhalf_sq['variable'] = fhalf_sq['variable'].str.replace(r'.*(\\[.*)', r'\\1', regex=True).astype('str')\n",
    "fhalf_sq = pd.Series(fhalf_sq['variable'])\n",
    "fhalf_sq"
   ]
  },
  {
   "cell_type": "code",
   "execution_count": 204,
   "id": "d48420a5",
   "metadata": {},
   "outputs": [],
   "source": [
    "d20_df['variable'] = d20_df['variable'].str.replace(r'(.*)\\[.*', r'\\1', regex=True).astype('str')"
   ]
  },
  {
   "cell_type": "code",
   "execution_count": 205,
   "id": "30fcc8c4",
   "metadata": {},
   "outputs": [],
   "source": [
    "#d20_df[d20_df['variable'].str.contains('.*\\].*')]"
   ]
  },
  {
   "cell_type": "code",
   "execution_count": 206,
   "id": "ba3d5d79",
   "metadata": {},
   "outputs": [],
   "source": [
    "bhalf_sq = pd.DataFrame(d20_df[d20_df['variable'].str.contains('.*\\].*')])"
   ]
  },
  {
   "cell_type": "code",
   "execution_count": 207,
   "id": "d8c494d0",
   "metadata": {},
   "outputs": [
    {
     "data": {
      "text/plain": [
       "1415                                          rumbling]\n",
       "1928                                            throat]\n",
       "2376     a crowned pigeon is edited into Aabria’s hand]\n",
       "2426                                      emphatically]\n",
       "4362                                           sweetly]\n",
       "                              ...                      \n",
       "66996                    which she tentatively mirrors]\n",
       "67142            peace signs and sticks out her tongue]\n",
       "68392                                    the syllables]\n",
       "68811                                   breaking sound]\n",
       "69594                                    turns to Evan]\n",
       "Name: variable, Length: 180, dtype: object"
      ]
     },
     "execution_count": 207,
     "metadata": {},
     "output_type": "execute_result"
    }
   ],
   "source": [
    "bhalf_sq['variable'] = bhalf_sq['variable'].str.replace(r'(.*\\]).*', r'\\1', regex=True).astype('str')\n",
    "bhalf_sq = pd.Series(bhalf_sq['variable'])\n",
    "bhalf_sq"
   ]
  },
  {
   "cell_type": "code",
   "execution_count": 208,
   "id": "269bd831",
   "metadata": {},
   "outputs": [],
   "source": [
    "d20_df['variable'] = d20_df['variable'].str.replace(r'.*\\](.*)', r'\\1', regex=True).astype('str')"
   ]
  },
  {
   "cell_type": "code",
   "execution_count": 209,
   "id": "88942ba1",
   "metadata": {},
   "outputs": [],
   "source": [
    "#d20_df[d20_df['variable'].str.contains('.*\\(.*\\).*\\(.*\\).*\\(.*\\).*')]"
   ]
  },
  {
   "cell_type": "code",
   "execution_count": 210,
   "id": "d2c9e42b",
   "metadata": {},
   "outputs": [],
   "source": [
    "trip_round = pd.DataFrame(d20_df[d20_df['variable'].str.contains('.*\\(.*\\).*\\(.*\\).*\\(.*\\).*')])"
   ]
  },
  {
   "cell_type": "code",
   "execution_count": 211,
   "id": "c8d6f317",
   "metadata": {},
   "outputs": [
    {
     "data": {
      "text/plain": [
       "30038       (Spanish accent)(group laughs)(radio crackles)\n",
       "34540           (group laughs)(Jasper sighs)(group laughs)\n",
       "34812    (slow music)(Izzy claps)(Chimes for a natural 20)\n",
       "34902    (breathy)(Brennan groans breathily)(group laug...\n",
       "34906                         (slap)(groans)(group laughs)\n",
       "Name: variable, dtype: object"
      ]
     },
     "execution_count": 211,
     "metadata": {},
     "output_type": "execute_result"
    }
   ],
   "source": [
    "trip_round['variable'] = trip_round['variable'].str.replace(r'.*(\\(.*\\)).*(\\(.*\\)).*(\\(.*\\)).*', r'\\1\\2\\3', regex=True).astype('str')\n",
    "trip = pd.Series(trip_round['variable'])\n",
    "trip"
   ]
  },
  {
   "cell_type": "code",
   "execution_count": 212,
   "id": "d268ec80",
   "metadata": {},
   "outputs": [],
   "source": [
    "d20_df['variable'] = d20_df['variable'].str.replace(r'(.*)\\(.*\\)(.*)\\(.*\\)(.*)\\(.*\\)(.*)', r'\\1\\2\\3\\4', regex=True).astype('str')"
   ]
  },
  {
   "cell_type": "code",
   "execution_count": 213,
   "id": "ffd98112",
   "metadata": {},
   "outputs": [],
   "source": [
    "trip_cut = pd.DataFrame(d20_df[d20_df['variable'].str.contains('.*\\(.*\\).*\\(.*\\).*\\(.*$')])"
   ]
  },
  {
   "cell_type": "code",
   "execution_count": 214,
   "id": "3811360d",
   "metadata": {},
   "outputs": [
    {
     "data": {
      "text/plain": [
       "30233                (impressed)(Brennan chortles)(Rashawn\n",
       "35343    (slow music)(heart beats)(group laughs as Izzy...\n",
       "53478             (Erika screams)(Aabria screams)(everyone\n",
       "Name: variable, dtype: object"
      ]
     },
     "execution_count": 214,
     "metadata": {},
     "output_type": "execute_result"
    }
   ],
   "source": [
    "trip_cut['variable'] = trip_cut['variable'].str.replace(r'.*(\\(.*\\)).*(\\(.*\\)).*(\\(.*)$', r'\\1\\2\\3', regex=True).astype('str')\n",
    "trip_cut = pd.Series(trip_cut['variable'])\n",
    "trip_cut"
   ]
  },
  {
   "cell_type": "code",
   "execution_count": 215,
   "id": "54aa8104",
   "metadata": {},
   "outputs": [],
   "source": [
    "d20_df['variable'] = d20_df['variable'].str.replace(r'(.*)\\(.*\\)(.*)\\(.*\\)(.*)\\(.*$', r'\\1\\2\\3', regex=True).astype('str')"
   ]
  },
  {
   "cell_type": "code",
   "execution_count": 216,
   "id": "8d5efd68",
   "metadata": {},
   "outputs": [],
   "source": [
    "final = pd.DataFrame(d20_df[d20_df['variable'].str.contains('.*\\).*\\(.*\\) \\(.*$')])"
   ]
  },
  {
   "cell_type": "code",
   "execution_count": 217,
   "id": "fb0a3ddc",
   "metadata": {},
   "outputs": [
    {
     "data": {
      "text/plain": [
       "34498    out)(inhales)(big\n",
       "Name: variable, dtype: object"
      ]
     },
     "execution_count": 217,
     "metadata": {},
     "output_type": "execute_result"
    }
   ],
   "source": [
    "final['variable'] = final['variable'].str.replace(r'(.*\\)).*(\\(.*\\)) (\\(.*$)', r'\\1\\2\\3', regex=True).astype('str')\n",
    "final = pd.Series(final['variable'])\n",
    "final"
   ]
  },
  {
   "cell_type": "code",
   "execution_count": 218,
   "id": "08148e0d",
   "metadata": {},
   "outputs": [],
   "source": [
    "d20_df['variable'] = d20_df['variable'].str.replace(r'.*\\)(.*)\\(.*\\) \\(.*$', r'\\1', regex=True).astype('str')"
   ]
  },
  {
   "cell_type": "code",
   "execution_count": 219,
   "id": "b45f4fce",
   "metadata": {},
   "outputs": [],
   "source": [
    "#d20_df[d20_df['variable'].str.contains('.*\\(.*\\).*\\(.*\\).*')]"
   ]
  },
  {
   "cell_type": "code",
   "execution_count": 220,
   "id": "55edc134",
   "metadata": {},
   "outputs": [],
   "source": [
    "dub_round = pd.DataFrame(d20_df[d20_df['variable'].str.contains('.*\\(.*\\).*\\(.*\\).*')])"
   ]
  },
  {
   "cell_type": "code",
   "execution_count": 221,
   "id": "0a5b6666",
   "metadata": {},
   "outputs": [
    {
     "data": {
      "text/plain": [
       "23912                         (Aabria laughs)(Rick laughs)\n",
       "23954          (all laugh)(speakers talk over one another)\n",
       "23967                       (Denise laughs)(Aabria laughs)\n",
       "24016                         (Aabria laughs)(Rick laughs)\n",
       "24040                       (Aabria laughs)(Denise laughs)\n",
       "24286                                  (all laugh)(laughs)\n",
       "24504                       (Rick chuckles)(Aabria laughs)\n",
       "24985                               (laughs)(group laughs)\n",
       "25886                                (laughter)(crosstalk)\n",
       "25906                           (group laughing)(cheering)\n",
       "29825                                   (choked)(in shock)\n",
       "30171                        (Erika laughs)(twinkly music)\n",
       "30238      (as Tara)(Erika cackles at Jasper's impression)\n",
       "30245                  (As Tara)(Brennan and Aabria laugh)\n",
       "30955                       (lightning cracks)(dice rolls)\n",
       "31042                      (Aabria laughs)(dramatic music)\n",
       "31650       (group cheers a critical roll)(dramatic music)\n",
       "31674                    (impact on metal)(dramatic music)\n",
       "31796                           (internally)(somber music)\n",
       "31835                                 (as Viola)(as Lukas)\n",
       "32131                       (group cheers)(dramatic music)\n",
       "34250                                       (sighs)(sighs)\n",
       "34330                               (laughs)(group laughs)\n",
       "34717                     (music crescendos)(group laughs)\n",
       "34957                          (chipmunk chitters)(laughs)\n",
       "35033                                        (Grunt)(Thud)\n",
       "35130                    (group chattering)(dice rattling)\n",
       "35308                        (echoing wind)(dice rattling)\n",
       "35339                         (group laughs)(Aabria claps)\n",
       "35395                               (laughs)(group laughs)\n",
       "35470                    (squishing and tearing)(growling)\n",
       "35685                      (magical whoosh)(dice rattling)\n",
       "35991                    (laughs)(Brennan laughs heartily)\n",
       "36181                                    (laughs)(whisper)\n",
       "36213     (Erika squeals)(Jasper blows air out forcefully)\n",
       "36432    (slow orchestral music continues)(heartbeat co...\n",
       "36619    (group laughs)(group sings the \"Bluey\" theme s...\n",
       "36775                                    (silent)(audibly)\n",
       "36782                          (group cheers)(group claps)\n",
       "36828    (dramatic orchestral music)(dramatic orchestra...\n",
       "39360                         (chuckling)(marching grunts)\n",
       "39825                                   (weakly)(laughing)\n",
       "40819                                 (whisper)(chuckling)\n",
       "40948                                (whispered)(normally)\n",
       "51572                      (clears throat)(in Viola voice)\n",
       "51922                                      (gasps)(coughs)\n",
       "52948    (players gasping and cheering)(Brennan whoopin...\n",
       "53621                                   (muttering)(gasps)\n",
       "55216                           (groans awkwardly)(laughs)\n",
       "60430                      (claps)(overlapping chattering)\n",
       "65135                              (corny voice)(laughing)\n",
       "68198                                  (whooshes)(popping)\n",
       "73273                   (everyone laughs loudly)(clapping)\n",
       "73453            (Erika screams)(Brennan and Aabria laugh)\n",
       "73509                 (Lou laughs)(Aabria and Erika laugh)\n",
       "73590                      (Danielle laughs)(Aabria claps)\n",
       "73595                                    (shouts)(screams)\n",
       "74373                                (laughter)(crosstalk)\n",
       "75029                  (laughing)(talking over each other)\n",
       "Name: variable, dtype: object"
      ]
     },
     "execution_count": 221,
     "metadata": {},
     "output_type": "execute_result"
    }
   ],
   "source": [
    "dub_round['variable'] = dub_round['variable'].str.replace(r'.*(\\(.*\\)).*(\\(.*\\)).*', r'\\1\\2', regex=True).astype('str')\n",
    "dub = pd.Series(dub_round['variable'])\n",
    "dub"
   ]
  },
  {
   "cell_type": "code",
   "execution_count": 222,
   "id": "4a289c8a",
   "metadata": {},
   "outputs": [],
   "source": [
    "d20_df['variable'] = d20_df['variable'].str.replace(r'(.*)\\(.*\\)(.*)\\(.*\\)(.*)', r'\\1\\2\\3', regex=True).astype('str')"
   ]
  },
  {
   "cell_type": "code",
   "execution_count": 223,
   "id": "ea8f8f52",
   "metadata": {},
   "outputs": [],
   "source": [
    "dub_cut = pd.DataFrame(d20_df[d20_df['variable'].str.contains('^.*\\).*\\(.*\\).*')])"
   ]
  },
  {
   "cell_type": "code",
   "execution_count": 224,
   "id": "6898f35f",
   "metadata": {},
   "outputs": [
    {
     "data": {
      "text/plain": [
       "24491                                 laughs)(Rick laughs)\n",
       "30562                        anticipation)(dramatic music)\n",
       "30564            crumbling and collapsing)(dramatic music)\n",
       "30623    delight)(Various exclamations of awe and disgust)\n",
       "31559            excitement)(Players cheering for Rashawn)\n",
       "Name: variable, dtype: object"
      ]
     },
     "execution_count": 224,
     "metadata": {},
     "output_type": "execute_result"
    }
   ],
   "source": [
    "dub_cut['variable'] = dub_cut['variable'].str.replace(r'^(.*\\)).*(\\(.*\\)).*', r'\\1\\2', regex=True).astype('str')\n",
    "dub_cut = pd.Series(dub_cut['variable'])\n",
    "dub_cut"
   ]
  },
  {
   "cell_type": "code",
   "execution_count": 225,
   "id": "d2401189",
   "metadata": {},
   "outputs": [],
   "source": [
    "d20_df['variable'] = d20_df['variable'].str.replace(r'^.*\\)(.*)\\(.*\\)(.*)', r'\\1\\2', regex=True).astype('str')"
   ]
  },
  {
   "cell_type": "code",
   "execution_count": 226,
   "id": "939358ec",
   "metadata": {},
   "outputs": [],
   "source": [
    "bdub_cut = pd.DataFrame(d20_df[d20_df['variable'].str.contains('.*\\(.*\\).*\\(.*$')])"
   ]
  },
  {
   "cell_type": "code",
   "execution_count": 227,
   "id": "b4411704",
   "metadata": {},
   "outputs": [
    {
     "data": {
      "text/plain": [
       "26752                               (group laughing)(group\n",
       "29965                   (congested)(group laughing at this\n",
       "30622    (all scream in horror and disgust)(Erika laugh...\n",
       "30712                    (players laughing)(Erika imitates\n",
       "30919                    (Jasper)(Other players grimace at\n",
       "34497                        (deep breath in)(tight breath\n",
       "35703                              (players groaning)(bear\n",
       "35790                                       (chirps)(group\n",
       "36043                    (dramatic electronic music)(group\n",
       "36270                                 (group laughs)(group\n",
       "36413                (dice rattling)(slow electronic music\n",
       "40631                                  (under breath)(dice\n",
       "Name: variable, dtype: object"
      ]
     },
     "execution_count": 227,
     "metadata": {},
     "output_type": "execute_result"
    }
   ],
   "source": [
    "bdub_cut['variable'] = bdub_cut['variable'].str.replace(r'.*(\\(.*\\)).*(\\(.*)$', r'\\1\\2', regex=True).astype('str')\n",
    "bdub_cut = pd.Series(bdub_cut['variable'])\n",
    "bdub_cut"
   ]
  },
  {
   "cell_type": "code",
   "execution_count": 228,
   "id": "5bd9ae31",
   "metadata": {},
   "outputs": [],
   "source": [
    "d20_df['variable'] = d20_df['variable'].str.replace(r'(.*)\\(.*\\)(.*)\\(.*$', r'\\1\\2', regex=True).astype('str')"
   ]
  },
  {
   "cell_type": "code",
   "execution_count": 229,
   "id": "0c55f7a4",
   "metadata": {},
   "outputs": [],
   "source": [
    "#d20_df[d20_df['variable'].str.contains('^\\(.*\\)$')]"
   ]
  },
  {
   "cell_type": "code",
   "execution_count": 230,
   "id": "8aef45ff",
   "metadata": {},
   "outputs": [],
   "source": [
    "r_bracks = pd.DataFrame(d20_df[d20_df['variable'].str.contains('^\\(.*\\)$')])"
   ]
  },
  {
   "cell_type": "code",
   "execution_count": 231,
   "id": "b8c22745",
   "metadata": {},
   "outputs": [
    {
     "data": {
      "text/plain": [
       "23689               (all cheering)\n",
       "23776              (Rick chuckles)\n",
       "23962                  (all laugh)\n",
       "23985                     (laughs)\n",
       "24438               (Ebony laughs)\n",
       "                   ...            \n",
       "74790    (talking over each other)\n",
       "74827               (all laughing)\n",
       "74855                  (all laugh)\n",
       "74914                     (laughs)\n",
       "75691            (distant banging)\n",
       "Name: variable, Length: 321, dtype: object"
      ]
     },
     "execution_count": 231,
     "metadata": {},
     "output_type": "execute_result"
    }
   ],
   "source": [
    "r_bracks['variable'] = r_bracks['variable'].str.replace(r'.*(\\(.*\\)).*(\\(.*\\)).*', r'\\1\\2', regex=True).astype('str')\n",
    "rbrk = pd.Series(r_bracks['variable'])\n",
    "rbrk"
   ]
  },
  {
   "cell_type": "code",
   "execution_count": 232,
   "id": "e1dde0e8",
   "metadata": {},
   "outputs": [],
   "source": [
    "d20_df['variable'] = d20_df['variable'].str.replace(r'^\\(.*\\)$', r'', regex=True).astype('str')"
   ]
  },
  {
   "cell_type": "code",
   "execution_count": 233,
   "id": "ed09f8c4",
   "metadata": {},
   "outputs": [],
   "source": [
    "#d20_df[d20_df['variable'].str.contains('.*\\(.*\\)$')]"
   ]
  },
  {
   "cell_type": "code",
   "execution_count": 234,
   "id": "bc9ce374",
   "metadata": {},
   "outputs": [],
   "source": [
    "r_trail = pd.DataFrame(d20_df[d20_df['variable'].str.contains('.*\\(.*\\)$')])"
   ]
  },
  {
   "cell_type": "code",
   "execution_count": 235,
   "id": "ae8b9d56",
   "metadata": {},
   "outputs": [
    {
     "data": {
      "text/plain": [
       "23831      (chuckles)\n",
       "23839        (laughs)\n",
       "23846        (laughs)\n",
       "23849        (laughs)\n",
       "23976    (indistinct)\n",
       "             ...     \n",
       "75504        (laughs)\n",
       "75520        (laughs)\n",
       "75587        (laughs)\n",
       "75796        (laughs)\n",
       "75888        (laughs)\n",
       "Name: variable, Length: 549, dtype: object"
      ]
     },
     "execution_count": 235,
     "metadata": {},
     "output_type": "execute_result"
    }
   ],
   "source": [
    "r_trail['variable'] = r_trail['variable'].str.replace(r'.*(\\(.*\\))$', r'\\1', regex=True).astype('str')\n",
    "r_trail = pd.Series(r_trail['variable'])\n",
    "r_trail"
   ]
  },
  {
   "cell_type": "code",
   "execution_count": 236,
   "id": "8aae34eb",
   "metadata": {},
   "outputs": [],
   "source": [
    "d20_df['variable'] = d20_df['variable'].str.replace(r'(.*)\\(.*\\)$', r'\\1', regex=True).astype('str')"
   ]
  },
  {
   "cell_type": "code",
   "execution_count": 237,
   "id": "e73746ca",
   "metadata": {},
   "outputs": [],
   "source": [
    "#d20_df[d20_df['variable'].str.contains('^\\(.*\\).*')]"
   ]
  },
  {
   "cell_type": "code",
   "execution_count": 238,
   "id": "3799ea81",
   "metadata": {},
   "outputs": [],
   "source": [
    "r_lead = pd.DataFrame(d20_df[d20_df['variable'].str.contains('^\\(.*\\).*')])"
   ]
  },
  {
   "cell_type": "code",
   "execution_count": 239,
   "id": "a787d6cb",
   "metadata": {},
   "outputs": [
    {
     "data": {
      "text/plain": [
       "25120                                       (group laughs)\n",
       "26913                                           (laughing)\n",
       "26948                                     (group laughing)\n",
       "26949                                   (Brennan laughing)\n",
       "27036                                     (Emily laughing)\n",
       "27115                                           (applause)\n",
       "29358                                         (Omar gasps)\n",
       "30761                                (echoing dual voiced)\n",
       "31682                       (Rashawn and Jasper slap five)\n",
       "32267                                            (she/her)\n",
       "33001                                            (she/her)\n",
       "35336                                      (flesh tearing)\n",
       "35350                                        (heart beats)\n",
       "35401                                       (group laughs)\n",
       "35403                                           (stammers)\n",
       "36567                                             (laughs)\n",
       "36603                                       (group laughs)\n",
       "46161                                              (metal)\n",
       "54136                                              (gasps)\n",
       "55047                                      (cast laughing)\n",
       "60525                                       (group laughs)\n",
       "61267                                              (snaps)\n",
       "61362                                             (laughs)\n",
       "62768                                           (grunting)\n",
       "63118                                             (groans)\n",
       "73705                                   (whimpering voice)\n",
       "73803                                    (wimpishly groan)\n",
       "74152    (Lou is using his wands like chop sticks to pi...\n",
       "Name: variable, dtype: object"
      ]
     },
     "execution_count": 239,
     "metadata": {},
     "output_type": "execute_result"
    }
   ],
   "source": [
    "r_lead['variable'] = r_lead['variable'].str.replace(r'^(\\(.*\\)).*', r'\\1', regex=True).astype('str')\n",
    "r_lead = pd.Series(r_lead['variable'])\n",
    "r_lead"
   ]
  },
  {
   "cell_type": "code",
   "execution_count": 240,
   "id": "94a1b8b1",
   "metadata": {},
   "outputs": [],
   "source": [
    "d20_df['variable'] = d20_df['variable'].str.replace(r'^\\(.*\\)(.*)', r'\\1', regex=True).astype('str')"
   ]
  },
  {
   "cell_type": "code",
   "execution_count": 241,
   "id": "0999713e",
   "metadata": {},
   "outputs": [],
   "source": [
    "#d20_df[d20_df['variable'].str.contains('.*\\(.*\\).*')]"
   ]
  },
  {
   "cell_type": "code",
   "execution_count": 242,
   "id": "b738cd62",
   "metadata": {},
   "outputs": [],
   "source": [
    "mid_r = pd.DataFrame(d20_df[d20_df['variable'].str.contains('.*\\(.*\\).*')])"
   ]
  },
  {
   "cell_type": "code",
   "execution_count": 243,
   "id": "1a897f6c",
   "metadata": {},
   "outputs": [
    {
     "data": {
      "text/plain": [
       "23553    (Aabria coughs)\n",
       "23726         (laughing)\n",
       "23797    (Rick chuckles)\n",
       "23922           (laughs)\n",
       "24001           (laughs)\n",
       "              ...       \n",
       "75392           (laughs)\n",
       "75573           (laughs)\n",
       "75586           (grunts)\n",
       "75867           (laughs)\n",
       "75979           (laughs)\n",
       "Name: variable, Length: 501, dtype: object"
      ]
     },
     "execution_count": 243,
     "metadata": {},
     "output_type": "execute_result"
    }
   ],
   "source": [
    "mid_r['variable'] = mid_r['variable'].str.replace(r'.*(\\(.*\\)).*', r'\\1', regex=True).astype('str')\n",
    "mid_r = pd.Series(mid_r['variable'])\n",
    "mid_r"
   ]
  },
  {
   "cell_type": "code",
   "execution_count": 244,
   "id": "098d748d",
   "metadata": {},
   "outputs": [],
   "source": [
    "d20_df['variable'] = d20_df['variable'].str.replace(r'(.*)\\(.*\\)(.*)', r'\\1\\2', regex=True).astype('str')"
   ]
  },
  {
   "cell_type": "code",
   "execution_count": 245,
   "id": "3f989aac",
   "metadata": {},
   "outputs": [],
   "source": [
    "#d20_df[d20_df['variable'].str.contains('\\(')]"
   ]
  },
  {
   "cell_type": "code",
   "execution_count": 246,
   "id": "4f62bd2d",
   "metadata": {},
   "outputs": [],
   "source": [
    "fhalf_r = pd.DataFrame(d20_df[d20_df['variable'].str.contains('.*\\(.*')])"
   ]
  },
  {
   "cell_type": "code",
   "execution_count": 247,
   "id": "a34e1b98",
   "metadata": {},
   "outputs": [
    {
     "data": {
      "text/plain": [
       "24351                (all\n",
       "24490              (Ebony\n",
       "24610              (group\n",
       "26876              (Emily\n",
       "27023              (group\n",
       "               ...       \n",
       "64925           (dramatic\n",
       "65962             (clears\n",
       "66811    (cute laugh that\n",
       "73473               (hand\n",
       "74871         (mimics gun\n",
       "Name: variable, Length: 78, dtype: object"
      ]
     },
     "execution_count": 247,
     "metadata": {},
     "output_type": "execute_result"
    }
   ],
   "source": [
    "fhalf_r['variable'] = fhalf_r['variable'].str.replace(r'.*(\\(.*)', r'\\1', regex=True).astype('str')\n",
    "fhalf_r = pd.Series(fhalf_r['variable'])\n",
    "fhalf_r"
   ]
  },
  {
   "cell_type": "code",
   "execution_count": 248,
   "id": "b7f1ab88",
   "metadata": {},
   "outputs": [],
   "source": [
    "d20_df['variable'] = d20_df['variable'].str.replace(r'(.*)\\(.*', r'\\1', regex=True).astype('str')"
   ]
  },
  {
   "cell_type": "code",
   "execution_count": 249,
   "id": "a353149a",
   "metadata": {},
   "outputs": [],
   "source": [
    "#d20_df[d20_df['variable'].str.contains('\\)')]"
   ]
  },
  {
   "cell_type": "code",
   "execution_count": 250,
   "id": "9c45a2c0",
   "metadata": {},
   "outputs": [],
   "source": [
    "bhalf_r = pd.DataFrame(d20_df[d20_df['variable'].str.contains('.*\\).*')])"
   ]
  },
  {
   "cell_type": "code",
   "execution_count": 251,
   "id": "2eae6b47",
   "metadata": {},
   "outputs": [
    {
     "data": {
      "text/plain": [
       "24352                                  laugh)\n",
       "24611                                 laughs)\n",
       "26753                               laughing)\n",
       "26877                               laughing)\n",
       "27024                               laughing)\n",
       "                         ...                 \n",
       "65963                                 throat)\n",
       "66812    turns into a classic witch’s cackle)\n",
       "73474                                  smack)\n",
       "74155                       the horn gesture)\n",
       "74872                                  noise)\n",
       "Name: variable, Length: 85, dtype: object"
      ]
     },
     "execution_count": 251,
     "metadata": {},
     "output_type": "execute_result"
    }
   ],
   "source": [
    "bhalf_r['variable'] = bhalf_r['variable'].str.replace(r'(.*\\)).*', r'\\1', regex=True).astype('str')\n",
    "bhalf_r = pd.Series(bhalf_r['variable'])\n",
    "bhalf_r"
   ]
  },
  {
   "cell_type": "code",
   "execution_count": 252,
   "id": "7792624b",
   "metadata": {},
   "outputs": [],
   "source": [
    "d20_df['variable'] = d20_df['variable'].str.replace(r'.*\\)(.*)', r'\\1', regex=True).astype('str')"
   ]
  },
  {
   "cell_type": "code",
   "execution_count": null,
   "id": "a313412a",
   "metadata": {},
   "outputs": [],
   "source": []
  },
  {
   "cell_type": "code",
   "execution_count": 253,
   "id": "1a16d418",
   "metadata": {},
   "outputs": [],
   "source": [
    "sounds = [small, mix_b, rsq, sq, three, three_cut, odd, two, two_cut, lead_sq, trail_sq, mid_sq, fhalf_sq, bhalf_sq, trip, trip_cut, final, dub, dub_cut, bdub_cut, rbrk, r_trail, odd_r, r_lead, mid_r, fhalf_r, bhalf_r]"
   ]
  },
  {
   "cell_type": "code",
   "execution_count": 254,
   "id": "3c365f79",
   "metadata": {},
   "outputs": [],
   "source": [
    "noises = pd.concat(sounds)"
   ]
  },
  {
   "cell_type": "code",
   "execution_count": 255,
   "id": "6aec7234",
   "metadata": {},
   "outputs": [],
   "source": [
    "duplicates = noises.index[noises.index.duplicated(keep=False)]"
   ]
  },
  {
   "cell_type": "code",
   "execution_count": 256,
   "id": "c26a84b6",
   "metadata": {},
   "outputs": [
    {
     "name": "stdout",
     "output_type": "stream",
     "text": [
      "Int64Index([], dtype='int64')\n"
     ]
    }
   ],
   "source": [
    "print(duplicates)"
   ]
  },
  {
   "cell_type": "code",
   "execution_count": null,
   "id": "fb2cbfe1",
   "metadata": {},
   "outputs": [],
   "source": []
  },
  {
   "cell_type": "code",
   "execution_count": 257,
   "id": "2c5d357a",
   "metadata": {},
   "outputs": [],
   "source": [
    "d20_df['nonspeech'] = noises"
   ]
  },
  {
   "cell_type": "code",
   "execution_count": 258,
   "id": "d519986b",
   "metadata": {},
   "outputs": [],
   "source": [
    "d20_df['nonspeech'] = d20_df['nonspeech'].fillna('')\n",
    "d20_df['inaudible_speech'] = ''"
   ]
  },
  {
   "cell_type": "code",
   "execution_count": 259,
   "id": "bd064d1a",
   "metadata": {},
   "outputs": [
    {
     "data": {
      "text/html": [
       "<div>\n",
       "<style scoped>\n",
       "    .dataframe tbody tr th:only-of-type {\n",
       "        vertical-align: middle;\n",
       "    }\n",
       "\n",
       "    .dataframe tbody tr th {\n",
       "        vertical-align: top;\n",
       "    }\n",
       "\n",
       "    .dataframe thead th {\n",
       "        text-align: right;\n",
       "    }\n",
       "</style>\n",
       "<table border=\"1\" class=\"dataframe\">\n",
       "  <thead>\n",
       "    <tr style=\"text-align: right;\">\n",
       "      <th></th>\n",
       "      <th>index</th>\n",
       "      <th>variable</th>\n",
       "      <th>episode</th>\n",
       "      <th>season</th>\n",
       "      <th>nonspeech</th>\n",
       "      <th>inaudible_speech</th>\n",
       "    </tr>\n",
       "  </thead>\n",
       "  <tbody>\n",
       "    <tr>\n",
       "      <th>0</th>\n",
       "      <td>10</td>\n",
       "      <td>Aabria: To the churlish Captain K.P. Hob, vene...</td>\n",
       "      <td>10</td>\n",
       "      <td>ACOFF</td>\n",
       "      <td></td>\n",
       "      <td></td>\n",
       "    </tr>\n",
       "    <tr>\n",
       "      <th>1</th>\n",
       "      <td>11</td>\n",
       "      <td>Goblin Court. To the master of ceremonies, Del...</td>\n",
       "      <td>10</td>\n",
       "      <td>ACOFF</td>\n",
       "      <td></td>\n",
       "      <td></td>\n",
       "    </tr>\n",
       "    <tr>\n",
       "      <th>2</th>\n",
       "      <td>12</td>\n",
       "      <td>the Court of Wonder. To BINX Choppley, sole su...</td>\n",
       "      <td>10</td>\n",
       "      <td>ACOFF</td>\n",
       "      <td></td>\n",
       "      <td></td>\n",
       "    </tr>\n",
       "    <tr>\n",
       "      <th>3</th>\n",
       "      <td>13</td>\n",
       "      <td>Craft. To the tenebrous Prince Andhera, scion ...</td>\n",
       "      <td>10</td>\n",
       "      <td>ACOFF</td>\n",
       "      <td></td>\n",
       "      <td></td>\n",
       "    </tr>\n",
       "    <tr>\n",
       "      <th>4</th>\n",
       "      <td>14</td>\n",
       "      <td>to the notorious Lords of the Wing, Lady Chirp...</td>\n",
       "      <td>10</td>\n",
       "      <td>ACOFF</td>\n",
       "      <td></td>\n",
       "      <td></td>\n",
       "    </tr>\n",
       "  </tbody>\n",
       "</table>\n",
       "</div>"
      ],
      "text/plain": [
       "   index                                           variable episode season  \\\n",
       "0     10  Aabria: To the churlish Captain K.P. Hob, vene...      10  ACOFF   \n",
       "1     11  Goblin Court. To the master of ceremonies, Del...      10  ACOFF   \n",
       "2     12  the Court of Wonder. To BINX Choppley, sole su...      10  ACOFF   \n",
       "3     13  Craft. To the tenebrous Prince Andhera, scion ...      10  ACOFF   \n",
       "4     14  to the notorious Lords of the Wing, Lady Chirp...      10  ACOFF   \n",
       "\n",
       "  nonspeech inaudible_speech  \n",
       "0                             \n",
       "1                             \n",
       "2                             \n",
       "3                             \n",
       "4                             "
      ]
     },
     "execution_count": 259,
     "metadata": {},
     "output_type": "execute_result"
    }
   ],
   "source": [
    "d20_df.head()"
   ]
  },
  {
   "cell_type": "markdown",
   "id": "e179ed35",
   "metadata": {},
   "source": [
    "So there's our inaudible speech and nonspeech columns! There are actually no inaudible markings in the D20 data but to be consistent with the other DF I've added the column anyway. I'll rearrange columns once I've finished all my regex work"
   ]
  },
  {
   "cell_type": "markdown",
   "id": "2503c857",
   "metadata": {},
   "source": [
    "### Creating the Name column\n",
    "\n",
    "This became quite the process as I worked on it, and I'll elaborate on the step by steps below as I organize them, but the basic premise is the following\n",
    "- identify and correct any problem lines\n",
    "    - these were discovered later in the process, and needed to be fixed before the processing the names column\n",
    "- find and isolate all instances of names, which look like \"Name:\"\n",
    "- assign names to new column and use ffill to populate following rows for the correct speaker"
   ]
  },
  {
   "cell_type": "code",
   "execution_count": 260,
   "id": "a07ffe66",
   "metadata": {},
   "outputs": [
    {
     "data": {
      "text/html": [
       "<div>\n",
       "<style scoped>\n",
       "    .dataframe tbody tr th:only-of-type {\n",
       "        vertical-align: middle;\n",
       "    }\n",
       "\n",
       "    .dataframe tbody tr th {\n",
       "        vertical-align: top;\n",
       "    }\n",
       "\n",
       "    .dataframe thead th {\n",
       "        text-align: right;\n",
       "    }\n",
       "</style>\n",
       "<table border=\"1\" class=\"dataframe\">\n",
       "  <thead>\n",
       "    <tr style=\"text-align: right;\">\n",
       "      <th></th>\n",
       "      <th>index</th>\n",
       "      <th>variable</th>\n",
       "      <th>episode</th>\n",
       "      <th>season</th>\n",
       "      <th>nonspeech</th>\n",
       "      <th>inaudible_speech</th>\n",
       "    </tr>\n",
       "  </thead>\n",
       "  <tbody>\n",
       "    <tr>\n",
       "      <th>41413</th>\n",
       "      <td>36</td>\n",
       "      <td>Ed. Note: This is a reference to D20 season Mi...</td>\n",
       "      <td>5</td>\n",
       "      <td>Burrow's End</td>\n",
       "      <td></td>\n",
       "      <td></td>\n",
       "    </tr>\n",
       "    <tr>\n",
       "      <th>45838</th>\n",
       "      <td>1451</td>\n",
       "      <td>Note: “bless their heart” is a very specific S...</td>\n",
       "      <td>6</td>\n",
       "      <td>Burrow's End</td>\n",
       "      <td></td>\n",
       "      <td></td>\n",
       "    </tr>\n",
       "  </tbody>\n",
       "</table>\n",
       "</div>"
      ],
      "text/plain": [
       "       index                                           variable episode  \\\n",
       "41413     36  Ed. Note: This is a reference to D20 season Mi...       5   \n",
       "45838   1451  Note: “bless their heart” is a very specific S...       6   \n",
       "\n",
       "             season nonspeech inaudible_speech  \n",
       "41413  Burrow's End                             \n",
       "45838  Burrow's End                             "
      ]
     },
     "execution_count": 260,
     "metadata": {},
     "output_type": "execute_result"
    }
   ],
   "source": [
    "#first here are some instances of editor notes, we'll just get rid of those\n",
    "d20_df[d20_df['variable'].str.contains('Note:')]"
   ]
  },
  {
   "cell_type": "code",
   "execution_count": 261,
   "id": "169da0cb",
   "metadata": {},
   "outputs": [],
   "source": [
    "d20_df = d20_df.drop(45838)\n",
    "d20_df = d20_df.drop(41413)"
   ]
  },
  {
   "cell_type": "code",
   "execution_count": 262,
   "id": "1206ae2e",
   "metadata": {},
   "outputs": [
    {
     "data": {
      "text/html": [
       "<div>\n",
       "<style scoped>\n",
       "    .dataframe tbody tr th:only-of-type {\n",
       "        vertical-align: middle;\n",
       "    }\n",
       "\n",
       "    .dataframe tbody tr th {\n",
       "        vertical-align: top;\n",
       "    }\n",
       "\n",
       "    .dataframe thead th {\n",
       "        text-align: right;\n",
       "    }\n",
       "</style>\n",
       "<table border=\"1\" class=\"dataframe\">\n",
       "  <thead>\n",
       "    <tr style=\"text-align: right;\">\n",
       "      <th></th>\n",
       "      <th>index</th>\n",
       "      <th>variable</th>\n",
       "      <th>episode</th>\n",
       "      <th>season</th>\n",
       "      <th>nonspeech</th>\n",
       "      <th>inaudible_speech</th>\n",
       "    </tr>\n",
       "  </thead>\n",
       "  <tbody>\n",
       "    <tr>\n",
       "      <th>29987</th>\n",
       "      <td>280</td>\n",
       "      <td>Aabria: You're getting sort of chatter which i...</td>\n",
       "      <td>10</td>\n",
       "      <td>Burrow's End</td>\n",
       "      <td></td>\n",
       "      <td></td>\n",
       "    </tr>\n",
       "  </tbody>\n",
       "</table>\n",
       "</div>"
      ],
      "text/plain": [
       "       index                                           variable episode  \\\n",
       "29987    280  Aabria: You're getting sort of chatter which i...      10   \n",
       "\n",
       "             season nonspeech inaudible_speech  \n",
       "29987  Burrow's End                             "
      ]
     },
     "execution_count": 262,
     "metadata": {},
     "output_type": "execute_result"
    }
   ],
   "source": [
    "#there was an instance of lines being oddly coded, so I've split them correctly\n",
    "#I do think in this case it was an interruption so I coded Aabria's line to end with a hyphen\n",
    "d20_df[d20_df['variable'].str.contains('.*Erika:.*Team in$')]"
   ]
  },
  {
   "cell_type": "code",
   "execution_count": 263,
   "id": "52705fb9",
   "metadata": {},
   "outputs": [
    {
     "data": {
      "text/plain": [
       "\"Aabria: You're getting sort of chatter which is likErika:\\xa0“Bravo Team in\""
      ]
     },
     "execution_count": 263,
     "metadata": {},
     "output_type": "execute_result"
    }
   ],
   "source": [
    "d20_df.variable[29987]"
   ]
  },
  {
   "cell_type": "code",
   "execution_count": 264,
   "id": "72cc5793",
   "metadata": {},
   "outputs": [],
   "source": [
    "d20_df['variable'] = d20_df['variable'].str.replace(r'(.*)Erika:.*Team in$', r'\\1-', regex=True).astype('str')"
   ]
  },
  {
   "cell_type": "code",
   "execution_count": 265,
   "id": "3fd931e1",
   "metadata": {},
   "outputs": [
    {
     "data": {
      "text/html": [
       "<div>\n",
       "<style scoped>\n",
       "    .dataframe tbody tr th:only-of-type {\n",
       "        vertical-align: middle;\n",
       "    }\n",
       "\n",
       "    .dataframe tbody tr th {\n",
       "        vertical-align: top;\n",
       "    }\n",
       "\n",
       "    .dataframe thead th {\n",
       "        text-align: right;\n",
       "    }\n",
       "</style>\n",
       "<table border=\"1\" class=\"dataframe\">\n",
       "  <thead>\n",
       "    <tr style=\"text-align: right;\">\n",
       "      <th></th>\n",
       "      <th>index</th>\n",
       "      <th>variable</th>\n",
       "      <th>episode</th>\n",
       "      <th>season</th>\n",
       "      <th>nonspeech</th>\n",
       "      <th>inaudible_speech</th>\n",
       "    </tr>\n",
       "  </thead>\n",
       "  <tbody>\n",
       "    <tr>\n",
       "      <th>29988</th>\n",
       "      <td>281</td>\n",
       "      <td>place. We're on standby for orders. Everything...</td>\n",
       "      <td>10</td>\n",
       "      <td>Burrow's End</td>\n",
       "      <td></td>\n",
       "      <td></td>\n",
       "    </tr>\n",
       "  </tbody>\n",
       "</table>\n",
       "</div>"
      ],
      "text/plain": [
       "       index                                           variable episode  \\\n",
       "29988    281  place. We're on standby for orders. Everything...      10   \n",
       "\n",
       "             season nonspeech inaudible_speech  \n",
       "29988  Burrow's End                             "
      ]
     },
     "execution_count": 265,
     "metadata": {},
     "output_type": "execute_result"
    }
   ],
   "source": [
    "d20_df[d20_df['variable'].str.contains('place. We\\'re on standby for orders. Everything is looking good.” You\\'re')]"
   ]
  },
  {
   "cell_type": "code",
   "execution_count": 266,
   "id": "cc17b102",
   "metadata": {},
   "outputs": [],
   "source": [
    "d20_df['variable'] = d20_df['variable'].str.replace(r'(place. We\\'re on standby for orders. Everything is looking good.” You\\'re)', r'Erika: “Bravo Team in \\1', regex=True).astype('str')"
   ]
  },
  {
   "cell_type": "code",
   "execution_count": 267,
   "id": "a226bfc9",
   "metadata": {},
   "outputs": [
    {
     "data": {
      "text/html": [
       "<div>\n",
       "<style scoped>\n",
       "    .dataframe tbody tr th:only-of-type {\n",
       "        vertical-align: middle;\n",
       "    }\n",
       "\n",
       "    .dataframe tbody tr th {\n",
       "        vertical-align: top;\n",
       "    }\n",
       "\n",
       "    .dataframe thead th {\n",
       "        text-align: right;\n",
       "    }\n",
       "</style>\n",
       "<table border=\"1\" class=\"dataframe\">\n",
       "  <thead>\n",
       "    <tr style=\"text-align: right;\">\n",
       "      <th></th>\n",
       "      <th>index</th>\n",
       "      <th>variable</th>\n",
       "      <th>episode</th>\n",
       "      <th>season</th>\n",
       "      <th>nonspeech</th>\n",
       "      <th>inaudible_speech</th>\n",
       "    </tr>\n",
       "  </thead>\n",
       "  <tbody>\n",
       "    <tr>\n",
       "      <th>32239</th>\n",
       "      <td>125</td>\n",
       "      <td>19. Strength: 13. Dexterity: 19. Constitution:...</td>\n",
       "      <td>1</td>\n",
       "      <td>Burrow's End</td>\n",
       "      <td></td>\n",
       "      <td></td>\n",
       "    </tr>\n",
       "    <tr>\n",
       "      <th>32268</th>\n",
       "      <td>154</td>\n",
       "      <td>class: 14. Strength: 9. Dexterity: 16. Constit...</td>\n",
       "      <td>1</td>\n",
       "      <td>Burrow's End</td>\n",
       "      <td></td>\n",
       "      <td></td>\n",
       "    </tr>\n",
       "    <tr>\n",
       "      <th>32584</th>\n",
       "      <td>470</td>\n",
       "      <td>Wanderer / Level 4. Armor class: 14. Strength:...</td>\n",
       "      <td>1</td>\n",
       "      <td>Burrow's End</td>\n",
       "      <td></td>\n",
       "      <td></td>\n",
       "    </tr>\n",
       "    <tr>\n",
       "      <th>32690</th>\n",
       "      <td>576</td>\n",
       "      <td>Armor class: 13. Strength: 14. Dexterity: 16. ...</td>\n",
       "      <td>1</td>\n",
       "      <td>Burrow's End</td>\n",
       "      <td></td>\n",
       "      <td></td>\n",
       "    </tr>\n",
       "    <tr>\n",
       "      <th>33003</th>\n",
       "      <td>889</td>\n",
       "      <td>Dexterity: 15. Constitution: 19. Intelligence:...</td>\n",
       "      <td>1</td>\n",
       "      <td>Burrow's End</td>\n",
       "      <td></td>\n",
       "      <td></td>\n",
       "    </tr>\n",
       "    <tr>\n",
       "      <th>33015</th>\n",
       "      <td>901</td>\n",
       "      <td>Level 4. Armor class: 18. Strength: 13. Dexter...</td>\n",
       "      <td>1</td>\n",
       "      <td>Burrow's End</td>\n",
       "      <td></td>\n",
       "      <td></td>\n",
       "    </tr>\n",
       "  </tbody>\n",
       "</table>\n",
       "</div>"
      ],
      "text/plain": [
       "       index                                           variable episode  \\\n",
       "32239    125  19. Strength: 13. Dexterity: 19. Constitution:...       1   \n",
       "32268    154  class: 14. Strength: 9. Dexterity: 16. Constit...       1   \n",
       "32584    470  Wanderer / Level 4. Armor class: 14. Strength:...       1   \n",
       "32690    576  Armor class: 13. Strength: 14. Dexterity: 16. ...       1   \n",
       "33003    889  Dexterity: 15. Constitution: 19. Intelligence:...       1   \n",
       "33015    901  Level 4. Armor class: 18. Strength: 13. Dexter...       1   \n",
       "\n",
       "             season nonspeech inaudible_speech  \n",
       "32239  Burrow's End                             \n",
       "32268  Burrow's End                             \n",
       "32584  Burrow's End                             \n",
       "32690  Burrow's End                             \n",
       "33003  Burrow's End                             \n",
       "33015  Burrow's End                             "
      ]
     },
     "execution_count": 267,
     "metadata": {},
     "output_type": "execute_result"
    }
   ],
   "source": [
    "d20_df[d20_df['variable'].str.contains('Dexterity:')]"
   ]
  },
  {
   "cell_type": "code",
   "execution_count": 268,
   "id": "375f08f6",
   "metadata": {},
   "outputs": [],
   "source": [
    "#these are all on screen texts featuring character stats\n",
    "d20_df = d20_df.drop(33001)\n",
    "d20_df = d20_df.drop(33002)\n",
    "d20_df = d20_df.drop(33003)\n",
    "d20_df = d20_df.drop(33004)\n",
    "\n",
    "d20_df = d20_df.drop(32237)\n",
    "d20_df = d20_df.drop(32238)\n",
    "d20_df = d20_df.drop(32239)\n",
    "d20_df = d20_df.drop(32240)\n",
    "\n",
    "d20_df = d20_df.drop(32266)\n",
    "d20_df = d20_df.drop(32267)\n",
    "d20_df = d20_df.drop(32268)\n",
    "d20_df = d20_df.drop(32269)\n",
    "\n",
    "d20_df = d20_df.drop(32582)\n",
    "d20_df = d20_df.drop(32583)\n",
    "d20_df = d20_df.drop(32584)\n",
    "d20_df = d20_df.drop(32585)\n",
    "\n",
    "d20_df = d20_df.drop(32688)\n",
    "d20_df = d20_df.drop(32689)\n",
    "d20_df = d20_df.drop(32690)\n",
    "d20_df = d20_df.drop(32691)\n",
    "\n",
    "d20_df = d20_df.drop(33013)\n",
    "d20_df = d20_df.drop(33014)\n",
    "d20_df = d20_df.drop(33015)\n",
    "d20_df = d20_df.drop(33016)\n",
    "\n",
    "#various on screen texts I've spotted in my name column building\n",
    "\n",
    "d20_df = d20_df.drop(11850)\n",
    "d20_df = d20_df.drop(29955)\n",
    "d20_df = d20_df.drop(49395)\n",
    "d20_df = d20_df.drop(42729)\n",
    "d20_df = d20_df.drop(47793)"
   ]
  },
  {
   "cell_type": "code",
   "execution_count": 269,
   "id": "e21bd31d",
   "metadata": {},
   "outputs": [
    {
     "data": {
      "text/plain": [
       "'normal.\"  What can I start about Gwyndolin: nothing.'"
      ]
     },
     "execution_count": 269,
     "metadata": {},
     "output_type": "execute_result"
    }
   ],
   "source": [
    "#these following lines were being captured in the name column captures, so I've replaced the : with a -\n",
    "d20_df.variable[6240]"
   ]
  },
  {
   "cell_type": "code",
   "execution_count": 270,
   "id": "f41f9d59",
   "metadata": {},
   "outputs": [
    {
     "data": {
      "text/html": [
       "<div>\n",
       "<style scoped>\n",
       "    .dataframe tbody tr th:only-of-type {\n",
       "        vertical-align: middle;\n",
       "    }\n",
       "\n",
       "    .dataframe tbody tr th {\n",
       "        vertical-align: top;\n",
       "    }\n",
       "\n",
       "    .dataframe thead th {\n",
       "        text-align: right;\n",
       "    }\n",
       "</style>\n",
       "<table border=\"1\" class=\"dataframe\">\n",
       "  <thead>\n",
       "    <tr style=\"text-align: right;\">\n",
       "      <th></th>\n",
       "      <th>index</th>\n",
       "      <th>variable</th>\n",
       "      <th>episode</th>\n",
       "      <th>season</th>\n",
       "      <th>nonspeech</th>\n",
       "      <th>inaudible_speech</th>\n",
       "    </tr>\n",
       "  </thead>\n",
       "  <tbody>\n",
       "    <tr>\n",
       "      <th>6240</th>\n",
       "      <td>239</td>\n",
       "      <td>normal.\"  What can I start about Gwyndolin: no...</td>\n",
       "      <td>3</td>\n",
       "      <td>ACOFF</td>\n",
       "      <td>[group laughing]</td>\n",
       "      <td></td>\n",
       "    </tr>\n",
       "  </tbody>\n",
       "</table>\n",
       "</div>"
      ],
      "text/plain": [
       "      index                                           variable episode season  \\\n",
       "6240    239  normal.\"  What can I start about Gwyndolin: no...       3  ACOFF   \n",
       "\n",
       "             nonspeech inaudible_speech  \n",
       "6240  [group laughing]                   "
      ]
     },
     "execution_count": 270,
     "metadata": {},
     "output_type": "execute_result"
    }
   ],
   "source": [
    "d20_df[d20_df['variable'].str.contains('normal.\"  What can I start about Gwyndolin: nothing\\.')]"
   ]
  },
  {
   "cell_type": "code",
   "execution_count": 271,
   "id": "713808bc",
   "metadata": {},
   "outputs": [],
   "source": [
    "d20_df['variable'] = d20_df['variable'].str.replace(r'normal.\"  What can I start about Gwyndolin: nothing\\.', r'normal.\"  What can I start about Gwyndolin- nothing\\.', regex=True).astype('str')"
   ]
  },
  {
   "cell_type": "code",
   "execution_count": 272,
   "id": "2b2d6ad0",
   "metadata": {},
   "outputs": [
    {
     "data": {
      "text/plain": [
       "\"Iyengar. I will be your Dungeon Master for this: Burrow's End.\""
      ]
     },
     "execution_count": 272,
     "metadata": {},
     "output_type": "execute_result"
    }
   ],
   "source": [
    "d20_df.variable[32133]"
   ]
  },
  {
   "cell_type": "code",
   "execution_count": 273,
   "id": "5c37d41c",
   "metadata": {},
   "outputs": [],
   "source": [
    "d20_df['variable'] = d20_df['variable'].str.replace(r'Party:\\xa0Stoatal Recall\\.\\\"', r'Party- Stoatal Recall.\"', regex=True).astype('str')"
   ]
  },
  {
   "cell_type": "code",
   "execution_count": 274,
   "id": "6fa48302",
   "metadata": {},
   "outputs": [
    {
     "data": {
      "text/html": [
       "<div>\n",
       "<style scoped>\n",
       "    .dataframe tbody tr th:only-of-type {\n",
       "        vertical-align: middle;\n",
       "    }\n",
       "\n",
       "    .dataframe tbody tr th {\n",
       "        vertical-align: top;\n",
       "    }\n",
       "\n",
       "    .dataframe thead th {\n",
       "        text-align: right;\n",
       "    }\n",
       "</style>\n",
       "<table border=\"1\" class=\"dataframe\">\n",
       "  <thead>\n",
       "    <tr style=\"text-align: right;\">\n",
       "      <th></th>\n",
       "      <th>index</th>\n",
       "      <th>variable</th>\n",
       "      <th>episode</th>\n",
       "      <th>season</th>\n",
       "      <th>nonspeech</th>\n",
       "      <th>inaudible_speech</th>\n",
       "    </tr>\n",
       "  </thead>\n",
       "  <tbody>\n",
       "    <tr>\n",
       "      <th>32133</th>\n",
       "      <td>19</td>\n",
       "      <td>Iyengar. I will be your Dungeon Master for thi...</td>\n",
       "      <td>1</td>\n",
       "      <td>Burrow's End</td>\n",
       "      <td></td>\n",
       "      <td></td>\n",
       "    </tr>\n",
       "  </tbody>\n",
       "</table>\n",
       "</div>"
      ],
      "text/plain": [
       "       index                                           variable episode  \\\n",
       "32133     19  Iyengar. I will be your Dungeon Master for thi...       1   \n",
       "\n",
       "             season nonspeech inaudible_speech  \n",
       "32133  Burrow's End                             "
      ]
     },
     "execution_count": 274,
     "metadata": {},
     "output_type": "execute_result"
    }
   ],
   "source": [
    "d20_df[d20_df['variable'].str.contains('Iyengar. I will be your Dungeon Master for this: Burrow\\'s End.')]"
   ]
  },
  {
   "cell_type": "code",
   "execution_count": 275,
   "id": "1fc54382",
   "metadata": {},
   "outputs": [],
   "source": [
    "d20_df['variable'] = d20_df['variable'].str.replace(r'Iyengar. I will be your Dungeon Master for this: Burrow\\'s End.', r\"Iyengar. I will be your Dungeon Master for this- Burrow's End.\", regex=True).astype('str')"
   ]
  },
  {
   "cell_type": "code",
   "execution_count": 276,
   "id": "11f81111",
   "metadata": {},
   "outputs": [
    {
     "data": {
      "text/html": [
       "<div>\n",
       "<style scoped>\n",
       "    .dataframe tbody tr th:only-of-type {\n",
       "        vertical-align: middle;\n",
       "    }\n",
       "\n",
       "    .dataframe tbody tr th {\n",
       "        vertical-align: top;\n",
       "    }\n",
       "\n",
       "    .dataframe thead th {\n",
       "        text-align: right;\n",
       "    }\n",
       "</style>\n",
       "<table border=\"1\" class=\"dataframe\">\n",
       "  <thead>\n",
       "    <tr style=\"text-align: right;\">\n",
       "      <th></th>\n",
       "      <th>index</th>\n",
       "      <th>variable</th>\n",
       "      <th>episode</th>\n",
       "      <th>season</th>\n",
       "      <th>nonspeech</th>\n",
       "      <th>inaudible_speech</th>\n",
       "    </tr>\n",
       "  </thead>\n",
       "  <tbody>\n",
       "    <tr>\n",
       "      <th>57109</th>\n",
       "      <td>81</td>\n",
       "      <td>Side where Whitney Jammer… Where would this ow...</td>\n",
       "      <td>1</td>\n",
       "      <td>Misfits and Magic</td>\n",
       "      <td></td>\n",
       "      <td></td>\n",
       "    </tr>\n",
       "  </tbody>\n",
       "</table>\n",
       "</div>"
      ],
      "text/plain": [
       "       index                                           variable episode  \\\n",
       "57109     81  Side where Whitney Jammer… Where would this ow...       1   \n",
       "\n",
       "                  season nonspeech inaudible_speech  \n",
       "57109  Misfits and Magic                             "
      ]
     },
     "execution_count": 276,
     "metadata": {},
     "output_type": "execute_result"
    }
   ],
   "source": [
    "#same with these because of the times. I've made : into a ; and will revert later on\n",
    "d20_df[d20_df['variable'].str.contains('Side where Whitney Jammer… Where would this owl find you at like, 3:00')]"
   ]
  },
  {
   "cell_type": "code",
   "execution_count": 277,
   "id": "9ab8fde7",
   "metadata": {},
   "outputs": [],
   "source": [
    "d20_df['variable'] = d20_df['variable'].str.replace(r'Side where Whitney Jammer… Where would this owl find you at like, 3:00', r\"Side where Whitney Jammer… Where would this owl find you at like, 3 o'clock\", regex=True).astype('str')"
   ]
  },
  {
   "cell_type": "code",
   "execution_count": 278,
   "id": "d8568630",
   "metadata": {},
   "outputs": [
    {
     "data": {
      "text/html": [
       "<div>\n",
       "<style scoped>\n",
       "    .dataframe tbody tr th:only-of-type {\n",
       "        vertical-align: middle;\n",
       "    }\n",
       "\n",
       "    .dataframe tbody tr th {\n",
       "        vertical-align: top;\n",
       "    }\n",
       "\n",
       "    .dataframe thead th {\n",
       "        text-align: right;\n",
       "    }\n",
       "</style>\n",
       "<table border=\"1\" class=\"dataframe\">\n",
       "  <thead>\n",
       "    <tr style=\"text-align: right;\">\n",
       "      <th></th>\n",
       "      <th>index</th>\n",
       "      <th>variable</th>\n",
       "      <th>episode</th>\n",
       "      <th>season</th>\n",
       "      <th>nonspeech</th>\n",
       "      <th>inaudible_speech</th>\n",
       "    </tr>\n",
       "  </thead>\n",
       "  <tbody>\n",
       "    <tr>\n",
       "      <th>69739</th>\n",
       "      <td>1379</td>\n",
       "      <td>As of course something that the camera sees th...</td>\n",
       "      <td>5</td>\n",
       "      <td>Misfits and Magic</td>\n",
       "      <td></td>\n",
       "      <td></td>\n",
       "    </tr>\n",
       "  </tbody>\n",
       "</table>\n",
       "</div>"
      ],
      "text/plain": [
       "       index                                           variable episode  \\\n",
       "69739   1379  As of course something that the camera sees th...       5   \n",
       "\n",
       "                  season nonspeech inaudible_speech  \n",
       "69739  Misfits and Magic                             "
      ]
     },
     "execution_count": 278,
     "metadata": {},
     "output_type": "execute_result"
    }
   ],
   "source": [
    "d20_df[d20_df['variable'].str.contains('As of course something that the camera sees that you do not: the scrape')]"
   ]
  },
  {
   "cell_type": "code",
   "execution_count": 279,
   "id": "de395250",
   "metadata": {},
   "outputs": [],
   "source": [
    "d20_df['variable'] = d20_df['variable'].str.replace(r'As of course something that the camera sees that you do not: the scrape', r\"As of course something that the camera sees that you do not- the scrape\", regex=True).astype('str')"
   ]
  },
  {
   "cell_type": "code",
   "execution_count": 280,
   "id": "a80bb4a0",
   "metadata": {},
   "outputs": [
    {
     "data": {
      "text/plain": [
       "'Accident in Reactor Charlie. At 11:20, all plant personnel were notified'"
      ]
     },
     "execution_count": 280,
     "metadata": {},
     "output_type": "execute_result"
    }
   ],
   "source": [
    "d20_df.variable[51257]"
   ]
  },
  {
   "cell_type": "code",
   "execution_count": 281,
   "id": "fec77441",
   "metadata": {},
   "outputs": [
    {
     "data": {
      "text/html": [
       "<div>\n",
       "<style scoped>\n",
       "    .dataframe tbody tr th:only-of-type {\n",
       "        vertical-align: middle;\n",
       "    }\n",
       "\n",
       "    .dataframe tbody tr th {\n",
       "        vertical-align: top;\n",
       "    }\n",
       "\n",
       "    .dataframe thead th {\n",
       "        text-align: right;\n",
       "    }\n",
       "</style>\n",
       "<table border=\"1\" class=\"dataframe\">\n",
       "  <thead>\n",
       "    <tr style=\"text-align: right;\">\n",
       "      <th></th>\n",
       "      <th>index</th>\n",
       "      <th>variable</th>\n",
       "      <th>episode</th>\n",
       "      <th>season</th>\n",
       "      <th>nonspeech</th>\n",
       "      <th>inaudible_speech</th>\n",
       "    </tr>\n",
       "  </thead>\n",
       "  <tbody>\n",
       "    <tr>\n",
       "      <th>51257</th>\n",
       "      <td>1632</td>\n",
       "      <td>Accident in Reactor Charlie. At 11:20, all pla...</td>\n",
       "      <td>8</td>\n",
       "      <td>Burrow's End</td>\n",
       "      <td></td>\n",
       "      <td></td>\n",
       "    </tr>\n",
       "  </tbody>\n",
       "</table>\n",
       "</div>"
      ],
      "text/plain": [
       "       index                                           variable episode  \\\n",
       "51257   1632  Accident in Reactor Charlie. At 11:20, all pla...       8   \n",
       "\n",
       "             season nonspeech inaudible_speech  \n",
       "51257  Burrow's End                             "
      ]
     },
     "execution_count": 281,
     "metadata": {},
     "output_type": "execute_result"
    }
   ],
   "source": [
    "d20_df[d20_df['variable'].str.contains('Accident in Reactor Charlie. At 11:20, all plant personnel were notified')]"
   ]
  },
  {
   "cell_type": "code",
   "execution_count": 282,
   "id": "be6f998f",
   "metadata": {},
   "outputs": [],
   "source": [
    "d20_df['variable'] = d20_df['variable'].str.replace(r'Accident in Reactor Charlie. At 11:20, all plant personnel were notified', r\"Accident in Reactor Charlie. At 11;20, all plant personnel were notified\", regex=True).astype('str')"
   ]
  },
  {
   "cell_type": "code",
   "execution_count": 283,
   "id": "29fedd4a",
   "metadata": {},
   "outputs": [
    {
     "data": {
      "text/html": [
       "<div>\n",
       "<style scoped>\n",
       "    .dataframe tbody tr th:only-of-type {\n",
       "        vertical-align: middle;\n",
       "    }\n",
       "\n",
       "    .dataframe tbody tr th {\n",
       "        vertical-align: top;\n",
       "    }\n",
       "\n",
       "    .dataframe thead th {\n",
       "        text-align: right;\n",
       "    }\n",
       "</style>\n",
       "<table border=\"1\" class=\"dataframe\">\n",
       "  <thead>\n",
       "    <tr style=\"text-align: right;\">\n",
       "      <th></th>\n",
       "      <th>index</th>\n",
       "      <th>variable</th>\n",
       "      <th>episode</th>\n",
       "      <th>season</th>\n",
       "      <th>nonspeech</th>\n",
       "      <th>inaudible_speech</th>\n",
       "    </tr>\n",
       "  </thead>\n",
       "  <tbody>\n",
       "    <tr>\n",
       "      <th>44089</th>\n",
       "      <td>2712</td>\n",
       "      <td>Dr. Wenabocker. It is 4/21/62 at 8:11. The LOC...</td>\n",
       "      <td>5</td>\n",
       "      <td>Burrow's End</td>\n",
       "      <td></td>\n",
       "      <td></td>\n",
       "    </tr>\n",
       "  </tbody>\n",
       "</table>\n",
       "</div>"
      ],
      "text/plain": [
       "       index                                           variable episode  \\\n",
       "44089   2712  Dr. Wenabocker. It is 4/21/62 at 8:11. The LOC...       5   \n",
       "\n",
       "             season nonspeech inaudible_speech  \n",
       "44089  Burrow's End                             "
      ]
     },
     "execution_count": 283,
     "metadata": {},
     "output_type": "execute_result"
    }
   ],
   "source": [
    "d20_df[d20_df['variable'].str.contains('Dr. Wenabocker. It is 4/21/62 at 8:11. The LOC logged on the 18th has')]"
   ]
  },
  {
   "cell_type": "code",
   "execution_count": 284,
   "id": "a2bf43f0",
   "metadata": {},
   "outputs": [],
   "source": [
    "d20_df['variable'] = d20_df['variable'].str.replace(r'Dr. Wenabocker. It is 4/21/62 at 8:11. The LOC logged on the 18th has', r\"Dr. Wenabocker. It is 4/21/62 at 8;11. The LOC logged on the 18th has\", regex=True).astype('str')"
   ]
  },
  {
   "cell_type": "code",
   "execution_count": 285,
   "id": "005a6d42",
   "metadata": {},
   "outputs": [
    {
     "data": {
      "text/html": [
       "<div>\n",
       "<style scoped>\n",
       "    .dataframe tbody tr th:only-of-type {\n",
       "        vertical-align: middle;\n",
       "    }\n",
       "\n",
       "    .dataframe tbody tr th {\n",
       "        vertical-align: top;\n",
       "    }\n",
       "\n",
       "    .dataframe thead th {\n",
       "        text-align: right;\n",
       "    }\n",
       "</style>\n",
       "<table border=\"1\" class=\"dataframe\">\n",
       "  <thead>\n",
       "    <tr style=\"text-align: right;\">\n",
       "      <th></th>\n",
       "      <th>index</th>\n",
       "      <th>variable</th>\n",
       "      <th>episode</th>\n",
       "      <th>season</th>\n",
       "      <th>nonspeech</th>\n",
       "      <th>inaudible_speech</th>\n",
       "    </tr>\n",
       "  </thead>\n",
       "  <tbody>\n",
       "    <tr>\n",
       "      <th>51271</th>\n",
       "      <td>1646</td>\n",
       "      <td>It is 2:22, two hours post order of a full eva...</td>\n",
       "      <td>8</td>\n",
       "      <td>Burrow's End</td>\n",
       "      <td></td>\n",
       "      <td></td>\n",
       "    </tr>\n",
       "  </tbody>\n",
       "</table>\n",
       "</div>"
      ],
      "text/plain": [
       "       index                                           variable episode  \\\n",
       "51271   1646  It is 2:22, two hours post order of a full eva...       8   \n",
       "\n",
       "             season nonspeech inaudible_speech  \n",
       "51271  Burrow's End                             "
      ]
     },
     "execution_count": 285,
     "metadata": {},
     "output_type": "execute_result"
    }
   ],
   "source": [
    "d20_df[d20_df['variable'].str.contains('It is 2:')]"
   ]
  },
  {
   "cell_type": "code",
   "execution_count": 286,
   "id": "24d52364",
   "metadata": {},
   "outputs": [],
   "source": [
    "d20_df['variable'] = d20_df['variable'].str.replace(r'It is 2:22, two hours post order of a full evacuation of Peace Plant by', r\"It is 2;22, two hours post order of a full evacuation of Peace Plant by\", regex=True).astype('str')"
   ]
  },
  {
   "cell_type": "code",
   "execution_count": 287,
   "id": "96bafce8",
   "metadata": {},
   "outputs": [],
   "source": [
    "d20_df['variable'] = d20_df['variable'].str.replace(r'Part of Evan:\\xa0I know exactly who I\\'m talking to, and your time hasn\\'t', r\"Evan: I know exactly who I'm talking to, and your time hasn't\", regex=True).astype('str')"
   ]
  },
  {
   "cell_type": "code",
   "execution_count": 288,
   "id": "6a591a60",
   "metadata": {},
   "outputs": [],
   "source": [
    "d20_df['variable'] = d20_df['variable'].str.replace(r'Hello, this is Dr\\. Wenabocker\\. It is 4/21/62 at 8:11\\. ', r\"Hello, this is Dr. Wenabocker. It is 4/21/62 at 8;11. \", regex=True).astype('str')"
   ]
  },
  {
   "cell_type": "markdown",
   "id": "6ee91387",
   "metadata": {},
   "source": [
    "This was a case I saw a few of as well. I suspect the editors of the text files maybe did a find and replace somehow, because in the cases I saw it was always an overlap at one letter: Member/Rashawn overlapping at the R, "
   ]
  },
  {
   "cell_type": "code",
   "execution_count": 289,
   "id": "df99a3d7",
   "metadata": {},
   "outputs": [
    {
     "data": {
      "text/html": [
       "<div>\n",
       "<style scoped>\n",
       "    .dataframe tbody tr th:only-of-type {\n",
       "        vertical-align: middle;\n",
       "    }\n",
       "\n",
       "    .dataframe tbody tr th {\n",
       "        vertical-align: top;\n",
       "    }\n",
       "\n",
       "    .dataframe thead th {\n",
       "        text-align: right;\n",
       "    }\n",
       "</style>\n",
       "<table border=\"1\" class=\"dataframe\">\n",
       "  <thead>\n",
       "    <tr style=\"text-align: right;\">\n",
       "      <th></th>\n",
       "      <th>index</th>\n",
       "      <th>variable</th>\n",
       "      <th>episode</th>\n",
       "      <th>season</th>\n",
       "      <th>nonspeech</th>\n",
       "      <th>inaudible_speech</th>\n",
       "    </tr>\n",
       "  </thead>\n",
       "  <tbody>\n",
       "    <tr>\n",
       "      <th>54505</th>\n",
       "      <td>28</td>\n",
       "      <td>Crew membeRashawn:  Chipmunks and the PCs.</td>\n",
       "      <td>2</td>\n",
       "      <td>Burrow's End AP</td>\n",
       "      <td>(offstage)</td>\n",
       "      <td></td>\n",
       "    </tr>\n",
       "  </tbody>\n",
       "</table>\n",
       "</div>"
      ],
      "text/plain": [
       "       index                                    variable episode  \\\n",
       "54505     28  Crew membeRashawn:  Chipmunks and the PCs.       2   \n",
       "\n",
       "                season   nonspeech inaudible_speech  \n",
       "54505  Burrow's End AP  (offstage)                   "
      ]
     },
     "execution_count": 289,
     "metadata": {},
     "output_type": "execute_result"
    }
   ],
   "source": [
    "d20_df[d20_df['variable'].str.contains('Crew memb')]"
   ]
  },
  {
   "cell_type": "code",
   "execution_count": 290,
   "id": "b07df07e",
   "metadata": {},
   "outputs": [],
   "source": [
    "d20_df['variable'] = d20_df['variable'].str.replace(r'Crew membeRashawn:  Chipmunks and the PCs\\.', r\"Crew member:  Chipmunks and the PCs.\", regex=True).astype('str')"
   ]
  },
  {
   "cell_type": "code",
   "execution_count": 291,
   "id": "9ff109f5",
   "metadata": {},
   "outputs": [],
   "source": [
    "d20_df['variable'] = d20_df['variable'].str.replace(r'JaspeRashawn', r\"Jasper\", regex=True).astype('str')"
   ]
  },
  {
   "cell_type": "code",
   "execution_count": 292,
   "id": "0b4eb796",
   "metadata": {},
   "outputs": [],
   "source": [
    "d20_df['variable'] = d20_df['variable'].str.replace(r'PhoebErika', r\"Phoebe\", regex=True).astype('str')"
   ]
  },
  {
   "cell_type": "markdown",
   "id": "32d1ddc7",
   "metadata": {},
   "source": [
    "In this instance, the speech was tagged with a ? - I confirmed it was Evan speaking and corrected the lines in question"
   ]
  },
  {
   "cell_type": "code",
   "execution_count": 293,
   "id": "8bb45402",
   "metadata": {},
   "outputs": [],
   "source": [
    "d20_df['variable'] = d20_df['variable'].str.replace(r'Evan\\?:(.*)', r\"Evan:\\1\", regex=True).astype('str')"
   ]
  },
  {
   "cell_type": "markdown",
   "id": "82d887a2",
   "metadata": {},
   "source": [
    "These are fan created transcriptions and they're a good team doing good work, but they're not perfect! There were a bunch of lines that had partial names or no character names. Between the website and skimming the episodes, I confirmed who was speaking at the times I found this, and corrected those instances to be correctly associated with the name it should be"
   ]
  },
  {
   "cell_type": "code",
   "execution_count": 294,
   "id": "94048cbc",
   "metadata": {},
   "outputs": [],
   "source": [
    "d20_df['variable'] = d20_df['variable'].str.replace(r'^Tu:(.*)', r\"Tula:\\1\", regex=True).astype('str')"
   ]
  },
  {
   "cell_type": "code",
   "execution_count": 295,
   "id": "440a527a",
   "metadata": {},
   "outputs": [],
   "source": [
    "d20_df['variable'] = d20_df['variable'].str.replace(r'^ra:(.*)', r\"Rashawn:\\1\", regex=True).astype('str')"
   ]
  },
  {
   "cell_type": "code",
   "execution_count": 296,
   "id": "5df907db",
   "metadata": {},
   "outputs": [],
   "source": [
    "d20_df['variable'] = d20_df['variable'].str.replace(r'q:(.*)', r'Q:\\1', regex=True).astype('str')"
   ]
  },
  {
   "cell_type": "code",
   "execution_count": 297,
   "id": "409bcc71",
   "metadata": {},
   "outputs": [],
   "source": [
    "d20_df['variable'] = d20_df['variable'].str.replace(r'^a:(.*)', r'Aabria:\\1', regex=True).astype('str')"
   ]
  },
  {
   "cell_type": "code",
   "execution_count": 298,
   "id": "3cb68889",
   "metadata": {},
   "outputs": [],
   "source": [
    "d20_df['variable'] = d20_df['variable'].str.replace(r'^A:(.*)', r'Aabria:\\1', regex=True).astype('str')"
   ]
  },
  {
   "cell_type": "code",
   "execution_count": 299,
   "id": "a446a4e0",
   "metadata": {},
   "outputs": [],
   "source": [
    "d20_df['variable'] = d20_df['variable'].str.replace(r'^c:(.*)', r'Carlos:\\1', regex=True).astype('str')"
   ]
  },
  {
   "cell_type": "code",
   "execution_count": 300,
   "id": "d1fef4c2",
   "metadata": {},
   "outputs": [],
   "source": [
    "d20_df['variable'] = d20_df['variable'].str.replace(r': It\\'s really crazy, so just try to make sure that Jaysohn doesn\\'t get', r\"Tula: It's really crazy, so just try to make sure that Jaysohn doesn't get\", regex=True).astype('str')"
   ]
  },
  {
   "cell_type": "code",
   "execution_count": 301,
   "id": "772e2998",
   "metadata": {},
   "outputs": [],
   "source": [
    "d20_df['variable'] = d20_df['variable'].str.replace(r': With that final glow, the entire pool seems to get more vibrant\\.', r\"Aabria: With that final glow, the entire pool seems to get more vibrant.\", regex=True).astype('str')"
   ]
  },
  {
   "cell_type": "code",
   "execution_count": 302,
   "id": "76dd968a",
   "metadata": {},
   "outputs": [],
   "source": [
    "d20_df['variable'] = d20_df['variable'].str.replace(r': Swinging twice, regular attacks, on this dude\\. There\\'s no shenanigans', r\"Brennan: Swinging twice, regular attacks, on this dude. There's no shenanigans\", regex=True).astype('str')"
   ]
  },
  {
   "cell_type": "code",
   "execution_count": 303,
   "id": "934f0ccc",
   "metadata": {},
   "outputs": [],
   "source": [
    "d20_df['variable'] = d20_df['variable'].str.replace(r': As they stand back up, they just put their foot over your throat and', r\"Aabria: As they stand back up, they just put their foot over your throat and\", regex=True).astype('str')"
   ]
  },
  {
   "cell_type": "code",
   "execution_count": 304,
   "id": "69908018",
   "metadata": {},
   "outputs": [],
   "source": [
    "d20_df['variable'] = d20_df['variable'].str.replace(r': Son of a-', r\"Aabria: Son of a-\", regex=True).astype('str')"
   ]
  },
  {
   "cell_type": "code",
   "execution_count": 305,
   "id": "a380a142",
   "metadata": {},
   "outputs": [],
   "source": [
    "d20_df['variable'] = d20_df['variable'].str.replace(r':  My dress glows\\.', r\"Model:  My dress glows.\", regex=True).astype('str')"
   ]
  },
  {
   "cell_type": "markdown",
   "id": "60b8030d",
   "metadata": {},
   "source": [
    "Some lines also had Name(space):, possibly a space created by the removal of a (sound) up above. I'll get rid of those here so again they'll be properly captured in the name processing below. "
   ]
  },
  {
   "cell_type": "code",
   "execution_count": 306,
   "id": "983ed246",
   "metadata": {},
   "outputs": [],
   "source": [
    " d20_df['variable'] = d20_df['variable'].str.replace(r'Lou\\ :', r'Lou:', regex=True).astype('str')"
   ]
  },
  {
   "cell_type": "code",
   "execution_count": 307,
   "id": "7768cb2f",
   "metadata": {},
   "outputs": [],
   "source": [
    " d20_df['variable'] = d20_df['variable'].str.replace(r'Jasper\\ :', r'Jasper:', regex=True).astype('str')"
   ]
  },
  {
   "cell_type": "code",
   "execution_count": 308,
   "id": "c7bb6658",
   "metadata": {},
   "outputs": [],
   "source": [
    " d20_df['variable'] = d20_df['variable'].str.replace(r'Aabria\\ :', r'Aabria:', regex=True).astype('str')"
   ]
  },
  {
   "cell_type": "code",
   "execution_count": 309,
   "id": "04c99330",
   "metadata": {},
   "outputs": [],
   "source": [
    " d20_df['variable'] = d20_df['variable'].str.replace(r'Brennan\\ :', r'Brennan:', regex=True).astype('str')"
   ]
  },
  {
   "cell_type": "code",
   "execution_count": 310,
   "id": "64fff96e",
   "metadata": {},
   "outputs": [],
   "source": [
    " d20_df['variable'] = d20_df['variable'].str.replace(r'Izzy\\ :', r'Izzy:', regex=True).astype('str')"
   ]
  },
  {
   "cell_type": "code",
   "execution_count": 311,
   "id": "903aca7b",
   "metadata": {},
   "outputs": [],
   "source": [
    " d20_df['variable'] = d20_df['variable'].str.replace(r'Sybil\\ :', r'Sybil:', regex=True).astype('str')"
   ]
  },
  {
   "cell_type": "code",
   "execution_count": 312,
   "id": "4aca0743",
   "metadata": {},
   "outputs": [],
   "source": [
    " d20_df['variable'] = d20_df['variable'].str.replace(r'Jaysoh\\ :', r'Jaysohn:', regex=True).astype('str')"
   ]
  },
  {
   "cell_type": "code",
   "execution_count": 313,
   "id": "435d1f66",
   "metadata": {},
   "outputs": [],
   "source": [
    " d20_df['variable'] = d20_df['variable'].str.replace(r'tErika:', r'Erika:', regex=True).astype('str')"
   ]
  },
  {
   "cell_type": "code",
   "execution_count": 314,
   "id": "14925e58",
   "metadata": {},
   "outputs": [],
   "source": [
    " d20_df['variable'] = d20_df['variable'].str.replace(r'bErika:', r'Erika:', regex=True).astype('str')"
   ]
  },
  {
   "cell_type": "code",
   "execution_count": 315,
   "id": "46552bb5",
   "metadata": {},
   "outputs": [],
   "source": [
    " d20_df['variable'] = d20_df['variable'].str.replace(r'Brenna:', r'Brennan:', regex=True).astype('str')"
   ]
  },
  {
   "cell_type": "code",
   "execution_count": 316,
   "id": "dd741d30",
   "metadata": {},
   "outputs": [],
   "source": [
    " d20_df['variable'] = d20_df['variable'].str.replace(r'Brennna:', r'Brennan:', regex=True).astype('str')"
   ]
  },
  {
   "cell_type": "code",
   "execution_count": null,
   "id": "2d0b2d99",
   "metadata": {},
   "outputs": [],
   "source": []
  },
  {
   "cell_type": "markdown",
   "id": "6d89bc10",
   "metadata": {},
   "source": [
    "#### Compile names\n",
    "\n",
    "Now that those are treated, let's capture those and add them into a series of their own"
   ]
  },
  {
   "cell_type": "code",
   "execution_count": 317,
   "id": "0c9c71f2",
   "metadata": {},
   "outputs": [],
   "source": [
    "singlename = pd.DataFrame(d20_df[d20_df['variable'].str.contains('^[A-Z][a-z]*:.*')])"
   ]
  },
  {
   "cell_type": "code",
   "execution_count": 318,
   "id": "5a44ca44",
   "metadata": {},
   "outputs": [
    {
     "data": {
      "text/plain": [
       "0        Aabria:\n",
       "10          All:\n",
       "11       Aabria:\n",
       "13        Emily:\n",
       "14       Aabria:\n",
       "          ...   \n",
       "76005    Aabria:\n",
       "76006     Orion:\n",
       "76007    Aabria:\n",
       "76008     David:\n",
       "76010    Aabria:\n",
       "Name: variable, Length: 43227, dtype: object"
      ]
     },
     "execution_count": 318,
     "metadata": {},
     "output_type": "execute_result"
    }
   ],
   "source": [
    "singlename['variable'] = singlename['variable'].str.replace(r'^([A-Z][a-z]*:).*', r'\\1', regex=True).astype('str')\n",
    "singlename = pd.Series(singlename['variable'])\n",
    "singlename"
   ]
  },
  {
   "cell_type": "code",
   "execution_count": 319,
   "id": "8d6ca26e",
   "metadata": {},
   "outputs": [],
   "source": [
    "d20_df['variable'] = d20_df['variable'].str.replace(r'^[A-Z][a-z]*:(.*)', r'\\1', regex=True).astype('str')"
   ]
  },
  {
   "cell_type": "code",
   "execution_count": 320,
   "id": "e73cc60d",
   "metadata": {},
   "outputs": [],
   "source": [
    "#d20_df[d20_df['variable'].str.contains('^[A-Z][a-z]*.*[A-Z]*[a-z]*:.*')]"
   ]
  },
  {
   "cell_type": "code",
   "execution_count": 321,
   "id": "7013e95e",
   "metadata": {},
   "outputs": [],
   "source": [
    "longnames = pd.DataFrame(d20_df[d20_df['variable'].str.contains('^[A-Z][a-z]*.*[A-Z]*[a-z]*:.*')])"
   ]
  },
  {
   "cell_type": "code",
   "execution_count": 322,
   "id": "60645f0d",
   "metadata": {},
   "outputs": [
    {
     "data": {
      "text/plain": [
       "183                           BINX:\n",
       "213                      Major Hob:\n",
       "235                    Lou & Emily:\n",
       "254                      Major Hob:\n",
       "257                      Major Hob:\n",
       "                    ...            \n",
       "73361              Lou and Brennan:\n",
       "73459          Aabria and Danielle:\n",
       "73837           Aabria and Brennan:\n",
       "74115              Lou and Brennan:\n",
       "74772    Someone behind the camera:\n",
       "Name: variable, Length: 1559, dtype: object"
      ]
     },
     "execution_count": 322,
     "metadata": {},
     "output_type": "execute_result"
    }
   ],
   "source": [
    "longnames['variable'] = longnames['variable'].str.replace(r'^([A-Z][a-z]*.*[A-Z]*[a-z]*:).*', r'\\1', regex=True).astype('str')\n",
    "longnames = pd.Series(longnames['variable'])\n",
    "longnames"
   ]
  },
  {
   "cell_type": "code",
   "execution_count": 323,
   "id": "3e74bc20",
   "metadata": {},
   "outputs": [],
   "source": [
    "d20_df['variable'] = d20_df['variable'].str.replace(r'^[A-Z][a-z]*.*[A-Z]*[a-z]*:(.*)', r'\\1', regex=True).astype('str')"
   ]
  },
  {
   "cell_type": "code",
   "execution_count": 324,
   "id": "4c2a60f3",
   "metadata": {},
   "outputs": [],
   "source": [
    "shortnames = pd.DataFrame(d20_df[d20_df['variable'].str.contains('[A-Z][a-z]*:.*')])"
   ]
  },
  {
   "cell_type": "code",
   "execution_count": 325,
   "id": "c0cb993d",
   "metadata": {},
   "outputs": [
    {
     "data": {
      "text/plain": [
       "75               Suntar:\n",
       "76                Chirp:\n",
       "77               Suntar:\n",
       "78                Chirp:\n",
       "79               Suntar:\n",
       "              ...       \n",
       "60154              Evan:\n",
       "60511             Digby:\n",
       "63014              Evan:\n",
       "68850               Sam:\n",
       "70777             Oggle:\n",
       "Name: variable, Length: 423, dtype: object"
      ]
     },
     "execution_count": 325,
     "metadata": {},
     "output_type": "execute_result"
    }
   ],
   "source": [
    "shortnames['variable'] = shortnames['variable'].str.replace(r'([A-Z][a-z]*:).*', r'\\1', regex=True).astype('str')\n",
    "shortnames = pd.Series(shortnames['variable'])\n",
    "shortnames"
   ]
  },
  {
   "cell_type": "code",
   "execution_count": 326,
   "id": "7513b3c8",
   "metadata": {},
   "outputs": [],
   "source": [
    "d20_df['variable'] = d20_df['variable'].str.replace(r'[A-Z][a-z]*:(.*)', r'\\1', regex=True).astype('str')"
   ]
  },
  {
   "cell_type": "code",
   "execution_count": null,
   "id": "02acc76e",
   "metadata": {},
   "outputs": [],
   "source": []
  },
  {
   "cell_type": "code",
   "execution_count": 327,
   "id": "ea7666c0",
   "metadata": {},
   "outputs": [],
   "source": [
    "nameslist = [singlename, longnames, shortnames]"
   ]
  },
  {
   "cell_type": "code",
   "execution_count": 328,
   "id": "6bb05b85",
   "metadata": {},
   "outputs": [],
   "source": [
    "names = pd.concat(nameslist) #concat the series together"
   ]
  },
  {
   "cell_type": "code",
   "execution_count": 329,
   "id": "67952419",
   "metadata": {},
   "outputs": [],
   "source": [
    "namedupes = names.index[names.index.duplicated(keep=False)] #confirm there are no duplicate index values"
   ]
  },
  {
   "cell_type": "code",
   "execution_count": 330,
   "id": "8a5bf115",
   "metadata": {},
   "outputs": [
    {
     "name": "stdout",
     "output_type": "stream",
     "text": [
      "Int64Index([], dtype='int64')\n"
     ]
    }
   ],
   "source": [
    "print(namedupes)"
   ]
  },
  {
   "cell_type": "code",
   "execution_count": null,
   "id": "8af8367f",
   "metadata": {},
   "outputs": [],
   "source": []
  },
  {
   "cell_type": "code",
   "execution_count": 331,
   "id": "92c3fa97",
   "metadata": {},
   "outputs": [],
   "source": [
    "d20_df['name'] = names"
   ]
  },
  {
   "cell_type": "markdown",
   "id": "b9f9d44a",
   "metadata": {},
   "source": [
    "Now fill in the following lines with the name above until it comes upon a new value."
   ]
  },
  {
   "cell_type": "code",
   "execution_count": 332,
   "id": "a1461db7",
   "metadata": {},
   "outputs": [
    {
     "data": {
      "text/html": [
       "<div>\n",
       "<style scoped>\n",
       "    .dataframe tbody tr th:only-of-type {\n",
       "        vertical-align: middle;\n",
       "    }\n",
       "\n",
       "    .dataframe tbody tr th {\n",
       "        vertical-align: top;\n",
       "    }\n",
       "\n",
       "    .dataframe thead th {\n",
       "        text-align: right;\n",
       "    }\n",
       "</style>\n",
       "<table border=\"1\" class=\"dataframe\">\n",
       "  <thead>\n",
       "    <tr style=\"text-align: right;\">\n",
       "      <th></th>\n",
       "      <th>index</th>\n",
       "      <th>variable</th>\n",
       "      <th>episode</th>\n",
       "      <th>season</th>\n",
       "      <th>nonspeech</th>\n",
       "      <th>inaudible_speech</th>\n",
       "      <th>name</th>\n",
       "    </tr>\n",
       "  </thead>\n",
       "  <tbody>\n",
       "    <tr>\n",
       "      <th>0</th>\n",
       "      <td>10</td>\n",
       "      <td>To the churlish Captain K.P. Hob, venerated s...</td>\n",
       "      <td>10</td>\n",
       "      <td>ACOFF</td>\n",
       "      <td></td>\n",
       "      <td></td>\n",
       "      <td>Aabria:</td>\n",
       "    </tr>\n",
       "    <tr>\n",
       "      <th>1</th>\n",
       "      <td>11</td>\n",
       "      <td>Goblin Court. To the master of ceremonies, Del...</td>\n",
       "      <td>10</td>\n",
       "      <td>ACOFF</td>\n",
       "      <td></td>\n",
       "      <td></td>\n",
       "      <td>Aabria:</td>\n",
       "    </tr>\n",
       "    <tr>\n",
       "      <th>2</th>\n",
       "      <td>12</td>\n",
       "      <td>the Court of Wonder. To BINX Choppley, sole su...</td>\n",
       "      <td>10</td>\n",
       "      <td>ACOFF</td>\n",
       "      <td></td>\n",
       "      <td></td>\n",
       "      <td>Aabria:</td>\n",
       "    </tr>\n",
       "    <tr>\n",
       "      <th>3</th>\n",
       "      <td>13</td>\n",
       "      <td>Craft. To the tenebrous Prince Andhera, scion ...</td>\n",
       "      <td>10</td>\n",
       "      <td>ACOFF</td>\n",
       "      <td></td>\n",
       "      <td></td>\n",
       "      <td>Aabria:</td>\n",
       "    </tr>\n",
       "    <tr>\n",
       "      <th>4</th>\n",
       "      <td>14</td>\n",
       "      <td>to the notorious Lords of the Wing, Lady Chirp...</td>\n",
       "      <td>10</td>\n",
       "      <td>ACOFF</td>\n",
       "      <td></td>\n",
       "      <td></td>\n",
       "      <td>Aabria:</td>\n",
       "    </tr>\n",
       "    <tr>\n",
       "      <th>...</th>\n",
       "      <td>...</td>\n",
       "      <td>...</td>\n",
       "      <td>...</td>\n",
       "      <td>...</td>\n",
       "      <td>...</td>\n",
       "      <td>...</td>\n",
       "      <td>...</td>\n",
       "    </tr>\n",
       "    <tr>\n",
       "      <th>76015</th>\n",
       "      <td>1244</td>\n",
       "      <td>your hard work. This is literally what we mean...</td>\n",
       "      <td>5</td>\n",
       "      <td>Misfits and Magic AP</td>\n",
       "      <td></td>\n",
       "      <td></td>\n",
       "      <td>Aabria:</td>\n",
       "    </tr>\n",
       "    <tr>\n",
       "      <th>76016</th>\n",
       "      <td>1245</td>\n",
       "      <td>collaborative storytelling, We all built this ...</td>\n",
       "      <td>5</td>\n",
       "      <td>Misfits and Magic AP</td>\n",
       "      <td></td>\n",
       "      <td></td>\n",
       "      <td>Aabria:</td>\n",
       "    </tr>\n",
       "    <tr>\n",
       "      <th>76017</th>\n",
       "      <td>1246</td>\n",
       "      <td>an honor and a privilege to get to build \"Misf...</td>\n",
       "      <td>5</td>\n",
       "      <td>Misfits and Magic AP</td>\n",
       "      <td></td>\n",
       "      <td></td>\n",
       "      <td>Aabria:</td>\n",
       "    </tr>\n",
       "    <tr>\n",
       "      <th>76018</th>\n",
       "      <td>1247</td>\n",
       "      <td>it right one time, thank God.</td>\n",
       "      <td>5</td>\n",
       "      <td>Misfits and Magic AP</td>\n",
       "      <td></td>\n",
       "      <td></td>\n",
       "      <td>Aabria:</td>\n",
       "    </tr>\n",
       "    <tr>\n",
       "      <th>76019</th>\n",
       "      <td>1248</td>\n",
       "      <td>With all of you. So that's it, cut the feed!</td>\n",
       "      <td>5</td>\n",
       "      <td>Misfits and Magic AP</td>\n",
       "      <td></td>\n",
       "      <td></td>\n",
       "      <td>Aabria:</td>\n",
       "    </tr>\n",
       "  </tbody>\n",
       "</table>\n",
       "<p>75989 rows × 7 columns</p>\n",
       "</div>"
      ],
      "text/plain": [
       "       index                                           variable episode  \\\n",
       "0         10   To the churlish Captain K.P. Hob, venerated s...      10   \n",
       "1         11  Goblin Court. To the master of ceremonies, Del...      10   \n",
       "2         12  the Court of Wonder. To BINX Choppley, sole su...      10   \n",
       "3         13  Craft. To the tenebrous Prince Andhera, scion ...      10   \n",
       "4         14  to the notorious Lords of the Wing, Lady Chirp...      10   \n",
       "...      ...                                                ...     ...   \n",
       "76015   1244  your hard work. This is literally what we mean...       5   \n",
       "76016   1245  collaborative storytelling, We all built this ...       5   \n",
       "76017   1246  an honor and a privilege to get to build \"Misf...       5   \n",
       "76018   1247                      it right one time, thank God.       5   \n",
       "76019   1248       With all of you. So that's it, cut the feed!       5   \n",
       "\n",
       "                     season nonspeech inaudible_speech     name  \n",
       "0                     ACOFF                             Aabria:  \n",
       "1                     ACOFF                             Aabria:  \n",
       "2                     ACOFF                             Aabria:  \n",
       "3                     ACOFF                             Aabria:  \n",
       "4                     ACOFF                             Aabria:  \n",
       "...                     ...       ...              ...      ...  \n",
       "76015  Misfits and Magic AP                             Aabria:  \n",
       "76016  Misfits and Magic AP                             Aabria:  \n",
       "76017  Misfits and Magic AP                             Aabria:  \n",
       "76018  Misfits and Magic AP                             Aabria:  \n",
       "76019  Misfits and Magic AP                             Aabria:  \n",
       "\n",
       "[75989 rows x 7 columns]"
      ]
     },
     "execution_count": 332,
     "metadata": {},
     "output_type": "execute_result"
    }
   ],
   "source": [
    "d20_df['name']= d20_df['name'].mask(d20_df['name']=='NaN', None).ffill()\n",
    "d20_df"
   ]
  },
  {
   "cell_type": "markdown",
   "id": "c34b9cf3",
   "metadata": {},
   "source": [
    "We know from far earlier in this notebook that Aabria's opening speech goes from index 0-9 where she says hello and is responded to in index 10 by \"All\", so let's confirm that the name values reflect this"
   ]
  },
  {
   "cell_type": "code",
   "execution_count": 333,
   "id": "d3adbd16",
   "metadata": {},
   "outputs": [
    {
     "name": "stdout",
     "output_type": "stream",
     "text": [
      "Aabria:\n",
      "All:\n"
     ]
    }
   ],
   "source": [
    "print(d20_df.name[9])\n",
    "print(d20_df.name[10])  #great!!"
   ]
  },
  {
   "cell_type": "markdown",
   "id": "e93fe8e9",
   "metadata": {},
   "source": [
    "Now let's check out some basic counts"
   ]
  },
  {
   "cell_type": "code",
   "execution_count": 334,
   "id": "e22f01a4",
   "metadata": {},
   "outputs": [
    {
     "data": {
      "text/plain": [
       "Aabria:                 20145\n",
       "Brennan:                 7050\n",
       "Lou:                     3281\n",
       "Erika:                   2488\n",
       "Oscar:                   2098\n",
       "                        ...  \n",
       "Cater:                      1\n",
       "Ava :                       1\n",
       "Olliver :                   1\n",
       "Thoen:                      1\n",
       "Brennan and Siobhan:        1\n",
       "Name: name, Length: 303, dtype: int64"
      ]
     },
     "execution_count": 334,
     "metadata": {},
     "output_type": "execute_result"
    }
   ],
   "source": [
    "d20_df['name'].value_counts()"
   ]
  },
  {
   "cell_type": "code",
   "execution_count": 335,
   "id": "b5d8c5e6",
   "metadata": {},
   "outputs": [],
   "source": [
    "d20_df['name'] = d20_df['name'].str.replace(r'(.*):', r'\\1', regex=True).astype('str') #get rid of those trailing colons"
   ]
  },
  {
   "cell_type": "code",
   "execution_count": 336,
   "id": "5986e0ae",
   "metadata": {},
   "outputs": [
    {
     "data": {
      "text/plain": [
       "Aabria                 20145\n",
       "Brennan                 7050\n",
       "Lou                     3281\n",
       "Erika                   2488\n",
       "Oscar                   2098\n",
       "                       ...  \n",
       "Cater                      1\n",
       "Ava                        1\n",
       "Olliver                    1\n",
       "Thoen                      1\n",
       "Brennan and Siobhan        1\n",
       "Name: name, Length: 303, dtype: int64"
      ]
     },
     "execution_count": 336,
     "metadata": {},
     "output_type": "execute_result"
    }
   ],
   "source": [
    "d20_df['name'].value_counts()"
   ]
  },
  {
   "cell_type": "markdown",
   "id": "e182c393",
   "metadata": {},
   "source": [
    "#### Correcting typo errors\n",
    "\n",
    "While working on the player column below, I found quite a number of misspellings of names. I'm correcting them here so that when it comes time to compile and replace character names with player names, we'll have a consistent starting point."
   ]
  },
  {
   "cell_type": "code",
   "execution_count": 337,
   "id": "966f6199",
   "metadata": {},
   "outputs": [],
   "source": [
    "d20_df['name'] = d20_df['name'].str.replace(r'Erka', r'Erika', regex=True).astype('str')"
   ]
  },
  {
   "cell_type": "code",
   "execution_count": 338,
   "id": "899c9beb",
   "metadata": {},
   "outputs": [],
   "source": [
    "d20_df['name'] = d20_df['name'].str.replace(r'Sureana', r\"Surena\", regex=True).astype('str')"
   ]
  },
  {
   "cell_type": "code",
   "execution_count": 339,
   "id": "9491ffe7",
   "metadata": {},
   "outputs": [],
   "source": [
    "d20_df['name'] = d20_df['name'].str.replace(r'Aasbria', r'Aabria', regex=True).astype('str')"
   ]
  },
  {
   "cell_type": "code",
   "execution_count": 340,
   "id": "25b62333",
   "metadata": {},
   "outputs": [],
   "source": [
    "d20_df['name'] = d20_df['name'].str.replace(r'eRashawn', r'Rashawn', regex=True).astype('str')"
   ]
  },
  {
   "cell_type": "code",
   "execution_count": 341,
   "id": "ba0cba02",
   "metadata": {},
   "outputs": [],
   "source": [
    "d20_df['name'] = d20_df['name'].str.replace(r'Brenan', r'Brennan', regex=True).astype('str')"
   ]
  },
  {
   "cell_type": "code",
   "execution_count": 342,
   "id": "896e9a0f",
   "metadata": {},
   "outputs": [],
   "source": [
    "d20_df['name'] = d20_df['name'].str.replace(r'Thoen', r'Thorn', regex=True).astype('str')"
   ]
  },
  {
   "cell_type": "code",
   "execution_count": 343,
   "id": "90c041bd",
   "metadata": {},
   "outputs": [],
   "source": [
    "d20_df['name'] = d20_df['name'].str.replace(r'^Bren$', r'Brennan', regex=True).astype('str')"
   ]
  },
  {
   "cell_type": "code",
   "execution_count": 344,
   "id": "8f7140a2",
   "metadata": {},
   "outputs": [],
   "source": [
    "d20_df['name'] = d20_df['name'].str.replace(r'Rashan', r'Rashawn', regex=True).astype('str')"
   ]
  },
  {
   "cell_type": "code",
   "execution_count": 345,
   "id": "9215a147",
   "metadata": {},
   "outputs": [],
   "source": [
    "d20_df['name'] = d20_df['name'].str.replace(r'IZzy', r'Izzy', regex=True).astype('str')"
   ]
  },
  {
   "cell_type": "code",
   "execution_count": 346,
   "id": "5219c9e9",
   "metadata": {},
   "outputs": [],
   "source": [
    "d20_df['name'] = d20_df['name'].str.replace(r'Jayasohn', r'Jaysohn', regex=True).astype('str')"
   ]
  },
  {
   "cell_type": "code",
   "execution_count": 347,
   "id": "8a5fe49a",
   "metadata": {},
   "outputs": [],
   "source": [
    " d20_df['name'] = d20_df['name'].str.replace(r'Arabia', r'Aabria', regex=True).astype('str')"
   ]
  },
  {
   "cell_type": "code",
   "execution_count": 348,
   "id": "69ab80ea",
   "metadata": {},
   "outputs": [],
   "source": [
    " d20_df['name'] = d20_df['name'].str.replace(r'Dammer', r'Jammer', regex=True).astype('str')"
   ]
  },
  {
   "cell_type": "code",
   "execution_count": 349,
   "id": "629197ee",
   "metadata": {},
   "outputs": [],
   "source": [
    "d20_df['name'] = d20_df['name'].str.replace(r'Yula', r'Tula', regex=True).astype('str')"
   ]
  },
  {
   "cell_type": "code",
   "execution_count": 350,
   "id": "cee71455",
   "metadata": {},
   "outputs": [],
   "source": [
    "d20_df['name'] = d20_df['name'].str.replace(r'Jayson', r'Jaysohn', regex=True).astype('str')"
   ]
  },
  {
   "cell_type": "code",
   "execution_count": 351,
   "id": "6f8dd4f4",
   "metadata": {},
   "outputs": [],
   "source": [
    "d20_df['name'] = d20_df['name'].str.replace(r'^Boodl$', r'Boodle', regex=True).astype('str')"
   ]
  },
  {
   "cell_type": "code",
   "execution_count": 352,
   "id": "4eb4b7da",
   "metadata": {},
   "outputs": [],
   "source": [
    " d20_df['name'] = d20_df['name'].str.replace(r'Grablaba', r'Grabalba', regex=True).astype('str')"
   ]
  },
  {
   "cell_type": "code",
   "execution_count": 353,
   "id": "7582f36f",
   "metadata": {},
   "outputs": [],
   "source": [
    " d20_df['name'] = d20_df['name'].str.replace(r'Aabrua', r'Aabria', regex=True).astype('str')"
   ]
  },
  {
   "cell_type": "code",
   "execution_count": 354,
   "id": "51227569",
   "metadata": {},
   "outputs": [],
   "source": [
    " d20_df['name'] = d20_df['name'].str.replace(r'Digby', r'Digsby', regex=True).astype('str')"
   ]
  },
  {
   "cell_type": "code",
   "execution_count": 355,
   "id": "04b15107",
   "metadata": {},
   "outputs": [],
   "source": [
    " d20_df['name'] = d20_df['name'].str.replace(r'Mela', r'Mila', regex=True).astype('str')"
   ]
  },
  {
   "cell_type": "code",
   "execution_count": 356,
   "id": "017598f7",
   "metadata": {},
   "outputs": [],
   "source": [
    " d20_df['name'] = d20_df['name'].str.replace(r'^Lil$', r'Lila', regex=True).astype('str')"
   ]
  },
  {
   "cell_type": "code",
   "execution_count": 357,
   "id": "b69af61e",
   "metadata": {},
   "outputs": [],
   "source": [
    " d20_df['name'] = d20_df['name'].str.replace(r'^Khan$', r'Khanh', regex=True).astype('str')"
   ]
  },
  {
   "cell_type": "code",
   "execution_count": 358,
   "id": "adf8d806",
   "metadata": {},
   "outputs": [],
   "source": [
    " d20_df['name'] = d20_df['name'].str.replace(r'Cater', r'Carter', regex=True).astype('str')"
   ]
  },
  {
   "cell_type": "code",
   "execution_count": 359,
   "id": "6475eae8",
   "metadata": {},
   "outputs": [],
   "source": [
    " d20_df['name'] = d20_df['name'].str.replace(r'AlLila', r'All', regex=True).astype('str')"
   ]
  },
  {
   "cell_type": "code",
   "execution_count": 360,
   "id": "1f14d763",
   "metadata": {},
   "outputs": [],
   "source": [
    " d20_df['name'] = d20_df['name'].str.replace(r'Bennet$', r'Bennett', regex=True).astype('str')"
   ]
  },
  {
   "cell_type": "code",
   "execution_count": 361,
   "id": "79181626",
   "metadata": {},
   "outputs": [],
   "source": [
    " d20_df['name'] = d20_df['name'].str.replace(r'oLila', r'Bennett', regex=True).astype('str')"
   ]
  },
  {
   "cell_type": "code",
   "execution_count": 362,
   "id": "87356a59",
   "metadata": {},
   "outputs": [],
   "source": [
    " d20_df['name'] = d20_df['name'].str.replace(r'Whitner', r'Jammer', regex=True).astype('str')"
   ]
  },
  {
   "cell_type": "code",
   "execution_count": 363,
   "id": "9b6f12ab",
   "metadata": {},
   "outputs": [],
   "source": [
    " d20_df['name'] = d20_df['name'].str.replace(r'Erika\\ $', r'Erika', regex=True).astype('str')"
   ]
  },
  {
   "cell_type": "code",
   "execution_count": null,
   "id": "dc45cc68",
   "metadata": {},
   "outputs": [],
   "source": []
  },
  {
   "cell_type": "code",
   "execution_count": null,
   "id": "7584a690",
   "metadata": {},
   "outputs": [],
   "source": []
  },
  {
   "cell_type": "markdown",
   "id": "de4bf742",
   "metadata": {},
   "source": [
    "### Player Name column\n",
    "\n",
    "Since these transcriptions use character names to differentiate between when a character is speaking vs when the player is speaking, that's not very helpful in getting us value information on how much different people are speaking. \n",
    "\n",
    "The process for the player name column is:\n",
    "- Identify the unique values in the newly cloned player column\n",
    "- Replace values as appropriate to the player associated with the character name\n",
    "    - all assignments were confirmed using the fan wiki and scanning episodes online"
   ]
  },
  {
   "cell_type": "code",
   "execution_count": 364,
   "id": "d1aecbdb",
   "metadata": {},
   "outputs": [
    {
     "data": {
      "text/html": [
       "<div>\n",
       "<style scoped>\n",
       "    .dataframe tbody tr th:only-of-type {\n",
       "        vertical-align: middle;\n",
       "    }\n",
       "\n",
       "    .dataframe tbody tr th {\n",
       "        vertical-align: top;\n",
       "    }\n",
       "\n",
       "    .dataframe thead th {\n",
       "        text-align: right;\n",
       "    }\n",
       "</style>\n",
       "<table border=\"1\" class=\"dataframe\">\n",
       "  <thead>\n",
       "    <tr style=\"text-align: right;\">\n",
       "      <th></th>\n",
       "      <th>index</th>\n",
       "      <th>variable</th>\n",
       "      <th>episode</th>\n",
       "      <th>season</th>\n",
       "      <th>nonspeech</th>\n",
       "      <th>inaudible_speech</th>\n",
       "      <th>name</th>\n",
       "      <th>player</th>\n",
       "    </tr>\n",
       "  </thead>\n",
       "  <tbody>\n",
       "    <tr>\n",
       "      <th>0</th>\n",
       "      <td>10</td>\n",
       "      <td>To the churlish Captain K.P. Hob, venerated s...</td>\n",
       "      <td>10</td>\n",
       "      <td>ACOFF</td>\n",
       "      <td></td>\n",
       "      <td></td>\n",
       "      <td>Aabria</td>\n",
       "      <td>Aabria</td>\n",
       "    </tr>\n",
       "    <tr>\n",
       "      <th>1</th>\n",
       "      <td>11</td>\n",
       "      <td>Goblin Court. To the master of ceremonies, Del...</td>\n",
       "      <td>10</td>\n",
       "      <td>ACOFF</td>\n",
       "      <td></td>\n",
       "      <td></td>\n",
       "      <td>Aabria</td>\n",
       "      <td>Aabria</td>\n",
       "    </tr>\n",
       "    <tr>\n",
       "      <th>2</th>\n",
       "      <td>12</td>\n",
       "      <td>the Court of Wonder. To BINX Choppley, sole su...</td>\n",
       "      <td>10</td>\n",
       "      <td>ACOFF</td>\n",
       "      <td></td>\n",
       "      <td></td>\n",
       "      <td>Aabria</td>\n",
       "      <td>Aabria</td>\n",
       "    </tr>\n",
       "    <tr>\n",
       "      <th>3</th>\n",
       "      <td>13</td>\n",
       "      <td>Craft. To the tenebrous Prince Andhera, scion ...</td>\n",
       "      <td>10</td>\n",
       "      <td>ACOFF</td>\n",
       "      <td></td>\n",
       "      <td></td>\n",
       "      <td>Aabria</td>\n",
       "      <td>Aabria</td>\n",
       "    </tr>\n",
       "    <tr>\n",
       "      <th>4</th>\n",
       "      <td>14</td>\n",
       "      <td>to the notorious Lords of the Wing, Lady Chirp...</td>\n",
       "      <td>10</td>\n",
       "      <td>ACOFF</td>\n",
       "      <td></td>\n",
       "      <td></td>\n",
       "      <td>Aabria</td>\n",
       "      <td>Aabria</td>\n",
       "    </tr>\n",
       "  </tbody>\n",
       "</table>\n",
       "</div>"
      ],
      "text/plain": [
       "   index                                           variable episode season  \\\n",
       "0     10   To the churlish Captain K.P. Hob, venerated s...      10  ACOFF   \n",
       "1     11  Goblin Court. To the master of ceremonies, Del...      10  ACOFF   \n",
       "2     12  the Court of Wonder. To BINX Choppley, sole su...      10  ACOFF   \n",
       "3     13  Craft. To the tenebrous Prince Andhera, scion ...      10  ACOFF   \n",
       "4     14  to the notorious Lords of the Wing, Lady Chirp...      10  ACOFF   \n",
       "\n",
       "  nonspeech inaudible_speech    name  player  \n",
       "0                             Aabria  Aabria  \n",
       "1                             Aabria  Aabria  \n",
       "2                             Aabria  Aabria  \n",
       "3                             Aabria  Aabria  \n",
       "4                             Aabria  Aabria  "
      ]
     },
     "execution_count": 364,
     "metadata": {},
     "output_type": "execute_result"
    }
   ],
   "source": [
    "d20_df['player']=d20_df['name']\n",
    "d20_df.head()"
   ]
  },
  {
   "cell_type": "code",
   "execution_count": 365,
   "id": "fc9eb7f5",
   "metadata": {},
   "outputs": [
    {
     "name": "stdout",
     "output_type": "stream",
     "text": [
      "['Aabria' 'All' 'Emily' 'Lou' 'Omar' 'Oscar' 'Brennan'\n",
      " '\\xa0\\xa0\\xa0\\xa0\\xa0\\xa0\\xa0\\xa0Suntar'\n",
      " '\\xa0\\xa0\\xa0\\xa0\\xa0\\xa0\\xa0\\xa0Chirp' 'Suntar' 'Apollo' 'Squak'\n",
      " 'Surena' 'Chirp' 'BINX' 'Major Hob' 'Lou & Emily' 'Rue' 'Andhera'\n",
      " '\\xa0\\xa0\\xa0\\xa0\\xa0\\xa0\\xa0\\xa0Andhera'\n",
      " '\\xa0\\xa0\\xa0\\xa0\\xa0\\xa0\\xa0\\xa0BINX'\n",
      " '\\xa0\\xa0\\xa0\\xa0\\xa0\\xa0\\xa0\\xa0Apollo'\n",
      " '\\xa0\\xa0\\xa0\\xa0\\xa0\\xa0\\xa0\\xa0Squak'\n",
      " '\\xa0\\xa0\\xa0\\xa0\\xa0\\xa0\\xa0\\xa0Major Hob'\n",
      " '\\xa0\\xa0\\xa0\\xa0\\xa0\\xa0\\xa0\\xa0Rue'\n",
      " '\\xa0\\xa0\\xa0\\xa0\\xa0\\xa0\\xa0\\xa0Wuvvy' 'Major Hob & Squak'\n",
      " '\\xa0\\xa0\\xa0\\xa0\\xa0\\xa0\\xa0\\xa0Jeremy Renner' 'Jeremy Renner' 'Advisor'\n",
      " '\\xa0\\xa0\\xa0\\xa0\\xa0\\xa0\\xa0\\xa0Advisor' 'Wuvvy' 'Grandfather'\n",
      " 'Lou and Oscar' 'Mika' '\\xa0\\xa0\\xa0\\xa0\\xa0\\xa0\\xa0\\xa0Gwyndolin'\n",
      " '\\xa0\\xa0\\xa0\\xa0\\xa0\\xa0\\xa0\\xa0Captain Hob' 'Captain Hob'\n",
      " '\\xa0\\xa0\\xa0\\xa0\\xa0\\xa0\\xa0\\xa0Goblin King' 'Goblin King'\n",
      " 'Injured Goblin' 'Viscountess Grabalba' 'Gwyndolin' 'Bird' 'Crowd'\n",
      " '\\xa0\\xa0\\xa0\\xa0\\xa0\\xa0\\xa0\\xa0Onlooker' 'Satisfied Person' 'Capacea'\n",
      " 'Seelie Court' 'Aabria and Oscar' 'NPC' 'Players' 'Messenger'\n",
      " '\\xa0\\xa0\\xa0\\xa0\\xa0\\xa0\\xa0\\xa0Blemish'\n",
      " '\\xa0\\xa0\\xa0\\xa0\\xa0\\xa0\\xa0\\xa0Guide' 'Theodore' 'Chirp and Squak'\n",
      " 'Titania' '\\xa0\\xa0\\xa0\\xa0\\xa0\\xa0\\xa0\\xa0Theodore'\n",
      " '\\xa0\\xa0\\xa0\\xa0\\xa0\\xa0\\xa0\\xa0Hunter' 'Baroness Alven' 'Gorebladder'\n",
      " 'Lady Boil' 'Sea Foam Court Member' 'Ephendra' 'Human' 'Wannessa'\n",
      " 'Server' 'Dove' 'Grabalba' 'King Oberon' 'Baroness' 'Wave Master' 'Hedge'\n",
      " 'Spectators' 'Gobble' 'Grandpa Dog' 'Salt Goblin' 'Scorple' 'Alven'\n",
      " 'Sorwen' 'Jarl' 'Kobold' 'Scratch' 'Fable' 'Blemish/Boil' 'Fairy'\n",
      " 'Blemish' 'Lou and Brennan' 'Blemish and Boil' 'Chorus'\n",
      " 'The Queen of Air and Darkness' 'Squak\\xa0and Chirp' 'Caw'\n",
      " '\\xa0\\xa0\\xa0\\xa0\\xa0\\xa0\\xa0\\xa0Caw' 'Emily and Lou' 'Lady Sylmenar'\n",
      " 'Emily and Oscar' 'Sea Foam Message' 'Sea Foam Member' 'Fey' 'Fey person'\n",
      " 'Ebony' 'Denise' 'Rick' 'Mario' 'Kevin' 'Oscar, Surena and Lou' 'Rashawn'\n",
      " 'Jasper' 'Siobhan' 'Izzy' 'Viola' 'Teedles' 'Ava' 'Thorn' 'Jaysohn'\n",
      " 'Lila' 'Tula' 'Lukas' 'Erika' 'Dr. Tara' 'Dr. Wenabocker'\n",
      " 'Brennan and Jasper' 'Phoebe' 'Cast' 'Beatrix' '\\xa0Beatrix' 'Walmer'\n",
      " 'Olliver' '\\xa0Viola' 'Aabria\\xa0' 'Prue' 'Mila' 'Aabria And Jasper'\n",
      " 'Rashawn/Izzy' 'Thorn ' 'Olliver/Teedles' 'Lila and Jaysohn' 'Stoat'\n",
      " 'Fenneck' 'Sybil' 'Bennett' 'Brennan and Siobhan' 'Talia' '\\xa0Jaysohn'\n",
      " 'Ellen' 'Izzy and Siobhan' 'Olliver ' 'Ava ' 'Tula ' 'Simon' 'Lukas '\n",
      " 'Wenabocker' 'Scary Stoat' 'Director' 'Carter' 'Kiran' 'Pep' 'Meredith'\n",
      " 'Jaysohn and Lila' 'Jasper and Erika' 'Siobhan and Jasper'\n",
      " 'Aabria And Siobhan' 'Silence' 'Speaker' 'Q' 'Woman' 'Dr. Steel'\n",
      " 'Aabria and Jasper' 'Crew member' 'Carlos' 'Molly' 'Group' 'Sam'\n",
      " 'Danielle' 'Jammer' 'Teammate' 'Roger' 'Voice' 'Coach' 'Teammates'\n",
      " 'Freshman' 'Both' 'SU Fan' 'Dream' 'Janet' 'Maurice' 'Owl'\n",
      " 'Dream’s Parents' \"Sam's Mom\" 'Evan' 'Robed Woman' 'Philtrum' 'Tallulah'\n",
      " 'Fergus' 'Digsby' '\\xa0Lou' 'Mutton Chops' 'Passerby' 'Attendant' 'Freya'\n",
      " 'Chipmunk' 'Student' 'Children' 'Child'\n",
      " '\\xa0\\xa0\\xa0\\xa0\\xa0\\xa0\\xa0\\xa0Evan' 'Chimeron Student' 'Coggle'\n",
      " '\\xa0\\xa0\\xa0\\xa0\\xa0\\xa0\\xa0\\xa0\\xa0Digsby' 'Oggles' 'Hoggle' 'Anamica'\n",
      " 'First-year' 'Second-year' 'Sam & Jammer' 'Peter' 'Boodle'\n",
      " 'Lou & Brennan' 'Cauldron' 'Viniscus' 'Lemli' 'The Frunthwinkle' 'Khanh'\n",
      " 'Everyone' 'Random student' 'Aqrabus Student' 'Axelby' 'Fire Elemental'\n",
      " 'Penfrew' 'Professor' 'Criggle' 'Nurse' 'Stitchnit' 'Oggle'\n",
      " 'Evan and Jammer' 'Teddy' 'Scuppers Player' 'Voices' 'Sam and Jammer'\n",
      " 'Scary Voice' 'Second Head' 'Grasphlax' 'Fourth Voice' 'Maddy' 'Mouse'\n",
      " 'Mice' 'Old Dwarf' 'Aabria and Brennan' 'Frunthwinkle' 'Model' 'K'\n",
      " 'Sam’s Opponent' 'Kelmp Fans' 'Jammer and Evan' 'Rosemont student'\n",
      " 'Dragon' 'Alexis' '\\xa0\\xa0\\xa0\\xa0\\xa0\\xa0\\xa0\\xa0Sam' 'Jammer and Sam'\n",
      " 'Peddleston' 'Mrs. Nguyen' 'Yorick' 'Ponst Family' 'Nurse Stitchnit'\n",
      " 'Other Oggle' '\\xa0\\xa0\\xa0\\xa0\\xa0\\xa0\\xa0\\xa0Oggle' 'Messanteu kid'\n",
      " 'Kid' 'Tad' 'Danielle And Erika' 'Aabria and Danielle'\n",
      " 'Someone behind the camera' 'Orion' 'David' 'Paula' 'Todd']\n"
     ]
    }
   ],
   "source": [
    "print(d20_df['player'].unique())"
   ]
  },
  {
   "cell_type": "code",
   "execution_count": 366,
   "id": "61e4ae19",
   "metadata": {},
   "outputs": [
    {
     "data": {
      "text/html": [
       "<div>\n",
       "<style scoped>\n",
       "    .dataframe tbody tr th:only-of-type {\n",
       "        vertical-align: middle;\n",
       "    }\n",
       "\n",
       "    .dataframe tbody tr th {\n",
       "        vertical-align: top;\n",
       "    }\n",
       "\n",
       "    .dataframe thead th {\n",
       "        text-align: right;\n",
       "    }\n",
       "</style>\n",
       "<table border=\"1\" class=\"dataframe\">\n",
       "  <thead>\n",
       "    <tr style=\"text-align: right;\">\n",
       "      <th></th>\n",
       "      <th>index</th>\n",
       "      <th>variable</th>\n",
       "      <th>episode</th>\n",
       "      <th>season</th>\n",
       "      <th>nonspeech</th>\n",
       "      <th>inaudible_speech</th>\n",
       "      <th>name</th>\n",
       "      <th>player</th>\n",
       "    </tr>\n",
       "  </thead>\n",
       "  <tbody>\n",
       "    <tr>\n",
       "      <th>66874</th>\n",
       "      <td>1764</td>\n",
       "      <td>Yeah.</td>\n",
       "      <td>4</td>\n",
       "      <td>Misfits and Magic</td>\n",
       "      <td></td>\n",
       "      <td></td>\n",
       "      <td>K</td>\n",
       "      <td>K</td>\n",
       "    </tr>\n",
       "    <tr>\n",
       "      <th>66908</th>\n",
       "      <td>1798</td>\n",
       "      <td>Good!</td>\n",
       "      <td>4</td>\n",
       "      <td>Misfits and Magic</td>\n",
       "      <td></td>\n",
       "      <td></td>\n",
       "      <td>K</td>\n",
       "      <td>K</td>\n",
       "    </tr>\n",
       "    <tr>\n",
       "      <th>66913</th>\n",
       "      <td>1803</td>\n",
       "      <td>Whoo!</td>\n",
       "      <td>4</td>\n",
       "      <td>Misfits and Magic</td>\n",
       "      <td></td>\n",
       "      <td></td>\n",
       "      <td>K</td>\n",
       "      <td>K</td>\n",
       "    </tr>\n",
       "    <tr>\n",
       "      <th>66927</th>\n",
       "      <td>1817</td>\n",
       "      <td>You have blanket consent, my friend.</td>\n",
       "      <td>4</td>\n",
       "      <td>Misfits and Magic</td>\n",
       "      <td></td>\n",
       "      <td></td>\n",
       "      <td>K</td>\n",
       "      <td>K</td>\n",
       "    </tr>\n",
       "    <tr>\n",
       "      <th>66930</th>\n",
       "      <td>1820</td>\n",
       "      <td>Also I'm experimenting with they/them!</td>\n",
       "      <td>4</td>\n",
       "      <td>Misfits and Magic</td>\n",
       "      <td></td>\n",
       "      <td></td>\n",
       "      <td>K</td>\n",
       "      <td>K</td>\n",
       "    </tr>\n",
       "    <tr>\n",
       "      <th>...</th>\n",
       "      <td>...</td>\n",
       "      <td>...</td>\n",
       "      <td>...</td>\n",
       "      <td>...</td>\n",
       "      <td>...</td>\n",
       "      <td>...</td>\n",
       "      <td>...</td>\n",
       "      <td>...</td>\n",
       "    </tr>\n",
       "    <tr>\n",
       "      <th>71515</th>\n",
       "      <td>3155</td>\n",
       "      <td>All right, everybody let's keep it going.</td>\n",
       "      <td>5</td>\n",
       "      <td>Misfits and Magic</td>\n",
       "      <td></td>\n",
       "      <td></td>\n",
       "      <td>K</td>\n",
       "      <td>K</td>\n",
       "    </tr>\n",
       "    <tr>\n",
       "      <th>71623</th>\n",
       "      <td>3263</td>\n",
       "      <td>Oh, God, okay!</td>\n",
       "      <td>5</td>\n",
       "      <td>Misfits and Magic</td>\n",
       "      <td></td>\n",
       "      <td></td>\n",
       "      <td>K</td>\n",
       "      <td>K</td>\n",
       "    </tr>\n",
       "    <tr>\n",
       "      <th>71636</th>\n",
       "      <td>3276</td>\n",
       "      <td>You have a beautiful voice.</td>\n",
       "      <td>5</td>\n",
       "      <td>Misfits and Magic</td>\n",
       "      <td></td>\n",
       "      <td></td>\n",
       "      <td>K</td>\n",
       "      <td>K</td>\n",
       "    </tr>\n",
       "    <tr>\n",
       "      <th>71692</th>\n",
       "      <td>3332</td>\n",
       "      <td>Like right through the carotid.</td>\n",
       "      <td>5</td>\n",
       "      <td>Misfits and Magic</td>\n",
       "      <td></td>\n",
       "      <td></td>\n",
       "      <td>K</td>\n",
       "      <td>K</td>\n",
       "    </tr>\n",
       "    <tr>\n",
       "      <th>71694</th>\n",
       "      <td>3334</td>\n",
       "      <td>Dead on.</td>\n",
       "      <td>5</td>\n",
       "      <td>Misfits and Magic</td>\n",
       "      <td></td>\n",
       "      <td></td>\n",
       "      <td>K</td>\n",
       "      <td>K</td>\n",
       "    </tr>\n",
       "  </tbody>\n",
       "</table>\n",
       "<p>284 rows × 8 columns</p>\n",
       "</div>"
      ],
      "text/plain": [
       "       index                                    variable episode  \\\n",
       "66874   1764                                       Yeah.       4   \n",
       "66908   1798                                       Good!       4   \n",
       "66913   1803                                       Whoo!       4   \n",
       "66927   1817        You have blanket consent, my friend.       4   \n",
       "66930   1820      Also I'm experimenting with they/them!       4   \n",
       "...      ...                                         ...     ...   \n",
       "71515   3155   All right, everybody let's keep it going.       5   \n",
       "71623   3263                              Oh, God, okay!       5   \n",
       "71636   3276                 You have a beautiful voice.       5   \n",
       "71692   3332             Like right through the carotid.       5   \n",
       "71694   3334                                    Dead on.       5   \n",
       "\n",
       "                  season nonspeech inaudible_speech name player  \n",
       "66874  Misfits and Magic                               K      K  \n",
       "66908  Misfits and Magic                               K      K  \n",
       "66913  Misfits and Magic                               K      K  \n",
       "66927  Misfits and Magic                               K      K  \n",
       "66930  Misfits and Magic                               K      K  \n",
       "...                  ...       ...              ...  ...    ...  \n",
       "71515  Misfits and Magic                               K      K  \n",
       "71623  Misfits and Magic                               K      K  \n",
       "71636  Misfits and Magic                               K      K  \n",
       "71692  Misfits and Magic                               K      K  \n",
       "71694  Misfits and Magic                               K      K  \n",
       "\n",
       "[284 rows x 8 columns]"
      ]
     },
     "execution_count": 366,
     "metadata": {},
     "output_type": "execute_result"
    }
   ],
   "source": [
    "d20_df[d20_df['name'].str.contains('^K$')]"
   ]
  },
  {
   "cell_type": "code",
   "execution_count": 367,
   "id": "4fa666f8",
   "metadata": {},
   "outputs": [],
   "source": [
    "d20_df['player'] = d20_df['player'].str.replace(r'^K$', r'Erika', regex=True).astype('str')"
   ]
  },
  {
   "cell_type": "code",
   "execution_count": 368,
   "id": "a20fde69",
   "metadata": {},
   "outputs": [],
   "source": [
    "d20_df['player'] = d20_df['player'].str.replace(r'Evan', r'Brennan', regex=True).astype('str')"
   ]
  },
  {
   "cell_type": "code",
   "execution_count": 369,
   "id": "4ecadfcf",
   "metadata": {},
   "outputs": [],
   "source": [
    "d20_df['player'] = d20_df['player'].str.replace(r'Captain Hob', r'Brennan', regex=True).astype('str')"
   ]
  },
  {
   "cell_type": "code",
   "execution_count": 370,
   "id": "64d31029",
   "metadata": {},
   "outputs": [],
   "source": [
    "d20_df['player'] = d20_df['player'].str.replace(r'Jaysohn', r'Siobhan', regex=True).astype('str')"
   ]
  },
  {
   "cell_type": "code",
   "execution_count": 371,
   "id": "0c89922b",
   "metadata": {},
   "outputs": [],
   "source": [
    "d20_df['player'] = d20_df['player'].str.replace(r'Tula', r'Brennan', regex=True).astype('str')"
   ]
  },
  {
   "cell_type": "code",
   "execution_count": 372,
   "id": "53370dbc",
   "metadata": {},
   "outputs": [],
   "source": [
    "d20_df['player'] = d20_df['player'].str.replace(r'Jammer', r'Lou', regex=True).astype('str')"
   ]
  },
  {
   "cell_type": "code",
   "execution_count": 373,
   "id": "936a5287",
   "metadata": {},
   "outputs": [],
   "source": [
    "d20_df['player'] = d20_df['player'].str.replace(r'Lila', r'Izzy', regex=True).astype('str')"
   ]
  },
  {
   "cell_type": "code",
   "execution_count": 374,
   "id": "e2fda2f7",
   "metadata": {},
   "outputs": [],
   "source": [
    " d20_df['player'] = d20_df['player'].str.replace(r'Thorn', r'Jasper', regex=True).astype('str')"
   ]
  },
  {
   "cell_type": "code",
   "execution_count": 375,
   "id": "7dd1e086",
   "metadata": {},
   "outputs": [],
   "source": [
    " d20_df['player'] = d20_df['player'].str.replace(r'Andhera', r'Omar', regex=True).astype('str')"
   ]
  },
  {
   "cell_type": "code",
   "execution_count": 376,
   "id": "962eaec0",
   "metadata": {},
   "outputs": [],
   "source": [
    " d20_df['player'] = d20_df['player'].str.replace(r'BINX', r'Surena', regex=True).astype('str')"
   ]
  },
  {
   "cell_type": "code",
   "execution_count": 377,
   "id": "59a51b9c",
   "metadata": {},
   "outputs": [],
   "source": [
    " d20_df['player'] = d20_df['player'].str.replace(r'Chirp', r'Emily', regex=True).astype('str')"
   ]
  },
  {
   "cell_type": "code",
   "execution_count": 378,
   "id": "d97abbce",
   "metadata": {},
   "outputs": [],
   "source": [
    " d20_df['player'] = d20_df['player'].str.replace(r'Major Hob', r'Brennan', regex=True).astype('str')"
   ]
  },
  {
   "cell_type": "code",
   "execution_count": 379,
   "id": "94262211",
   "metadata": {},
   "outputs": [],
   "source": [
    " d20_df['player'] = d20_df['player'].str.replace(r'Jeremy Renner', r'Aabria', regex=True).astype('str')"
   ]
  },
  {
   "cell_type": "code",
   "execution_count": 380,
   "id": "6a3f41a0",
   "metadata": {},
   "outputs": [],
   "source": [
    " d20_df['player'] = d20_df['player'].str.replace(r'Rue', r'Oscar', regex=True).astype('str')"
   ]
  },
  {
   "cell_type": "code",
   "execution_count": 381,
   "id": "bd7912d6",
   "metadata": {},
   "outputs": [],
   "source": [
    " d20_df['player'] = d20_df['player'].str.replace(r'Apollo', r'Aabria', regex=True).astype('str')"
   ]
  },
  {
   "cell_type": "code",
   "execution_count": 382,
   "id": "3a42428d",
   "metadata": {},
   "outputs": [],
   "source": [
    " d20_df['player'] = d20_df['player'].str.replace(r'Squak', r'Lou', regex=True).astype('str')"
   ]
  },
  {
   "cell_type": "code",
   "execution_count": 383,
   "id": "921326e2",
   "metadata": {},
   "outputs": [],
   "source": [
    " d20_df['player'] = d20_df['player'].str.replace(r'Mika', r'Aabria', regex=True).astype('str')"
   ]
  },
  {
   "cell_type": "code",
   "execution_count": 384,
   "id": "9db0b901",
   "metadata": {},
   "outputs": [],
   "source": [
    " d20_df['player'] = d20_df['player'].str.replace(r'NPC', r'Aabria', regex=True).astype('str')"
   ]
  },
  {
   "cell_type": "code",
   "execution_count": 385,
   "id": "4134aa31",
   "metadata": {},
   "outputs": [],
   "source": [
    " d20_df['player'] = d20_df['player'].str.replace(r'Fenneck', r'Aabria', regex=True).astype('str')"
   ]
  },
  {
   "cell_type": "code",
   "execution_count": 386,
   "id": "ea322486",
   "metadata": {},
   "outputs": [],
   "source": [
    " d20_df['player'] = d20_df['player'].str.replace(r'Suntar', r'Aabria', regex=True).astype('str')"
   ]
  },
  {
   "cell_type": "code",
   "execution_count": 387,
   "id": "5c2af32e",
   "metadata": {},
   "outputs": [],
   "source": [
    " d20_df['player'] = d20_df['player'].str.replace(r'Wuvvy', r'Aabria', regex=True).astype('str')"
   ]
  },
  {
   "cell_type": "code",
   "execution_count": 388,
   "id": "f0dcc58c",
   "metadata": {},
   "outputs": [],
   "source": [
    " d20_df['player'] = d20_df['player'].str.replace(r'Advisor', r'Aabria', regex=True).astype('str')"
   ]
  },
  {
   "cell_type": "code",
   "execution_count": 389,
   "id": "e6e6b418",
   "metadata": {},
   "outputs": [],
   "source": [
    " d20_df['player'] = d20_df['player'].str.replace(r'Grandfather', r'Aabria', regex=True).astype('str')"
   ]
  },
  {
   "cell_type": "code",
   "execution_count": 390,
   "id": "921022a2",
   "metadata": {},
   "outputs": [],
   "source": [
    " d20_df['player'] = d20_df['player'].str.replace(r'Gwyndolin', r'Aabria', regex=True).astype('str')"
   ]
  },
  {
   "cell_type": "code",
   "execution_count": 391,
   "id": "401e631c",
   "metadata": {},
   "outputs": [],
   "source": [
    " d20_df['player'] = d20_df['player'].str.replace(r'Goblin King', r'Aabria', regex=True).astype('str')"
   ]
  },
  {
   "cell_type": "code",
   "execution_count": 392,
   "id": "138edb5c",
   "metadata": {},
   "outputs": [],
   "source": [
    " d20_df['player'] = d20_df['player'].str.replace(r'Bird', r'Aabria', regex=True).astype('str')"
   ]
  },
  {
   "cell_type": "code",
   "execution_count": 393,
   "id": "b63ce703",
   "metadata": {},
   "outputs": [],
   "source": [
    " d20_df['player'] = d20_df['player'].str.replace(r'Crowd', r'Aabria', regex=True).astype('str')"
   ]
  },
  {
   "cell_type": "code",
   "execution_count": 394,
   "id": "38f8b5a7",
   "metadata": {},
   "outputs": [],
   "source": [
    " d20_df['player'] = d20_df['player'].str.replace(r'Onlooker', r'Aabria', regex=True).astype('str')"
   ]
  },
  {
   "cell_type": "code",
   "execution_count": 395,
   "id": "bfc54648",
   "metadata": {},
   "outputs": [],
   "source": [
    " d20_df['player'] = d20_df['player'].str.replace(r'Messenger', r'Aabria', regex=True).astype('str')"
   ]
  },
  {
   "cell_type": "code",
   "execution_count": 396,
   "id": "d147776b",
   "metadata": {},
   "outputs": [],
   "source": [
    " d20_df['player'] = d20_df['player'].str.replace(r'Wannessa', r'Aabria', regex=True).astype('str')"
   ]
  },
  {
   "cell_type": "code",
   "execution_count": 397,
   "id": "380d5f5a",
   "metadata": {},
   "outputs": [],
   "source": [
    " d20_df['player'] = d20_df['player'].str.replace(r'Viola', r'Rashawn', regex=True).astype('str')"
   ]
  },
  {
   "cell_type": "code",
   "execution_count": 398,
   "id": "a11d6f94",
   "metadata": {},
   "outputs": [],
   "source": [
    " d20_df['player'] = d20_df['player'].str.replace(r'Ephendra', r'Aabria', regex=True).astype('str')"
   ]
  },
  {
   "cell_type": "code",
   "execution_count": 399,
   "id": "24c69e21",
   "metadata": {},
   "outputs": [],
   "source": [
    " d20_df['player'] = d20_df['player'].str.replace(r'Beatrix', r'Aabria', regex=True).astype('str')"
   ]
  },
  {
   "cell_type": "code",
   "execution_count": 400,
   "id": "cb594880",
   "metadata": {},
   "outputs": [],
   "source": [
    " d20_df['player'] = d20_df['player'].str.replace(r'Kobold', r'Aabria', regex=True).astype('str')"
   ]
  },
  {
   "cell_type": "code",
   "execution_count": 401,
   "id": "f2ecfb10",
   "metadata": {},
   "outputs": [],
   "source": [
    " d20_df['player'] = d20_df['player'].str.replace(r'Prue', r'Aabria', regex=True).astype('str')"
   ]
  },
  {
   "cell_type": "code",
   "execution_count": 402,
   "id": "8ba2aa58",
   "metadata": {},
   "outputs": [],
   "source": [
    " d20_df['player'] = d20_df['player'].str.replace(r'Meredith', r'Aabria', regex=True).astype('str')"
   ]
  },
  {
   "cell_type": "code",
   "execution_count": 403,
   "id": "1709cca4",
   "metadata": {},
   "outputs": [],
   "source": [
    " d20_df['player'] = d20_df['player'].str.replace(r'Injured Goblin', r'Aabria', regex=True).astype('str')"
   ]
  },
  {
   "cell_type": "code",
   "execution_count": 404,
   "id": "26ca2ac2",
   "metadata": {},
   "outputs": [],
   "source": [
    " d20_df['player'] = d20_df['player'].str.replace(r'Viscountess Grabalba', r'Aabria', regex=True).astype('str')"
   ]
  },
  {
   "cell_type": "code",
   "execution_count": 405,
   "id": "c608ac3e",
   "metadata": {},
   "outputs": [],
   "source": [
    " d20_df['player'] = d20_df['player'].str.replace(r'Satisfied Person', r'Aabria', regex=True).astype('str')"
   ]
  },
  {
   "cell_type": "code",
   "execution_count": 406,
   "id": "c5db3b23",
   "metadata": {},
   "outputs": [],
   "source": [
    " d20_df['player'] = d20_df['player'].str.replace(r'Capacea', r'Aabria', regex=True).astype('str')"
   ]
  },
  {
   "cell_type": "code",
   "execution_count": 407,
   "id": "0637732a",
   "metadata": {},
   "outputs": [],
   "source": [
    " d20_df['player'] = d20_df['player'].str.replace(r'Seelie Court', r'Aabria', regex=True).astype('str')"
   ]
  },
  {
   "cell_type": "code",
   "execution_count": 408,
   "id": "e8dc8e24",
   "metadata": {},
   "outputs": [],
   "source": [
    " d20_df['player'] = d20_df['player'].str.replace(r'Blemish and Boil', r'Aabria', regex=True).astype('str')"
   ]
  },
  {
   "cell_type": "code",
   "execution_count": 409,
   "id": "5671741c",
   "metadata": {},
   "outputs": [],
   "source": [
    " d20_df['player'] = d20_df['player'].str.replace(r'Blemish/Boil', r'Aabria', regex=True).astype('str')"
   ]
  },
  {
   "cell_type": "code",
   "execution_count": 410,
   "id": "f3b708a9",
   "metadata": {},
   "outputs": [],
   "source": [
    " d20_df['player'] = d20_df['player'].str.replace(r'Blemish', r'Aabria', regex=True).astype('str')"
   ]
  },
  {
   "cell_type": "code",
   "execution_count": 411,
   "id": "1b485e29",
   "metadata": {},
   "outputs": [],
   "source": [
    " d20_df['player'] = d20_df['player'].str.replace(r'Guide', r'Aabria', regex=True).astype('str')"
   ]
  },
  {
   "cell_type": "code",
   "execution_count": 412,
   "id": "b61776c5",
   "metadata": {},
   "outputs": [],
   "source": [
    " d20_df['player'] = d20_df['player'].str.replace(r'Theodore', r'Aabria', regex=True).astype('str')"
   ]
  },
  {
   "cell_type": "code",
   "execution_count": 413,
   "id": "208fad0e",
   "metadata": {},
   "outputs": [],
   "source": [
    " d20_df['player'] = d20_df['player'].str.replace(r'Titania', r'Aabria', regex=True).astype('str')"
   ]
  },
  {
   "cell_type": "code",
   "execution_count": 414,
   "id": "0726a865",
   "metadata": {},
   "outputs": [],
   "source": [
    " d20_df['player'] = d20_df['player'].str.replace(r'Hunter', r'Aabria', regex=True).astype('str')"
   ]
  },
  {
   "cell_type": "code",
   "execution_count": 415,
   "id": "fbfbf1b0",
   "metadata": {},
   "outputs": [],
   "source": [
    " d20_df['player'] = d20_df['player'].str.replace(r'Sea Foam Court Member', r'Aabria', regex=True).astype('str')"
   ]
  },
  {
   "cell_type": "code",
   "execution_count": 416,
   "id": "30bc3c71",
   "metadata": {},
   "outputs": [],
   "source": [
    " d20_df['player'] = d20_df['player'].str.replace(r'Gorebladder', r'Aabria', regex=True).astype('str')"
   ]
  },
  {
   "cell_type": "code",
   "execution_count": 417,
   "id": "c5cb8c7e",
   "metadata": {},
   "outputs": [],
   "source": [
    " d20_df['player'] = d20_df['player'].str.replace(r'Spectators', r'Aabria', regex=True).astype('str')"
   ]
  },
  {
   "cell_type": "code",
   "execution_count": 418,
   "id": "13f01d2b",
   "metadata": {},
   "outputs": [],
   "source": [
    " d20_df['player'] = d20_df['player'].str.replace(r'Grabalba', r'Aabria', regex=True).astype('str')"
   ]
  },
  {
   "cell_type": "code",
   "execution_count": 419,
   "id": "e2c28b43",
   "metadata": {},
   "outputs": [],
   "source": [
    " d20_df['player'] = d20_df['player'].str.replace(r'Server', r'Aabria', regex=True).astype('str')"
   ]
  },
  {
   "cell_type": "code",
   "execution_count": 420,
   "id": "11e63dbd",
   "metadata": {},
   "outputs": [],
   "source": [
    " d20_df['player'] = d20_df['player'].str.replace(r'Lady Boil', r'Aabria', regex=True).astype('str')"
   ]
  },
  {
   "cell_type": "code",
   "execution_count": 421,
   "id": "c82d4f2a",
   "metadata": {},
   "outputs": [],
   "source": [
    " d20_df['player'] = d20_df['player'].str.replace(r'Human', r'Aabria', regex=True).astype('str')"
   ]
  },
  {
   "cell_type": "code",
   "execution_count": 422,
   "id": "7695ea43",
   "metadata": {},
   "outputs": [],
   "source": [
    " d20_df['player'] = d20_df['player'].str.replace(r'Grandpa Dog', r'Aabria', regex=True).astype('str')"
   ]
  },
  {
   "cell_type": "code",
   "execution_count": 423,
   "id": "e68f9391",
   "metadata": {},
   "outputs": [],
   "source": [
    " d20_df['player'] = d20_df['player'].str.replace(r'Phoebe', r'Aabria', regex=True).astype('str')"
   ]
  },
  {
   "cell_type": "code",
   "execution_count": 424,
   "id": "a290c29f",
   "metadata": {},
   "outputs": [],
   "source": [
    " d20_df['player'] = d20_df['player'].str.replace(r'The Queen of Air and Darkness', r'Aabria', regex=True).astype('str')"
   ]
  },
  {
   "cell_type": "code",
   "execution_count": 425,
   "id": "4c3685f8",
   "metadata": {},
   "outputs": [],
   "source": [
    " d20_df['player'] = d20_df['player'].str.replace(r'Ava', r'Erika', regex=True).astype('str')"
   ]
  },
  {
   "cell_type": "code",
   "execution_count": 426,
   "id": "43d3f768",
   "metadata": {},
   "outputs": [],
   "source": [
    " d20_df['player'] = d20_df['player'].str.replace(r'Lukas', r'Aabria', regex=True).astype('str')"
   ]
  },
  {
   "cell_type": "code",
   "execution_count": 427,
   "id": "e1865c60",
   "metadata": {},
   "outputs": [],
   "source": [
    " d20_df['player'] = d20_df['player'].str.replace(r'Sea Foam Member', r'Aabria', regex=True).astype('str')"
   ]
  },
  {
   "cell_type": "code",
   "execution_count": 428,
   "id": "71a1dcc7",
   "metadata": {},
   "outputs": [],
   "source": [
    " d20_df['player'] = d20_df['player'].str.replace(r'Aqrabus Student', r'Aabria', regex=True).astype('str')"
   ]
  },
  {
   "cell_type": "code",
   "execution_count": 429,
   "id": "2835239a",
   "metadata": {},
   "outputs": [],
   "source": [
    " d20_df['player'] = d20_df['player'].str.replace(r'Scary Stoat', r'Aabria', regex=True).astype('str')"
   ]
  },
  {
   "cell_type": "code",
   "execution_count": 430,
   "id": "99fc51b2",
   "metadata": {},
   "outputs": [],
   "source": [
    " d20_df['player'] = d20_df['player'].str.replace(r'Sam\\'s Mom', r'Aabria', regex=True).astype('str')"
   ]
  },
  {
   "cell_type": "code",
   "execution_count": 431,
   "id": "db58e53e",
   "metadata": {},
   "outputs": [],
   "source": [
    " d20_df['player'] = d20_df['player'].str.replace(r'Mrs\\. Nguyen', r'Aabria', regex=True).astype('str')"
   ]
  },
  {
   "cell_type": "code",
   "execution_count": 432,
   "id": "fe23e87e",
   "metadata": {},
   "outputs": [],
   "source": [
    " d20_df['player'] = d20_df['player'].str.replace(r'Kelmp Fans', r'Aabria', regex=True).astype('str')"
   ]
  },
  {
   "cell_type": "code",
   "execution_count": 433,
   "id": "7af5d861",
   "metadata": {},
   "outputs": [],
   "source": [
    " d20_df['player'] = d20_df['player'].str.replace(r'Teammates', r'Aabria', regex=True).astype('str')"
   ]
  },
  {
   "cell_type": "code",
   "execution_count": 434,
   "id": "84ba0525",
   "metadata": {},
   "outputs": [],
   "source": [
    " d20_df['player'] = d20_df['player'].str.replace(r'Teammate', r'Aabria', regex=True).astype('str')"
   ]
  },
  {
   "cell_type": "code",
   "execution_count": 435,
   "id": "47f78fe0",
   "metadata": {},
   "outputs": [],
   "source": [
    " d20_df['player'] = d20_df['player'].str.replace(r'Baroness Alven', r'Aabria', regex=True).astype('str')"
   ]
  },
  {
   "cell_type": "code",
   "execution_count": 436,
   "id": "10409bb8",
   "metadata": {},
   "outputs": [],
   "source": [
    " d20_df['player'] = d20_df['player'].str.replace(r'King Oberon', r'Aabria', regex=True).astype('str')"
   ]
  },
  {
   "cell_type": "code",
   "execution_count": 437,
   "id": "0f330f31",
   "metadata": {},
   "outputs": [],
   "source": [
    " d20_df['player'] = d20_df['player'].str.replace(r'Baroness', r'Aabria', regex=True).astype('str')"
   ]
  },
  {
   "cell_type": "code",
   "execution_count": 438,
   "id": "cc2be414",
   "metadata": {},
   "outputs": [],
   "source": [
    " d20_df['player'] = d20_df['player'].str.replace(r'Salt Goblin', r'Aabria', regex=True).astype('str')"
   ]
  },
  {
   "cell_type": "code",
   "execution_count": 439,
   "id": "56db9e98",
   "metadata": {},
   "outputs": [],
   "source": [
    " d20_df['player'] = d20_df['player'].str.replace(r'Alven', r'Aabria', regex=True).astype('str')"
   ]
  },
  {
   "cell_type": "code",
   "execution_count": 440,
   "id": "27d695c8",
   "metadata": {},
   "outputs": [],
   "source": [
    " d20_df['player'] = d20_df['player'].str.replace(r'Wave Master', r'Aabria', regex=True).astype('str')"
   ]
  },
  {
   "cell_type": "code",
   "execution_count": 441,
   "id": "1cac10d0",
   "metadata": {},
   "outputs": [],
   "source": [
    " d20_df['player'] = d20_df['player'].str.replace(r'Lady Sylmenar', r'Aabria', regex=True).astype('str')"
   ]
  },
  {
   "cell_type": "code",
   "execution_count": 442,
   "id": "83452e4c",
   "metadata": {},
   "outputs": [],
   "source": [
    " d20_df['player'] = d20_df['player'].str.replace(r'Sea Foam Message', r'Aabria', regex=True).astype('str')"
   ]
  },
  {
   "cell_type": "code",
   "execution_count": 443,
   "id": "03fffa30",
   "metadata": {},
   "outputs": [],
   "source": [
    " d20_df['player'] = d20_df['player'].str.replace(r'Dr\\. Wenabocker', r'Aabria', regex=True).astype('str')"
   ]
  },
  {
   "cell_type": "code",
   "execution_count": 444,
   "id": "ac17dabd",
   "metadata": {},
   "outputs": [],
   "source": [
    " d20_df['player'] = d20_df['player'].str.replace(r'Random student', r'Aabria', regex=True).astype('str')"
   ]
  },
  {
   "cell_type": "code",
   "execution_count": 445,
   "id": "37c188f1",
   "metadata": {},
   "outputs": [],
   "source": [
    " d20_df['player'] = d20_df['player'].str.replace(r'(.*)and(.*)', r'\\1&\\2', regex=True).astype('str')"
   ]
  },
  {
   "cell_type": "code",
   "execution_count": 446,
   "id": "40de116e",
   "metadata": {},
   "outputs": [],
   "source": [
    " d20_df['player'] = d20_df['player'].str.replace(r'(.*)And(.*)', r'\\1&\\2', regex=True).astype('str')"
   ]
  },
  {
   "cell_type": "code",
   "execution_count": 447,
   "id": "0b6f0186",
   "metadata": {},
   "outputs": [],
   "source": [
    " d20_df['player'] = d20_df['player'].str.replace(r'(.*)&(.*)', r'\\1&\\2', regex=True).astype('str')"
   ]
  },
  {
   "cell_type": "code",
   "execution_count": 448,
   "id": "35bbf615",
   "metadata": {},
   "outputs": [],
   "source": [
    " d20_df['player'] = d20_df['player'].str.replace(r'Dove', r'Aabria', regex=True).astype('str')"
   ]
  },
  {
   "cell_type": "code",
   "execution_count": 449,
   "id": "d3629a50",
   "metadata": {},
   "outputs": [],
   "source": [
    " d20_df['player'] = d20_df['player'].str.replace(r'Hedge', r'Aabria', regex=True).astype('str')"
   ]
  },
  {
   "cell_type": "code",
   "execution_count": 450,
   "id": "7f730c5f",
   "metadata": {},
   "outputs": [],
   "source": [
    " d20_df['player'] = d20_df['player'].str.replace(r'Gobble', r'Aabria', regex=True).astype('str')"
   ]
  },
  {
   "cell_type": "code",
   "execution_count": 451,
   "id": "75c05691",
   "metadata": {},
   "outputs": [],
   "source": [
    " d20_df['player'] = d20_df['player'].str.replace(r'Scorple', r'Aabria', regex=True).astype('str')"
   ]
  },
  {
   "cell_type": "code",
   "execution_count": 452,
   "id": "f25de2f0",
   "metadata": {},
   "outputs": [],
   "source": [
    " d20_df['player'] = d20_df['player'].str.replace(r'Sorwen', r'Aabria', regex=True).astype('str')"
   ]
  },
  {
   "cell_type": "code",
   "execution_count": 453,
   "id": "91c06fb6",
   "metadata": {},
   "outputs": [],
   "source": [
    " d20_df['player'] = d20_df['player'].str.replace(r'Jarl', r'Aabria', regex=True).astype('str')"
   ]
  },
  {
   "cell_type": "code",
   "execution_count": 454,
   "id": "3c866c05",
   "metadata": {},
   "outputs": [],
   "source": [
    " d20_df['player'] = d20_df['player'].str.replace(r'Scratch', r'Aabria', regex=True).astype('str')"
   ]
  },
  {
   "cell_type": "code",
   "execution_count": 455,
   "id": "bf7ed04d",
   "metadata": {},
   "outputs": [],
   "source": [
    " d20_df['player'] = d20_df['player'].str.replace(r'Fable', r'Aabria', regex=True).astype('str')"
   ]
  },
  {
   "cell_type": "code",
   "execution_count": 456,
   "id": "6bf18f75",
   "metadata": {},
   "outputs": [],
   "source": [
    " d20_df['player'] = d20_df['player'].str.replace(r'Fairy', r'Aabria', regex=True).astype('str')"
   ]
  },
  {
   "cell_type": "code",
   "execution_count": 457,
   "id": "02988143",
   "metadata": {},
   "outputs": [],
   "source": [
    " d20_df['player'] = d20_df['player'].str.replace(r'Caw', r'Aabria', regex=True).astype('str')"
   ]
  },
  {
   "cell_type": "code",
   "execution_count": 458,
   "id": "9c83b7b4",
   "metadata": {},
   "outputs": [],
   "source": [
    " d20_df['player'] = d20_df['player'].str.replace(r'Fey person', r'Aabria', regex=True).astype('str')"
   ]
  },
  {
   "cell_type": "code",
   "execution_count": 459,
   "id": "fa438c1c",
   "metadata": {},
   "outputs": [],
   "source": [
    " d20_df['player'] = d20_df['player'].str.replace(r'Fey', r'Aabria', regex=True).astype('str')"
   ]
  },
  {
   "cell_type": "code",
   "execution_count": 460,
   "id": "0fdf5cc4",
   "metadata": {},
   "outputs": [],
   "source": [
    " d20_df['player'] = d20_df['player'].str.replace(r'Olliver/Teedles', r'Aabria', regex=True).astype('str')"
   ]
  },
  {
   "cell_type": "code",
   "execution_count": 461,
   "id": "fd3f2781",
   "metadata": {},
   "outputs": [],
   "source": [
    " d20_df['player'] = d20_df['player'].str.replace(r'Teedles', r'Aabria', regex=True).astype('str')"
   ]
  },
  {
   "cell_type": "code",
   "execution_count": 462,
   "id": "4b337a3e",
   "metadata": {},
   "outputs": [],
   "source": [
    " d20_df['player'] = d20_df['player'].str.replace(r'Dr. Tara', r'Aabria', regex=True).astype('str')"
   ]
  },
  {
   "cell_type": "code",
   "execution_count": 463,
   "id": "9b1c59f1",
   "metadata": {},
   "outputs": [],
   "source": [
    " d20_df['player'] = d20_df['player'].str.replace(r'Walmer', r'Aabria', regex=True).astype('str')"
   ]
  },
  {
   "cell_type": "code",
   "execution_count": 464,
   "id": "17b39c6f",
   "metadata": {},
   "outputs": [],
   "source": [
    " d20_df['player'] = d20_df['player'].str.replace(r'Olliver', r'Aabria', regex=True).astype('str')"
   ]
  },
  {
   "cell_type": "code",
   "execution_count": 465,
   "id": "b5841751",
   "metadata": {},
   "outputs": [],
   "source": [
    " d20_df['player'] = d20_df['player'].str.replace(r'Stoat', r'Aabria', regex=True).astype('str')"
   ]
  },
  {
   "cell_type": "code",
   "execution_count": 466,
   "id": "80d7d1a3",
   "metadata": {},
   "outputs": [],
   "source": [
    " d20_df['player'] = d20_df['player'].str.replace(r'Wenabocker', r'Aabria', regex=True).astype('str')"
   ]
  },
  {
   "cell_type": "code",
   "execution_count": 467,
   "id": "40ad9c53",
   "metadata": {},
   "outputs": [],
   "source": [
    " d20_df['player'] = d20_df['player'].str.replace(r'Dr. Steel', r'Aabria', regex=True).astype('str')"
   ]
  },
  {
   "cell_type": "code",
   "execution_count": 468,
   "id": "6cc373a4",
   "metadata": {},
   "outputs": [],
   "source": [
    " d20_df['player'] = d20_df['player'].str.replace(r'Director', r'Aabria', regex=True).astype('str')"
   ]
  },
  {
   "cell_type": "code",
   "execution_count": 469,
   "id": "238e9b73",
   "metadata": {},
   "outputs": [],
   "source": [
    " d20_df['player'] = d20_df['player'].str.replace(r'Sam', r'Danielle', regex=True).astype('str')"
   ]
  },
  {
   "cell_type": "code",
   "execution_count": 470,
   "id": "5f26b3f1",
   "metadata": {},
   "outputs": [],
   "source": [
    " d20_df['player'] = d20_df['player'].str.replace(r'Robed Woman', r'Aabria', regex=True).astype('str')"
   ]
  },
  {
   "cell_type": "code",
   "execution_count": 471,
   "id": "e919c536",
   "metadata": {},
   "outputs": [],
   "source": [
    " d20_df['player'] = d20_df['player'].str.replace(r'Freshman', r'Aabria', regex=True).astype('str')"
   ]
  },
  {
   "cell_type": "code",
   "execution_count": 472,
   "id": "23f04035",
   "metadata": {},
   "outputs": [],
   "source": [
    " d20_df['player'] = d20_df['player'].str.replace(r'Fire Elemental', r'Aabria', regex=True).astype('str')"
   ]
  },
  {
   "cell_type": "code",
   "execution_count": 473,
   "id": "ef8b93c2",
   "metadata": {},
   "outputs": [],
   "source": [
    " d20_df['player'] = d20_df['player'].str.replace(r'Professor', r'Aabria', regex=True).astype('str')"
   ]
  },
  {
   "cell_type": "code",
   "execution_count": 474,
   "id": "6c36dfe0",
   "metadata": {},
   "outputs": [],
   "source": [
    " d20_df['player'] = d20_df['player'].str.replace(r'Scuppers Player', r'Aabria', regex=True).astype('str')"
   ]
  },
  {
   "cell_type": "code",
   "execution_count": 475,
   "id": "46c7f3e1",
   "metadata": {},
   "outputs": [],
   "source": [
    " d20_df['player'] = d20_df['player'].str.replace(r'Tallulah', r'Aabria', regex=True).astype('str')"
   ]
  },
  {
   "cell_type": "code",
   "execution_count": 476,
   "id": "e65747ca",
   "metadata": {},
   "outputs": [],
   "source": [
    " d20_df['player'] = d20_df['player'].str.replace(r'SU Fan', r'Aabria', regex=True).astype('str')"
   ]
  },
  {
   "cell_type": "code",
   "execution_count": 477,
   "id": "78b77c98",
   "metadata": {},
   "outputs": [],
   "source": [
    " d20_df['player'] = d20_df['player'].str.replace(r'Dream\\’s Parents', r'Aabria', regex=True).astype('str')"
   ]
  },
  {
   "cell_type": "code",
   "execution_count": 478,
   "id": "6d37cac5",
   "metadata": {},
   "outputs": [],
   "source": [
    " d20_df['player'] = d20_df['player'].str.replace(r'Dream', r'Erika', regex=True).astype('str')"
   ]
  },
  {
   "cell_type": "code",
   "execution_count": 479,
   "id": "b00ac96b",
   "metadata": {},
   "outputs": [],
   "source": [
    " d20_df['player'] = d20_df['player'].str.replace(r'Digsby', r'Aabria', regex=True).astype('str')"
   ]
  },
  {
   "cell_type": "code",
   "execution_count": 480,
   "id": "6a62d034",
   "metadata": {},
   "outputs": [],
   "source": [
    " d20_df['player'] = d20_df['player'].str.replace(r'Q', r'Aabria', regex=True).astype('str')"
   ]
  },
  {
   "cell_type": "code",
   "execution_count": 481,
   "id": "84428b82",
   "metadata": {},
   "outputs": [],
   "source": [
    " d20_df['player'] = d20_df['player'].str.replace(r'Dragon', r'Aabria', regex=True).astype('str')"
   ]
  },
  {
   "cell_type": "code",
   "execution_count": 482,
   "id": "ff3c1a3a",
   "metadata": {},
   "outputs": [],
   "source": [
    " d20_df['player'] = d20_df['player'].str.replace(r'Chipmunk', r'Aabria', regex=True).astype('str')"
   ]
  },
  {
   "cell_type": "code",
   "execution_count": 483,
   "id": "33a6e8f2",
   "metadata": {},
   "outputs": [],
   "source": [
    " d20_df['player'] = d20_df['player'].str.replace(r'Voices', r'Aabria', regex=True).astype('str')"
   ]
  },
  {
   "cell_type": "code",
   "execution_count": 484,
   "id": "32c856c6",
   "metadata": {},
   "outputs": [],
   "source": [
    " d20_df['player'] = d20_df['player'].str.replace(r'Fourth Voice', r'Aabria', regex=True).astype('str')"
   ]
  },
  {
   "cell_type": "code",
   "execution_count": 485,
   "id": "2dfbac15",
   "metadata": {},
   "outputs": [],
   "source": [
    " d20_df['player'] = d20_df['player'].str.replace(r'Scary Voice', r'Aabria', regex=True).astype('str')"
   ]
  },
  {
   "cell_type": "code",
   "execution_count": 486,
   "id": "c3117d0e",
   "metadata": {},
   "outputs": [],
   "source": [
    " d20_df['player'] = d20_df['player'].str.replace(r'Voice', r'Aabria', regex=True).astype('str')"
   ]
  },
  {
   "cell_type": "code",
   "execution_count": 487,
   "id": "dcdcf77f",
   "metadata": {},
   "outputs": [],
   "source": [
    " d20_df['player'] = d20_df['player'].str.replace(r'Chimeron Student', r'Aabria', regex=True).astype('str')"
   ]
  },
  {
   "cell_type": "code",
   "execution_count": 488,
   "id": "9cbcb028",
   "metadata": {},
   "outputs": [],
   "source": [
    " d20_df['player'] = d20_df['player'].str.replace(r'Mila', r'Aabria', regex=True).astype('str')"
   ]
  },
  {
   "cell_type": "code",
   "execution_count": 489,
   "id": "fa4f1206",
   "metadata": {},
   "outputs": [],
   "source": [
    " d20_df['player'] = d20_df['player'].str.replace(r'Sybil', r'Aabria', regex=True).astype('str')"
   ]
  },
  {
   "cell_type": "code",
   "execution_count": 490,
   "id": "3b0312d8",
   "metadata": {},
   "outputs": [],
   "source": [
    " d20_df['player'] = d20_df['player'].str.replace(r'Bennett', r'Aabria', regex=True).astype('str')"
   ]
  },
  {
   "cell_type": "code",
   "execution_count": 491,
   "id": "c6a844cc",
   "metadata": {},
   "outputs": [],
   "source": [
    " d20_df['player'] = d20_df['player'].str.replace(r'Talia', r'Aabria', regex=True).astype('str')"
   ]
  },
  {
   "cell_type": "code",
   "execution_count": 492,
   "id": "8590c313",
   "metadata": {},
   "outputs": [],
   "source": [
    " d20_df['player'] = d20_df['player'].str.replace(r'Ellen', r'Aabria', regex=True).astype('str')"
   ]
  },
  {
   "cell_type": "code",
   "execution_count": 493,
   "id": "f0dd5ae2",
   "metadata": {},
   "outputs": [],
   "source": [
    " d20_df['player'] = d20_df['player'].str.replace(r'Woman', r'Aabria', regex=True).astype('str')"
   ]
  },
  {
   "cell_type": "code",
   "execution_count": 494,
   "id": "623851f8",
   "metadata": {},
   "outputs": [],
   "source": [
    " d20_df['player'] = d20_df['player'].str.replace(r'Danielle’s Opponent', r'Aabria', regex=True).astype('str')"
   ]
  },
  {
   "cell_type": "code",
   "execution_count": 495,
   "id": "b0c995f0",
   "metadata": {},
   "outputs": [],
   "source": [
    " d20_df['player'] = d20_df['player'].str.replace(r'Attendant', r'Aabria', regex=True).astype('str')"
   ]
  },
  {
   "cell_type": "code",
   "execution_count": 496,
   "id": "e75d52d1",
   "metadata": {},
   "outputs": [],
   "source": [
    " d20_df['player'] = d20_df['player'].str.replace(r'First-year', r'Aabria', regex=True).astype('str')"
   ]
  },
  {
   "cell_type": "code",
   "execution_count": 497,
   "id": "9984f012",
   "metadata": {},
   "outputs": [],
   "source": [
    " d20_df['player'] = d20_df['player'].str.replace(r'Nurse Stitchnit', r'Aabria', regex=True).astype('str')"
   ]
  },
  {
   "cell_type": "code",
   "execution_count": 498,
   "id": "196b8f5e",
   "metadata": {},
   "outputs": [],
   "source": [
    " d20_df['player'] = d20_df['player'].str.replace(r'Nurse', r'Aabria', regex=True).astype('str')"
   ]
  },
  {
   "cell_type": "code",
   "execution_count": 499,
   "id": "a2d1ab36",
   "metadata": {},
   "outputs": [],
   "source": [
    " d20_df['player'] = d20_df['player'].str.replace(r'Stitchnit', r'Aabria', regex=True).astype('str')"
   ]
  },
  {
   "cell_type": "code",
   "execution_count": 500,
   "id": "11317c32",
   "metadata": {},
   "outputs": [],
   "source": [
    " d20_df['player'] = d20_df['player'].str.replace(r'Passerby', r'Aabria', regex=True).astype('str')"
   ]
  },
  {
   "cell_type": "code",
   "execution_count": 501,
   "id": "da4b62eb",
   "metadata": {},
   "outputs": [],
   "source": [
    " d20_df['player'] = d20_df['player'].str.replace(r'Second Head', r'Aabria', regex=True).astype('str')"
   ]
  },
  {
   "cell_type": "code",
   "execution_count": 502,
   "id": "ddab02b3",
   "metadata": {},
   "outputs": [],
   "source": [
    " d20_df['player'] = d20_df['player'].str.replace(r'Kid', r'Aabria', regex=True).astype('str')"
   ]
  },
  {
   "cell_type": "code",
   "execution_count": 503,
   "id": "f618f970",
   "metadata": {},
   "outputs": [],
   "source": [
    " d20_df['player'] = d20_df['player'].str.replace(r'Owl', r'Aabria', regex=True).astype('str')"
   ]
  },
  {
   "cell_type": "code",
   "execution_count": 504,
   "id": "a48dcecd",
   "metadata": {},
   "outputs": [],
   "source": [
    " d20_df['player'] = d20_df['player'].str.replace(r'David', r'Aabria', regex=True).astype('str')"
   ]
  },
  {
   "cell_type": "code",
   "execution_count": 505,
   "id": "8fc8ca9b",
   "metadata": {},
   "outputs": [],
   "source": [
    " d20_df['player'] = d20_df['player'].str.replace(r'Tad', r'Aabria', regex=True).astype('str')"
   ]
  },
  {
   "cell_type": "code",
   "execution_count": 506,
   "id": "ba2c20f6",
   "metadata": {},
   "outputs": [],
   "source": [
    " d20_df['player'] = d20_df['player'].str.replace(r'Messanteu kid', r'Aabria', regex=True).astype('str')"
   ]
  },
  {
   "cell_type": "code",
   "execution_count": 507,
   "id": "99c7bdbc",
   "metadata": {},
   "outputs": [],
   "source": [
    " d20_df['player'] = d20_df['player'].str.replace(r'Oggles', r'Aabria', regex=True).astype('str')"
   ]
  },
  {
   "cell_type": "code",
   "execution_count": 508,
   "id": "2e5e8154",
   "metadata": {},
   "outputs": [],
   "source": [
    " d20_df['player'] = d20_df['player'].str.replace(r'Other Oggle', r'Aabria', regex=True).astype('str')"
   ]
  },
  {
   "cell_type": "code",
   "execution_count": 509,
   "id": "9aaf8364",
   "metadata": {},
   "outputs": [],
   "source": [
    " d20_df['player'] = d20_df['player'].str.replace(r'Oggle', r'Aabria', regex=True).astype('str')"
   ]
  },
  {
   "cell_type": "code",
   "execution_count": 510,
   "id": "57e5e47c",
   "metadata": {},
   "outputs": [],
   "source": [
    " d20_df['player'] = d20_df['player'].str.replace(r'Ponst Family', r'Aabria', regex=True).astype('str')"
   ]
  },
  {
   "cell_type": "code",
   "execution_count": 511,
   "id": "37f54579",
   "metadata": {},
   "outputs": [],
   "source": [
    " d20_df['player'] = d20_df['player'].str.replace(r'Peddleston', r'Aabria', regex=True).astype('str')"
   ]
  },
  {
   "cell_type": "code",
   "execution_count": 512,
   "id": "1cfab172",
   "metadata": {},
   "outputs": [],
   "source": [
    " d20_df['player'] = d20_df['player'].str.replace(r'Alexis', r'Aabria', regex=True).astype('str')"
   ]
  },
  {
   "cell_type": "code",
   "execution_count": 513,
   "id": "5bc302b1",
   "metadata": {},
   "outputs": [],
   "source": [
    " d20_df['player'] = d20_df['player'].str.replace(r'Rosemont student', r'Aabria', regex=True).astype('str')"
   ]
  },
  {
   "cell_type": "code",
   "execution_count": 514,
   "id": "7e05402c",
   "metadata": {},
   "outputs": [],
   "source": [
    " d20_df['player'] = d20_df['player'].str.replace(r'Model', r'Aabria', regex=True).astype('str')"
   ]
  },
  {
   "cell_type": "code",
   "execution_count": 515,
   "id": "9a32fd8c",
   "metadata": {},
   "outputs": [],
   "source": [
    " d20_df['player'] = d20_df['player'].str.replace(r'The Frunthwinkle', r'Aabria', regex=True).astype('str')"
   ]
  },
  {
   "cell_type": "code",
   "execution_count": 516,
   "id": "bb8844ea",
   "metadata": {},
   "outputs": [],
   "source": [
    " d20_df['player'] = d20_df['player'].str.replace(r'Frunthwinkle', r'Aabria', regex=True).astype('str')"
   ]
  },
  {
   "cell_type": "code",
   "execution_count": 517,
   "id": "b782db8b",
   "metadata": {},
   "outputs": [],
   "source": [
    " d20_df['player'] = d20_df['player'].str.replace(r'Old Dwarf', r'Aabria', regex=True).astype('str')"
   ]
  },
  {
   "cell_type": "code",
   "execution_count": 518,
   "id": "28e9e4c9",
   "metadata": {},
   "outputs": [],
   "source": [
    " d20_df['player'] = d20_df['player'].str.replace(r'Mice', r'Aabria', regex=True).astype('str')"
   ]
  },
  {
   "cell_type": "code",
   "execution_count": 519,
   "id": "0771790a",
   "metadata": {},
   "outputs": [],
   "source": [
    " d20_df['player'] = d20_df['player'].str.replace(r'Mouse', r'Aabria', regex=True).astype('str')"
   ]
  },
  {
   "cell_type": "code",
   "execution_count": 520,
   "id": "7449d0f1",
   "metadata": {},
   "outputs": [],
   "source": [
    " d20_df['player'] = d20_df['player'].str.replace(r'Maddy', r'Aabria', regex=True).astype('str')"
   ]
  },
  {
   "cell_type": "code",
   "execution_count": 521,
   "id": "9b8a130f",
   "metadata": {},
   "outputs": [],
   "source": [
    " d20_df['player'] = d20_df['player'].str.replace(r'Criggle', r'Aabria', regex=True).astype('str')"
   ]
  },
  {
   "cell_type": "code",
   "execution_count": 522,
   "id": "717a6a8d",
   "metadata": {},
   "outputs": [],
   "source": [
    " d20_df['player'] = d20_df['player'].str.replace(r'Penfrew', r'Aabria', regex=True).astype('str')"
   ]
  },
  {
   "cell_type": "code",
   "execution_count": 523,
   "id": "8a4ba5a7",
   "metadata": {},
   "outputs": [],
   "source": [
    " d20_df['player'] = d20_df['player'].str.replace(r'Axelby', r'Aabria', regex=True).astype('str')"
   ]
  },
  {
   "cell_type": "code",
   "execution_count": 524,
   "id": "15ea502c",
   "metadata": {},
   "outputs": [],
   "source": [
    " d20_df['player'] = d20_df['player'].str.replace(r'Mutton Chops', r'Aabria', regex=True).astype('str')"
   ]
  },
  {
   "cell_type": "code",
   "execution_count": 525,
   "id": "aae187ca",
   "metadata": {},
   "outputs": [],
   "source": [
    " d20_df['player'] = d20_df['player'].str.replace(r'Yorick', r'Aabria', regex=True).astype('str')"
   ]
  },
  {
   "cell_type": "code",
   "execution_count": 526,
   "id": "9e8c35d2",
   "metadata": {},
   "outputs": [],
   "source": [
    " d20_df['player'] = d20_df['player'].str.replace(r'Grasphlax', r'Aabria', regex=True).astype('str')"
   ]
  },
  {
   "cell_type": "code",
   "execution_count": 527,
   "id": "02078913",
   "metadata": {},
   "outputs": [],
   "source": [
    " d20_df['player'] = d20_df['player'].str.replace(r'Teddy', r'Aabria', regex=True).astype('str')"
   ]
  },
  {
   "cell_type": "code",
   "execution_count": 528,
   "id": "3a502c8f",
   "metadata": {},
   "outputs": [],
   "source": [
    " d20_df['player'] = d20_df['player'].str.replace(r'Khanh', r'Aabria', regex=True).astype('str')"
   ]
  },
  {
   "cell_type": "code",
   "execution_count": 529,
   "id": "d436435a",
   "metadata": {},
   "outputs": [],
   "source": [
    " d20_df['player'] = d20_df['player'].str.replace(r'Lemli', r'Aabria', regex=True).astype('str')"
   ]
  },
  {
   "cell_type": "code",
   "execution_count": 530,
   "id": "d15a4d9e",
   "metadata": {},
   "outputs": [],
   "source": [
    " d20_df['player'] = d20_df['player'].str.replace(r'Viniscus', r'Aabria', regex=True).astype('str')"
   ]
  },
  {
   "cell_type": "code",
   "execution_count": 531,
   "id": "223957f1",
   "metadata": {},
   "outputs": [],
   "source": [
    " d20_df['player'] = d20_df['player'].str.replace(r'Cauldron', r'Aabria', regex=True).astype('str')"
   ]
  },
  {
   "cell_type": "code",
   "execution_count": 532,
   "id": "c20bb4c5",
   "metadata": {},
   "outputs": [],
   "source": [
    " d20_df['player'] = d20_df['player'].str.replace(r'Boodle', r'Aabria', regex=True).astype('str')"
   ]
  },
  {
   "cell_type": "code",
   "execution_count": 533,
   "id": "fafbcb4d",
   "metadata": {},
   "outputs": [],
   "source": [
    " d20_df['player'] = d20_df['player'].str.replace(r'Simon', r'Aabria', regex=True).astype('str')"
   ]
  },
  {
   "cell_type": "code",
   "execution_count": 534,
   "id": "d513f982",
   "metadata": {},
   "outputs": [],
   "source": [
    " d20_df['player'] = d20_df['player'].str.replace(r'Chorus', r'Aabria', regex=True).astype('str')"
   ]
  },
  {
   "cell_type": "code",
   "execution_count": 535,
   "id": "ab2b2251",
   "metadata": {},
   "outputs": [],
   "source": [
    " d20_df['player'] = d20_df['player'].str.replace(r'Kiran', r'Aabria', regex=True).astype('str')"
   ]
  },
  {
   "cell_type": "code",
   "execution_count": 536,
   "id": "b102a153",
   "metadata": {},
   "outputs": [],
   "source": [
    " d20_df['player'] = d20_df['player'].str.replace(r'Carter', r'Aabria', regex=True).astype('str')"
   ]
  },
  {
   "cell_type": "code",
   "execution_count": 537,
   "id": "fab7e9e3",
   "metadata": {},
   "outputs": [],
   "source": [
    " d20_df['player'] = d20_df['player'].str.replace(r'Pep', r'Aabria', regex=True).astype('str')"
   ]
  },
  {
   "cell_type": "code",
   "execution_count": 538,
   "id": "31f38dd3",
   "metadata": {},
   "outputs": [],
   "source": [
    " d20_df['player'] = d20_df['player'].str.replace(r'Silence', r'Aabria', regex=True).astype('str')"
   ]
  },
  {
   "cell_type": "code",
   "execution_count": 539,
   "id": "ac501bf3",
   "metadata": {},
   "outputs": [],
   "source": [
    " d20_df['player'] = d20_df['player'].str.replace(r'Speaker', r'Aabria', regex=True).astype('str')"
   ]
  },
  {
   "cell_type": "code",
   "execution_count": 540,
   "id": "852c8a58",
   "metadata": {},
   "outputs": [],
   "source": [
    " d20_df['player'] = d20_df['player'].str.replace(r'Kiran', r'Aabria', regex=True).astype('str')"
   ]
  },
  {
   "cell_type": "code",
   "execution_count": 541,
   "id": "233135e5",
   "metadata": {},
   "outputs": [],
   "source": [
    " d20_df['player'] = d20_df['player'].str.replace(r'\\xa0\\xa0\\xa0\\xa0\\xa0\\xa0\\xa0\\xa0Aabria', r'Aabria', regex=True).astype('str')"
   ]
  },
  {
   "cell_type": "code",
   "execution_count": 542,
   "id": "e8d79376",
   "metadata": {},
   "outputs": [],
   "source": [
    " d20_df['player'] = d20_df['player'].str.replace(r'\\xa0\\xa0\\xa0\\xa0\\xa0\\xa0\\xa0\\xa0Emily', r'Emily', regex=True).astype('str')"
   ]
  },
  {
   "cell_type": "code",
   "execution_count": 543,
   "id": "6130339f",
   "metadata": {},
   "outputs": [],
   "source": [
    " d20_df['player'] = d20_df['player'].str.replace(r'\\xa0\\xa0\\xa0\\xa0\\xa0\\xa0\\xa0\\xa0Omar', r'Omar', regex=True).astype('str')"
   ]
  },
  {
   "cell_type": "code",
   "execution_count": 544,
   "id": "2ed5bf63",
   "metadata": {},
   "outputs": [],
   "source": [
    " d20_df['player'] = d20_df['player'].str.replace(r'\\xa0\\xa0\\xa0\\xa0\\xa0\\xa0\\xa0\\xa0Surena', r'Surena', regex=True).astype('str')"
   ]
  },
  {
   "cell_type": "code",
   "execution_count": 545,
   "id": "da0f140e",
   "metadata": {},
   "outputs": [],
   "source": [
    " d20_df['player'] = d20_df['player'].str.replace(r'\\xa0\\xa0\\xa0\\xa0\\xa0\\xa0\\xa0\\xa0Lou', r'Lou', regex=True).astype('str')"
   ]
  },
  {
   "cell_type": "code",
   "execution_count": 546,
   "id": "d193a1e3",
   "metadata": {},
   "outputs": [],
   "source": [
    " d20_df['player'] = d20_df['player'].str.replace(r'\\xa0\\xa0\\xa0\\xa0\\xa0\\xa0\\xa0\\xa0Brennan', r'Brennan', regex=True).astype('str')"
   ]
  },
  {
   "cell_type": "code",
   "execution_count": 547,
   "id": "27a1eee3",
   "metadata": {},
   "outputs": [],
   "source": [
    " d20_df['player'] = d20_df['player'].str.replace(r'\\xa0\\xa0\\xa0\\xa0\\xa0\\xa0\\xa0\\xa0Oscar', r'Oscar', regex=True).astype('str')"
   ]
  },
  {
   "cell_type": "code",
   "execution_count": 548,
   "id": "e6174e60",
   "metadata": {},
   "outputs": [],
   "source": [
    " d20_df['player'] = d20_df['player'].str.replace(r'\\xa0Aabria', r'Aabria', regex=True).astype('str')"
   ]
  },
  {
   "cell_type": "code",
   "execution_count": 549,
   "id": "e8b4cd8e",
   "metadata": {},
   "outputs": [],
   "source": [
    " d20_df['player'] = d20_df['player'].str.replace(r'\\xa0\\xa0\\xa0\\xa0\\xa0\\xa0\\xa0\\xa0Danielle', r'Danielle', regex=True).astype('str')"
   ]
  },
  {
   "cell_type": "code",
   "execution_count": 550,
   "id": "7af2287e",
   "metadata": {},
   "outputs": [],
   "source": [
    " d20_df['player'] = d20_df['player'].str.replace(r'\\xa0Rashawn', r'Rashawn', regex=True).astype('str')"
   ]
  },
  {
   "cell_type": "code",
   "execution_count": 551,
   "id": "7087cb0c",
   "metadata": {},
   "outputs": [],
   "source": [
    " d20_df['player'] = d20_df['player'].str.replace(r'Aabria\\xa0', r'Aabria', regex=True).astype('str')"
   ]
  },
  {
   "cell_type": "code",
   "execution_count": 552,
   "id": "aacfd912",
   "metadata": {},
   "outputs": [],
   "source": [
    " d20_df['player'] = d20_df['player'].str.replace(r'\\xa0Siobhan', r'Siobhan', regex=True).astype('str')"
   ]
  },
  {
   "cell_type": "code",
   "execution_count": 553,
   "id": "afae1a16",
   "metadata": {},
   "outputs": [],
   "source": [
    " d20_df['player'] = d20_df['player'].str.replace(r'Roger', r'Aabria', regex=True).astype('str')"
   ]
  },
  {
   "cell_type": "code",
   "execution_count": 554,
   "id": "35760cf4",
   "metadata": {},
   "outputs": [],
   "source": [
    " d20_df['player'] = d20_df['player'].str.replace(r'Janet', r'Aabria', regex=True).astype('str')"
   ]
  },
  {
   "cell_type": "code",
   "execution_count": 555,
   "id": "56430e98",
   "metadata": {},
   "outputs": [],
   "source": [
    " d20_df['player'] = d20_df['player'].str.replace(r'Maurice', r'Aabria', regex=True).astype('str')"
   ]
  },
  {
   "cell_type": "code",
   "execution_count": 556,
   "id": "93c724fb",
   "metadata": {},
   "outputs": [],
   "source": [
    " d20_df['player'] = d20_df['player'].str.replace(r'Philtrum', r'Aabria', regex=True).astype('str')"
   ]
  },
  {
   "cell_type": "code",
   "execution_count": 557,
   "id": "60f8f791",
   "metadata": {},
   "outputs": [],
   "source": [
    " d20_df['player'] = d20_df['player'].str.replace(r'Fergus', r'Aabria', regex=True).astype('str')"
   ]
  },
  {
   "cell_type": "code",
   "execution_count": 558,
   "id": "ac150443",
   "metadata": {},
   "outputs": [],
   "source": [
    " d20_df['player'] = d20_df['player'].str.replace(r'Freya', r'Aabria', regex=True).astype('str')"
   ]
  },
  {
   "cell_type": "code",
   "execution_count": 559,
   "id": "4ed1547d",
   "metadata": {},
   "outputs": [],
   "source": [
    " d20_df['player'] = d20_df['player'].str.replace(r'Coach', r'Aabria', regex=True).astype('str')"
   ]
  },
  {
   "cell_type": "code",
   "execution_count": 560,
   "id": "a979ce2e",
   "metadata": {},
   "outputs": [],
   "source": [
    " d20_df['player'] = d20_df['player'].str.replace(r'Student', r'Aabria', regex=True).astype('str')"
   ]
  },
  {
   "cell_type": "code",
   "execution_count": 561,
   "id": "ef670f58",
   "metadata": {},
   "outputs": [],
   "source": [
    " d20_df['player'] = d20_df['player'].str.replace(r'Children', r'Aabria', regex=True).astype('str')"
   ]
  },
  {
   "cell_type": "code",
   "execution_count": 562,
   "id": "4c0e3d44",
   "metadata": {},
   "outputs": [],
   "source": [
    " d20_df['player'] = d20_df['player'].str.replace(r'Child', r'Aabria', regex=True).astype('str')"
   ]
  },
  {
   "cell_type": "code",
   "execution_count": 563,
   "id": "acce1dee",
   "metadata": {},
   "outputs": [],
   "source": [
    " d20_df['player'] = d20_df['player'].str.replace(r'Coggle', r'Aabria', regex=True).astype('str')"
   ]
  },
  {
   "cell_type": "code",
   "execution_count": 564,
   "id": "db713a6b",
   "metadata": {},
   "outputs": [],
   "source": [
    " d20_df['player'] = d20_df['player'].str.replace(r'Hoggle', r'Aabria', regex=True).astype('str')"
   ]
  },
  {
   "cell_type": "code",
   "execution_count": 565,
   "id": "3c064f71",
   "metadata": {},
   "outputs": [],
   "source": [
    " d20_df['player'] = d20_df['player'].str.replace(r'Anamica', r'Aabria', regex=True).astype('str')"
   ]
  },
  {
   "cell_type": "code",
   "execution_count": 566,
   "id": "38f4cdc5",
   "metadata": {},
   "outputs": [],
   "source": [
    " d20_df['player'] = d20_df['player'].str.replace(r'Second-year', r'Aabria', regex=True).astype('str')"
   ]
  },
  {
   "cell_type": "code",
   "execution_count": 567,
   "id": "f034e011",
   "metadata": {},
   "outputs": [],
   "source": [
    " d20_df['player'] = d20_df['player'].str.replace(r'Peter', r'Aabria', regex=True).astype('str')"
   ]
  },
  {
   "cell_type": "code",
   "execution_count": 568,
   "id": "a6c94af6",
   "metadata": {},
   "outputs": [],
   "source": [
    " d20_df['player'] = d20_df['player'].str.replace(r'Lou\\xa0', r'Lou', regex=True).astype('str')"
   ]
  },
  {
   "cell_type": "code",
   "execution_count": 569,
   "id": "b7e5086a",
   "metadata": {},
   "outputs": [],
   "source": [
    "d20_df['player'] = d20_df['player'].str.replace(r'\\xa0Lou', r'Lou', regex=True).astype('str')"
   ]
  },
  {
   "cell_type": "code",
   "execution_count": 570,
   "id": "2664427c",
   "metadata": {},
   "outputs": [],
   "source": [
    "d20_df['player'] = d20_df['player'].str.replace(r'Lou& Emily', r'Lou & Emily', regex=True).astype('str')"
   ]
  },
  {
   "cell_type": "code",
   "execution_count": 571,
   "id": "5e3cff6d",
   "metadata": {},
   "outputs": [],
   "source": [
    " d20_df['player'] = d20_df['player'].str.replace(r'Aabria $', r'Aabria', regex=True).astype('str')"
   ]
  },
  {
   "cell_type": "code",
   "execution_count": 572,
   "id": "73ba5f36",
   "metadata": {},
   "outputs": [],
   "source": [
    " d20_df['player'] = d20_df['player'].str.replace(r'Erika $', r'Erika', regex=True).astype('str')"
   ]
  },
  {
   "cell_type": "code",
   "execution_count": 573,
   "id": "707e04fe",
   "metadata": {},
   "outputs": [],
   "source": [
    " d20_df['player'] = d20_df['player'].str.replace(r'Brennan $', r'Brennan', regex=True).astype('str')"
   ]
  },
  {
   "cell_type": "code",
   "execution_count": 574,
   "id": "96523eeb",
   "metadata": {},
   "outputs": [],
   "source": [
    " d20_df['player'] = d20_df['player'].str.replace(r'Everyone', r'All', regex=True).astype('str')"
   ]
  },
  {
   "cell_type": "markdown",
   "id": "806c92d7",
   "metadata": {},
   "source": [
    "And all of that work narrows down that big list of character names to a pretty reasonable handful of player names. Much more manageable AND a lot more useful. "
   ]
  },
  {
   "cell_type": "code",
   "execution_count": 575,
   "id": "201c02f0",
   "metadata": {},
   "outputs": [
    {
     "name": "stdout",
     "output_type": "stream",
     "text": [
      "['Aabria' 'All' 'Emily' 'Lou' 'Omar' 'Oscar' 'Brennan' 'Surena'\n",
      " 'Lou & Emily' 'Brennan & Lou' 'Lou & Oscar' 'Aabria & Oscar' 'Players'\n",
      " 'Emily & Lou' 'Lou & Brennan' 'Emily & Oscar' 'Ebony' 'Denise' 'Rick'\n",
      " 'Mario' 'Kevin' 'Oscar, Surena & Lou' 'Rashawn' 'Jasper' 'Siobhan' 'Izzy'\n",
      " 'Erika' 'Brennan & Jasper' 'Cast' 'Aabria & Jasper' 'Rashawn/Izzy'\n",
      " 'Jasper ' 'Izzy & Siobhan' 'Brennan & Siobhan' 'Siobhan & Izzy'\n",
      " 'Jasper & Erika' 'Siobhan & Jasper' 'Aabria & Siobhan' 'Crew member'\n",
      " 'Carlos' 'Molly' 'Group' 'Danielle' 'Both' 'Danielle & Lou'\n",
      " 'Aabria & Brennan' 'Lou & Danielle' 'Danielle & Erika'\n",
      " 'Aabria & Danielle' 'Someone behind the camera' 'Orion' 'Paula' 'Todd']\n"
     ]
    }
   ],
   "source": [
    "print(d20_df['player'].unique())"
   ]
  },
  {
   "cell_type": "code",
   "execution_count": 576,
   "id": "3fc854f8",
   "metadata": {},
   "outputs": [
    {
     "data": {
      "text/plain": [
       "Aabria                       27029\n",
       "Brennan                      12211\n",
       "Lou                           6723\n",
       "Erika                         4814\n",
       "Emily                         3604\n",
       "Jasper                        3386\n",
       "Oscar                         3108\n",
       "Omar                          2848\n",
       "Rashawn                       2367\n",
       "Siobhan                       2357\n",
       "Surena                        2318\n",
       "Izzy                          2295\n",
       "Danielle                      1512\n",
       "Kevin                          283\n",
       "Orion                          282\n",
       "Denise                         164\n",
       "Todd                           124\n",
       "Ebony                          108\n",
       "Rick                           107\n",
       "All                            102\n",
       "Paula                           97\n",
       "Mario                           75\n",
       "Lou & Brennan                    6\n",
       "Carlos                           6\n",
       "Lou & Emily                      5\n",
       "Jasper & Erika                   5\n",
       "Players                          5\n",
       "Cast                             4\n",
       "Brennan & Lou                    4\n",
       "Aabria & Siobhan                 3\n",
       "Rashawn/Izzy                     3\n",
       "Both                             3\n",
       "Group                            3\n",
       "Someone behind the camera        2\n",
       "Aabria & Brennan                 2\n",
       "Danielle & Lou                   2\n",
       "Emily & Lou                      2\n",
       "Siobhan & Izzy                   2\n",
       "Izzy & Siobhan                   2\n",
       "Jasper                           2\n",
       "Aabria & Jasper                  2\n",
       "Siobhan & Jasper                 1\n",
       "Crew member                      1\n",
       "Brennan & Jasper                 1\n",
       "Molly                            1\n",
       "Brennan & Siobhan                1\n",
       "Lou & Danielle                   1\n",
       "Danielle & Erika                 1\n",
       "Aabria & Danielle                1\n",
       "Lou & Oscar                      1\n",
       "Oscar, Surena & Lou              1\n",
       "Emily & Oscar                    1\n",
       "Aabria & Oscar                   1\n",
       "Name: player, dtype: int64"
      ]
     },
     "execution_count": 576,
     "metadata": {},
     "output_type": "execute_result"
    }
   ],
   "source": [
    "d20_df['player'].value_counts() #these new totals look good too!"
   ]
  },
  {
   "cell_type": "markdown",
   "id": "9f450b36",
   "metadata": {},
   "source": [
    "Let's confirm now that we don't have any more speech lines that have Name: left as an element of the line\n",
    "\n",
    "And take a look at that player column! Looks great :)"
   ]
  },
  {
   "cell_type": "code",
   "execution_count": 577,
   "id": "4992aecc",
   "metadata": {},
   "outputs": [
    {
     "data": {
      "text/html": [
       "<div>\n",
       "<style scoped>\n",
       "    .dataframe tbody tr th:only-of-type {\n",
       "        vertical-align: middle;\n",
       "    }\n",
       "\n",
       "    .dataframe tbody tr th {\n",
       "        vertical-align: top;\n",
       "    }\n",
       "\n",
       "    .dataframe thead th {\n",
       "        text-align: right;\n",
       "    }\n",
       "</style>\n",
       "<table border=\"1\" class=\"dataframe\">\n",
       "  <thead>\n",
       "    <tr style=\"text-align: right;\">\n",
       "      <th></th>\n",
       "      <th>index</th>\n",
       "      <th>variable</th>\n",
       "      <th>episode</th>\n",
       "      <th>season</th>\n",
       "      <th>nonspeech</th>\n",
       "      <th>inaudible_speech</th>\n",
       "      <th>name</th>\n",
       "      <th>player</th>\n",
       "    </tr>\n",
       "  </thead>\n",
       "  <tbody>\n",
       "    <tr>\n",
       "      <th>2561</th>\n",
       "      <td>1270</td>\n",
       "      <td>Cousin, this is 3:00 A.M. behavior!</td>\n",
       "      <td>1</td>\n",
       "      <td>ACOFF</td>\n",
       "      <td></td>\n",
       "      <td></td>\n",
       "      <td>Chirp</td>\n",
       "      <td>Emily</td>\n",
       "    </tr>\n",
       "    <tr>\n",
       "      <th>3203</th>\n",
       "      <td>30</td>\n",
       "      <td>two, and it's time to begin, so let's begin wi...</td>\n",
       "      <td>2</td>\n",
       "      <td>ACOFF</td>\n",
       "      <td></td>\n",
       "      <td></td>\n",
       "      <td>Aabria</td>\n",
       "      <td>Aabria</td>\n",
       "    </tr>\n",
       "    <tr>\n",
       "      <th>4190</th>\n",
       "      <td>1017</td>\n",
       "      <td>is set to begin at 11:00 AM.</td>\n",
       "      <td>2</td>\n",
       "      <td>ACOFF</td>\n",
       "      <td></td>\n",
       "      <td></td>\n",
       "      <td>Aabria</td>\n",
       "      <td>Aabria</td>\n",
       "    </tr>\n",
       "    <tr>\n",
       "      <th>5219</th>\n",
       "      <td>2046</td>\n",
       "      <td>And as you begin to talk, it was 11:00 AM for...</td>\n",
       "      <td>2</td>\n",
       "      <td>ACOFF</td>\n",
       "      <td></td>\n",
       "      <td></td>\n",
       "      <td>Aabria</td>\n",
       "      <td>Aabria</td>\n",
       "    </tr>\n",
       "    <tr>\n",
       "      <th>26050</th>\n",
       "      <td>153</td>\n",
       "      <td>And not like a rerun on Comedy Central at 11:...</td>\n",
       "      <td>3</td>\n",
       "      <td>ACOFF AP</td>\n",
       "      <td></td>\n",
       "      <td></td>\n",
       "      <td>Lou</td>\n",
       "      <td>Lou</td>\n",
       "    </tr>\n",
       "    <tr>\n",
       "      <th>32526</th>\n",
       "      <td>412</td>\n",
       "      <td>up little flashes, and then you hear your moth...</td>\n",
       "      <td>1</td>\n",
       "      <td>Burrow's End</td>\n",
       "      <td></td>\n",
       "      <td></td>\n",
       "      <td>Aabria</td>\n",
       "      <td>Aabria</td>\n",
       "    </tr>\n",
       "    <tr>\n",
       "      <th>32532</th>\n",
       "      <td>418</td>\n",
       "      <td>You edge a little closer, and you hear:</td>\n",
       "      <td>1</td>\n",
       "      <td>Burrow's End</td>\n",
       "      <td></td>\n",
       "      <td></td>\n",
       "      <td>Aabria</td>\n",
       "      <td>Aabria</td>\n",
       "    </tr>\n",
       "    <tr>\n",
       "      <th>32697</th>\n",
       "      <td>583</td>\n",
       "      <td>Let me be very clear: there's not clothes!</td>\n",
       "      <td>1</td>\n",
       "      <td>Burrow's End</td>\n",
       "      <td>[to camera]</td>\n",
       "      <td></td>\n",
       "      <td>Aabria</td>\n",
       "      <td>Aabria</td>\n",
       "    </tr>\n",
       "    <tr>\n",
       "      <th>33805</th>\n",
       "      <td>1691</td>\n",
       "      <td>tunnels. But the fun fact about the warren tha...</td>\n",
       "      <td>1</td>\n",
       "      <td>Burrow's End</td>\n",
       "      <td></td>\n",
       "      <td></td>\n",
       "      <td>Aabria</td>\n",
       "      <td>Aabria</td>\n",
       "    </tr>\n",
       "    <tr>\n",
       "      <th>35742</th>\n",
       "      <td>1524</td>\n",
       "      <td>It's 6:30.</td>\n",
       "      <td>2</td>\n",
       "      <td>Burrow's End</td>\n",
       "      <td></td>\n",
       "      <td></td>\n",
       "      <td>Izzy</td>\n",
       "      <td>Izzy</td>\n",
       "    </tr>\n",
       "    <tr>\n",
       "      <th>36829</th>\n",
       "      <td>14</td>\n",
       "      <td>Hello and welcome back to Dimension 20: Burro...</td>\n",
       "      <td>3</td>\n",
       "      <td>Burrow's End</td>\n",
       "      <td></td>\n",
       "      <td></td>\n",
       "      <td>Aabria</td>\n",
       "      <td>Aabria</td>\n",
       "    </tr>\n",
       "    <tr>\n",
       "      <th>38911</th>\n",
       "      <td>2096</td>\n",
       "      <td>Could I make a small pitch? My small pitch is...</td>\n",
       "      <td>3</td>\n",
       "      <td>Burrow's End</td>\n",
       "      <td></td>\n",
       "      <td></td>\n",
       "      <td>Thorn</td>\n",
       "      <td>Jasper</td>\n",
       "    </tr>\n",
       "    <tr>\n",
       "      <th>41394</th>\n",
       "      <td>17</td>\n",
       "      <td>Hello and welcome to Dimension 20: Burrow's E...</td>\n",
       "      <td>5</td>\n",
       "      <td>Burrow's End</td>\n",
       "      <td></td>\n",
       "      <td></td>\n",
       "      <td>Aabria</td>\n",
       "      <td>Aabria</td>\n",
       "    </tr>\n",
       "    <tr>\n",
       "      <th>44078</th>\n",
       "      <td>2701</td>\n",
       "      <td>minutes. I just gotta log it. The time is curr...</td>\n",
       "      <td>5</td>\n",
       "      <td>Burrow's End</td>\n",
       "      <td></td>\n",
       "      <td></td>\n",
       "      <td>Wenabocker</td>\n",
       "      <td>Aabria</td>\n",
       "    </tr>\n",
       "    <tr>\n",
       "      <th>44079</th>\n",
       "      <td>2702</td>\n",
       "      <td>approximately  5:17 today, this facility regis...</td>\n",
       "      <td>5</td>\n",
       "      <td>Burrow's End</td>\n",
       "      <td>[paper rustling]</td>\n",
       "      <td></td>\n",
       "      <td>Wenabocker</td>\n",
       "      <td>Aabria</td>\n",
       "    </tr>\n",
       "    <tr>\n",
       "      <th>44080</th>\n",
       "      <td>2703</td>\n",
       "      <td>loss of coolant accident in reactor Charlie. A...</td>\n",
       "      <td>5</td>\n",
       "      <td>Burrow's End</td>\n",
       "      <td></td>\n",
       "      <td></td>\n",
       "      <td>Wenabocker</td>\n",
       "      <td>Aabria</td>\n",
       "    </tr>\n",
       "    <tr>\n",
       "      <th>44402</th>\n",
       "      <td>15</td>\n",
       "      <td>Hello, and welcome to \"Dimension 20: Burrow's...</td>\n",
       "      <td>6</td>\n",
       "      <td>Burrow's End</td>\n",
       "      <td></td>\n",
       "      <td></td>\n",
       "      <td>Aabria</td>\n",
       "      <td>Aabria</td>\n",
       "    </tr>\n",
       "    <tr>\n",
       "      <th>47785</th>\n",
       "      <td>15</td>\n",
       "      <td>Hello and welcome back to Dimension 20: Burro...</td>\n",
       "      <td>7</td>\n",
       "      <td>Burrow's End</td>\n",
       "      <td></td>\n",
       "      <td></td>\n",
       "      <td>Aabria</td>\n",
       "      <td>Aabria</td>\n",
       "    </tr>\n",
       "    <tr>\n",
       "      <th>49640</th>\n",
       "      <td>15</td>\n",
       "      <td>Hello and welcome to Dimension 20: Burrow's E...</td>\n",
       "      <td>8</td>\n",
       "      <td>Burrow's End</td>\n",
       "      <td></td>\n",
       "      <td></td>\n",
       "      <td>Aabria</td>\n",
       "      <td>Aabria</td>\n",
       "    </tr>\n",
       "    <tr>\n",
       "      <th>51255</th>\n",
       "      <td>1630</td>\n",
       "      <td>five minutes. I just got to log it. The time i...</td>\n",
       "      <td>8</td>\n",
       "      <td>Burrow's End</td>\n",
       "      <td></td>\n",
       "      <td></td>\n",
       "      <td>Wenabocker</td>\n",
       "      <td>Aabria</td>\n",
       "    </tr>\n",
       "    <tr>\n",
       "      <th>51256</th>\n",
       "      <td>1631</td>\n",
       "      <td>approximately 5:17 today, this facility regist...</td>\n",
       "      <td>8</td>\n",
       "      <td>Burrow's End</td>\n",
       "      <td></td>\n",
       "      <td></td>\n",
       "      <td>Wenabocker</td>\n",
       "      <td>Aabria</td>\n",
       "    </tr>\n",
       "    <tr>\n",
       "      <th>51526</th>\n",
       "      <td>14</td>\n",
       "      <td>Hello and welcome to Dimension 20: Burrow's E...</td>\n",
       "      <td>9</td>\n",
       "      <td>Burrow's End</td>\n",
       "      <td></td>\n",
       "      <td></td>\n",
       "      <td>Aabria</td>\n",
       "      <td>Aabria</td>\n",
       "    </tr>\n",
       "    <tr>\n",
       "      <th>58907</th>\n",
       "      <td>1879</td>\n",
       "      <td>about 11:00 a.m. here, something like that?</td>\n",
       "      <td>1</td>\n",
       "      <td>Misfits and Magic</td>\n",
       "      <td></td>\n",
       "      <td></td>\n",
       "      <td>Evan</td>\n",
       "      <td>Brennan</td>\n",
       "    </tr>\n",
       "    <tr>\n",
       "      <th>60185</th>\n",
       "      <td>275</td>\n",
       "      <td>field of hunter green: the house of, some thos...</td>\n",
       "      <td>2</td>\n",
       "      <td>Misfits and Magic</td>\n",
       "      <td></td>\n",
       "      <td></td>\n",
       "      <td>Philtrum</td>\n",
       "      <td>Aabria</td>\n",
       "    </tr>\n",
       "    <tr>\n",
       "      <th>69369</th>\n",
       "      <td>1009</td>\n",
       "      <td>it: this massive 50 meter wide circle of mound...</td>\n",
       "      <td>5</td>\n",
       "      <td>Misfits and Magic</td>\n",
       "      <td></td>\n",
       "      <td></td>\n",
       "      <td>Aabria</td>\n",
       "      <td>Aabria</td>\n",
       "    </tr>\n",
       "    <tr>\n",
       "      <th>70221</th>\n",
       "      <td>1861</td>\n",
       "      <td>I know, he's supposed to go home. Alright, tw...</td>\n",
       "      <td>5</td>\n",
       "      <td>Misfits and Magic</td>\n",
       "      <td></td>\n",
       "      <td></td>\n",
       "      <td>Evan</td>\n",
       "      <td>Brennan</td>\n",
       "    </tr>\n",
       "  </tbody>\n",
       "</table>\n",
       "</div>"
      ],
      "text/plain": [
       "       index                                           variable episode  \\\n",
       "2561    1270                Cousin, this is 3:00 A.M. behavior!       1   \n",
       "3203      30  two, and it's time to begin, so let's begin wi...       2   \n",
       "4190    1017                       is set to begin at 11:00 AM.       2   \n",
       "5219    2046   And as you begin to talk, it was 11:00 AM for...       2   \n",
       "26050    153   And not like a rerun on Comedy Central at 11:...       3   \n",
       "32526    412  up little flashes, and then you hear your moth...       1   \n",
       "32532    418            You edge a little closer, and you hear:       1   \n",
       "32697    583         Let me be very clear: there's not clothes!       1   \n",
       "33805   1691  tunnels. But the fun fact about the warren tha...       1   \n",
       "35742   1524                                         It's 6:30.       2   \n",
       "36829     14   Hello and welcome back to Dimension 20: Burro...       3   \n",
       "38911   2096   Could I make a small pitch? My small pitch is...       3   \n",
       "41394     17   Hello and welcome to Dimension 20: Burrow's E...       5   \n",
       "44078   2701  minutes. I just gotta log it. The time is curr...       5   \n",
       "44079   2702  approximately  5:17 today, this facility regis...       5   \n",
       "44080   2703  loss of coolant accident in reactor Charlie. A...       5   \n",
       "44402     15   Hello, and welcome to \"Dimension 20: Burrow's...       6   \n",
       "47785     15   Hello and welcome back to Dimension 20: Burro...       7   \n",
       "49640     15   Hello and welcome to Dimension 20: Burrow's E...       8   \n",
       "51255   1630  five minutes. I just got to log it. The time i...       8   \n",
       "51256   1631  approximately 5:17 today, this facility regist...       8   \n",
       "51526     14   Hello and welcome to Dimension 20: Burrow's E...       9   \n",
       "58907   1879        about 11:00 a.m. here, something like that?       1   \n",
       "60185    275  field of hunter green: the house of, some thos...       2   \n",
       "69369   1009  it: this massive 50 meter wide circle of mound...       5   \n",
       "70221   1861   I know, he's supposed to go home. Alright, tw...       5   \n",
       "\n",
       "                  season         nonspeech inaudible_speech           name  \\\n",
       "2561               ACOFF                                             Chirp   \n",
       "3203               ACOFF                                            Aabria   \n",
       "4190               ACOFF                                            Aabria   \n",
       "5219               ACOFF                                            Aabria   \n",
       "26050           ACOFF AP                                               Lou   \n",
       "32526       Burrow's End                                            Aabria   \n",
       "32532       Burrow's End                                            Aabria   \n",
       "32697       Burrow's End       [to camera]                          Aabria   \n",
       "33805       Burrow's End                                            Aabria   \n",
       "35742       Burrow's End                                              Izzy   \n",
       "36829       Burrow's End                                            Aabria   \n",
       "38911       Burrow's End                                             Thorn   \n",
       "41394       Burrow's End                                            Aabria   \n",
       "44078       Burrow's End                                        Wenabocker   \n",
       "44079       Burrow's End  [paper rustling]                      Wenabocker   \n",
       "44080       Burrow's End                                        Wenabocker   \n",
       "44402       Burrow's End                                            Aabria   \n",
       "47785       Burrow's End                                            Aabria   \n",
       "49640       Burrow's End                                            Aabria   \n",
       "51255       Burrow's End                                        Wenabocker   \n",
       "51256       Burrow's End                                        Wenabocker   \n",
       "51526       Burrow's End                                            Aabria   \n",
       "58907  Misfits and Magic                                              Evan   \n",
       "60185  Misfits and Magic                                          Philtrum   \n",
       "69369  Misfits and Magic                                            Aabria   \n",
       "70221  Misfits and Magic                                              Evan   \n",
       "\n",
       "        player  \n",
       "2561     Emily  \n",
       "3203    Aabria  \n",
       "4190    Aabria  \n",
       "5219    Aabria  \n",
       "26050      Lou  \n",
       "32526   Aabria  \n",
       "32532   Aabria  \n",
       "32697   Aabria  \n",
       "33805   Aabria  \n",
       "35742     Izzy  \n",
       "36829   Aabria  \n",
       "38911   Jasper  \n",
       "41394   Aabria  \n",
       "44078   Aabria  \n",
       "44079   Aabria  \n",
       "44080   Aabria  \n",
       "44402   Aabria  \n",
       "47785   Aabria  \n",
       "49640   Aabria  \n",
       "51255   Aabria  \n",
       "51256   Aabria  \n",
       "51526   Aabria  \n",
       "58907  Brennan  \n",
       "60185   Aabria  \n",
       "69369   Aabria  \n",
       "70221  Brennan  "
      ]
     },
     "execution_count": 577,
     "metadata": {},
     "output_type": "execute_result"
    }
   ],
   "source": [
    "d20_df[d20_df['variable'].str.contains(':')]"
   ]
  },
  {
   "cell_type": "code",
   "execution_count": null,
   "id": "1911c351",
   "metadata": {},
   "outputs": [],
   "source": []
  },
  {
   "cell_type": "markdown",
   "id": "e918b35b",
   "metadata": {},
   "source": [
    "### Clean up some non-speech lines\n",
    "\n",
    "There are some instances of lines that are descriptions of what is happening on the screen, in the room, or movement of the players. Since it's not speech or verbal information at all, I want to just ditch it. There isn't a simple way to search for all of these and be 100% sure I've captured every single one, but I'm going to do my best to find what I can. On the website, these texts are italicized. That information doesn't exist in this form of the data, but can be helpful in searching the public site for key phrases to look for, match up with, and eliminate."
   ]
  },
  {
   "cell_type": "code",
   "execution_count": 578,
   "id": "df7be0bc",
   "metadata": {},
   "outputs": [
    {
     "data": {
      "text/html": [
       "<div>\n",
       "<style scoped>\n",
       "    .dataframe tbody tr th:only-of-type {\n",
       "        vertical-align: middle;\n",
       "    }\n",
       "\n",
       "    .dataframe tbody tr th {\n",
       "        vertical-align: top;\n",
       "    }\n",
       "\n",
       "    .dataframe thead th {\n",
       "        text-align: right;\n",
       "    }\n",
       "</style>\n",
       "<table border=\"1\" class=\"dataframe\">\n",
       "  <thead>\n",
       "    <tr style=\"text-align: right;\">\n",
       "      <th></th>\n",
       "      <th>index</th>\n",
       "      <th>variable</th>\n",
       "      <th>episode</th>\n",
       "      <th>season</th>\n",
       "      <th>nonspeech</th>\n",
       "      <th>inaudible_speech</th>\n",
       "      <th>name</th>\n",
       "      <th>player</th>\n",
       "    </tr>\n",
       "  </thead>\n",
       "  <tbody>\n",
       "    <tr>\n",
       "      <th>41423</th>\n",
       "      <td>46</td>\n",
       "      <td>The Dome darkens, revealing paper cutouts of f...</td>\n",
       "      <td>5</td>\n",
       "      <td>Burrow's End</td>\n",
       "      <td></td>\n",
       "      <td></td>\n",
       "      <td>Brennan</td>\n",
       "      <td>Brennan</td>\n",
       "    </tr>\n",
       "    <tr>\n",
       "      <th>44072</th>\n",
       "      <td>2695</td>\n",
       "      <td>The Dome’s background changes to show a paper ...</td>\n",
       "      <td>5</td>\n",
       "      <td>Burrow's End</td>\n",
       "      <td></td>\n",
       "      <td></td>\n",
       "      <td>Sybil</td>\n",
       "      <td>Aabria</td>\n",
       "    </tr>\n",
       "  </tbody>\n",
       "</table>\n",
       "</div>"
      ],
      "text/plain": [
       "       index                                           variable episode  \\\n",
       "41423     46  The Dome darkens, revealing paper cutouts of f...       5   \n",
       "44072   2695  The Dome’s background changes to show a paper ...       5   \n",
       "\n",
       "             season nonspeech inaudible_speech     name   player  \n",
       "41423  Burrow's End                             Brennan  Brennan  \n",
       "44072  Burrow's End                               Sybil   Aabria  "
      ]
     },
     "execution_count": 578,
     "metadata": {},
     "output_type": "execute_result"
    }
   ],
   "source": [
    "d20_df[d20_df['variable'].str.contains('The Dome')] #\"the dome\" is the name of the room they record in"
   ]
  },
  {
   "cell_type": "code",
   "execution_count": 579,
   "id": "7e230b15",
   "metadata": {},
   "outputs": [
    {
     "data": {
      "text/html": [
       "<div>\n",
       "<style scoped>\n",
       "    .dataframe tbody tr th:only-of-type {\n",
       "        vertical-align: middle;\n",
       "    }\n",
       "\n",
       "    .dataframe tbody tr th {\n",
       "        vertical-align: top;\n",
       "    }\n",
       "\n",
       "    .dataframe thead th {\n",
       "        text-align: right;\n",
       "    }\n",
       "</style>\n",
       "<table border=\"1\" class=\"dataframe\">\n",
       "  <thead>\n",
       "    <tr style=\"text-align: right;\">\n",
       "      <th></th>\n",
       "      <th>index</th>\n",
       "      <th>variable</th>\n",
       "      <th>episode</th>\n",
       "      <th>season</th>\n",
       "      <th>nonspeech</th>\n",
       "      <th>inaudible_speech</th>\n",
       "      <th>name</th>\n",
       "      <th>player</th>\n",
       "    </tr>\n",
       "  </thead>\n",
       "  <tbody>\n",
       "    <tr>\n",
       "      <th>13899</th>\n",
       "      <td>725</td>\n",
       "      <td>silhouetted by a bunch of goblins just having ...</td>\n",
       "      <td>6</td>\n",
       "      <td>ACOFF</td>\n",
       "      <td></td>\n",
       "      <td></td>\n",
       "      <td>Aabria</td>\n",
       "      <td>Aabria</td>\n",
       "    </tr>\n",
       "    <tr>\n",
       "      <th>22742</th>\n",
       "      <td>1842</td>\n",
       "      <td>and you see, off behind a pillar, the silhouet...</td>\n",
       "      <td>9</td>\n",
       "      <td>ACOFF</td>\n",
       "      <td></td>\n",
       "      <td></td>\n",
       "      <td>Aabria</td>\n",
       "      <td>Aabria</td>\n",
       "    </tr>\n",
       "    <tr>\n",
       "      <th>41437</th>\n",
       "      <td>60</td>\n",
       "      <td>A silhouette of Last Bast appears, its door op...</td>\n",
       "      <td>5</td>\n",
       "      <td>Burrow's End</td>\n",
       "      <td></td>\n",
       "      <td></td>\n",
       "      <td>Aabria</td>\n",
       "      <td>Aabria</td>\n",
       "    </tr>\n",
       "  </tbody>\n",
       "</table>\n",
       "</div>"
      ],
      "text/plain": [
       "       index                                           variable episode  \\\n",
       "13899    725  silhouetted by a bunch of goblins just having ...       6   \n",
       "22742   1842  and you see, off behind a pillar, the silhouet...       9   \n",
       "41437     60  A silhouette of Last Bast appears, its door op...       5   \n",
       "\n",
       "             season nonspeech inaudible_speech    name  player  \n",
       "13899         ACOFF                             Aabria  Aabria  \n",
       "22742         ACOFF                             Aabria  Aabria  \n",
       "41437  Burrow's End                             Aabria  Aabria  "
      ]
     },
     "execution_count": 579,
     "metadata": {},
     "output_type": "execute_result"
    }
   ],
   "source": [
    "d20_df[d20_df['variable'].str.contains('silhouette')]"
   ]
  },
  {
   "cell_type": "code",
   "execution_count": 580,
   "id": "f81b6c68",
   "metadata": {},
   "outputs": [
    {
     "data": {
      "text/html": [
       "<div>\n",
       "<style scoped>\n",
       "    .dataframe tbody tr th:only-of-type {\n",
       "        vertical-align: middle;\n",
       "    }\n",
       "\n",
       "    .dataframe tbody tr th {\n",
       "        vertical-align: top;\n",
       "    }\n",
       "\n",
       "    .dataframe thead th {\n",
       "        text-align: right;\n",
       "    }\n",
       "</style>\n",
       "<table border=\"1\" class=\"dataframe\">\n",
       "  <thead>\n",
       "    <tr style=\"text-align: right;\">\n",
       "      <th></th>\n",
       "      <th>index</th>\n",
       "      <th>variable</th>\n",
       "      <th>episode</th>\n",
       "      <th>season</th>\n",
       "      <th>nonspeech</th>\n",
       "      <th>inaudible_speech</th>\n",
       "      <th>name</th>\n",
       "      <th>player</th>\n",
       "    </tr>\n",
       "  </thead>\n",
       "  <tbody>\n",
       "    <tr>\n",
       "      <th>22239</th>\n",
       "      <td>1339</td>\n",
       "      <td>we probably went to sit with Suntar and Apollo...</td>\n",
       "      <td>9</td>\n",
       "      <td>ACOFF</td>\n",
       "      <td></td>\n",
       "      <td></td>\n",
       "      <td>Lou</td>\n",
       "      <td>Lou</td>\n",
       "    </tr>\n",
       "    <tr>\n",
       "      <th>41576</th>\n",
       "      <td>199</td>\n",
       "      <td>Izzy and Brennan trade winks across the table.</td>\n",
       "      <td>5</td>\n",
       "      <td>Burrow's End</td>\n",
       "      <td></td>\n",
       "      <td></td>\n",
       "      <td>Tula</td>\n",
       "      <td>Brennan</td>\n",
       "    </tr>\n",
       "    <tr>\n",
       "      <th>46296</th>\n",
       "      <td>1909</td>\n",
       "      <td>Brennan winks at Rashawn.</td>\n",
       "      <td>6</td>\n",
       "      <td>Burrow's End</td>\n",
       "      <td></td>\n",
       "      <td></td>\n",
       "      <td>Sybil</td>\n",
       "      <td>Aabria</td>\n",
       "    </tr>\n",
       "    <tr>\n",
       "      <th>64694</th>\n",
       "      <td>2135</td>\n",
       "      <td>Fergus is craning his neck to catch Sam’s eye....</td>\n",
       "      <td>3</td>\n",
       "      <td>Misfits and Magic</td>\n",
       "      <td></td>\n",
       "      <td></td>\n",
       "      <td>Aabria</td>\n",
       "      <td>Aabria</td>\n",
       "    </tr>\n",
       "  </tbody>\n",
       "</table>\n",
       "</div>"
      ],
      "text/plain": [
       "       index                                           variable episode  \\\n",
       "22239   1339  we probably went to sit with Suntar and Apollo...       9   \n",
       "41576    199     Izzy and Brennan trade winks across the table.       5   \n",
       "46296   1909                          Brennan winks at Rashawn.       6   \n",
       "64694   2135  Fergus is craning his neck to catch Sam’s eye....       3   \n",
       "\n",
       "                  season nonspeech inaudible_speech    name   player  \n",
       "22239              ACOFF                                Lou      Lou  \n",
       "41576       Burrow's End                               Tula  Brennan  \n",
       "46296       Burrow's End                              Sybil   Aabria  \n",
       "64694  Misfits and Magic                             Aabria   Aabria  "
      ]
     },
     "execution_count": 580,
     "metadata": {},
     "output_type": "execute_result"
    }
   ],
   "source": [
    "d20_df[d20_df['variable'].str.contains('winks')]"
   ]
  },
  {
   "cell_type": "code",
   "execution_count": 581,
   "id": "91a55a3d",
   "metadata": {},
   "outputs": [
    {
     "data": {
      "text/html": [
       "<div>\n",
       "<style scoped>\n",
       "    .dataframe tbody tr th:only-of-type {\n",
       "        vertical-align: middle;\n",
       "    }\n",
       "\n",
       "    .dataframe tbody tr th {\n",
       "        vertical-align: top;\n",
       "    }\n",
       "\n",
       "    .dataframe thead th {\n",
       "        text-align: right;\n",
       "    }\n",
       "</style>\n",
       "<table border=\"1\" class=\"dataframe\">\n",
       "  <thead>\n",
       "    <tr style=\"text-align: right;\">\n",
       "      <th></th>\n",
       "      <th>index</th>\n",
       "      <th>variable</th>\n",
       "      <th>episode</th>\n",
       "      <th>season</th>\n",
       "      <th>nonspeech</th>\n",
       "      <th>inaudible_speech</th>\n",
       "      <th>name</th>\n",
       "      <th>player</th>\n",
       "    </tr>\n",
       "  </thead>\n",
       "  <tbody>\n",
       "    <tr>\n",
       "      <th>1738</th>\n",
       "      <td>444</td>\n",
       "      <td>translucent-at-the-edge figures wearing masks ...</td>\n",
       "      <td>1</td>\n",
       "      <td>ACOFF</td>\n",
       "      <td></td>\n",
       "      <td></td>\n",
       "      <td>Aabria</td>\n",
       "      <td>Aabria</td>\n",
       "    </tr>\n",
       "    <tr>\n",
       "      <th>7643</th>\n",
       "      <td>1642</td>\n",
       "      <td>doe-eyed, confused, excited expression you've ...</td>\n",
       "      <td>3</td>\n",
       "      <td>ACOFF</td>\n",
       "      <td></td>\n",
       "      <td></td>\n",
       "      <td>Aabria</td>\n",
       "      <td>Aabria</td>\n",
       "    </tr>\n",
       "    <tr>\n",
       "      <th>8459</th>\n",
       "      <td>2458</td>\n",
       "      <td>And for just a moment, her expression softens...</td>\n",
       "      <td>3</td>\n",
       "      <td>ACOFF</td>\n",
       "      <td></td>\n",
       "      <td></td>\n",
       "      <td>Aabria</td>\n",
       "      <td>Aabria</td>\n",
       "    </tr>\n",
       "    <tr>\n",
       "      <th>26982</th>\n",
       "      <td>416</td>\n",
       "      <td>expressions that you make as a Wuvvy.</td>\n",
       "      <td>4</td>\n",
       "      <td>ACOFF AP</td>\n",
       "      <td></td>\n",
       "      <td></td>\n",
       "      <td>Emily</td>\n",
       "      <td>Emily</td>\n",
       "    </tr>\n",
       "    <tr>\n",
       "      <th>32346</th>\n",
       "      <td>232</td>\n",
       "      <td>anguished expression and begins quietly hyperv...</td>\n",
       "      <td>1</td>\n",
       "      <td>Burrow's End</td>\n",
       "      <td></td>\n",
       "      <td></td>\n",
       "      <td>Beatrix</td>\n",
       "      <td>Aabria</td>\n",
       "    </tr>\n",
       "    <tr>\n",
       "      <th>33774</th>\n",
       "      <td>1660</td>\n",
       "      <td>Rashawn, with an alarmed expression, begins fa...</td>\n",
       "      <td>1</td>\n",
       "      <td>Burrow's End</td>\n",
       "      <td></td>\n",
       "      <td></td>\n",
       "      <td>Thorn</td>\n",
       "      <td>Jasper</td>\n",
       "    </tr>\n",
       "    <tr>\n",
       "      <th>41839</th>\n",
       "      <td>462</td>\n",
       "      <td>Erika makes a bewildered, mistrustful expression.</td>\n",
       "      <td>5</td>\n",
       "      <td>Burrow's End</td>\n",
       "      <td></td>\n",
       "      <td></td>\n",
       "      <td>Talia</td>\n",
       "      <td>Aabria</td>\n",
       "    </tr>\n",
       "    <tr>\n",
       "      <th>44295</th>\n",
       "      <td>2918</td>\n",
       "      <td>Brennan stays silent, but looks at Izzy with a...</td>\n",
       "      <td>5</td>\n",
       "      <td>Burrow's End</td>\n",
       "      <td></td>\n",
       "      <td></td>\n",
       "      <td>Siobhan</td>\n",
       "      <td>Siobhan</td>\n",
       "    </tr>\n",
       "    <tr>\n",
       "      <th>46029</th>\n",
       "      <td>1642</td>\n",
       "      <td>Erika mimes energetically licking Jasper with ...</td>\n",
       "      <td>6</td>\n",
       "      <td>Burrow's End</td>\n",
       "      <td></td>\n",
       "      <td></td>\n",
       "      <td>Aabria</td>\n",
       "      <td>Aabria</td>\n",
       "    </tr>\n",
       "    <tr>\n",
       "      <th>50067</th>\n",
       "      <td>442</td>\n",
       "      <td>You see his expression does soften towards you.</td>\n",
       "      <td>8</td>\n",
       "      <td>Burrow's End</td>\n",
       "      <td></td>\n",
       "      <td></td>\n",
       "      <td>Aabria</td>\n",
       "      <td>Aabria</td>\n",
       "    </tr>\n",
       "    <tr>\n",
       "      <th>57455</th>\n",
       "      <td>427</td>\n",
       "      <td>Is that a craft? I'm very proud of you. Artis...</td>\n",
       "      <td>1</td>\n",
       "      <td>Misfits and Magic</td>\n",
       "      <td></td>\n",
       "      <td></td>\n",
       "      <td>Maurice</td>\n",
       "      <td>Aabria</td>\n",
       "    </tr>\n",
       "    <tr>\n",
       "      <th>62876</th>\n",
       "      <td>317</td>\n",
       "      <td>expression in which I am accustomed.</td>\n",
       "      <td>3</td>\n",
       "      <td>Misfits and Magic</td>\n",
       "      <td></td>\n",
       "      <td></td>\n",
       "      <td>Dream</td>\n",
       "      <td>Erika</td>\n",
       "    </tr>\n",
       "    <tr>\n",
       "      <th>63077</th>\n",
       "      <td>518</td>\n",
       "      <td>Axelby's expression that isn't, like, the one ...</td>\n",
       "      <td>3</td>\n",
       "      <td>Misfits and Magic</td>\n",
       "      <td></td>\n",
       "      <td></td>\n",
       "      <td>Aabria</td>\n",
       "      <td>Aabria</td>\n",
       "    </tr>\n",
       "  </tbody>\n",
       "</table>\n",
       "</div>"
      ],
      "text/plain": [
       "       index                                           variable episode  \\\n",
       "1738     444  translucent-at-the-edge figures wearing masks ...       1   \n",
       "7643    1642  doe-eyed, confused, excited expression you've ...       3   \n",
       "8459    2458   And for just a moment, her expression softens...       3   \n",
       "26982    416              expressions that you make as a Wuvvy.       4   \n",
       "32346    232  anguished expression and begins quietly hyperv...       1   \n",
       "33774   1660  Rashawn, with an alarmed expression, begins fa...       1   \n",
       "41839    462  Erika makes a bewildered, mistrustful expression.       5   \n",
       "44295   2918  Brennan stays silent, but looks at Izzy with a...       5   \n",
       "46029   1642  Erika mimes energetically licking Jasper with ...       6   \n",
       "50067    442    You see his expression does soften towards you.       8   \n",
       "57455    427   Is that a craft? I'm very proud of you. Artis...       1   \n",
       "62876    317               expression in which I am accustomed.       3   \n",
       "63077    518  Axelby's expression that isn't, like, the one ...       3   \n",
       "\n",
       "                  season nonspeech inaudible_speech     name   player  \n",
       "1738               ACOFF                              Aabria   Aabria  \n",
       "7643               ACOFF                              Aabria   Aabria  \n",
       "8459               ACOFF                              Aabria   Aabria  \n",
       "26982           ACOFF AP                               Emily    Emily  \n",
       "32346       Burrow's End                             Beatrix   Aabria  \n",
       "33774       Burrow's End                               Thorn   Jasper  \n",
       "41839       Burrow's End                               Talia   Aabria  \n",
       "44295       Burrow's End                             Siobhan  Siobhan  \n",
       "46029       Burrow's End                              Aabria   Aabria  \n",
       "50067       Burrow's End                              Aabria   Aabria  \n",
       "57455  Misfits and Magic                             Maurice   Aabria  \n",
       "62876  Misfits and Magic                               Dream    Erika  \n",
       "63077  Misfits and Magic                              Aabria   Aabria  "
      ]
     },
     "execution_count": 581,
     "metadata": {},
     "output_type": "execute_result"
    }
   ],
   "source": [
    "d20_df[d20_df['variable'].str.contains('expression')]"
   ]
  },
  {
   "cell_type": "code",
   "execution_count": 583,
   "id": "5ccb1b1e",
   "metadata": {},
   "outputs": [],
   "source": [
    "delete = [\n",
    "\n",
    "42048,\n",
    "41953,  \n",
    "41891,\n",
    "38996,\n",
    "37177,\n",
    "37087,\n",
    "36938,\n",
    "34023,\n",
    "32828,\n",
    "32392,\n",
    "32387,\n",
    "32379,\n",
    "28265,\n",
    "21959,\n",
    "16626,\n",
    "7145,\n",
    "39045,\n",
    "48016,\n",
    "49003,\n",
    "49604,\n",
    "58759,\n",
    "33774,\n",
    "41839,\n",
    "44295,\n",
    "46029,\n",
    "41423,\n",
    "44072,\n",
    "44073,\n",
    "44074,\n",
    "41437,\n",
    "41438,\n",
    "41576,\n",
    "46296,\n",
    "37603,\n",
    "37784,   \n",
    "37857,  \n",
    "38441, \n",
    "38982,\n",
    "42219,\n",
    "42231,\n",
    "42258,\n",
    "42480,\n",
    "42667,\n",
    "42725,\n",
    "43220,\n",
    "43333,\n",
    "43701,   \n",
    "44479,  \n",
    "44667, \n",
    "46638,\n",
    "46994\n",
    "]"
   ]
  },
  {
   "cell_type": "code",
   "execution_count": 584,
   "id": "bcb7acaf",
   "metadata": {},
   "outputs": [],
   "source": [
    "d20_df = d20_df.drop(delete)"
   ]
  },
  {
   "cell_type": "code",
   "execution_count": 585,
   "id": "dd9682a6",
   "metadata": {},
   "outputs": [
    {
     "data": {
      "text/html": [
       "<div>\n",
       "<style scoped>\n",
       "    .dataframe tbody tr th:only-of-type {\n",
       "        vertical-align: middle;\n",
       "    }\n",
       "\n",
       "    .dataframe tbody tr th {\n",
       "        vertical-align: top;\n",
       "    }\n",
       "\n",
       "    .dataframe thead th {\n",
       "        text-align: right;\n",
       "    }\n",
       "</style>\n",
       "<table border=\"1\" class=\"dataframe\">\n",
       "  <thead>\n",
       "    <tr style=\"text-align: right;\">\n",
       "      <th></th>\n",
       "      <th>index</th>\n",
       "      <th>variable</th>\n",
       "      <th>episode</th>\n",
       "      <th>season</th>\n",
       "      <th>nonspeech</th>\n",
       "      <th>inaudible_speech</th>\n",
       "      <th>name</th>\n",
       "      <th>player</th>\n",
       "    </tr>\n",
       "  </thead>\n",
       "  <tbody>\n",
       "    <tr>\n",
       "      <th>47140</th>\n",
       "      <td>2753</td>\n",
       "      <td>Brennan mimes destroying the weapon.</td>\n",
       "      <td>6</td>\n",
       "      <td>Burrow's End</td>\n",
       "      <td></td>\n",
       "      <td></td>\n",
       "      <td>Tula</td>\n",
       "      <td>Brennan</td>\n",
       "    </tr>\n",
       "    <tr>\n",
       "      <th>47658</th>\n",
       "      <td>3271</td>\n",
       "      <td>Jasper leans back and mimes clutching Jaysohn ...</td>\n",
       "      <td>6</td>\n",
       "      <td>Burrow's End</td>\n",
       "      <td></td>\n",
       "      <td></td>\n",
       "      <td>Jasper</td>\n",
       "      <td>Jasper</td>\n",
       "    </tr>\n",
       "    <tr>\n",
       "      <th>48059</th>\n",
       "      <td>289</td>\n",
       "      <td>A flash of Blue fills the Dome as Brennan mime...</td>\n",
       "      <td>7</td>\n",
       "      <td>Burrow's End</td>\n",
       "      <td></td>\n",
       "      <td></td>\n",
       "      <td>Brennan</td>\n",
       "      <td>Brennan</td>\n",
       "    </tr>\n",
       "    <tr>\n",
       "      <th>48370</th>\n",
       "      <td>600</td>\n",
       "      <td>Aabria mimes a huge paw reaching through a doo...</td>\n",
       "      <td>7</td>\n",
       "      <td>Burrow's End</td>\n",
       "      <td></td>\n",
       "      <td></td>\n",
       "      <td>Director</td>\n",
       "      <td>Aabria</td>\n",
       "    </tr>\n",
       "    <tr>\n",
       "      <th>48513</th>\n",
       "      <td>743</td>\n",
       "      <td>Aabria mimes a deep backwards throw. Jasper gr...</td>\n",
       "      <td>7</td>\n",
       "      <td>Burrow's End</td>\n",
       "      <td></td>\n",
       "      <td></td>\n",
       "      <td>Aabria</td>\n",
       "      <td>Aabria</td>\n",
       "    </tr>\n",
       "    <tr>\n",
       "      <th>48744</th>\n",
       "      <td>974</td>\n",
       "      <td>She mimes riding it like a bronco, Jasper guff...</td>\n",
       "      <td>7</td>\n",
       "      <td>Burrow's End</td>\n",
       "      <td></td>\n",
       "      <td></td>\n",
       "      <td>Rashawn</td>\n",
       "      <td>Rashawn</td>\n",
       "    </tr>\n",
       "    <tr>\n",
       "      <th>49647</th>\n",
       "      <td>22</td>\n",
       "      <td>Brennan sings the tune to Chariots of Fire, an...</td>\n",
       "      <td>8</td>\n",
       "      <td>Burrow's End</td>\n",
       "      <td></td>\n",
       "      <td></td>\n",
       "      <td>Rashawn</td>\n",
       "      <td>Rashawn</td>\n",
       "    </tr>\n",
       "    <tr>\n",
       "      <th>49650</th>\n",
       "      <td>25</td>\n",
       "      <td>Siobhan mimes cymbals crashing.</td>\n",
       "      <td>8</td>\n",
       "      <td>Burrow's End</td>\n",
       "      <td></td>\n",
       "      <td></td>\n",
       "      <td>Aabria</td>\n",
       "      <td>Aabria</td>\n",
       "    </tr>\n",
       "    <tr>\n",
       "      <th>49657</th>\n",
       "      <td>32</td>\n",
       "      <td>Rashawn mimes crossing a finish line and falli...</td>\n",
       "      <td>8</td>\n",
       "      <td>Burrow's End</td>\n",
       "      <td></td>\n",
       "      <td></td>\n",
       "      <td>Siobhan</td>\n",
       "      <td>Siobhan</td>\n",
       "    </tr>\n",
       "    <tr>\n",
       "      <th>49738</th>\n",
       "      <td>113</td>\n",
       "      <td>Rashawn mimes pulling levers, Erika bounces li...</td>\n",
       "      <td>8</td>\n",
       "      <td>Burrow's End</td>\n",
       "      <td></td>\n",
       "      <td></td>\n",
       "      <td>Rashawn</td>\n",
       "      <td>Rashawn</td>\n",
       "    </tr>\n",
       "    <tr>\n",
       "      <th>50167</th>\n",
       "      <td>542</td>\n",
       "      <td>Rashawn mimes taking off the hat, twinkly sounds.</td>\n",
       "      <td>8</td>\n",
       "      <td>Burrow's End</td>\n",
       "      <td></td>\n",
       "      <td></td>\n",
       "      <td>Lila</td>\n",
       "      <td>Izzy</td>\n",
       "    </tr>\n",
       "    <tr>\n",
       "      <th>50175</th>\n",
       "      <td>550</td>\n",
       "      <td>Rashawn mimes putting the magic hat back on.</td>\n",
       "      <td>8</td>\n",
       "      <td>Burrow's End</td>\n",
       "      <td></td>\n",
       "      <td></td>\n",
       "      <td>Aabria</td>\n",
       "      <td>Aabria</td>\n",
       "    </tr>\n",
       "    <tr>\n",
       "      <th>50720</th>\n",
       "      <td>1095</td>\n",
       "      <td>Jasper, screaming and snarling, mimes a full-b...</td>\n",
       "      <td>8</td>\n",
       "      <td>Burrow's End</td>\n",
       "      <td></td>\n",
       "      <td></td>\n",
       "      <td>Thorn</td>\n",
       "      <td>Jasper</td>\n",
       "    </tr>\n",
       "    <tr>\n",
       "      <th>50731</th>\n",
       "      <td>1106</td>\n",
       "      <td>Aabria mimes a strong arm bar. Jasper tilts hi...</td>\n",
       "      <td>8</td>\n",
       "      <td>Burrow's End</td>\n",
       "      <td></td>\n",
       "      <td></td>\n",
       "      <td>Aabria</td>\n",
       "      <td>Aabria</td>\n",
       "    </tr>\n",
       "    <tr>\n",
       "      <th>50910</th>\n",
       "      <td>1285</td>\n",
       "      <td>Siobhan mimes handing over the ear, Aabria sna...</td>\n",
       "      <td>8</td>\n",
       "      <td>Burrow's End</td>\n",
       "      <td></td>\n",
       "      <td></td>\n",
       "      <td>Siobhan</td>\n",
       "      <td>Siobhan</td>\n",
       "    </tr>\n",
       "    <tr>\n",
       "      <th>51023</th>\n",
       "      <td>1398</td>\n",
       "      <td>She mimes finding the bones and handing them t...</td>\n",
       "      <td>8</td>\n",
       "      <td>Burrow's End</td>\n",
       "      <td></td>\n",
       "      <td></td>\n",
       "      <td>Ava</td>\n",
       "      <td>Erika</td>\n",
       "    </tr>\n",
       "    <tr>\n",
       "      <th>51210</th>\n",
       "      <td>1585</td>\n",
       "      <td>Rashawn mimes a determined waddle.</td>\n",
       "      <td>8</td>\n",
       "      <td>Burrow's End</td>\n",
       "      <td></td>\n",
       "      <td></td>\n",
       "      <td>Izzy</td>\n",
       "      <td>Izzy</td>\n",
       "    </tr>\n",
       "    <tr>\n",
       "      <th>63518</th>\n",
       "      <td>959</td>\n",
       "      <td>Brennan mimes unscrewing a bottle and taking a...</td>\n",
       "      <td>3</td>\n",
       "      <td>Misfits and Magic</td>\n",
       "      <td></td>\n",
       "      <td></td>\n",
       "      <td>Aabria</td>\n",
       "      <td>Aabria</td>\n",
       "    </tr>\n",
       "    <tr>\n",
       "      <th>67747</th>\n",
       "      <td>2637</td>\n",
       "      <td>Lou mimes intense broom riding and Brennan gro...</td>\n",
       "      <td>4</td>\n",
       "      <td>Misfits and Magic</td>\n",
       "      <td></td>\n",
       "      <td></td>\n",
       "      <td>Sam</td>\n",
       "      <td>Danielle</td>\n",
       "    </tr>\n",
       "    <tr>\n",
       "      <th>70003</th>\n",
       "      <td>1643</td>\n",
       "      <td>Brennan mimes eating the velvet.</td>\n",
       "      <td>5</td>\n",
       "      <td>Misfits and Magic</td>\n",
       "      <td></td>\n",
       "      <td></td>\n",
       "      <td>Aabria</td>\n",
       "      <td>Aabria</td>\n",
       "    </tr>\n",
       "  </tbody>\n",
       "</table>\n",
       "</div>"
      ],
      "text/plain": [
       "       index                                           variable episode  \\\n",
       "47140   2753               Brennan mimes destroying the weapon.       6   \n",
       "47658   3271  Jasper leans back and mimes clutching Jaysohn ...       6   \n",
       "48059    289  A flash of Blue fills the Dome as Brennan mime...       7   \n",
       "48370    600  Aabria mimes a huge paw reaching through a doo...       7   \n",
       "48513    743  Aabria mimes a deep backwards throw. Jasper gr...       7   \n",
       "48744    974  She mimes riding it like a bronco, Jasper guff...       7   \n",
       "49647     22  Brennan sings the tune to Chariots of Fire, an...       8   \n",
       "49650     25                    Siobhan mimes cymbals crashing.       8   \n",
       "49657     32  Rashawn mimes crossing a finish line and falli...       8   \n",
       "49738    113  Rashawn mimes pulling levers, Erika bounces li...       8   \n",
       "50167    542  Rashawn mimes taking off the hat, twinkly sounds.       8   \n",
       "50175    550       Rashawn mimes putting the magic hat back on.       8   \n",
       "50720   1095  Jasper, screaming and snarling, mimes a full-b...       8   \n",
       "50731   1106  Aabria mimes a strong arm bar. Jasper tilts hi...       8   \n",
       "50910   1285  Siobhan mimes handing over the ear, Aabria sna...       8   \n",
       "51023   1398  She mimes finding the bones and handing them t...       8   \n",
       "51210   1585                 Rashawn mimes a determined waddle.       8   \n",
       "63518    959  Brennan mimes unscrewing a bottle and taking a...       3   \n",
       "67747   2637  Lou mimes intense broom riding and Brennan gro...       4   \n",
       "70003   1643                   Brennan mimes eating the velvet.       5   \n",
       "\n",
       "                  season nonspeech inaudible_speech      name    player  \n",
       "47140       Burrow's End                                 Tula   Brennan  \n",
       "47658       Burrow's End                               Jasper    Jasper  \n",
       "48059       Burrow's End                              Brennan   Brennan  \n",
       "48370       Burrow's End                             Director    Aabria  \n",
       "48513       Burrow's End                               Aabria    Aabria  \n",
       "48744       Burrow's End                              Rashawn   Rashawn  \n",
       "49647       Burrow's End                              Rashawn   Rashawn  \n",
       "49650       Burrow's End                               Aabria    Aabria  \n",
       "49657       Burrow's End                              Siobhan   Siobhan  \n",
       "49738       Burrow's End                              Rashawn   Rashawn  \n",
       "50167       Burrow's End                                 Lila      Izzy  \n",
       "50175       Burrow's End                               Aabria    Aabria  \n",
       "50720       Burrow's End                                Thorn    Jasper  \n",
       "50731       Burrow's End                               Aabria    Aabria  \n",
       "50910       Burrow's End                              Siobhan   Siobhan  \n",
       "51023       Burrow's End                                  Ava     Erika  \n",
       "51210       Burrow's End                                 Izzy      Izzy  \n",
       "63518  Misfits and Magic                               Aabria    Aabria  \n",
       "67747  Misfits and Magic                                  Sam  Danielle  \n",
       "70003  Misfits and Magic                               Aabria    Aabria  "
      ]
     },
     "execution_count": 585,
     "metadata": {},
     "output_type": "execute_result"
    }
   ],
   "source": [
    "d20_df[d20_df['variable'].str.contains('mimes')]"
   ]
  },
  {
   "cell_type": "code",
   "execution_count": null,
   "id": "53ae5bc0",
   "metadata": {},
   "outputs": [],
   "source": []
  },
  {
   "cell_type": "code",
   "execution_count": null,
   "id": "7f3fb42f",
   "metadata": {},
   "outputs": [],
   "source": [
    "d20_df.variable[41839]"
   ]
  },
  {
   "cell_type": "markdown",
   "id": "45b03286",
   "metadata": {},
   "source": [
    "camera\n",
    "gestures"
   ]
  },
  {
   "cell_type": "code",
   "execution_count": null,
   "id": "f026d195",
   "metadata": {},
   "outputs": [],
   "source": []
  }
 ],
 "metadata": {
  "kernelspec": {
   "display_name": "DataSci",
   "language": "python",
   "name": "datasci"
  },
  "language_info": {
   "codemirror_mode": {
    "name": "ipython",
    "version": 3
   },
   "file_extension": ".py",
   "mimetype": "text/x-python",
   "name": "python",
   "nbconvert_exporter": "python",
   "pygments_lexer": "ipython3",
   "version": "3.11.4"
  }
 },
 "nbformat": 4,
 "nbformat_minor": 5
}
