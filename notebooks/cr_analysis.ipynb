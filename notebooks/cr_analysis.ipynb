{
 "cells": [
  {
   "cell_type": "code",
   "execution_count": 1,
   "id": "74d48951",
   "metadata": {},
   "outputs": [],
   "source": [
    "import pickle\n",
    "import pandas as pd\n",
    "import re\n",
    "from matplotlib import pyplot as plt\n",
    "import nltk\n",
    "import string\n",
    "import itertools\n",
    "import seaborn as sns"
   ]
  },
  {
   "cell_type": "code",
   "execution_count": 2,
   "id": "6f021c2f",
   "metadata": {},
   "outputs": [
    {
     "data": {
      "text/html": [
       "<div>\n",
       "<style scoped>\n",
       "    .dataframe tbody tr th:only-of-type {\n",
       "        vertical-align: middle;\n",
       "    }\n",
       "\n",
       "    .dataframe tbody tr th {\n",
       "        vertical-align: top;\n",
       "    }\n",
       "\n",
       "    .dataframe thead th {\n",
       "        text-align: right;\n",
       "    }\n",
       "</style>\n",
       "<table border=\"1\" class=\"dataframe\">\n",
       "  <thead>\n",
       "    <tr style=\"text-align: right;\">\n",
       "      <th></th>\n",
       "      <th>speech_turn</th>\n",
       "      <th>name</th>\n",
       "      <th>speech</th>\n",
       "      <th>episode</th>\n",
       "      <th>timestamp</th>\n",
       "      <th>inaudible_speech</th>\n",
       "      <th>nonspeech</th>\n",
       "    </tr>\n",
       "  </thead>\n",
       "  <tbody>\n",
       "    <tr>\n",
       "      <th>0</th>\n",
       "      <td>0</td>\n",
       "      <td>MATT</td>\n",
       "      <td>We've got some cool stuff to talk about. First...</td>\n",
       "      <td>1</td>\n",
       "      <td>00:00:15</td>\n",
       "      <td></td>\n",
       "      <td></td>\n",
       "    </tr>\n",
       "    <tr>\n",
       "      <th>1</th>\n",
       "      <td>1</td>\n",
       "      <td>LAURA</td>\n",
       "      <td>As in nnnn.</td>\n",
       "      <td>1</td>\n",
       "      <td>00:01:21</td>\n",
       "      <td></td>\n",
       "      <td></td>\n",
       "    </tr>\n",
       "    <tr>\n",
       "      <th>2</th>\n",
       "      <td>2</td>\n",
       "      <td>MATT</td>\n",
       "      <td>Nnnn. But yeah, so they're going to be a long-...</td>\n",
       "      <td>1</td>\n",
       "      <td>00:01:24</td>\n",
       "      <td></td>\n",
       "      <td></td>\n",
       "    </tr>\n",
       "    <tr>\n",
       "      <th>3</th>\n",
       "      <td>3</td>\n",
       "      <td>TRAVIS</td>\n",
       "      <td>Would you like some?</td>\n",
       "      <td>1</td>\n",
       "      <td>00:02:04</td>\n",
       "      <td></td>\n",
       "      <td>(vomiting noises)</td>\n",
       "    </tr>\n",
       "    <tr>\n",
       "      <th>4</th>\n",
       "      <td>4</td>\n",
       "      <td>MATT</td>\n",
       "      <td>So yeah. I'm super excited to have that, guys....</td>\n",
       "      <td>1</td>\n",
       "      <td>00:02:07</td>\n",
       "      <td></td>\n",
       "      <td></td>\n",
       "    </tr>\n",
       "    <tr>\n",
       "      <th>...</th>\n",
       "      <td>...</td>\n",
       "      <td>...</td>\n",
       "      <td>...</td>\n",
       "      <td>...</td>\n",
       "      <td>...</td>\n",
       "      <td>...</td>\n",
       "      <td>...</td>\n",
       "    </tr>\n",
       "    <tr>\n",
       "      <th>434047</th>\n",
       "      <td>2722</td>\n",
       "      <td>MATT</td>\n",
       "      <td>We're going to get through this together, guys.</td>\n",
       "      <td>99</td>\n",
       "      <td>03:47:47</td>\n",
       "      <td></td>\n",
       "      <td></td>\n",
       "    </tr>\n",
       "    <tr>\n",
       "      <th>434048</th>\n",
       "      <td>2723</td>\n",
       "      <td>SAM</td>\n",
       "      <td>Wash your stubbly face.</td>\n",
       "      <td>99</td>\n",
       "      <td>03:47:49</td>\n",
       "      <td></td>\n",
       "      <td></td>\n",
       "    </tr>\n",
       "    <tr>\n",
       "      <th>434049</th>\n",
       "      <td>2724</td>\n",
       "      <td>TRAVIS</td>\n",
       "      <td>Gross.</td>\n",
       "      <td>99</td>\n",
       "      <td>03:47:51</td>\n",
       "      <td></td>\n",
       "      <td></td>\n",
       "    </tr>\n",
       "    <tr>\n",
       "      <th>434050</th>\n",
       "      <td>2725</td>\n",
       "      <td>MATT</td>\n",
       "      <td></td>\n",
       "      <td>99</td>\n",
       "      <td>03:47:52</td>\n",
       "      <td></td>\n",
       "      <td>(cheering)</td>\n",
       "    </tr>\n",
       "    <tr>\n",
       "      <th>434051</th>\n",
       "      <td>2726</td>\n",
       "      <td>TRAVIS</td>\n",
       "      <td></td>\n",
       "      <td>99</td>\n",
       "      <td>03:47:57</td>\n",
       "      <td></td>\n",
       "      <td>(dramatic orchestral music)</td>\n",
       "    </tr>\n",
       "  </tbody>\n",
       "</table>\n",
       "<p>434050 rows × 7 columns</p>\n",
       "</div>"
      ],
      "text/plain": [
       "        speech_turn    name  \\\n",
       "0                 0    MATT   \n",
       "1                 1   LAURA   \n",
       "2                 2    MATT   \n",
       "3                 3  TRAVIS   \n",
       "4                 4    MATT   \n",
       "...             ...     ...   \n",
       "434047         2722    MATT   \n",
       "434048         2723     SAM   \n",
       "434049         2724  TRAVIS   \n",
       "434050         2725    MATT   \n",
       "434051         2726  TRAVIS   \n",
       "\n",
       "                                                   speech episode timestamp  \\\n",
       "0       We've got some cool stuff to talk about. First...       1  00:00:15   \n",
       "1                                            As in nnnn.        1  00:01:21   \n",
       "2       Nnnn. But yeah, so they're going to be a long-...       1  00:01:24   \n",
       "3                                   Would you like some?        1  00:02:04   \n",
       "4       So yeah. I'm super excited to have that, guys....       1  00:02:07   \n",
       "...                                                   ...     ...       ...   \n",
       "434047   We're going to get through this together, guys.       99  03:47:47   \n",
       "434048                           Wash your stubbly face.       99  03:47:49   \n",
       "434049                                            Gross.       99  03:47:51   \n",
       "434050                                                         99  03:47:52   \n",
       "434051                                                         99  03:47:57   \n",
       "\n",
       "       inaudible_speech                     nonspeech  \n",
       "0                                                      \n",
       "1                                                      \n",
       "2                                                      \n",
       "3                                   (vomiting noises)  \n",
       "4                                                      \n",
       "...                 ...                           ...  \n",
       "434047                                                 \n",
       "434048                                                 \n",
       "434049                                                 \n",
       "434050                                    (cheering)   \n",
       "434051                   (dramatic orchestral music)   \n",
       "\n",
       "[434050 rows x 7 columns]"
      ]
     },
     "execution_count": 2,
     "metadata": {},
     "output_type": "execute_result"
    }
   ],
   "source": [
    "cr_df = pd.read_pickle('../pickle_jar/CritRole_split.pkl')\n",
    "cr_df['text'] = cr_df['text'].str.replace(r'♫', r'', regex=True).astype('str')\n",
    "cr_df = cr_df.rename(columns={'text': 'speech', 'index': 'speech_turn'})\n",
    "cr_df=cr_df.drop(321664) #another full produced song (not them singing at the table) skewing the sent length data badly\n",
    "cr_df=cr_df.drop(78020)  #a badly coded line (spit out some meta info it looks like) skewing word len data\n",
    "cr_df"
   ]
  },
  {
   "cell_type": "code",
   "execution_count": 3,
   "id": "5b16c075",
   "metadata": {},
   "outputs": [],
   "source": [
    "#found some name misspellings and some (confirmed) sporadic useage of character names instead of player names, but very few (weird)\n",
    "cr_df['name'] = cr_df['name'].str.replace(r'MTT', r'MATT', regex=True).astype('str')\n",
    "cr_df['name'] = cr_df['name'].str.replace(r'AMTT', r'MATT', regex=True).astype('str')\n",
    "cr_df['name'] = cr_df['name'].str.replace(r'NOTT', r'SAM', regex=True).astype('str')\n",
    "cr_df['name'] = cr_df['name'].str.replace(r'CALEB', r'LIAM', regex=True).astype('str')\n",
    "cr_df['name'] = cr_df['name'].str.replace(r'BEAU', r'MARISHA', regex=True).astype('str')\n",
    "cr_df['name'] = cr_df['name'].str.replace(r'JESTER', r'MATT', regex=True).astype('str')"
   ]
  },
  {
   "cell_type": "markdown",
   "id": "851b60ce",
   "metadata": {},
   "source": [
    "# Table of Contents \n",
    "\n",
    "### Part 1\n",
    "\n",
    "1. [Counting Lines](#Counting-Lines)\n",
    "    - [Exploring Results](#Exploring-Results)<br>\n",
    "    <br>\n",
    "2. [Adding new columns](#Adding-new-columns)\n",
    "    - [Word Counts](#Word-counts-(per-spoken-line))\n",
    "    - [Words per speaker](#Total-words-per-speaker)\n",
    "    - [Unique words per speaker](#Unique-Words-per-Speaker)\n",
    "    - [Word Length](#Word-Length)\n",
    "    - [Sentences and sentence length](#Sentences-and-sentence-length)<br>\n",
    "<br>   \n",
    "3. [Initial Conlusions](#Initial-Conlusions)\n",
    "\n",
    "### Part 2\n",
    "\n",
    "1. [Dividing the data by group](#Dividing-the-data-by-group)<br>\n",
    "<br>\n",
    "2. [Re-measuring](#Re-measuring)\n",
    "    - [Lines](#Lines)\n",
    "    - [Word Count](#Word-Count)\n",
    "    - [Sentence Length](#Sentence-Length)<br>\n",
    "    <br>\n",
    "3. [Grouped Conclusions](#Grouped-Conclusions)\n",
    "\n",
    "### Part 3\n",
    "\n",
    "1. [Hedging](#Hedging)\n",
    "2. [Jargon](#Jargon)\n",
    "3. [Readability Metric](#Readability-Metric)\n",
    "4. [Interruptions](#Interruptions)"
   ]
  },
  {
   "cell_type": "markdown",
   "id": "72fbb259",
   "metadata": {},
   "source": [
    "## Counting Lines\n",
    "\n",
    "First thing's first, let's just see how many lines each speaker has as a basis to go off of for the rest of our research.\n",
    "\n",
    "The problem I had initially was counting *all* lines associated per name, including lines in the 'speech turn' column that are empty because the value had been moved to the 'nonspeech' or 'inaudible' columns instead. To combat this, I've selected only the name and text columns and dropped any row from the text column that contains no text. By doing this we've eliminated 11,474 lines from the text volume that have no value."
   ]
  },
  {
   "cell_type": "code",
   "execution_count": 4,
   "id": "c3cc28c9",
   "metadata": {},
   "outputs": [],
   "source": [
    "lcount = cr_df[['name', 'speech']].copy() #copy just these two cols over for now\n",
    "lcount = lcount[lcount['speech'] != '']  #drop any rows with no value"
   ]
  },
  {
   "cell_type": "code",
   "execution_count": 5,
   "id": "3f29addc",
   "metadata": {},
   "outputs": [
    {
     "data": {
      "text/html": [
       "<div>\n",
       "<style scoped>\n",
       "    .dataframe tbody tr th:only-of-type {\n",
       "        vertical-align: middle;\n",
       "    }\n",
       "\n",
       "    .dataframe tbody tr th {\n",
       "        vertical-align: top;\n",
       "    }\n",
       "\n",
       "    .dataframe thead th {\n",
       "        text-align: right;\n",
       "    }\n",
       "</style>\n",
       "<table border=\"1\" class=\"dataframe\">\n",
       "  <thead>\n",
       "    <tr style=\"text-align: right;\">\n",
       "      <th></th>\n",
       "      <th>name</th>\n",
       "      <th>speech</th>\n",
       "    </tr>\n",
       "  </thead>\n",
       "  <tbody>\n",
       "    <tr>\n",
       "      <th>200</th>\n",
       "      <td>MATT</td>\n",
       "      <td>109579</td>\n",
       "    </tr>\n",
       "    <tr>\n",
       "      <th>104</th>\n",
       "      <td>LAURA</td>\n",
       "      <td>58407</td>\n",
       "    </tr>\n",
       "    <tr>\n",
       "      <th>245</th>\n",
       "      <td>SAM</td>\n",
       "      <td>50447</td>\n",
       "    </tr>\n",
       "    <tr>\n",
       "      <th>168</th>\n",
       "      <td>MARISHA</td>\n",
       "      <td>48138</td>\n",
       "    </tr>\n",
       "    <tr>\n",
       "      <th>316</th>\n",
       "      <td>TRAVIS</td>\n",
       "      <td>48073</td>\n",
       "    </tr>\n",
       "    <tr>\n",
       "      <th>136</th>\n",
       "      <td>LIAM</td>\n",
       "      <td>40254</td>\n",
       "    </tr>\n",
       "    <tr>\n",
       "      <th>293</th>\n",
       "      <td>TALIESIN</td>\n",
       "      <td>39736</td>\n",
       "    </tr>\n",
       "    <tr>\n",
       "      <th>14</th>\n",
       "      <td>ASHLEY</td>\n",
       "      <td>17166</td>\n",
       "    </tr>\n",
       "  </tbody>\n",
       "</table>\n",
       "</div>"
      ],
      "text/plain": [
       "         name  speech\n",
       "200      MATT  109579\n",
       "104     LAURA   58407\n",
       "245       SAM   50447\n",
       "168   MARISHA   48138\n",
       "316    TRAVIS   48073\n",
       "136      LIAM   40254\n",
       "293  TALIESIN   39736\n",
       "14     ASHLEY   17166"
      ]
     },
     "execution_count": 5,
     "metadata": {},
     "output_type": "execute_result"
    }
   ],
   "source": [
    "spcount = pd.DataFrame(lcount.groupby(['name'])['speech'].count()) #speech count\n",
    "spcount = spcount.reset_index()\n",
    "spcount = spcount.sort_values('speech', ascending=False)\n",
    "spcount.head(n=8)"
   ]
  },
  {
   "cell_type": "markdown",
   "id": "55efa795",
   "metadata": {},
   "source": [
    "So here are the line counts per main cast member! Very interesting stuff. Predictably, Matt talks a *lot* more than every other participant, almost twice as much as the second most lines spoken.\n",
    "\n",
    "For this instance, I did not lump every data point not attributed to a main cast member into an \"other\" category to really get a view of just how small the data points are. These very very small data points belong to guests who were around for only an episode or two, or for lines attributed to multiple speakers at once. For example, something like:<br>\n",
    "ASHLEY, TRAVIS, SAM: (laughter)"
   ]
  },
  {
   "cell_type": "code",
   "execution_count": 6,
   "id": "708d30bb",
   "metadata": {},
   "outputs": [
    {
     "data": {
      "image/png": "[encoded data removed]",
      "text/plain": [
       "<Figure size 640x480 with 1 Axes>"
      ]
     },
     "metadata": {},
     "output_type": "display_data"
    }
   ],
   "source": [
    "plt.pie(spcount['speech'], labels=spcount['name'], autopct='%1.1f%%')\n",
    "plt.axis('equal')\n",
    "plt.title('Speech Turn per Participant')\n",
    "plt.show()"
   ]
  },
  {
   "cell_type": "markdown",
   "id": "a2133710",
   "metadata": {},
   "source": [
    "## Exploring Results\n",
    "\n",
    "First of all, there is some important information to add some context to the information we're looking at. \n",
    "\n",
    "#### 1\n",
    "First thing is attendance. The fan-run website [CritRole Stats](https://www.critrolestats.com/stats) tracks a number of statistics for each episode of Critical Role. The one we're looking at is Campaign 2 (Mighty Nein Campaign). They have very helpfully included attendance among their stats!<br>\n",
    "Not every player was present for every single episode. Laura and Travis left for some time for parental leave, Taliesin had a character death, and Ashley was away for a time filming for a television show. This show spanned multiple years, Jan 2018 to June 2021, on a weekly basis except for a period from March to July 2020 for quarantine. It's not odd to have someone have to miss an episode sometimes.\n",
    "\n",
    "Here is the attendance list by CR Stats:<br>\n",
    "Matt      -> 141<br>\n",
    "Marisha\t  -> 141<br>\n",
    "Sam\t      -> 141<br>\n",
    "Liam\t  -> 140<br>\n",
    "Taliesin  -> 139<br>\n",
    "Travis\t  -> 136<br>\n",
    "Laura\t  -> 133<br>\n",
    "Ashley\t  -> 86\n",
    "\n",
    "Interestingly, this explains why Ashley has as few lines as she does, but otherwise there is not a 1:1 match of attendance to how much a player spoke.\n",
    "\n",
    "#### 2\n",
    "Another thing to consider is characters. Laura may have been in the second to least episodes out of the full cast, but her character, Jester, is an excitable motormouth. Marisha and Travis, on the other hand, play slightly more serious characters, and Liam, Ashley, and Taliesin (from episode 30-ish onward) play more stoic types. \n",
    "\n",
    "#### 3\n",
    "Finally, roles. At the top of each episode (or most of them, at least), two things happen. Sam reads ads for the show, often making them into skits or scripts full of jokes and siliness. Then, often, Laura updates viewers on new merch added to their store, what's available, what's coming and when it'll be available, and so on. It wouldn't be surprising to find that this affects their speech totals by a good bit."
   ]
  },
  {
   "cell_type": "markdown",
   "id": "ca73d371",
   "metadata": {},
   "source": [
    "Since I spent so long crafting that nonspeech column let's take a look at its values just to see what we see. "
   ]
  },
  {
   "cell_type": "code",
   "execution_count": 7,
   "id": "f68b8881",
   "metadata": {},
   "outputs": [
    {
     "data": {
      "text/plain": [
       "                408173\n",
       "(laughter)        6163\n",
       "(laughs)          1933\n",
       "(laughs)           874\n",
       "(laughter)         720\n",
       "(whispering)       416\n",
       "(cheering)         338\n",
       "(gasps)            293\n",
       "(gasps)            281\n",
       "(singing)          278\n",
       "(sighs)            273\n",
       "(groaning)         254\n",
       "(counting)         242\n",
       "(sighs)            195\n",
       "(groans)           174\n",
       "Name: nonspeech, dtype: int64"
      ]
     },
     "execution_count": 7,
     "metadata": {},
     "output_type": "execute_result"
    }
   ],
   "source": [
    "allsounds = cr_df['nonspeech'].value_counts()\n",
    "allsounds[:15]"
   ]
  },
  {
   "cell_type": "code",
   "execution_count": 8,
   "id": "6c9fcced",
   "metadata": {},
   "outputs": [
    {
     "data": {
      "text/html": [
       "<div>\n",
       "<style scoped>\n",
       "    .dataframe tbody tr th:only-of-type {\n",
       "        vertical-align: middle;\n",
       "    }\n",
       "\n",
       "    .dataframe tbody tr th {\n",
       "        vertical-align: top;\n",
       "    }\n",
       "\n",
       "    .dataframe thead th {\n",
       "        text-align: right;\n",
       "    }\n",
       "</style>\n",
       "<table border=\"1\" class=\"dataframe\">\n",
       "  <thead>\n",
       "    <tr style=\"text-align: right;\">\n",
       "      <th></th>\n",
       "      <th>name</th>\n",
       "      <th>nonspeech</th>\n",
       "    </tr>\n",
       "  </thead>\n",
       "  <tbody>\n",
       "    <tr>\n",
       "      <th>92</th>\n",
       "      <td>MATT</td>\n",
       "      <td>7176</td>\n",
       "    </tr>\n",
       "    <tr>\n",
       "      <th>142</th>\n",
       "      <td>TRAVIS</td>\n",
       "      <td>3801</td>\n",
       "    </tr>\n",
       "    <tr>\n",
       "      <th>49</th>\n",
       "      <td>LAURA</td>\n",
       "      <td>3311</td>\n",
       "    </tr>\n",
       "    <tr>\n",
       "      <th>115</th>\n",
       "      <td>SAM</td>\n",
       "      <td>3265</td>\n",
       "    </tr>\n",
       "    <tr>\n",
       "      <th>77</th>\n",
       "      <td>MARISHA</td>\n",
       "      <td>2451</td>\n",
       "    </tr>\n",
       "    <tr>\n",
       "      <th>61</th>\n",
       "      <td>LIAM</td>\n",
       "      <td>2393</td>\n",
       "    </tr>\n",
       "    <tr>\n",
       "      <th>134</th>\n",
       "      <td>TALIESIN</td>\n",
       "      <td>1341</td>\n",
       "    </tr>\n",
       "    <tr>\n",
       "      <th>10</th>\n",
       "      <td>ASHLEY</td>\n",
       "      <td>1005</td>\n",
       "    </tr>\n",
       "  </tbody>\n",
       "</table>\n",
       "</div>"
      ],
      "text/plain": [
       "         name  nonspeech\n",
       "92       MATT       7176\n",
       "142    TRAVIS       3801\n",
       "49      LAURA       3311\n",
       "115       SAM       3265\n",
       "77    MARISHA       2451\n",
       "61       LIAM       2393\n",
       "134  TALIESIN       1341\n",
       "10     ASHLEY       1005"
      ]
     },
     "execution_count": 8,
     "metadata": {},
     "output_type": "execute_result"
    }
   ],
   "source": [
    "scount = cr_df[['name', 'nonspeech']].copy()\n",
    "scount = scount[scount['nonspeech'] != '']\n",
    "nscount = pd.DataFrame(scount.groupby(['name'])['nonspeech'].count())\n",
    "nscount = nscount.reset_index()\n",
    "nscount = nscount.sort_values('nonspeech', ascending=False)\n",
    "nscount.head(n=8)"
   ]
  },
  {
   "cell_type": "markdown",
   "id": "5641aac8",
   "metadata": {},
   "source": [
    "Not extremely important since it's not part of speech analysis but I put the work in and I wanted to see it.\n",
    "Not surprising again! Matt being the first makes sense, he is known as a DM for including sound effects (and being very good at them). Just a cool stat... moving on!"
   ]
  },
  {
   "cell_type": "markdown",
   "id": "ccb5e30a",
   "metadata": {},
   "source": [
    "## Adding new columns\n",
    "\n",
    "Running through the base metrics we know and love.... word tokenizing & word counts, word types, word length, sentence count and sentence length. With these metrics available, the real interpretation can begin."
   ]
  },
  {
   "cell_type": "markdown",
   "id": "d31236d9",
   "metadata": {},
   "source": [
    "### Word counts (per spoken line)\n",
    "\n",
    "Again, keeping in mind that one speech turn may include multiple sentences.\n",
    "\n",
    "Since this is speech and not written language, I don't want to include punctuation in the word tokenization. We're trying to measure purely what is spoken by our DND players."
   ]
  },
  {
   "cell_type": "code",
   "execution_count": 9,
   "id": "c2598fd1",
   "metadata": {},
   "outputs": [],
   "source": [
    "punctuations=\"!@#$%^&*()_-=+:;{}[]<>,.?/\\''\""
   ]
  },
  {
   "cell_type": "code",
   "execution_count": null,
   "id": "2f6954da",
   "metadata": {},
   "outputs": [],
   "source": [
    "tokens = cr_df.speech.map(nltk.word_tokenize)\n",
    "cr_df['tokens']=tokens         #create token column\n",
    "cr_df['nopunc']=cr_df['tokens'].apply(lambda tokens: [w for w in tokens if w not in punctuations]) #list comprehend to remove toks\n",
    "cr_df = cr_df.drop('tokens', axis=1)     #drop that toks col, we don't actually want it"
   ]
  },
  {
   "cell_type": "code",
   "execution_count": null,
   "id": "22a2c1c3",
   "metadata": {},
   "outputs": [],
   "source": [
    "cr_df['word_count'] = cr_df.nopunc.map(len)   #count total tokens per line\n",
    "cr_df.head() #pre punc removal index 0 had 179 words, so this worked pretty well for accuracy"
   ]
  },
  {
   "cell_type": "markdown",
   "id": "6f499bbc",
   "metadata": {},
   "source": [
    "So we know who has the most speech turns (Matt) but what about who says the most words? Someone with fewer speech turns (lines) could have one very very long speech, who knows."
   ]
  },
  {
   "cell_type": "markdown",
   "id": "c88995e9",
   "metadata": {},
   "source": [
    "### Total words per speaker"
   ]
  },
  {
   "cell_type": "code",
   "execution_count": null,
   "id": "79489e7b",
   "metadata": {},
   "outputs": [],
   "source": [
    "wcount = pd.DataFrame(cr_df.groupby('name').word_count.sum())\n",
    "wcount = wcount.reset_index()\n",
    "wcount = wcount.sort_values('word_count', ascending=False)\n",
    "wcount.head(n=8)"
   ]
  },
  {
   "cell_type": "code",
   "execution_count": null,
   "id": "cc839ba5",
   "metadata": {},
   "outputs": [],
   "source": [
    "plt.pie(wcount['word_count'], labels=wcount['name'], autopct='%1.1f%%')\n",
    "plt.axis('equal')\n",
    "plt.title('Words per Participant')\n",
    "plt.show()"
   ]
  },
  {
   "cell_type": "markdown",
   "id": "0d829d02",
   "metadata": {},
   "source": [
    "This lines up quite nicely in line with the the speech turns divisions. For the most part, the people who have more speech turns *tend* to say more words as well. \n",
    "\n",
    "Liam, Marisha, and Travis all swapped places, though! Marisha had almost 2% more of all speech turns in this campaign than Liam, but drops down to among the lowest in terms of word count. Again, this makes sense to me. Her character her nor necessarily stoic, but she is brief and not a chatterbox type at all. More lines of shorter utterances. \n",
    "\n",
    "Matt shares a sizable chunk of the speech turns of the full campaign, naturally, and he dominates in terms of word count. Not only is he speaking more often than everyone else indvidually, he's saying more when he *does* talk."
   ]
  },
  {
   "cell_type": "markdown",
   "id": "781be414",
   "metadata": {},
   "source": [
    "### Unique words per line"
   ]
  },
  {
   "cell_type": "code",
   "execution_count": null,
   "id": "27ecc92d",
   "metadata": {},
   "outputs": [],
   "source": [
    "cr_df['types'] = cr_df['nopunc'].apply(lambda tokens: [w.lower() for w in tokens])\n",
    "cr_df['types'] = cr_df['types'].apply(set)\n",
    "cr_df['type_count'] = cr_df.types.map(len) \n",
    "cr_df.head() #again to confirm, before punc removal type count for index 0 was 95"
   ]
  },
  {
   "cell_type": "markdown",
   "id": "3064261b",
   "metadata": {},
   "source": [
    "### Unique Words per Speaker\n",
    "\n",
    "We can't simply sum the full \"types_count\" column, as surely there are repeats of word types from line to line. Instead I'll divide up the dataframe, calculate the type count total per speaker, and compare totals for tokens and types below"
   ]
  },
  {
   "cell_type": "code",
   "execution_count": null,
   "id": "c49fb772",
   "metadata": {},
   "outputs": [],
   "source": [
    "ashley = pd.DataFrame(cr_df[cr_df['name']=='ASHLEY'])\n",
    "matt = pd.DataFrame(cr_df[cr_df['name']=='MATT'])\n",
    "marisha = pd.DataFrame(cr_df[cr_df['name']=='MARISHA'])\n",
    "taliesin = pd.DataFrame(cr_df[cr_df['name']=='TALIESIN'])\n",
    "sam = pd.DataFrame(cr_df[cr_df['name']=='SAM'])\n",
    "liam = pd.DataFrame(cr_df[cr_df['name']=='LIAM'])\n",
    "laura = pd.DataFrame(cr_df[cr_df['name']=='LAURA'])\n",
    "travis = pd.DataFrame(cr_df[cr_df['name']=='TRAVIS'])"
   ]
  },
  {
   "cell_type": "code",
   "execution_count": null,
   "id": "9a075231",
   "metadata": {},
   "outputs": [],
   "source": [
    "ashtypes = ashley['types'].tolist()\n",
    "ashtypes = list(itertools.chain(*ashtypes))\n",
    "ashset = set(ashtypes)\n",
    "print(len(ashset))\n",
    "\n",
    "matttypes = matt['types'].tolist()\n",
    "matttypes = list(itertools.chain(*matttypes))\n",
    "mattset = set(matttypes)\n",
    "print(len(mattset))\n",
    "\n",
    "martypes = marisha['types'].tolist()\n",
    "martypes = list(itertools.chain(*martypes))\n",
    "marset = set(martypes)\n",
    "print(len(marset))\n",
    "\n",
    "taltypes = taliesin['types'].tolist()\n",
    "taltypes = list(itertools.chain(*taltypes))\n",
    "talset = set(taltypes)\n",
    "print(len(talset))\n",
    "\n",
    "samtypes = sam['types'].tolist()\n",
    "samtypes = list(itertools.chain(*samtypes))\n",
    "samset = set(samtypes)\n",
    "print(len(samset))\n",
    "\n",
    "liamtypes = liam['types'].tolist()\n",
    "liamtypes = list(itertools.chain(*liamtypes))\n",
    "liamset = set(liamtypes)\n",
    "print(len(liamset))\n",
    "\n",
    "lautypes = laura['types'].tolist()\n",
    "lautypes = list(itertools.chain(*lautypes))\n",
    "lauset = set(lautypes)\n",
    "print(len(lauset))\n",
    "\n",
    "travtypes = travis['types'].tolist()\n",
    "travtypes = list(itertools.chain(*travtypes))\n",
    "travset = set(travtypes)\n",
    "print(len(travset))"
   ]
  },
  {
   "cell_type": "code",
   "execution_count": null,
   "id": "fcd4447e",
   "metadata": {},
   "outputs": [],
   "source": [
    "alltypes = {'ASHLEY':[5016], 'MATT':[22615], 'MARISHA':[12960], 'TALIESIN':[9567], 'SAM':[13170], 'LIAM':[13375], 'LAURA':[10261], 'TRAVIS':[13269]}"
   ]
  },
  {
   "cell_type": "code",
   "execution_count": null,
   "id": "664490c3",
   "metadata": {},
   "outputs": [],
   "source": [
    "typecount = pd.DataFrame(alltypes)\n",
    "typecount = typecount.melt()\n",
    "typecount = typecount.rename(columns={'variable': 'name', 'value': 'type_count'})"
   ]
  },
  {
   "cell_type": "code",
   "execution_count": null,
   "id": "cfd395a1",
   "metadata": {},
   "outputs": [],
   "source": [
    "countsdf = wcount[wcount['name'].isin(['MATT', 'LIAM', 'TALIESIN', 'LAURA', 'TRAVIS', 'MARISHA', 'SAM', 'ASHLEY'])]\n",
    "countsdf"
   ]
  },
  {
   "cell_type": "code",
   "execution_count": null,
   "id": "95d2fdc8",
   "metadata": {},
   "outputs": [],
   "source": [
    "countsdf = countsdf.merge(typecount, how='left', on='name', suffixes=('', '_y'))\n",
    "countsdf.drop(countsdf.filter(regex='_y$').columns, axis=1, inplace=True)"
   ]
  },
  {
   "cell_type": "code",
   "execution_count": null,
   "id": "477c5027",
   "metadata": {},
   "outputs": [],
   "source": [
    "countsdf"
   ]
  },
  {
   "cell_type": "code",
   "execution_count": null,
   "id": "10a84cce",
   "metadata": {},
   "outputs": [],
   "source": [
    "wtok = sns.barplot(countsdf, x=\"name\", y=\"word_count\", hue=\"word_count\", dodge=False)\n",
    "wtok.set_title(\"Word Token Count per Participant\")\n",
    "sns.move_legend(wtok, \"upper left\", bbox_to_anchor=(1, 1), reverse=True)\n",
    "plt.show()"
   ]
  },
  {
   "cell_type": "code",
   "execution_count": null,
   "id": "a0169ae1",
   "metadata": {},
   "outputs": [],
   "source": [
    "countsdf = countsdf.sort_values('type_count', ascending=False)\n",
    "\n",
    "wcountplot = sns.barplot(countsdf, x=\"name\", y=\"type_count\", hue=\"type_count\", dodge=False)\n",
    "wcountplot.set_title(\"Word Type Count per Participant\")\n",
    "sns.move_legend(wcountplot, \"upper left\", bbox_to_anchor=(1, 1), reverse=True)\n",
    "plt.show()"
   ]
  },
  {
   "cell_type": "markdown",
   "id": "5d67e89f",
   "metadata": {},
   "source": [
    "Not too much to glean from this, but an interesting look. Amount of word types is not directly proportional to word token counts, Laura has quite a lot of word tokens but drops in types, while Liam and Travis have the reverse. It shows more or less variety in what is being said by the speakers. What is key here is that Matt still has a hefty lead in both type and token count."
   ]
  },
  {
   "cell_type": "markdown",
   "id": "2c4566f2",
   "metadata": {},
   "source": [
    "### Word Length"
   ]
  },
  {
   "cell_type": "code",
   "execution_count": null,
   "id": "c0c24e7f",
   "metadata": {},
   "outputs": [],
   "source": [
    "wlength = cr_df.apply(lambda row: [len(w) for w in (row['nopunc'])], axis=1)\n",
    "cr_df = cr_df.drop('nopunc', axis=1)"
   ]
  },
  {
   "cell_type": "code",
   "execution_count": null,
   "id": "471f5b24",
   "metadata": {},
   "outputs": [],
   "source": [
    "cr_df['avg_word_length'] = wlength.map(sum)/cr_df['word_count']\n",
    "cr_df['avg_word_length'] = cr_df['avg_word_length'].fillna(0)\n",
    "cr_df['avg_word_length'] = cr_df['avg_word_length'].map(\"{:.2f}\".format)\n",
    "cr_df['avg_word_length'] = cr_df['avg_word_length'].map(float)\n",
    "cr_df.head()"
   ]
  },
  {
   "cell_type": "code",
   "execution_count": null,
   "id": "abcbba8a",
   "metadata": {},
   "outputs": [],
   "source": [
    "cr_df['avg_word_length'].describe()"
   ]
  },
  {
   "cell_type": "code",
   "execution_count": null,
   "id": "d96ac007",
   "metadata": {},
   "outputs": [],
   "source": [
    "cr_df[cr_df['avg_word_length']==31] #longest"
   ]
  },
  {
   "cell_type": "code",
   "execution_count": null,
   "id": "00b1c8d3",
   "metadata": {},
   "outputs": [],
   "source": [
    "cr_df[cr_df['avg_word_length']==26] #second longest"
   ]
  },
  {
   "cell_type": "markdown",
   "id": "14bc10d3",
   "metadata": {},
   "source": [
    "Interesting! I guess NLTK thinks of a hyphen as part of a compound word and counts it only as one long word?\n",
    "I contemplated correcting this line to separate into multiple words, but I'm not sure I want to really do that. It's written this way to convey the way Sam spoke it - in a rush, mumbled together all as one word. Auditorily speaking, I *do* think it counts as one word. \n",
    "\n",
    "Word length isn't very informative in this case. I'm keeping it, because I think it's interesting, but won't be using it all that much in my measurements and analysis."
   ]
  },
  {
   "cell_type": "markdown",
   "id": "ce77d1c6",
   "metadata": {},
   "source": [
    "### Sentences and sentence length"
   ]
  },
  {
   "cell_type": "code",
   "execution_count": null,
   "id": "5c730b9a",
   "metadata": {},
   "outputs": [],
   "source": [
    "sents = cr_df.speech.map(nltk.sent_tokenize)\n",
    "sents[0]   #we can take a look at that full opening speech"
   ]
  },
  {
   "cell_type": "code",
   "execution_count": null,
   "id": "1a75dc39",
   "metadata": {},
   "outputs": [],
   "source": [
    "sentlength = sents.map(len)    #number of sentences spoken per line\n",
    "cr_df['sents_count'] = sentlength"
   ]
  },
  {
   "cell_type": "code",
   "execution_count": null,
   "id": "1412fd07",
   "metadata": {},
   "outputs": [],
   "source": [
    "cr_df['sents_count'].describe()"
   ]
  },
  {
   "cell_type": "markdown",
   "id": "d066fc3f",
   "metadata": {},
   "source": [
    "27 sentences is quite a speech! I want to check this out."
   ]
  },
  {
   "cell_type": "code",
   "execution_count": null,
   "id": "04179850",
   "metadata": {},
   "outputs": [],
   "source": [
    "cr_df[cr_df['sents_count']==27]"
   ]
  },
  {
   "cell_type": "code",
   "execution_count": null,
   "id": "535d4215",
   "metadata": {},
   "outputs": [],
   "source": [
    "cr_df.speech[199147]"
   ]
  },
  {
   "cell_type": "markdown",
   "id": "8d343833",
   "metadata": {},
   "source": [
    "Okay, cool! A lengthy introduction to a new location, it looks like. That's a big speech!"
   ]
  },
  {
   "cell_type": "code",
   "execution_count": null,
   "id": "c97a0936",
   "metadata": {},
   "outputs": [],
   "source": [
    "avgsentlength = cr_df.word_count/sentlength    #avg length of sentence per line or speech event\n",
    "cr_df['avg_sent_length']=avgsentlength\n",
    "cr_df['avg_sent_length'] = cr_df['avg_sent_length'].fillna(0)\n",
    "cr_df['avg_sent_length'] = cr_df['avg_sent_length'].map(\"{:.2f}\".format)\n",
    "cr_df['avg_sent_length'] = cr_df['avg_sent_length'].map(float)\n",
    "cr_df.head()"
   ]
  },
  {
   "cell_type": "markdown",
   "id": "aa2df8ad",
   "metadata": {},
   "source": [
    "Let's take a look at some of these sentences"
   ]
  },
  {
   "cell_type": "code",
   "execution_count": null,
   "id": "4fb27076",
   "metadata": {},
   "outputs": [],
   "source": [
    "cr_df['avg_sent_length'].describe()"
   ]
  },
  {
   "cell_type": "code",
   "execution_count": null,
   "id": "a945230d",
   "metadata": {},
   "outputs": [],
   "source": [
    "#LOTS of single word sentences, not surprising!\n",
    "cr_df[cr_df['avg_sent_length']==1]"
   ]
  },
  {
   "cell_type": "code",
   "execution_count": null,
   "id": "751239c1",
   "metadata": {},
   "outputs": [],
   "source": [
    "#but what about that one long sentence?\n",
    "cr_df[cr_df['avg_sent_length']==116]"
   ]
  },
  {
   "cell_type": "code",
   "execution_count": null,
   "id": "8fcfb228",
   "metadata": {},
   "outputs": [],
   "source": [
    "cr_df.speech[354187]"
   ]
  },
  {
   "cell_type": "markdown",
   "id": "864a0c66",
   "metadata": {},
   "source": [
    "This makes sense to me! Looking into it a bit further it looks like Sam was wanting to make some alterations to his character (Nott)'s crossbow which required a skill check. He rolled a 16 (not bad) and Matt narrated the results of his efforts.\n",
    "\n",
    "Not surprising that the narrator would narrate at length sometimes!\n",
    "\n",
    "What is interesting is that, by written standards, it's such a run-on sentence. However, this is how the description was delivered, and was accurate to have been transcribed this way, and as a result, pinged in the data as one very long sentence!"
   ]
  },
  {
   "cell_type": "code",
   "execution_count": null,
   "id": "d05e53e8",
   "metadata": {},
   "outputs": [],
   "source": [
    "sentcount = pd.DataFrame(cr_df.groupby('name').sents_count.sum())\n",
    "sentcount = sentcount.reset_index()\n",
    "sentcount = sentcount.sort_values('sents_count', ascending=False)"
   ]
  },
  {
   "cell_type": "code",
   "execution_count": null,
   "id": "3ce10d40",
   "metadata": {},
   "outputs": [],
   "source": [
    "plt.pie(sentcount['sents_count'], labels=sentcount['name'], autopct='%1.1f%%')\n",
    "plt.axis('equal')\n",
    "plt.title('Sentences per Participant')\n",
    "plt.show()"
   ]
  },
  {
   "cell_type": "markdown",
   "id": "b78a64ef",
   "metadata": {},
   "source": [
    "### Average sentence length per speaker"
   ]
  },
  {
   "cell_type": "code",
   "execution_count": null,
   "id": "1304a0fb",
   "metadata": {},
   "outputs": [],
   "source": [
    "slen = pd.DataFrame(cr_df.groupby('name').avg_sent_length.mean())\n",
    "slen = slen.reset_index()\n",
    "slen['avg_sent_length'] = slen['avg_sent_length'].map(\"{:.2f}\".format)\n",
    "slen['avg_sent_length'] = slen['avg_sent_length'].map(float)\n",
    "slen = slen.sort_values('avg_sent_length', ascending=False)"
   ]
  },
  {
   "cell_type": "code",
   "execution_count": null,
   "id": "5a89ebb8",
   "metadata": {},
   "outputs": [],
   "source": [
    "avgsents = slen[slen['name'].isin(['MATT', 'LIAM', 'TALIESIN', 'LAURA', 'TRAVIS', 'MARISHA', 'SAM', 'ASHLEY'])]\n",
    "avgsents"
   ]
  },
  {
   "cell_type": "code",
   "execution_count": null,
   "id": "02cd9687",
   "metadata": {},
   "outputs": [],
   "source": [
    "slenplot = sns.barplot(avgsents, x=\"name\", y=\"avg_sent_length\", hue=\"avg_sent_length\", dodge=False)\n",
    "slenplot.set_title(\"Avg Sentence Length per Participant\")\n",
    "sns.move_legend(slenplot, \"upper left\", bbox_to_anchor=(1, 1), reverse=True)\n",
    "plt.show()"
   ]
  },
  {
   "cell_type": "markdown",
   "id": "9696ce17",
   "metadata": {},
   "source": [
    "I had the thought... so many of the sentences in this data are extremely short, an utterance to be sure but when looking at who has longer sentence, I wanted to eliminate the shortest utterances that we've seen are confirmations, agreement, or one or two word chiming in. If we get rid of these shortest utterances, does that drastically change anything? \n",
    "\n",
    "I chose to measure sentences only 5 words and longer because this tokenized list still included punctuation, so anything under 5 tokens is likely a 2-3 word utterance with punctuation."
   ]
  },
  {
   "cell_type": "code",
   "execution_count": null,
   "id": "91d79e93",
   "metadata": {},
   "outputs": [],
   "source": [
    "senttoks = [[nltk.word_tokenize(s) for s in x] for x in sents]  #word tokenize per sentence \n",
    "longsents = [[s for s in x if len(s) >= 5] for x in senttoks]  #select for sentences only 5 words or longer\n",
    "longwords = [[len(w) for w in s] for s in longsents]   #word count per sentence in sents 5 words or longer\n",
    "longwords2 = [sum(s) for s in longwords]  #total word count for all sents 5 words or longer"
   ]
  },
  {
   "cell_type": "code",
   "execution_count": null,
   "id": "3a254b1e",
   "metadata": {},
   "outputs": [],
   "source": [
    "countsents = [len(s) for s in longsents] #count of sents >5 word long"
   ]
  },
  {
   "cell_type": "code",
   "execution_count": null,
   "id": "831ef5d4",
   "metadata": {},
   "outputs": [],
   "source": [
    "avglongsent = [a/b if b else 0 for a,b in zip(longwords2,countsents)]\n",
    "cr_df['avglongsent'] = avglongsent"
   ]
  },
  {
   "cell_type": "code",
   "execution_count": null,
   "id": "30df401e",
   "metadata": {},
   "outputs": [],
   "source": [
    "slonglen = pd.DataFrame(cr_df.groupby('name').avglongsent.mean())\n",
    "slonglen = slonglen.reset_index()\n",
    "slonglen['avglongsent'] = slonglen['avglongsent'].map(\"{:.2f}\".format)\n",
    "slonglen['avglongsent'] = slonglen['avglongsent'].map(float)\n",
    "slonglen = slonglen.sort_values('avglongsent', ascending=False)\n",
    "avglong = slonglen[slonglen['name'].isin(['MATT', 'LIAM', 'TALIESIN', 'LAURA', 'TRAVIS', 'MARISHA', 'SAM', 'ASHLEY'])]"
   ]
  },
  {
   "cell_type": "code",
   "execution_count": null,
   "id": "38986412",
   "metadata": {},
   "outputs": [],
   "source": [
    "slongplot = sns.barplot(avglong, x=\"name\", y=\"avglongsent\", hue=\"avglongsent\", dodge=False)\n",
    "slongplot.set_title(\"Average Sent Length 5+ Tokens per Participant\")\n",
    "sns.move_legend(slongplot, \"upper left\", bbox_to_anchor=(1, 1), reverse=True)\n",
    "plt.show()"
   ]
  },
  {
   "cell_type": "code",
   "execution_count": null,
   "id": "e045f9f5",
   "metadata": {},
   "outputs": [],
   "source": [
    "cr_df = cr_df.drop('avglongsent', axis=1) #again we don't want this col it was just for a quick look"
   ]
  },
  {
   "cell_type": "markdown",
   "id": "69b7ae6d",
   "metadata": {},
   "source": [
    "When removing shorter utterances, every participant's everage sentence length increases a bit. Nothing drastic happens as far as who has longer or shorter sentences though, so there's not a standout here of one participant with so many single word - three word utterances that it drastically affects their average length. Matt, the DM, actually shows the biggest change in average sentence length, from 8.6 words to 10.03."
   ]
  },
  {
   "cell_type": "markdown",
   "id": "f8967c23",
   "metadata": {},
   "source": [
    "## Initial Conlusions\n",
    "\n",
    "My major takeaways from the data in Part 1 are:\n",
    "\n",
    "1. DM leading<br>\n",
    "The DM leads in all speech aspects, word token and type count, speech turns, sentence count, and average sentence length. With roughly a quarter of all speech turns belonging to him, I find that to be a reasonable ratio as the narrator of the entire story.<br>\n",
    "<br>\n",
    "2. Player speech distribution<br>\n",
    "Total player speech distribution is more even than first glance implies. Players with the most speech turns tend to also have produced the highest word token and sentence counts as well, which is not surprising. However, players among the lowest portions of speech turns and word token counts take the lead in average sentence length.<br>\n",
    "To me, this implies that players who aren't speaking often, whenever they *do* speak up, are given the time and space to really take their moment and speak. Some familiarity with the show helps to support this theory. Every player character has memorable moments, but Liam and Taliesin's characters, in my memory, have memorable *speeches*."
   ]
  },
  {
   "cell_type": "markdown",
   "id": "5390f9fe",
   "metadata": {},
   "source": [
    "## Dividing the data by group\n",
    "\n",
    "To take a look at the *dynamics* of a D&D table, I want to look at some of the metrics I've just built up when split by gender, and when split by role (DM or player). \n",
    "\n",
    "I've said it before, but I want to repeat it. There are four players at this table who are men, three who are women, and the DM is a man. We've already seen that, despite being outnumbered, Matt contributes an impressive amount of speech to the table. This group is also pretty large for a game like this, good friends and professionals who have played together for years at this point. This familiarity allows for a gracious table where everyone gets a chance to participate."
   ]
  },
  {
   "cell_type": "code",
   "execution_count": null,
   "id": "08360911",
   "metadata": {},
   "outputs": [],
   "source": [
    "#we made this split before, but it excluded some important columns, so we're doing it again\n",
    "ashley = pd.DataFrame(cr_df[cr_df['name']=='ASHLEY'])\n",
    "matt = pd.DataFrame(cr_df[cr_df['name']=='MATT'])\n",
    "marisha = pd.DataFrame(cr_df[cr_df['name']=='MARISHA'])\n",
    "taliesin = pd.DataFrame(cr_df[cr_df['name']=='TALIESIN'])\n",
    "sam = pd.DataFrame(cr_df[cr_df['name']=='SAM'])\n",
    "liam = pd.DataFrame(cr_df[cr_df['name']=='LIAM'])\n",
    "laura = pd.DataFrame(cr_df[cr_df['name']=='LAURA'])\n",
    "travis = pd.DataFrame(cr_df[cr_df['name']=='TRAVIS'])"
   ]
  },
  {
   "cell_type": "code",
   "execution_count": null,
   "id": "a26c4319",
   "metadata": {},
   "outputs": [],
   "source": [
    "women = [ashley, marisha, laura]\n",
    "women_df = pd.concat(women)\n",
    "\n",
    "men = [taliesin, sam, liam, travis]\n",
    "men_df = pd.concat(men)\n",
    "\n",
    "other = cr_df[~cr_df['name'].isin(['MATT', 'LIAM', 'TALIESIN', 'LAURA', 'TRAVIS', 'MARISHA', 'SAM', 'ASHLEY'])]\n",
    "#everyone who is not a main player, for the sake of graphs truly representing all data"
   ]
  },
  {
   "cell_type": "markdown",
   "id": "696ae406",
   "metadata": {},
   "source": [
    "and the DM data is obviously just..... matt"
   ]
  },
  {
   "cell_type": "markdown",
   "id": "0abada22",
   "metadata": {},
   "source": [
    "## Re-measuring\n",
    "\n",
    "Who is talking more between groups, who says more words, has longer sentences? \n",
    "\n",
    "I'm going to re-measure for total line counts, word counts, and average sentence lengths.\n",
    "\n",
    "For these measurements, to get the true scope of *total* counts, I created an \"other\" category, for all participants who are not the main cast. It creates a minimal dent, but I wanted an accurate measurement. "
   ]
  },
  {
   "cell_type": "markdown",
   "id": "5e9e650d",
   "metadata": {},
   "source": [
    "### Lines"
   ]
  },
  {
   "cell_type": "code",
   "execution_count": null,
   "id": "9683bdaa",
   "metadata": {},
   "outputs": [],
   "source": [
    "#total number of lines/speech turns for all women\n",
    "womenlcount = women_df[['speech']].copy()\n",
    "womenlcount = womenlcount[womenlcount['speech'] != '']\n",
    "womenlcount['val'] = 'women'\n",
    "womenlcount = pd.DataFrame(womenlcount['speech'].groupby(womenlcount['val']).count())\n",
    "womenlcount = womenlcount.reset_index()\n",
    "womenlcount['speech']"
   ]
  },
  {
   "cell_type": "code",
   "execution_count": null,
   "id": "5f3c5b87",
   "metadata": {},
   "outputs": [],
   "source": [
    "#total number of lines/speech turns for men, not including the DM\n",
    "menlcount = men_df[['speech']].copy()\n",
    "menlcount = menlcount[menlcount['speech'] != '']\n",
    "menlcount['val'] = 'men'\n",
    "menlcount = pd.DataFrame(menlcount['speech'].groupby(menlcount['val']).count())\n",
    "menlcount = menlcount.reset_index()\n",
    "menlcount['speech']"
   ]
  },
  {
   "cell_type": "code",
   "execution_count": null,
   "id": "0a4b4263",
   "metadata": {},
   "outputs": [],
   "source": [
    "mattlcount = matt[['speech']].copy()\n",
    "mattlcount = mattlcount[mattlcount['speech'] != '']\n",
    "mattlcount['val'] = 'DM'\n",
    "mattlcount = pd.DataFrame(mattlcount['speech'].groupby(mattlcount['val']).count())\n",
    "mattlcount = mattlcount.reset_index()\n",
    "mattlcount['speech']"
   ]
  },
  {
   "cell_type": "code",
   "execution_count": null,
   "id": "d2f690e2",
   "metadata": {},
   "outputs": [],
   "source": [
    "othlcount = other[['speech']].copy()\n",
    "othlcount = othlcount[othlcount['speech'] != '']\n",
    "othlcount['val'] = 'other'\n",
    "othlcount = pd.DataFrame(othlcount['speech'].groupby(othlcount['val']).count())\n",
    "othlcount = othlcount.reset_index()"
   ]
  },
  {
   "cell_type": "markdown",
   "id": "764653ee",
   "metadata": {},
   "source": [
    "Now, let's keep in mind the *total* lines we already calculated."
   ]
  },
  {
   "cell_type": "code",
   "execution_count": null,
   "id": "4619cd5d",
   "metadata": {},
   "outputs": [],
   "source": [
    "#from the beginning of the notebook, blank lines already removed\n",
    "lcount['speech'].count()"
   ]
  },
  {
   "cell_type": "code",
   "execution_count": null,
   "id": "ba6e863e",
   "metadata": {},
   "outputs": [],
   "source": [
    "mnw=[womenlcount, menlcount]\n",
    "dmnw = [womenlcount, menlcount, mattlcount, othlcount]\n",
    "\n",
    "mnwlines = pd.concat(mnw)\n",
    "all_lines = pd.concat(dmnw)"
   ]
  },
  {
   "cell_type": "code",
   "execution_count": null,
   "id": "e09189ca",
   "metadata": {},
   "outputs": [],
   "source": [
    "fig, (ax1,ax2) = plt.subplots(1,2,figsize=(10,10))\n",
    "\n",
    "labels = mnwlines['val']\n",
    "values = mnwlines['speech']\n",
    "ax1.pie(values,labels = labels, autopct = '%1.1f%%') #plot first pie\n",
    "ax1.set_title('Total Speech Turns by Gender (Among Players)')\n",
    "\n",
    "\n",
    "labels = all_lines['val']\n",
    "values = all_lines['speech']\n",
    "ax2.pie(values,labels = labels, autopct = '%1.1f%%') #plot second pie\n",
    "ax2.set_title('Total Speech Turns by Gender (Including DM)')"
   ]
  },
  {
   "cell_type": "markdown",
   "id": "b2fd9c48",
   "metadata": {},
   "source": [
    "### Speech turn % of totals\n",
    "\n",
    "- Women players (3 people) in Critical Role Campaign 2 contributed **29.3%** of all speech turns among players\n",
    "- Men players (4 people) in Critical Role Campaign 2 contributed **42.2%** of all speech turns in total\n",
    "- Matt, the DM, singularly contributed almost **26%** of all speech turns\n",
    "\n",
    "Men are producing 12.9% more lines than women in total. <br>\n",
    "Between only men and women, men are producing 18.2% more lines than women<br>\n",
    "*(keeping in mind again, there is one more man than there are women)*"
   ]
  },
  {
   "cell_type": "markdown",
   "id": "beb0570b",
   "metadata": {},
   "source": [
    "### Word Count"
   ]
  },
  {
   "cell_type": "code",
   "execution_count": null,
   "id": "5ff253b9",
   "metadata": {},
   "outputs": [],
   "source": [
    "womwcount = women_df[['word_count']].copy()\n",
    "womwcount['val']='women'\n",
    "womwcount = pd.DataFrame(womwcount['word_count'].groupby(womwcount['val']).sum())\n",
    "womwcount = womwcount.reset_index()\n",
    "womwcount.word_count"
   ]
  },
  {
   "cell_type": "code",
   "execution_count": null,
   "id": "723c1724",
   "metadata": {},
   "outputs": [],
   "source": [
    "menwcount = men_df[['word_count']].copy()\n",
    "menwcount['val']='men'\n",
    "menwcount = pd.DataFrame(menwcount['word_count'].groupby(menwcount['val']).sum())\n",
    "menwcount = menwcount.reset_index()\n",
    "menwcount.word_count"
   ]
  },
  {
   "cell_type": "code",
   "execution_count": null,
   "id": "f49d531d",
   "metadata": {},
   "outputs": [],
   "source": [
    "dmwcount = matt[['word_count']].copy()\n",
    "dmwcount['val']='DM'\n",
    "dmwcount = pd.DataFrame(dmwcount['word_count'].groupby(dmwcount['val']).sum())\n",
    "dmwcount = dmwcount.reset_index()\n",
    "dmwcount.word_count"
   ]
  },
  {
   "cell_type": "code",
   "execution_count": null,
   "id": "378fd093",
   "metadata": {},
   "outputs": [],
   "source": [
    "othwcount = other[['word_count']].copy()\n",
    "othwcount = othwcount[othwcount['word_count'] != '']\n",
    "othwcount['val'] = 'other'\n",
    "othwcount = pd.DataFrame(othwcount['word_count'].groupby(othwcount['val']).count())\n",
    "othwcount = othwcount.reset_index()"
   ]
  },
  {
   "cell_type": "code",
   "execution_count": null,
   "id": "766393bb",
   "metadata": {},
   "outputs": [],
   "source": [
    "mnwc = [womwcount, menwcount]\n",
    "dmnwc = [womwcount, menwcount, dmwcount, othwcount]\n",
    "\n",
    "mnwcount = pd.concat(mnwc)\n",
    "dmnwcount = pd.concat(dmnwc)"
   ]
  },
  {
   "cell_type": "code",
   "execution_count": null,
   "id": "eb14bd84",
   "metadata": {},
   "outputs": [],
   "source": [
    "fig, (ax1,ax2) = plt.subplots(1,2,figsize=(10,10))\n",
    "\n",
    "labels = mnwcount['val']\n",
    "values = mnwcount['word_count']\n",
    "ax1.pie(values,labels = labels, autopct = '%1.1f%%') #plot first pie\n",
    "ax1.set_title('Total Words by Gender (Excluding DM)')\n",
    "\n",
    "\n",
    "labels = dmnwcount['val']\n",
    "values = dmnwcount['word_count']\n",
    "ax2.pie(values,labels = labels, autopct = '%1.1f%%') #plot second pie\n",
    "ax2.set_title('Total Words by Gender (Including DM)')"
   ]
  },
  {
   "cell_type": "markdown",
   "id": "b217f07a",
   "metadata": {},
   "source": [
    "### Word % of totals\n",
    "\n",
    "- Women players (3 people) in Critical Role Campaign 2 contributed **24%** of all spoken words \n",
    "- Men players (4 people) in Critical Role Campaign 2 contributed **37.4%** of all spoken words\n",
    "- Matt, the DM, singularly contributed almost **38.4%** of all spoken words! So many words!\n",
    "\n",
    "Men are producing 13.4% more words than women in total. <br>\n",
    "Between only men and women, men are producing 21.8% more words than women<br>\n",
    "*(keeping in mind again, there is one more man than there are women)*"
   ]
  },
  {
   "cell_type": "markdown",
   "id": "b7923119",
   "metadata": {},
   "source": [
    "Average word lengths were not that interesting, ~3.6 for men and women and ~3.8 for the DM. [This](https://wolfgarbe.medium.com/the-average-word-length-in-english-language-is-4-7-35750344870f) article states that the average word length in the English language is 4.7 characters. CR words on average are pretty short! Not surprising, considering the number of short function words being repeated in the data"
   ]
  },
  {
   "cell_type": "markdown",
   "id": "0a300a0c",
   "metadata": {},
   "source": [
    "### Sentence Length"
   ]
  },
  {
   "cell_type": "code",
   "execution_count": null,
   "id": "c13e5a10",
   "metadata": {},
   "outputs": [],
   "source": [
    "womscount = women_df[['avg_sent_length']].copy()\n",
    "womscount['val']='women'\n",
    "womscount = pd.DataFrame(womscount['avg_sent_length'].groupby(womscount['val']).mean())\n",
    "womscount = womscount.reset_index()\n",
    "womscount.avg_sent_length"
   ]
  },
  {
   "cell_type": "code",
   "execution_count": null,
   "id": "4a2d99e4",
   "metadata": {},
   "outputs": [],
   "source": [
    "menscount = men_df[['avg_sent_length']].copy()\n",
    "menscount['val']='men'\n",
    "menscount = pd.DataFrame(menscount['avg_sent_length'].groupby(menscount['val']).mean())\n",
    "menscount = menscount.reset_index()\n",
    "menscount.avg_sent_length"
   ]
  },
  {
   "cell_type": "code",
   "execution_count": null,
   "id": "02769338",
   "metadata": {},
   "outputs": [],
   "source": [
    "mattscount = matt[['avg_sent_length']].copy()\n",
    "mattscount['val']='DM'\n",
    "mattscount = pd.DataFrame(mattscount['avg_sent_length'].groupby(mattscount['val']).mean())\n",
    "mattscount = mattscount.reset_index()\n",
    "mattscount.avg_sent_length"
   ]
  },
  {
   "cell_type": "code",
   "execution_count": null,
   "id": "3cd6df17",
   "metadata": {},
   "outputs": [],
   "source": [
    "dmnws = [womscount, menscount, mattscount]\n",
    "\n",
    "dmnwslen = pd.concat(dmnws)\n",
    "\n",
    "dmnwslen['avg_sent_length'] = dmnwslen['avg_sent_length'].map(\"{:.2f}\".format)\n",
    "dmnwslen['avg_sent_length'] = dmnwslen['avg_sent_length'].map(float)"
   ]
  },
  {
   "cell_type": "code",
   "execution_count": null,
   "id": "a7eeabfa",
   "metadata": {},
   "outputs": [],
   "source": [
    "dmnwslenplot = sns.barplot(dmnwslen, x=\"val\", y=\"avg_sent_length\", hue=\"avg_sent_length\", dodge=False)\n",
    "dmnwslenplot.set_title(\"Average Sent Length by Gender (with DM)\")\n",
    "sns.move_legend(dmnwslenplot, \"upper left\", bbox_to_anchor=(1, 1), reverse=True)\n",
    "plt.show()"
   ]
  },
  {
   "cell_type": "markdown",
   "id": "c54a636a",
   "metadata": {},
   "source": [
    "### Sentence length % of totals\n",
    "\n",
    "\n",
    "- Women players (3 people) in Critical Role Campaign 2 have an average of 5.79 words per sentence\n",
    "- Men players (4 people) in Critical Role Campaign 2 have an average of 6.14 words per sentence\n",
    "- Matt, the DM, has an average of 8.6 words per sentence\n",
    "\n",
    "As the narrator, I find it reasonable that a DM would have a longer average sentence length than players. Interestingly, despite differences in number and previously mentioned attendance, there is not *that* much difference in average sentence length between men and women. Despite men having 13% more spoken words, it seems that players tend to have a nice average length when speaking."
   ]
  },
  {
   "cell_type": "markdown",
   "id": "df7bad48",
   "metadata": {},
   "source": [
    "## Grouped Conclusions\n",
    "\n",
    "As I've mentioned, I find it unsurprising that Matt, the DM leads by a pretty big margin regardless of the measurement being looked at. \n",
    "\n",
    "Between men and women players, both word count and speech turn totals land at around a 60/40 split with men speaking more. However, when looking at those same metrics per player in Part 1 neither one appears to be dominated by players of either gender classification. Actually, they seem to rotate back and forth between both. In my consideration, this split comes down more to the elements I've discussed earlier in this notebook: attendance, role, and character personality types. \n",
    "\n",
    "We observed that some of the players who speak less frequently (by speech turn) moved to the front when it comes to average sentence length. Even with that in mind, though, the average sentence length between players is not even a full word on average longer than one or the other. I think that this highlights that the true difference in average sentence length falls between player and DM."
   ]
  },
  {
   "cell_type": "markdown",
   "id": "5a203213",
   "metadata": {},
   "source": [
    "## Hedging\n",
    "\n",
    "A \"softening\" of language associated with cautiousness, or being unsure of oneself. Think \"evidence *seems* to suggest\" or \"it *might* be the case that\". Hedging and gender has been a topic of study for [decades](https://www.scirp.org/journal/paperinformation?paperid=103664), but it's not a simple as saying women or men use more hedging language. They use different hedging language options depending on setting, formality, politeness expectations, and for different purposes. \n",
    "\n",
    "In this setting, I anticipate a high number of hedging phrases to appear in DM speech than among the players of any gender.\n",
    "This is because it's common for a player to prompt a dice roll by asking about their surroundings. Depending on how well they roll, it's common for the DM to say something like \"it appears to be unguarded\" or \"it seems safe, you don't find any traps\" to narrate the results. If a player rolls poorly when looking for traps, regardless of if there are or are not traps, the character they're playing doesn't know about the roll. All they know is that they looked for traps and didn't find any. Seems like it's all clear. \n",
    "\n",
    "We're going to be looking at a list of single words, and three phrases using list comprehension and string counts."
   ]
  },
  {
   "cell_type": "code",
   "execution_count": null,
   "id": "c4d820d6",
   "metadata": {},
   "outputs": [],
   "source": [
    "hedge = ['maybe', 'might', 'perhaps', 'possibly', 'appears', 'seems', 'suggests', 'tends']  #hedging words"
   ]
  },
  {
   "cell_type": "code",
   "execution_count": null,
   "id": "5e25860d",
   "metadata": {},
   "outputs": [],
   "source": [
    "womlist = women_df['speech'].tolist()   #get the speech column from the women only df\n",
    "womlist = [w.lower() if isinstance(w, str) else w for w in womlist]   #if it is a str, lowercase and return full text\n",
    "womtoks = [nltk.word_tokenize(s) for s in womlist]   #tokenize\n",
    "womtoks = list(itertools.chain(*womtoks))  #flatten list of lists into one list"
   ]
  },
  {
   "cell_type": "code",
   "execution_count": null,
   "id": "0627309a",
   "metadata": {},
   "outputs": [],
   "source": [
    "womhedg = [w for w in womtoks if w in hedge]  #return list of words in women_df speech that appear in hedging list\n",
    "len(womhedg)   #get total count"
   ]
  },
  {
   "cell_type": "code",
   "execution_count": null,
   "id": "2b9b9e17",
   "metadata": {},
   "outputs": [],
   "source": [
    "print(women_df['speech'].str.count(r'I guess').sum())   #get count for each hedging phrase\n",
    "print(women_df['speech'].str.count(r'I think').sum())\n",
    "print(women_df['speech'].str.count(r'[C|c]ould be').sum())"
   ]
  },
  {
   "cell_type": "code",
   "execution_count": null,
   "id": "c5fb2bc4",
   "metadata": {},
   "outputs": [],
   "source": [
    "(4921/865969)*1000  #total hedging occurences/total words * 1000"
   ]
  },
  {
   "cell_type": "code",
   "execution_count": null,
   "id": "f854f9a4",
   "metadata": {},
   "outputs": [],
   "source": [
    "menlist = men_df['speech'].tolist()\n",
    "menlist = [w.lower() if isinstance(w, str) else w for w in menlist]\n",
    "mentoks = [nltk.word_tokenize(s) for s in menlist]\n",
    "mentoks = list(itertools.chain(*mentoks))"
   ]
  },
  {
   "cell_type": "code",
   "execution_count": null,
   "id": "2baabf7e",
   "metadata": {},
   "outputs": [],
   "source": [
    "menhedg = [w for w in mentoks if w in hedge]\n",
    "len(menhedg)"
   ]
  },
  {
   "cell_type": "code",
   "execution_count": null,
   "id": "11d7174f",
   "metadata": {},
   "outputs": [],
   "source": [
    "print(men_df['speech'].str.count(r'I guess').sum())\n",
    "print(men_df['speech'].str.count(r'I think').sum())\n",
    "print(men_df['speech'].str.count(r'[C|c]ould be').sum())"
   ]
  },
  {
   "cell_type": "code",
   "execution_count": null,
   "id": "e67e134b",
   "metadata": {},
   "outputs": [],
   "source": [
    "(7769/1349707)*1000"
   ]
  },
  {
   "cell_type": "code",
   "execution_count": null,
   "id": "ecd25394",
   "metadata": {},
   "outputs": [],
   "source": [
    "mattlist = matt['speech'].tolist()\n",
    "mattlist = [w.lower() if isinstance(w, str) else w for w in mattlist]\n",
    "matttoks = [nltk.word_tokenize(s) for s in mattlist]\n",
    "matttoks = list(itertools.chain(*matttoks))"
   ]
  },
  {
   "cell_type": "code",
   "execution_count": null,
   "id": "333b639a",
   "metadata": {},
   "outputs": [],
   "source": [
    "matthedg = [w for w in matttoks if w in hedge]\n",
    "len(matthedg)"
   ]
  },
  {
   "cell_type": "code",
   "execution_count": null,
   "id": "5901acb9",
   "metadata": {},
   "outputs": [],
   "source": [
    "print(matt['speech'].str.count(r'I guess').sum())\n",
    "print(matt['speech'].str.count(r'I think').sum())\n",
    "print(matt['speech'].str.count(r'[C|c]ould be').sum())"
   ]
  },
  {
   "cell_type": "code",
   "execution_count": null,
   "id": "ca954f4a",
   "metadata": {},
   "outputs": [],
   "source": [
    "(3656/1385768)*1000"
   ]
  },
  {
   "cell_type": "markdown",
   "id": "21c5842e",
   "metadata": {},
   "source": [
    "### Hedging Conclusions\n",
    "\n",
    "Women have 4921 instances of hedging phrases<br>\n",
    "Men have 7769 instances<br>\n",
    "The DM, Matt, has 3656 instances\n",
    "\n",
    "### Hedging Frequency\n",
    "\n",
    "I'm be using normalized frequency to determine a frequency per thousand words for a reasonable measurement of how often jargon is appearing per group. Information about calculating this can be found [here](https://www.english-linguistics.uni-mainz.de/corpus-linguistics/american-and-british-english-corpora/more-information-about-coca-and-coha/)\n",
    "\n",
    "With the raw count of hedging words & phrases as high as it is, I chose to calculate per 1 thousand words.<br>\n",
    "For every thousand words spoken per group:<br>\n",
    "**5.68** words spoken by women, <br>\n",
    "**5.75** words spoken by men, and<br>\n",
    "**2.6** words spoken by the DM are among the scanned for hedging words and phrases.\n",
    "\n",
    "These totals are not what I anticipated! both groups of players express roughly equal amounts of hedging phrases, and the DM far less. However, context is important here as well. The players may engage in more hedging not out of politeness or softening of their language, but because there is a genuine lack of sureness in their speech. They don't always know what is happening in a scene, and the characters they're playing can especially be unsure.\n",
    "\n",
    "However, when you consider that the DM is only one person and the other divisions are 3 or 4 people, he does have quite a lot all on his own! "
   ]
  },
  {
   "cell_type": "markdown",
   "id": "aa0e0d63",
   "metadata": {},
   "source": [
    "## Jargon\n",
    "\n",
    "Dungeons & Dragons has a pretty unique vocabulary that can be tricky to learn and understand for new players and can be relatively unclear in meaning to those unfamiliar with the game. \n",
    "\n",
    "See the process I used to make a list of D&D jargon in my notebook [here](https://github.com/Data-Science-for-Linguists-2025/Critical-Role-Analysis/blob/main/notebooks/DND_Jargon.ipynb). Extracting words from the Player's Handbook that could not be dound in the Norvig Google unigram frequency list. It's not a complete collection of words I would consider \"jargon-y\" to the game, but it's a pretty good starting point."
   ]
  },
  {
   "cell_type": "code",
   "execution_count": null,
   "id": "5ee21501",
   "metadata": {},
   "outputs": [],
   "source": [
    "jargon = pd.read_pickle('../pickle_jar/jargonlist.pkl') #jargon list as created in PHB_Jargon notebook\n",
    "jargon[453:458]"
   ]
  },
  {
   "cell_type": "code",
   "execution_count": null,
   "id": "f360dec8",
   "metadata": {},
   "outputs": [],
   "source": [
    "womjarg = [w for w in womtoks if w in jargon]  #using the same method as hedging, list comprehend for jargon examples\n",
    "len(womjarg)"
   ]
  },
  {
   "cell_type": "code",
   "execution_count": null,
   "id": "89d09914",
   "metadata": {},
   "outputs": [],
   "source": [
    "menjarg = [w for w in mentoks if w in jargon]\n",
    "len(menjarg)"
   ]
  },
  {
   "cell_type": "code",
   "execution_count": null,
   "id": "3b75aae9",
   "metadata": {},
   "outputs": [],
   "source": [
    "mattjarg = [w for w in matttoks if w in jargon]\n",
    "len(mattjarg)"
   ]
  },
  {
   "cell_type": "markdown",
   "id": "1540097c",
   "metadata": {},
   "source": [
    "### Jargon Frequency\n",
    "\n",
    "Since our datasets, both between podcasts and between divisions of men, women, and DM are so disparate, I will be using normalized frequency again to calculate jargon frequency."
   ]
  },
  {
   "cell_type": "code",
   "execution_count": null,
   "id": "df665361",
   "metadata": {},
   "outputs": [],
   "source": [
    "(264/865969)*1000000  #total instances of jargon from women / total words from women"
   ]
  },
  {
   "cell_type": "code",
   "execution_count": null,
   "id": "c28f3a89",
   "metadata": {},
   "outputs": [],
   "source": [
    "(385/1349707)*1000000  #for men"
   ]
  },
  {
   "cell_type": "code",
   "execution_count": null,
   "id": "53794f78",
   "metadata": {},
   "outputs": [],
   "source": [
    "(364/1385768)*1000000   #for dm"
   ]
  },
  {
   "cell_type": "markdown",
   "id": "60f8a37c",
   "metadata": {},
   "source": [
    "### Jargon Results\n",
    "\n",
    "With the range of total words per group being in the 860,000-1.38 million words, I've chosen to calculate the frequency of jargon per million words. \n",
    "\n",
    "What this means is that for every million words spoken by the members of the group in question:<br>\n",
    "**304.8** words spoken by the women players,<br>\n",
    "**285.2** words spoken by men players, and<br>\n",
    "**262.6** words spoken by the DM will be from this jargon list.<br>\n",
    "<br>\n",
    "<br>\n",
    "Which words from the list of D&D jargon are being used? "
   ]
  },
  {
   "cell_type": "code",
   "execution_count": null,
   "id": "8f55374e",
   "metadata": {},
   "outputs": [],
   "source": [
    "from wordcloud import WordCloud"
   ]
  },
  {
   "cell_type": "code",
   "execution_count": null,
   "id": "a9e25956",
   "metadata": {},
   "outputs": [],
   "source": [
    "unique_string=(\" \").join(womjarg)\n",
    "wordcloud = WordCloud(background_color='white', width = 1000, height = 500).generate(unique_string)\n",
    "plt.figure(figsize=(11,5))\n",
    "plt.imshow(wordcloud)\n",
    "plt.axis(\"off\")\n",
    "plt.savefig(\"your_file_name\"+\".png\", bbox_inches='tight')\n",
    "plt.show()"
   ]
  },
  {
   "cell_type": "markdown",
   "id": "8a8835a5",
   "metadata": {},
   "source": [
    "### Women\n",
    "\n",
    "Among the women, Laura played a tiefling and a healer, she would have been casting cantrips and spells like thaumaturgy and revivify quite a lot. Others are common weapons, locations, races, languages etc. "
   ]
  },
  {
   "cell_type": "code",
   "execution_count": null,
   "id": "8431891f",
   "metadata": {},
   "outputs": [],
   "source": [
    "unique_string=(\" \").join(menjarg)\n",
    "wordcloud = WordCloud(background_color='white', width = 1000, height = 500).generate(unique_string)\n",
    "plt.figure(figsize=(11,5))\n",
    "plt.imshow(wordcloud)\n",
    "plt.axis(\"off\")\n",
    "plt.savefig(\"your_file_name\"+\".png\", bbox_inches='tight')\n",
    "plt.show()"
   ]
  },
  {
   "cell_type": "markdown",
   "id": "d1bf63a5",
   "metadata": {},
   "source": [
    "### Men\n",
    "\n",
    "Among the men, one of them played a tiefling for a short time (27-ish episodes). One played a wizard, one was a healer, and the other two were fighting types with magic abilities. It's not a shock, then, that again cantrip would be used so much. Transmuter is related to the wizard class, enfeeblement is a spell, and agathys is a magical armor one of them had"
   ]
  },
  {
   "cell_type": "code",
   "execution_count": null,
   "id": "f7c40377",
   "metadata": {},
   "outputs": [],
   "source": [
    "unique_string=(\" \").join(mattjarg)\n",
    "wordcloud = WordCloud(background_color='white', width = 1000, height = 500).generate(unique_string)\n",
    "plt.figure(figsize=(11,5))\n",
    "plt.imshow(wordcloud)\n",
    "plt.axis(\"off\")\n",
    "plt.show()"
   ]
  },
  {
   "cell_type": "markdown",
   "id": "f9bcbf89",
   "metadata": {},
   "source": [
    "### DM\n",
    "\n",
    "It appears that a good chunk of the jargon used by the DM comes during combat narrations. Some of the enemies he controls would have all these weapons listed here, or speak undercommon. His cloud has more races listed like lizardfolk, actions like multiattack, and names of gods in D&D lore like Pelor, Tharizdun, Lolth."
   ]
  },
  {
   "cell_type": "markdown",
   "id": "1954d76a",
   "metadata": {},
   "source": [
    "## Readability Metric"
   ]
  },
  {
   "cell_type": "markdown",
   "id": "1524db6c",
   "metadata": {},
   "source": [
    "### Flesch–Kincaid readability test\n",
    "\n",
    "Reminder that the calculation for the readability score is calculated as:<br>\n",
    "<img src=https://wikimedia.org/api/rest_v1/media/math/render/svg/bd4916e193d2f96fa3b74ee258aaa6fe242e110e>\n",
    "\n",
    "and the grade level calculation is:\n",
    "<img src=https://wikimedia.org/api/rest_v1/media/math/render/svg/8e68f5fc959d052d1123b85758065afecc4150c3>\n",
    "\n",
    "Full details about the test can also be found in my notebook [here](https://github.com/Data-Science-for-Linguists-2025/Critical-Role-Analysis/blob/main/notebooks/DND_Jargon.ipynb), but as a basic recap:\n",
    "According to the test's creator, number of appearances of multisyllabic words is a generally reliable indicator of how difficult a document is to read. My intention of using it here is as an analog for how \"approachable\" this kind of D&D language can be to people."
   ]
  },
  {
   "cell_type": "code",
   "execution_count": null,
   "id": "c8489874",
   "metadata": {},
   "outputs": [],
   "source": [
    "from nltk.tokenize import SyllableTokenizer\n",
    "import warnings\n",
    "warnings.filterwarnings('ignore')"
   ]
  },
  {
   "cell_type": "code",
   "execution_count": null,
   "id": "d293473c",
   "metadata": {},
   "outputs": [],
   "source": [
    "SSP = SyllableTokenizer()"
   ]
  },
  {
   "cell_type": "markdown",
   "id": "fffc7c93",
   "metadata": {},
   "source": [
    "### Women"
   ]
  },
  {
   "cell_type": "code",
   "execution_count": null,
   "id": "8cf3355e",
   "metadata": {},
   "outputs": [],
   "source": [
    "wnopunc = [w for w in womtoks if w not in punctuations]  #removing punctuation for syl tokenizer\n",
    "wsyls = [SSP.tokenize(w) for w in wnopunc] #syl tokenize for each tokenized word\n",
    "wsylcount = [len(w) for w in wsyls]   #count syllable per word in full list\n",
    "sum(wsylcount)  #total count all syllables for women"
   ]
  },
  {
   "cell_type": "code",
   "execution_count": null,
   "id": "66a7cc7f",
   "metadata": {},
   "outputs": [],
   "source": [
    "#readability calculation for women speech\n",
    "\n",
    "206.853-(1.015*(865969/145926))-(84.6*(1182614/865969))"
   ]
  },
  {
   "cell_type": "code",
   "execution_count": null,
   "id": "87030e5e",
   "metadata": {},
   "outputs": [],
   "source": [
    "#grade score for women speech \n",
    "\n",
    "(0.39*(865969/145926))+(11.8*(1182614/865969))-15.59"
   ]
  },
  {
   "cell_type": "markdown",
   "id": "9f6dd624",
   "metadata": {},
   "source": [
    "### Men"
   ]
  },
  {
   "cell_type": "code",
   "execution_count": null,
   "id": "664e2a91",
   "metadata": {},
   "outputs": [],
   "source": [
    "mnopunc = [w for w in mentoks if w not in punctuations]  \n",
    "msyls = [SSP.tokenize(w) for w in mnopunc] \n",
    "msylcount = [len(w) for w in msyls]   \n",
    "sum(msylcount) "
   ]
  },
  {
   "cell_type": "code",
   "execution_count": null,
   "id": "35dff945",
   "metadata": {},
   "outputs": [],
   "source": [
    "#readability calculation for men speech\n",
    "\n",
    "206.853-(1.015*(1349707/211423))-(84.6*(1861455/1349707))"
   ]
  },
  {
   "cell_type": "code",
   "execution_count": null,
   "id": "32c473dd",
   "metadata": {},
   "outputs": [],
   "source": [
    "#grade score for men speech \n",
    "\n",
    "(0.39*(1349707/211423))+(11.8*(1861455/1349707))-15.59"
   ]
  },
  {
   "cell_type": "markdown",
   "id": "31a42905",
   "metadata": {},
   "source": [
    "### DM"
   ]
  },
  {
   "cell_type": "code",
   "execution_count": null,
   "id": "1f417a8c",
   "metadata": {},
   "outputs": [],
   "source": [
    "dmnopunc = [w for w in matttoks if w not in punctuations]  \n",
    "dmsyls = [SSP.tokenize(w) for w in dmnopunc] \n",
    "dmsylcount = [len(w) for w in dmsyls]   \n",
    "sum(dmsylcount) "
   ]
  },
  {
   "cell_type": "code",
   "execution_count": null,
   "id": "f0ca62a5",
   "metadata": {},
   "outputs": [],
   "source": [
    "#readability calculation for DM speech\n",
    "\n",
    "206.853-(1.015*(1385768/149314))-(84.6*(2037971/1385768))"
   ]
  },
  {
   "cell_type": "code",
   "execution_count": null,
   "id": "3ad9f4ad",
   "metadata": {},
   "outputs": [],
   "source": [
    "#grade score for DM speech \n",
    "\n",
    "(0.39*(1385768/149314))+(11.8*(2037971/1385768))-15.59"
   ]
  },
  {
   "cell_type": "markdown",
   "id": "aff151e4",
   "metadata": {},
   "source": [
    "## Readability Conclusions\n",
    "\n",
    "At [this](https://en.wikipedia.org/wiki/Flesch%E2%80%93Kincaid_readability_tests) listing, there is a \"reading ease\" table that assigns grade levels to the reading score as calculated, which are generally different than the grade level calculation result. I tend to consider both overall when considering a score, to best get a feel for an accurate measurement. (As accurate as we can hope to be, in this case).\n",
    "\n",
    "In this instance, the results were:\n",
    "Women: 85\n",
    "Men: 83\n",
    "DM: 73\n",
    "\n",
    "For the score conversion from the table linked above, this puts the speech data from Critical Role in a 6th/7th grade difficulty bracket. However, the grade calculation gives a result of around 3rd to 5th grade. \n",
    "\n",
    "As I said, this is a test not intended for spoken data, which I expect would have a much higher appearance of single-syllable words (pronouns, function words, etc) when compared to written language. This would surely affect the scores quite a lot. I take these scores cautiously, even more than I did with the Player's Handbook score I calculated, but it is still interesting to consider. For instance, the fact that the DM has a lower (ie more difficult) readability score than the players indicates, to me, that he is generally using some of the more technical and jargon-y D&D language than they are."
   ]
  },
  {
   "cell_type": "markdown",
   "id": "41b59c75",
   "metadata": {},
   "source": [
    "## Interruptions\n",
    "\n",
    "My original intention starting this project was to investigate for interruptions as part of my study. However, as I dove more and more into the data itself the more apparent it became to me that this would be a more difficult undertaking that I had time for in the scope of this project. \n",
    "\n",
    "1. The group playing here *do* interrupt from time to time, but in general are aware that they are filming a production and need to be heard and understood by the mics in order to convey the full story to their audience. I get the sense that there is a general effort to minimize talking over one another.\n",
    "\n",
    "2. Crosstalk at a D&D table is normal, to a degree. Defined [here](https://rpgmuseum.fandom.com/wiki/Crosstalk) as multiple conversations happening simultaneously, it's not unusual for players to chat or even plan actions and attacks while another player is having a scene with the DM or the action is otherwise not on them. Too much can become an issue, but small amounts are to be expected. However, though it can become disruptive, it's not exactly an interruption...\n",
    "\n",
    "3. The shape of the data is not really conducive to identify when a moment is truly an interruption or when it is crosstalk, or when it is simply overlapping speech. Interruptions are not orthographically represented. The timestamp information is valuable in this, but imperfect, and would require listening to the actual audio to check on any and all instances of speech that looks like an interruption to verify. That's 550 hours of data, too much to undertake for just this project.\n",
    "\n",
    "Just as a quick example, here is a moment from episode 2 of some D&D table chaos. You can see that the timestamps certainly imply there is some overlapping speech here, but is this interruption? Is this just a chaotic moment? How would we classify this?"
   ]
  },
  {
   "cell_type": "code",
   "execution_count": null,
   "id": "ae2ce12c",
   "metadata": {},
   "outputs": [],
   "source": [
    "ep2 = cr_df[cr_df['episode']=='2']\n",
    "ep2 = ep2[['name', 'speech', 'timestamp']]\n",
    "ep2[-130:-120]"
   ]
  },
  {
   "cell_type": "markdown",
   "id": "9d461453",
   "metadata": {},
   "source": [
    "a link to the moment of chaos, just for comparison - this is a good reference point for chaos and overlapping speech\n",
    "\n",
    "https://youtu.be/MPELLuQXVcE?si=13too39HcHj5Cfow&t=14475"
   ]
  }
 ],
 "metadata": {
  "kernelspec": {
   "display_name": "DataSci",
   "language": "python",
   "name": "datasci"
  },
  "language_info": {
   "codemirror_mode": {
    "name": "ipython",
    "version": 3
   },
   "file_extension": ".py",
   "mimetype": "text/x-python",
   "name": "python",
   "nbconvert_exporter": "python",
   "pygments_lexer": "ipython3",
   "version": "3.11.4"
  }
 },
 "nbformat": 4,
 "nbformat_minor": 5
}
