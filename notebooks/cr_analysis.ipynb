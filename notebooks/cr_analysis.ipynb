{
 "cells": [
  {
   "cell_type": "code",
   "execution_count": 1,
   "id": "74d48951",
   "metadata": {},
   "outputs": [],
   "source": [
    "import pickle\n",
    "import pandas as pd\n",
    "import re\n",
    "from matplotlib import pyplot as plt\n",
    "import nltk"
   ]
  },
  {
   "cell_type": "code",
   "execution_count": 2,
   "id": "6f021c2f",
   "metadata": {},
   "outputs": [
    {
     "data": {
      "text/html": [
       "<div>\n",
       "<style scoped>\n",
       "    .dataframe tbody tr th:only-of-type {\n",
       "        vertical-align: middle;\n",
       "    }\n",
       "\n",
       "    .dataframe tbody tr th {\n",
       "        vertical-align: top;\n",
       "    }\n",
       "\n",
       "    .dataframe thead th {\n",
       "        text-align: right;\n",
       "    }\n",
       "</style>\n",
       "<table border=\"1\" class=\"dataframe\">\n",
       "  <thead>\n",
       "    <tr style=\"text-align: right;\">\n",
       "      <th></th>\n",
       "      <th>index</th>\n",
       "      <th>name</th>\n",
       "      <th>text</th>\n",
       "      <th>episode</th>\n",
       "      <th>timestamp</th>\n",
       "      <th>inaudible_speech</th>\n",
       "      <th>nonspeech</th>\n",
       "    </tr>\n",
       "  </thead>\n",
       "  <tbody>\n",
       "    <tr>\n",
       "      <th>0</th>\n",
       "      <td>0</td>\n",
       "      <td>MATT</td>\n",
       "      <td>We've got some cool stuff to talk about. First...</td>\n",
       "      <td>1</td>\n",
       "      <td>00:00:15</td>\n",
       "      <td></td>\n",
       "      <td></td>\n",
       "    </tr>\n",
       "    <tr>\n",
       "      <th>1</th>\n",
       "      <td>1</td>\n",
       "      <td>LAURA</td>\n",
       "      <td>As in nnnn.</td>\n",
       "      <td>1</td>\n",
       "      <td>00:01:21</td>\n",
       "      <td></td>\n",
       "      <td></td>\n",
       "    </tr>\n",
       "    <tr>\n",
       "      <th>2</th>\n",
       "      <td>2</td>\n",
       "      <td>MATT</td>\n",
       "      <td>Nnnn. But yeah, so they're going to be a long-...</td>\n",
       "      <td>1</td>\n",
       "      <td>00:01:24</td>\n",
       "      <td></td>\n",
       "      <td></td>\n",
       "    </tr>\n",
       "    <tr>\n",
       "      <th>3</th>\n",
       "      <td>3</td>\n",
       "      <td>TRAVIS</td>\n",
       "      <td>Would you like some?</td>\n",
       "      <td>1</td>\n",
       "      <td>00:02:04</td>\n",
       "      <td></td>\n",
       "      <td>(vomiting noises)</td>\n",
       "    </tr>\n",
       "    <tr>\n",
       "      <th>4</th>\n",
       "      <td>4</td>\n",
       "      <td>MATT</td>\n",
       "      <td>So yeah. I'm super excited to have that, guys....</td>\n",
       "      <td>1</td>\n",
       "      <td>00:02:07</td>\n",
       "      <td></td>\n",
       "      <td></td>\n",
       "    </tr>\n",
       "    <tr>\n",
       "      <th>...</th>\n",
       "      <td>...</td>\n",
       "      <td>...</td>\n",
       "      <td>...</td>\n",
       "      <td>...</td>\n",
       "      <td>...</td>\n",
       "      <td>...</td>\n",
       "      <td>...</td>\n",
       "    </tr>\n",
       "    <tr>\n",
       "      <th>434047</th>\n",
       "      <td>2722</td>\n",
       "      <td>MATT</td>\n",
       "      <td>We're going to get through this together, guys.</td>\n",
       "      <td>99</td>\n",
       "      <td>03:47:47</td>\n",
       "      <td></td>\n",
       "      <td></td>\n",
       "    </tr>\n",
       "    <tr>\n",
       "      <th>434048</th>\n",
       "      <td>2723</td>\n",
       "      <td>SAM</td>\n",
       "      <td>Wash your stubbly face.</td>\n",
       "      <td>99</td>\n",
       "      <td>03:47:49</td>\n",
       "      <td></td>\n",
       "      <td></td>\n",
       "    </tr>\n",
       "    <tr>\n",
       "      <th>434049</th>\n",
       "      <td>2724</td>\n",
       "      <td>TRAVIS</td>\n",
       "      <td>Gross.</td>\n",
       "      <td>99</td>\n",
       "      <td>03:47:51</td>\n",
       "      <td></td>\n",
       "      <td></td>\n",
       "    </tr>\n",
       "    <tr>\n",
       "      <th>434050</th>\n",
       "      <td>2725</td>\n",
       "      <td>MATT</td>\n",
       "      <td></td>\n",
       "      <td>99</td>\n",
       "      <td>03:47:52</td>\n",
       "      <td></td>\n",
       "      <td>(cheering)</td>\n",
       "    </tr>\n",
       "    <tr>\n",
       "      <th>434051</th>\n",
       "      <td>2726</td>\n",
       "      <td>TRAVIS</td>\n",
       "      <td></td>\n",
       "      <td>99</td>\n",
       "      <td>03:47:57</td>\n",
       "      <td></td>\n",
       "      <td>(dramatic orchestral music)</td>\n",
       "    </tr>\n",
       "  </tbody>\n",
       "</table>\n",
       "<p>434050 rows × 7 columns</p>\n",
       "</div>"
      ],
      "text/plain": [
       "        index    name                                               text  \\\n",
       "0           0    MATT  We've got some cool stuff to talk about. First...   \n",
       "1           1   LAURA                                       As in nnnn.    \n",
       "2           2    MATT  Nnnn. But yeah, so they're going to be a long-...   \n",
       "3           3  TRAVIS                              Would you like some?    \n",
       "4           4    MATT  So yeah. I'm super excited to have that, guys....   \n",
       "...       ...     ...                                                ...   \n",
       "434047   2722    MATT   We're going to get through this together, guys.    \n",
       "434048   2723     SAM                           Wash your stubbly face.    \n",
       "434049   2724  TRAVIS                                            Gross.    \n",
       "434050   2725    MATT                                                      \n",
       "434051   2726  TRAVIS                                                      \n",
       "\n",
       "       episode timestamp inaudible_speech                     nonspeech  \n",
       "0            1  00:00:15                                                 \n",
       "1            1  00:01:21                                                 \n",
       "2            1  00:01:24                                                 \n",
       "3            1  00:02:04                              (vomiting noises)  \n",
       "4            1  00:02:07                                                 \n",
       "...        ...       ...              ...                           ...  \n",
       "434047      99  03:47:47                                                 \n",
       "434048      99  03:47:49                                                 \n",
       "434049      99  03:47:51                                                 \n",
       "434050      99  03:47:52                                    (cheering)   \n",
       "434051      99  03:47:57                   (dramatic orchestral music)   \n",
       "\n",
       "[434050 rows x 7 columns]"
      ]
     },
     "execution_count": 2,
     "metadata": {},
     "output_type": "execute_result"
    }
   ],
   "source": [
    "cr_df = pd.read_pickle('../pickle_jar/CritRole_split.pkl')\n",
    "cr_df['text'] = cr_df['text'].str.replace(r'♫', r'', regex=True).astype('str')\n",
    "cr_df=cr_df.drop(321664) #another full produced song (not them singing at the table) skewing the sent length data badly\n",
    "cr_df=cr_df.drop(78020)  #a badly coded line (spit out some meta info it looks like) skewing word len data\n",
    "cr_df"
   ]
  },
  {
   "cell_type": "code",
   "execution_count": 3,
   "id": "a9ab0efb",
   "metadata": {},
   "outputs": [],
   "source": [
    "cr_df['name'] = cr_df['name'].str.replace(r'MTT', r'MATT', regex=True).astype('str')\n",
    "cr_df['name'] = cr_df['name'].str.replace(r'AMTT', r'MATT', regex=True).astype('str')\n",
    "cr_df['name'] = cr_df['name'].str.replace(r'NOTT', r'SAM', regex=True).astype('str')\n",
    "cr_df['name'] = cr_df['name'].str.replace(r'CALEB', r'LIAM', regex=True).astype('str')\n",
    "cr_df['name'] = cr_df['name'].str.replace(r'BEAU', r'MARISHA', regex=True).astype('str')\n",
    "cr_df['name'] = cr_df['name'].str.replace(r'JESTER', r'MATT', regex=True).astype('str')"
   ]
  },
  {
   "cell_type": "markdown",
   "id": "ea426200",
   "metadata": {},
   "source": [
    "## First thoughts and plans\n",
    "\n",
    "\n",
    "### planning next data steps\n",
    "\n",
    "Adding some new columns... Word token counts, word types & counts, sentence length (to calculate avg sentence length for speakers). Ultimately will remove the 'text' column as to not share data I can't share. \n",
    "\n",
    "### dividing the data\n",
    "\n",
    "What subgroups are we planning to compare here? DM and players, men and women. I'm going to create new DF slices for these groups. Players, men (with DM), men (without DM), and women. I won't create a DM only DF since I can just select for \"Matt\" from the base df and get the same information. I want to do this AFTER the new columns are added so all data is included.\n",
    "\n",
    "### other points of measurement\n",
    "\n",
    "hedging (look into how past projects measured this), interruptions, jargon\n",
    "\n",
    "### planning visualizations"
   ]
  },
  {
   "cell_type": "markdown",
   "id": "24e96ee3",
   "metadata": {},
   "source": [
    "## Getting started\n",
    "\n",
    "First thing's first, let's just see how many lines each speaker has as a basis to go off of for the rest of our research.\n",
    "\n",
    "The problem I had initially was counting *all* lines associated per name, including lines in the 'text' column that are empty because the value had been moved to the 'nonspeech' or 'inaudible' columns instead. To combat this, I've selected only the name and text columns and dropped any row from the text column that contains no text. By doing this we've eliminated 11,474 lines from the text volume that have no value."
   ]
  },
  {
   "cell_type": "code",
   "execution_count": 4,
   "id": "085c928c",
   "metadata": {},
   "outputs": [
    {
     "data": {
      "text/html": [
       "<div>\n",
       "<style scoped>\n",
       "    .dataframe tbody tr th:only-of-type {\n",
       "        vertical-align: middle;\n",
       "    }\n",
       "\n",
       "    .dataframe tbody tr th {\n",
       "        vertical-align: top;\n",
       "    }\n",
       "\n",
       "    .dataframe thead th {\n",
       "        text-align: right;\n",
       "    }\n",
       "</style>\n",
       "<table border=\"1\" class=\"dataframe\">\n",
       "  <thead>\n",
       "    <tr style=\"text-align: right;\">\n",
       "      <th></th>\n",
       "      <th>name</th>\n",
       "      <th>text</th>\n",
       "    </tr>\n",
       "  </thead>\n",
       "  <tbody>\n",
       "    <tr>\n",
       "      <th>0</th>\n",
       "      <td>MATT</td>\n",
       "      <td>We've got some cool stuff to talk about. First...</td>\n",
       "    </tr>\n",
       "    <tr>\n",
       "      <th>1</th>\n",
       "      <td>LAURA</td>\n",
       "      <td>As in nnnn.</td>\n",
       "    </tr>\n",
       "    <tr>\n",
       "      <th>2</th>\n",
       "      <td>MATT</td>\n",
       "      <td>Nnnn. But yeah, so they're going to be a long-...</td>\n",
       "    </tr>\n",
       "    <tr>\n",
       "      <th>3</th>\n",
       "      <td>TRAVIS</td>\n",
       "      <td>Would you like some?</td>\n",
       "    </tr>\n",
       "    <tr>\n",
       "      <th>4</th>\n",
       "      <td>MATT</td>\n",
       "      <td>So yeah. I'm super excited to have that, guys....</td>\n",
       "    </tr>\n",
       "    <tr>\n",
       "      <th>...</th>\n",
       "      <td>...</td>\n",
       "      <td>...</td>\n",
       "    </tr>\n",
       "    <tr>\n",
       "      <th>434045</th>\n",
       "      <td>MATT</td>\n",
       "      <td>Do your research, wash your hands, all this st...</td>\n",
       "    </tr>\n",
       "    <tr>\n",
       "      <th>434046</th>\n",
       "      <td>ASHLEY</td>\n",
       "      <td>Wash your hands immediately.</td>\n",
       "    </tr>\n",
       "    <tr>\n",
       "      <th>434047</th>\n",
       "      <td>MATT</td>\n",
       "      <td>We're going to get through this together, guys.</td>\n",
       "    </tr>\n",
       "    <tr>\n",
       "      <th>434048</th>\n",
       "      <td>SAM</td>\n",
       "      <td>Wash your stubbly face.</td>\n",
       "    </tr>\n",
       "    <tr>\n",
       "      <th>434049</th>\n",
       "      <td>TRAVIS</td>\n",
       "      <td>Gross.</td>\n",
       "    </tr>\n",
       "  </tbody>\n",
       "</table>\n",
       "<p>422576 rows × 2 columns</p>\n",
       "</div>"
      ],
      "text/plain": [
       "          name                                               text\n",
       "0         MATT  We've got some cool stuff to talk about. First...\n",
       "1        LAURA                                       As in nnnn. \n",
       "2         MATT  Nnnn. But yeah, so they're going to be a long-...\n",
       "3       TRAVIS                              Would you like some? \n",
       "4         MATT  So yeah. I'm super excited to have that, guys....\n",
       "...        ...                                                ...\n",
       "434045    MATT  Do your research, wash your hands, all this st...\n",
       "434046  ASHLEY                      Wash your hands immediately. \n",
       "434047    MATT   We're going to get through this together, guys. \n",
       "434048     SAM                           Wash your stubbly face. \n",
       "434049  TRAVIS                                            Gross. \n",
       "\n",
       "[422576 rows x 2 columns]"
      ]
     },
     "execution_count": 4,
     "metadata": {},
     "output_type": "execute_result"
    }
   ],
   "source": [
    "lcount = cr_df[['name', 'text']].copy()\n",
    "lcount = lcount[lcount['text'] != '']\n",
    "lcount"
   ]
  },
  {
   "cell_type": "code",
   "execution_count": 5,
   "id": "78c1c405",
   "metadata": {},
   "outputs": [
    {
     "data": {
      "text/html": [
       "<div>\n",
       "<style scoped>\n",
       "    .dataframe tbody tr th:only-of-type {\n",
       "        vertical-align: middle;\n",
       "    }\n",
       "\n",
       "    .dataframe tbody tr th {\n",
       "        vertical-align: top;\n",
       "    }\n",
       "\n",
       "    .dataframe thead th {\n",
       "        text-align: right;\n",
       "    }\n",
       "</style>\n",
       "<table border=\"1\" class=\"dataframe\">\n",
       "  <thead>\n",
       "    <tr style=\"text-align: right;\">\n",
       "      <th></th>\n",
       "      <th>name</th>\n",
       "      <th>text</th>\n",
       "    </tr>\n",
       "  </thead>\n",
       "  <tbody>\n",
       "    <tr>\n",
       "      <th>200</th>\n",
       "      <td>MATT</td>\n",
       "      <td>109579</td>\n",
       "    </tr>\n",
       "    <tr>\n",
       "      <th>104</th>\n",
       "      <td>LAURA</td>\n",
       "      <td>58407</td>\n",
       "    </tr>\n",
       "    <tr>\n",
       "      <th>245</th>\n",
       "      <td>SAM</td>\n",
       "      <td>50447</td>\n",
       "    </tr>\n",
       "    <tr>\n",
       "      <th>168</th>\n",
       "      <td>MARISHA</td>\n",
       "      <td>48138</td>\n",
       "    </tr>\n",
       "    <tr>\n",
       "      <th>316</th>\n",
       "      <td>TRAVIS</td>\n",
       "      <td>48073</td>\n",
       "    </tr>\n",
       "    <tr>\n",
       "      <th>136</th>\n",
       "      <td>LIAM</td>\n",
       "      <td>40254</td>\n",
       "    </tr>\n",
       "    <tr>\n",
       "      <th>293</th>\n",
       "      <td>TALIESIN</td>\n",
       "      <td>39736</td>\n",
       "    </tr>\n",
       "    <tr>\n",
       "      <th>14</th>\n",
       "      <td>ASHLEY</td>\n",
       "      <td>17166</td>\n",
       "    </tr>\n",
       "  </tbody>\n",
       "</table>\n",
       "</div>"
      ],
      "text/plain": [
       "         name    text\n",
       "200      MATT  109579\n",
       "104     LAURA   58407\n",
       "245       SAM   50447\n",
       "168   MARISHA   48138\n",
       "316    TRAVIS   48073\n",
       "136      LIAM   40254\n",
       "293  TALIESIN   39736\n",
       "14     ASHLEY   17166"
      ]
     },
     "execution_count": 5,
     "metadata": {},
     "output_type": "execute_result"
    }
   ],
   "source": [
    "spcount = pd.DataFrame(lcount.groupby(['name'])['text'].count())\n",
    "spcount = spcount.reset_index()\n",
    "spcount = spcount.sort_values('text', ascending=False)\n",
    "spcount.head(n=8)"
   ]
  },
  {
   "cell_type": "markdown",
   "id": "7879ddd7",
   "metadata": {},
   "source": [
    "So here are the line counts per main cast member! Very interesting stuff. Predictably, Matt talks a *lot* more than every other participant, almost twice as much as the second most lines spoken."
   ]
  },
  {
   "cell_type": "code",
   "execution_count": 6,
   "id": "2ceda573",
   "metadata": {},
   "outputs": [
    {
     "data": {
      "image/png": "[encoded data removed]",
      "text/plain": [
       "<Figure size 640x480 with 1 Axes>"
      ]
     },
     "metadata": {},
     "output_type": "display_data"
    }
   ],
   "source": [
    "plt.pie(spcount['text'], labels=spcount['name'], autopct='%1.1f%%')\n",
    "plt.axis('equal')\n",
    "plt.title('Lines per Participant')\n",
    "plt.show()"
   ]
  },
  {
   "cell_type": "markdown",
   "id": "939baa25",
   "metadata": {},
   "source": [
    "## Exploring Results\n",
    "\n",
    "First of all, there is some important information to add some context to the information we're looking at. \n",
    "\n",
    "#### 1\n",
    "First thing is attendance. The fan-run website [CritRole Stats](https://www.critrolestats.com/stats) tracks a number of statistics for each episode of Critical Role. The one we're looking at is Campaign 2 (Mighty Nein Campaign). They have very helpfully included attendance among their stats!<br>\n",
    "Not every player was present for every single episode. Laura and Travis left for some time for parental leave, Taliesin had a character death, and Ashley was away for a time filming for a television show. This show spanned multiple years, Jan 2018 to June 2021, on a weekly basis except for a period from March to July 2020 for quarantine. It's not odd to have someone have to miss an episode sometimes.\n",
    "\n",
    "Here is the attendance list by CR Stats:<br>\n",
    "Matt      -> 141<br>\n",
    "Marisha\t  -> 141<br>\n",
    "Sam\t      -> 141<br>\n",
    "Liam\t  -> 140<br>\n",
    "Taliesin  -> 139<br>\n",
    "Travis\t  -> 136<br>\n",
    "Laura\t  -> 133<br>\n",
    "Ashley\t  -> 86\n",
    "\n",
    "Interestingly, this explains why Ashley has as few lines as she does, but otherwise there is not a 1:1 match of attendance to how much a player spoke.\n",
    "\n",
    "#### 2\n",
    "Another thing to consider is characters. Laura may have been in the second to least episodes out of the full cast, but her character, Jester, is an excitable motormouth. Marisha and Travis, on the other hand, play slightly more serious characters , and Liam, Ashley, and Taliesin (from episode 30-ish onward) play more stoic types. \n",
    "\n",
    "#### 3\n",
    "Finally, roles. At the top of each episode (or most of them, at least), two things happen. Sam reads ads for the show, often making them into skits or scripts full of jokes and siliness. Then, often, Laura updates viewers on new merch added to their store, what's available, what's coming and when it'll be available, and so on. It wouldn't be surprising to find that this affects their speech totals by a good bit."
   ]
  },
  {
   "cell_type": "markdown",
   "id": "ca73d371",
   "metadata": {},
   "source": [
    "Since I spent so long crafting that nonspeech column let's take a look at its values just to see what we see. "
   ]
  },
  {
   "cell_type": "code",
   "execution_count": 7,
   "id": "f68b8881",
   "metadata": {},
   "outputs": [
    {
     "data": {
      "text/plain": [
       "                408173\n",
       "(laughter)        6163\n",
       "(laughs)          1933\n",
       "(laughs)           874\n",
       "(laughter)         720\n",
       "(whispering)       416\n",
       "(cheering)         338\n",
       "(gasps)            293\n",
       "(gasps)            281\n",
       "(singing)          278\n",
       "(sighs)            273\n",
       "(groaning)         254\n",
       "(counting)         242\n",
       "(sighs)            195\n",
       "(groans)           174\n",
       "Name: nonspeech, dtype: int64"
      ]
     },
     "execution_count": 7,
     "metadata": {},
     "output_type": "execute_result"
    }
   ],
   "source": [
    "allsounds = cr_df['nonspeech'].value_counts()\n",
    "allsounds[:15]"
   ]
  },
  {
   "cell_type": "code",
   "execution_count": 8,
   "id": "87aba1a6",
   "metadata": {},
   "outputs": [
    {
     "data": {
      "text/html": [
       "<div>\n",
       "<style scoped>\n",
       "    .dataframe tbody tr th:only-of-type {\n",
       "        vertical-align: middle;\n",
       "    }\n",
       "\n",
       "    .dataframe tbody tr th {\n",
       "        vertical-align: top;\n",
       "    }\n",
       "\n",
       "    .dataframe thead th {\n",
       "        text-align: right;\n",
       "    }\n",
       "</style>\n",
       "<table border=\"1\" class=\"dataframe\">\n",
       "  <thead>\n",
       "    <tr style=\"text-align: right;\">\n",
       "      <th></th>\n",
       "      <th>name</th>\n",
       "      <th>nonspeech</th>\n",
       "    </tr>\n",
       "  </thead>\n",
       "  <tbody>\n",
       "    <tr>\n",
       "      <th>92</th>\n",
       "      <td>MATT</td>\n",
       "      <td>7176</td>\n",
       "    </tr>\n",
       "    <tr>\n",
       "      <th>142</th>\n",
       "      <td>TRAVIS</td>\n",
       "      <td>3801</td>\n",
       "    </tr>\n",
       "    <tr>\n",
       "      <th>49</th>\n",
       "      <td>LAURA</td>\n",
       "      <td>3311</td>\n",
       "    </tr>\n",
       "    <tr>\n",
       "      <th>115</th>\n",
       "      <td>SAM</td>\n",
       "      <td>3265</td>\n",
       "    </tr>\n",
       "    <tr>\n",
       "      <th>77</th>\n",
       "      <td>MARISHA</td>\n",
       "      <td>2451</td>\n",
       "    </tr>\n",
       "    <tr>\n",
       "      <th>61</th>\n",
       "      <td>LIAM</td>\n",
       "      <td>2393</td>\n",
       "    </tr>\n",
       "    <tr>\n",
       "      <th>134</th>\n",
       "      <td>TALIESIN</td>\n",
       "      <td>1341</td>\n",
       "    </tr>\n",
       "    <tr>\n",
       "      <th>10</th>\n",
       "      <td>ASHLEY</td>\n",
       "      <td>1005</td>\n",
       "    </tr>\n",
       "  </tbody>\n",
       "</table>\n",
       "</div>"
      ],
      "text/plain": [
       "         name  nonspeech\n",
       "92       MATT       7176\n",
       "142    TRAVIS       3801\n",
       "49      LAURA       3311\n",
       "115       SAM       3265\n",
       "77    MARISHA       2451\n",
       "61       LIAM       2393\n",
       "134  TALIESIN       1341\n",
       "10     ASHLEY       1005"
      ]
     },
     "execution_count": 8,
     "metadata": {},
     "output_type": "execute_result"
    }
   ],
   "source": [
    "scount = cr_df[['name', 'nonspeech']].copy()\n",
    "scount = scount[scount['nonspeech'] != '']\n",
    "nscount = pd.DataFrame(scount.groupby(['name'])['nonspeech'].count())\n",
    "nscount = nscount.reset_index()\n",
    "nscount = nscount.sort_values('nonspeech', ascending=False)\n",
    "nscount.head(n=8)"
   ]
  },
  {
   "cell_type": "markdown",
   "id": "fc580125",
   "metadata": {},
   "source": [
    "Not extremely important since it's not part of speech analysis but I put the work in and I wanted to see it.\n",
    "Not surprising again! Matt being the first makes sense, he is known as a DM for including sound effects (and being very good at them). Just a cool stat... moving on!"
   ]
  },
  {
   "cell_type": "markdown",
   "id": "dc42f8d5",
   "metadata": {},
   "source": [
    "## Adding new columns\n",
    "\n",
    "Tokenizing (should we tokenize including punctuation in this case...?), token counts & averages, word types (which will be shared) (checkw ith na rae.... word types are deemed ok for the FULL text or line by line?), sentence count, sentence length."
   ]
  },
  {
   "cell_type": "markdown",
   "id": "c345b62d",
   "metadata": {},
   "source": [
    "### Word counts (per line)"
   ]
  },
  {
   "cell_type": "code",
   "execution_count": 9,
   "id": "fbdb2a73",
   "metadata": {},
   "outputs": [
    {
     "data": {
      "text/plain": [
       "0         [We, 've, got, some, cool, stuff, to, talk, ab...\n",
       "1                                         [As, in, nnnn, .]\n",
       "2         [Nnnn, ., But, yeah, ,, so, they, 're, going, ...\n",
       "3                               [Would, you, like, some, ?]\n",
       "4         [So, yeah, ., I, 'm, super, excited, to, have,...\n",
       "                                ...                        \n",
       "434047    [We, 're, going, to, get, through, this, toget...\n",
       "434048                       [Wash, your, stubbly, face, .]\n",
       "434049                                           [Gross, .]\n",
       "434050                                                   []\n",
       "434051                                                   []\n",
       "Name: text, Length: 434050, dtype: object"
      ]
     },
     "execution_count": 9,
     "metadata": {},
     "output_type": "execute_result"
    }
   ],
   "source": [
    "tokens = cr_df.text.map(nltk.word_tokenize)\n",
    "tokens"
   ]
  },
  {
   "cell_type": "code",
   "execution_count": 10,
   "id": "8da30dcf",
   "metadata": {},
   "outputs": [
    {
     "data": {
      "text/html": [
       "<div>\n",
       "<style scoped>\n",
       "    .dataframe tbody tr th:only-of-type {\n",
       "        vertical-align: middle;\n",
       "    }\n",
       "\n",
       "    .dataframe tbody tr th {\n",
       "        vertical-align: top;\n",
       "    }\n",
       "\n",
       "    .dataframe thead th {\n",
       "        text-align: right;\n",
       "    }\n",
       "</style>\n",
       "<table border=\"1\" class=\"dataframe\">\n",
       "  <thead>\n",
       "    <tr style=\"text-align: right;\">\n",
       "      <th></th>\n",
       "      <th>index</th>\n",
       "      <th>name</th>\n",
       "      <th>text</th>\n",
       "      <th>episode</th>\n",
       "      <th>timestamp</th>\n",
       "      <th>inaudible_speech</th>\n",
       "      <th>nonspeech</th>\n",
       "      <th>tokens</th>\n",
       "      <th>word_count</th>\n",
       "    </tr>\n",
       "  </thead>\n",
       "  <tbody>\n",
       "    <tr>\n",
       "      <th>0</th>\n",
       "      <td>0</td>\n",
       "      <td>MATT</td>\n",
       "      <td>We've got some cool stuff to talk about. First...</td>\n",
       "      <td>1</td>\n",
       "      <td>00:00:15</td>\n",
       "      <td></td>\n",
       "      <td></td>\n",
       "      <td>[We, 've, got, some, cool, stuff, to, talk, ab...</td>\n",
       "      <td>179</td>\n",
       "    </tr>\n",
       "    <tr>\n",
       "      <th>1</th>\n",
       "      <td>1</td>\n",
       "      <td>LAURA</td>\n",
       "      <td>As in nnnn.</td>\n",
       "      <td>1</td>\n",
       "      <td>00:01:21</td>\n",
       "      <td></td>\n",
       "      <td></td>\n",
       "      <td>[As, in, nnnn, .]</td>\n",
       "      <td>4</td>\n",
       "    </tr>\n",
       "    <tr>\n",
       "      <th>2</th>\n",
       "      <td>2</td>\n",
       "      <td>MATT</td>\n",
       "      <td>Nnnn. But yeah, so they're going to be a long-...</td>\n",
       "      <td>1</td>\n",
       "      <td>00:01:24</td>\n",
       "      <td></td>\n",
       "      <td></td>\n",
       "      <td>[Nnnn, ., But, yeah, ,, so, they, 're, going, ...</td>\n",
       "      <td>139</td>\n",
       "    </tr>\n",
       "    <tr>\n",
       "      <th>3</th>\n",
       "      <td>3</td>\n",
       "      <td>TRAVIS</td>\n",
       "      <td>Would you like some?</td>\n",
       "      <td>1</td>\n",
       "      <td>00:02:04</td>\n",
       "      <td></td>\n",
       "      <td>(vomiting noises)</td>\n",
       "      <td>[Would, you, like, some, ?]</td>\n",
       "      <td>5</td>\n",
       "    </tr>\n",
       "    <tr>\n",
       "      <th>4</th>\n",
       "      <td>4</td>\n",
       "      <td>MATT</td>\n",
       "      <td>So yeah. I'm super excited to have that, guys....</td>\n",
       "      <td>1</td>\n",
       "      <td>00:02:07</td>\n",
       "      <td></td>\n",
       "      <td></td>\n",
       "      <td>[So, yeah, ., I, 'm, super, excited, to, have,...</td>\n",
       "      <td>144</td>\n",
       "    </tr>\n",
       "  </tbody>\n",
       "</table>\n",
       "</div>"
      ],
      "text/plain": [
       "   index    name                                               text episode  \\\n",
       "0      0    MATT  We've got some cool stuff to talk about. First...       1   \n",
       "1      1   LAURA                                       As in nnnn.        1   \n",
       "2      2    MATT  Nnnn. But yeah, so they're going to be a long-...       1   \n",
       "3      3  TRAVIS                              Would you like some?        1   \n",
       "4      4    MATT  So yeah. I'm super excited to have that, guys....       1   \n",
       "\n",
       "  timestamp inaudible_speech          nonspeech  \\\n",
       "0  00:00:15                                       \n",
       "1  00:01:21                                       \n",
       "2  00:01:24                                       \n",
       "3  00:02:04                   (vomiting noises)   \n",
       "4  00:02:07                                       \n",
       "\n",
       "                                              tokens  word_count  \n",
       "0  [We, 've, got, some, cool, stuff, to, talk, ab...         179  \n",
       "1                                  [As, in, nnnn, .]           4  \n",
       "2  [Nnnn, ., But, yeah, ,, so, they, 're, going, ...         139  \n",
       "3                        [Would, you, like, some, ?]           5  \n",
       "4  [So, yeah, ., I, 'm, super, excited, to, have,...         144  "
      ]
     },
     "execution_count": 10,
     "metadata": {},
     "output_type": "execute_result"
    }
   ],
   "source": [
    "cr_df['tokens']=tokens         #create token column\n",
    "cr_df['word_count'] = cr_df.tokens.map(len)   #count total tokens per line\n",
    "\n",
    "cr_df.head()"
   ]
  },
  {
   "cell_type": "markdown",
   "id": "f4a4fbc1",
   "metadata": {},
   "source": [
    "So we know who has the most speech events (Matt) but what about who says the most words? Someone with fewer speech events (lines) could have one very very long speech, who knows"
   ]
  },
  {
   "cell_type": "markdown",
   "id": "63c1207d",
   "metadata": {},
   "source": [
    "### Total words per speaker"
   ]
  },
  {
   "cell_type": "code",
   "execution_count": 11,
   "id": "a2178f10",
   "metadata": {},
   "outputs": [
    {
     "data": {
      "text/html": [
       "<div>\n",
       "<style scoped>\n",
       "    .dataframe tbody tr th:only-of-type {\n",
       "        vertical-align: middle;\n",
       "    }\n",
       "\n",
       "    .dataframe tbody tr th {\n",
       "        vertical-align: top;\n",
       "    }\n",
       "\n",
       "    .dataframe thead th {\n",
       "        text-align: right;\n",
       "    }\n",
       "</style>\n",
       "<table border=\"1\" class=\"dataframe\">\n",
       "  <thead>\n",
       "    <tr style=\"text-align: right;\">\n",
       "      <th></th>\n",
       "      <th>name</th>\n",
       "      <th>word_count</th>\n",
       "    </tr>\n",
       "  </thead>\n",
       "  <tbody>\n",
       "    <tr>\n",
       "      <th>211</th>\n",
       "      <td>MATT</td>\n",
       "      <td>1645574</td>\n",
       "    </tr>\n",
       "    <tr>\n",
       "      <th>112</th>\n",
       "      <td>LAURA</td>\n",
       "      <td>523524</td>\n",
       "    </tr>\n",
       "    <tr>\n",
       "      <th>260</th>\n",
       "      <td>SAM</td>\n",
       "      <td>438023</td>\n",
       "    </tr>\n",
       "    <tr>\n",
       "      <th>337</th>\n",
       "      <td>TRAVIS</td>\n",
       "      <td>417547</td>\n",
       "    </tr>\n",
       "    <tr>\n",
       "      <th>176</th>\n",
       "      <td>MARISHA</td>\n",
       "      <td>414750</td>\n",
       "    </tr>\n",
       "    <tr>\n",
       "      <th>144</th>\n",
       "      <td>LIAM</td>\n",
       "      <td>411400</td>\n",
       "    </tr>\n",
       "    <tr>\n",
       "      <th>312</th>\n",
       "      <td>TALIESIN</td>\n",
       "      <td>372572</td>\n",
       "    </tr>\n",
       "    <tr>\n",
       "      <th>16</th>\n",
       "      <td>ASHLEY</td>\n",
       "      <td>129271</td>\n",
       "    </tr>\n",
       "  </tbody>\n",
       "</table>\n",
       "</div>"
      ],
      "text/plain": [
       "         name  word_count\n",
       "211      MATT     1645574\n",
       "112     LAURA      523524\n",
       "260       SAM      438023\n",
       "337    TRAVIS      417547\n",
       "176   MARISHA      414750\n",
       "144      LIAM      411400\n",
       "312  TALIESIN      372572\n",
       "16     ASHLEY      129271"
      ]
     },
     "execution_count": 11,
     "metadata": {},
     "output_type": "execute_result"
    }
   ],
   "source": [
    "wcount = pd.DataFrame(cr_df.groupby('name').word_count.sum())\n",
    "wcount = wcount.reset_index()\n",
    "wcount = wcount.sort_values('word_count', ascending=False)\n",
    "wcount.head(n=8)"
   ]
  },
  {
   "cell_type": "code",
   "execution_count": 12,
   "id": "7ca80ef4",
   "metadata": {},
   "outputs": [
    {
     "data": {
      "image/png": "[encoded data removed]",
      "text/plain": [
       "<Figure size 640x480 with 1 Axes>"
      ]
     },
     "metadata": {},
     "output_type": "display_data"
    }
   ],
   "source": [
    "plt.pie(wcount['word_count'], labels=wcount['name'], autopct='%1.1f%%')\n",
    "plt.axis('equal')\n",
    "plt.title('Words per Participant')\n",
    "plt.show()"
   ]
  },
  {
   "cell_type": "markdown",
   "id": "4d1f3039",
   "metadata": {},
   "source": [
    "bla lbhalbnhalb only travis and marisha trade places means he says just a little more\n",
    "not only is Matt talking more, he's *saying* more."
   ]
  },
  {
   "cell_type": "markdown",
   "id": "23b62094",
   "metadata": {},
   "source": [
    "### Unique words per speaker"
   ]
  },
  {
   "cell_type": "code",
   "execution_count": 13,
   "id": "20216053",
   "metadata": {},
   "outputs": [],
   "source": [
    "cr_df['types'] = cr_df['tokens'].apply(lambda tokens: [w.lower() for w in tokens])"
   ]
  },
  {
   "cell_type": "code",
   "execution_count": 14,
   "id": "1054ddec",
   "metadata": {},
   "outputs": [],
   "source": [
    "cr_df['types'] = cr_df['types'].apply(set)"
   ]
  },
  {
   "cell_type": "code",
   "execution_count": 15,
   "id": "92b89550",
   "metadata": {},
   "outputs": [
    {
     "data": {
      "text/html": [
       "<div>\n",
       "<style scoped>\n",
       "    .dataframe tbody tr th:only-of-type {\n",
       "        vertical-align: middle;\n",
       "    }\n",
       "\n",
       "    .dataframe tbody tr th {\n",
       "        vertical-align: top;\n",
       "    }\n",
       "\n",
       "    .dataframe thead th {\n",
       "        text-align: right;\n",
       "    }\n",
       "</style>\n",
       "<table border=\"1\" class=\"dataframe\">\n",
       "  <thead>\n",
       "    <tr style=\"text-align: right;\">\n",
       "      <th></th>\n",
       "      <th>index</th>\n",
       "      <th>name</th>\n",
       "      <th>text</th>\n",
       "      <th>episode</th>\n",
       "      <th>timestamp</th>\n",
       "      <th>inaudible_speech</th>\n",
       "      <th>nonspeech</th>\n",
       "      <th>tokens</th>\n",
       "      <th>word_count</th>\n",
       "      <th>types</th>\n",
       "      <th>type_count</th>\n",
       "    </tr>\n",
       "  </thead>\n",
       "  <tbody>\n",
       "    <tr>\n",
       "      <th>0</th>\n",
       "      <td>0</td>\n",
       "      <td>MATT</td>\n",
       "      <td>We've got some cool stuff to talk about. First...</td>\n",
       "      <td>1</td>\n",
       "      <td>00:00:15</td>\n",
       "      <td></td>\n",
       "      <td></td>\n",
       "      <td>[We, 've, got, some, cool, stuff, to, talk, ab...</td>\n",
       "      <td>179</td>\n",
       "      <td>{cool, going, foremost, talking, is, been, has...</td>\n",
       "      <td>95</td>\n",
       "    </tr>\n",
       "    <tr>\n",
       "      <th>1</th>\n",
       "      <td>1</td>\n",
       "      <td>LAURA</td>\n",
       "      <td>As in nnnn.</td>\n",
       "      <td>1</td>\n",
       "      <td>00:01:21</td>\n",
       "      <td></td>\n",
       "      <td></td>\n",
       "      <td>[As, in, nnnn, .]</td>\n",
       "      <td>4</td>\n",
       "      <td>{in, ., as, nnnn}</td>\n",
       "      <td>4</td>\n",
       "    </tr>\n",
       "    <tr>\n",
       "      <th>2</th>\n",
       "      <td>2</td>\n",
       "      <td>MATT</td>\n",
       "      <td>Nnnn. But yeah, so they're going to be a long-...</td>\n",
       "      <td>1</td>\n",
       "      <td>00:01:24</td>\n",
       "      <td></td>\n",
       "      <td></td>\n",
       "      <td>[Nnnn, ., But, yeah, ,, so, they, 're, going, ...</td>\n",
       "      <td>139</td>\n",
       "      <td>{going, $, 'm, created, which, book, years, bu...</td>\n",
       "      <td>85</td>\n",
       "    </tr>\n",
       "    <tr>\n",
       "      <th>3</th>\n",
       "      <td>3</td>\n",
       "      <td>TRAVIS</td>\n",
       "      <td>Would you like some?</td>\n",
       "      <td>1</td>\n",
       "      <td>00:02:04</td>\n",
       "      <td></td>\n",
       "      <td>(vomiting noises)</td>\n",
       "      <td>[Would, you, like, some, ?]</td>\n",
       "      <td>5</td>\n",
       "      <td>{?, you, would, like, some}</td>\n",
       "      <td>5</td>\n",
       "    </tr>\n",
       "    <tr>\n",
       "      <th>4</th>\n",
       "      <td>4</td>\n",
       "      <td>MATT</td>\n",
       "      <td>So yeah. I'm super excited to have that, guys....</td>\n",
       "      <td>1</td>\n",
       "      <td>00:02:07</td>\n",
       "      <td></td>\n",
       "      <td></td>\n",
       "      <td>[So, yeah, ., I, 'm, super, excited, to, have,...</td>\n",
       "      <td>144</td>\n",
       "      <td>{cool, away, 'm, confused, checkout, also, sec...</td>\n",
       "      <td>81</td>\n",
       "    </tr>\n",
       "  </tbody>\n",
       "</table>\n",
       "</div>"
      ],
      "text/plain": [
       "   index    name                                               text episode  \\\n",
       "0      0    MATT  We've got some cool stuff to talk about. First...       1   \n",
       "1      1   LAURA                                       As in nnnn.        1   \n",
       "2      2    MATT  Nnnn. But yeah, so they're going to be a long-...       1   \n",
       "3      3  TRAVIS                              Would you like some?        1   \n",
       "4      4    MATT  So yeah. I'm super excited to have that, guys....       1   \n",
       "\n",
       "  timestamp inaudible_speech          nonspeech  \\\n",
       "0  00:00:15                                       \n",
       "1  00:01:21                                       \n",
       "2  00:01:24                                       \n",
       "3  00:02:04                   (vomiting noises)   \n",
       "4  00:02:07                                       \n",
       "\n",
       "                                              tokens  word_count  \\\n",
       "0  [We, 've, got, some, cool, stuff, to, talk, ab...         179   \n",
       "1                                  [As, in, nnnn, .]           4   \n",
       "2  [Nnnn, ., But, yeah, ,, so, they, 're, going, ...         139   \n",
       "3                        [Would, you, like, some, ?]           5   \n",
       "4  [So, yeah, ., I, 'm, super, excited, to, have,...         144   \n",
       "\n",
       "                                               types  type_count  \n",
       "0  {cool, going, foremost, talking, is, been, has...          95  \n",
       "1                                  {in, ., as, nnnn}           4  \n",
       "2  {going, $, 'm, created, which, book, years, bu...          85  \n",
       "3                        {?, you, would, like, some}           5  \n",
       "4  {cool, away, 'm, confused, checkout, also, sec...          81  "
      ]
     },
     "execution_count": 15,
     "metadata": {},
     "output_type": "execute_result"
    }
   ],
   "source": [
    "cr_df['type_count'] = cr_df.types.map(len) \n",
    "cr_df.head()"
   ]
  },
  {
   "cell_type": "code",
   "execution_count": 16,
   "id": "d2f57e89",
   "metadata": {},
   "outputs": [
    {
     "data": {
      "text/html": [
       "<div>\n",
       "<style scoped>\n",
       "    .dataframe tbody tr th:only-of-type {\n",
       "        vertical-align: middle;\n",
       "    }\n",
       "\n",
       "    .dataframe tbody tr th {\n",
       "        vertical-align: top;\n",
       "    }\n",
       "\n",
       "    .dataframe thead th {\n",
       "        text-align: right;\n",
       "    }\n",
       "</style>\n",
       "<table border=\"1\" class=\"dataframe\">\n",
       "  <thead>\n",
       "    <tr style=\"text-align: right;\">\n",
       "      <th></th>\n",
       "      <th>name</th>\n",
       "      <th>type_count</th>\n",
       "    </tr>\n",
       "  </thead>\n",
       "  <tbody>\n",
       "    <tr>\n",
       "      <th>211</th>\n",
       "      <td>MATT</td>\n",
       "      <td>1368680</td>\n",
       "    </tr>\n",
       "    <tr>\n",
       "      <th>112</th>\n",
       "      <td>LAURA</td>\n",
       "      <td>469806</td>\n",
       "    </tr>\n",
       "    <tr>\n",
       "      <th>260</th>\n",
       "      <td>SAM</td>\n",
       "      <td>394293</td>\n",
       "    </tr>\n",
       "    <tr>\n",
       "      <th>337</th>\n",
       "      <td>TRAVIS</td>\n",
       "      <td>379129</td>\n",
       "    </tr>\n",
       "    <tr>\n",
       "      <th>176</th>\n",
       "      <td>MARISHA</td>\n",
       "      <td>372087</td>\n",
       "    </tr>\n",
       "    <tr>\n",
       "      <th>144</th>\n",
       "      <td>LIAM</td>\n",
       "      <td>366454</td>\n",
       "    </tr>\n",
       "    <tr>\n",
       "      <th>312</th>\n",
       "      <td>TALIESIN</td>\n",
       "      <td>335381</td>\n",
       "    </tr>\n",
       "    <tr>\n",
       "      <th>16</th>\n",
       "      <td>ASHLEY</td>\n",
       "      <td>117499</td>\n",
       "    </tr>\n",
       "  </tbody>\n",
       "</table>\n",
       "</div>"
      ],
      "text/plain": [
       "         name  type_count\n",
       "211      MATT     1368680\n",
       "112     LAURA      469806\n",
       "260       SAM      394293\n",
       "337    TRAVIS      379129\n",
       "176   MARISHA      372087\n",
       "144      LIAM      366454\n",
       "312  TALIESIN      335381\n",
       "16     ASHLEY      117499"
      ]
     },
     "execution_count": 16,
     "metadata": {},
     "output_type": "execute_result"
    }
   ],
   "source": [
    "typecount = pd.DataFrame(cr_df.groupby('name').type_count.sum())\n",
    "typecount = typecount.reset_index()\n",
    "typecount = typecount.sort_values('type_count', ascending=False)\n",
    "typecount.head(n=8)"
   ]
  },
  {
   "cell_type": "code",
   "execution_count": 17,
   "id": "6e973574",
   "metadata": {},
   "outputs": [],
   "source": [
    "countsdf = wcount.merge(typecount, how='left', on='name', suffixes=('', '_y'))\n",
    "countsdf.drop(countsdf.filter(regex='_y$').columns, axis=1, inplace=True)"
   ]
  },
  {
   "cell_type": "code",
   "execution_count": 18,
   "id": "250c63d8",
   "metadata": {},
   "outputs": [],
   "source": [
    "countsdf = countsdf[countsdf['name'].isin(['MATT', 'LIAM', 'TALIESIN', 'LAURA', 'TRAVIS', 'MARISHA', 'SAM', 'ASHLEY'])]"
   ]
  },
  {
   "cell_type": "code",
   "execution_count": 19,
   "id": "132a198e",
   "metadata": {},
   "outputs": [
    {
     "data": {
      "text/html": [
       "<div>\n",
       "<style scoped>\n",
       "    .dataframe tbody tr th:only-of-type {\n",
       "        vertical-align: middle;\n",
       "    }\n",
       "\n",
       "    .dataframe tbody tr th {\n",
       "        vertical-align: top;\n",
       "    }\n",
       "\n",
       "    .dataframe thead th {\n",
       "        text-align: right;\n",
       "    }\n",
       "</style>\n",
       "<table border=\"1\" class=\"dataframe\">\n",
       "  <thead>\n",
       "    <tr style=\"text-align: right;\">\n",
       "      <th></th>\n",
       "      <th>name</th>\n",
       "      <th>word_count</th>\n",
       "      <th>type_count</th>\n",
       "    </tr>\n",
       "  </thead>\n",
       "  <tbody>\n",
       "    <tr>\n",
       "      <th>0</th>\n",
       "      <td>MATT</td>\n",
       "      <td>1645574</td>\n",
       "      <td>1368680</td>\n",
       "    </tr>\n",
       "    <tr>\n",
       "      <th>1</th>\n",
       "      <td>LAURA</td>\n",
       "      <td>523524</td>\n",
       "      <td>469806</td>\n",
       "    </tr>\n",
       "    <tr>\n",
       "      <th>2</th>\n",
       "      <td>SAM</td>\n",
       "      <td>438023</td>\n",
       "      <td>394293</td>\n",
       "    </tr>\n",
       "    <tr>\n",
       "      <th>3</th>\n",
       "      <td>TRAVIS</td>\n",
       "      <td>417547</td>\n",
       "      <td>379129</td>\n",
       "    </tr>\n",
       "    <tr>\n",
       "      <th>4</th>\n",
       "      <td>MARISHA</td>\n",
       "      <td>414750</td>\n",
       "      <td>372087</td>\n",
       "    </tr>\n",
       "    <tr>\n",
       "      <th>5</th>\n",
       "      <td>LIAM</td>\n",
       "      <td>411400</td>\n",
       "      <td>366454</td>\n",
       "    </tr>\n",
       "    <tr>\n",
       "      <th>6</th>\n",
       "      <td>TALIESIN</td>\n",
       "      <td>372572</td>\n",
       "      <td>335381</td>\n",
       "    </tr>\n",
       "    <tr>\n",
       "      <th>7</th>\n",
       "      <td>ASHLEY</td>\n",
       "      <td>129271</td>\n",
       "      <td>117499</td>\n",
       "    </tr>\n",
       "  </tbody>\n",
       "</table>\n",
       "</div>"
      ],
      "text/plain": [
       "       name  word_count  type_count\n",
       "0      MATT     1645574     1368680\n",
       "1     LAURA      523524      469806\n",
       "2       SAM      438023      394293\n",
       "3    TRAVIS      417547      379129\n",
       "4   MARISHA      414750      372087\n",
       "5      LIAM      411400      366454\n",
       "6  TALIESIN      372572      335381\n",
       "7    ASHLEY      129271      117499"
      ]
     },
     "execution_count": 19,
     "metadata": {},
     "output_type": "execute_result"
    }
   ],
   "source": [
    "countsdf"
   ]
  },
  {
   "cell_type": "code",
   "execution_count": 21,
   "id": "5827c0d4",
   "metadata": {},
   "outputs": [
    {
     "data": {
      "text/plain": [
       "<Axes: xlabel='name'>"
      ]
     },
     "execution_count": 21,
     "metadata": {},
     "output_type": "execute_result"
    },
    {
     "data": {
      "image/png": "[encoded data removed]",
      "text/plain": [
       "<Figure size 640x480 with 1 Axes>"
      ]
     },
     "metadata": {},
     "output_type": "display_data"
    }
   ],
   "source": [
    "countsdf.set_index(['name']).plot.bar(rot=45)"
   ]
  },
  {
   "cell_type": "markdown",
   "id": "6c439339",
   "metadata": {},
   "source": [
    "## Word Length"
   ]
  },
  {
   "cell_type": "code",
   "execution_count": null,
   "id": "35bcd73d",
   "metadata": {},
   "outputs": [],
   "source": [
    "wlength = cr_df.apply(lambda row: [len(w) for w in (row['tokens'])], axis=1)\n",
    "cr_df = cr_df.drop('tokens', axis=1)     #drop that toks col, we don't actually want it"
   ]
  },
  {
   "cell_type": "code",
   "execution_count": null,
   "id": "47e52c5b",
   "metadata": {},
   "outputs": [],
   "source": [
    "cr_df['avg_word_length'] = wlength.map(sum)/cr_df['word_count']\n",
    "cr_df.head()"
   ]
  },
  {
   "cell_type": "code",
   "execution_count": null,
   "id": "6eea98ac",
   "metadata": {},
   "outputs": [],
   "source": [
    "cr_df['avg_word_length'].describe()"
   ]
  },
  {
   "cell_type": "code",
   "execution_count": null,
   "id": "708e861a",
   "metadata": {},
   "outputs": [],
   "source": [
    "cr_df[cr_df['avg_word_length']==16]"
   ]
  },
  {
   "cell_type": "markdown",
   "id": "c3a3f12c",
   "metadata": {},
   "source": [
    "Interesting! I guess NLTK thinks of a hyphen as part of a compound words and counts it only as one long word? "
   ]
  },
  {
   "cell_type": "markdown",
   "id": "819f5776",
   "metadata": {},
   "source": [
    "### Sentences and sentence length"
   ]
  },
  {
   "cell_type": "code",
   "execution_count": null,
   "id": "b3cc05de",
   "metadata": {},
   "outputs": [],
   "source": [
    "sents = cr_df.text.map(nltk.sent_tokenize)\n",
    "sents[0]   #we can take a look at that full opening speech"
   ]
  },
  {
   "cell_type": "code",
   "execution_count": null,
   "id": "b505b680",
   "metadata": {},
   "outputs": [],
   "source": [
    "sentlength = sents.map(len)    #number of sentences spoken per line\n",
    "sentlength"
   ]
  },
  {
   "cell_type": "code",
   "execution_count": null,
   "id": "c2a7d4be",
   "metadata": {},
   "outputs": [],
   "source": [
    "avgsentlength = cr_df.word_count/sentlength    #avg length of sentence per line or speech event\n",
    "avgsentlength"
   ]
  },
  {
   "cell_type": "code",
   "execution_count": null,
   "id": "52531429",
   "metadata": {},
   "outputs": [],
   "source": [
    "cr_df['avg_sent_length']=avgsentlength\n",
    "cr_df.head()"
   ]
  },
  {
   "cell_type": "markdown",
   "id": "79a04270",
   "metadata": {},
   "source": [
    "### Let's investigate\n",
    "\n",
    "Take a look at some of these sentences"
   ]
  },
  {
   "cell_type": "code",
   "execution_count": null,
   "id": "13dfec5d",
   "metadata": {},
   "outputs": [],
   "source": [
    "cr_df['avg_sent_length'].describe()"
   ]
  },
  {
   "cell_type": "code",
   "execution_count": null,
   "id": "baad424e",
   "metadata": {},
   "outputs": [],
   "source": [
    "#LOTS of single word sentences, not surprising!\n",
    "cr_df[cr_df['avg_sent_length']==1]"
   ]
  },
  {
   "cell_type": "code",
   "execution_count": null,
   "id": "05b6298a",
   "metadata": {},
   "outputs": [],
   "source": [
    "#but what about that one long sentence?\n",
    "cr_df[cr_df['avg_sent_length']==126]"
   ]
  },
  {
   "cell_type": "code",
   "execution_count": null,
   "id": "e47faa0e",
   "metadata": {},
   "outputs": [],
   "source": [
    "cr_df.text[354187]"
   ]
  },
  {
   "cell_type": "markdown",
   "id": "2f7a5cf8",
   "metadata": {},
   "source": [
    "This makes sense to me! Looking into it a bit further it looks like Sam was wanting to make some alterations to his character (Nott)'s crossbow which required a skill check. He rolled a 16 (not bad) and Matt narrated the results of his efforts.\n",
    "\n",
    "Not surprising that the narrator would narrate at length sometimes!"
   ]
  },
  {
   "cell_type": "markdown",
   "id": "45939705",
   "metadata": {},
   "source": [
    "### Average sentence length per speaker"
   ]
  },
  {
   "cell_type": "code",
   "execution_count": null,
   "id": "289cb4a6",
   "metadata": {},
   "outputs": [],
   "source": [
    "slen = pd.DataFrame(cr_df.groupby('name').avg_sent_length.mean())\n",
    "slen = slen.reset_index()\n",
    "slen = slen.sort_values('avg_sent_length', ascending=False)\n",
    "slen.head(n=8)"
   ]
  },
  {
   "cell_type": "code",
   "execution_count": null,
   "id": "5558d9d8",
   "metadata": {},
   "outputs": [],
   "source": [
    "avgsents = slen[slen['name'].isin(['MATT', 'LIAM', 'TALIESIN', 'LAURA', 'TRAVIS', 'MARISHA', 'SAM', 'ASHLEY'])]\n",
    "avgsents"
   ]
  },
  {
   "cell_type": "code",
   "execution_count": null,
   "id": "5ba2002c",
   "metadata": {},
   "outputs": [],
   "source": [
    "plt.pie(avgsents['avg_sent_length'], labels=avgsents['name'], autopct='%1.1f%%')\n",
    "plt.axis('equal')\n",
    "plt.title('Average Sentence Length per Participant')\n",
    "plt.show()"
   ]
  },
  {
   "cell_type": "markdown",
   "id": "2771d71b",
   "metadata": {},
   "source": [
    "reasonable to do something like avg sentence length of 5+ (to drop instances of single word sentences like \"yeah\" or \"okay\") - look into who typically has longer sentences overall. \n",
    "\n",
    "also write up an analysis on this too"
   ]
  },
  {
   "cell_type": "markdown",
   "id": "2465a4d0",
   "metadata": {},
   "source": []
  },
  {
   "cell_type": "code",
   "execution_count": null,
   "id": "9ba055ed",
   "metadata": {},
   "outputs": [],
   "source": []
  },
  {
   "cell_type": "code",
   "execution_count": null,
   "id": "7d769ed0",
   "metadata": {},
   "outputs": [],
   "source": []
  },
  {
   "cell_type": "code",
   "execution_count": null,
   "id": "91de96dc",
   "metadata": {},
   "outputs": [],
   "source": []
  },
  {
   "cell_type": "code",
   "execution_count": null,
   "id": "c1a6882c",
   "metadata": {},
   "outputs": [],
   "source": []
  },
  {
   "cell_type": "code",
   "execution_count": null,
   "id": "6f60bf39",
   "metadata": {},
   "outputs": [],
   "source": []
  },
  {
   "cell_type": "code",
   "execution_count": null,
   "id": "01e98da3",
   "metadata": {},
   "outputs": [],
   "source": []
  },
  {
   "cell_type": "code",
   "execution_count": null,
   "id": "f00d3f47",
   "metadata": {},
   "outputs": [],
   "source": [
    "travis['text'].str.count(r'Eldritch Blast').sum()"
   ]
  },
  {
   "cell_type": "code",
   "execution_count": null,
   "id": "b01103da",
   "metadata": {},
   "outputs": [],
   "source": [
    "liam['text'].str.count(r'Ja').sum()"
   ]
  },
  {
   "cell_type": "code",
   "execution_count": null,
   "id": "6c69a522",
   "metadata": {},
   "outputs": [],
   "source": []
  },
  {
   "cell_type": "code",
   "execution_count": null,
   "id": "8236b228",
   "metadata": {},
   "outputs": [],
   "source": [
    "ep2 = cr_df[cr_df['episode']=='2']\n",
    "ep2[-130:-120]"
   ]
  },
  {
   "cell_type": "markdown",
   "id": "9d461453",
   "metadata": {},
   "source": [
    "a link to the moment of chaos, just for comparison - this is a good reference point for chaos and overlapping speech\n",
    "\n",
    "https://youtu.be/MPELLuQXVcE?si=13too39HcHj5Cfow&t=14475"
   ]
  },
  {
   "cell_type": "code",
   "execution_count": null,
   "id": "fbaedf11",
   "metadata": {},
   "outputs": [],
   "source": [
    "ashley = cr_df[cr_df['name']=='ASHLEY']\n",
    "matt = cr_df[cr_df['name']=='MATT']\n",
    "marisha = cr_df[cr_df['name']=='MARISHA']\n",
    "taliesin = cr_df[cr_df['name']=='TALIESIN']\n",
    "sam = cr_df[cr_df['name']=='SAM']\n",
    "liam = cr_df[cr_df['name']=='LIAM']\n",
    "laura = cr_df[cr_df['name']=='LAURA']\n",
    "travis = cr_df[cr_df['name']=='TRAVIS']"
   ]
  },
  {
   "cell_type": "code",
   "execution_count": null,
   "id": "2071c08b",
   "metadata": {},
   "outputs": [],
   "source": [
    "women = [ashley, marisha, laura]\n",
    "women_df = pd.concat(women)\n",
    "women_df"
   ]
  },
  {
   "cell_type": "code",
   "execution_count": null,
   "id": "83206a84",
   "metadata": {},
   "outputs": [],
   "source": [
    "men = [matt, taliesin, sam, liam, travis]\n",
    "men_df = pd.concat(men)\n",
    "men_df"
   ]
  },
  {
   "cell_type": "code",
   "execution_count": null,
   "id": "b49f9741",
   "metadata": {},
   "outputs": [],
   "source": [
    "nondm_men = [taliesin, sam, liam, travis]\n",
    "nondm_men_df = pd.concat(nondm_men)\n",
    "nondm_men_df"
   ]
  },
  {
   "cell_type": "code",
   "execution_count": null,
   "id": "2258dc3c",
   "metadata": {},
   "outputs": [],
   "source": [
    "players = [ashley, marisha, taliesin, sam, liam, laura, travis]\n",
    "players_df = pd.concat(players)\n",
    "players_df"
   ]
  },
  {
   "cell_type": "code",
   "execution_count": null,
   "id": "5cf6b25c",
   "metadata": {},
   "outputs": [],
   "source": [
    "matt"
   ]
  },
  {
   "cell_type": "code",
   "execution_count": null,
   "id": "7fb5b955",
   "metadata": {},
   "outputs": [],
   "source": []
  }
 ],
 "metadata": {
  "kernelspec": {
   "display_name": "DataSci",
   "language": "python",
   "name": "datasci"
  },
  "language_info": {
   "codemirror_mode": {
    "name": "ipython",
    "version": 3
   },
   "file_extension": ".py",
   "mimetype": "text/x-python",
   "name": "python",
   "nbconvert_exporter": "python",
   "pygments_lexer": "ipython3",
   "version": "3.11.4"
  }
 },
 "nbformat": 4,
 "nbformat_minor": 5
}
