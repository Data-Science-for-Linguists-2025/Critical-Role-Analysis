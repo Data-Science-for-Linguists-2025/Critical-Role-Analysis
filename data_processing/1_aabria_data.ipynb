{
 "cells": [
  {
   "cell_type": "code",
   "execution_count": 1,
   "id": "c85977fa",
   "metadata": {},
   "outputs": [],
   "source": [
    "import json\n",
    "import pandas as pd\n",
    "import glob\n",
    "from pandas import json_normalize"
   ]
  },
  {
   "cell_type": "code",
   "execution_count": 2,
   "id": "ce3a471e",
   "metadata": {},
   "outputs": [],
   "source": [
    "files = glob.glob('json_transcripts/unlimited/*.json' ,recursive=True)\n",
    "\n",
    "#this is from the season of Critical Role she hosted so the process & format is identical to cr_df"
   ]
  },
  {
   "cell_type": "code",
   "execution_count": 3,
   "id": "d2641968",
   "metadata": {},
   "outputs": [],
   "source": [
    "exudict = {}\n",
    "def GetFile(filename):\n",
    "    for file in files:\n",
    "        results = file.split('-')  #split file path at '-'\n",
    "        epnum = results[1]         #index to 1 to get episodenum.json\n",
    "        epnum = epnum[:-5]         #index to get rid of '.json'\n",
    "        f = open(file, 'r')        #read in files\n",
    "        text = f.read()\n",
    "        f.close\n",
    "        exudict[epnum]=text"
   ]
  },
  {
   "cell_type": "code",
   "execution_count": 4,
   "id": "2d198dad",
   "metadata": {},
   "outputs": [],
   "source": [
    "GetFile(files)"
   ]
  },
  {
   "cell_type": "code",
   "execution_count": 5,
   "id": "9b7112e1",
   "metadata": {},
   "outputs": [
    {
     "data": {
      "text/plain": [
       "8"
      ]
     },
     "execution_count": 5,
     "metadata": {},
     "output_type": "execute_result"
    }
   ],
   "source": [
    "len(exudict) #a short season!"
   ]
  },
  {
   "cell_type": "code",
   "execution_count": 6,
   "id": "fcd3c261",
   "metadata": {},
   "outputs": [],
   "source": [
    "exulist = []\n",
    "def buildDF(feddict):         #feed dict created by GetFile function\n",
    "    for file in feddict:        #for each file in dict\n",
    "        info = json.loads(feddict[str(file)])     #load str of value from fed dict\n",
    "        base_df = json_normalize(info)            #first level normalize\n",
    "        lines_df = json_normalize(base_df['lines'])   #second level normalize\n",
    "        lines_long = pd.melt(lines_df)                #melt columns into rows\n",
    "        ts_df = json_normalize(lines_long['value'])   #third level normalize\n",
    "        ts_df['episode']=file                         # add column to final df populated w dict key\n",
    "        exulist.append(ts_df)"
   ]
  },
  {
   "cell_type": "code",
   "execution_count": 7,
   "id": "e069e989",
   "metadata": {},
   "outputs": [],
   "source": [
    "buildDF(exudict)"
   ]
  },
  {
   "cell_type": "code",
   "execution_count": 8,
   "id": "700de9b9",
   "metadata": {},
   "outputs": [
    {
     "data": {
      "text/plain": [
       "8"
      ]
     },
     "execution_count": 8,
     "metadata": {},
     "output_type": "execute_result"
    }
   ],
   "source": [
    "len(exulist)"
   ]
  },
  {
   "cell_type": "code",
   "execution_count": 9,
   "id": "59caa5c5",
   "metadata": {},
   "outputs": [],
   "source": [
    "exu_df = pd.concat(exulist)"
   ]
  },
  {
   "cell_type": "code",
   "execution_count": 10,
   "id": "ebf13518",
   "metadata": {},
   "outputs": [
    {
     "data": {
      "text/html": [
       "<div>\n",
       "<style scoped>\n",
       "    .dataframe tbody tr th:only-of-type {\n",
       "        vertical-align: middle;\n",
       "    }\n",
       "\n",
       "    .dataframe tbody tr th {\n",
       "        vertical-align: top;\n",
       "    }\n",
       "\n",
       "    .dataframe thead th {\n",
       "        text-align: right;\n",
       "    }\n",
       "</style>\n",
       "<table border=\"1\" class=\"dataframe\">\n",
       "  <thead>\n",
       "    <tr style=\"text-align: right;\">\n",
       "      <th></th>\n",
       "      <th>name</th>\n",
       "      <th>text</th>\n",
       "      <th>ts.h</th>\n",
       "      <th>ts.m</th>\n",
       "      <th>ts.s</th>\n",
       "      <th>episode</th>\n",
       "    </tr>\n",
       "  </thead>\n",
       "  <tbody>\n",
       "    <tr>\n",
       "      <th>0</th>\n",
       "      <td>AABRIA</td>\n",
       "      <td>Let's start with Robbie.</td>\n",
       "      <td>0</td>\n",
       "      <td>0</td>\n",
       "      <td>0</td>\n",
       "      <td>1</td>\n",
       "    </tr>\n",
       "    <tr>\n",
       "      <th>1</th>\n",
       "      <td>ROBBIE</td>\n",
       "      <td>I'm so excited!</td>\n",
       "      <td>0</td>\n",
       "      <td>0</td>\n",
       "      <td>18</td>\n",
       "      <td>1</td>\n",
       "    </tr>\n",
       "    <tr>\n",
       "      <th>2</th>\n",
       "      <td>AABRIA</td>\n",
       "      <td>Yeah!</td>\n",
       "      <td>0</td>\n",
       "      <td>0</td>\n",
       "      <td>24</td>\n",
       "      <td>1</td>\n",
       "    </tr>\n",
       "    <tr>\n",
       "      <th>3</th>\n",
       "      <td>ROBBIE</td>\n",
       "      <td>Whew!</td>\n",
       "      <td>0</td>\n",
       "      <td>0</td>\n",
       "      <td>26</td>\n",
       "      <td>1</td>\n",
       "    </tr>\n",
       "    <tr>\n",
       "      <th>4</th>\n",
       "      <td>AABRIA</td>\n",
       "      <td>Liam!</td>\n",
       "      <td>0</td>\n",
       "      <td>0</td>\n",
       "      <td>26</td>\n",
       "      <td>1</td>\n",
       "    </tr>\n",
       "  </tbody>\n",
       "</table>\n",
       "</div>"
      ],
      "text/plain": [
       "     name                       text  ts.h ts.m  ts.s episode\n",
       "0  AABRIA  Let's start with Robbie.      0    0     0       1\n",
       "1  ROBBIE           I'm so excited!      0    0    18       1\n",
       "2  AABRIA                     Yeah!      0    0    24       1\n",
       "3  ROBBIE                     Whew!      0    0    26       1\n",
       "4  AABRIA                     Liam!      0    0    26       1"
      ]
     },
     "execution_count": 10,
     "metadata": {},
     "output_type": "execute_result"
    }
   ],
   "source": [
    "exu_df.head()"
   ]
  },
  {
   "cell_type": "code",
   "execution_count": 11,
   "id": "1ba40324",
   "metadata": {},
   "outputs": [],
   "source": [
    "metalist = []\n",
    "for x in exudict:           \n",
    "    fullcols = json.loads(exudict[str(x)])      \n",
    "    newdf = json_normalize(fullcols)\n",
    "    metalist.append(newdf)"
   ]
  },
  {
   "cell_type": "code",
   "execution_count": 12,
   "id": "9bbabffb",
   "metadata": {},
   "outputs": [],
   "source": [
    "meta_df = pd.concat(metalist)"
   ]
  },
  {
   "cell_type": "code",
   "execution_count": 13,
   "id": "c56e96d3",
   "metadata": {},
   "outputs": [],
   "source": [
    "meta_df.rename(columns={'metadata.episode':'episode', 'metadata.title':'title'}, inplace=True)"
   ]
  },
  {
   "cell_type": "code",
   "execution_count": 14,
   "id": "1f7d0996",
   "metadata": {},
   "outputs": [
    {
     "data": {
      "text/html": [
       "<div>\n",
       "<style scoped>\n",
       "    .dataframe tbody tr th:only-of-type {\n",
       "        vertical-align: middle;\n",
       "    }\n",
       "\n",
       "    .dataframe tbody tr th {\n",
       "        vertical-align: top;\n",
       "    }\n",
       "\n",
       "    .dataframe thead th {\n",
       "        text-align: right;\n",
       "    }\n",
       "</style>\n",
       "<table border=\"1\" class=\"dataframe\">\n",
       "  <thead>\n",
       "    <tr style=\"text-align: right;\">\n",
       "      <th></th>\n",
       "      <th>episode</th>\n",
       "      <th>title</th>\n",
       "    </tr>\n",
       "  </thead>\n",
       "  <tbody>\n",
       "    <tr>\n",
       "      <th>0</th>\n",
       "      <td>1</td>\n",
       "      <td>The Nameless Ones</td>\n",
       "    </tr>\n",
       "    <tr>\n",
       "      <th>0</th>\n",
       "      <td>2</td>\n",
       "      <td>The Oh No Plateau</td>\n",
       "    </tr>\n",
       "    <tr>\n",
       "      <th>0</th>\n",
       "      <td>3</td>\n",
       "      <td>A Glorious Return</td>\n",
       "    </tr>\n",
       "    <tr>\n",
       "      <th>0</th>\n",
       "      <td>4</td>\n",
       "      <td>By the Road</td>\n",
       "    </tr>\n",
       "    <tr>\n",
       "      <th>0</th>\n",
       "      <td>5</td>\n",
       "      <td>A Test of Worth</td>\n",
       "    </tr>\n",
       "  </tbody>\n",
       "</table>\n",
       "</div>"
      ],
      "text/plain": [
       "  episode               title\n",
       "0       1   The Nameless Ones\n",
       "0       2  The Oh No Plateau \n",
       "0       3   A Glorious Return\n",
       "0       4         By the Road\n",
       "0       5     A Test of Worth"
      ]
     },
     "execution_count": 14,
     "metadata": {},
     "output_type": "execute_result"
    }
   ],
   "source": [
    "meta_df = meta_df.iloc[:, 2:4]\n",
    "meta_df.head()"
   ]
  },
  {
   "cell_type": "code",
   "execution_count": 15,
   "id": "577da1fb",
   "metadata": {},
   "outputs": [],
   "source": [
    "exu_df = exu_df.merge(meta_df, how='left', on='episode', suffixes=('', '_y'))\n",
    "exu_df.drop(exu_df.filter(regex='_y$').columns, axis=1, inplace=True)"
   ]
  },
  {
   "cell_type": "code",
   "execution_count": 16,
   "id": "6765f29e",
   "metadata": {},
   "outputs": [
    {
     "data": {
      "text/html": [
       "<div>\n",
       "<style scoped>\n",
       "    .dataframe tbody tr th:only-of-type {\n",
       "        vertical-align: middle;\n",
       "    }\n",
       "\n",
       "    .dataframe tbody tr th {\n",
       "        vertical-align: top;\n",
       "    }\n",
       "\n",
       "    .dataframe thead th {\n",
       "        text-align: right;\n",
       "    }\n",
       "</style>\n",
       "<table border=\"1\" class=\"dataframe\">\n",
       "  <thead>\n",
       "    <tr style=\"text-align: right;\">\n",
       "      <th></th>\n",
       "      <th>name</th>\n",
       "      <th>text</th>\n",
       "      <th>ts.h</th>\n",
       "      <th>ts.m</th>\n",
       "      <th>ts.s</th>\n",
       "      <th>episode</th>\n",
       "      <th>title</th>\n",
       "    </tr>\n",
       "  </thead>\n",
       "  <tbody>\n",
       "    <tr>\n",
       "      <th>0</th>\n",
       "      <td>AABRIA</td>\n",
       "      <td>Let's start with Robbie.</td>\n",
       "      <td>0</td>\n",
       "      <td>0</td>\n",
       "      <td>0</td>\n",
       "      <td>1</td>\n",
       "      <td>The Nameless Ones</td>\n",
       "    </tr>\n",
       "    <tr>\n",
       "      <th>1</th>\n",
       "      <td>ROBBIE</td>\n",
       "      <td>I'm so excited!</td>\n",
       "      <td>0</td>\n",
       "      <td>0</td>\n",
       "      <td>18</td>\n",
       "      <td>1</td>\n",
       "      <td>The Nameless Ones</td>\n",
       "    </tr>\n",
       "    <tr>\n",
       "      <th>2</th>\n",
       "      <td>AABRIA</td>\n",
       "      <td>Yeah!</td>\n",
       "      <td>0</td>\n",
       "      <td>0</td>\n",
       "      <td>24</td>\n",
       "      <td>1</td>\n",
       "      <td>The Nameless Ones</td>\n",
       "    </tr>\n",
       "    <tr>\n",
       "      <th>3</th>\n",
       "      <td>ROBBIE</td>\n",
       "      <td>Whew!</td>\n",
       "      <td>0</td>\n",
       "      <td>0</td>\n",
       "      <td>26</td>\n",
       "      <td>1</td>\n",
       "      <td>The Nameless Ones</td>\n",
       "    </tr>\n",
       "    <tr>\n",
       "      <th>4</th>\n",
       "      <td>AABRIA</td>\n",
       "      <td>Liam!</td>\n",
       "      <td>0</td>\n",
       "      <td>0</td>\n",
       "      <td>26</td>\n",
       "      <td>1</td>\n",
       "      <td>The Nameless Ones</td>\n",
       "    </tr>\n",
       "  </tbody>\n",
       "</table>\n",
       "</div>"
      ],
      "text/plain": [
       "     name                       text  ts.h ts.m  ts.s episode  \\\n",
       "0  AABRIA  Let's start with Robbie.      0    0     0       1   \n",
       "1  ROBBIE           I'm so excited!      0    0    18       1   \n",
       "2  AABRIA                     Yeah!      0    0    24       1   \n",
       "3  ROBBIE                     Whew!      0    0    26       1   \n",
       "4  AABRIA                     Liam!      0    0    26       1   \n",
       "\n",
       "               title  \n",
       "0  The Nameless Ones  \n",
       "1  The Nameless Ones  \n",
       "2  The Nameless Ones  \n",
       "3  The Nameless Ones  \n",
       "4  The Nameless Ones  "
      ]
     },
     "execution_count": 16,
     "metadata": {},
     "output_type": "execute_result"
    }
   ],
   "source": [
    "exu_df.head() #I included the episode name but will likely eliminate it"
   ]
  },
  {
   "cell_type": "code",
   "execution_count": 17,
   "id": "cd297858",
   "metadata": {},
   "outputs": [],
   "source": [
    "import pickle"
   ]
  },
  {
   "cell_type": "markdown",
   "id": "7b607751",
   "metadata": {},
   "source": [
    "#### D20 Data\n",
    "\n",
    "So the D20 data is different entirely from the CR data - makes sense, different groups use different transcription criteria and norms. Here's a test file I used to check out what the data looks like and how we can get it into a suitable DF. \n",
    "\n",
    "Data as .json was secured by saving transcripts as html files and converting to json online. from there it was simple enough to normalize and create something usable. "
   ]
  },
  {
   "cell_type": "code",
   "execution_count": 20,
   "id": "4c34de9c",
   "metadata": {},
   "outputs": [],
   "source": [
    "j = open('D20/BurrowsEnd/Episode1TheRedWarren.json', 'rb')\n",
    "test = j.read()\n",
    "j.close()"
   ]
  },
  {
   "cell_type": "code",
   "execution_count": 87,
   "id": "148a4dc6",
   "metadata": {},
   "outputs": [
    {
     "data": {
      "text/plain": [
       "b'al Recall!\": null, \"Erika:\\\\u00a0What\\'s she gonna call us? What\\'s she gonna call us?\": null, \"Jasper: [sing-song] I don\\'t know what she\\'s gonna call us!\": null, \"Brennan:\\\\u00a0I don\\'t know!\": null, \"Aa'"
      ]
     },
     "execution_count": 87,
     "metadata": {},
     "output_type": "execute_result"
    }
   ],
   "source": [
    "test[1300:1500] #a sneak peek into what the data looks like raw, not nearly as nice as the CR data"
   ]
  },
  {
   "cell_type": "code",
   "execution_count": 22,
   "id": "35696928",
   "metadata": {},
   "outputs": [
    {
     "data": {
      "text/html": [
       "<div>\n",
       "<style scoped>\n",
       "    .dataframe tbody tr th:only-of-type {\n",
       "        vertical-align: middle;\n",
       "    }\n",
       "\n",
       "    .dataframe tbody tr th {\n",
       "        vertical-align: top;\n",
       "    }\n",
       "\n",
       "    .dataframe thead th {\n",
       "        text-align: right;\n",
       "    }\n",
       "</style>\n",
       "<table border=\"1\" class=\"dataframe\">\n",
       "  <thead>\n",
       "    <tr style=\"text-align: right;\">\n",
       "      <th></th>\n",
       "      <th>Dimension 20 Season 20</th>\n",
       "      <th>Burrow’s End</th>\n",
       "      <th>Starring: Aabria Iyengar as Game Master</th>\n",
       "      <th>Brennan Lee Mulligan as Tula; Erika Ishii as Ava;</th>\n",
       "      <th>Siobhan Thompson as Jaysohn; Rashawn Nadine Scott as Viola;</th>\n",
       "      <th>Isabella \"Izzy\" Roland as Lila; and Jasper William Cartwright as Thorn</th>\n",
       "      <th>Vale</th>\n",
       "      <th>Episode 1: The Red Warren</th>\n",
       "      <th>[Next Episode] &gt;</th>\n",
       "      <th>The Dimension 20 logo appears on screen, then is covered in darkness in</th>\n",
       "      <th>...</th>\n",
       "      <th>Thorn:  I was entirely correct to be terrified of your family. Wow.</th>\n",
       "      <th>Aabria: Bring out the map.</th>\n",
       "      <th>Jasper: Oh no!</th>\n",
       "      <th>[all screaming]</th>\n",
       "      <th>Siobhan: So this is why you emailed us a trigger warning.</th>\n",
       "      <th>Aabria: A little bit, yeah.</th>\n",
       "      <th>[melancholy piano music]</th>\n",
       "      <th>------------------------------------------------------------------------</th>\n",
       "      <th>Captions extracted by: Rachel S.</th>\n",
       "      <th>Edited by: Rachel S.</th>\n",
       "    </tr>\n",
       "  </thead>\n",
       "  <tbody>\n",
       "    <tr>\n",
       "      <th>0</th>\n",
       "      <td>None</td>\n",
       "      <td>None</td>\n",
       "      <td>None</td>\n",
       "      <td>None</td>\n",
       "      <td>None</td>\n",
       "      <td>None</td>\n",
       "      <td>None</td>\n",
       "      <td>None</td>\n",
       "      <td>None</td>\n",
       "      <td>None</td>\n",
       "      <td>...</td>\n",
       "      <td>None</td>\n",
       "      <td>None</td>\n",
       "      <td>None</td>\n",
       "      <td>None</td>\n",
       "      <td>None</td>\n",
       "      <td>None</td>\n",
       "      <td>None</td>\n",
       "      <td>None</td>\n",
       "      <td>None</td>\n",
       "      <td>None</td>\n",
       "    </tr>\n",
       "  </tbody>\n",
       "</table>\n",
       "<p>1 rows × 2117 columns</p>\n",
       "</div>"
      ],
      "text/plain": [
       "  Dimension 20 Season 20 Burrow’s End Starring: Aabria Iyengar as Game Master  \\\n",
       "0                   None         None                                    None   \n",
       "\n",
       "  Brennan Lee Mulligan as Tula; Erika Ishii as Ava;  \\\n",
       "0                                              None   \n",
       "\n",
       "  Siobhan Thompson as Jaysohn; Rashawn Nadine Scott as Viola;  \\\n",
       "0                                               None            \n",
       "\n",
       "  Isabella \"Izzy\" Roland as Lila; and Jasper William Cartwright as Thorn  \\\n",
       "0                                               None                       \n",
       "\n",
       "   Vale Episode 1: The Red Warren [Next Episode] >  \\\n",
       "0  None                      None             None   \n",
       "\n",
       "  The Dimension 20 logo appears on screen, then is covered in darkness in  \\\n",
       "0                                               None                        \n",
       "\n",
       "   ... Thorn:  I was entirely correct to be terrified of your family. Wow.  \\\n",
       "0  ...                                               None                    \n",
       "\n",
       "  Aabria: Bring out the map. Jasper: Oh no! [all screaming]  \\\n",
       "0                       None           None            None   \n",
       "\n",
       "  Siobhan: So this is why you emailed us a trigger warning.  \\\n",
       "0                                               None          \n",
       "\n",
       "  Aabria: A little bit, yeah. [melancholy piano music]  \\\n",
       "0                        None                     None   \n",
       "\n",
       "  ------------------------------------------------------------------------  \\\n",
       "0                                               None                         \n",
       "\n",
       "  Captions extracted by: Rachel S. Edited by: Rachel S.  \n",
       "0                             None                 None  \n",
       "\n",
       "[1 rows x 2117 columns]"
      ]
     },
     "execution_count": 22,
     "metadata": {},
     "output_type": "execute_result"
    }
   ],
   "source": [
    "data = json.loads(test)      #read in isolated ep1\n",
    "df = json_normalize(data)\n",
    "df.head()"
   ]
  },
  {
   "cell_type": "code",
   "execution_count": 23,
   "id": "7c6f57fd",
   "metadata": {},
   "outputs": [
    {
     "data": {
      "text/html": [
       "<div>\n",
       "<style scoped>\n",
       "    .dataframe tbody tr th:only-of-type {\n",
       "        vertical-align: middle;\n",
       "    }\n",
       "\n",
       "    .dataframe tbody tr th {\n",
       "        vertical-align: top;\n",
       "    }\n",
       "\n",
       "    .dataframe thead th {\n",
       "        text-align: right;\n",
       "    }\n",
       "</style>\n",
       "<table border=\"1\" class=\"dataframe\">\n",
       "  <thead>\n",
       "    <tr style=\"text-align: right;\">\n",
       "      <th></th>\n",
       "      <th>variable</th>\n",
       "      <th>value</th>\n",
       "    </tr>\n",
       "  </thead>\n",
       "  <tbody>\n",
       "    <tr>\n",
       "      <th>0</th>\n",
       "      <td>Dimension 20 Season 20</td>\n",
       "      <td>None</td>\n",
       "    </tr>\n",
       "    <tr>\n",
       "      <th>1</th>\n",
       "      <td>Burrow’s End</td>\n",
       "      <td>None</td>\n",
       "    </tr>\n",
       "    <tr>\n",
       "      <th>2</th>\n",
       "      <td>Starring: Aabria Iyengar as Game Master</td>\n",
       "      <td>None</td>\n",
       "    </tr>\n",
       "    <tr>\n",
       "      <th>3</th>\n",
       "      <td>Brennan Lee Mulligan as Tula; Erika Ishii as Ava;</td>\n",
       "      <td>None</td>\n",
       "    </tr>\n",
       "    <tr>\n",
       "      <th>4</th>\n",
       "      <td>Siobhan Thompson as Jaysohn; Rashawn Nadine Sc...</td>\n",
       "      <td>None</td>\n",
       "    </tr>\n",
       "    <tr>\n",
       "      <th>...</th>\n",
       "      <td>...</td>\n",
       "      <td>...</td>\n",
       "    </tr>\n",
       "    <tr>\n",
       "      <th>2112</th>\n",
       "      <td>Aabria: A little bit, yeah.</td>\n",
       "      <td>None</td>\n",
       "    </tr>\n",
       "    <tr>\n",
       "      <th>2113</th>\n",
       "      <td>[melancholy piano music]</td>\n",
       "      <td>None</td>\n",
       "    </tr>\n",
       "    <tr>\n",
       "      <th>2114</th>\n",
       "      <td>----------------------------------------------...</td>\n",
       "      <td>None</td>\n",
       "    </tr>\n",
       "    <tr>\n",
       "      <th>2115</th>\n",
       "      <td>Captions extracted by: Rachel S.</td>\n",
       "      <td>None</td>\n",
       "    </tr>\n",
       "    <tr>\n",
       "      <th>2116</th>\n",
       "      <td>Edited by: Rachel S.</td>\n",
       "      <td>None</td>\n",
       "    </tr>\n",
       "  </tbody>\n",
       "</table>\n",
       "<p>2117 rows × 2 columns</p>\n",
       "</div>"
      ],
      "text/plain": [
       "                                               variable value\n",
       "0                                Dimension 20 Season 20  None\n",
       "1                                          Burrow’s End  None\n",
       "2               Starring: Aabria Iyengar as Game Master  None\n",
       "3     Brennan Lee Mulligan as Tula; Erika Ishii as Ava;  None\n",
       "4     Siobhan Thompson as Jaysohn; Rashawn Nadine Sc...  None\n",
       "...                                                 ...   ...\n",
       "2112                        Aabria: A little bit, yeah.  None\n",
       "2113                           [melancholy piano music]  None\n",
       "2114  ----------------------------------------------...  None\n",
       "2115                   Captions extracted by: Rachel S.  None\n",
       "2116                               Edited by: Rachel S.  None\n",
       "\n",
       "[2117 rows x 2 columns]"
      ]
     },
     "execution_count": 23,
     "metadata": {},
     "output_type": "execute_result"
    }
   ],
   "source": [
    "test_long = pd.melt(df) \n",
    "test_long\n",
    "\n",
    "#It's not perfect, but with our old buddy regex we can get it into working order"
   ]
  },
  {
   "cell_type": "code",
   "execution_count": 25,
   "id": "fb9edc51",
   "metadata": {},
   "outputs": [
    {
     "data": {
      "text/html": [
       "<div>\n",
       "<style scoped>\n",
       "    .dataframe tbody tr th:only-of-type {\n",
       "        vertical-align: middle;\n",
       "    }\n",
       "\n",
       "    .dataframe tbody tr th {\n",
       "        vertical-align: top;\n",
       "    }\n",
       "\n",
       "    .dataframe thead th {\n",
       "        text-align: right;\n",
       "    }\n",
       "</style>\n",
       "<table border=\"1\" class=\"dataframe\">\n",
       "  <thead>\n",
       "    <tr style=\"text-align: right;\">\n",
       "      <th></th>\n",
       "      <th>variable</th>\n",
       "      <th>value</th>\n",
       "    </tr>\n",
       "  </thead>\n",
       "  <tbody>\n",
       "    <tr>\n",
       "      <th>300</th>\n",
       "      <td>Projection on the dome walls transitions into ...</td>\n",
       "      <td>None</td>\n",
       "    </tr>\n",
       "    <tr>\n",
       "      <th>301</th>\n",
       "      <td>Jasper: What?</td>\n",
       "      <td>None</td>\n",
       "    </tr>\n",
       "    <tr>\n",
       "      <th>302</th>\n",
       "      <td>[Jasper saying escalating 'What's]</td>\n",
       "      <td>None</td>\n",
       "    </tr>\n",
       "    <tr>\n",
       "      <th>303</th>\n",
       "      <td>Projection on the dome reveals a shadow-play s...</td>\n",
       "      <td>None</td>\n",
       "    </tr>\n",
       "    <tr>\n",
       "      <th>304</th>\n",
       "      <td>intro sequence. The players gape with excitement.</td>\n",
       "      <td>None</td>\n",
       "    </tr>\n",
       "    <tr>\n",
       "      <th>305</th>\n",
       "      <td>Erika: [shouting] No! No, you didn't! You didn't!</td>\n",
       "      <td>None</td>\n",
       "    </tr>\n",
       "    <tr>\n",
       "      <th>306</th>\n",
       "      <td>[tranquil music]</td>\n",
       "      <td>None</td>\n",
       "    </tr>\n",
       "    <tr>\n",
       "      <th>307</th>\n",
       "      <td>Beatrix: Everything begins with the Blue. Ther...</td>\n",
       "      <td>None</td>\n",
       "    </tr>\n",
       "    <tr>\n",
       "      <th>308</th>\n",
       "      <td>and the blue of the water, and the Blue of the...</td>\n",
       "      <td>None</td>\n",
       "    </tr>\n",
       "    <tr>\n",
       "      <th>309</th>\n",
       "      <td>The shadow-play screen shows a family of stoat...</td>\n",
       "      <td>None</td>\n",
       "    </tr>\n",
       "    <tr>\n",
       "      <th>310</th>\n",
       "      <td>Beatrix: The Blue made everything, and sometim...</td>\n",
       "      <td>None</td>\n",
       "    </tr>\n",
       "    <tr>\n",
       "      <th>311</th>\n",
       "      <td>inside us, like the beat of our hearts-</td>\n",
       "      <td>None</td>\n",
       "    </tr>\n",
       "    <tr>\n",
       "      <th>312</th>\n",
       "      <td>A little heart icon appears on one shadow-stoa...</td>\n",
       "      <td>None</td>\n",
       "    </tr>\n",
       "    <tr>\n",
       "      <th>313</th>\n",
       "      <td>Erika can barely contain themselves. The shado...</td>\n",
       "      <td>None</td>\n",
       "    </tr>\n",
       "    <tr>\n",
       "      <th>314</th>\n",
       "      <td>staring blankly.</td>\n",
       "      <td>None</td>\n",
       "    </tr>\n",
       "  </tbody>\n",
       "</table>\n",
       "</div>"
      ],
      "text/plain": [
       "                                              variable value\n",
       "300  Projection on the dome walls transitions into ...  None\n",
       "301                                      Jasper: What?  None\n",
       "302                 [Jasper saying escalating 'What's]  None\n",
       "303  Projection on the dome reveals a shadow-play s...  None\n",
       "304  intro sequence. The players gape with excitement.  None\n",
       "305  Erika: [shouting] No! No, you didn't! You didn't!  None\n",
       "306                                   [tranquil music]  None\n",
       "307  Beatrix: Everything begins with the Blue. Ther...  None\n",
       "308  and the blue of the water, and the Blue of the...  None\n",
       "309  The shadow-play screen shows a family of stoat...  None\n",
       "310  Beatrix: The Blue made everything, and sometim...  None\n",
       "311            inside us, like the beat of our hearts-  None\n",
       "312  A little heart icon appears on one shadow-stoa...  None\n",
       "313  Erika can barely contain themselves. The shado...  None\n",
       "314                                   staring blankly.  None"
      ]
     },
     "execution_count": 25,
     "metadata": {},
     "output_type": "execute_result"
    }
   ],
   "source": [
    "test_long[300:315]"
   ]
  },
  {
   "cell_type": "markdown",
   "id": "cd7afa6e",
   "metadata": {},
   "source": [
    "Some key things I'm noticing with our exploratory look is that it looks like ALL audio is in square brackets, which is great. That makes that easier to split out into a \"nonspeech column\". \n",
    "\n",
    "This data uses speaker names and character names both, which is interesting and valuable, but not entirely to our needs. However I will be able to use this to create a name column, and since I know who plays which character thanks to the metadata (and from watching) I'll make a secondary column for \"speaker\" associated with whichever character name.\n",
    "\n",
    "The transcripts here includes non-audio information about the room and actions at the table like \"The shadow-play screen shows a family of stoat(s)\" or \"Erika can barely contain themselves.\" but it isn't uniquely marked as room information or otherwise nonspeech. This will likely be the biggest challenge in getting separated from actual speech, but I'll explore more once we have a full df"
   ]
  },
  {
   "cell_type": "markdown",
   "id": "20008586",
   "metadata": {},
   "source": [
    "#### Reading in all the D20 Data"
   ]
  },
  {
   "cell_type": "code",
   "execution_count": 26,
   "id": "7c6dca70",
   "metadata": {},
   "outputs": [],
   "source": [
    "files = glob.glob('D20/ACOFF/*.json' ,recursive=True)"
   ]
  },
  {
   "cell_type": "code",
   "execution_count": 27,
   "id": "769461d2",
   "metadata": {},
   "outputs": [
    {
     "data": {
      "text/plain": [
       "['D20/ACOFF\\\\Episode10YouWillNeverKnowaLonelyDayAgain.json',\n",
       " 'D20/ACOFF\\\\Episode1ABloomtoRemember.json',\n",
       " 'D20/ACOFF\\\\Episode2TheGreatHartHunt.json',\n",
       " 'D20/ACOFF\\\\Episode3DuelontheSouthernLawn.json',\n",
       " 'D20/ACOFF\\\\Episode4SeasideTeatime.json',\n",
       " 'D20/ACOFF\\\\Episode5ThroughtheHedgeMaze.json',\n",
       " 'D20/ACOFF\\\\Episode6OfOneMind.json',\n",
       " 'D20/ACOFF\\\\Episode7TheMasqueradeBall.json',\n",
       " 'D20/ACOFF\\\\Episode8TheRuleofSneakery.json',\n",
       " 'D20/ACOFF\\\\Episode9TheaterofWar.json']"
      ]
     },
     "execution_count": 27,
     "metadata": {},
     "output_type": "execute_result"
    }
   ],
   "source": [
    "files"
   ]
  },
  {
   "cell_type": "code",
   "execution_count": 28,
   "id": "d62116fa",
   "metadata": {},
   "outputs": [],
   "source": [
    "teststr = 'D20/ACOFF\\\\Episode10YouWillNeverKnowaLonelyDayAgain.json'"
   ]
  },
  {
   "cell_type": "code",
   "execution_count": 29,
   "id": "0dfc6324",
   "metadata": {},
   "outputs": [],
   "source": [
    "teststr = teststr.split('\\\\')"
   ]
  },
  {
   "cell_type": "code",
   "execution_count": 30,
   "id": "56e51f7a",
   "metadata": {},
   "outputs": [
    {
     "data": {
      "text/plain": [
       "'10'"
      ]
     },
     "execution_count": 30,
     "metadata": {},
     "output_type": "execute_result"
    }
   ],
   "source": [
    "teststr[1][7:9]\n",
    "\n",
    "#this won't be perfect, it'll overcapture in the case of single digit episodes but we'll fix that later"
   ]
  },
  {
   "cell_type": "markdown",
   "id": "d9351011",
   "metadata": {},
   "source": [
    "I created amended versions of the CR functions I used to read in the files and make them into dataframes. The file names are different so the splitting looks different too, and it only needs one level of normalization followed by melting"
   ]
  },
  {
   "cell_type": "code",
   "execution_count": 31,
   "id": "cbddbe5c",
   "metadata": {},
   "outputs": [],
   "source": [
    "D20dict = {}\n",
    "def GetFile(filename):\n",
    "    for file in files:\n",
    "        results = file.split('\\\\')  #split file path at '\\\\'\n",
    "        epnum = results[1][7:9]      #index into 1 to get episodenum\n",
    "        f = open(file, 'r')        #read in files\n",
    "        text = f.read()\n",
    "        f.close\n",
    "        D20dict[epnum]=text     #add to dict with episode num as key & text as value"
   ]
  },
  {
   "cell_type": "code",
   "execution_count": 32,
   "id": "42c32bac",
   "metadata": {},
   "outputs": [],
   "source": [
    "GetFile(files)"
   ]
  },
  {
   "cell_type": "code",
   "execution_count": 33,
   "id": "589c568a",
   "metadata": {},
   "outputs": [
    {
     "data": {
      "text/plain": [
       "10"
      ]
     },
     "execution_count": 33,
     "metadata": {},
     "output_type": "execute_result"
    }
   ],
   "source": [
    "len(D20dict)"
   ]
  },
  {
   "cell_type": "code",
   "execution_count": 34,
   "id": "48844be6",
   "metadata": {},
   "outputs": [],
   "source": [
    "D20list = []\n",
    "def buildDF(feddict):         #feed dict created by GetFile function\n",
    "    for file in feddict:        #for each file in dict\n",
    "        info = json.loads(feddict[str(file)])     #load str of value from fed dict\n",
    "        base_df = json_normalize(info)            #first level normalize\n",
    "        new_df = pd.melt(base_df)                #melt columns into rows\n",
    "        new_df['episode']=file                         # add column to final df populated w dict key\n",
    "        D20list.append(new_df)"
   ]
  },
  {
   "cell_type": "code",
   "execution_count": 35,
   "id": "5cb052a2",
   "metadata": {},
   "outputs": [],
   "source": [
    "buildDF(D20dict)"
   ]
  },
  {
   "cell_type": "code",
   "execution_count": 36,
   "id": "f652366c",
   "metadata": {},
   "outputs": [
    {
     "data": {
      "text/plain": [
       "10"
      ]
     },
     "execution_count": 36,
     "metadata": {},
     "output_type": "execute_result"
    }
   ],
   "source": [
    "len(D20list)  #keep track of episode number files - sanity check"
   ]
  },
  {
   "cell_type": "code",
   "execution_count": 37,
   "id": "bb95b5f4",
   "metadata": {},
   "outputs": [],
   "source": [
    "ACOFF_df = pd.concat(D20list)"
   ]
  },
  {
   "cell_type": "code",
   "execution_count": 38,
   "id": "6ec2bd59",
   "metadata": {},
   "outputs": [
    {
     "data": {
      "text/html": [
       "<div>\n",
       "<style scoped>\n",
       "    .dataframe tbody tr th:only-of-type {\n",
       "        vertical-align: middle;\n",
       "    }\n",
       "\n",
       "    .dataframe tbody tr th {\n",
       "        vertical-align: top;\n",
       "    }\n",
       "\n",
       "    .dataframe thead th {\n",
       "        text-align: right;\n",
       "    }\n",
       "</style>\n",
       "<table border=\"1\" class=\"dataframe\">\n",
       "  <thead>\n",
       "    <tr style=\"text-align: right;\">\n",
       "      <th></th>\n",
       "      <th>variable</th>\n",
       "      <th>value</th>\n",
       "      <th>episode</th>\n",
       "    </tr>\n",
       "  </thead>\n",
       "  <tbody>\n",
       "    <tr>\n",
       "      <th>0</th>\n",
       "      <td>Dimension 20 Season 14</td>\n",
       "      <td>None</td>\n",
       "      <td>10</td>\n",
       "    </tr>\n",
       "    <tr>\n",
       "      <th>1</th>\n",
       "      <td>A Court of Fey &amp; Flowers</td>\n",
       "      <td>None</td>\n",
       "      <td>10</td>\n",
       "    </tr>\n",
       "    <tr>\n",
       "      <th>2</th>\n",
       "      <td>Starring: Aabria Iyengar as Game Master</td>\n",
       "      <td>None</td>\n",
       "      <td>10</td>\n",
       "    </tr>\n",
       "    <tr>\n",
       "      <th>3</th>\n",
       "      <td>Surena Marie as BINX Choppley; Oscar Montoya a...</td>\n",
       "      <td>None</td>\n",
       "      <td>10</td>\n",
       "    </tr>\n",
       "    <tr>\n",
       "      <th>4</th>\n",
       "      <td>Lou Wilson as Lord Squak Airavis; Emily Axford...</td>\n",
       "      <td>None</td>\n",
       "      <td>10</td>\n",
       "    </tr>\n",
       "  </tbody>\n",
       "</table>\n",
       "</div>"
      ],
      "text/plain": [
       "                                            variable value episode\n",
       "0                             Dimension 20 Season 14  None      10\n",
       "1                           A Court of Fey & Flowers  None      10\n",
       "2            Starring: Aabria Iyengar as Game Master  None      10\n",
       "3  Surena Marie as BINX Choppley; Oscar Montoya a...  None      10\n",
       "4  Lou Wilson as Lord Squak Airavis; Emily Axford...  None      10"
      ]
     },
     "execution_count": 38,
     "metadata": {},
     "output_type": "execute_result"
    }
   ],
   "source": [
    "ACOFF_df.head()   #looks good, looks treatable"
   ]
  },
  {
   "cell_type": "code",
   "execution_count": 39,
   "id": "aa237d03",
   "metadata": {},
   "outputs": [
    {
     "data": {
      "text/plain": [
       "3D    2913\n",
       "7T    2855\n",
       "2T    2842\n",
       "8T    2542\n",
       "5T    2430\n",
       "6O    2368\n",
       "9T    1991\n",
       "1A    1896\n",
       "4S    1871\n",
       "10    1318\n",
       "Name: episode, dtype: int64"
      ]
     },
     "execution_count": 39,
     "metadata": {},
     "output_type": "execute_result"
    }
   ],
   "source": [
    "ACOFF_df.episode.value_counts()  #this is the single digit issue I predicted, but it's cleanable as well"
   ]
  },
  {
   "cell_type": "code",
   "execution_count": 88,
   "id": "48232522",
   "metadata": {},
   "outputs": [
    {
     "data": {
      "text/html": [
       "<div>\n",
       "<style scoped>\n",
       "    .dataframe tbody tr th:only-of-type {\n",
       "        vertical-align: middle;\n",
       "    }\n",
       "\n",
       "    .dataframe tbody tr th {\n",
       "        vertical-align: top;\n",
       "    }\n",
       "\n",
       "    .dataframe thead th {\n",
       "        text-align: right;\n",
       "    }\n",
       "</style>\n",
       "<table border=\"1\" class=\"dataframe\">\n",
       "  <thead>\n",
       "    <tr style=\"text-align: right;\">\n",
       "      <th></th>\n",
       "      <th>variable</th>\n",
       "      <th>value</th>\n",
       "      <th>episode</th>\n",
       "      <th>season</th>\n",
       "    </tr>\n",
       "  </thead>\n",
       "  <tbody>\n",
       "    <tr>\n",
       "      <th>0</th>\n",
       "      <td>Dimension 20 Season 14</td>\n",
       "      <td>None</td>\n",
       "      <td>10</td>\n",
       "      <td>ACOFF</td>\n",
       "    </tr>\n",
       "    <tr>\n",
       "      <th>1</th>\n",
       "      <td>A Court of Fey &amp; Flowers</td>\n",
       "      <td>None</td>\n",
       "      <td>10</td>\n",
       "      <td>ACOFF</td>\n",
       "    </tr>\n",
       "    <tr>\n",
       "      <th>2</th>\n",
       "      <td>Starring: Aabria Iyengar as Game Master</td>\n",
       "      <td>None</td>\n",
       "      <td>10</td>\n",
       "      <td>ACOFF</td>\n",
       "    </tr>\n",
       "    <tr>\n",
       "      <th>3</th>\n",
       "      <td>Surena Marie as BINX Choppley; Oscar Montoya a...</td>\n",
       "      <td>None</td>\n",
       "      <td>10</td>\n",
       "      <td>ACOFF</td>\n",
       "    </tr>\n",
       "    <tr>\n",
       "      <th>4</th>\n",
       "      <td>Lou Wilson as Lord Squak Airavis; Emily Axford...</td>\n",
       "      <td>None</td>\n",
       "      <td>10</td>\n",
       "      <td>ACOFF</td>\n",
       "    </tr>\n",
       "  </tbody>\n",
       "</table>\n",
       "</div>"
      ],
      "text/plain": [
       "                                            variable value episode season\n",
       "0                             Dimension 20 Season 14  None      10  ACOFF\n",
       "1                           A Court of Fey & Flowers  None      10  ACOFF\n",
       "2            Starring: Aabria Iyengar as Game Master  None      10  ACOFF\n",
       "3  Surena Marie as BINX Choppley; Oscar Montoya a...  None      10  ACOFF\n",
       "4  Lou Wilson as Lord Squak Airavis; Emily Axford...  None      10  ACOFF"
      ]
     },
     "execution_count": 88,
     "metadata": {},
     "output_type": "execute_result"
    }
   ],
   "source": [
    "#since the D20 data is made up of a bunch of mini seasons, I wanted to keep this info present\n",
    "#A Court of Fey & Flowers \n",
    "\n",
    "ACOFF_df['season'] = 'ACOFF'   \n",
    "ACOFF_df.head()"
   ]
  },
  {
   "cell_type": "code",
   "execution_count": 41,
   "id": "0fc57ec7",
   "metadata": {},
   "outputs": [
    {
     "name": "stdout",
     "output_type": "stream",
     "text": [
      "0\n",
      "0\n"
     ]
    }
   ],
   "source": [
    "D20list.clear()\n",
    "D20dict.clear()\n",
    "print(len(D20list))\n",
    "print(len(D20dict))\n",
    "\n",
    "#clear the dict and list populated so we can reuse the function freshly"
   ]
  },
  {
   "cell_type": "code",
   "execution_count": 42,
   "id": "38ec635a",
   "metadata": {},
   "outputs": [
    {
     "data": {
      "text/plain": [
       "['D20/ACOFF_AP\\\\Episode10SchrdingersCanon.json',\n",
       " 'D20/ACOFF_AP\\\\Episode11TheWishFactory.json',\n",
       " 'D20/ACOFF_AP\\\\Episode1IDemandSatisfaction.json',\n",
       " 'D20/ACOFF_AP\\\\Episode2ADiamondDoesntKnowTheyreaDiamond.json',\n",
       " 'D20/ACOFF_AP\\\\Episode3WasYourFatheraMeatBurglar.json',\n",
       " 'D20/ACOFF_AP\\\\Episode4NotTooBadForaKidWhoUsedtoLickWalls.json',\n",
       " 'D20/ACOFF_AP\\\\Episode5TrinketsForEverybody.json',\n",
       " 'D20/ACOFF_AP\\\\Episode6KnickolasPterodactylHob.json',\n",
       " 'D20/ACOFF_AP\\\\Episode7ASpillofPearls.json',\n",
       " 'D20/ACOFF_AP\\\\Episode8DoctorGreenHunter.json',\n",
       " 'D20/ACOFF_AP\\\\Episode9DoClothesDie.json']"
      ]
     },
     "execution_count": 42,
     "metadata": {},
     "output_type": "execute_result"
    }
   ],
   "source": [
    "#rinse and repeat\n",
    "#A Court of Fey & Flowers Adventuring Party (after episode chat show)\n",
    "\n",
    "files = glob.glob('D20/ACOFF_AP/*.json' ,recursive=True)\n",
    "files"
   ]
  },
  {
   "cell_type": "code",
   "execution_count": 44,
   "id": "ffe738a2",
   "metadata": {},
   "outputs": [
    {
     "data": {
      "text/plain": [
       "11"
      ]
     },
     "execution_count": 44,
     "metadata": {},
     "output_type": "execute_result"
    }
   ],
   "source": [
    "GetFile(files)\n",
    "len(D20dict)"
   ]
  },
  {
   "cell_type": "code",
   "execution_count": 45,
   "id": "707dd3b1",
   "metadata": {},
   "outputs": [
    {
     "data": {
      "text/plain": [
       "11"
      ]
     },
     "execution_count": 45,
     "metadata": {},
     "output_type": "execute_result"
    }
   ],
   "source": [
    "buildDF(D20dict)\n",
    "len(D20list)"
   ]
  },
  {
   "cell_type": "code",
   "execution_count": 46,
   "id": "f8d783e2",
   "metadata": {},
   "outputs": [
    {
     "data": {
      "text/html": [
       "<div>\n",
       "<style scoped>\n",
       "    .dataframe tbody tr th:only-of-type {\n",
       "        vertical-align: middle;\n",
       "    }\n",
       "\n",
       "    .dataframe tbody tr th {\n",
       "        vertical-align: top;\n",
       "    }\n",
       "\n",
       "    .dataframe thead th {\n",
       "        text-align: right;\n",
       "    }\n",
       "</style>\n",
       "<table border=\"1\" class=\"dataframe\">\n",
       "  <thead>\n",
       "    <tr style=\"text-align: right;\">\n",
       "      <th></th>\n",
       "      <th>variable</th>\n",
       "      <th>value</th>\n",
       "      <th>episode</th>\n",
       "      <th>season</th>\n",
       "    </tr>\n",
       "  </thead>\n",
       "  <tbody>\n",
       "    <tr>\n",
       "      <th>0</th>\n",
       "      <td>Dimension 20</td>\n",
       "      <td>None</td>\n",
       "      <td>10</td>\n",
       "      <td>ACOFF AP</td>\n",
       "    </tr>\n",
       "    <tr>\n",
       "      <th>1</th>\n",
       "      <td>Adventuring Party</td>\n",
       "      <td>None</td>\n",
       "      <td>10</td>\n",
       "      <td>ACOFF AP</td>\n",
       "    </tr>\n",
       "    <tr>\n",
       "      <th>2</th>\n",
       "      <td></td>\n",
       "      <td>None</td>\n",
       "      <td>10</td>\n",
       "      <td>ACOFF AP</td>\n",
       "    </tr>\n",
       "    <tr>\n",
       "      <th>3</th>\n",
       "      <td>Schrödinger’s Canon</td>\n",
       "      <td>None</td>\n",
       "      <td>10</td>\n",
       "      <td>ACOFF AP</td>\n",
       "    </tr>\n",
       "    <tr>\n",
       "      <th>4</th>\n",
       "      <td>Season 10 Episode 10</td>\n",
       "      <td>None</td>\n",
       "      <td>10</td>\n",
       "      <td>ACOFF AP</td>\n",
       "    </tr>\n",
       "  </tbody>\n",
       "</table>\n",
       "</div>"
      ],
      "text/plain": [
       "               variable value episode    season\n",
       "0          Dimension 20  None      10  ACOFF AP\n",
       "1     Adventuring Party  None      10  ACOFF AP\n",
       "2                        None      10  ACOFF AP\n",
       "3   Schrödinger’s Canon  None      10  ACOFF AP\n",
       "4  Season 10 Episode 10  None      10  ACOFF AP"
      ]
     },
     "execution_count": 46,
     "metadata": {},
     "output_type": "execute_result"
    }
   ],
   "source": [
    "ACOFFAP_df = pd.concat(D20list)\n",
    "ACOFFAP_df['season'] = 'ACOFF AP'\n",
    "ACOFFAP_df.head()"
   ]
  },
  {
   "cell_type": "code",
   "execution_count": 47,
   "id": "3fec9007",
   "metadata": {},
   "outputs": [
    {
     "name": "stdout",
     "output_type": "stream",
     "text": [
      "0\n",
      "0\n"
     ]
    }
   ],
   "source": [
    "D20list.clear()\n",
    "D20dict.clear()\n",
    "print(len(D20list))\n",
    "print(len(D20dict))"
   ]
  },
  {
   "cell_type": "code",
   "execution_count": 48,
   "id": "299432f2",
   "metadata": {},
   "outputs": [
    {
     "data": {
      "text/plain": [
       "['D20/BurrowsEnd\\\\Episode10EvolutionandRevolution.json',\n",
       " 'D20/BurrowsEnd\\\\Episode1TheRedWarren.json',\n",
       " 'D20/BurrowsEnd\\\\Episode2BearingtheScars.json',\n",
       " 'D20/BurrowsEnd\\\\Episode3ASecondSun.json',\n",
       " 'D20/BurrowsEnd\\\\Episode4LastBast.json',\n",
       " 'D20/BurrowsEnd\\\\Episode5ProtecttheLight.json',\n",
       " 'D20/BurrowsEnd\\\\Episode6ReactorCharlie.json',\n",
       " 'D20/BurrowsEnd\\\\Episode7TheFirstStoats.json',\n",
       " 'D20/BurrowsEnd\\\\Episode8Five.json',\n",
       " 'D20/BurrowsEnd\\\\Episode9Human.json']"
      ]
     },
     "execution_count": 48,
     "metadata": {},
     "output_type": "execute_result"
    }
   ],
   "source": [
    "#Burrow's End \n",
    "\n",
    "files = glob.glob('D20/BurrowsEnd/*.json' ,recursive=True)\n",
    "files"
   ]
  },
  {
   "cell_type": "code",
   "execution_count": 49,
   "id": "442628c7",
   "metadata": {},
   "outputs": [
    {
     "data": {
      "text/plain": [
       "10"
      ]
     },
     "execution_count": 49,
     "metadata": {},
     "output_type": "execute_result"
    }
   ],
   "source": [
    "GetFile(files)\n",
    "len(D20dict)"
   ]
  },
  {
   "cell_type": "code",
   "execution_count": 50,
   "id": "51366df7",
   "metadata": {},
   "outputs": [
    {
     "data": {
      "text/plain": [
       "10"
      ]
     },
     "execution_count": 50,
     "metadata": {},
     "output_type": "execute_result"
    }
   ],
   "source": [
    "buildDF(D20dict)\n",
    "len(D20list)"
   ]
  },
  {
   "cell_type": "code",
   "execution_count": 51,
   "id": "ea103044",
   "metadata": {},
   "outputs": [
    {
     "data": {
      "text/html": [
       "<div>\n",
       "<style scoped>\n",
       "    .dataframe tbody tr th:only-of-type {\n",
       "        vertical-align: middle;\n",
       "    }\n",
       "\n",
       "    .dataframe tbody tr th {\n",
       "        vertical-align: top;\n",
       "    }\n",
       "\n",
       "    .dataframe thead th {\n",
       "        text-align: right;\n",
       "    }\n",
       "</style>\n",
       "<table border=\"1\" class=\"dataframe\">\n",
       "  <thead>\n",
       "    <tr style=\"text-align: right;\">\n",
       "      <th></th>\n",
       "      <th>variable</th>\n",
       "      <th>value</th>\n",
       "      <th>episode</th>\n",
       "      <th>season</th>\n",
       "    </tr>\n",
       "  </thead>\n",
       "  <tbody>\n",
       "    <tr>\n",
       "      <th>0</th>\n",
       "      <td>Dimension 20 Season 20</td>\n",
       "      <td>None</td>\n",
       "      <td>10</td>\n",
       "      <td>Burrow's End</td>\n",
       "    </tr>\n",
       "    <tr>\n",
       "      <th>1</th>\n",
       "      <td>Burrow’s End</td>\n",
       "      <td>None</td>\n",
       "      <td>10</td>\n",
       "      <td>Burrow's End</td>\n",
       "    </tr>\n",
       "    <tr>\n",
       "      <th>2</th>\n",
       "      <td>StarrinAva: Aabria Iyengar as Game Master</td>\n",
       "      <td>None</td>\n",
       "      <td>10</td>\n",
       "      <td>Burrow's End</td>\n",
       "    </tr>\n",
       "    <tr>\n",
       "      <th>3</th>\n",
       "      <td>Brennan Lee Mulligan as Tula; Erika Ishii as Ava;</td>\n",
       "      <td>None</td>\n",
       "      <td>10</td>\n",
       "      <td>Burrow's End</td>\n",
       "    </tr>\n",
       "    <tr>\n",
       "      <th>4</th>\n",
       "      <td>Siobhan Thompson as Jaysohn; Rashawn Nadine Sc...</td>\n",
       "      <td>None</td>\n",
       "      <td>10</td>\n",
       "      <td>Burrow's End</td>\n",
       "    </tr>\n",
       "  </tbody>\n",
       "</table>\n",
       "</div>"
      ],
      "text/plain": [
       "                                            variable value episode  \\\n",
       "0                             Dimension 20 Season 20  None      10   \n",
       "1                                       Burrow’s End  None      10   \n",
       "2          StarrinAva: Aabria Iyengar as Game Master  None      10   \n",
       "3  Brennan Lee Mulligan as Tula; Erika Ishii as Ava;  None      10   \n",
       "4  Siobhan Thompson as Jaysohn; Rashawn Nadine Sc...  None      10   \n",
       "\n",
       "         season  \n",
       "0  Burrow's End  \n",
       "1  Burrow's End  \n",
       "2  Burrow's End  \n",
       "3  Burrow's End  \n",
       "4  Burrow's End  "
      ]
     },
     "execution_count": 51,
     "metadata": {},
     "output_type": "execute_result"
    }
   ],
   "source": [
    "burrow_df = pd.concat(D20list)\n",
    "burrow_df['season'] = \"Burrow's End\"\n",
    "burrow_df.head()"
   ]
  },
  {
   "cell_type": "code",
   "execution_count": 56,
   "id": "d916450b",
   "metadata": {},
   "outputs": [
    {
     "name": "stdout",
     "output_type": "stream",
     "text": [
      "0\n",
      "0\n"
     ]
    }
   ],
   "source": [
    "D20list.clear()\n",
    "D20dict.clear()\n",
    "print(len(D20list))\n",
    "print(len(D20dict))"
   ]
  },
  {
   "cell_type": "code",
   "execution_count": 57,
   "id": "d4fa4ec4",
   "metadata": {},
   "outputs": [
    {
     "data": {
      "text/plain": [
       "['D20/BurrowsEnd_AP\\\\Episode1StoatalRecall.json',\n",
       " 'D20/BurrowsEnd_AP\\\\Episode2DoesaBearGetEatenOutintheWoods.json',\n",
       " 'D20/BurrowsEnd_AP\\\\Episode3ImHereandImJaysohn.json',\n",
       " 'D20/BurrowsEnd_AP\\\\Episode4TheBastofUs.json',\n",
       " 'D20/BurrowsEnd_AP\\\\Episode5BigEmotionsAreSoFun.json']"
      ]
     },
     "execution_count": 57,
     "metadata": {},
     "output_type": "execute_result"
    }
   ],
   "source": [
    "#Burrow's End Adventuring Party\n",
    "\n",
    "files = glob.glob('D20/BurrowsEnd_AP/*.json' ,recursive=True)\n",
    "files"
   ]
  },
  {
   "cell_type": "code",
   "execution_count": 58,
   "id": "109f5ba7",
   "metadata": {},
   "outputs": [
    {
     "data": {
      "text/plain": [
       "5"
      ]
     },
     "execution_count": 58,
     "metadata": {},
     "output_type": "execute_result"
    }
   ],
   "source": [
    "GetFile(files)\n",
    "len(D20dict)"
   ]
  },
  {
   "cell_type": "code",
   "execution_count": 59,
   "id": "da41ca9a",
   "metadata": {},
   "outputs": [
    {
     "data": {
      "text/plain": [
       "5"
      ]
     },
     "execution_count": 59,
     "metadata": {},
     "output_type": "execute_result"
    }
   ],
   "source": [
    "buildDF(D20dict)\n",
    "len(D20list)"
   ]
  },
  {
   "cell_type": "code",
   "execution_count": 60,
   "id": "09428166",
   "metadata": {},
   "outputs": [
    {
     "data": {
      "text/html": [
       "<div>\n",
       "<style scoped>\n",
       "    .dataframe tbody tr th:only-of-type {\n",
       "        vertical-align: middle;\n",
       "    }\n",
       "\n",
       "    .dataframe tbody tr th {\n",
       "        vertical-align: top;\n",
       "    }\n",
       "\n",
       "    .dataframe thead th {\n",
       "        text-align: right;\n",
       "    }\n",
       "</style>\n",
       "<table border=\"1\" class=\"dataframe\">\n",
       "  <thead>\n",
       "    <tr style=\"text-align: right;\">\n",
       "      <th></th>\n",
       "      <th>variable</th>\n",
       "      <th>value</th>\n",
       "      <th>episode</th>\n",
       "      <th>season</th>\n",
       "    </tr>\n",
       "  </thead>\n",
       "  <tbody>\n",
       "    <tr>\n",
       "      <th>0</th>\n",
       "      <td>Dimension 20</td>\n",
       "      <td>None</td>\n",
       "      <td>1S</td>\n",
       "      <td>Burrow's End AP</td>\n",
       "    </tr>\n",
       "    <tr>\n",
       "      <th>1</th>\n",
       "      <td>Adventuring Party</td>\n",
       "      <td>None</td>\n",
       "      <td>1S</td>\n",
       "      <td>Burrow's End AP</td>\n",
       "    </tr>\n",
       "    <tr>\n",
       "      <th>2</th>\n",
       "      <td></td>\n",
       "      <td>None</td>\n",
       "      <td>1S</td>\n",
       "      <td>Burrow's End AP</td>\n",
       "    </tr>\n",
       "    <tr>\n",
       "      <th>3</th>\n",
       "      <td>Stoatal Recall</td>\n",
       "      <td>None</td>\n",
       "      <td>1S</td>\n",
       "      <td>Burrow's End AP</td>\n",
       "    </tr>\n",
       "    <tr>\n",
       "      <th>4</th>\n",
       "      <td>Season 15 Episode 1</td>\n",
       "      <td>None</td>\n",
       "      <td>1S</td>\n",
       "      <td>Burrow's End AP</td>\n",
       "    </tr>\n",
       "  </tbody>\n",
       "</table>\n",
       "</div>"
      ],
      "text/plain": [
       "              variable value episode           season\n",
       "0         Dimension 20  None      1S  Burrow's End AP\n",
       "1    Adventuring Party  None      1S  Burrow's End AP\n",
       "2                       None      1S  Burrow's End AP\n",
       "3       Stoatal Recall  None      1S  Burrow's End AP\n",
       "4  Season 15 Episode 1  None      1S  Burrow's End AP"
      ]
     },
     "execution_count": 60,
     "metadata": {},
     "output_type": "execute_result"
    }
   ],
   "source": [
    "burrowAP_df = pd.concat(D20list)\n",
    "burrowAP_df['season'] = \"Burrow's End AP\"\n",
    "burrowAP_df.head()"
   ]
  },
  {
   "cell_type": "code",
   "execution_count": 62,
   "id": "c3878645",
   "metadata": {},
   "outputs": [
    {
     "name": "stdout",
     "output_type": "stream",
     "text": [
      "0\n",
      "0\n"
     ]
    }
   ],
   "source": [
    "D20list.clear()\n",
    "D20dict.clear()\n",
    "print(len(D20list))\n",
    "print(len(D20dict))"
   ]
  },
  {
   "cell_type": "code",
   "execution_count": 63,
   "id": "6281bfef",
   "metadata": {},
   "outputs": [
    {
     "data": {
      "text/plain": [
       "['D20/Misfits_and_Magic\\\\Episode1TheChosenOnes.json',\n",
       " 'D20/Misfits_and_Magic\\\\Episode2ClassConflict.json',\n",
       " 'D20/Misfits_and_Magic\\\\Episode3FamilyOnSix.json',\n",
       " 'D20/Misfits_and_Magic\\\\Episode4WeretheHeroes.json',\n",
       " 'D20/Misfits_and_Magic\\\\MisfitsMagicHolidaySpecial.json']"
      ]
     },
     "execution_count": 63,
     "metadata": {},
     "output_type": "execute_result"
    }
   ],
   "source": [
    "#Misfits & Magic (this is complete data, it's a short series)\n",
    "\n",
    "files = glob.glob('D20/Misfits_and_Magic/*.json' ,recursive=True)\n",
    "files"
   ]
  },
  {
   "cell_type": "code",
   "execution_count": 64,
   "id": "29f38601",
   "metadata": {},
   "outputs": [
    {
     "data": {
      "text/plain": [
       "5"
      ]
     },
     "execution_count": 64,
     "metadata": {},
     "output_type": "execute_result"
    }
   ],
   "source": [
    "GetFile(files)\n",
    "len(D20dict)"
   ]
  },
  {
   "cell_type": "code",
   "execution_count": 65,
   "id": "a5bb47af",
   "metadata": {},
   "outputs": [
    {
     "data": {
      "text/plain": [
       "5"
      ]
     },
     "execution_count": 65,
     "metadata": {},
     "output_type": "execute_result"
    }
   ],
   "source": [
    "buildDF(D20dict)\n",
    "len(D20list)"
   ]
  },
  {
   "cell_type": "code",
   "execution_count": 66,
   "id": "65eb3021",
   "metadata": {},
   "outputs": [
    {
     "data": {
      "text/html": [
       "<div>\n",
       "<style scoped>\n",
       "    .dataframe tbody tr th:only-of-type {\n",
       "        vertical-align: middle;\n",
       "    }\n",
       "\n",
       "    .dataframe tbody tr th {\n",
       "        vertical-align: top;\n",
       "    }\n",
       "\n",
       "    .dataframe thead th {\n",
       "        text-align: right;\n",
       "    }\n",
       "</style>\n",
       "<table border=\"1\" class=\"dataframe\">\n",
       "  <thead>\n",
       "    <tr style=\"text-align: right;\">\n",
       "      <th></th>\n",
       "      <th>variable</th>\n",
       "      <th>value</th>\n",
       "      <th>episode</th>\n",
       "      <th>season</th>\n",
       "    </tr>\n",
       "  </thead>\n",
       "  <tbody>\n",
       "    <tr>\n",
       "      <th>0</th>\n",
       "      <td>Dimension 20</td>\n",
       "      <td>None</td>\n",
       "      <td>1T</td>\n",
       "      <td>Misfits and Magic</td>\n",
       "    </tr>\n",
       "    <tr>\n",
       "      <th>1</th>\n",
       "      <td>Misfits and Magic</td>\n",
       "      <td>None</td>\n",
       "      <td>1T</td>\n",
       "      <td>Misfits and Magic</td>\n",
       "    </tr>\n",
       "    <tr>\n",
       "      <th>2</th>\n",
       "      <td>Starring: Aabria Iyengar as Game Master</td>\n",
       "      <td>None</td>\n",
       "      <td>1T</td>\n",
       "      <td>Misfits and Magic</td>\n",
       "    </tr>\n",
       "    <tr>\n",
       "      <th>3</th>\n",
       "      <td>Erika Ishii as Dream;</td>\n",
       "      <td>None</td>\n",
       "      <td>1T</td>\n",
       "      <td>Misfits and Magic</td>\n",
       "    </tr>\n",
       "    <tr>\n",
       "      <th>4</th>\n",
       "      <td>Danielle Radford as Sam Black;</td>\n",
       "      <td>None</td>\n",
       "      <td>1T</td>\n",
       "      <td>Misfits and Magic</td>\n",
       "    </tr>\n",
       "  </tbody>\n",
       "</table>\n",
       "</div>"
      ],
      "text/plain": [
       "                                  variable value episode             season\n",
       "0                             Dimension 20  None      1T  Misfits and Magic\n",
       "1                        Misfits and Magic  None      1T  Misfits and Magic\n",
       "2  Starring: Aabria Iyengar as Game Master  None      1T  Misfits and Magic\n",
       "3                    Erika Ishii as Dream;  None      1T  Misfits and Magic\n",
       "4           Danielle Radford as Sam Black;  None      1T  Misfits and Magic"
      ]
     },
     "execution_count": 66,
     "metadata": {},
     "output_type": "execute_result"
    }
   ],
   "source": [
    "mismag_df = pd.concat(D20list)\n",
    "mismag_df['season'] = \"Misfits and Magic\"\n",
    "mismag_df.head()"
   ]
  },
  {
   "cell_type": "code",
   "execution_count": 68,
   "id": "973e3238",
   "metadata": {},
   "outputs": [
    {
     "name": "stdout",
     "output_type": "stream",
     "text": [
      "0\n",
      "0\n"
     ]
    }
   ],
   "source": [
    "D20list.clear()\n",
    "D20dict.clear()\n",
    "print(len(D20list))\n",
    "print(len(D20dict))"
   ]
  },
  {
   "cell_type": "code",
   "execution_count": 69,
   "id": "54a630c1",
   "metadata": {},
   "outputs": [
    {
     "data": {
      "text/plain": [
       "['D20/MisMag_AP\\\\Episode1CluckifYouBuck.json',\n",
       " 'D20/MisMag_AP\\\\Episode2TrueFactsAboutMcDonaldsApplePie.json',\n",
       " 'D20/MisMag_AP\\\\Episode3WetFire_andBadNewsBrooms_.json',\n",
       " 'D20/MisMag_AP\\\\Episode4ThatstheSquad.json',\n",
       " 'D20/MisMag_AP\\\\Episode5EverybodyPutTheirLittleStankOnIt.json']"
      ]
     },
     "execution_count": 69,
     "metadata": {},
     "output_type": "execute_result"
    }
   ],
   "source": [
    "#Misfits & Magic Adventuring party (full)\n",
    "\n",
    "files = glob.glob('D20/MisMag_AP/*.json' ,recursive=True)\n",
    "files"
   ]
  },
  {
   "cell_type": "code",
   "execution_count": 70,
   "id": "8e1f305d",
   "metadata": {},
   "outputs": [
    {
     "data": {
      "text/plain": [
       "5"
      ]
     },
     "execution_count": 70,
     "metadata": {},
     "output_type": "execute_result"
    }
   ],
   "source": [
    "GetFile(files)\n",
    "len(D20dict)"
   ]
  },
  {
   "cell_type": "code",
   "execution_count": 71,
   "id": "b4c47d4d",
   "metadata": {},
   "outputs": [
    {
     "data": {
      "text/plain": [
       "5"
      ]
     },
     "execution_count": 71,
     "metadata": {},
     "output_type": "execute_result"
    }
   ],
   "source": [
    "buildDF(D20dict)\n",
    "len(D20list)"
   ]
  },
  {
   "cell_type": "code",
   "execution_count": 72,
   "id": "87447057",
   "metadata": {},
   "outputs": [
    {
     "data": {
      "text/html": [
       "<div>\n",
       "<style scoped>\n",
       "    .dataframe tbody tr th:only-of-type {\n",
       "        vertical-align: middle;\n",
       "    }\n",
       "\n",
       "    .dataframe tbody tr th {\n",
       "        vertical-align: top;\n",
       "    }\n",
       "\n",
       "    .dataframe thead th {\n",
       "        text-align: right;\n",
       "    }\n",
       "</style>\n",
       "<table border=\"1\" class=\"dataframe\">\n",
       "  <thead>\n",
       "    <tr style=\"text-align: right;\">\n",
       "      <th></th>\n",
       "      <th>variable</th>\n",
       "      <th>value</th>\n",
       "      <th>episode</th>\n",
       "      <th>season</th>\n",
       "    </tr>\n",
       "  </thead>\n",
       "  <tbody>\n",
       "    <tr>\n",
       "      <th>0</th>\n",
       "      <td>Dimension 20</td>\n",
       "      <td>None</td>\n",
       "      <td>1C</td>\n",
       "      <td>Misfits and Magic AP</td>\n",
       "    </tr>\n",
       "    <tr>\n",
       "      <th>1</th>\n",
       "      <td>Adventuring Party</td>\n",
       "      <td>None</td>\n",
       "      <td>1C</td>\n",
       "      <td>Misfits and Magic AP</td>\n",
       "    </tr>\n",
       "    <tr>\n",
       "      <th>2</th>\n",
       "      <td>Cluck if You Buck</td>\n",
       "      <td>None</td>\n",
       "      <td>1C</td>\n",
       "      <td>Misfits and Magic AP</td>\n",
       "    </tr>\n",
       "    <tr>\n",
       "      <th>3</th>\n",
       "      <td>Season 5 Episode 1</td>\n",
       "      <td>None</td>\n",
       "      <td>1C</td>\n",
       "      <td>Misfits and Magic AP</td>\n",
       "    </tr>\n",
       "    <tr>\n",
       "      <th>4</th>\n",
       "      <td>[Next Episode] &gt;</td>\n",
       "      <td>None</td>\n",
       "      <td>1C</td>\n",
       "      <td>Misfits and Magic AP</td>\n",
       "    </tr>\n",
       "  </tbody>\n",
       "</table>\n",
       "</div>"
      ],
      "text/plain": [
       "             variable value episode                season\n",
       "0        Dimension 20  None      1C  Misfits and Magic AP\n",
       "1   Adventuring Party  None      1C  Misfits and Magic AP\n",
       "2   Cluck if You Buck  None      1C  Misfits and Magic AP\n",
       "3  Season 5 Episode 1  None      1C  Misfits and Magic AP\n",
       "4    [Next Episode] >  None      1C  Misfits and Magic AP"
      ]
     },
     "execution_count": 72,
     "metadata": {},
     "output_type": "execute_result"
    }
   ],
   "source": [
    "mismagAP_df = pd.concat(D20list)\n",
    "mismagAP_df['season'] = \"Misfits and Magic AP\"\n",
    "mismagAP_df.head()"
   ]
  },
  {
   "cell_type": "code",
   "execution_count": 74,
   "id": "8745df5a",
   "metadata": {},
   "outputs": [
    {
     "name": "stdout",
     "output_type": "stream",
     "text": [
      "0\n",
      "0\n"
     ]
    }
   ],
   "source": [
    "D20list.clear()\n",
    "D20dict.clear()\n",
    "print(len(D20list))\n",
    "print(len(D20dict))"
   ]
  },
  {
   "cell_type": "code",
   "execution_count": 75,
   "id": "f62bcb4e",
   "metadata": {},
   "outputs": [
    {
     "data": {
      "text/plain": [
       "['D20/MisMag2\\\\Episode1AMeetingofMisfits.json',\n",
       " 'D20/MisMag2\\\\Episode2MagmaandMingle.json']"
      ]
     },
     "execution_count": 75,
     "metadata": {},
     "output_type": "execute_result"
    }
   ],
   "source": [
    "#Misfits & Magic 2 (INCOMPLETE DATA)\n",
    "\n",
    "files = glob.glob('D20/MisMag2/*.json' ,recursive=True)\n",
    "files"
   ]
  },
  {
   "cell_type": "code",
   "execution_count": 76,
   "id": "fcbbb8e4",
   "metadata": {},
   "outputs": [
    {
     "data": {
      "text/plain": [
       "2"
      ]
     },
     "execution_count": 76,
     "metadata": {},
     "output_type": "execute_result"
    }
   ],
   "source": [
    "GetFile(files)\n",
    "len(D20dict)"
   ]
  },
  {
   "cell_type": "code",
   "execution_count": 77,
   "id": "77a1c378",
   "metadata": {},
   "outputs": [
    {
     "data": {
      "text/plain": [
       "2"
      ]
     },
     "execution_count": 77,
     "metadata": {},
     "output_type": "execute_result"
    }
   ],
   "source": [
    "buildDF(D20dict)\n",
    "len(D20list)"
   ]
  },
  {
   "cell_type": "code",
   "execution_count": 78,
   "id": "13795d23",
   "metadata": {},
   "outputs": [
    {
     "data": {
      "text/html": [
       "<div>\n",
       "<style scoped>\n",
       "    .dataframe tbody tr th:only-of-type {\n",
       "        vertical-align: middle;\n",
       "    }\n",
       "\n",
       "    .dataframe tbody tr th {\n",
       "        vertical-align: top;\n",
       "    }\n",
       "\n",
       "    .dataframe thead th {\n",
       "        text-align: right;\n",
       "    }\n",
       "</style>\n",
       "<table border=\"1\" class=\"dataframe\">\n",
       "  <thead>\n",
       "    <tr style=\"text-align: right;\">\n",
       "      <th></th>\n",
       "      <th>variable</th>\n",
       "      <th>value</th>\n",
       "      <th>episode</th>\n",
       "      <th>season</th>\n",
       "    </tr>\n",
       "  </thead>\n",
       "  <tbody>\n",
       "    <tr>\n",
       "      <th>0</th>\n",
       "      <td>Dimension 20 Season 23</td>\n",
       "      <td>None</td>\n",
       "      <td>1A</td>\n",
       "      <td>Misfits and Magic 2</td>\n",
       "    </tr>\n",
       "    <tr>\n",
       "      <th>1</th>\n",
       "      <td>Misfits and Magic Season 2</td>\n",
       "      <td>None</td>\n",
       "      <td>1A</td>\n",
       "      <td>Misfits and Magic 2</td>\n",
       "    </tr>\n",
       "    <tr>\n",
       "      <th>2</th>\n",
       "      <td>Starring: Aabria Iyengar as Game Master;</td>\n",
       "      <td>None</td>\n",
       "      <td>1A</td>\n",
       "      <td>Misfits and Magic 2</td>\n",
       "    </tr>\n",
       "    <tr>\n",
       "      <th>3</th>\n",
       "      <td>Erika Ishii as K; Danielle Radford as Sam Black;</td>\n",
       "      <td>None</td>\n",
       "      <td>1A</td>\n",
       "      <td>Misfits and Magic 2</td>\n",
       "    </tr>\n",
       "    <tr>\n",
       "      <th>4</th>\n",
       "      <td>Lou Wilson as Jammer Jammer; and Brennan Lee M...</td>\n",
       "      <td>None</td>\n",
       "      <td>1A</td>\n",
       "      <td>Misfits and Magic 2</td>\n",
       "    </tr>\n",
       "  </tbody>\n",
       "</table>\n",
       "</div>"
      ],
      "text/plain": [
       "                                            variable value episode  \\\n",
       "0                             Dimension 20 Season 23  None      1A   \n",
       "1                         Misfits and Magic Season 2  None      1A   \n",
       "2           Starring: Aabria Iyengar as Game Master;  None      1A   \n",
       "3   Erika Ishii as K; Danielle Radford as Sam Black;  None      1A   \n",
       "4  Lou Wilson as Jammer Jammer; and Brennan Lee M...  None      1A   \n",
       "\n",
       "                season  \n",
       "0  Misfits and Magic 2  \n",
       "1  Misfits and Magic 2  \n",
       "2  Misfits and Magic 2  \n",
       "3  Misfits and Magic 2  \n",
       "4  Misfits and Magic 2  "
      ]
     },
     "execution_count": 78,
     "metadata": {},
     "output_type": "execute_result"
    }
   ],
   "source": [
    "mismag2_df = pd.concat(D20list)\n",
    "mismag2_df['season'] = \"Misfits and Magic 2\"\n",
    "mismag2_df.head()"
   ]
  },
  {
   "cell_type": "code",
   "execution_count": 89,
   "id": "0a3e67a1",
   "metadata": {},
   "outputs": [],
   "source": [
    "#There was no Misfits & Magic 2 AP data YET"
   ]
  },
  {
   "cell_type": "code",
   "execution_count": null,
   "id": "9baedc0c",
   "metadata": {},
   "outputs": [],
   "source": []
  }
 ],
 "metadata": {
  "kernelspec": {
   "display_name": "DataSci",
   "language": "python",
   "name": "datasci"
  },
  "language_info": {
   "codemirror_mode": {
    "name": "ipython",
    "version": 3
   },
   "file_extension": ".py",
   "mimetype": "text/x-python",
   "name": "python",
   "nbconvert_exporter": "python",
   "pygments_lexer": "ipython3",
   "version": "3.11.4"
  }
 },
 "nbformat": 4,
 "nbformat_minor": 5
}
