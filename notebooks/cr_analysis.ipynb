{
 "cells": [
  {
   "cell_type": "code",
   "execution_count": 1,
   "id": "74d48951",
   "metadata": {},
   "outputs": [],
   "source": [
    "import pickle\n",
    "import pandas as pd\n",
    "import re\n",
    "from matplotlib import pyplot as plt\n",
    "import nltk\n",
    "import string\n",
    "import itertools\n",
    "import seaborn as sns"
   ]
  },
  {
   "cell_type": "code",
   "execution_count": 2,
   "id": "6f021c2f",
   "metadata": {},
   "outputs": [
    {
     "data": {
      "text/html": [
       "<div>\n",
       "<style scoped>\n",
       "    .dataframe tbody tr th:only-of-type {\n",
       "        vertical-align: middle;\n",
       "    }\n",
       "\n",
       "    .dataframe tbody tr th {\n",
       "        vertical-align: top;\n",
       "    }\n",
       "\n",
       "    .dataframe thead th {\n",
       "        text-align: right;\n",
       "    }\n",
       "</style>\n",
       "<table border=\"1\" class=\"dataframe\">\n",
       "  <thead>\n",
       "    <tr style=\"text-align: right;\">\n",
       "      <th></th>\n",
       "      <th>index</th>\n",
       "      <th>name</th>\n",
       "      <th>speech_turn</th>\n",
       "      <th>episode</th>\n",
       "      <th>timestamp</th>\n",
       "      <th>inaudible_speech</th>\n",
       "      <th>nonspeech</th>\n",
       "    </tr>\n",
       "  </thead>\n",
       "  <tbody>\n",
       "    <tr>\n",
       "      <th>0</th>\n",
       "      <td>0</td>\n",
       "      <td>MATT</td>\n",
       "      <td>We've got some cool stuff to talk about. First...</td>\n",
       "      <td>1</td>\n",
       "      <td>00:00:15</td>\n",
       "      <td></td>\n",
       "      <td></td>\n",
       "    </tr>\n",
       "    <tr>\n",
       "      <th>1</th>\n",
       "      <td>1</td>\n",
       "      <td>LAURA</td>\n",
       "      <td>As in nnnn.</td>\n",
       "      <td>1</td>\n",
       "      <td>00:01:21</td>\n",
       "      <td></td>\n",
       "      <td></td>\n",
       "    </tr>\n",
       "    <tr>\n",
       "      <th>2</th>\n",
       "      <td>2</td>\n",
       "      <td>MATT</td>\n",
       "      <td>Nnnn. But yeah, so they're going to be a long-...</td>\n",
       "      <td>1</td>\n",
       "      <td>00:01:24</td>\n",
       "      <td></td>\n",
       "      <td></td>\n",
       "    </tr>\n",
       "    <tr>\n",
       "      <th>3</th>\n",
       "      <td>3</td>\n",
       "      <td>TRAVIS</td>\n",
       "      <td>Would you like some?</td>\n",
       "      <td>1</td>\n",
       "      <td>00:02:04</td>\n",
       "      <td></td>\n",
       "      <td>(vomiting noises)</td>\n",
       "    </tr>\n",
       "    <tr>\n",
       "      <th>4</th>\n",
       "      <td>4</td>\n",
       "      <td>MATT</td>\n",
       "      <td>So yeah. I'm super excited to have that, guys....</td>\n",
       "      <td>1</td>\n",
       "      <td>00:02:07</td>\n",
       "      <td></td>\n",
       "      <td></td>\n",
       "    </tr>\n",
       "    <tr>\n",
       "      <th>...</th>\n",
       "      <td>...</td>\n",
       "      <td>...</td>\n",
       "      <td>...</td>\n",
       "      <td>...</td>\n",
       "      <td>...</td>\n",
       "      <td>...</td>\n",
       "      <td>...</td>\n",
       "    </tr>\n",
       "    <tr>\n",
       "      <th>434047</th>\n",
       "      <td>2722</td>\n",
       "      <td>MATT</td>\n",
       "      <td>We're going to get through this together, guys.</td>\n",
       "      <td>99</td>\n",
       "      <td>03:47:47</td>\n",
       "      <td></td>\n",
       "      <td></td>\n",
       "    </tr>\n",
       "    <tr>\n",
       "      <th>434048</th>\n",
       "      <td>2723</td>\n",
       "      <td>SAM</td>\n",
       "      <td>Wash your stubbly face.</td>\n",
       "      <td>99</td>\n",
       "      <td>03:47:49</td>\n",
       "      <td></td>\n",
       "      <td></td>\n",
       "    </tr>\n",
       "    <tr>\n",
       "      <th>434049</th>\n",
       "      <td>2724</td>\n",
       "      <td>TRAVIS</td>\n",
       "      <td>Gross.</td>\n",
       "      <td>99</td>\n",
       "      <td>03:47:51</td>\n",
       "      <td></td>\n",
       "      <td></td>\n",
       "    </tr>\n",
       "    <tr>\n",
       "      <th>434050</th>\n",
       "      <td>2725</td>\n",
       "      <td>MATT</td>\n",
       "      <td></td>\n",
       "      <td>99</td>\n",
       "      <td>03:47:52</td>\n",
       "      <td></td>\n",
       "      <td>(cheering)</td>\n",
       "    </tr>\n",
       "    <tr>\n",
       "      <th>434051</th>\n",
       "      <td>2726</td>\n",
       "      <td>TRAVIS</td>\n",
       "      <td></td>\n",
       "      <td>99</td>\n",
       "      <td>03:47:57</td>\n",
       "      <td></td>\n",
       "      <td>(dramatic orchestral music)</td>\n",
       "    </tr>\n",
       "  </tbody>\n",
       "</table>\n",
       "<p>434050 rows × 7 columns</p>\n",
       "</div>"
      ],
      "text/plain": [
       "        index    name                                        speech_turn  \\\n",
       "0           0    MATT  We've got some cool stuff to talk about. First...   \n",
       "1           1   LAURA                                       As in nnnn.    \n",
       "2           2    MATT  Nnnn. But yeah, so they're going to be a long-...   \n",
       "3           3  TRAVIS                              Would you like some?    \n",
       "4           4    MATT  So yeah. I'm super excited to have that, guys....   \n",
       "...       ...     ...                                                ...   \n",
       "434047   2722    MATT   We're going to get through this together, guys.    \n",
       "434048   2723     SAM                           Wash your stubbly face.    \n",
       "434049   2724  TRAVIS                                            Gross.    \n",
       "434050   2725    MATT                                                      \n",
       "434051   2726  TRAVIS                                                      \n",
       "\n",
       "       episode timestamp inaudible_speech                     nonspeech  \n",
       "0            1  00:00:15                                                 \n",
       "1            1  00:01:21                                                 \n",
       "2            1  00:01:24                                                 \n",
       "3            1  00:02:04                              (vomiting noises)  \n",
       "4            1  00:02:07                                                 \n",
       "...        ...       ...              ...                           ...  \n",
       "434047      99  03:47:47                                                 \n",
       "434048      99  03:47:49                                                 \n",
       "434049      99  03:47:51                                                 \n",
       "434050      99  03:47:52                                    (cheering)   \n",
       "434051      99  03:47:57                   (dramatic orchestral music)   \n",
       "\n",
       "[434050 rows x 7 columns]"
      ]
     },
     "execution_count": 2,
     "metadata": {},
     "output_type": "execute_result"
    }
   ],
   "source": [
    "cr_df = pd.read_pickle('../pickle_jar/CritRole_split.pkl')\n",
    "cr_df['text'] = cr_df['text'].str.replace(r'♫', r'', regex=True).astype('str')\n",
    "cr_df = cr_df.rename(columns={'text': 'speech_turn'})\n",
    "cr_df=cr_df.drop(321664) #another full produced song (not them singing at the table) skewing the sent length data badly\n",
    "cr_df=cr_df.drop(78020)  #a badly coded line (spit out some meta info it looks like) skewing word len data\n",
    "cr_df"
   ]
  },
  {
   "cell_type": "code",
   "execution_count": 3,
   "id": "166c5b89",
   "metadata": {},
   "outputs": [],
   "source": [
    "#found some name misspellings and some (confirmed) sporadic useage of character names instead of player names, but very few (weird)\n",
    "cr_df['name'] = cr_df['name'].str.replace(r'MTT', r'MATT', regex=True).astype('str')\n",
    "cr_df['name'] = cr_df['name'].str.replace(r'AMTT', r'MATT', regex=True).astype('str')\n",
    "cr_df['name'] = cr_df['name'].str.replace(r'NOTT', r'SAM', regex=True).astype('str')\n",
    "cr_df['name'] = cr_df['name'].str.replace(r'CALEB', r'LIAM', regex=True).astype('str')\n",
    "cr_df['name'] = cr_df['name'].str.replace(r'BEAU', r'MARISHA', regex=True).astype('str')\n",
    "cr_df['name'] = cr_df['name'].str.replace(r'JESTER', r'MATT', regex=True).astype('str')"
   ]
  },
  {
   "cell_type": "markdown",
   "id": "3fca8b32",
   "metadata": {},
   "source": [
    "# Table of Contents \n",
    "\n",
    "### Part 1\n",
    "\n",
    "1. [Counting Lines](#Counting-Lines)\n",
    "    - [Exploring Results](#Exploring-Results)<br>\n",
    "    <br>\n",
    "2. [Adding new columns](#Adding-new-columns)\n",
    "    - [Word Counts](#Word-counts-(per-line))\n",
    "    - [Words per speaker](#Total-words-per-speaker)\n",
    "    - [Unique words per speaker](#Unique-words-per-speaker)\n",
    "    - [Word Length](#Word-Length)\n",
    "    - [Sentences and sentence length](#Sentences-and-sentence-length)<br>\n",
    "<br>   \n",
    "3. [Initial Conlusions](#Initial-Conlusions)\n",
    "\n",
    "### Part 2\n",
    "\n",
    "1. [Dividing the data by group](#Dividing-the-data-by-group)"
   ]
  },
  {
   "cell_type": "markdown",
   "id": "8011bf07",
   "metadata": {},
   "source": [
    "## Counting Lines\n",
    "\n",
    "First thing's first, let's just see how many lines each speaker has as a basis to go off of for the rest of our research.\n",
    "\n",
    "The problem I had initially was counting *all* lines associated per name, including lines in the 'speech turn' column that are empty because the value had been moved to the 'nonspeech' or 'inaudible' columns instead. To combat this, I've selected only the name and text columns and dropped any row from the text column that contains no text. By doing this we've eliminated 11,474 lines from the text volume that have no value."
   ]
  },
  {
   "cell_type": "code",
   "execution_count": 4,
   "id": "fd75d5a7",
   "metadata": {},
   "outputs": [],
   "source": [
    "lcount = cr_df[['name', 'speech_turn']].copy() #copy just these two cols over for now\n",
    "lcount = lcount[lcount['speech_turn'] != '']  #drop any rows without any value"
   ]
  },
  {
   "cell_type": "code",
   "execution_count": 5,
   "id": "32c44494",
   "metadata": {},
   "outputs": [
    {
     "data": {
      "text/html": [
       "<div>\n",
       "<style scoped>\n",
       "    .dataframe tbody tr th:only-of-type {\n",
       "        vertical-align: middle;\n",
       "    }\n",
       "\n",
       "    .dataframe tbody tr th {\n",
       "        vertical-align: top;\n",
       "    }\n",
       "\n",
       "    .dataframe thead th {\n",
       "        text-align: right;\n",
       "    }\n",
       "</style>\n",
       "<table border=\"1\" class=\"dataframe\">\n",
       "  <thead>\n",
       "    <tr style=\"text-align: right;\">\n",
       "      <th></th>\n",
       "      <th>name</th>\n",
       "      <th>speech_turn</th>\n",
       "    </tr>\n",
       "  </thead>\n",
       "  <tbody>\n",
       "    <tr>\n",
       "      <th>200</th>\n",
       "      <td>MATT</td>\n",
       "      <td>109579</td>\n",
       "    </tr>\n",
       "    <tr>\n",
       "      <th>104</th>\n",
       "      <td>LAURA</td>\n",
       "      <td>58407</td>\n",
       "    </tr>\n",
       "    <tr>\n",
       "      <th>245</th>\n",
       "      <td>SAM</td>\n",
       "      <td>50447</td>\n",
       "    </tr>\n",
       "    <tr>\n",
       "      <th>168</th>\n",
       "      <td>MARISHA</td>\n",
       "      <td>48138</td>\n",
       "    </tr>\n",
       "    <tr>\n",
       "      <th>316</th>\n",
       "      <td>TRAVIS</td>\n",
       "      <td>48073</td>\n",
       "    </tr>\n",
       "    <tr>\n",
       "      <th>136</th>\n",
       "      <td>LIAM</td>\n",
       "      <td>40254</td>\n",
       "    </tr>\n",
       "    <tr>\n",
       "      <th>293</th>\n",
       "      <td>TALIESIN</td>\n",
       "      <td>39736</td>\n",
       "    </tr>\n",
       "    <tr>\n",
       "      <th>14</th>\n",
       "      <td>ASHLEY</td>\n",
       "      <td>17166</td>\n",
       "    </tr>\n",
       "  </tbody>\n",
       "</table>\n",
       "</div>"
      ],
      "text/plain": [
       "         name  speech_turn\n",
       "200      MATT       109579\n",
       "104     LAURA        58407\n",
       "245       SAM        50447\n",
       "168   MARISHA        48138\n",
       "316    TRAVIS        48073\n",
       "136      LIAM        40254\n",
       "293  TALIESIN        39736\n",
       "14     ASHLEY        17166"
      ]
     },
     "execution_count": 5,
     "metadata": {},
     "output_type": "execute_result"
    }
   ],
   "source": [
    "spcount = pd.DataFrame(lcount.groupby(['name'])['speech_turn'].count())\n",
    "spcount = spcount.reset_index()\n",
    "spcount = spcount.sort_values('speech_turn', ascending=False)\n",
    "spcount.head(n=8)"
   ]
  },
  {
   "cell_type": "markdown",
   "id": "1228c40e",
   "metadata": {},
   "source": [
    "So here are the line counts per main cast member! Very interesting stuff. Predictably, Matt talks a *lot* more than every other participant, almost twice as much as the second most lines spoken."
   ]
  },
  {
   "cell_type": "code",
   "execution_count": 6,
   "id": "7b732602",
   "metadata": {},
   "outputs": [
    {
     "data": {
      "image/png": "[encoded data removed]",
      "text/plain": [
       "<Figure size 640x480 with 1 Axes>"
      ]
     },
     "metadata": {},
     "output_type": "display_data"
    }
   ],
   "source": [
    "plt.pie(spcount['speech_turn'], labels=spcount['name'], autopct='%1.1f%%')\n",
    "plt.axis('equal')\n",
    "plt.title('Lines per Participant')\n",
    "plt.show()"
   ]
  },
  {
   "cell_type": "markdown",
   "id": "e307bc8f",
   "metadata": {},
   "source": [
    "## Exploring Results\n",
    "\n",
    "First of all, there is some important information to add some context to the information we're looking at. \n",
    "\n",
    "#### 1\n",
    "First thing is attendance. The fan-run website [CritRole Stats](https://www.critrolestats.com/stats) tracks a number of statistics for each episode of Critical Role. The one we're looking at is Campaign 2 (Mighty Nein Campaign). They have very helpfully included attendance among their stats!<br>\n",
    "Not every player was present for every single episode. Laura and Travis left for some time for parental leave, Taliesin had a character death, and Ashley was away for a time filming for a television show. This show spanned multiple years, Jan 2018 to June 2021, on a weekly basis except for a period from March to July 2020 for quarantine. It's not odd to have someone have to miss an episode sometimes.\n",
    "\n",
    "Here is the attendance list by CR Stats:<br>\n",
    "Matt      -> 141<br>\n",
    "Marisha\t  -> 141<br>\n",
    "Sam\t      -> 141<br>\n",
    "Liam\t  -> 140<br>\n",
    "Taliesin  -> 139<br>\n",
    "Travis\t  -> 136<br>\n",
    "Laura\t  -> 133<br>\n",
    "Ashley\t  -> 86\n",
    "\n",
    "Interestingly, this explains why Ashley has as few lines as she does, but otherwise there is not a 1:1 match of attendance to how much a player spoke.\n",
    "\n",
    "#### 2\n",
    "Another thing to consider is characters. Laura may have been in the second to least episodes out of the full cast, but her character, Jester, is an excitable motormouth. Marisha and Travis, on the other hand, play slightly more serious characters , and Liam, Ashley, and Taliesin (from episode 30-ish onward) play more stoic types. \n",
    "\n",
    "#### 3\n",
    "Finally, roles. At the top of each episode (or most of them, at least), two things happen. Sam reads ads for the show, often making them into skits or scripts full of jokes and siliness. Then, often, Laura updates viewers on new merch added to their store, what's available, what's coming and when it'll be available, and so on. It wouldn't be surprising to find that this affects their speech totals by a good bit."
   ]
  },
  {
   "cell_type": "markdown",
   "id": "ca73d371",
   "metadata": {},
   "source": [
    "Since I spent so long crafting that nonspeech column let's take a look at its values just to see what we see. "
   ]
  },
  {
   "cell_type": "code",
   "execution_count": 7,
   "id": "f68b8881",
   "metadata": {},
   "outputs": [
    {
     "data": {
      "text/plain": [
       "                408173\n",
       "(laughter)        6163\n",
       "(laughs)          1933\n",
       "(laughs)           874\n",
       "(laughter)         720\n",
       "(whispering)       416\n",
       "(cheering)         338\n",
       "(gasps)            293\n",
       "(gasps)            281\n",
       "(singing)          278\n",
       "(sighs)            273\n",
       "(groaning)         254\n",
       "(counting)         242\n",
       "(sighs)            195\n",
       "(groans)           174\n",
       "Name: nonspeech, dtype: int64"
      ]
     },
     "execution_count": 7,
     "metadata": {},
     "output_type": "execute_result"
    }
   ],
   "source": [
    "allsounds = cr_df['nonspeech'].value_counts()\n",
    "allsounds[:15]"
   ]
  },
  {
   "cell_type": "code",
   "execution_count": 8,
   "id": "23efe8c7",
   "metadata": {},
   "outputs": [
    {
     "data": {
      "text/html": [
       "<div>\n",
       "<style scoped>\n",
       "    .dataframe tbody tr th:only-of-type {\n",
       "        vertical-align: middle;\n",
       "    }\n",
       "\n",
       "    .dataframe tbody tr th {\n",
       "        vertical-align: top;\n",
       "    }\n",
       "\n",
       "    .dataframe thead th {\n",
       "        text-align: right;\n",
       "    }\n",
       "</style>\n",
       "<table border=\"1\" class=\"dataframe\">\n",
       "  <thead>\n",
       "    <tr style=\"text-align: right;\">\n",
       "      <th></th>\n",
       "      <th>name</th>\n",
       "      <th>nonspeech</th>\n",
       "    </tr>\n",
       "  </thead>\n",
       "  <tbody>\n",
       "    <tr>\n",
       "      <th>92</th>\n",
       "      <td>MATT</td>\n",
       "      <td>7176</td>\n",
       "    </tr>\n",
       "    <tr>\n",
       "      <th>142</th>\n",
       "      <td>TRAVIS</td>\n",
       "      <td>3801</td>\n",
       "    </tr>\n",
       "    <tr>\n",
       "      <th>49</th>\n",
       "      <td>LAURA</td>\n",
       "      <td>3311</td>\n",
       "    </tr>\n",
       "    <tr>\n",
       "      <th>115</th>\n",
       "      <td>SAM</td>\n",
       "      <td>3265</td>\n",
       "    </tr>\n",
       "    <tr>\n",
       "      <th>77</th>\n",
       "      <td>MARISHA</td>\n",
       "      <td>2451</td>\n",
       "    </tr>\n",
       "    <tr>\n",
       "      <th>61</th>\n",
       "      <td>LIAM</td>\n",
       "      <td>2393</td>\n",
       "    </tr>\n",
       "    <tr>\n",
       "      <th>134</th>\n",
       "      <td>TALIESIN</td>\n",
       "      <td>1341</td>\n",
       "    </tr>\n",
       "    <tr>\n",
       "      <th>10</th>\n",
       "      <td>ASHLEY</td>\n",
       "      <td>1005</td>\n",
       "    </tr>\n",
       "  </tbody>\n",
       "</table>\n",
       "</div>"
      ],
      "text/plain": [
       "         name  nonspeech\n",
       "92       MATT       7176\n",
       "142    TRAVIS       3801\n",
       "49      LAURA       3311\n",
       "115       SAM       3265\n",
       "77    MARISHA       2451\n",
       "61       LIAM       2393\n",
       "134  TALIESIN       1341\n",
       "10     ASHLEY       1005"
      ]
     },
     "execution_count": 8,
     "metadata": {},
     "output_type": "execute_result"
    }
   ],
   "source": [
    "scount = cr_df[['name', 'nonspeech']].copy()\n",
    "scount = scount[scount['nonspeech'] != '']\n",
    "nscount = pd.DataFrame(scount.groupby(['name'])['nonspeech'].count())\n",
    "nscount = nscount.reset_index()\n",
    "nscount = nscount.sort_values('nonspeech', ascending=False)\n",
    "nscount.head(n=8)"
   ]
  },
  {
   "cell_type": "markdown",
   "id": "da51b703",
   "metadata": {},
   "source": [
    "Not extremely important since it's not part of speech analysis but I put the work in and I wanted to see it.\n",
    "Not surprising again! Matt being the first makes sense, he is known as a DM for including sound effects (and being very good at them). Just a cool stat... moving on!"
   ]
  },
  {
   "cell_type": "markdown",
   "id": "e2ba33fb",
   "metadata": {},
   "source": [
    "## Adding new columns\n",
    "\n",
    "Tokenizing (should we tokenize including punctuation in this case...?), token counts & averages, word types (which will be shared) (checkw ith na rae.... word types are deemed ok for the FULL text or line by line?), sentence count, sentence length."
   ]
  },
  {
   "cell_type": "markdown",
   "id": "26d59237",
   "metadata": {},
   "source": [
    "### Word counts (per line)"
   ]
  },
  {
   "cell_type": "code",
   "execution_count": 9,
   "id": "4d827266",
   "metadata": {},
   "outputs": [],
   "source": [
    "punctuations=\"!@#$%^&*()_-=+:;{}[]<>,.?/\\''\""
   ]
  },
  {
   "cell_type": "code",
   "execution_count": 10,
   "id": "28d5423e",
   "metadata": {},
   "outputs": [
    {
     "data": {
      "text/plain": [
       "0         [We, 've, got, some, cool, stuff, to, talk, ab...\n",
       "1                                         [As, in, nnnn, .]\n",
       "2         [Nnnn, ., But, yeah, ,, so, they, 're, going, ...\n",
       "3                               [Would, you, like, some, ?]\n",
       "4         [So, yeah, ., I, 'm, super, excited, to, have,...\n",
       "                                ...                        \n",
       "434047    [We, 're, going, to, get, through, this, toget...\n",
       "434048                       [Wash, your, stubbly, face, .]\n",
       "434049                                           [Gross, .]\n",
       "434050                                                   []\n",
       "434051                                                   []\n",
       "Name: speech_turn, Length: 434050, dtype: object"
      ]
     },
     "execution_count": 10,
     "metadata": {},
     "output_type": "execute_result"
    }
   ],
   "source": [
    "tokens = cr_df.speech_turn.map(nltk.word_tokenize)\n",
    "tokens"
   ]
  },
  {
   "cell_type": "code",
   "execution_count": 11,
   "id": "831ee795",
   "metadata": {},
   "outputs": [],
   "source": [
    "cr_df['tokens']=tokens         #create token column\n",
    "cr_df['nopunc']=cr_df['tokens'].apply(lambda tokens: [w for w in tokens if w not in punctuations]) #list comprehend to remove toks\n",
    "cr_df = cr_df.drop('tokens', axis=1)     #drop that toks col, we don't actually want it"
   ]
  },
  {
   "cell_type": "code",
   "execution_count": 12,
   "id": "480bac1f",
   "metadata": {},
   "outputs": [
    {
     "data": {
      "text/html": [
       "<div>\n",
       "<style scoped>\n",
       "    .dataframe tbody tr th:only-of-type {\n",
       "        vertical-align: middle;\n",
       "    }\n",
       "\n",
       "    .dataframe tbody tr th {\n",
       "        vertical-align: top;\n",
       "    }\n",
       "\n",
       "    .dataframe thead th {\n",
       "        text-align: right;\n",
       "    }\n",
       "</style>\n",
       "<table border=\"1\" class=\"dataframe\">\n",
       "  <thead>\n",
       "    <tr style=\"text-align: right;\">\n",
       "      <th></th>\n",
       "      <th>index</th>\n",
       "      <th>name</th>\n",
       "      <th>speech_turn</th>\n",
       "      <th>episode</th>\n",
       "      <th>timestamp</th>\n",
       "      <th>inaudible_speech</th>\n",
       "      <th>nonspeech</th>\n",
       "      <th>nopunc</th>\n",
       "      <th>word_count</th>\n",
       "    </tr>\n",
       "  </thead>\n",
       "  <tbody>\n",
       "    <tr>\n",
       "      <th>0</th>\n",
       "      <td>0</td>\n",
       "      <td>MATT</td>\n",
       "      <td>We've got some cool stuff to talk about. First...</td>\n",
       "      <td>1</td>\n",
       "      <td>00:00:15</td>\n",
       "      <td></td>\n",
       "      <td></td>\n",
       "      <td>[We, 've, got, some, cool, stuff, to, talk, ab...</td>\n",
       "      <td>155</td>\n",
       "    </tr>\n",
       "    <tr>\n",
       "      <th>1</th>\n",
       "      <td>1</td>\n",
       "      <td>LAURA</td>\n",
       "      <td>As in nnnn.</td>\n",
       "      <td>1</td>\n",
       "      <td>00:01:21</td>\n",
       "      <td></td>\n",
       "      <td></td>\n",
       "      <td>[As, in, nnnn]</td>\n",
       "      <td>3</td>\n",
       "    </tr>\n",
       "    <tr>\n",
       "      <th>2</th>\n",
       "      <td>2</td>\n",
       "      <td>MATT</td>\n",
       "      <td>Nnnn. But yeah, so they're going to be a long-...</td>\n",
       "      <td>1</td>\n",
       "      <td>00:01:24</td>\n",
       "      <td></td>\n",
       "      <td></td>\n",
       "      <td>[Nnnn, But, yeah, so, they, 're, going, to, be...</td>\n",
       "      <td>122</td>\n",
       "    </tr>\n",
       "    <tr>\n",
       "      <th>3</th>\n",
       "      <td>3</td>\n",
       "      <td>TRAVIS</td>\n",
       "      <td>Would you like some?</td>\n",
       "      <td>1</td>\n",
       "      <td>00:02:04</td>\n",
       "      <td></td>\n",
       "      <td>(vomiting noises)</td>\n",
       "      <td>[Would, you, like, some]</td>\n",
       "      <td>4</td>\n",
       "    </tr>\n",
       "    <tr>\n",
       "      <th>4</th>\n",
       "      <td>4</td>\n",
       "      <td>MATT</td>\n",
       "      <td>So yeah. I'm super excited to have that, guys....</td>\n",
       "      <td>1</td>\n",
       "      <td>00:02:07</td>\n",
       "      <td></td>\n",
       "      <td></td>\n",
       "      <td>[So, yeah, I, 'm, super, excited, to, have, th...</td>\n",
       "      <td>129</td>\n",
       "    </tr>\n",
       "  </tbody>\n",
       "</table>\n",
       "</div>"
      ],
      "text/plain": [
       "   index    name                                        speech_turn episode  \\\n",
       "0      0    MATT  We've got some cool stuff to talk about. First...       1   \n",
       "1      1   LAURA                                       As in nnnn.        1   \n",
       "2      2    MATT  Nnnn. But yeah, so they're going to be a long-...       1   \n",
       "3      3  TRAVIS                              Would you like some?        1   \n",
       "4      4    MATT  So yeah. I'm super excited to have that, guys....       1   \n",
       "\n",
       "  timestamp inaudible_speech          nonspeech  \\\n",
       "0  00:00:15                                       \n",
       "1  00:01:21                                       \n",
       "2  00:01:24                                       \n",
       "3  00:02:04                   (vomiting noises)   \n",
       "4  00:02:07                                       \n",
       "\n",
       "                                              nopunc  word_count  \n",
       "0  [We, 've, got, some, cool, stuff, to, talk, ab...         155  \n",
       "1                                     [As, in, nnnn]           3  \n",
       "2  [Nnnn, But, yeah, so, they, 're, going, to, be...         122  \n",
       "3                           [Would, you, like, some]           4  \n",
       "4  [So, yeah, I, 'm, super, excited, to, have, th...         129  "
      ]
     },
     "execution_count": 12,
     "metadata": {},
     "output_type": "execute_result"
    }
   ],
   "source": [
    "cr_df['word_count'] = cr_df.nopunc.map(len)   #count total tokens per line\n",
    "cr_df.head() #pre punc removal index 0 had 179 words, so this worked pretty well for accuracy"
   ]
  },
  {
   "cell_type": "markdown",
   "id": "a3071297",
   "metadata": {},
   "source": [
    "So we know who has the most speech events (Matt) but what about who says the most words? Someone with fewer speech events (lines) could have one very very long speech, who knows"
   ]
  },
  {
   "cell_type": "markdown",
   "id": "2d031530",
   "metadata": {},
   "source": [
    "### Total words per speaker"
   ]
  },
  {
   "cell_type": "code",
   "execution_count": 13,
   "id": "fdf88f75",
   "metadata": {},
   "outputs": [
    {
     "data": {
      "text/html": [
       "<div>\n",
       "<style scoped>\n",
       "    .dataframe tbody tr th:only-of-type {\n",
       "        vertical-align: middle;\n",
       "    }\n",
       "\n",
       "    .dataframe tbody tr th {\n",
       "        vertical-align: top;\n",
       "    }\n",
       "\n",
       "    .dataframe thead th {\n",
       "        text-align: right;\n",
       "    }\n",
       "</style>\n",
       "<table border=\"1\" class=\"dataframe\">\n",
       "  <thead>\n",
       "    <tr style=\"text-align: right;\">\n",
       "      <th></th>\n",
       "      <th>name</th>\n",
       "      <th>word_count</th>\n",
       "    </tr>\n",
       "  </thead>\n",
       "  <tbody>\n",
       "    <tr>\n",
       "      <th>211</th>\n",
       "      <td>MATT</td>\n",
       "      <td>1385768</td>\n",
       "    </tr>\n",
       "    <tr>\n",
       "      <th>112</th>\n",
       "      <td>LAURA</td>\n",
       "      <td>427517</td>\n",
       "    </tr>\n",
       "    <tr>\n",
       "      <th>260</th>\n",
       "      <td>SAM</td>\n",
       "      <td>355003</td>\n",
       "    </tr>\n",
       "    <tr>\n",
       "      <th>144</th>\n",
       "      <td>LIAM</td>\n",
       "      <td>343809</td>\n",
       "    </tr>\n",
       "    <tr>\n",
       "      <th>337</th>\n",
       "      <td>TRAVIS</td>\n",
       "      <td>339729</td>\n",
       "    </tr>\n",
       "    <tr>\n",
       "      <th>176</th>\n",
       "      <td>MARISHA</td>\n",
       "      <td>334941</td>\n",
       "    </tr>\n",
       "    <tr>\n",
       "      <th>312</th>\n",
       "      <td>TALIESIN</td>\n",
       "      <td>311166</td>\n",
       "    </tr>\n",
       "    <tr>\n",
       "      <th>16</th>\n",
       "      <td>ASHLEY</td>\n",
       "      <td>103511</td>\n",
       "    </tr>\n",
       "  </tbody>\n",
       "</table>\n",
       "</div>"
      ],
      "text/plain": [
       "         name  word_count\n",
       "211      MATT     1385768\n",
       "112     LAURA      427517\n",
       "260       SAM      355003\n",
       "144      LIAM      343809\n",
       "337    TRAVIS      339729\n",
       "176   MARISHA      334941\n",
       "312  TALIESIN      311166\n",
       "16     ASHLEY      103511"
      ]
     },
     "execution_count": 13,
     "metadata": {},
     "output_type": "execute_result"
    }
   ],
   "source": [
    "wcount = pd.DataFrame(cr_df.groupby('name').word_count.sum())\n",
    "wcount = wcount.reset_index()\n",
    "wcount = wcount.sort_values('word_count', ascending=False)\n",
    "wcount.head(n=8)"
   ]
  },
  {
   "cell_type": "code",
   "execution_count": 14,
   "id": "3591b87b",
   "metadata": {},
   "outputs": [
    {
     "data": {
      "image/png": "[encoded data removed]",
      "text/plain": [
       "<Figure size 640x480 with 1 Axes>"
      ]
     },
     "metadata": {},
     "output_type": "display_data"
    }
   ],
   "source": [
    "plt.pie(wcount['word_count'], labels=wcount['name'], autopct='%1.1f%%')\n",
    "plt.axis('equal')\n",
    "plt.title('Words per Participant')\n",
    "plt.show()"
   ]
  },
  {
   "cell_type": "markdown",
   "id": "e58c822f",
   "metadata": {},
   "source": [
    "bla lbhalbnhalb only travis and marisha trade places means he says just a little more\n",
    "not only is Matt talking more, he's *saying* more."
   ]
  },
  {
   "cell_type": "markdown",
   "id": "04864626",
   "metadata": {},
   "source": [
    "### Unique words per speaker"
   ]
  },
  {
   "cell_type": "code",
   "execution_count": 15,
   "id": "fb1d18f1",
   "metadata": {},
   "outputs": [],
   "source": [
    "cr_df['types'] = cr_df['nopunc'].apply(lambda tokens: [w.lower() for w in tokens])"
   ]
  },
  {
   "cell_type": "code",
   "execution_count": 16,
   "id": "98a0b9fa",
   "metadata": {},
   "outputs": [],
   "source": [
    "cr_df['types'] = cr_df['types'].apply(set)"
   ]
  },
  {
   "cell_type": "code",
   "execution_count": 17,
   "id": "e9e17142",
   "metadata": {},
   "outputs": [
    {
     "data": {
      "text/html": [
       "<div>\n",
       "<style scoped>\n",
       "    .dataframe tbody tr th:only-of-type {\n",
       "        vertical-align: middle;\n",
       "    }\n",
       "\n",
       "    .dataframe tbody tr th {\n",
       "        vertical-align: top;\n",
       "    }\n",
       "\n",
       "    .dataframe thead th {\n",
       "        text-align: right;\n",
       "    }\n",
       "</style>\n",
       "<table border=\"1\" class=\"dataframe\">\n",
       "  <thead>\n",
       "    <tr style=\"text-align: right;\">\n",
       "      <th></th>\n",
       "      <th>index</th>\n",
       "      <th>name</th>\n",
       "      <th>speech_turn</th>\n",
       "      <th>episode</th>\n",
       "      <th>timestamp</th>\n",
       "      <th>inaudible_speech</th>\n",
       "      <th>nonspeech</th>\n",
       "      <th>nopunc</th>\n",
       "      <th>word_count</th>\n",
       "      <th>types</th>\n",
       "      <th>type_count</th>\n",
       "    </tr>\n",
       "  </thead>\n",
       "  <tbody>\n",
       "    <tr>\n",
       "      <th>0</th>\n",
       "      <td>0</td>\n",
       "      <td>MATT</td>\n",
       "      <td>We've got some cool stuff to talk about. First...</td>\n",
       "      <td>1</td>\n",
       "      <td>00:00:15</td>\n",
       "      <td></td>\n",
       "      <td></td>\n",
       "      <td>[We, 've, got, some, cool, stuff, to, talk, ab...</td>\n",
       "      <td>155</td>\n",
       "      <td>{anybody, in, has, current, online, your, book...</td>\n",
       "      <td>92</td>\n",
       "    </tr>\n",
       "    <tr>\n",
       "      <th>1</th>\n",
       "      <td>1</td>\n",
       "      <td>LAURA</td>\n",
       "      <td>As in nnnn.</td>\n",
       "      <td>1</td>\n",
       "      <td>00:01:21</td>\n",
       "      <td></td>\n",
       "      <td></td>\n",
       "      <td>[As, in, nnnn]</td>\n",
       "      <td>3</td>\n",
       "      <td>{nnnn, in, as}</td>\n",
       "      <td>3</td>\n",
       "    </tr>\n",
       "    <tr>\n",
       "      <th>2</th>\n",
       "      <td>2</td>\n",
       "      <td>MATT</td>\n",
       "      <td>Nnnn. But yeah, so they're going to be a long-...</td>\n",
       "      <td>1</td>\n",
       "      <td>00:01:24</td>\n",
       "      <td></td>\n",
       "      <td></td>\n",
       "      <td>[Nnnn, But, yeah, so, they, 're, going, to, be...</td>\n",
       "      <td>122</td>\n",
       "      <td>{which, in, this, there, 'beginnings, use, cou...</td>\n",
       "      <td>81</td>\n",
       "    </tr>\n",
       "    <tr>\n",
       "      <th>3</th>\n",
       "      <td>3</td>\n",
       "      <td>TRAVIS</td>\n",
       "      <td>Would you like some?</td>\n",
       "      <td>1</td>\n",
       "      <td>00:02:04</td>\n",
       "      <td></td>\n",
       "      <td>(vomiting noises)</td>\n",
       "      <td>[Would, you, like, some]</td>\n",
       "      <td>4</td>\n",
       "      <td>{you, some, would, like}</td>\n",
       "      <td>4</td>\n",
       "    </tr>\n",
       "    <tr>\n",
       "      <th>4</th>\n",
       "      <td>4</td>\n",
       "      <td>MATT</td>\n",
       "      <td>So yeah. I'm super excited to have that, guys....</td>\n",
       "      <td>1</td>\n",
       "      <td>00:02:07</td>\n",
       "      <td></td>\n",
       "      <td></td>\n",
       "      <td>[So, yeah, I, 'm, super, excited, to, have, th...</td>\n",
       "      <td>129</td>\n",
       "      <td>{work, in, more, happen, there, ways, want, al...</td>\n",
       "      <td>78</td>\n",
       "    </tr>\n",
       "  </tbody>\n",
       "</table>\n",
       "</div>"
      ],
      "text/plain": [
       "   index    name                                        speech_turn episode  \\\n",
       "0      0    MATT  We've got some cool stuff to talk about. First...       1   \n",
       "1      1   LAURA                                       As in nnnn.        1   \n",
       "2      2    MATT  Nnnn. But yeah, so they're going to be a long-...       1   \n",
       "3      3  TRAVIS                              Would you like some?        1   \n",
       "4      4    MATT  So yeah. I'm super excited to have that, guys....       1   \n",
       "\n",
       "  timestamp inaudible_speech          nonspeech  \\\n",
       "0  00:00:15                                       \n",
       "1  00:01:21                                       \n",
       "2  00:01:24                                       \n",
       "3  00:02:04                   (vomiting noises)   \n",
       "4  00:02:07                                       \n",
       "\n",
       "                                              nopunc  word_count  \\\n",
       "0  [We, 've, got, some, cool, stuff, to, talk, ab...         155   \n",
       "1                                     [As, in, nnnn]           3   \n",
       "2  [Nnnn, But, yeah, so, they, 're, going, to, be...         122   \n",
       "3                           [Would, you, like, some]           4   \n",
       "4  [So, yeah, I, 'm, super, excited, to, have, th...         129   \n",
       "\n",
       "                                               types  type_count  \n",
       "0  {anybody, in, has, current, online, your, book...          92  \n",
       "1                                     {nnnn, in, as}           3  \n",
       "2  {which, in, this, there, 'beginnings, use, cou...          81  \n",
       "3                           {you, some, would, like}           4  \n",
       "4  {work, in, more, happen, there, ways, want, al...          78  "
      ]
     },
     "execution_count": 17,
     "metadata": {},
     "output_type": "execute_result"
    }
   ],
   "source": [
    "cr_df['type_count'] = cr_df.types.map(len) \n",
    "cr_df.head() #again to confirm, before punc removal type count for index 0 was 95"
   ]
  },
  {
   "cell_type": "code",
   "execution_count": 18,
   "id": "afaf229e",
   "metadata": {},
   "outputs": [
    {
     "data": {
      "text/html": [
       "<div>\n",
       "<style scoped>\n",
       "    .dataframe tbody tr th:only-of-type {\n",
       "        vertical-align: middle;\n",
       "    }\n",
       "\n",
       "    .dataframe tbody tr th {\n",
       "        vertical-align: top;\n",
       "    }\n",
       "\n",
       "    .dataframe thead th {\n",
       "        text-align: right;\n",
       "    }\n",
       "</style>\n",
       "<table border=\"1\" class=\"dataframe\">\n",
       "  <thead>\n",
       "    <tr style=\"text-align: right;\">\n",
       "      <th></th>\n",
       "      <th>name</th>\n",
       "      <th>type_count</th>\n",
       "    </tr>\n",
       "  </thead>\n",
       "  <tbody>\n",
       "    <tr>\n",
       "      <th>211</th>\n",
       "      <td>MATT</td>\n",
       "      <td>1187872</td>\n",
       "    </tr>\n",
       "    <tr>\n",
       "      <th>112</th>\n",
       "      <td>LAURA</td>\n",
       "      <td>389819</td>\n",
       "    </tr>\n",
       "    <tr>\n",
       "      <th>260</th>\n",
       "      <td>SAM</td>\n",
       "      <td>325494</td>\n",
       "    </tr>\n",
       "    <tr>\n",
       "      <th>337</th>\n",
       "      <td>TRAVIS</td>\n",
       "      <td>314175</td>\n",
       "    </tr>\n",
       "    <tr>\n",
       "      <th>144</th>\n",
       "      <td>LIAM</td>\n",
       "      <td>311752</td>\n",
       "    </tr>\n",
       "    <tr>\n",
       "      <th>176</th>\n",
       "      <td>MARISHA</td>\n",
       "      <td>306409</td>\n",
       "    </tr>\n",
       "    <tr>\n",
       "      <th>312</th>\n",
       "      <td>TALIESIN</td>\n",
       "      <td>283875</td>\n",
       "    </tr>\n",
       "    <tr>\n",
       "      <th>16</th>\n",
       "      <td>ASHLEY</td>\n",
       "      <td>95330</td>\n",
       "    </tr>\n",
       "  </tbody>\n",
       "</table>\n",
       "</div>"
      ],
      "text/plain": [
       "         name  type_count\n",
       "211      MATT     1187872\n",
       "112     LAURA      389819\n",
       "260       SAM      325494\n",
       "337    TRAVIS      314175\n",
       "144      LIAM      311752\n",
       "176   MARISHA      306409\n",
       "312  TALIESIN      283875\n",
       "16     ASHLEY       95330"
      ]
     },
     "execution_count": 18,
     "metadata": {},
     "output_type": "execute_result"
    }
   ],
   "source": [
    "typecount = pd.DataFrame(cr_df.groupby('name').type_count.sum())\n",
    "typecount = typecount.reset_index()\n",
    "typecount = typecount.sort_values('type_count', ascending=False)\n",
    "typecount.head(n=8)"
   ]
  },
  {
   "cell_type": "code",
   "execution_count": 19,
   "id": "0eebcdce",
   "metadata": {},
   "outputs": [],
   "source": [
    "countsdf = wcount.merge(typecount, how='left', on='name', suffixes=('', '_y'))\n",
    "countsdf.drop(countsdf.filter(regex='_y$').columns, axis=1, inplace=True)"
   ]
  },
  {
   "cell_type": "code",
   "execution_count": 20,
   "id": "fc32acfa",
   "metadata": {},
   "outputs": [],
   "source": [
    "countsdf = countsdf[countsdf['name'].isin(['MATT', 'LIAM', 'TALIESIN', 'LAURA', 'TRAVIS', 'MARISHA', 'SAM', 'ASHLEY'])]"
   ]
  },
  {
   "cell_type": "code",
   "execution_count": 21,
   "id": "f0e3b739",
   "metadata": {},
   "outputs": [
    {
     "data": {
      "text/html": [
       "<div>\n",
       "<style scoped>\n",
       "    .dataframe tbody tr th:only-of-type {\n",
       "        vertical-align: middle;\n",
       "    }\n",
       "\n",
       "    .dataframe tbody tr th {\n",
       "        vertical-align: top;\n",
       "    }\n",
       "\n",
       "    .dataframe thead th {\n",
       "        text-align: right;\n",
       "    }\n",
       "</style>\n",
       "<table border=\"1\" class=\"dataframe\">\n",
       "  <thead>\n",
       "    <tr style=\"text-align: right;\">\n",
       "      <th></th>\n",
       "      <th>name</th>\n",
       "      <th>word_count</th>\n",
       "      <th>type_count</th>\n",
       "    </tr>\n",
       "  </thead>\n",
       "  <tbody>\n",
       "    <tr>\n",
       "      <th>0</th>\n",
       "      <td>MATT</td>\n",
       "      <td>1385768</td>\n",
       "      <td>1187872</td>\n",
       "    </tr>\n",
       "    <tr>\n",
       "      <th>1</th>\n",
       "      <td>LAURA</td>\n",
       "      <td>427517</td>\n",
       "      <td>389819</td>\n",
       "    </tr>\n",
       "    <tr>\n",
       "      <th>2</th>\n",
       "      <td>SAM</td>\n",
       "      <td>355003</td>\n",
       "      <td>325494</td>\n",
       "    </tr>\n",
       "    <tr>\n",
       "      <th>3</th>\n",
       "      <td>LIAM</td>\n",
       "      <td>343809</td>\n",
       "      <td>311752</td>\n",
       "    </tr>\n",
       "    <tr>\n",
       "      <th>4</th>\n",
       "      <td>TRAVIS</td>\n",
       "      <td>339729</td>\n",
       "      <td>314175</td>\n",
       "    </tr>\n",
       "    <tr>\n",
       "      <th>5</th>\n",
       "      <td>MARISHA</td>\n",
       "      <td>334941</td>\n",
       "      <td>306409</td>\n",
       "    </tr>\n",
       "    <tr>\n",
       "      <th>6</th>\n",
       "      <td>TALIESIN</td>\n",
       "      <td>311166</td>\n",
       "      <td>283875</td>\n",
       "    </tr>\n",
       "    <tr>\n",
       "      <th>7</th>\n",
       "      <td>ASHLEY</td>\n",
       "      <td>103511</td>\n",
       "      <td>95330</td>\n",
       "    </tr>\n",
       "  </tbody>\n",
       "</table>\n",
       "</div>"
      ],
      "text/plain": [
       "       name  word_count  type_count\n",
       "0      MATT     1385768     1187872\n",
       "1     LAURA      427517      389819\n",
       "2       SAM      355003      325494\n",
       "3      LIAM      343809      311752\n",
       "4    TRAVIS      339729      314175\n",
       "5   MARISHA      334941      306409\n",
       "6  TALIESIN      311166      283875\n",
       "7    ASHLEY      103511       95330"
      ]
     },
     "execution_count": 21,
     "metadata": {},
     "output_type": "execute_result"
    }
   ],
   "source": [
    "countsdf"
   ]
  },
  {
   "cell_type": "code",
   "execution_count": 22,
   "id": "4af2ce3b",
   "metadata": {},
   "outputs": [
    {
     "data": {
      "text/plain": [
       "<Axes: xlabel='name'>"
      ]
     },
     "execution_count": 22,
     "metadata": {},
     "output_type": "execute_result"
    },
    {
     "data": {
      "image/png": "[encoded data removed]",
      "text/plain": [
       "<Figure size 640x480 with 1 Axes>"
      ]
     },
     "metadata": {},
     "output_type": "display_data"
    }
   ],
   "source": [
    "countsdf.set_index(['name']).plot.bar(rot=45)"
   ]
  },
  {
   "cell_type": "markdown",
   "id": "d9ebbcd5",
   "metadata": {},
   "source": [
    "### Word Length"
   ]
  },
  {
   "cell_type": "code",
   "execution_count": 23,
   "id": "5925df23",
   "metadata": {},
   "outputs": [],
   "source": [
    "wlength = cr_df.apply(lambda row: [len(w) for w in (row['nopunc'])], axis=1)\n",
    "cr_df = cr_df.drop('nopunc', axis=1)"
   ]
  },
  {
   "cell_type": "code",
   "execution_count": 24,
   "id": "d2d2ccb2",
   "metadata": {},
   "outputs": [
    {
     "data": {
      "text/html": [
       "<div>\n",
       "<style scoped>\n",
       "    .dataframe tbody tr th:only-of-type {\n",
       "        vertical-align: middle;\n",
       "    }\n",
       "\n",
       "    .dataframe tbody tr th {\n",
       "        vertical-align: top;\n",
       "    }\n",
       "\n",
       "    .dataframe thead th {\n",
       "        text-align: right;\n",
       "    }\n",
       "</style>\n",
       "<table border=\"1\" class=\"dataframe\">\n",
       "  <thead>\n",
       "    <tr style=\"text-align: right;\">\n",
       "      <th></th>\n",
       "      <th>index</th>\n",
       "      <th>name</th>\n",
       "      <th>speech_turn</th>\n",
       "      <th>episode</th>\n",
       "      <th>timestamp</th>\n",
       "      <th>inaudible_speech</th>\n",
       "      <th>nonspeech</th>\n",
       "      <th>word_count</th>\n",
       "      <th>types</th>\n",
       "      <th>type_count</th>\n",
       "      <th>avg_word_length</th>\n",
       "    </tr>\n",
       "  </thead>\n",
       "  <tbody>\n",
       "    <tr>\n",
       "      <th>0</th>\n",
       "      <td>0</td>\n",
       "      <td>MATT</td>\n",
       "      <td>We've got some cool stuff to talk about. First...</td>\n",
       "      <td>1</td>\n",
       "      <td>00:00:15</td>\n",
       "      <td></td>\n",
       "      <td></td>\n",
       "      <td>155</td>\n",
       "      <td>{anybody, in, has, current, online, your, book...</td>\n",
       "      <td>92</td>\n",
       "      <td>3.858065</td>\n",
       "    </tr>\n",
       "    <tr>\n",
       "      <th>1</th>\n",
       "      <td>1</td>\n",
       "      <td>LAURA</td>\n",
       "      <td>As in nnnn.</td>\n",
       "      <td>1</td>\n",
       "      <td>00:01:21</td>\n",
       "      <td></td>\n",
       "      <td></td>\n",
       "      <td>3</td>\n",
       "      <td>{nnnn, in, as}</td>\n",
       "      <td>3</td>\n",
       "      <td>2.666667</td>\n",
       "    </tr>\n",
       "    <tr>\n",
       "      <th>2</th>\n",
       "      <td>2</td>\n",
       "      <td>MATT</td>\n",
       "      <td>Nnnn. But yeah, so they're going to be a long-...</td>\n",
       "      <td>1</td>\n",
       "      <td>00:01:24</td>\n",
       "      <td></td>\n",
       "      <td></td>\n",
       "      <td>122</td>\n",
       "      <td>{which, in, this, there, 'beginnings, use, cou...</td>\n",
       "      <td>81</td>\n",
       "      <td>4.180328</td>\n",
       "    </tr>\n",
       "    <tr>\n",
       "      <th>3</th>\n",
       "      <td>3</td>\n",
       "      <td>TRAVIS</td>\n",
       "      <td>Would you like some?</td>\n",
       "      <td>1</td>\n",
       "      <td>00:02:04</td>\n",
       "      <td></td>\n",
       "      <td>(vomiting noises)</td>\n",
       "      <td>4</td>\n",
       "      <td>{you, some, would, like}</td>\n",
       "      <td>4</td>\n",
       "      <td>4.000000</td>\n",
       "    </tr>\n",
       "    <tr>\n",
       "      <th>4</th>\n",
       "      <td>4</td>\n",
       "      <td>MATT</td>\n",
       "      <td>So yeah. I'm super excited to have that, guys....</td>\n",
       "      <td>1</td>\n",
       "      <td>00:02:07</td>\n",
       "      <td></td>\n",
       "      <td></td>\n",
       "      <td>129</td>\n",
       "      <td>{work, in, more, happen, there, ways, want, al...</td>\n",
       "      <td>78</td>\n",
       "      <td>3.899225</td>\n",
       "    </tr>\n",
       "  </tbody>\n",
       "</table>\n",
       "</div>"
      ],
      "text/plain": [
       "   index    name                                        speech_turn episode  \\\n",
       "0      0    MATT  We've got some cool stuff to talk about. First...       1   \n",
       "1      1   LAURA                                       As in nnnn.        1   \n",
       "2      2    MATT  Nnnn. But yeah, so they're going to be a long-...       1   \n",
       "3      3  TRAVIS                              Would you like some?        1   \n",
       "4      4    MATT  So yeah. I'm super excited to have that, guys....       1   \n",
       "\n",
       "  timestamp inaudible_speech          nonspeech  word_count  \\\n",
       "0  00:00:15                                             155   \n",
       "1  00:01:21                                               3   \n",
       "2  00:01:24                                             122   \n",
       "3  00:02:04                   (vomiting noises)           4   \n",
       "4  00:02:07                                             129   \n",
       "\n",
       "                                               types  type_count  \\\n",
       "0  {anybody, in, has, current, online, your, book...          92   \n",
       "1                                     {nnnn, in, as}           3   \n",
       "2  {which, in, this, there, 'beginnings, use, cou...          81   \n",
       "3                           {you, some, would, like}           4   \n",
       "4  {work, in, more, happen, there, ways, want, al...          78   \n",
       "\n",
       "   avg_word_length  \n",
       "0         3.858065  \n",
       "1         2.666667  \n",
       "2         4.180328  \n",
       "3         4.000000  \n",
       "4         3.899225  "
      ]
     },
     "execution_count": 24,
     "metadata": {},
     "output_type": "execute_result"
    }
   ],
   "source": [
    "cr_df['avg_word_length'] = wlength.map(sum)/cr_df['word_count']\n",
    "cr_df['avg_word_length'] = cr_df['avg_word_length'].fillna(0)\n",
    "cr_df.head()"
   ]
  },
  {
   "cell_type": "code",
   "execution_count": 25,
   "id": "b7bf82ea",
   "metadata": {},
   "outputs": [
    {
     "data": {
      "text/plain": [
       "count    434050.000000\n",
       "mean          3.692912\n",
       "std           1.235581\n",
       "min           0.000000\n",
       "25%           3.125000\n",
       "50%           3.666667\n",
       "75%           4.136364\n",
       "max          31.000000\n",
       "Name: avg_word_length, dtype: float64"
      ]
     },
     "execution_count": 25,
     "metadata": {},
     "output_type": "execute_result"
    }
   ],
   "source": [
    "cr_df['avg_word_length'].describe()"
   ]
  },
  {
   "cell_type": "code",
   "execution_count": 26,
   "id": "4b24108f",
   "metadata": {},
   "outputs": [
    {
     "data": {
      "text/html": [
       "<div>\n",
       "<style scoped>\n",
       "    .dataframe tbody tr th:only-of-type {\n",
       "        vertical-align: middle;\n",
       "    }\n",
       "\n",
       "    .dataframe tbody tr th {\n",
       "        vertical-align: top;\n",
       "    }\n",
       "\n",
       "    .dataframe thead th {\n",
       "        text-align: right;\n",
       "    }\n",
       "</style>\n",
       "<table border=\"1\" class=\"dataframe\">\n",
       "  <thead>\n",
       "    <tr style=\"text-align: right;\">\n",
       "      <th></th>\n",
       "      <th>index</th>\n",
       "      <th>name</th>\n",
       "      <th>speech_turn</th>\n",
       "      <th>episode</th>\n",
       "      <th>timestamp</th>\n",
       "      <th>inaudible_speech</th>\n",
       "      <th>nonspeech</th>\n",
       "      <th>word_count</th>\n",
       "      <th>types</th>\n",
       "      <th>type_count</th>\n",
       "      <th>avg_word_length</th>\n",
       "    </tr>\n",
       "  </thead>\n",
       "  <tbody>\n",
       "    <tr>\n",
       "      <th>304806</th>\n",
       "      <td>758</td>\n",
       "      <td>SAM</td>\n",
       "      <td>You-can-respond-to-this-message.</td>\n",
       "      <td>63</td>\n",
       "      <td>01:11:18</td>\n",
       "      <td></td>\n",
       "      <td>(quickly)</td>\n",
       "      <td>1</td>\n",
       "      <td>{you-can-respond-to-this-message}</td>\n",
       "      <td>1</td>\n",
       "      <td>31.0</td>\n",
       "    </tr>\n",
       "  </tbody>\n",
       "</table>\n",
       "</div>"
      ],
      "text/plain": [
       "        index name                        speech_turn episode timestamp  \\\n",
       "304806    758  SAM  You-can-respond-to-this-message.       63  01:11:18   \n",
       "\n",
       "       inaudible_speech  nonspeech  word_count  \\\n",
       "304806                   (quickly)           1   \n",
       "\n",
       "                                    types  type_count  avg_word_length  \n",
       "304806  {you-can-respond-to-this-message}           1             31.0  "
      ]
     },
     "execution_count": 26,
     "metadata": {},
     "output_type": "execute_result"
    }
   ],
   "source": [
    "cr_df[cr_df['avg_word_length']==31] #longest"
   ]
  },
  {
   "cell_type": "code",
   "execution_count": 27,
   "id": "3558c0ad",
   "metadata": {},
   "outputs": [
    {
     "data": {
      "text/html": [
       "<div>\n",
       "<style scoped>\n",
       "    .dataframe tbody tr th:only-of-type {\n",
       "        vertical-align: middle;\n",
       "    }\n",
       "\n",
       "    .dataframe tbody tr th {\n",
       "        vertical-align: top;\n",
       "    }\n",
       "\n",
       "    .dataframe thead th {\n",
       "        text-align: right;\n",
       "    }\n",
       "</style>\n",
       "<table border=\"1\" class=\"dataframe\">\n",
       "  <thead>\n",
       "    <tr style=\"text-align: right;\">\n",
       "      <th></th>\n",
       "      <th>index</th>\n",
       "      <th>name</th>\n",
       "      <th>speech_turn</th>\n",
       "      <th>episode</th>\n",
       "      <th>timestamp</th>\n",
       "      <th>inaudible_speech</th>\n",
       "      <th>nonspeech</th>\n",
       "      <th>word_count</th>\n",
       "      <th>types</th>\n",
       "      <th>type_count</th>\n",
       "      <th>avg_word_length</th>\n",
       "    </tr>\n",
       "  </thead>\n",
       "  <tbody>\n",
       "    <tr>\n",
       "      <th>18042</th>\n",
       "      <td>1603</td>\n",
       "      <td>SAM</td>\n",
       "      <td>dwarvenforge.com/wildlands.</td>\n",
       "      <td>104</td>\n",
       "      <td>02:07:44</td>\n",
       "      <td></td>\n",
       "      <td></td>\n",
       "      <td>1</td>\n",
       "      <td>{dwarvenforge.com/wildlands}</td>\n",
       "      <td>1</td>\n",
       "      <td>26.0</td>\n",
       "    </tr>\n",
       "    <tr>\n",
       "      <th>412361</th>\n",
       "      <td>1903</td>\n",
       "      <td>LIAM</td>\n",
       "      <td>Ch-ch-ch-ch-ch-ch-ch-ch-ch.</td>\n",
       "      <td>94</td>\n",
       "      <td>01:37:24</td>\n",
       "      <td></td>\n",
       "      <td></td>\n",
       "      <td>1</td>\n",
       "      <td>{ch-ch-ch-ch-ch-ch-ch-ch-ch}</td>\n",
       "      <td>1</td>\n",
       "      <td>26.0</td>\n",
       "    </tr>\n",
       "  </tbody>\n",
       "</table>\n",
       "</div>"
      ],
      "text/plain": [
       "        index  name                   speech_turn episode timestamp  \\\n",
       "18042    1603   SAM  dwarvenforge.com/wildlands.      104  02:07:44   \n",
       "412361   1903  LIAM  Ch-ch-ch-ch-ch-ch-ch-ch-ch.       94  01:37:24   \n",
       "\n",
       "       inaudible_speech nonspeech  word_count                         types  \\\n",
       "18042                                       1  {dwarvenforge.com/wildlands}   \n",
       "412361                                      1  {ch-ch-ch-ch-ch-ch-ch-ch-ch}   \n",
       "\n",
       "        type_count  avg_word_length  \n",
       "18042            1             26.0  \n",
       "412361           1             26.0  "
      ]
     },
     "execution_count": 27,
     "metadata": {},
     "output_type": "execute_result"
    }
   ],
   "source": [
    "cr_df[cr_df['avg_word_length']==26] #second longest"
   ]
  },
  {
   "cell_type": "markdown",
   "id": "6effd474",
   "metadata": {},
   "source": [
    "Interesting! I guess NLTK thinks of a hyphen as part of a compound word and counts it only as one long word?\n",
    "I contemplated correcting this line to separate into multiple words, but I'm not sure I want to really do that. It's written this way to convey the way Sam spoke it - in a rush, mumbled together all as one word. Auditorily speaking, I *do* think it counts as one word. "
   ]
  },
  {
   "cell_type": "markdown",
   "id": "0ec11096",
   "metadata": {},
   "source": [
    "### Sentences and sentence length"
   ]
  },
  {
   "cell_type": "code",
   "execution_count": 28,
   "id": "bf1c9138",
   "metadata": {},
   "outputs": [
    {
     "data": {
      "text/plain": [
       "[\"We've got some cool stuff to talk about.\",\n",
       " 'First and foremost, we have two sponsors tonight.',\n",
       " \"Our first sponsor-- and we're going into, for a time, a cool partnership with the folks at DnD Beyond, actually.\",\n",
       " \"They've been really awesome, and we've been talking, and anybody who hasn't seen it, it's an online digital tool where you can create your own D&D character, they have options to purchase any of the current D&D books out there, and then carry over any of the character options and racial options over into it, so you can basically use it as a tool.\",\n",
       " \"We'll be using it to help us out in the game as we go, 'cause it's actually got some pretty cool stuff.\",\n",
       " 'So excited about that.',\n",
       " \"It is D-N-D Beyond, by the way, if you haven't seen, not the ampersand.\",\n",
       " \"It's D-N-D.\"]"
      ]
     },
     "execution_count": 28,
     "metadata": {},
     "output_type": "execute_result"
    }
   ],
   "source": [
    "sents = cr_df.speech_turn.map(nltk.sent_tokenize)\n",
    "sents[0]   #we can take a look at that full opening speech"
   ]
  },
  {
   "cell_type": "code",
   "execution_count": 29,
   "id": "5d5dc939",
   "metadata": {},
   "outputs": [
    {
     "data": {
      "text/plain": [
       "0         8\n",
       "1         1\n",
       "2         9\n",
       "3         1\n",
       "4         8\n",
       "         ..\n",
       "434047    1\n",
       "434048    1\n",
       "434049    1\n",
       "434050    0\n",
       "434051    0\n",
       "Name: speech_turn, Length: 434050, dtype: int64"
      ]
     },
     "execution_count": 29,
     "metadata": {},
     "output_type": "execute_result"
    }
   ],
   "source": [
    "sentlength = sents.map(len)    #number of sentences spoken per line\n",
    "sentlength"
   ]
  },
  {
   "cell_type": "code",
   "execution_count": 30,
   "id": "1d7f062a",
   "metadata": {},
   "outputs": [
    {
     "data": {
      "text/plain": [
       "0         19.375000\n",
       "1          3.000000\n",
       "2         13.555556\n",
       "3          4.000000\n",
       "4         16.125000\n",
       "            ...    \n",
       "434047     9.000000\n",
       "434048     4.000000\n",
       "434049     1.000000\n",
       "434050          NaN\n",
       "434051          NaN\n",
       "Length: 434050, dtype: float64"
      ]
     },
     "execution_count": 30,
     "metadata": {},
     "output_type": "execute_result"
    }
   ],
   "source": [
    "avgsentlength = cr_df.word_count/sentlength    #avg length of sentence per line or speech event\n",
    "avgsentlength"
   ]
  },
  {
   "cell_type": "code",
   "execution_count": 31,
   "id": "94bc4e5e",
   "metadata": {},
   "outputs": [
    {
     "data": {
      "text/html": [
       "<div>\n",
       "<style scoped>\n",
       "    .dataframe tbody tr th:only-of-type {\n",
       "        vertical-align: middle;\n",
       "    }\n",
       "\n",
       "    .dataframe tbody tr th {\n",
       "        vertical-align: top;\n",
       "    }\n",
       "\n",
       "    .dataframe thead th {\n",
       "        text-align: right;\n",
       "    }\n",
       "</style>\n",
       "<table border=\"1\" class=\"dataframe\">\n",
       "  <thead>\n",
       "    <tr style=\"text-align: right;\">\n",
       "      <th></th>\n",
       "      <th>index</th>\n",
       "      <th>name</th>\n",
       "      <th>speech_turn</th>\n",
       "      <th>episode</th>\n",
       "      <th>timestamp</th>\n",
       "      <th>inaudible_speech</th>\n",
       "      <th>nonspeech</th>\n",
       "      <th>word_count</th>\n",
       "      <th>types</th>\n",
       "      <th>type_count</th>\n",
       "      <th>avg_word_length</th>\n",
       "      <th>avg_sent_length</th>\n",
       "    </tr>\n",
       "  </thead>\n",
       "  <tbody>\n",
       "    <tr>\n",
       "      <th>0</th>\n",
       "      <td>0</td>\n",
       "      <td>MATT</td>\n",
       "      <td>We've got some cool stuff to talk about. First...</td>\n",
       "      <td>1</td>\n",
       "      <td>00:00:15</td>\n",
       "      <td></td>\n",
       "      <td></td>\n",
       "      <td>155</td>\n",
       "      <td>{anybody, in, has, current, online, your, book...</td>\n",
       "      <td>92</td>\n",
       "      <td>3.858065</td>\n",
       "      <td>19.38</td>\n",
       "    </tr>\n",
       "    <tr>\n",
       "      <th>1</th>\n",
       "      <td>1</td>\n",
       "      <td>LAURA</td>\n",
       "      <td>As in nnnn.</td>\n",
       "      <td>1</td>\n",
       "      <td>00:01:21</td>\n",
       "      <td></td>\n",
       "      <td></td>\n",
       "      <td>3</td>\n",
       "      <td>{nnnn, in, as}</td>\n",
       "      <td>3</td>\n",
       "      <td>2.666667</td>\n",
       "      <td>3.00</td>\n",
       "    </tr>\n",
       "    <tr>\n",
       "      <th>2</th>\n",
       "      <td>2</td>\n",
       "      <td>MATT</td>\n",
       "      <td>Nnnn. But yeah, so they're going to be a long-...</td>\n",
       "      <td>1</td>\n",
       "      <td>00:01:24</td>\n",
       "      <td></td>\n",
       "      <td></td>\n",
       "      <td>122</td>\n",
       "      <td>{which, in, this, there, 'beginnings, use, cou...</td>\n",
       "      <td>81</td>\n",
       "      <td>4.180328</td>\n",
       "      <td>13.56</td>\n",
       "    </tr>\n",
       "    <tr>\n",
       "      <th>3</th>\n",
       "      <td>3</td>\n",
       "      <td>TRAVIS</td>\n",
       "      <td>Would you like some?</td>\n",
       "      <td>1</td>\n",
       "      <td>00:02:04</td>\n",
       "      <td></td>\n",
       "      <td>(vomiting noises)</td>\n",
       "      <td>4</td>\n",
       "      <td>{you, some, would, like}</td>\n",
       "      <td>4</td>\n",
       "      <td>4.000000</td>\n",
       "      <td>4.00</td>\n",
       "    </tr>\n",
       "    <tr>\n",
       "      <th>4</th>\n",
       "      <td>4</td>\n",
       "      <td>MATT</td>\n",
       "      <td>So yeah. I'm super excited to have that, guys....</td>\n",
       "      <td>1</td>\n",
       "      <td>00:02:07</td>\n",
       "      <td></td>\n",
       "      <td></td>\n",
       "      <td>129</td>\n",
       "      <td>{work, in, more, happen, there, ways, want, al...</td>\n",
       "      <td>78</td>\n",
       "      <td>3.899225</td>\n",
       "      <td>16.12</td>\n",
       "    </tr>\n",
       "  </tbody>\n",
       "</table>\n",
       "</div>"
      ],
      "text/plain": [
       "   index    name                                        speech_turn episode  \\\n",
       "0      0    MATT  We've got some cool stuff to talk about. First...       1   \n",
       "1      1   LAURA                                       As in nnnn.        1   \n",
       "2      2    MATT  Nnnn. But yeah, so they're going to be a long-...       1   \n",
       "3      3  TRAVIS                              Would you like some?        1   \n",
       "4      4    MATT  So yeah. I'm super excited to have that, guys....       1   \n",
       "\n",
       "  timestamp inaudible_speech          nonspeech  word_count  \\\n",
       "0  00:00:15                                             155   \n",
       "1  00:01:21                                               3   \n",
       "2  00:01:24                                             122   \n",
       "3  00:02:04                   (vomiting noises)           4   \n",
       "4  00:02:07                                             129   \n",
       "\n",
       "                                               types  type_count  \\\n",
       "0  {anybody, in, has, current, online, your, book...          92   \n",
       "1                                     {nnnn, in, as}           3   \n",
       "2  {which, in, this, there, 'beginnings, use, cou...          81   \n",
       "3                           {you, some, would, like}           4   \n",
       "4  {work, in, more, happen, there, ways, want, al...          78   \n",
       "\n",
       "   avg_word_length  avg_sent_length  \n",
       "0         3.858065            19.38  \n",
       "1         2.666667             3.00  \n",
       "2         4.180328            13.56  \n",
       "3         4.000000             4.00  \n",
       "4         3.899225            16.12  "
      ]
     },
     "execution_count": 31,
     "metadata": {},
     "output_type": "execute_result"
    }
   ],
   "source": [
    "cr_df['avg_sent_length']=avgsentlength\n",
    "cr_df['avg_sent_length'] = cr_df['avg_sent_length'].fillna(0)\n",
    "cr_df['avg_sent_length'] = cr_df['avg_sent_length'].map(\"{:.2f}\".format)\n",
    "cr_df['avg_sent_length'] = cr_df['avg_sent_length'].map(float)\n",
    "cr_df.head()"
   ]
  },
  {
   "cell_type": "markdown",
   "id": "6ae6df6e",
   "metadata": {},
   "source": [
    "### Let's investigate\n",
    "\n",
    "Take a look at some of these sentences"
   ]
  },
  {
   "cell_type": "code",
   "execution_count": 32,
   "id": "9f5fc4bd",
   "metadata": {},
   "outputs": [
    {
     "data": {
      "text/plain": [
       "count    434050.000000\n",
       "mean          6.643455\n",
       "std           6.456691\n",
       "min           0.000000\n",
       "25%           2.500000\n",
       "50%           5.000000\n",
       "75%           8.500000\n",
       "max         116.000000\n",
       "Name: avg_sent_length, dtype: float64"
      ]
     },
     "execution_count": 32,
     "metadata": {},
     "output_type": "execute_result"
    }
   ],
   "source": [
    "cr_df['avg_sent_length'].describe()"
   ]
  },
  {
   "cell_type": "code",
   "execution_count": 33,
   "id": "4b65030e",
   "metadata": {},
   "outputs": [
    {
     "data": {
      "text/html": [
       "<div>\n",
       "<style scoped>\n",
       "    .dataframe tbody tr th:only-of-type {\n",
       "        vertical-align: middle;\n",
       "    }\n",
       "\n",
       "    .dataframe tbody tr th {\n",
       "        vertical-align: top;\n",
       "    }\n",
       "\n",
       "    .dataframe thead th {\n",
       "        text-align: right;\n",
       "    }\n",
       "</style>\n",
       "<table border=\"1\" class=\"dataframe\">\n",
       "  <thead>\n",
       "    <tr style=\"text-align: right;\">\n",
       "      <th></th>\n",
       "      <th>index</th>\n",
       "      <th>name</th>\n",
       "      <th>speech_turn</th>\n",
       "      <th>episode</th>\n",
       "      <th>timestamp</th>\n",
       "      <th>inaudible_speech</th>\n",
       "      <th>nonspeech</th>\n",
       "      <th>word_count</th>\n",
       "      <th>types</th>\n",
       "      <th>type_count</th>\n",
       "      <th>avg_word_length</th>\n",
       "      <th>avg_sent_length</th>\n",
       "    </tr>\n",
       "  </thead>\n",
       "  <tbody>\n",
       "    <tr>\n",
       "      <th>22</th>\n",
       "      <td>22</td>\n",
       "      <td>LAURA</td>\n",
       "      <td>No.</td>\n",
       "      <td>1</td>\n",
       "      <td>00:06:59</td>\n",
       "      <td></td>\n",
       "      <td></td>\n",
       "      <td>1</td>\n",
       "      <td>{no}</td>\n",
       "      <td>1</td>\n",
       "      <td>2.0</td>\n",
       "      <td>1.0</td>\n",
       "    </tr>\n",
       "    <tr>\n",
       "      <th>47</th>\n",
       "      <td>47</td>\n",
       "      <td>MARISHA</td>\n",
       "      <td>Napster.</td>\n",
       "      <td>1</td>\n",
       "      <td>00:09:09</td>\n",
       "      <td></td>\n",
       "      <td></td>\n",
       "      <td>1</td>\n",
       "      <td>{napster}</td>\n",
       "      <td>1</td>\n",
       "      <td>7.0</td>\n",
       "      <td>1.0</td>\n",
       "    </tr>\n",
       "    <tr>\n",
       "      <th>59</th>\n",
       "      <td>59</td>\n",
       "      <td>MARISHA</td>\n",
       "      <td>Afterwards.</td>\n",
       "      <td>1</td>\n",
       "      <td>00:12:27</td>\n",
       "      <td></td>\n",
       "      <td></td>\n",
       "      <td>1</td>\n",
       "      <td>{afterwards}</td>\n",
       "      <td>1</td>\n",
       "      <td>10.0</td>\n",
       "      <td>1.0</td>\n",
       "    </tr>\n",
       "    <tr>\n",
       "      <th>81</th>\n",
       "      <td>81</td>\n",
       "      <td>MATT</td>\n",
       "      <td>Everyone.</td>\n",
       "      <td>1</td>\n",
       "      <td>00:16:32</td>\n",
       "      <td></td>\n",
       "      <td></td>\n",
       "      <td>1</td>\n",
       "      <td>{everyone}</td>\n",
       "      <td>1</td>\n",
       "      <td>8.0</td>\n",
       "      <td>1.0</td>\n",
       "    </tr>\n",
       "    <tr>\n",
       "      <th>128</th>\n",
       "      <td>128</td>\n",
       "      <td>LIAM</td>\n",
       "      <td>Always.</td>\n",
       "      <td>1</td>\n",
       "      <td>00:25:50</td>\n",
       "      <td></td>\n",
       "      <td></td>\n",
       "      <td>1</td>\n",
       "      <td>{always}</td>\n",
       "      <td>1</td>\n",
       "      <td>6.0</td>\n",
       "      <td>1.0</td>\n",
       "    </tr>\n",
       "    <tr>\n",
       "      <th>...</th>\n",
       "      <td>...</td>\n",
       "      <td>...</td>\n",
       "      <td>...</td>\n",
       "      <td>...</td>\n",
       "      <td>...</td>\n",
       "      <td>...</td>\n",
       "      <td>...</td>\n",
       "      <td>...</td>\n",
       "      <td>...</td>\n",
       "      <td>...</td>\n",
       "      <td>...</td>\n",
       "      <td>...</td>\n",
       "    </tr>\n",
       "    <tr>\n",
       "      <th>434000</th>\n",
       "      <td>2675</td>\n",
       "      <td>LAURA, TALIESIN, LIAM, MARISHA</td>\n",
       "      <td>Yes.</td>\n",
       "      <td>99</td>\n",
       "      <td>03:45:45</td>\n",
       "      <td></td>\n",
       "      <td></td>\n",
       "      <td>1</td>\n",
       "      <td>{yes}</td>\n",
       "      <td>1</td>\n",
       "      <td>3.0</td>\n",
       "      <td>1.0</td>\n",
       "    </tr>\n",
       "    <tr>\n",
       "      <th>434011</th>\n",
       "      <td>2686</td>\n",
       "      <td>ASHLEY, LAURA</td>\n",
       "      <td>Ooh!</td>\n",
       "      <td>99</td>\n",
       "      <td>03:46:03</td>\n",
       "      <td></td>\n",
       "      <td></td>\n",
       "      <td>1</td>\n",
       "      <td>{ooh}</td>\n",
       "      <td>1</td>\n",
       "      <td>3.0</td>\n",
       "      <td>1.0</td>\n",
       "    </tr>\n",
       "    <tr>\n",
       "      <th>434041</th>\n",
       "      <td>2716</td>\n",
       "      <td>LAURA</td>\n",
       "      <td>Wow.</td>\n",
       "      <td>99</td>\n",
       "      <td>03:47:20</td>\n",
       "      <td></td>\n",
       "      <td></td>\n",
       "      <td>1</td>\n",
       "      <td>{wow}</td>\n",
       "      <td>1</td>\n",
       "      <td>3.0</td>\n",
       "      <td>1.0</td>\n",
       "    </tr>\n",
       "    <tr>\n",
       "      <th>434042</th>\n",
       "      <td>2717</td>\n",
       "      <td>MARISHA</td>\n",
       "      <td>Wow.</td>\n",
       "      <td>99</td>\n",
       "      <td>03:47:22</td>\n",
       "      <td></td>\n",
       "      <td></td>\n",
       "      <td>1</td>\n",
       "      <td>{wow}</td>\n",
       "      <td>1</td>\n",
       "      <td>3.0</td>\n",
       "      <td>1.0</td>\n",
       "    </tr>\n",
       "    <tr>\n",
       "      <th>434049</th>\n",
       "      <td>2724</td>\n",
       "      <td>TRAVIS</td>\n",
       "      <td>Gross.</td>\n",
       "      <td>99</td>\n",
       "      <td>03:47:51</td>\n",
       "      <td></td>\n",
       "      <td></td>\n",
       "      <td>1</td>\n",
       "      <td>{gross}</td>\n",
       "      <td>1</td>\n",
       "      <td>5.0</td>\n",
       "      <td>1.0</td>\n",
       "    </tr>\n",
       "  </tbody>\n",
       "</table>\n",
       "<p>54944 rows × 12 columns</p>\n",
       "</div>"
      ],
      "text/plain": [
       "        index                            name   speech_turn episode timestamp  \\\n",
       "22         22                           LAURA          No.        1  00:06:59   \n",
       "47         47                         MARISHA     Napster.        1  00:09:09   \n",
       "59         59                         MARISHA  Afterwards.        1  00:12:27   \n",
       "81         81                            MATT    Everyone.        1  00:16:32   \n",
       "128       128                            LIAM      Always.        1  00:25:50   \n",
       "...       ...                             ...           ...     ...       ...   \n",
       "434000   2675  LAURA, TALIESIN, LIAM, MARISHA         Yes.       99  03:45:45   \n",
       "434011   2686                   ASHLEY, LAURA         Ooh!       99  03:46:03   \n",
       "434041   2716                           LAURA         Wow.       99  03:47:20   \n",
       "434042   2717                         MARISHA         Wow.       99  03:47:22   \n",
       "434049   2724                          TRAVIS       Gross.       99  03:47:51   \n",
       "\n",
       "       inaudible_speech nonspeech  word_count         types  type_count  \\\n",
       "22                                          1          {no}           1   \n",
       "47                                          1     {napster}           1   \n",
       "59                                          1  {afterwards}           1   \n",
       "81                                          1    {everyone}           1   \n",
       "128                                         1      {always}           1   \n",
       "...                 ...       ...         ...           ...         ...   \n",
       "434000                                      1         {yes}           1   \n",
       "434011                                      1         {ooh}           1   \n",
       "434041                                      1         {wow}           1   \n",
       "434042                                      1         {wow}           1   \n",
       "434049                                      1       {gross}           1   \n",
       "\n",
       "        avg_word_length  avg_sent_length  \n",
       "22                  2.0              1.0  \n",
       "47                  7.0              1.0  \n",
       "59                 10.0              1.0  \n",
       "81                  8.0              1.0  \n",
       "128                 6.0              1.0  \n",
       "...                 ...              ...  \n",
       "434000              3.0              1.0  \n",
       "434011              3.0              1.0  \n",
       "434041              3.0              1.0  \n",
       "434042              3.0              1.0  \n",
       "434049              5.0              1.0  \n",
       "\n",
       "[54944 rows x 12 columns]"
      ]
     },
     "execution_count": 33,
     "metadata": {},
     "output_type": "execute_result"
    }
   ],
   "source": [
    "#LOTS of single word sentences, not surprising!\n",
    "cr_df[cr_df['avg_sent_length']==1]"
   ]
  },
  {
   "cell_type": "code",
   "execution_count": 34,
   "id": "96f70e20",
   "metadata": {},
   "outputs": [
    {
     "data": {
      "text/html": [
       "<div>\n",
       "<style scoped>\n",
       "    .dataframe tbody tr th:only-of-type {\n",
       "        vertical-align: middle;\n",
       "    }\n",
       "\n",
       "    .dataframe tbody tr th {\n",
       "        vertical-align: top;\n",
       "    }\n",
       "\n",
       "    .dataframe thead th {\n",
       "        text-align: right;\n",
       "    }\n",
       "</style>\n",
       "<table border=\"1\" class=\"dataframe\">\n",
       "  <thead>\n",
       "    <tr style=\"text-align: right;\">\n",
       "      <th></th>\n",
       "      <th>index</th>\n",
       "      <th>name</th>\n",
       "      <th>speech_turn</th>\n",
       "      <th>episode</th>\n",
       "      <th>timestamp</th>\n",
       "      <th>inaudible_speech</th>\n",
       "      <th>nonspeech</th>\n",
       "      <th>word_count</th>\n",
       "      <th>types</th>\n",
       "      <th>type_count</th>\n",
       "      <th>avg_word_length</th>\n",
       "      <th>avg_sent_length</th>\n",
       "    </tr>\n",
       "  </thead>\n",
       "  <tbody>\n",
       "    <tr>\n",
       "      <th>354187</th>\n",
       "      <td>614</td>\n",
       "      <td>MATT</td>\n",
       "      <td>You spend some time with it on the first night...</td>\n",
       "      <td>78</td>\n",
       "      <td>00:41:55</td>\n",
       "      <td></td>\n",
       "      <td></td>\n",
       "      <td>116</td>\n",
       "      <td>{themselves, exit, false, with, on, and, less,...</td>\n",
       "      <td>71</td>\n",
       "      <td>3.939655</td>\n",
       "      <td>116.0</td>\n",
       "    </tr>\n",
       "  </tbody>\n",
       "</table>\n",
       "</div>"
      ],
      "text/plain": [
       "        index  name                                        speech_turn  \\\n",
       "354187    614  MATT  You spend some time with it on the first night...   \n",
       "\n",
       "       episode timestamp inaudible_speech nonspeech  word_count  \\\n",
       "354187      78  00:41:55                                    116   \n",
       "\n",
       "                                                    types  type_count  \\\n",
       "354187  {themselves, exit, false, with, on, and, less,...          71   \n",
       "\n",
       "        avg_word_length  avg_sent_length  \n",
       "354187         3.939655            116.0  "
      ]
     },
     "execution_count": 34,
     "metadata": {},
     "output_type": "execute_result"
    }
   ],
   "source": [
    "#but what about that one long sentence?\n",
    "cr_df[cr_df['avg_sent_length']==116]"
   ]
  },
  {
   "cell_type": "code",
   "execution_count": 35,
   "id": "5a765a1c",
   "metadata": {},
   "outputs": [
    {
     "data": {
      "text/plain": [
       "\"You spend some time with it on the first night as you're resting around the fire, the horses are off to the side, and you're a couple of false shots, the bolts themselves, it's weird to try and wedge them both in there, and it becomes less of a firing of two bolts simultaneously more than a single bolt becomes the delivery method, that springs and fires them outward as it releases itself, so it's like a crossbow bolt that doesn't have a tip, instead it has both of the bolas tied back and so when it hits the exit point of the crossbow, it releases it and sends it forward. \""
      ]
     },
     "execution_count": 35,
     "metadata": {},
     "output_type": "execute_result"
    }
   ],
   "source": [
    "cr_df.speech_turn[354187]"
   ]
  },
  {
   "cell_type": "markdown",
   "id": "319e4e88",
   "metadata": {},
   "source": [
    "This makes sense to me! Looking into it a bit further it looks like Sam was wanting to make some alterations to his character (Nott)'s crossbow which required a skill check. He rolled a 16 (not bad) and Matt narrated the results of his efforts.\n",
    "\n",
    "Not surprising that the narrator would narrate at length sometimes!"
   ]
  },
  {
   "cell_type": "markdown",
   "id": "ce1e30a9",
   "metadata": {},
   "source": [
    "### Average sentence length per speaker"
   ]
  },
  {
   "cell_type": "code",
   "execution_count": 36,
   "id": "69e0e680",
   "metadata": {},
   "outputs": [],
   "source": [
    "slen = pd.DataFrame(cr_df.groupby('name').avg_sent_length.mean())\n",
    "slen = slen.reset_index()\n",
    "slen['avg_sent_length'] = slen['avg_sent_length'].map(\"{:.2f}\".format)\n",
    "slen['avg_sent_length'] = slen['avg_sent_length'].map(float)\n",
    "slen = slen.sort_values('avg_sent_length', ascending=False)"
   ]
  },
  {
   "cell_type": "code",
   "execution_count": 37,
   "id": "834f6e0b",
   "metadata": {},
   "outputs": [
    {
     "data": {
      "text/html": [
       "<div>\n",
       "<style scoped>\n",
       "    .dataframe tbody tr th:only-of-type {\n",
       "        vertical-align: middle;\n",
       "    }\n",
       "\n",
       "    .dataframe tbody tr th {\n",
       "        vertical-align: top;\n",
       "    }\n",
       "\n",
       "    .dataframe thead th {\n",
       "        text-align: right;\n",
       "    }\n",
       "</style>\n",
       "<table border=\"1\" class=\"dataframe\">\n",
       "  <thead>\n",
       "    <tr style=\"text-align: right;\">\n",
       "      <th></th>\n",
       "      <th>name</th>\n",
       "      <th>avg_sent_length</th>\n",
       "    </tr>\n",
       "  </thead>\n",
       "  <tbody>\n",
       "    <tr>\n",
       "      <th>211</th>\n",
       "      <td>MATT</td>\n",
       "      <td>8.60</td>\n",
       "    </tr>\n",
       "    <tr>\n",
       "      <th>144</th>\n",
       "      <td>LIAM</td>\n",
       "      <td>6.94</td>\n",
       "    </tr>\n",
       "    <tr>\n",
       "      <th>312</th>\n",
       "      <td>TALIESIN</td>\n",
       "      <td>6.58</td>\n",
       "    </tr>\n",
       "    <tr>\n",
       "      <th>112</th>\n",
       "      <td>LAURA</td>\n",
       "      <td>6.08</td>\n",
       "    </tr>\n",
       "    <tr>\n",
       "      <th>337</th>\n",
       "      <td>TRAVIS</td>\n",
       "      <td>5.71</td>\n",
       "    </tr>\n",
       "    <tr>\n",
       "      <th>176</th>\n",
       "      <td>MARISHA</td>\n",
       "      <td>5.62</td>\n",
       "    </tr>\n",
       "    <tr>\n",
       "      <th>260</th>\n",
       "      <td>SAM</td>\n",
       "      <td>5.57</td>\n",
       "    </tr>\n",
       "    <tr>\n",
       "      <th>16</th>\n",
       "      <td>ASHLEY</td>\n",
       "      <td>5.26</td>\n",
       "    </tr>\n",
       "  </tbody>\n",
       "</table>\n",
       "</div>"
      ],
      "text/plain": [
       "         name  avg_sent_length\n",
       "211      MATT             8.60\n",
       "144      LIAM             6.94\n",
       "312  TALIESIN             6.58\n",
       "112     LAURA             6.08\n",
       "337    TRAVIS             5.71\n",
       "176   MARISHA             5.62\n",
       "260       SAM             5.57\n",
       "16     ASHLEY             5.26"
      ]
     },
     "execution_count": 37,
     "metadata": {},
     "output_type": "execute_result"
    }
   ],
   "source": [
    "avgsents = slen[slen['name'].isin(['MATT', 'LIAM', 'TALIESIN', 'LAURA', 'TRAVIS', 'MARISHA', 'SAM', 'ASHLEY'])]\n",
    "avgsents"
   ]
  },
  {
   "cell_type": "code",
   "execution_count": 38,
   "id": "46664361",
   "metadata": {},
   "outputs": [
    {
     "data": {
      "image/png": "[encoded data removed]",
      "text/plain": [
       "<Figure size 640x480 with 1 Axes>"
      ]
     },
     "metadata": {},
     "output_type": "display_data"
    }
   ],
   "source": [
    "plt.pie(avgsents['avg_sent_length'], labels=avgsents['name'], autopct='%1.1f%%')\n",
    "plt.axis('equal')\n",
    "plt.title('Average Sentence Length per Participant')\n",
    "plt.show()"
   ]
  },
  {
   "cell_type": "code",
   "execution_count": 39,
   "id": "cce80550",
   "metadata": {},
   "outputs": [
    {
     "data": {
      "image/png": "[encoded data removed]",
      "text/plain": [
       "<Figure size 640x480 with 1 Axes>"
      ]
     },
     "metadata": {},
     "output_type": "display_data"
    }
   ],
   "source": [
    "slenplot = sns.barplot(avgsents, x=\"name\", y=\"avg_sent_length\", hue=\"avg_sent_length\", dodge=False)\n",
    "sns.move_legend(slenplot, \"upper left\", bbox_to_anchor=(1, 1))\n",
    "plt.show()"
   ]
  },
  {
   "cell_type": "markdown",
   "id": "14782f2b",
   "metadata": {},
   "source": [
    "reasonable to do something like avg sentence length of 5+ (to drop instances of single word sentences like \"yeah\" or \"okay\") - look into who typically has longer sentences overall. \n",
    "\n",
    "also write up an analysis on this too"
   ]
  },
  {
   "cell_type": "markdown",
   "id": "229814a3",
   "metadata": {},
   "source": [
    "## Initial Conlusions\n",
    "\n",
    "djkd"
   ]
  },
  {
   "cell_type": "markdown",
   "id": "c3bfa534",
   "metadata": {},
   "source": [
    "## Dividing the data by group\n",
    "\n",
    "write about why and what and idk whatever"
   ]
  },
  {
   "cell_type": "code",
   "execution_count": 40,
   "id": "e4a89fdf",
   "metadata": {},
   "outputs": [],
   "source": [
    "ashley = pd.DataFrame(cr_df[cr_df['name']=='ASHLEY'])\n",
    "matt = pd.DataFrame(cr_df[cr_df['name']=='MATT'])\n",
    "marisha = pd.DataFrame(cr_df[cr_df['name']=='MARISHA'])\n",
    "taliesin = pd.DataFrame(cr_df[cr_df['name']=='TALIESIN'])\n",
    "sam = pd.DataFrame(cr_df[cr_df['name']=='SAM'])\n",
    "liam = pd.DataFrame(cr_df[cr_df['name']=='LIAM'])\n",
    "laura = pd.DataFrame(cr_df[cr_df['name']=='LAURA'])\n",
    "travis = pd.DataFrame(cr_df[cr_df['name']=='TRAVIS'])"
   ]
  },
  {
   "cell_type": "code",
   "execution_count": 41,
   "id": "925a8caa",
   "metadata": {},
   "outputs": [
    {
     "data": {
      "text/plain": [
       "LAURA      59987\n",
       "MARISHA    49279\n",
       "ASHLEY     17660\n",
       "Name: name, dtype: int64"
      ]
     },
     "execution_count": 41,
     "metadata": {},
     "output_type": "execute_result"
    }
   ],
   "source": [
    "women = [ashley, marisha, laura]\n",
    "women_df = pd.concat(women)\n",
    "women_df['name'].value_counts()"
   ]
  },
  {
   "cell_type": "code",
   "execution_count": 42,
   "id": "7e47988b",
   "metadata": {},
   "outputs": [],
   "source": [
    "men = [taliesin, sam, liam, travis]\n",
    "men_df = pd.concat(men)"
   ]
  },
  {
   "cell_type": "markdown",
   "id": "4cb9bc9b",
   "metadata": {},
   "source": [
    "and the DM data is obviously just..... matt"
   ]
  },
  {
   "cell_type": "markdown",
   "id": "0521a7bc",
   "metadata": {},
   "source": [
    "## Re-measuring\n",
    "\n",
    "Who is talking more between groups, who says more words, has longer sentences? "
   ]
  },
  {
   "cell_type": "markdown",
   "id": "caafdd14",
   "metadata": {},
   "source": [
    "### Lines"
   ]
  },
  {
   "cell_type": "code",
   "execution_count": 43,
   "id": "45c36382",
   "metadata": {},
   "outputs": [
    {
     "data": {
      "text/plain": [
       "0    123711\n",
       "Name: speech_turn, dtype: int64"
      ]
     },
     "execution_count": 43,
     "metadata": {},
     "output_type": "execute_result"
    }
   ],
   "source": [
    "#total number of lines/speech events for all women\n",
    "womenlcount = women_df[['speech_turn']].copy()\n",
    "womenlcount = womenlcount[womenlcount['speech_turn'] != '']\n",
    "womenlcount['val'] = 'women'\n",
    "womenlcount = pd.DataFrame(womenlcount['speech_turn'].groupby(womenlcount['val']).count())\n",
    "womenlcount = womenlcount.reset_index()\n",
    "womenlcount['speech_turn']"
   ]
  },
  {
   "cell_type": "code",
   "execution_count": 44,
   "id": "f10354ef",
   "metadata": {},
   "outputs": [
    {
     "data": {
      "text/plain": [
       "0    178510\n",
       "Name: speech_turn, dtype: int64"
      ]
     },
     "execution_count": 44,
     "metadata": {},
     "output_type": "execute_result"
    }
   ],
   "source": [
    "#total number of lines/speech events for men, not including the DM\n",
    "menlcount = men_df[['speech_turn']].copy()\n",
    "menlcount = menlcount[menlcount['speech_turn'] != '']\n",
    "menlcount['val'] = 'men'\n",
    "menlcount = pd.DataFrame(menlcount['speech_turn'].groupby(menlcount['val']).count())\n",
    "menlcount = menlcount.reset_index()\n",
    "menlcount['speech_turn']"
   ]
  },
  {
   "cell_type": "code",
   "execution_count": 45,
   "id": "c8b2d923",
   "metadata": {},
   "outputs": [
    {
     "data": {
      "text/plain": [
       "0    109579\n",
       "Name: speech_turn, dtype: int64"
      ]
     },
     "execution_count": 45,
     "metadata": {},
     "output_type": "execute_result"
    }
   ],
   "source": [
    "mattlcount = matt[['speech_turn']].copy()\n",
    "mattlcount = mattlcount[mattlcount['speech_turn'] != '']\n",
    "mattlcount['val'] = 'DM'\n",
    "mattlcount = pd.DataFrame(mattlcount['speech_turn'].groupby(mattlcount['val']).count())\n",
    "mattlcount = mattlcount.reset_index()\n",
    "mattlcount['speech_turn']"
   ]
  },
  {
   "cell_type": "markdown",
   "id": "88b76c1e",
   "metadata": {},
   "source": [
    "Now, let's keep in mind the *total* lines we already calculated."
   ]
  },
  {
   "cell_type": "code",
   "execution_count": 46,
   "id": "41b2a66e",
   "metadata": {},
   "outputs": [
    {
     "data": {
      "text/plain": [
       "422576"
      ]
     },
     "execution_count": 46,
     "metadata": {},
     "output_type": "execute_result"
    }
   ],
   "source": [
    "#from the beginning of the notebook, blank lines already removed\n",
    "lcount['speech_turn'].count()"
   ]
  },
  {
   "cell_type": "code",
   "execution_count": 47,
   "id": "e9bee8c1",
   "metadata": {},
   "outputs": [],
   "source": [
    "mnw=[womenlcount, menlcount]\n",
    "dmnw = [womenlcount, menlcount, mattlcount]\n",
    "\n",
    "mnwlines = pd.concat(mnw)\n",
    "all_lines = pd.concat(dmnw)"
   ]
  },
  {
   "cell_type": "code",
   "execution_count": 48,
   "id": "14a479f6",
   "metadata": {},
   "outputs": [
    {
     "data": {
      "text/plain": [
       "Text(0.5, 1.0, 'Total Lines by Gender (Including DM)')"
      ]
     },
     "execution_count": 48,
     "metadata": {},
     "output_type": "execute_result"
    },
    {
     "data": {
      "image/png": "[encoded data removed]",
      "text/plain": [
       "<Figure size 1000x1000 with 2 Axes>"
      ]
     },
     "metadata": {},
     "output_type": "display_data"
    }
   ],
   "source": [
    "fig, (ax1,ax2) = plt.subplots(1,2,figsize=(10,10))\n",
    "\n",
    "labels = mnwlines['val']\n",
    "values = mnwlines['speech_turn']\n",
    "ax1.pie(values,labels = labels, autopct = '%1.1f%%') #plot first pie\n",
    "ax1.set_title('Total Lines by Gender (Excluding DM)')\n",
    "\n",
    "\n",
    "labels = all_lines['val']\n",
    "values = all_lines['speech_turn']\n",
    "ax2.pie(values,labels = labels, autopct = '%1.1f%%') #plot second pie\n",
    "ax2.set_title('Total Lines by Gender (Including DM)')\n"
   ]
  },
  {
   "cell_type": "markdown",
   "id": "ddaf7ed2",
   "metadata": {},
   "source": [
    "### % of totals\n",
    "\n",
    "- Women players (3 people) in Critical Role Campaign 2 contributed **29.3%** of all speech events \n",
    "- Men players (4 people) in Critical Role Campaign 2 contributed **42.25%** of all speech events\n",
    "- Matt, the DM, singularly contributed almost **26%** of all speech events\n",
    "\n",
    "Men are producing 12.95% more lines than women in total. <br>\n",
    "Between only men and women, men are producing 18.2% more lines than women<br>\n",
    "*(keeping in mind again, there is one more man than there are women)*"
   ]
  },
  {
   "cell_type": "markdown",
   "id": "aca1ae1a",
   "metadata": {},
   "source": [
    "word count, word length, sent count, sent length, "
   ]
  },
  {
   "cell_type": "markdown",
   "id": "1f435ad0",
   "metadata": {},
   "source": [
    "### Word Count"
   ]
  },
  {
   "cell_type": "code",
   "execution_count": 49,
   "id": "1681404b",
   "metadata": {},
   "outputs": [
    {
     "data": {
      "text/plain": [
       "0    865969\n",
       "Name: word_count, dtype: int64"
      ]
     },
     "execution_count": 49,
     "metadata": {},
     "output_type": "execute_result"
    }
   ],
   "source": [
    "womwcount = women_df[['word_count']].copy()\n",
    "womwcount['val']='women'\n",
    "womwcount = pd.DataFrame(womwcount['word_count'].groupby(womwcount['val']).sum())\n",
    "womwcount = womwcount.reset_index()\n",
    "womwcount.word_count"
   ]
  },
  {
   "cell_type": "code",
   "execution_count": 50,
   "id": "8fec472e",
   "metadata": {},
   "outputs": [
    {
     "data": {
      "text/plain": [
       "0    1349707\n",
       "Name: word_count, dtype: int64"
      ]
     },
     "execution_count": 50,
     "metadata": {},
     "output_type": "execute_result"
    }
   ],
   "source": [
    "menwcount = men_df[['word_count']].copy()\n",
    "menwcount['val']='men'\n",
    "menwcount = pd.DataFrame(menwcount['word_count'].groupby(menwcount['val']).sum())\n",
    "menwcount = menwcount.reset_index()\n",
    "menwcount.word_count"
   ]
  },
  {
   "cell_type": "code",
   "execution_count": 51,
   "id": "d5b2a2fd",
   "metadata": {},
   "outputs": [
    {
     "data": {
      "text/plain": [
       "0    1385768\n",
       "Name: word_count, dtype: int64"
      ]
     },
     "execution_count": 51,
     "metadata": {},
     "output_type": "execute_result"
    }
   ],
   "source": [
    "dmwcount = matt[['word_count']].copy()\n",
    "dmwcount['val']='DM'\n",
    "dmwcount = pd.DataFrame(dmwcount['word_count'].groupby(dmwcount['val']).sum())\n",
    "dmwcount = dmwcount.reset_index()\n",
    "dmwcount.word_count"
   ]
  },
  {
   "cell_type": "code",
   "execution_count": 52,
   "id": "419a4ee7",
   "metadata": {},
   "outputs": [],
   "source": [
    "mnwc = [womwcount, menwcount]\n",
    "dmnwc = [womwcount, menwcount, dmwcount]\n",
    "\n",
    "mnwcount = pd.concat(mnwc)\n",
    "dmnwcount = pd.concat(dmnwc)"
   ]
  },
  {
   "cell_type": "code",
   "execution_count": 53,
   "id": "3b8ed773",
   "metadata": {},
   "outputs": [
    {
     "data": {
      "text/plain": [
       "women    1\n",
       "men      1\n",
       "Name: val, dtype: int64"
      ]
     },
     "execution_count": 53,
     "metadata": {},
     "output_type": "execute_result"
    }
   ],
   "source": [
    "mnwcount['val'].value_counts()"
   ]
  },
  {
   "cell_type": "code",
   "execution_count": 54,
   "id": "ae813780",
   "metadata": {},
   "outputs": [
    {
     "data": {
      "text/plain": [
       "Text(0.5, 1.0, 'Total Words by Gender (Including DM)')"
      ]
     },
     "execution_count": 54,
     "metadata": {},
     "output_type": "execute_result"
    },
    {
     "data": {
      "image/png": "[encoded data removed]",
      "text/plain": [
       "<Figure size 1000x1000 with 2 Axes>"
      ]
     },
     "metadata": {},
     "output_type": "display_data"
    }
   ],
   "source": [
    "fig, (ax1,ax2) = plt.subplots(1,2,figsize=(10,10))\n",
    "\n",
    "labels = mnwcount['val']\n",
    "values = mnwcount['word_count']\n",
    "ax1.pie(values,labels = labels, autopct = '%1.1f%%') #plot first pie\n",
    "ax1.set_title('Total Words by Gender (Excluding DM)')\n",
    "\n",
    "\n",
    "labels = dmnwcount['val']\n",
    "values = dmnwcount['word_count']\n",
    "ax2.pie(values,labels = labels, autopct = '%1.1f%%') #plot second pie\n",
    "ax2.set_title('Total Words by Gender (Including DM)')"
   ]
  },
  {
   "cell_type": "markdown",
   "id": "b3ff2a8d",
   "metadata": {},
   "source": [
    "Average word lengths were not that interesting, ~3.6 for men and women and ~3.8 for the DM. [This](https://wolfgarbe.medium.com/the-average-word-length-in-english-language-is-4-7-35750344870f) article states that the average word length in the English language is 4.7 characters. CR words on average are pretty short! Not surprising, considering the number of function words being repeated in the data"
   ]
  },
  {
   "cell_type": "markdown",
   "id": "7047179c",
   "metadata": {},
   "source": [
    "### Sentence Length"
   ]
  },
  {
   "cell_type": "code",
   "execution_count": 55,
   "id": "a43b414c",
   "metadata": {},
   "outputs": [
    {
     "data": {
      "text/plain": [
       "0    5.786185\n",
       "Name: avg_sent_length, dtype: float64"
      ]
     },
     "execution_count": 55,
     "metadata": {},
     "output_type": "execute_result"
    }
   ],
   "source": [
    "womscount = women_df[['avg_sent_length']].copy()\n",
    "womscount['val']='women'\n",
    "womscount = pd.DataFrame(womscount['avg_sent_length'].groupby(womscount['val']).mean())\n",
    "womscount = womscount.reset_index()\n",
    "womscount.avg_sent_length"
   ]
  },
  {
   "cell_type": "code",
   "execution_count": 56,
   "id": "3e87b134",
   "metadata": {},
   "outputs": [
    {
     "data": {
      "text/plain": [
       "0    6.139615\n",
       "Name: avg_sent_length, dtype: float64"
      ]
     },
     "execution_count": 56,
     "metadata": {},
     "output_type": "execute_result"
    }
   ],
   "source": [
    "menscount = men_df[['avg_sent_length']].copy()\n",
    "menscount['val']='men'\n",
    "menscount = pd.DataFrame(menscount['avg_sent_length'].groupby(menscount['val']).mean())\n",
    "menscount = menscount.reset_index()\n",
    "menscount.avg_sent_length"
   ]
  },
  {
   "cell_type": "code",
   "execution_count": 57,
   "id": "2c02208d",
   "metadata": {},
   "outputs": [
    {
     "data": {
      "text/plain": [
       "0    8.596282\n",
       "Name: avg_sent_length, dtype: float64"
      ]
     },
     "execution_count": 57,
     "metadata": {},
     "output_type": "execute_result"
    }
   ],
   "source": [
    "mattscount = matt[['avg_sent_length']].copy()\n",
    "mattscount['val']='DM'\n",
    "mattscount = pd.DataFrame(mattscount['avg_sent_length'].groupby(mattscount['val']).mean())\n",
    "mattscount = mattscount.reset_index()\n",
    "mattscount.avg_sent_length"
   ]
  },
  {
   "cell_type": "code",
   "execution_count": 58,
   "id": "b24f33ea",
   "metadata": {},
   "outputs": [],
   "source": [
    "dmnws = [womscount, menscount, mattscount]\n",
    "\n",
    "dmnwslen = pd.concat(dmnws)"
   ]
  },
  {
   "cell_type": "code",
   "execution_count": 59,
   "id": "0ecc0801",
   "metadata": {},
   "outputs": [
    {
     "data": {
      "text/plain": [
       "<Axes: xlabel='val', ylabel='avg_sent_length'>"
      ]
     },
     "execution_count": 59,
     "metadata": {},
     "output_type": "execute_result"
    },
    {
     "data": {
      "image/png": "[encoded data removed]",
      "text/plain": [
       "<Figure size 640x480 with 1 Axes>"
      ]
     },
     "metadata": {},
     "output_type": "display_data"
    }
   ],
   "source": [
    "sns.barplot(dmnwslen, x=\"val\", y=\"avg_sent_length\", hue=\"avg_sent_length\", dodge=False)"
   ]
  },
  {
   "cell_type": "code",
   "execution_count": null,
   "id": "c402a6fe",
   "metadata": {},
   "outputs": [],
   "source": []
  },
  {
   "cell_type": "code",
   "execution_count": null,
   "id": "3af7c965",
   "metadata": {},
   "outputs": [],
   "source": []
  },
  {
   "cell_type": "markdown",
   "id": "b5f3b9ce",
   "metadata": {},
   "source": [
    "## Hedging"
   ]
  },
  {
   "cell_type": "code",
   "execution_count": null,
   "id": "ca6d0ea0",
   "metadata": {},
   "outputs": [],
   "source": []
  },
  {
   "cell_type": "markdown",
   "id": "390d1d94",
   "metadata": {},
   "source": [
    "Phrases to consider\n",
    "\n",
    "I guess\n",
    "I think\n",
    "could be\n",
    "\n",
    "maybe\n",
    "might\n",
    "perhaps\n",
    "possibly\n",
    "appears\n",
    "seems\n",
    "suggests\n",
    "tends"
   ]
  },
  {
   "cell_type": "code",
   "execution_count": null,
   "id": "f041dc29",
   "metadata": {},
   "outputs": [],
   "source": []
  },
  {
   "cell_type": "code",
   "execution_count": null,
   "id": "a831851a",
   "metadata": {},
   "outputs": [],
   "source": []
  },
  {
   "cell_type": "code",
   "execution_count": null,
   "id": "c6f61c69",
   "metadata": {},
   "outputs": [],
   "source": []
  },
  {
   "cell_type": "code",
   "execution_count": 60,
   "id": "b3aa1f53",
   "metadata": {},
   "outputs": [
    {
     "data": {
      "text/plain": [
       "112"
      ]
     },
     "execution_count": 60,
     "metadata": {},
     "output_type": "execute_result"
    }
   ],
   "source": [
    "matt['speech_turn'].str.count(r'[H|h]ow do you want to do this').sum()"
   ]
  },
  {
   "cell_type": "code",
   "execution_count": null,
   "id": "940676fa",
   "metadata": {},
   "outputs": [],
   "source": []
  },
  {
   "cell_type": "markdown",
   "id": "7fe101aa",
   "metadata": {},
   "source": [
    "## Jargon"
   ]
  },
  {
   "cell_type": "code",
   "execution_count": 61,
   "id": "775e3d4e",
   "metadata": {},
   "outputs": [
    {
     "data": {
      "text/plain": [
       "['tarhun', 'enialis', 'armorsmith', 'himo', 'tieflings']"
      ]
     },
     "execution_count": 61,
     "metadata": {},
     "output_type": "execute_result"
    }
   ],
   "source": [
    "jargon = pd.read_pickle('../pickle_jar/jargonlist.pkl') #jargon list as created in PHB_Jargon notebook\n",
    "jargon[:5]"
   ]
  },
  {
   "cell_type": "code",
   "execution_count": 62,
   "id": "224b4905",
   "metadata": {},
   "outputs": [],
   "source": [
    "womlist = women_df['speech_turn'].tolist()\n",
    "womlist = [w.lower() if isinstance(w, str) else w for w in womlist]\n",
    "womtoks = [nltk.word_tokenize(s) for s in womlist]\n",
    "womtoks = list(itertools.chain(*womtoks))"
   ]
  },
  {
   "cell_type": "code",
   "execution_count": 63,
   "id": "8a9fcc3d",
   "metadata": {},
   "outputs": [
    {
     "data": {
      "text/plain": [
       "264"
      ]
     },
     "execution_count": 63,
     "metadata": {},
     "output_type": "execute_result"
    }
   ],
   "source": [
    "womjarg = [w for w in womtoks if w in jargon]\n",
    "len(womjarg)"
   ]
  },
  {
   "cell_type": "code",
   "execution_count": 64,
   "id": "9a269956",
   "metadata": {},
   "outputs": [],
   "source": [
    "menlist = men_df['speech_turn'].tolist()\n",
    "menlist = [w.lower() if isinstance(w, str) else w for w in menlist]\n",
    "mentoks = [nltk.word_tokenize(s) for s in menlist]\n",
    "mentoks = list(itertools.chain(*mentoks))"
   ]
  },
  {
   "cell_type": "code",
   "execution_count": 65,
   "id": "78bd7940",
   "metadata": {},
   "outputs": [
    {
     "data": {
      "text/plain": [
       "385"
      ]
     },
     "execution_count": 65,
     "metadata": {},
     "output_type": "execute_result"
    }
   ],
   "source": [
    "menjarg = [w for w in mentoks if w in jargon]\n",
    "len(menjarg)"
   ]
  },
  {
   "cell_type": "code",
   "execution_count": 66,
   "id": "0c603156",
   "metadata": {},
   "outputs": [],
   "source": [
    "mattlist = matt['speech_turn'].tolist()\n",
    "mattlist = [w.lower() if isinstance(w, str) else w for w in mattlist]\n",
    "matttoks = [nltk.word_tokenize(s) for s in mattlist]\n",
    "matttoks = list(itertools.chain(*matttoks))"
   ]
  },
  {
   "cell_type": "code",
   "execution_count": 67,
   "id": "add9fd7a",
   "metadata": {},
   "outputs": [
    {
     "data": {
      "text/plain": [
       "364"
      ]
     },
     "execution_count": 67,
     "metadata": {},
     "output_type": "execute_result"
    }
   ],
   "source": [
    "mattjarg = [w for w in matttoks if w in jargon]\n",
    "len(mattjarg)"
   ]
  },
  {
   "cell_type": "code",
   "execution_count": 68,
   "id": "1a5e9fb5",
   "metadata": {},
   "outputs": [
    {
     "name": "stdout",
     "output_type": "stream",
     "text": [
      "['revivify', 'revivify', 'revivify', 'cantrips', 'revivify', 'thaumaturgy', 'cantrips', 'revivify', 'revivify', 'tieflings']\n",
      "['tiefling', 'tharizdun', 'tarrasque', 'agathys', 'agathys', 'cantrip', 'cantrip', 'agathys', 'feywild', 'tiefling']\n",
      "['cantrip', 'dragonborn', 'shortsword', 'dragonborn', 'agathys', 'cantrip', 'revivify', 'revivify', 'undercommon', 'undercommon']\n"
     ]
    }
   ],
   "source": [
    "print(womjarg[-10:])\n",
    "print(menjarg[-10:])\n",
    "print(mattjarg[-10:])"
   ]
  },
  {
   "cell_type": "code",
   "execution_count": null,
   "id": "62521bba",
   "metadata": {},
   "outputs": [],
   "source": []
  },
  {
   "cell_type": "code",
   "execution_count": null,
   "id": "952d9250",
   "metadata": {},
   "outputs": [],
   "source": []
  },
  {
   "cell_type": "code",
   "execution_count": 69,
   "id": "5772dd62",
   "metadata": {},
   "outputs": [
    {
     "ename": "NameError",
     "evalue": "name 'mnwslen' is not defined",
     "output_type": "error",
     "traceback": [
      "\u001b[1;31m---------------------------------------------------------------------------\u001b[0m",
      "\u001b[1;31mNameError\u001b[0m                                 Traceback (most recent call last)",
      "Cell \u001b[1;32mIn[69], line 3\u001b[0m\n\u001b[0;32m      1\u001b[0m fig, (ax1,ax2) \u001b[38;5;241m=\u001b[39m plt\u001b[38;5;241m.\u001b[39msubplots(\u001b[38;5;241m1\u001b[39m,\u001b[38;5;241m2\u001b[39m,figsize\u001b[38;5;241m=\u001b[39m(\u001b[38;5;241m10\u001b[39m,\u001b[38;5;241m10\u001b[39m))\n\u001b[1;32m----> 3\u001b[0m labels \u001b[38;5;241m=\u001b[39m mnwslen[\u001b[38;5;124m'\u001b[39m\u001b[38;5;124mval\u001b[39m\u001b[38;5;124m'\u001b[39m]\n\u001b[0;32m      4\u001b[0m values \u001b[38;5;241m=\u001b[39m mnwslen[\u001b[38;5;124m'\u001b[39m\u001b[38;5;124mavg_sent_length\u001b[39m\u001b[38;5;124m'\u001b[39m]\n\u001b[0;32m      5\u001b[0m ax1\u001b[38;5;241m.\u001b[39mpie(values,labels \u001b[38;5;241m=\u001b[39m labels, autopct \u001b[38;5;241m=\u001b[39m \u001b[38;5;124m'\u001b[39m\u001b[38;5;132;01m%1.1f\u001b[39;00m\u001b[38;5;132;01m%%\u001b[39;00m\u001b[38;5;124m'\u001b[39m) \u001b[38;5;66;03m#plot first pie\u001b[39;00m\n",
      "\u001b[1;31mNameError\u001b[0m: name 'mnwslen' is not defined"
     ]
    },
    {
     "data": {
      "image/png": "[encoded data removed]",
      "text/plain": [
       "<Figure size 1000x1000 with 2 Axes>"
      ]
     },
     "metadata": {},
     "output_type": "display_data"
    }
   ],
   "source": [
    "fig, (ax1,ax2) = plt.subplots(1,2,figsize=(10,10))\n",
    "\n",
    "labels = mnwslen['val']\n",
    "values = mnwslen['avg_sent_length']\n",
    "ax1.pie(values,labels = labels, autopct = '%1.1f%%') #plot first pie\n",
    "ax1.set_title('Average Sent Length by Gender (Excluding DM)')\n",
    "\n",
    "\n",
    "labels = dmnwslen['val']\n",
    "values = dmnwslen['avg_sent_length']\n",
    "ax2.pie(values,labels = labels, autopct = '%1.1f%%') #plot second pie\n",
    "ax2.set_title('Average Sent Length by Gender (Including DM)')"
   ]
  },
  {
   "cell_type": "code",
   "execution_count": null,
   "id": "5eab9e79",
   "metadata": {},
   "outputs": [],
   "source": []
  },
  {
   "cell_type": "markdown",
   "id": "25cd2ca5",
   "metadata": {},
   "source": [
    "## Interruptions"
   ]
  },
  {
   "cell_type": "code",
   "execution_count": null,
   "id": "b188d72d",
   "metadata": {},
   "outputs": [],
   "source": []
  },
  {
   "cell_type": "code",
   "execution_count": null,
   "id": "27e78067",
   "metadata": {},
   "outputs": [],
   "source": [
    "ep2 = cr_df[cr_df['episode']=='2']\n",
    "ep2[-130:-120]"
   ]
  },
  {
   "cell_type": "markdown",
   "id": "9d461453",
   "metadata": {},
   "source": [
    "a link to the moment of chaos, just for comparison - this is a good reference point for chaos and overlapping speech\n",
    "\n",
    "https://youtu.be/MPELLuQXVcE?si=13too39HcHj5Cfow&t=14475"
   ]
  },
  {
   "cell_type": "code",
   "execution_count": null,
   "id": "2258dc3c",
   "metadata": {},
   "outputs": [],
   "source": []
  },
  {
   "cell_type": "code",
   "execution_count": null,
   "id": "7fb5b955",
   "metadata": {},
   "outputs": [],
   "source": []
  },
  {
   "cell_type": "code",
   "execution_count": null,
   "id": "38364e59",
   "metadata": {},
   "outputs": [],
   "source": [
    "travis['speech_turn'].str.count(r'Eldritch Blast').sum()"
   ]
  },
  {
   "cell_type": "code",
   "execution_count": null,
   "id": "bc1c3811",
   "metadata": {},
   "outputs": [],
   "source": [
    "liam['speech_turn'].str.count(r'Ja').sum()"
   ]
  },
  {
   "cell_type": "code",
   "execution_count": null,
   "id": "fe227693",
   "metadata": {},
   "outputs": [],
   "source": []
  },
  {
   "cell_type": "code",
   "execution_count": null,
   "id": "440967b6",
   "metadata": {},
   "outputs": [],
   "source": []
  }
 ],
 "metadata": {
  "kernelspec": {
   "display_name": "DataSci",
   "language": "python",
   "name": "datasci"
  },
  "language_info": {
   "codemirror_mode": {
    "name": "ipython",
    "version": 3
   },
   "file_extension": ".py",
   "mimetype": "text/x-python",
   "name": "python",
   "nbconvert_exporter": "python",
   "pygments_lexer": "ipython3",
   "version": "3.11.4"
  }
 },
 "nbformat": 4,
 "nbformat_minor": 5
}
